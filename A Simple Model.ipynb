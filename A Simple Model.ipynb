{
 "cells": [
  {
   "cell_type": "code",
   "execution_count": 1,
   "metadata": {
    "scrolled": true
   },
   "outputs": [
    {
     "name": "stdout",
     "output_type": "stream",
     "text": [
      "Collecting pip\n",
      "  Downloading https://files.pythonhosted.org/packages/5c/e0/be401c003291b56efc55aeba6a80ab790d3d4cece2778288d65323009420/pip-19.1.1-py2.py3-none-any.whl (1.4MB)\n",
      "Installing collected packages: pip\n",
      "Successfully installed pip-19.1.1\n"
     ]
    },
    {
     "name": "stderr",
     "output_type": "stream",
     "text": [
      "distributed 1.21.8 requires msgpack, which is not installed.\n",
      "You are using pip version 10.0.1, however version 19.1.1 is available.\n",
      "You should consider upgrading via the 'python -m pip install --upgrade pip' command.\n"
     ]
    },
    {
     "name": "stdout",
     "output_type": "stream",
     "text": [
      "Collecting keras\n",
      "  Downloading https://files.pythonhosted.org/packages/5e/10/aa32dad071ce52b5502266b5c659451cfd6ffcbf14e6c8c4f16c0ff5aaab/Keras-2.2.4-py2.py3-none-any.whl (312kB)\n",
      "Requirement already satisfied: six>=1.9.0 in c:\\program files\\anaconda3\\lib\\site-packages (from keras) (1.11.0)\n",
      "Requirement already satisfied: h5py in c:\\program files\\anaconda3\\lib\\site-packages (from keras) (2.7.1)\n",
      "Requirement already satisfied: numpy>=1.9.1 in c:\\program files\\anaconda3\\lib\\site-packages (from keras) (1.14.3)\n",
      "Requirement already satisfied: pyyaml in c:\\program files\\anaconda3\\lib\\site-packages (from keras) (3.12)\n",
      "Collecting keras-applications>=1.0.6 (from keras)\n",
      "  Downloading https://files.pythonhosted.org/packages/71/e3/19762fdfc62877ae9102edf6342d71b28fbfd9dea3d2f96a882ce099b03f/Keras_Applications-1.0.8-py3-none-any.whl (50kB)\n",
      "Requirement already satisfied: scipy>=0.14 in c:\\program files\\anaconda3\\lib\\site-packages (from keras) (1.1.0)\n",
      "Collecting keras-preprocessing>=1.0.5 (from keras)\n",
      "  Downloading https://files.pythonhosted.org/packages/28/6a/8c1f62c37212d9fc441a7e26736df51ce6f0e38455816445471f10da4f0a/Keras_Preprocessing-1.1.0-py2.py3-none-any.whl (41kB)\n",
      "Installing collected packages: keras-applications, keras-preprocessing, keras\n",
      "Successfully installed keras-2.2.4 keras-applications-1.0.8 keras-preprocessing-1.1.0\n",
      "Collecting tensorflow\n",
      "  Downloading https://files.pythonhosted.org/packages/bf/58/34bfa8fa17f86333361172b3b502e805195180f19a7496ad0f6149138d55/tensorflow-1.13.1-cp36-cp36m-win_amd64.whl (63.1MB)\n",
      "Collecting protobuf>=3.6.1 (from tensorflow)\n",
      "  Downloading https://files.pythonhosted.org/packages/d4/59/ec6c6075dd628f2efd33dbe11b259e63e1de7cbc26e45b38de767df528d4/protobuf-3.8.0-cp36-cp36m-win_amd64.whl (1.1MB)\n",
      "Collecting termcolor>=1.1.0 (from tensorflow)\n",
      "  Downloading https://files.pythonhosted.org/packages/8a/48/a76be51647d0eb9f10e2a4511bf3ffb8cc1e6b14e9e4fab46173aa79f981/termcolor-1.1.0.tar.gz\n",
      "Collecting gast>=0.2.0 (from tensorflow)\n",
      "  Downloading https://files.pythonhosted.org/packages/4e/35/11749bf99b2d4e3cceb4d55ca22590b0d7c2c62b9de38ac4a4a7f4687421/gast-0.2.2.tar.gz\n",
      "Collecting absl-py>=0.1.6 (from tensorflow)\n",
      "  Downloading https://files.pythonhosted.org/packages/da/3f/9b0355080b81b15ba6a9ffcf1f5ea39e307a2778b2f2dc8694724e8abd5b/absl-py-0.7.1.tar.gz (99kB)\n",
      "Requirement already satisfied: wheel>=0.26 in c:\\program files\\anaconda3\\lib\\site-packages (from tensorflow) (0.31.1)\n",
      "Requirement already satisfied: keras-preprocessing>=1.0.5 in c:\\users\\mayingzh\\appdata\\roaming\\python\\python36\\site-packages (from tensorflow) (1.1.0)\n",
      "Collecting grpcio>=1.8.6 (from tensorflow)\n",
      "  Downloading https://files.pythonhosted.org/packages/4c/6a/e83233ed636bdf8668f0e79897fd70bce04869482dd88f3cfc4c42404fb2/grpcio-1.21.1-cp36-cp36m-win_amd64.whl (1.6MB)\n",
      "Collecting astor>=0.6.0 (from tensorflow)\n",
      "  Downloading https://files.pythonhosted.org/packages/d1/4f/950dfae467b384fc96bc6469de25d832534f6b4441033c39f914efd13418/astor-0.8.0-py2.py3-none-any.whl\n",
      "Requirement already satisfied: keras-applications>=1.0.6 in c:\\users\\mayingzh\\appdata\\roaming\\python\\python36\\site-packages (from tensorflow) (1.0.8)\n",
      "Requirement already satisfied: numpy>=1.13.3 in c:\\program files\\anaconda3\\lib\\site-packages (from tensorflow) (1.14.3)\n",
      "Requirement already satisfied: six>=1.10.0 in c:\\program files\\anaconda3\\lib\\site-packages (from tensorflow) (1.11.0)\n",
      "Collecting tensorboard<1.14.0,>=1.13.0 (from tensorflow)\n",
      "  Downloading https://files.pythonhosted.org/packages/0f/39/bdd75b08a6fba41f098b6cb091b9e8c7a80e1b4d679a581a0ccd17b10373/tensorboard-1.13.1-py3-none-any.whl (3.2MB)\n",
      "Collecting tensorflow-estimator<1.14.0rc0,>=1.13.0 (from tensorflow)\n",
      "  Downloading https://files.pythonhosted.org/packages/bb/48/13f49fc3fa0fdf916aa1419013bb8f2ad09674c275b4046d5ee669a46873/tensorflow_estimator-1.13.0-py2.py3-none-any.whl (367kB)\n",
      "Requirement already satisfied: setuptools in c:\\program files\\anaconda3\\lib\\site-packages (from protobuf>=3.6.1->tensorflow) (39.1.0)\n",
      "Requirement already satisfied: h5py in c:\\program files\\anaconda3\\lib\\site-packages (from keras-applications>=1.0.6->tensorflow) (2.7.1)\n",
      "Collecting markdown>=2.6.8 (from tensorboard<1.14.0,>=1.13.0->tensorflow)\n",
      "  Downloading https://files.pythonhosted.org/packages/c0/4e/fd492e91abdc2d2fcb70ef453064d980688762079397f779758e055f6575/Markdown-3.1.1-py2.py3-none-any.whl (87kB)\n",
      "Requirement already satisfied: werkzeug>=0.11.15 in c:\\program files\\anaconda3\\lib\\site-packages (from tensorboard<1.14.0,>=1.13.0->tensorflow) (0.14.1)\n",
      "Collecting mock>=2.0.0 (from tensorflow-estimator<1.14.0rc0,>=1.13.0->tensorflow)\n",
      "  Downloading https://files.pythonhosted.org/packages/05/d2/f94e68be6b17f46d2c353564da56e6fb89ef09faeeff3313a046cb810ca9/mock-3.0.5-py2.py3-none-any.whl\n",
      "Building wheels for collected packages: termcolor, gast, absl-py\n",
      "  Building wheel for termcolor (setup.py): started\n",
      "  Building wheel for termcolor (setup.py): finished with status 'done'\n",
      "  Stored in directory: C:\\Users\\mayingzh\\AppData\\Local\\pip\\Cache\\wheels\\7c\\06\\54\\bc84598ba1daf8f970247f550b175aaaee85f68b4b0c5ab2c6\n",
      "  Building wheel for gast (setup.py): started\n",
      "  Building wheel for gast (setup.py): finished with status 'done'\n",
      "  Stored in directory: C:\\Users\\mayingzh\\AppData\\Local\\pip\\Cache\\wheels\\5c\\2e\\7e\\a1d4d4fcebe6c381f378ce7743a3ced3699feb89bcfbdadadd\n",
      "  Building wheel for absl-py (setup.py): started\n",
      "  Building wheel for absl-py (setup.py): finished with status 'done'\n",
      "  Stored in directory: C:\\Users\\mayingzh\\AppData\\Local\\pip\\Cache\\wheels\\ee\\98\\38\\46cbcc5a93cfea5492d19c38562691ddb23b940176c14f7b48\n",
      "Successfully built termcolor gast absl-py\n",
      "Installing collected packages: protobuf, termcolor, gast, absl-py, grpcio, astor, markdown, tensorboard, mock, tensorflow-estimator, tensorflow\n",
      "Successfully installed absl-py-0.7.1 astor-0.8.0 gast-0.2.2 grpcio-1.21.1 markdown-3.1.1 mock-3.0.5 protobuf-3.8.0 tensorboard-1.13.1 tensorflow-1.13.1 tensorflow-estimator-1.13.0 termcolor-1.1.0\n"
     ]
    },
    {
     "name": "stderr",
     "output_type": "stream",
     "text": [
      "  WARNING: The script markdown_py.exe is installed in 'C:\\Users\\mayingzh\\AppData\\Roaming\\Python\\Python36\\Scripts' which is not on PATH.\n",
      "  Consider adding this directory to PATH or, if you prefer to suppress this warning, use --no-warn-script-location.\n",
      "  WARNING: The script tensorboard.exe is installed in 'C:\\Users\\mayingzh\\AppData\\Roaming\\Python\\Python36\\Scripts' which is not on PATH.\n",
      "  Consider adding this directory to PATH or, if you prefer to suppress this warning, use --no-warn-script-location.\n",
      "  WARNING: The scripts freeze_graph.exe, saved_model_cli.exe, tensorboard.exe, tf_upgrade_v2.exe, tflite_convert.exe, toco.exe and toco_from_protos.exe are installed in 'C:\\Users\\mayingzh\\AppData\\Roaming\\Python\\Python36\\Scripts' which is not on PATH.\n",
      "  Consider adding this directory to PATH or, if you prefer to suppress this warning, use --no-warn-script-location.\n"
     ]
    },
    {
     "name": "stdout",
     "output_type": "stream",
     "text": [
      "Collecting numpy\n",
      "  Downloading https://files.pythonhosted.org/packages/20/ed/e036d31a9b2c750f270cbb1cfc1c0f94ac78ae504eea7eec3267be4e294a/numpy-1.16.4-cp36-cp36m-win_amd64.whl (11.9MB)\n",
      "Installing collected packages: numpy\n",
      "Successfully installed numpy-1.16.4\n"
     ]
    },
    {
     "name": "stderr",
     "output_type": "stream",
     "text": [
      "  WARNING: The script f2py.exe is installed in 'C:\\Users\\mayingzh\\AppData\\Roaming\\Python\\Python36\\Scripts' which is not on PATH.\n",
      "  Consider adding this directory to PATH or, if you prefer to suppress this warning, use --no-warn-script-location.\n"
     ]
    }
   ],
   "source": [
    "!python -m pip install --user --upgrade pip\n",
    "!pip install --user keras\n",
    "!pip install --user tensorflow\n",
    "!pip install --user -U numpy"
   ]
  },
  {
   "cell_type": "code",
   "execution_count": 14,
   "metadata": {},
   "outputs": [],
   "source": [
    "import pandas as pd\n",
    "from keras import backend as K\n",
    "from keras.models import Sequential\n",
    "from keras.layers import Dense, Dropout\n",
    "from keras.utils import to_categorical\n",
    "from sklearn.model_selection import train_test_split\n",
    "from keras.callbacks import EarlyStopping\n",
    "from sklearn import preprocessing\n",
    "import matplotlib.pyplot as plt"
   ]
  },
  {
   "cell_type": "code",
   "execution_count": 2,
   "metadata": {},
   "outputs": [],
   "source": [
    "df = pd.read_csv('Cleaned_withoutNaN.csv')\n",
    "df.drop(['Unnamed: 0', 'The Date of this Price', 'Expiration Date of the Option'], axis = 1, inplace = True)"
   ]
  },
  {
   "cell_type": "code",
   "execution_count": 3,
   "metadata": {
    "scrolled": true
   },
   "outputs": [
    {
     "data": {
      "text/html": [
       "<div>\n",
       "<style scoped>\n",
       "    .dataframe tbody tr th:only-of-type {\n",
       "        vertical-align: middle;\n",
       "    }\n",
       "\n",
       "    .dataframe tbody tr th {\n",
       "        vertical-align: top;\n",
       "    }\n",
       "\n",
       "    .dataframe thead th {\n",
       "        text-align: right;\n",
       "    }\n",
       "</style>\n",
       "<table border=\"1\" class=\"dataframe\">\n",
       "  <thead>\n",
       "    <tr style=\"text-align: right;\">\n",
       "      <th></th>\n",
       "      <th>Strike Price</th>\n",
       "      <th>Lowest  Closing Ask Across All Exchanges</th>\n",
       "      <th>Open Interest for the Option</th>\n",
       "      <th>Implied Volatility of the Option</th>\n",
       "      <th>Underlying Price</th>\n",
       "      <th>maturity</th>\n",
       "      <th>C=Call, P=Put_C</th>\n",
       "      <th>C=Call, P=Put_P</th>\n",
       "    </tr>\n",
       "  </thead>\n",
       "  <tbody>\n",
       "    <tr>\n",
       "      <th>0</th>\n",
       "      <td>590.0</td>\n",
       "      <td>85.50</td>\n",
       "      <td>113</td>\n",
       "      <td>0.636391</td>\n",
       "      <td>674.97</td>\n",
       "      <td>3</td>\n",
       "      <td>1</td>\n",
       "      <td>0</td>\n",
       "    </tr>\n",
       "    <tr>\n",
       "      <th>1</th>\n",
       "      <td>610.0</td>\n",
       "      <td>65.45</td>\n",
       "      <td>8</td>\n",
       "      <td>0.495483</td>\n",
       "      <td>674.97</td>\n",
       "      <td>3</td>\n",
       "      <td>1</td>\n",
       "      <td>0</td>\n",
       "    </tr>\n",
       "    <tr>\n",
       "      <th>2</th>\n",
       "      <td>615.0</td>\n",
       "      <td>60.25</td>\n",
       "      <td>25</td>\n",
       "      <td>0.408294</td>\n",
       "      <td>674.97</td>\n",
       "      <td>3</td>\n",
       "      <td>1</td>\n",
       "      <td>0</td>\n",
       "    </tr>\n",
       "    <tr>\n",
       "      <th>3</th>\n",
       "      <td>620.0</td>\n",
       "      <td>55.25</td>\n",
       "      <td>43</td>\n",
       "      <td>0.376411</td>\n",
       "      <td>674.97</td>\n",
       "      <td>3</td>\n",
       "      <td>1</td>\n",
       "      <td>0</td>\n",
       "    </tr>\n",
       "    <tr>\n",
       "      <th>4</th>\n",
       "      <td>625.0</td>\n",
       "      <td>50.25</td>\n",
       "      <td>90</td>\n",
       "      <td>0.363375</td>\n",
       "      <td>674.97</td>\n",
       "      <td>3</td>\n",
       "      <td>1</td>\n",
       "      <td>0</td>\n",
       "    </tr>\n",
       "  </tbody>\n",
       "</table>\n",
       "</div>"
      ],
      "text/plain": [
       "   Strike Price  Lowest  Closing Ask Across All Exchanges  \\\n",
       "0         590.0                                     85.50   \n",
       "1         610.0                                     65.45   \n",
       "2         615.0                                     60.25   \n",
       "3         620.0                                     55.25   \n",
       "4         625.0                                     50.25   \n",
       "\n",
       "   Open Interest for the Option  Implied Volatility of the Option  \\\n",
       "0                           113                          0.636391   \n",
       "1                             8                          0.495483   \n",
       "2                            25                          0.408294   \n",
       "3                            43                          0.376411   \n",
       "4                            90                          0.363375   \n",
       "\n",
       "   Underlying Price  maturity  C=Call, P=Put_C  C=Call, P=Put_P  \n",
       "0            674.97         3                1                0  \n",
       "1            674.97         3                1                0  \n",
       "2            674.97         3                1                0  \n",
       "3            674.97         3                1                0  \n",
       "4            674.97         3                1                0  "
      ]
     },
     "execution_count": 3,
     "metadata": {},
     "output_type": "execute_result"
    }
   ],
   "source": [
    "df.head()"
   ]
  },
  {
   "cell_type": "code",
   "execution_count": 4,
   "metadata": {},
   "outputs": [],
   "source": [
    "y = df['Lowest  Closing Ask Across All Exchanges'].values\n",
    "df.drop(['Lowest  Closing Ask Across All Exchanges'], axis = 1, inplace = True)"
   ]
  },
  {
   "cell_type": "code",
   "execution_count": 5,
   "metadata": {},
   "outputs": [],
   "source": [
    "sc= preprocessing.MinMaxScaler()\n",
    "X= sc.fit_transform(df)\n",
    "y= y.reshape(-1,1)\n",
    "y=sc.fit_transform(y)"
   ]
  },
  {
   "cell_type": "code",
   "execution_count": 6,
   "metadata": {},
   "outputs": [],
   "source": [
    "X_train, X_test, y_train, y_test = train_test_split(X, y, test_size=0.33, random_state=42)"
   ]
  },
  {
   "cell_type": "code",
   "execution_count": 7,
   "metadata": {},
   "outputs": [
    {
     "name": "stdout",
     "output_type": "stream",
     "text": [
      "(487123, 7)\n",
      "(487123, 1)\n"
     ]
    }
   ],
   "source": [
    "print(X_train.shape)\n",
    "print(y_train.shape)"
   ]
  },
  {
   "cell_type": "code",
   "execution_count": 8,
   "metadata": {},
   "outputs": [],
   "source": [
    "#XX_train, XX_validation, yy_train, yy_validation = train_test_split(X_train, y_train, test_size=0.2, random_state=42)"
   ]
  },
  {
   "cell_type": "code",
   "execution_count": 23,
   "metadata": {},
   "outputs": [],
   "source": [
    "model = Sequential([\n",
    "    Dense(64, activation='relu', input_shape=(7,)),\n",
    "    Dense(128, activation='relu'),\n",
    "    Dense(64, activation='relu'),\n",
    "    Dense(1, activation='linear'),\n",
    "])"
   ]
  },
  {
   "cell_type": "code",
   "execution_count": 9,
   "metadata": {},
   "outputs": [],
   "source": [
    "es = EarlyStopping(monitor='val_loss', mode='auto', verbose=1, patience=50)"
   ]
  },
  {
   "cell_type": "code",
   "execution_count": 20,
   "metadata": {},
   "outputs": [],
   "source": [
    "# Because it is a simple regression problem, we should custom metrics function\n",
    "def rmse(y_true, y_pred):\n",
    "    return K.sqrt(K.mean(K.square(y_pred - y_true), axis = -1))\n",
    "\n",
    "def r_square(y_true, y_pred):\n",
    "    SS_res =  K.sum(K.square(y_true - y_pred)) \n",
    "    SS_tot = K.sum(K.square(y_true - K.mean(y_true))) \n",
    "    return (1 - SS_res/(SS_tot + K.epsilon()))"
   ]
  },
  {
   "cell_type": "code",
   "execution_count": 24,
   "metadata": {},
   "outputs": [],
   "source": [
    "model.compile(\n",
    "  optimizer='adam',\n",
    "  loss='mse',\n",
    "  metrics=[rmse, r_square],\n",
    ")"
   ]
  },
  {
   "cell_type": "code",
   "execution_count": 25,
   "metadata": {},
   "outputs": [
    {
     "name": "stdout",
     "output_type": "stream",
     "text": [
      "Train on 487123 samples, validate on 239927 samples\n",
      "Epoch 1/200\n",
      "487123/487123 [==============================] - 3s 6us/step - loss: 4.0678e-04 - rmse: 0.0071 - r_square: 0.9837 - val_loss: 4.5071e-05 - val_rmse: 0.0055 - val_r_square: 0.9981\n",
      "Epoch 2/200\n",
      "487123/487123 [==============================] - 3s 6us/step - loss: 2.2304e-05 - rmse: 0.0033 - r_square: 0.9991 - val_loss: 1.3144e-05 - val_rmse: 0.0027 - val_r_square: 0.9995\n",
      "Epoch 3/200\n",
      "487123/487123 [==============================] - 3s 6us/step - loss: 1.3775e-05 - rmse: 0.0027 - r_square: 0.9994 - val_loss: 6.4453e-06 - val_rmse: 0.0018 - val_r_square: 0.9997\n",
      "Epoch 4/200\n",
      "487123/487123 [==============================] - 3s 6us/step - loss: 1.0806e-05 - rmse: 0.0024 - r_square: 0.9996 - val_loss: 1.6285e-05 - val_rmse: 0.0031 - val_r_square: 0.9993\n",
      "Epoch 5/200\n",
      "487123/487123 [==============================] - 3s 6us/step - loss: 9.3118e-06 - rmse: 0.0022 - r_square: 0.9996 - val_loss: 3.5536e-05 - val_rmse: 0.0051 - val_r_square: 0.9985\n",
      "Epoch 6/200\n",
      "487123/487123 [==============================] - 3s 6us/step - loss: 8.1251e-06 - rmse: 0.0020 - r_square: 0.9997 - val_loss: 3.5639e-05 - val_rmse: 0.0042 - val_r_square: 0.9985\n",
      "Epoch 7/200\n",
      "487123/487123 [==============================] - 3s 6us/step - loss: 7.0993e-06 - rmse: 0.0018 - r_square: 0.9997 - val_loss: 4.6924e-06 - val_rmse: 0.0016 - val_r_square: 0.9998\n",
      "Epoch 8/200\n",
      "487123/487123 [==============================] - 3s 6us/step - loss: 5.2270e-06 - rmse: 0.0016 - r_square: 0.9998 - val_loss: 7.8301e-06 - val_rmse: 0.0021 - val_r_square: 0.9997\n",
      "Epoch 9/200\n",
      "487123/487123 [==============================] - 3s 6us/step - loss: 8.8209e-06 - rmse: 0.0018 - r_square: 0.9996 - val_loss: 3.3718e-06 - val_rmse: 0.0013 - val_r_square: 0.9999\n",
      "Epoch 10/200\n",
      "487123/487123 [==============================] - 3s 6us/step - loss: 4.6132e-06 - rmse: 0.0015 - r_square: 0.9998 - val_loss: 3.0605e-06 - val_rmse: 0.0012 - val_r_square: 0.9999\n",
      "Epoch 11/200\n",
      "487123/487123 [==============================] - 3s 6us/step - loss: 4.4340e-06 - rmse: 0.0015 - r_square: 0.9998 - val_loss: 2.4157e-06 - val_rmse: 0.0010 - val_r_square: 0.9999\n",
      "Epoch 12/200\n",
      "487123/487123 [==============================] - 3s 6us/step - loss: 5.9764e-06 - rmse: 0.0016 - r_square: 0.9998 - val_loss: 2.4627e-06 - val_rmse: 0.0010 - val_r_square: 0.9999\n",
      "Epoch 13/200\n",
      "487123/487123 [==============================] - 3s 6us/step - loss: 3.8673e-06 - rmse: 0.0014 - r_square: 0.9998 - val_loss: 1.2253e-05 - val_rmse: 0.0026 - val_r_square: 0.9995\n",
      "Epoch 14/200\n",
      "487123/487123 [==============================] - 3s 6us/step - loss: 3.5654e-06 - rmse: 0.0013 - r_square: 0.9999 - val_loss: 2.8183e-06 - val_rmse: 0.0012 - val_r_square: 0.9999\n",
      "Epoch 15/200\n",
      "487123/487123 [==============================] - 3s 6us/step - loss: 3.3960e-06 - rmse: 0.0013 - r_square: 0.9999 - val_loss: 1.3521e-05 - val_rmse: 0.0028 - val_r_square: 0.9994\n",
      "Epoch 16/200\n",
      "487123/487123 [==============================] - 3s 6us/step - loss: 3.0944e-06 - rmse: 0.0012 - r_square: 0.9999 - val_loss: 4.2427e-06 - val_rmse: 0.0017 - val_r_square: 0.9998\n",
      "Epoch 17/200\n",
      "487123/487123 [==============================] - 3s 6us/step - loss: 3.0459e-06 - rmse: 0.0012 - r_square: 0.9999 - val_loss: 3.5820e-06 - val_rmse: 0.0014 - val_r_square: 0.9999\n",
      "Epoch 18/200\n",
      "487123/487123 [==============================] - 3s 6us/step - loss: 2.4846e-06 - rmse: 0.0011 - r_square: 0.9999 - val_loss: 5.6532e-06 - val_rmse: 0.0015 - val_r_square: 0.9998\n",
      "Epoch 19/200\n",
      "487123/487123 [==============================] - 3s 6us/step - loss: 2.7980e-06 - rmse: 0.0012 - r_square: 0.9999 - val_loss: 1.7723e-06 - val_rmse: 9.1875e-04 - val_r_square: 0.9999\n",
      "Epoch 20/200\n",
      "487123/487123 [==============================] - 3s 6us/step - loss: 2.8935e-06 - rmse: 0.0011 - r_square: 0.9999 - val_loss: 1.5495e-06 - val_rmse: 7.9444e-04 - val_r_square: 0.9999\n",
      "Epoch 21/200\n",
      "487123/487123 [==============================] - 3s 6us/step - loss: 2.2736e-06 - rmse: 0.0010 - r_square: 0.9999 - val_loss: 3.8442e-06 - val_rmse: 0.0014 - val_r_square: 0.9998\n",
      "Epoch 22/200\n",
      "487123/487123 [==============================] - 3s 6us/step - loss: 2.3629e-06 - rmse: 0.0011 - r_square: 0.9999 - val_loss: 2.5662e-06 - val_rmse: 0.0012 - val_r_square: 0.9999\n",
      "Epoch 23/200\n",
      "487123/487123 [==============================] - 3s 6us/step - loss: 2.5143e-06 - rmse: 0.0011 - r_square: 0.9999 - val_loss: 2.7384e-06 - val_rmse: 9.4669e-04 - val_r_square: 0.9999\n",
      "Epoch 24/200\n",
      "487123/487123 [==============================] - 3s 6us/step - loss: 2.1663e-06 - rmse: 9.9778e-04 - r_square: 0.9999 - val_loss: 1.6458e-06 - val_rmse: 8.7702e-04 - val_r_square: 0.9999\n",
      "Epoch 25/200\n",
      "487123/487123 [==============================] - 3s 6us/step - loss: 2.1841e-06 - rmse: 0.0010 - r_square: 0.9999 - val_loss: 2.5615e-06 - val_rmse: 0.0011 - val_r_square: 0.9999\n",
      "Epoch 26/200\n",
      "487123/487123 [==============================] - 3s 6us/step - loss: 2.0978e-06 - rmse: 9.8092e-04 - r_square: 0.9999 - val_loss: 1.3485e-06 - val_rmse: 7.9344e-04 - val_r_square: 0.9999\n",
      "Epoch 27/200\n",
      "487123/487123 [==============================] - 3s 6us/step - loss: 2.1472e-06 - rmse: 9.9762e-04 - r_square: 0.9999 - val_loss: 1.3524e-06 - val_rmse: 8.2037e-04 - val_r_square: 0.9999\n",
      "Epoch 28/200\n",
      "487123/487123 [==============================] - 3s 6us/step - loss: 1.9678e-06 - rmse: 9.5545e-04 - r_square: 0.9999 - val_loss: 1.1801e-06 - val_rmse: 7.2605e-04 - val_r_square: 1.0000\n",
      "Epoch 29/200\n",
      "487123/487123 [==============================] - 3s 6us/step - loss: 2.1794e-06 - rmse: 9.9378e-04 - r_square: 0.9999 - val_loss: 2.0291e-06 - val_rmse: 9.7912e-04 - val_r_square: 0.9999\n",
      "Epoch 30/200\n",
      "487123/487123 [==============================] - 3s 6us/step - loss: 1.9057e-06 - rmse: 9.3294e-04 - r_square: 0.9999 - val_loss: 1.1709e-06 - val_rmse: 7.3024e-04 - val_r_square: 1.0000\n",
      "Epoch 31/200\n",
      "487123/487123 [==============================] - 3s 6us/step - loss: 1.8276e-06 - rmse: 9.1815e-04 - r_square: 0.9999 - val_loss: 1.3618e-06 - val_rmse: 7.9981e-04 - val_r_square: 0.9999\n",
      "Epoch 32/200\n",
      "487123/487123 [==============================] - 3s 6us/step - loss: 1.9717e-06 - rmse: 9.3600e-04 - r_square: 0.9999 - val_loss: 9.4166e-07 - val_rmse: 6.4608e-04 - val_r_square: 1.0000\n",
      "Epoch 33/200\n",
      "487123/487123 [==============================] - 3s 6us/step - loss: 1.7794e-06 - rmse: 8.9750e-04 - r_square: 0.9999 - val_loss: 9.7542e-07 - val_rmse: 6.6775e-04 - val_r_square: 1.0000\n",
      "Epoch 34/200\n",
      "487123/487123 [==============================] - 3s 6us/step - loss: 1.9088e-06 - rmse: 9.2809e-04 - r_square: 0.9999 - val_loss: 2.3847e-06 - val_rmse: 0.0012 - val_r_square: 0.9999\n",
      "Epoch 35/200\n",
      "487123/487123 [==============================] - 3s 6us/step - loss: 1.7480e-06 - rmse: 8.9099e-04 - r_square: 0.9999 - val_loss: 9.0331e-07 - val_rmse: 6.4669e-04 - val_r_square: 1.0000\n",
      "Epoch 36/200\n",
      "487123/487123 [==============================] - 3s 6us/step - loss: 1.9241e-06 - rmse: 9.1888e-04 - r_square: 0.9999 - val_loss: 2.5659e-06 - val_rmse: 0.0011 - val_r_square: 0.9999\n",
      "Epoch 37/200\n",
      "487123/487123 [==============================] - 3s 6us/step - loss: 1.6425e-06 - rmse: 8.6222e-04 - r_square: 0.9999 - val_loss: 3.3428e-06 - val_rmse: 0.0012 - val_r_square: 0.9999\n",
      "Epoch 38/200\n",
      "487123/487123 [==============================] - 3s 6us/step - loss: 1.7726e-06 - rmse: 8.8968e-04 - r_square: 0.9999 - val_loss: 1.2512e-06 - val_rmse: 7.9541e-04 - val_r_square: 0.9999\n",
      "Epoch 39/200\n",
      "487123/487123 [==============================] - 3s 6us/step - loss: 1.9101e-06 - rmse: 8.7977e-04 - r_square: 0.9999 - val_loss: 1.3523e-06 - val_rmse: 8.1518e-04 - val_r_square: 0.9999\n",
      "Epoch 40/200\n",
      "487123/487123 [==============================] - 3s 6us/step - loss: 1.6159e-06 - rmse: 8.5205e-04 - r_square: 0.9999 - val_loss: 2.5624e-06 - val_rmse: 9.7333e-04 - val_r_square: 0.9999\n",
      "Epoch 41/200\n",
      "487123/487123 [==============================] - 3s 6us/step - loss: 1.7481e-06 - rmse: 8.8865e-04 - r_square: 0.9999 - val_loss: 2.2971e-06 - val_rmse: 0.0010 - val_r_square: 0.9999\n",
      "Epoch 42/200\n",
      "487123/487123 [==============================] - 3s 6us/step - loss: 1.6888e-06 - rmse: 8.7341e-04 - r_square: 0.9999 - val_loss: 2.0681e-06 - val_rmse: 9.8317e-04 - val_r_square: 0.9999\n"
     ]
    },
    {
     "name": "stdout",
     "output_type": "stream",
     "text": [
      "Epoch 43/200\n",
      "487123/487123 [==============================] - 3s 6us/step - loss: 1.5734e-06 - rmse: 8.3073e-04 - r_square: 0.9999 - val_loss: 1.1982e-06 - val_rmse: 7.3854e-04 - val_r_square: 1.0000\n",
      "Epoch 44/200\n",
      "487123/487123 [==============================] - 3s 6us/step - loss: 1.6206e-06 - rmse: 8.5349e-04 - r_square: 0.9999 - val_loss: 1.0280e-06 - val_rmse: 6.8463e-04 - val_r_square: 1.0000\n",
      "Epoch 45/200\n",
      "487123/487123 [==============================] - 3s 6us/step - loss: 1.5943e-06 - rmse: 8.3501e-04 - r_square: 0.9999 - val_loss: 1.2610e-06 - val_rmse: 7.2008e-04 - val_r_square: 0.9999\n",
      "Epoch 46/200\n",
      "487123/487123 [==============================] - 3s 6us/step - loss: 1.5888e-06 - rmse: 8.3654e-04 - r_square: 0.9999 - val_loss: 9.6865e-07 - val_rmse: 6.6191e-04 - val_r_square: 1.0000\n",
      "Epoch 47/200\n",
      "487123/487123 [==============================] - 3s 6us/step - loss: 1.4921e-06 - rmse: 8.1755e-04 - r_square: 0.9999 - val_loss: 2.3234e-06 - val_rmse: 0.0010 - val_r_square: 0.9999\n",
      "Epoch 48/200\n",
      "487123/487123 [==============================] - 3s 6us/step - loss: 1.5668e-06 - rmse: 8.3669e-04 - r_square: 0.9999 - val_loss: 1.4180e-06 - val_rmse: 7.7323e-04 - val_r_square: 0.9999\n",
      "Epoch 49/200\n",
      "487123/487123 [==============================] - 3s 6us/step - loss: 1.5436e-06 - rmse: 8.2664e-04 - r_square: 0.9999 - val_loss: 9.4303e-07 - val_rmse: 6.6826e-04 - val_r_square: 1.0000\n",
      "Epoch 50/200\n",
      "487123/487123 [==============================] - 3s 6us/step - loss: 1.5423e-06 - rmse: 8.2414e-04 - r_square: 0.9999 - val_loss: 8.3518e-07 - val_rmse: 6.1538e-04 - val_r_square: 1.0000\n",
      "Epoch 51/200\n",
      "487123/487123 [==============================] - 3s 6us/step - loss: 1.4022e-06 - rmse: 7.8845e-04 - r_square: 0.9999 - val_loss: 2.2486e-06 - val_rmse: 0.0011 - val_r_square: 0.9999\n",
      "Epoch 52/200\n",
      "487123/487123 [==============================] - 3s 6us/step - loss: 1.5595e-06 - rmse: 8.2601e-04 - r_square: 0.9999 - val_loss: 1.2257e-06 - val_rmse: 7.2333e-04 - val_r_square: 0.9999\n",
      "Epoch 53/200\n",
      "487123/487123 [==============================] - 3s 6us/step - loss: 1.4081e-06 - rmse: 7.8970e-04 - r_square: 0.9999 - val_loss: 1.1792e-06 - val_rmse: 8.0370e-04 - val_r_square: 1.0000\n",
      "Epoch 54/200\n",
      "487123/487123 [==============================] - 3s 6us/step - loss: 1.5002e-06 - rmse: 8.1760e-04 - r_square: 0.9999 - val_loss: 8.4301e-07 - val_rmse: 6.2822e-04 - val_r_square: 1.0000\n",
      "Epoch 55/200\n",
      "487123/487123 [==============================] - 3s 6us/step - loss: 1.4474e-06 - rmse: 7.9357e-04 - r_square: 0.9999 - val_loss: 1.7236e-06 - val_rmse: 9.7573e-04 - val_r_square: 0.9999\n",
      "Epoch 56/200\n",
      "487123/487123 [==============================] - 3s 6us/step - loss: 1.4526e-06 - rmse: 7.9885e-04 - r_square: 0.9999 - val_loss: 1.8237e-06 - val_rmse: 9.1934e-04 - val_r_square: 0.9999\n",
      "Epoch 57/200\n",
      "487123/487123 [==============================] - 3s 6us/step - loss: 1.4372e-06 - rmse: 7.9199e-04 - r_square: 0.9999 - val_loss: 1.7560e-06 - val_rmse: 8.9695e-04 - val_r_square: 0.9999\n",
      "Epoch 58/200\n",
      "487123/487123 [==============================] - 3s 6us/step - loss: 1.4936e-06 - rmse: 8.0374e-04 - r_square: 0.9999 - val_loss: 1.0401e-06 - val_rmse: 7.1649e-04 - val_r_square: 1.0000\n",
      "Epoch 59/200\n",
      "487123/487123 [==============================] - 3s 6us/step - loss: 1.4852e-06 - rmse: 8.0073e-04 - r_square: 0.9999 - val_loss: 1.7787e-06 - val_rmse: 0.0010 - val_r_square: 0.9999\n",
      "Epoch 60/200\n",
      "487123/487123 [==============================] - 3s 6us/step - loss: 1.4281e-06 - rmse: 7.8916e-04 - r_square: 0.9999 - val_loss: 9.7196e-07 - val_rmse: 6.5747e-04 - val_r_square: 1.0000\n",
      "Epoch 61/200\n",
      "487123/487123 [==============================] - 3s 6us/step - loss: 1.4741e-06 - rmse: 8.0238e-04 - r_square: 0.9999 - val_loss: 8.4887e-07 - val_rmse: 6.2020e-04 - val_r_square: 1.0000\n",
      "Epoch 62/200\n",
      "487123/487123 [==============================] - 3s 6us/step - loss: 1.4151e-06 - rmse: 7.8035e-04 - r_square: 0.9999 - val_loss: 9.0081e-07 - val_rmse: 6.1291e-04 - val_r_square: 1.0000\n",
      "Epoch 63/200\n",
      "487123/487123 [==============================] - 3s 6us/step - loss: 1.3240e-06 - rmse: 7.6685e-04 - r_square: 0.9999 - val_loss: 1.2479e-06 - val_rmse: 7.6929e-04 - val_r_square: 0.9999\n",
      "Epoch 64/200\n",
      "487123/487123 [==============================] - 3s 6us/step - loss: 1.3023e-06 - rmse: 7.5705e-04 - r_square: 0.9999 - val_loss: 8.8376e-07 - val_rmse: 6.5759e-04 - val_r_square: 1.0000\n",
      "Epoch 65/200\n",
      "487123/487123 [==============================] - 3s 6us/step - loss: 1.3895e-06 - rmse: 7.6578e-04 - r_square: 0.9999 - val_loss: 1.0341e-06 - val_rmse: 6.8975e-04 - val_r_square: 1.0000\n",
      "Epoch 66/200\n",
      "487123/487123 [==============================] - 3s 6us/step - loss: 1.3821e-06 - rmse: 7.7165e-04 - r_square: 0.9999 - val_loss: 1.8641e-06 - val_rmse: 9.9528e-04 - val_r_square: 0.9999\n",
      "Epoch 67/200\n",
      "487123/487123 [==============================] - 3s 6us/step - loss: 1.3083e-06 - rmse: 7.5606e-04 - r_square: 0.9999 - val_loss: 1.1337e-06 - val_rmse: 7.5621e-04 - val_r_square: 1.0000\n",
      "Epoch 68/200\n",
      "487123/487123 [==============================] - 3s 6us/step - loss: 1.3373e-06 - rmse: 7.5702e-04 - r_square: 0.9999 - val_loss: 1.0028e-06 - val_rmse: 6.8289e-04 - val_r_square: 1.0000\n",
      "Epoch 69/200\n",
      "487123/487123 [==============================] - 3s 6us/step - loss: 1.3479e-06 - rmse: 7.6738e-04 - r_square: 0.9999 - val_loss: 9.4534e-07 - val_rmse: 6.6299e-04 - val_r_square: 1.0000\n",
      "Epoch 70/200\n",
      "487123/487123 [==============================] - 3s 6us/step - loss: 1.3163e-06 - rmse: 7.5509e-04 - r_square: 0.9999 - val_loss: 1.2960e-06 - val_rmse: 8.0634e-04 - val_r_square: 0.9999\n",
      "Epoch 71/200\n",
      "487123/487123 [==============================] - 3s 6us/step - loss: 1.2799e-06 - rmse: 7.4514e-04 - r_square: 0.9999 - val_loss: 1.7016e-06 - val_rmse: 9.1598e-04 - val_r_square: 0.9999\n",
      "Epoch 72/200\n",
      "487123/487123 [==============================] - 3s 6us/step - loss: 1.3122e-06 - rmse: 7.5153e-04 - r_square: 0.9999 - val_loss: 9.0118e-07 - val_rmse: 6.4374e-04 - val_r_square: 1.0000\n",
      "Epoch 73/200\n",
      "487123/487123 [==============================] - 3s 6us/step - loss: 1.2885e-06 - rmse: 7.4435e-04 - r_square: 0.9999 - val_loss: 7.3778e-07 - val_rmse: 5.6117e-04 - val_r_square: 1.0000\n",
      "Epoch 74/200\n",
      "487123/487123 [==============================] - 3s 6us/step - loss: 1.2637e-06 - rmse: 7.4576e-04 - r_square: 0.9999 - val_loss: 1.5925e-06 - val_rmse: 8.6999e-04 - val_r_square: 0.9999\n",
      "Epoch 75/200\n",
      "487123/487123 [==============================] - 3s 6us/step - loss: 1.3078e-06 - rmse: 7.5041e-04 - r_square: 0.9999 - val_loss: 1.4425e-06 - val_rmse: 7.8381e-04 - val_r_square: 0.9999\n",
      "Epoch 76/200\n",
      "487123/487123 [==============================] - 3s 6us/step - loss: 1.2587e-06 - rmse: 7.4085e-04 - r_square: 0.9999 - val_loss: 7.9842e-07 - val_rmse: 6.0869e-04 - val_r_square: 1.0000\n",
      "Epoch 77/200\n",
      "487123/487123 [==============================] - 3s 6us/step - loss: 1.2883e-06 - rmse: 7.4154e-04 - r_square: 0.9999 - val_loss: 8.0070e-07 - val_rmse: 5.7446e-04 - val_r_square: 1.0000\n",
      "Epoch 78/200\n",
      "487123/487123 [==============================] - 3s 6us/step - loss: 1.2884e-06 - rmse: 7.4483e-04 - r_square: 0.9999 - val_loss: 9.6783e-07 - val_rmse: 6.6926e-04 - val_r_square: 1.0000\n",
      "Epoch 79/200\n",
      "487123/487123 [==============================] - 3s 6us/step - loss: 1.2539e-06 - rmse: 7.3015e-04 - r_square: 0.9999 - val_loss: 1.3637e-06 - val_rmse: 8.4135e-04 - val_r_square: 0.9999\n",
      "Epoch 80/200\n",
      "487123/487123 [==============================] - 3s 6us/step - loss: 1.2537e-06 - rmse: 7.3441e-04 - r_square: 0.9999 - val_loss: 7.4221e-07 - val_rmse: 5.8087e-04 - val_r_square: 1.0000\n",
      "Epoch 81/200\n",
      "487123/487123 [==============================] - 3s 6us/step - loss: 1.3287e-06 - rmse: 7.5166e-04 - r_square: 0.9999 - val_loss: 1.3912e-06 - val_rmse: 8.4580e-04 - val_r_square: 0.9999\n",
      "Epoch 82/200\n",
      "487123/487123 [==============================] - 3s 6us/step - loss: 1.1595e-06 - rmse: 7.0888e-04 - r_square: 1.0000 - val_loss: 2.2807e-06 - val_rmse: 0.0010 - val_r_square: 0.9999\n",
      "Epoch 83/200\n",
      "487123/487123 [==============================] - 3s 6us/step - loss: 1.2901e-06 - rmse: 7.3266e-04 - r_square: 0.9999 - val_loss: 2.8746e-06 - val_rmse: 0.0013 - val_r_square: 0.9999\n",
      "Epoch 84/200\n"
     ]
    },
    {
     "name": "stdout",
     "output_type": "stream",
     "text": [
      "487123/487123 [==============================] - 3s 6us/step - loss: 1.2547e-06 - rmse: 7.3778e-04 - r_square: 0.9999 - val_loss: 1.1030e-06 - val_rmse: 6.5902e-04 - val_r_square: 1.0000\n",
      "Epoch 85/200\n",
      "487123/487123 [==============================] - 3s 6us/step - loss: 1.2117e-06 - rmse: 7.2064e-04 - r_square: 1.0000 - val_loss: 9.7093e-07 - val_rmse: 6.9812e-04 - val_r_square: 1.0000\n",
      "Epoch 86/200\n",
      "487123/487123 [==============================] - 3s 6us/step - loss: 1.2245e-06 - rmse: 7.2137e-04 - r_square: 0.9999 - val_loss: 1.0060e-06 - val_rmse: 6.1441e-04 - val_r_square: 1.0000\n",
      "Epoch 87/200\n",
      "487123/487123 [==============================] - 3s 6us/step - loss: 1.1816e-06 - rmse: 7.1366e-04 - r_square: 1.0000 - val_loss: 1.7472e-06 - val_rmse: 8.8344e-04 - val_r_square: 0.9999\n",
      "Epoch 88/200\n",
      "487123/487123 [==============================] - 3s 6us/step - loss: 1.1820e-06 - rmse: 7.1407e-04 - r_square: 1.0000 - val_loss: 1.1916e-06 - val_rmse: 7.4992e-04 - val_r_square: 1.0000\n",
      "Epoch 89/200\n",
      "487123/487123 [==============================] - 3s 6us/step - loss: 1.1896e-06 - rmse: 7.1180e-04 - r_square: 1.0000 - val_loss: 1.9856e-06 - val_rmse: 9.6618e-04 - val_r_square: 0.9999\n",
      "Epoch 90/200\n",
      "487123/487123 [==============================] - 3s 6us/step - loss: 1.2288e-06 - rmse: 7.2364e-04 - r_square: 0.9999 - val_loss: 7.5364e-07 - val_rmse: 5.8099e-04 - val_r_square: 1.0000\n",
      "Epoch 91/200\n",
      "487123/487123 [==============================] - 3s 6us/step - loss: 1.1586e-06 - rmse: 7.0569e-04 - r_square: 1.0000 - val_loss: 7.6535e-07 - val_rmse: 5.7931e-04 - val_r_square: 1.0000\n",
      "Epoch 92/200\n",
      "487123/487123 [==============================] - 3s 6us/step - loss: 1.1895e-06 - rmse: 7.0866e-04 - r_square: 1.0000 - val_loss: 7.6503e-07 - val_rmse: 5.9233e-04 - val_r_square: 1.0000\n",
      "Epoch 93/200\n",
      "487123/487123 [==============================] - 3s 6us/step - loss: 1.1452e-06 - rmse: 7.0373e-04 - r_square: 1.0000 - val_loss: 2.0728e-06 - val_rmse: 9.3696e-04 - val_r_square: 0.9999\n",
      "Epoch 94/200\n",
      "487123/487123 [==============================] - 3s 6us/step - loss: 1.1857e-06 - rmse: 7.0952e-04 - r_square: 1.0000 - val_loss: 7.7405e-07 - val_rmse: 6.1076e-04 - val_r_square: 1.0000\n",
      "Epoch 95/200\n",
      "487123/487123 [==============================] - 3s 6us/step - loss: 1.1487e-06 - rmse: 7.0009e-04 - r_square: 1.0000 - val_loss: 1.0924e-06 - val_rmse: 7.0890e-04 - val_r_square: 1.0000\n",
      "Epoch 96/200\n",
      "487123/487123 [==============================] - 3s 6us/step - loss: 1.1909e-06 - rmse: 7.0833e-04 - r_square: 1.0000 - val_loss: 9.1974e-07 - val_rmse: 6.4857e-04 - val_r_square: 1.0000\n",
      "Epoch 97/200\n",
      "487123/487123 [==============================] - 3s 6us/step - loss: 1.1222e-06 - rmse: 6.9302e-04 - r_square: 1.0000 - val_loss: 1.1907e-06 - val_rmse: 7.0964e-04 - val_r_square: 1.0000\n",
      "Epoch 98/200\n",
      "487123/487123 [==============================] - 3s 6us/step - loss: 1.1691e-06 - rmse: 7.0515e-04 - r_square: 1.0000 - val_loss: 1.3588e-06 - val_rmse: 7.6332e-04 - val_r_square: 0.9999\n",
      "Epoch 99/200\n",
      "487123/487123 [==============================] - 3s 6us/step - loss: 1.1297e-06 - rmse: 6.9073e-04 - r_square: 1.0000 - val_loss: 7.3220e-07 - val_rmse: 5.6648e-04 - val_r_square: 1.0000\n",
      "Epoch 100/200\n",
      "487123/487123 [==============================] - 3s 6us/step - loss: 1.1521e-06 - rmse: 7.0044e-04 - r_square: 1.0000 - val_loss: 1.5644e-06 - val_rmse: 7.8613e-04 - val_r_square: 0.9999\n",
      "Epoch 101/200\n",
      "487123/487123 [==============================] - 3s 6us/step - loss: 1.1930e-06 - rmse: 7.1434e-04 - r_square: 1.0000 - val_loss: 1.3858e-06 - val_rmse: 7.5371e-04 - val_r_square: 0.9999\n",
      "Epoch 102/200\n",
      "487123/487123 [==============================] - 3s 6us/step - loss: 1.0752e-06 - rmse: 6.7933e-04 - r_square: 1.0000 - val_loss: 1.0914e-06 - val_rmse: 7.4169e-04 - val_r_square: 1.0000\n",
      "Epoch 103/200\n",
      "487123/487123 [==============================] - 3s 6us/step - loss: 1.1027e-06 - rmse: 6.8619e-04 - r_square: 1.0000 - val_loss: 9.0276e-07 - val_rmse: 6.3424e-04 - val_r_square: 1.0000\n",
      "Epoch 104/200\n",
      "487123/487123 [==============================] - 3s 6us/step - loss: 1.1359e-06 - rmse: 6.9398e-04 - r_square: 1.0000 - val_loss: 6.7416e-07 - val_rmse: 5.3169e-04 - val_r_square: 1.0000\n",
      "Epoch 105/200\n",
      "487123/487123 [==============================] - 3s 6us/step - loss: 1.1661e-06 - rmse: 7.0161e-04 - r_square: 1.0000 - val_loss: 2.1802e-06 - val_rmse: 9.4346e-04 - val_r_square: 0.9999\n",
      "Epoch 106/200\n",
      "487123/487123 [==============================] - 3s 6us/step - loss: 1.0942e-06 - rmse: 6.8124e-04 - r_square: 1.0000 - val_loss: 7.3782e-07 - val_rmse: 5.6184e-04 - val_r_square: 1.0000\n",
      "Epoch 107/200\n",
      "487123/487123 [==============================] - 3s 6us/step - loss: 1.1339e-06 - rmse: 6.9441e-04 - r_square: 1.0000 - val_loss: 2.4153e-06 - val_rmse: 9.7411e-04 - val_r_square: 0.9999\n",
      "Epoch 108/200\n",
      "487123/487123 [==============================] - 3s 6us/step - loss: 1.1370e-06 - rmse: 6.8470e-04 - r_square: 1.0000 - val_loss: 1.6347e-06 - val_rmse: 8.5452e-04 - val_r_square: 0.9999\n",
      "Epoch 109/200\n",
      "487123/487123 [==============================] - 3s 6us/step - loss: 1.1710e-06 - rmse: 6.9985e-04 - r_square: 1.0000 - val_loss: 1.2652e-06 - val_rmse: 7.3050e-04 - val_r_square: 0.9999\n",
      "Epoch 110/200\n",
      "487123/487123 [==============================] - 3s 6us/step - loss: 1.0873e-06 - rmse: 6.7716e-04 - r_square: 1.0000 - val_loss: 1.8337e-06 - val_rmse: 8.5827e-04 - val_r_square: 0.9999\n",
      "Epoch 111/200\n",
      "487123/487123 [==============================] - 3s 6us/step - loss: 1.1054e-06 - rmse: 6.7813e-04 - r_square: 1.0000 - val_loss: 1.2110e-06 - val_rmse: 7.5205e-04 - val_r_square: 0.9999\n",
      "Epoch 112/200\n",
      "487123/487123 [==============================] - 3s 6us/step - loss: 1.1177e-06 - rmse: 6.8464e-04 - r_square: 1.0000 - val_loss: 8.7090e-07 - val_rmse: 6.3937e-04 - val_r_square: 1.0000\n",
      "Epoch 113/200\n",
      "487123/487123 [==============================] - 3s 6us/step - loss: 1.1366e-06 - rmse: 6.8795e-04 - r_square: 1.0000 - val_loss: 9.5954e-07 - val_rmse: 6.7517e-04 - val_r_square: 1.0000\n",
      "Epoch 114/200\n",
      "487123/487123 [==============================] - 3s 6us/step - loss: 1.0770e-06 - rmse: 6.7410e-04 - r_square: 1.0000 - val_loss: 1.4070e-06 - val_rmse: 7.8587e-04 - val_r_square: 0.9999\n",
      "Epoch 115/200\n",
      "487123/487123 [==============================] - 3s 6us/step - loss: 1.2009e-06 - rmse: 7.0171e-04 - r_square: 1.0000 - val_loss: 2.2578e-06 - val_rmse: 9.8518e-04 - val_r_square: 0.9999\n",
      "Epoch 116/200\n",
      "487123/487123 [==============================] - 3s 6us/step - loss: 1.0553e-06 - rmse: 6.6747e-04 - r_square: 1.0000 - val_loss: 1.3382e-06 - val_rmse: 7.2553e-04 - val_r_square: 0.9999\n",
      "Epoch 117/200\n",
      "487123/487123 [==============================] - 3s 6us/step - loss: 1.1188e-06 - rmse: 6.8949e-04 - r_square: 1.0000 - val_loss: 9.4292e-07 - val_rmse: 6.3169e-04 - val_r_square: 1.0000\n",
      "Epoch 118/200\n",
      "487123/487123 [==============================] - 3s 6us/step - loss: 1.0416e-06 - rmse: 6.6555e-04 - r_square: 1.0000 - val_loss: 8.2394e-07 - val_rmse: 5.7998e-04 - val_r_square: 1.0000\n",
      "Epoch 119/200\n",
      "487123/487123 [==============================] - 3s 6us/step - loss: 1.0546e-06 - rmse: 6.6827e-04 - r_square: 1.0000 - val_loss: 8.4610e-07 - val_rmse: 6.1853e-04 - val_r_square: 1.0000\n",
      "Epoch 120/200\n",
      "487123/487123 [==============================] - 3s 6us/step - loss: 1.0954e-06 - rmse: 6.7677e-04 - r_square: 1.0000 - val_loss: 2.2880e-06 - val_rmse: 9.5632e-04 - val_r_square: 0.9999\n",
      "Epoch 121/200\n",
      "487123/487123 [==============================] - 3s 6us/step - loss: 1.1052e-06 - rmse: 6.7484e-04 - r_square: 1.0000 - val_loss: 1.4493e-06 - val_rmse: 8.3903e-04 - val_r_square: 0.9999\n",
      "Epoch 122/200\n",
      "487123/487123 [==============================] - 3s 6us/step - loss: 1.1098e-06 - rmse: 6.8155e-04 - r_square: 1.0000 - val_loss: 1.0557e-06 - val_rmse: 7.2105e-04 - val_r_square: 1.0000\n",
      "Epoch 123/200\n",
      "487123/487123 [==============================] - 3s 6us/step - loss: 1.0841e-06 - rmse: 6.7384e-04 - r_square: 1.0000 - val_loss: 7.3896e-07 - val_rmse: 5.7934e-04 - val_r_square: 1.0000\n",
      "Epoch 124/200\n",
      "487123/487123 [==============================] - 3s 6us/step - loss: 1.0421e-06 - rmse: 6.6460e-04 - r_square: 1.0000 - val_loss: 6.7225e-07 - val_rmse: 5.2078e-04 - val_r_square: 1.0000\n"
     ]
    },
    {
     "name": "stdout",
     "output_type": "stream",
     "text": [
      "Epoch 125/200\n",
      "487123/487123 [==============================] - 3s 6us/step - loss: 1.1176e-06 - rmse: 6.8161e-04 - r_square: 1.0000 - val_loss: 7.6701e-07 - val_rmse: 5.7751e-04 - val_r_square: 1.0000\n",
      "Epoch 126/200\n",
      "487123/487123 [==============================] - 3s 6us/step - loss: 1.0219e-06 - rmse: 6.5877e-04 - r_square: 1.0000 - val_loss: 8.1958e-07 - val_rmse: 6.0928e-04 - val_r_square: 1.0000\n",
      "Epoch 127/200\n",
      "487123/487123 [==============================] - 3s 6us/step - loss: 1.1095e-06 - rmse: 6.8440e-04 - r_square: 1.0000 - val_loss: 8.6640e-07 - val_rmse: 5.7188e-04 - val_r_square: 1.0000\n",
      "Epoch 128/200\n",
      "487123/487123 [==============================] - 3s 6us/step - loss: 1.0692e-06 - rmse: 6.7209e-04 - r_square: 1.0000 - val_loss: 8.6512e-07 - val_rmse: 5.9959e-04 - val_r_square: 1.0000\n",
      "Epoch 129/200\n",
      "487123/487123 [==============================] - 3s 6us/step - loss: 1.0507e-06 - rmse: 6.5925e-04 - r_square: 1.0000 - val_loss: 1.0300e-06 - val_rmse: 6.3982e-04 - val_r_square: 1.0000\n",
      "Epoch 130/200\n",
      "487123/487123 [==============================] - 3s 6us/step - loss: 1.0108e-06 - rmse: 6.5258e-04 - r_square: 1.0000 - val_loss: 1.1517e-06 - val_rmse: 7.0785e-04 - val_r_square: 1.0000\n",
      "Epoch 131/200\n",
      "487123/487123 [==============================] - 3s 6us/step - loss: 1.1116e-06 - rmse: 6.7943e-04 - r_square: 1.0000 - val_loss: 3.3060e-06 - val_rmse: 0.0011 - val_r_square: 0.9999\n",
      "Epoch 132/200\n",
      "487123/487123 [==============================] - 3s 6us/step - loss: 1.0777e-06 - rmse: 6.7137e-04 - r_square: 1.0000 - val_loss: 8.4987e-07 - val_rmse: 6.4643e-04 - val_r_square: 1.0000\n",
      "Epoch 133/200\n",
      "487123/487123 [==============================] - 3s 6us/step - loss: 1.0469e-06 - rmse: 6.6553e-04 - r_square: 1.0000 - val_loss: 7.6233e-07 - val_rmse: 5.6876e-04 - val_r_square: 1.0000\n",
      "Epoch 134/200\n",
      "487123/487123 [==============================] - 3s 6us/step - loss: 1.0461e-06 - rmse: 6.5746e-04 - r_square: 1.0000 - val_loss: 1.2856e-06 - val_rmse: 8.3345e-04 - val_r_square: 0.9999\n",
      "Epoch 135/200\n",
      "487123/487123 [==============================] - 3s 6us/step - loss: 1.0551e-06 - rmse: 6.6075e-04 - r_square: 1.0000 - val_loss: 7.6266e-07 - val_rmse: 5.7262e-04 - val_r_square: 1.0000\n",
      "Epoch 136/200\n",
      "487123/487123 [==============================] - 3s 6us/step - loss: 1.0372e-06 - rmse: 6.6050e-04 - r_square: 1.0000 - val_loss: 7.5480e-07 - val_rmse: 5.6980e-04 - val_r_square: 1.0000\n",
      "Epoch 137/200\n",
      "487123/487123 [==============================] - 3s 6us/step - loss: 1.0639e-06 - rmse: 6.6687e-04 - r_square: 1.0000 - val_loss: 1.9454e-06 - val_rmse: 9.2244e-04 - val_r_square: 0.9999\n",
      "Epoch 138/200\n",
      "487123/487123 [==============================] - 3s 6us/step - loss: 1.0275e-06 - rmse: 6.5420e-04 - r_square: 1.0000 - val_loss: 9.6435e-07 - val_rmse: 6.4690e-04 - val_r_square: 1.0000\n",
      "Epoch 139/200\n",
      "487123/487123 [==============================] - 3s 6us/step - loss: 1.1456e-06 - rmse: 6.7783e-04 - r_square: 1.0000 - val_loss: 7.6052e-07 - val_rmse: 5.4583e-04 - val_r_square: 1.0000\n",
      "Epoch 140/200\n",
      "487123/487123 [==============================] - 3s 6us/step - loss: 1.0388e-06 - rmse: 6.5519e-04 - r_square: 1.0000 - val_loss: 2.1363e-06 - val_rmse: 9.4981e-04 - val_r_square: 0.9999\n",
      "Epoch 141/200\n",
      "487123/487123 [==============================] - 3s 6us/step - loss: 9.9875e-07 - rmse: 6.4506e-04 - r_square: 1.0000 - val_loss: 7.6151e-07 - val_rmse: 5.3775e-04 - val_r_square: 1.0000\n",
      "Epoch 142/200\n",
      "487123/487123 [==============================] - 3s 6us/step - loss: 9.9522e-07 - rmse: 6.4662e-04 - r_square: 1.0000 - val_loss: 7.0067e-07 - val_rmse: 5.1449e-04 - val_r_square: 1.0000\n",
      "Epoch 143/200\n",
      "487123/487123 [==============================] - 3s 6us/step - loss: 1.0171e-06 - rmse: 6.5187e-04 - r_square: 1.0000 - val_loss: 8.3713e-07 - val_rmse: 6.0998e-04 - val_r_square: 1.0000\n",
      "Epoch 144/200\n",
      "487123/487123 [==============================] - 3s 6us/step - loss: 1.0094e-06 - rmse: 6.4493e-04 - r_square: 1.0000 - val_loss: 1.8021e-06 - val_rmse: 9.8252e-04 - val_r_square: 0.9999\n",
      "Epoch 145/200\n",
      "487123/487123 [==============================] - 3s 6us/step - loss: 1.0061e-06 - rmse: 6.4876e-04 - r_square: 1.0000 - val_loss: 9.4665e-07 - val_rmse: 6.7806e-04 - val_r_square: 1.0000\n",
      "Epoch 146/200\n",
      "487123/487123 [==============================] - 3s 6us/step - loss: 1.0157e-06 - rmse: 6.4755e-04 - r_square: 1.0000 - val_loss: 2.4561e-06 - val_rmse: 0.0010 - val_r_square: 0.9999\n",
      "Epoch 147/200\n",
      "487123/487123 [==============================] - 3s 6us/step - loss: 9.8050e-07 - rmse: 6.4028e-04 - r_square: 1.0000 - val_loss: 9.4935e-07 - val_rmse: 6.3734e-04 - val_r_square: 1.0000\n",
      "Epoch 148/200\n",
      "487123/487123 [==============================] - 3s 6us/step - loss: 1.0512e-06 - rmse: 6.6381e-04 - r_square: 1.0000 - val_loss: 7.6324e-07 - val_rmse: 5.7199e-04 - val_r_square: 1.0000\n",
      "Epoch 149/200\n",
      "487123/487123 [==============================] - 3s 6us/step - loss: 9.6372e-07 - rmse: 6.3723e-04 - r_square: 1.0000 - val_loss: 1.2222e-06 - val_rmse: 6.7562e-04 - val_r_square: 0.9999\n",
      "Epoch 150/200\n",
      "487123/487123 [==============================] - 3s 6us/step - loss: 1.0206e-06 - rmse: 6.5432e-04 - r_square: 1.0000 - val_loss: 1.1682e-06 - val_rmse: 7.0309e-04 - val_r_square: 1.0000\n",
      "Epoch 151/200\n",
      "487123/487123 [==============================] - 3s 6us/step - loss: 9.8837e-07 - rmse: 6.4303e-04 - r_square: 1.0000 - val_loss: 6.4529e-07 - val_rmse: 5.2292e-04 - val_r_square: 1.0000\n",
      "Epoch 152/200\n",
      "487123/487123 [==============================] - 3s 6us/step - loss: 1.0165e-06 - rmse: 6.4804e-04 - r_square: 1.0000 - val_loss: 6.1863e-07 - val_rmse: 4.9569e-04 - val_r_square: 1.0000\n",
      "Epoch 153/200\n",
      "487123/487123 [==============================] - 3s 6us/step - loss: 1.0506e-06 - rmse: 6.5924e-04 - r_square: 1.0000 - val_loss: 1.4366e-06 - val_rmse: 8.3423e-04 - val_r_square: 0.9999\n",
      "Epoch 154/200\n",
      "487123/487123 [==============================] - 3s 6us/step - loss: 9.6859e-07 - rmse: 6.3607e-04 - r_square: 1.0000 - val_loss: 1.0909e-06 - val_rmse: 6.9463e-04 - val_r_square: 1.0000\n",
      "Epoch 155/200\n",
      "487123/487123 [==============================] - 3s 6us/step - loss: 9.9141e-07 - rmse: 6.4259e-04 - r_square: 1.0000 - val_loss: 7.4365e-07 - val_rmse: 5.3976e-04 - val_r_square: 1.0000\n",
      "Epoch 156/200\n",
      "487123/487123 [==============================] - 3s 6us/step - loss: 1.0359e-06 - rmse: 6.5318e-04 - r_square: 1.0000 - val_loss: 6.4938e-07 - val_rmse: 5.0975e-04 - val_r_square: 1.0000\n",
      "Epoch 157/200\n",
      "487123/487123 [==============================] - 3s 6us/step - loss: 9.7514e-07 - rmse: 6.3970e-04 - r_square: 1.0000 - val_loss: 1.2756e-06 - val_rmse: 7.6399e-04 - val_r_square: 0.9999\n",
      "Epoch 158/200\n",
      "487123/487123 [==============================] - 3s 6us/step - loss: 9.7359e-07 - rmse: 6.3836e-04 - r_square: 1.0000 - val_loss: 8.5583e-07 - val_rmse: 6.1909e-04 - val_r_square: 1.0000\n",
      "Epoch 159/200\n",
      "487123/487123 [==============================] - 3s 6us/step - loss: 9.9301e-07 - rmse: 6.4304e-04 - r_square: 1.0000 - val_loss: 1.9792e-06 - val_rmse: 9.3578e-04 - val_r_square: 0.9999\n",
      "Epoch 160/200\n",
      "487123/487123 [==============================] - 3s 6us/step - loss: 1.0435e-06 - rmse: 6.5947e-04 - r_square: 1.0000 - val_loss: 8.4889e-07 - val_rmse: 6.2001e-04 - val_r_square: 1.0000\n",
      "Epoch 161/200\n",
      "487123/487123 [==============================] - 3s 6us/step - loss: 9.8647e-07 - rmse: 6.4120e-04 - r_square: 1.0000 - val_loss: 7.3800e-07 - val_rmse: 5.4508e-04 - val_r_square: 1.0000\n",
      "Epoch 162/200\n",
      "487123/487123 [==============================] - 3s 6us/step - loss: 1.0124e-06 - rmse: 6.4134e-04 - r_square: 1.0000 - val_loss: 7.0893e-07 - val_rmse: 5.4060e-04 - val_r_square: 1.0000\n",
      "Epoch 163/200\n",
      "487123/487123 [==============================] - 3s 6us/step - loss: 9.2290e-07 - rmse: 6.2122e-04 - r_square: 1.0000 - val_loss: 6.6010e-07 - val_rmse: 5.4764e-04 - val_r_square: 1.0000\n",
      "Epoch 164/200\n",
      "487123/487123 [==============================] - 3s 6us/step - loss: 1.0130e-06 - rmse: 6.4174e-04 - r_square: 1.0000 - val_loss: 6.8851e-07 - val_rmse: 5.3288e-04 - val_r_square: 1.0000\n",
      "Epoch 165/200\n",
      "487123/487123 [==============================] - 3s 6us/step - loss: 9.7461e-07 - rmse: 6.2968e-04 - r_square: 1.0000 - val_loss: 8.0318e-07 - val_rmse: 5.8124e-04 - val_r_square: 1.0000\n"
     ]
    },
    {
     "name": "stdout",
     "output_type": "stream",
     "text": [
      "Epoch 166/200\n",
      "487123/487123 [==============================] - 3s 6us/step - loss: 9.7504e-07 - rmse: 6.3856e-04 - r_square: 1.0000 - val_loss: 8.5933e-07 - val_rmse: 6.2794e-04 - val_r_square: 1.0000\n",
      "Epoch 167/200\n",
      "487123/487123 [==============================] - 3s 6us/step - loss: 9.4290e-07 - rmse: 6.2542e-04 - r_square: 1.0000 - val_loss: 6.8390e-07 - val_rmse: 5.4881e-04 - val_r_square: 1.0000\n",
      "Epoch 168/200\n",
      "487123/487123 [==============================] - 3s 6us/step - loss: 9.6348e-07 - rmse: 6.3295e-04 - r_square: 1.0000 - val_loss: 8.7329e-07 - val_rmse: 5.9684e-04 - val_r_square: 1.0000\n",
      "Epoch 169/200\n",
      "487123/487123 [==============================] - 3s 6us/step - loss: 9.6115e-07 - rmse: 6.3060e-04 - r_square: 1.0000 - val_loss: 1.1565e-06 - val_rmse: 6.9624e-04 - val_r_square: 1.0000\n",
      "Epoch 170/200\n",
      "487123/487123 [==============================] - 3s 6us/step - loss: 9.6600e-07 - rmse: 6.3447e-04 - r_square: 1.0000 - val_loss: 8.6323e-07 - val_rmse: 5.8660e-04 - val_r_square: 1.0000\n",
      "Epoch 171/200\n",
      "487123/487123 [==============================] - 3s 6us/step - loss: 9.6995e-07 - rmse: 6.3189e-04 - r_square: 1.0000 - val_loss: 1.6168e-06 - val_rmse: 8.1573e-04 - val_r_square: 0.9999\n",
      "Epoch 172/200\n",
      "487123/487123 [==============================] - 3s 6us/step - loss: 9.5535e-07 - rmse: 6.2914e-04 - r_square: 1.0000 - val_loss: 2.3770e-06 - val_rmse: 0.0010 - val_r_square: 0.9999\n",
      "Epoch 173/200\n",
      "487123/487123 [==============================] - 3s 6us/step - loss: 1.0141e-06 - rmse: 6.4576e-04 - r_square: 1.0000 - val_loss: 1.3644e-06 - val_rmse: 7.5656e-04 - val_r_square: 0.9999\n",
      "Epoch 174/200\n",
      "487123/487123 [==============================] - 3s 6us/step - loss: 9.3283e-07 - rmse: 6.2269e-04 - r_square: 1.0000 - val_loss: 2.8010e-06 - val_rmse: 0.0012 - val_r_square: 0.9999\n",
      "Epoch 175/200\n",
      "487123/487123 [==============================] - 3s 6us/step - loss: 9.6735e-07 - rmse: 6.3656e-04 - r_square: 1.0000 - val_loss: 6.6991e-07 - val_rmse: 5.1937e-04 - val_r_square: 1.0000\n",
      "Epoch 176/200\n",
      "487123/487123 [==============================] - 3s 6us/step - loss: 9.2136e-07 - rmse: 6.1785e-04 - r_square: 1.0000 - val_loss: 1.0393e-06 - val_rmse: 6.6728e-04 - val_r_square: 1.0000\n",
      "Epoch 177/200\n",
      "487123/487123 [==============================] - 3s 6us/step - loss: 9.2761e-07 - rmse: 6.2248e-04 - r_square: 1.0000 - val_loss: 8.7180e-07 - val_rmse: 6.2581e-04 - val_r_square: 1.0000\n",
      "Epoch 178/200\n",
      "487123/487123 [==============================] - 3s 6us/step - loss: 9.8738e-07 - rmse: 6.3913e-04 - r_square: 1.0000 - val_loss: 9.6422e-07 - val_rmse: 6.4079e-04 - val_r_square: 1.0000\n",
      "Epoch 179/200\n",
      "487123/487123 [==============================] - 3s 6us/step - loss: 9.0298e-07 - rmse: 6.1508e-04 - r_square: 1.0000 - val_loss: 1.1513e-06 - val_rmse: 6.6096e-04 - val_r_square: 1.0000\n",
      "Epoch 180/200\n",
      "487123/487123 [==============================] - 3s 6us/step - loss: 9.2635e-07 - rmse: 6.2136e-04 - r_square: 1.0000 - val_loss: 9.1805e-07 - val_rmse: 6.3086e-04 - val_r_square: 1.0000\n",
      "Epoch 181/200\n",
      "487123/487123 [==============================] - 3s 6us/step - loss: 9.4463e-07 - rmse: 6.2806e-04 - r_square: 1.0000 - val_loss: 6.2683e-07 - val_rmse: 5.1461e-04 - val_r_square: 1.0000\n",
      "Epoch 182/200\n",
      "487123/487123 [==============================] - 3s 6us/step - loss: 9.2415e-07 - rmse: 6.2288e-04 - r_square: 1.0000 - val_loss: 9.4835e-07 - val_rmse: 6.4953e-04 - val_r_square: 1.0000\n",
      "Epoch 183/200\n",
      "487123/487123 [==============================] - 3s 6us/step - loss: 9.5309e-07 - rmse: 6.3169e-04 - r_square: 1.0000 - val_loss: 8.7574e-07 - val_rmse: 6.0057e-04 - val_r_square: 1.0000\n",
      "Epoch 184/200\n",
      "487123/487123 [==============================] - 3s 6us/step - loss: 9.7015e-07 - rmse: 6.3175e-04 - r_square: 1.0000 - val_loss: 7.6013e-07 - val_rmse: 5.5009e-04 - val_r_square: 1.0000\n",
      "Epoch 185/200\n",
      "487123/487123 [==============================] - 3s 6us/step - loss: 9.6024e-07 - rmse: 6.3002e-04 - r_square: 1.0000 - val_loss: 6.8208e-07 - val_rmse: 5.4151e-04 - val_r_square: 1.0000\n",
      "Epoch 186/200\n",
      "487123/487123 [==============================] - 3s 6us/step - loss: 9.3555e-07 - rmse: 6.1960e-04 - r_square: 1.0000 - val_loss: 6.0439e-07 - val_rmse: 4.9843e-04 - val_r_square: 1.0000\n",
      "Epoch 187/200\n",
      "487123/487123 [==============================] - 3s 6us/step - loss: 9.1557e-07 - rmse: 6.1936e-04 - r_square: 1.0000 - val_loss: 9.3407e-07 - val_rmse: 6.1575e-04 - val_r_square: 1.0000\n",
      "Epoch 188/200\n",
      "487123/487123 [==============================] - 3s 6us/step - loss: 9.5176e-07 - rmse: 6.2942e-04 - r_square: 1.0000 - val_loss: 1.7809e-06 - val_rmse: 8.9731e-04 - val_r_square: 0.9999\n",
      "Epoch 189/200\n",
      "487123/487123 [==============================] - 3s 6us/step - loss: 9.1597e-07 - rmse: 6.1736e-04 - r_square: 1.0000 - val_loss: 6.3018e-07 - val_rmse: 4.9701e-04 - val_r_square: 1.0000\n",
      "Epoch 190/200\n",
      "487123/487123 [==============================] - 3s 6us/step - loss: 9.1824e-07 - rmse: 6.1698e-04 - r_square: 1.0000 - val_loss: 7.4727e-07 - val_rmse: 5.5460e-04 - val_r_square: 1.0000\n",
      "Epoch 191/200\n",
      "487123/487123 [==============================] - 3s 6us/step - loss: 9.4608e-07 - rmse: 6.2725e-04 - r_square: 1.0000 - val_loss: 1.1093e-06 - val_rmse: 6.5087e-04 - val_r_square: 1.0000\n",
      "Epoch 192/200\n",
      "487123/487123 [==============================] - 3s 6us/step - loss: 9.5840e-07 - rmse: 6.2966e-04 - r_square: 1.0000 - val_loss: 6.8189e-07 - val_rmse: 5.2949e-04 - val_r_square: 1.0000\n",
      "Epoch 193/200\n",
      "487123/487123 [==============================] - 3s 6us/step - loss: 9.0399e-07 - rmse: 6.1244e-04 - r_square: 1.0000 - val_loss: 6.4116e-07 - val_rmse: 5.0517e-04 - val_r_square: 1.0000\n",
      "Epoch 194/200\n",
      "487123/487123 [==============================] - 3s 6us/step - loss: 9.4002e-07 - rmse: 6.2862e-04 - r_square: 1.0000 - val_loss: 6.8991e-07 - val_rmse: 5.2028e-04 - val_r_square: 1.0000\n",
      "Epoch 195/200\n",
      "487123/487123 [==============================] - 3s 6us/step - loss: 9.2903e-07 - rmse: 6.2244e-04 - r_square: 1.0000 - val_loss: 8.2668e-07 - val_rmse: 6.0182e-04 - val_r_square: 1.0000\n",
      "Epoch 196/200\n",
      "487123/487123 [==============================] - 3s 6us/step - loss: 9.0736e-07 - rmse: 6.1383e-04 - r_square: 1.0000 - val_loss: 9.3181e-07 - val_rmse: 6.0412e-04 - val_r_square: 1.0000\n",
      "Epoch 197/200\n",
      "487123/487123 [==============================] - 3s 6us/step - loss: 9.1245e-07 - rmse: 6.1641e-04 - r_square: 1.0000 - val_loss: 6.9863e-07 - val_rmse: 5.6607e-04 - val_r_square: 1.0000\n",
      "Epoch 198/200\n",
      "487123/487123 [==============================] - 3s 6us/step - loss: 9.8491e-07 - rmse: 6.3749e-04 - r_square: 1.0000 - val_loss: 6.4200e-07 - val_rmse: 5.0578e-04 - val_r_square: 1.0000\n",
      "Epoch 199/200\n",
      "487123/487123 [==============================] - 3s 6us/step - loss: 9.2819e-07 - rmse: 6.2152e-04 - r_square: 1.0000 - val_loss: 6.5514e-07 - val_rmse: 5.1966e-04 - val_r_square: 1.0000\n",
      "Epoch 200/200\n",
      "487123/487123 [==============================] - 3s 6us/step - loss: 9.3953e-07 - rmse: 6.2429e-04 - r_square: 1.0000 - val_loss: 7.2927e-07 - val_rmse: 5.7737e-04 - val_r_square: 1.0000\n"
     ]
    }
   ],
   "source": [
    "result = model.fit(X_train, \n",
    "                   y_train,\n",
    "                   epochs = 200,\n",
    "                   batch_size=256,\n",
    "                   validation_data=(X_test, y_test),\n",
    "                   callbacks = [es]\n",
    "                  )"
   ]
  },
  {
   "cell_type": "code",
   "execution_count": 24,
   "metadata": {},
   "outputs": [],
   "source": [
    "model.save_weights('model.h5')"
   ]
  },
  {
   "cell_type": "code",
   "execution_count": 26,
   "metadata": {},
   "outputs": [
    {
     "name": "stdout",
     "output_type": "stream",
     "text": [
      "[[4.5010909e-02]\n",
      " [3.7402275e-01]\n",
      " [1.3039058e-01]\n",
      " [4.9441393e-02]\n",
      " [3.2044992e-02]\n",
      " [1.8091969e-02]\n",
      " [5.7085192e-01]\n",
      " [1.3830094e-04]\n",
      " [1.2175827e-03]\n",
      " [1.9953635e-01]]\n"
     ]
    }
   ],
   "source": [
    "predictions = model.predict(X_test)\n",
    "print(predictions[:10])"
   ]
  },
  {
   "cell_type": "code",
   "execution_count": 67,
   "metadata": {},
   "outputs": [
    {
     "data": {
      "text/plain": [
       "array([[4.29719291e-02],\n",
       "       [3.73104071e-01],\n",
       "       [1.29315320e-01],\n",
       "       [5.07406147e-02],\n",
       "       [3.17998195e-02],\n",
       "       [1.70023232e-02],\n",
       "       [5.70946596e-01],\n",
       "       [4.43924888e-05],\n",
       "       [9.76634753e-04],\n",
       "       [1.98123677e-01]])"
      ]
     },
     "execution_count": 67,
     "metadata": {},
     "output_type": "execute_result"
    }
   ],
   "source": [
    "y_test[:10]"
   ]
  },
  {
   "cell_type": "code",
   "execution_count": 31,
   "metadata": {},
   "outputs": [
    {
     "data": {
      "image/png": "[encoded data removed]",
      "text/plain": [
       "<Figure size 432x288 with 1 Axes>"
      ]
     },
     "metadata": {},
     "output_type": "display_data"
    }
   ],
   "source": [
    "# plot training curve for rmse\n",
    "plt.plot(result.history['rmse'])\n",
    "plt.plot(result.history['val_rmse'])\n",
    "plt.title('rmse')\n",
    "plt.ylabel('rmse')\n",
    "plt.xlabel('epoch')\n",
    "plt.legend(['train', 'test'], loc='upper right')\n",
    "plt.show()"
   ]
  },
  {
   "cell_type": "code",
   "execution_count": 30,
   "metadata": {},
   "outputs": [
    {
     "data": {
      "image/png": "[encoded data removed]",
      "text/plain": [
       "<Figure size 432x288 with 1 Axes>"
      ]
     },
     "metadata": {},
     "output_type": "display_data"
    }
   ],
   "source": [
    "# plot training curve for R^2 (beware of scale, starts very low negative)\n",
    "plt.plot(result.history['val_r_square'])\n",
    "plt.plot(result.history['r_square'])\n",
    "plt.title('model R^2')\n",
    "plt.ylabel('R^2')\n",
    "plt.xlabel('epoch')\n",
    "plt.legend(['train', 'test'], loc='lower right')\n",
    "plt.show()"
   ]
  },
  {
   "cell_type": "code",
   "execution_count": 28,
   "metadata": {},
   "outputs": [
    {
     "data": {
      "image/png": "[encoded data removed]",
      "text/plain": [
       "<Figure size 432x288 with 1 Axes>"
      ]
     },
     "metadata": {},
     "output_type": "display_data"
    }
   ],
   "source": [
    "# print the linear regression and display datapoints\n",
    "from sklearn.linear_model import LinearRegression  \n",
    "regressor = LinearRegression()  \n",
    "regressor.fit(y_test.reshape(-1,1), predictions)  \n",
    "y_fit = regressor.predict(predictions) \n",
    "\n",
    "reg_intercept = round(regressor.intercept_[0],4)\n",
    "reg_coef = round(regressor.coef_.flatten()[0],4)\n",
    "reg_label = \"y = \" + str(reg_intercept) + \"*x +\" + str(reg_coef)\n",
    "\n",
    "plt.scatter(y_test, predictions, color='blue', label= 'data')\n",
    "plt.plot(predictions, y_fit, color='red', linewidth=2, label = 'Linear regression\\n'+reg_label) \n",
    "plt.title('Linear Regression')\n",
    "plt.legend()\n",
    "plt.xlabel('observed')\n",
    "plt.ylabel('predicted')\n",
    "plt.show()"
   ]
  },
  {
   "cell_type": "code",
   "execution_count": 32,
   "metadata": {},
   "outputs": [
    {
     "name": "stdout",
     "output_type": "stream",
     "text": [
      "\n",
      "\n",
      "Mean absolute error (MAE):      0.000577\n",
      "Mean squared error (MSE):       0.000001\n",
      "Root mean squared error (RMSE): 0.000854\n",
      "R square (R^2):                 0.999970\n"
     ]
    }
   ],
   "source": [
    "import sklearn.metrics, math\n",
    "print(\"\\n\")\n",
    "print(\"Mean absolute error (MAE):      %f\" % sklearn.metrics.mean_absolute_error(y_test,predictions))\n",
    "print(\"Mean squared error (MSE):       %f\" % sklearn.metrics.mean_squared_error(y_test,predictions))\n",
    "print(\"Root mean squared error (RMSE): %f\" % math.sqrt(sklearn.metrics.mean_squared_error(y_test,predictions)))\n",
    "print(\"R square (R^2):                 %f\" % sklearn.metrics.r2_score(y_test,predictions))"
   ]
  },
  {
   "cell_type": "code",
   "execution_count": null,
   "metadata": {},
   "outputs": [],
   "source": []
  }
 ],
 "metadata": {
  "kernelspec": {
   "display_name": "Python 3",
   "language": "python",
   "name": "python3"
  },
  "language_info": {
   "codemirror_mode": {
    "name": "ipython",
    "version": 3
   },
   "file_extension": ".py",
   "mimetype": "text/x-python",
   "name": "python",
   "nbconvert_exporter": "python",
   "pygments_lexer": "ipython3",
   "version": "3.6.5"
  }
 },
 "nbformat": 4,
 "nbformat_minor": 2
}
