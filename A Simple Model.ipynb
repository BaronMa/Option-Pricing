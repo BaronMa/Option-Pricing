{
 "cells": [
  {
   "cell_type": "code",
   "execution_count": 1,
   "metadata": {},
   "outputs": [
    {
     "name": "stderr",
     "output_type": "stream",
     "text": [
      "C:\\Program Files\\Anaconda3\\lib\\site-packages\\h5py\\__init__.py:36: FutureWarning: Conversion of the second argument of issubdtype from `float` to `np.floating` is deprecated. In future, it will be treated as `np.float64 == np.dtype(float).type`.\n",
      "  from ._conv import register_converters as _register_converters\n",
      "Using TensorFlow backend.\n"
     ]
    }
   ],
   "source": [
    "import pandas as pd\n",
    "from keras.models import Sequential\n",
    "from keras.layers import Dense\n",
    "from sklearn.model_selection import train_test_split"
   ]
  },
  {
   "cell_type": "code",
   "execution_count": 3,
   "metadata": {},
   "outputs": [],
   "source": [
    "df = pd.read_csv('Cleaned_withoutNaN.csv')\n",
    "df.drop(['Highest Closing Bid Across All Exchanges', 'The Date of this Price', 'Expiration Date of the Option'], axis = 1, inplace = True)"
   ]
  },
  {
   "cell_type": "code",
   "execution_count": 4,
   "metadata": {},
   "outputs": [
    {
     "data": {
      "text/html": [
       "<div>\n",
       "<style scoped>\n",
       "    .dataframe tbody tr th:only-of-type {\n",
       "        vertical-align: middle;\n",
       "    }\n",
       "\n",
       "    .dataframe tbody tr th {\n",
       "        vertical-align: top;\n",
       "    }\n",
       "\n",
       "    .dataframe thead th {\n",
       "        text-align: right;\n",
       "    }\n",
       "</style>\n",
       "<table border=\"1\" class=\"dataframe\">\n",
       "  <thead>\n",
       "    <tr style=\"text-align: right;\">\n",
       "      <th></th>\n",
       "      <th>Strike Price</th>\n",
       "      <th>Lowest  Closing Ask Across All Exchanges</th>\n",
       "      <th>Implied Volatility of the Option</th>\n",
       "      <th>Underlying Price</th>\n",
       "      <th>maturity</th>\n",
       "      <th>C=Call, P=Put_C</th>\n",
       "      <th>C=Call, P=Put_P</th>\n",
       "    </tr>\n",
       "  </thead>\n",
       "  <tbody>\n",
       "    <tr>\n",
       "      <th>0</th>\n",
       "      <td>590</td>\n",
       "      <td>85.50</td>\n",
       "      <td>0.636391</td>\n",
       "      <td>674.97</td>\n",
       "      <td>3</td>\n",
       "      <td>1</td>\n",
       "      <td>0</td>\n",
       "    </tr>\n",
       "    <tr>\n",
       "      <th>1</th>\n",
       "      <td>610</td>\n",
       "      <td>65.45</td>\n",
       "      <td>0.495483</td>\n",
       "      <td>674.97</td>\n",
       "      <td>3</td>\n",
       "      <td>1</td>\n",
       "      <td>0</td>\n",
       "    </tr>\n",
       "    <tr>\n",
       "      <th>2</th>\n",
       "      <td>615</td>\n",
       "      <td>60.25</td>\n",
       "      <td>0.408294</td>\n",
       "      <td>674.97</td>\n",
       "      <td>3</td>\n",
       "      <td>1</td>\n",
       "      <td>0</td>\n",
       "    </tr>\n",
       "    <tr>\n",
       "      <th>3</th>\n",
       "      <td>620</td>\n",
       "      <td>55.25</td>\n",
       "      <td>0.376411</td>\n",
       "      <td>674.97</td>\n",
       "      <td>3</td>\n",
       "      <td>1</td>\n",
       "      <td>0</td>\n",
       "    </tr>\n",
       "    <tr>\n",
       "      <th>4</th>\n",
       "      <td>625</td>\n",
       "      <td>50.25</td>\n",
       "      <td>0.363375</td>\n",
       "      <td>674.97</td>\n",
       "      <td>3</td>\n",
       "      <td>1</td>\n",
       "      <td>0</td>\n",
       "    </tr>\n",
       "  </tbody>\n",
       "</table>\n",
       "</div>"
      ],
      "text/plain": [
       "   Strike Price  Lowest  Closing Ask Across All Exchanges  \\\n",
       "0           590                                     85.50   \n",
       "1           610                                     65.45   \n",
       "2           615                                     60.25   \n",
       "3           620                                     55.25   \n",
       "4           625                                     50.25   \n",
       "\n",
       "   Implied Volatility of the Option  Underlying Price  maturity  \\\n",
       "0                          0.636391            674.97         3   \n",
       "1                          0.495483            674.97         3   \n",
       "2                          0.408294            674.97         3   \n",
       "3                          0.376411            674.97         3   \n",
       "4                          0.363375            674.97         3   \n",
       "\n",
       "   C=Call, P=Put_C  C=Call, P=Put_P  \n",
       "0                1                0  \n",
       "1                1                0  \n",
       "2                1                0  \n",
       "3                1                0  \n",
       "4                1                0  "
      ]
     },
     "execution_count": 4,
     "metadata": {},
     "output_type": "execute_result"
    }
   ],
   "source": [
    "df.head()"
   ]
  },
  {
   "cell_type": "code",
   "execution_count": 5,
   "metadata": {},
   "outputs": [],
   "source": [
    "df_y = pd.DataFrame()\n",
    "df_y['Option Price'] = df['Lowest  Closing Ask Across All Exchanges']\n",
    "df.drop(['Lowest  Closing Ask Across All Exchanges'], axis = 1, inplace = True)"
   ]
  },
  {
   "cell_type": "code",
   "execution_count": 6,
   "metadata": {},
   "outputs": [
    {
     "data": {
      "text/html": [
       "<div>\n",
       "<style scoped>\n",
       "    .dataframe tbody tr th:only-of-type {\n",
       "        vertical-align: middle;\n",
       "    }\n",
       "\n",
       "    .dataframe tbody tr th {\n",
       "        vertical-align: top;\n",
       "    }\n",
       "\n",
       "    .dataframe thead th {\n",
       "        text-align: right;\n",
       "    }\n",
       "</style>\n",
       "<table border=\"1\" class=\"dataframe\">\n",
       "  <thead>\n",
       "    <tr style=\"text-align: right;\">\n",
       "      <th></th>\n",
       "      <th>Option Price</th>\n",
       "    </tr>\n",
       "  </thead>\n",
       "  <tbody>\n",
       "    <tr>\n",
       "      <th>0</th>\n",
       "      <td>85.50</td>\n",
       "    </tr>\n",
       "    <tr>\n",
       "      <th>1</th>\n",
       "      <td>65.45</td>\n",
       "    </tr>\n",
       "    <tr>\n",
       "      <th>2</th>\n",
       "      <td>60.25</td>\n",
       "    </tr>\n",
       "    <tr>\n",
       "      <th>3</th>\n",
       "      <td>55.25</td>\n",
       "    </tr>\n",
       "    <tr>\n",
       "      <th>4</th>\n",
       "      <td>50.25</td>\n",
       "    </tr>\n",
       "  </tbody>\n",
       "</table>\n",
       "</div>"
      ],
      "text/plain": [
       "   Option Price\n",
       "0         85.50\n",
       "1         65.45\n",
       "2         60.25\n",
       "3         55.25\n",
       "4         50.25"
      ]
     },
     "execution_count": 6,
     "metadata": {},
     "output_type": "execute_result"
    }
   ],
   "source": [
    "df_y.head()"
   ]
  },
  {
   "cell_type": "code",
   "execution_count": 7,
   "metadata": {},
   "outputs": [],
   "source": [
    "X_train, X_test, y_train, y_test = train_test_split(df, df_y, test_size=0.33, random_state=42)"
   ]
  },
  {
   "cell_type": "code",
   "execution_count": 8,
   "metadata": {},
   "outputs": [
    {
     "name": "stdout",
     "output_type": "stream",
     "text": [
      "(368282, 6)\n",
      "(368282, 1)\n"
     ]
    }
   ],
   "source": [
    "print(X_train.shape)\n",
    "print(y_train.shape)"
   ]
  },
  {
   "cell_type": "code",
   "execution_count": 9,
   "metadata": {},
   "outputs": [],
   "source": [
    "XX_train, XX_validation, yy_train, yy_validation = train_test_split(X_train, y_train, test_size=0.2, random_state=42)"
   ]
  },
  {
   "cell_type": "code",
   "execution_count": 13,
   "metadata": {},
   "outputs": [
    {
     "name": "stdout",
     "output_type": "stream",
     "text": [
      "(294625, 6)\n",
      "(294625, 1)\n"
     ]
    }
   ],
   "source": [
    "print(XX_train.shape)\n",
    "print(yy_train.shape)"
   ]
  },
  {
   "cell_type": "code",
   "execution_count": 19,
   "metadata": {},
   "outputs": [],
   "source": [
    "model = Sequential([\n",
    "    Dense(128, activation='relu', input_shape=(6,)),\n",
    "    Dense(256, activation='relu'),\n",
    "    Dense(1, activation='linear'),\n",
    "])"
   ]
  },
  {
   "cell_type": "code",
   "execution_count": 20,
   "metadata": {},
   "outputs": [],
   "source": [
    "model.compile(\n",
    "  optimizer='adam',\n",
    "  loss='mse',\n",
    "  metrics=['accuracy'],\n",
    ")"
   ]
  },
  {
   "cell_type": "code",
   "execution_count": 22,
   "metadata": {},
   "outputs": [
    {
     "name": "stdout",
     "output_type": "stream",
     "text": [
      "Epoch 1/100\n",
      "294625/294625 [==============================] - 3s 11us/step - loss: 6.0663 - acc: 0.0066\n",
      "Epoch 2/100\n",
      "294625/294625 [==============================] - 3s 11us/step - loss: 11.3576 - acc: 0.0063\n",
      "Epoch 3/100\n",
      "294625/294625 [==============================] - 3s 11us/step - loss: 6.2037 - acc: 0.0064: 2s - loss: 5.5056  - ETA: 1\n",
      "Epoch 4/100\n",
      "294625/294625 [==============================] - 3s 11us/step - loss: 7.3081 - acc: 0.0061\n",
      "Epoch 5/100\n",
      "294625/294625 [==============================] - 3s 10us/step - loss: 9.2343 - acc: 0.0062\n",
      "Epoch 6/100\n",
      "294625/294625 [==============================] - 3s 11us/step - loss: 5.5816 - acc: 0.0070\n",
      "Epoch 7/100\n",
      "294625/294625 [==============================] - 3s 11us/step - loss: 12.3720 - acc: 0.0070\n",
      "Epoch 8/100\n",
      "294625/294625 [==============================] - 3s 11us/step - loss: 5.7393 - acc: 0.0065\n",
      "Epoch 9/100\n",
      "294625/294625 [==============================] - 3s 11us/step - loss: 8.7794 - acc: 0.0067\n",
      "Epoch 10/100\n",
      "294625/294625 [==============================] - 3s 11us/step - loss: 5.6483 - acc: 0.0066\n",
      "Epoch 11/100\n",
      "294625/294625 [==============================] - 3s 11us/step - loss: 5.9843 - acc: 0.0065\n",
      "Epoch 12/100\n",
      "294625/294625 [==============================] - 3s 11us/step - loss: 7.1361 - acc: 0.0071\n",
      "Epoch 13/100\n",
      "294625/294625 [==============================] - 3s 11us/step - loss: 5.6835 - acc: 0.0071\n",
      "Epoch 14/100\n",
      "294625/294625 [==============================] - 3s 11us/step - loss: 5.3574 - acc: 0.0072\n",
      "Epoch 15/100\n",
      "294625/294625 [==============================] - 3s 11us/step - loss: 7.2892 - acc: 0.0072\n",
      "Epoch 16/100\n",
      "294625/294625 [==============================] - 3s 11us/step - loss: 4.8435 - acc: 0.0076\n",
      "Epoch 17/100\n",
      "294625/294625 [==============================] - 3s 11us/step - loss: 5.1861 - acc: 0.0071\n",
      "Epoch 18/100\n",
      "294625/294625 [==============================] - 3s 11us/step - loss: 7.7134 - acc: 0.0075\n",
      "Epoch 19/100\n",
      "294625/294625 [==============================] - 3s 11us/step - loss: 10.3385 - acc: 0.0070\n",
      "Epoch 20/100\n",
      "294625/294625 [==============================] - 3s 11us/step - loss: 5.3077 - acc: 0.0070\n",
      "Epoch 21/100\n",
      "294625/294625 [==============================] - 3s 11us/step - loss: 9.9511 - acc: 0.0069\n",
      "Epoch 22/100\n",
      "294625/294625 [==============================] - 3s 11us/step - loss: 4.1953 - acc: 0.0074\n",
      "Epoch 23/100\n",
      "294625/294625 [==============================] - 3s 11us/step - loss: 4.7851 - acc: 0.0074\n",
      "Epoch 24/100\n",
      "294625/294625 [==============================] - 3s 11us/step - loss: 4.9630 - acc: 0.0076\n",
      "Epoch 25/100\n",
      "294625/294625 [==============================] - 3s 11us/step - loss: 5.1094 - acc: 0.0076\n",
      "Epoch 26/100\n",
      "294625/294625 [==============================] - 3s 11us/step - loss: 4.2697 - acc: 0.0078\n",
      "Epoch 27/100\n",
      "294625/294625 [==============================] - 3s 11us/step - loss: 4.4539 - acc: 0.0078\n",
      "Epoch 28/100\n",
      "294625/294625 [==============================] - 3s 11us/step - loss: 4.2785 - acc: 0.0077\n",
      "Epoch 29/100\n",
      "294625/294625 [==============================] - 3s 11us/step - loss: 4.2871 - acc: 0.0080\n",
      "Epoch 30/100\n",
      "294625/294625 [==============================] - 3s 11us/step - loss: 4.0812 - acc: 0.0081\n",
      "Epoch 31/100\n",
      "294625/294625 [==============================] - 3s 11us/step - loss: 4.0793 - acc: 0.0083\n",
      "Epoch 32/100\n",
      "294625/294625 [==============================] - 3s 11us/step - loss: 4.1190 - acc: 0.0084\n",
      "Epoch 33/100\n",
      "294625/294625 [==============================] - 3s 11us/step - loss: 5.2448 - acc: 0.0080\n",
      "Epoch 34/100\n",
      "294625/294625 [==============================] - 3s 11us/step - loss: 3.3346 - acc: 0.0087\n",
      "Epoch 35/100\n",
      "294625/294625 [==============================] - 3s 11us/step - loss: 3.8579 - acc: 0.0084\n",
      "Epoch 36/100\n",
      "294625/294625 [==============================] - 3s 11us/step - loss: 4.0135 - acc: 0.0085\n",
      "Epoch 37/100\n",
      "294625/294625 [==============================] - 3s 11us/step - loss: 4.1356 - acc: 0.0087\n",
      "Epoch 38/100\n",
      "294625/294625 [==============================] - 3s 11us/step - loss: 3.3317 - acc: 0.0086\n",
      "Epoch 39/100\n",
      "294625/294625 [==============================] - 3s 11us/step - loss: 3.4553 - acc: 0.0087\n",
      "Epoch 40/100\n",
      "294625/294625 [==============================] - 3s 11us/step - loss: 3.5699 - acc: 0.0092\n",
      "Epoch 41/100\n",
      "294625/294625 [==============================] - 3s 11us/step - loss: 3.2633 - acc: 0.0086\n",
      "Epoch 42/100\n",
      "294625/294625 [==============================] - 3s 11us/step - loss: 3.3839 - acc: 0.0087\n",
      "Epoch 43/100\n",
      "294625/294625 [==============================] - 3s 11us/step - loss: 2.9998 - acc: 0.0093\n",
      "Epoch 44/100\n",
      "294625/294625 [==============================] - 3s 11us/step - loss: 3.4135 - acc: 0.0091\n",
      "Epoch 45/100\n",
      "294625/294625 [==============================] - 3s 11us/step - loss: 3.0640 - acc: 0.0091\n",
      "Epoch 46/100\n",
      "294625/294625 [==============================] - 3s 11us/step - loss: 2.8885 - acc: 0.0094\n",
      "Epoch 47/100\n",
      "294625/294625 [==============================] - 3s 11us/step - loss: 3.0698 - acc: 0.0094\n",
      "Epoch 48/100\n",
      "294625/294625 [==============================] - 3s 11us/step - loss: 2.8730 - acc: 0.0093\n",
      "Epoch 49/100\n",
      "294625/294625 [==============================] - 3s 11us/step - loss: 3.1806 - acc: 0.0096\n",
      "Epoch 50/100\n",
      "294625/294625 [==============================] - 3s 11us/step - loss: 2.6946 - acc: 0.0096\n",
      "Epoch 51/100\n",
      "294625/294625 [==============================] - 3s 11us/step - loss: 2.8165 - acc: 0.0096\n",
      "Epoch 52/100\n",
      "294625/294625 [==============================] - 3s 11us/step - loss: 2.6757 - acc: 0.0098\n",
      "Epoch 53/100\n",
      "294625/294625 [==============================] - 3s 11us/step - loss: 2.5964 - acc: 0.0097\n",
      "Epoch 54/100\n",
      "294625/294625 [==============================] - 3s 11us/step - loss: 2.6880 - acc: 0.0100\n",
      "Epoch 55/100\n",
      "294625/294625 [==============================] - 3s 11us/step - loss: 2.6240 - acc: 0.0102\n",
      "Epoch 56/100\n",
      "294625/294625 [==============================] - 3s 11us/step - loss: 2.6865 - acc: 0.0100\n",
      "Epoch 57/100\n",
      "294625/294625 [==============================] - 3s 11us/step - loss: 2.4120 - acc: 0.0103\n",
      "Epoch 58/100\n",
      "294625/294625 [==============================] - 3s 11us/step - loss: 3.7487 - acc: 0.0101\n",
      "Epoch 59/100\n",
      "294625/294625 [==============================] - 3s 11us/step - loss: 2.5503 - acc: 0.0096\n",
      "Epoch 60/100\n",
      "294625/294625 [==============================] - 3s 11us/step - loss: 2.5721 - acc: 0.0101\n",
      "Epoch 61/100\n",
      "294625/294625 [==============================] - 3s 11us/step - loss: 3.2960 - acc: 0.0100\n",
      "Epoch 62/100\n",
      "294625/294625 [==============================] - 3s 11us/step - loss: 2.2733 - acc: 0.0105\n",
      "Epoch 63/100\n",
      "294625/294625 [==============================] - 3s 11us/step - loss: 2.5890 - acc: 0.0104\n",
      "Epoch 64/100\n",
      "294625/294625 [==============================] - 3s 11us/step - loss: 2.8285 - acc: 0.0103\n",
      "Epoch 65/100\n",
      "294625/294625 [==============================] - 3s 11us/step - loss: 2.0287 - acc: 0.0107\n",
      "Epoch 66/100\n",
      "294625/294625 [==============================] - 3s 11us/step - loss: 2.0799 - acc: 0.0110\n",
      "Epoch 67/100\n",
      "294625/294625 [==============================] - 3s 11us/step - loss: 2.9310 - acc: 0.0109\n",
      "Epoch 68/100\n",
      "294625/294625 [==============================] - 3s 11us/step - loss: 2.0112 - acc: 0.0112\n",
      "Epoch 69/100\n",
      "294625/294625 [==============================] - 3s 11us/step - loss: 2.5663 - acc: 0.0115\n",
      "Epoch 70/100\n",
      "294625/294625 [==============================] - 3s 11us/step - loss: 2.3218 - acc: 0.0109\n",
      "Epoch 71/100\n",
      "294625/294625 [==============================] - 3s 11us/step - loss: 1.9364 - acc: 0.0110\n",
      "Epoch 72/100\n",
      "294625/294625 [==============================] - 3s 11us/step - loss: 1.9912 - acc: 0.0114\n",
      "Epoch 73/100\n",
      "294625/294625 [==============================] - 3s 11us/step - loss: 2.2725 - acc: 0.0117\n",
      "Epoch 74/100\n",
      "294625/294625 [==============================] - 3s 11us/step - loss: 2.2161 - acc: 0.0115\n",
      "Epoch 75/100\n",
      "294625/294625 [==============================] - 3s 11us/step - loss: 1.9637 - acc: 0.0114\n",
      "Epoch 76/100\n",
      "294625/294625 [==============================] - 3s 11us/step - loss: 1.9115 - acc: 0.0117\n",
      "Epoch 77/100\n",
      "294625/294625 [==============================] - 3s 11us/step - loss: 2.5417 - acc: 0.0112\n",
      "Epoch 78/100\n",
      "294625/294625 [==============================] - 3s 11us/step - loss: 1.9866 - acc: 0.0113\n",
      "Epoch 79/100\n",
      "294625/294625 [==============================] - 3s 11us/step - loss: 1.9280 - acc: 0.0116\n",
      "Epoch 80/100\n",
      "294625/294625 [==============================] - 3s 11us/step - loss: 2.0183 - acc: 0.0118\n",
      "Epoch 81/100\n",
      "294625/294625 [==============================] - 3s 11us/step - loss: 1.7671 - acc: 0.0117\n",
      "Epoch 82/100\n",
      "294625/294625 [==============================] - 3s 11us/step - loss: 2.0049 - acc: 0.0117\n",
      "Epoch 83/100\n",
      "294625/294625 [==============================] - 3s 11us/step - loss: 1.7062 - acc: 0.0119\n",
      "Epoch 84/100\n",
      "294625/294625 [==============================] - 3s 11us/step - loss: 1.9578 - acc: 0.0118\n",
      "Epoch 85/100\n",
      "294625/294625 [==============================] - 3s 11us/step - loss: 2.5654 - acc: 0.0116\n",
      "Epoch 86/100\n",
      "294625/294625 [==============================] - 3s 11us/step - loss: 1.7487 - acc: 0.0119\n",
      "Epoch 87/100\n",
      "294625/294625 [==============================] - 3s 11us/step - loss: 1.8450 - acc: 0.0115\n",
      "Epoch 88/100\n",
      "294625/294625 [==============================] - 3s 11us/step - loss: 1.8371 - acc: 0.0122\n",
      "Epoch 89/100\n",
      "294625/294625 [==============================] - 3s 11us/step - loss: 1.8528 - acc: 0.0121\n",
      "Epoch 90/100\n",
      "294625/294625 [==============================] - 3s 11us/step - loss: 1.9139 - acc: 0.0118\n",
      "Epoch 91/100\n",
      "294625/294625 [==============================] - 3s 11us/step - loss: 1.9395 - acc: 0.0124\n",
      "Epoch 92/100\n",
      "294625/294625 [==============================] - 3s 11us/step - loss: 1.6113 - acc: 0.0120\n",
      "Epoch 93/100\n",
      "294625/294625 [==============================] - 3s 11us/step - loss: 1.6484 - acc: 0.0121\n",
      "Epoch 94/100\n",
      "294625/294625 [==============================] - 3s 11us/step - loss: 1.7423 - acc: 0.0121\n",
      "Epoch 95/100\n",
      "294625/294625 [==============================] - 3s 11us/step - loss: 1.6006 - acc: 0.0121\n",
      "Epoch 96/100\n",
      "294625/294625 [==============================] - 3s 11us/step - loss: 2.1249 - acc: 0.0125\n",
      "Epoch 97/100\n",
      "294625/294625 [==============================] - 3s 11us/step - loss: 1.4042 - acc: 0.0130\n",
      "Epoch 98/100\n",
      "294625/294625 [==============================] - 3s 11us/step - loss: 1.8042 - acc: 0.0125\n",
      "Epoch 99/100\n",
      "294625/294625 [==============================] - 3s 11us/step - loss: 1.5434 - acc: 0.0127\n",
      "Epoch 100/100\n",
      "294625/294625 [==============================] - 3s 11us/step - loss: 1.9877 - acc: 0.0118\n"
     ]
    },
    {
     "data": {
      "text/plain": [
       "<keras.callbacks.History at 0x2bc6eb41978>"
      ]
     },
     "execution_count": 22,
     "metadata": {},
     "output_type": "execute_result"
    }
   ],
   "source": [
    "model.fit(XX_train,\n",
    "         yy_train,\n",
    "         epochs = 100,\n",
    "         batch_size=64,\n",
    "         )"
   ]
  },
  {
   "cell_type": "code",
   "execution_count": 23,
   "metadata": {},
   "outputs": [
    {
     "name": "stdout",
     "output_type": "stream",
     "text": [
      "73657/73657 [==============================] - 1s 8us/step\n"
     ]
    },
    {
     "data": {
      "text/plain": [
       "[1.3155159333267312, 0.013983735422295234]"
      ]
     },
     "execution_count": 23,
     "metadata": {},
     "output_type": "execute_result"
    }
   ],
   "source": [
    "model.evaluate(\n",
    "XX_validation,\n",
    "yy_validation\n",
    ")"
   ]
  },
  {
   "cell_type": "code",
   "execution_count": 24,
   "metadata": {},
   "outputs": [],
   "source": [
    "model.save_weights('model.h5')"
   ]
  },
  {
   "cell_type": "code",
   "execution_count": 26,
   "metadata": {},
   "outputs": [],
   "source": [
    "predictions = model.predict(X_test[:5])"
   ]
  },
  {
   "cell_type": "code",
   "execution_count": 27,
   "metadata": {},
   "outputs": [
    {
     "name": "stdout",
     "output_type": "stream",
     "text": [
      "[[4.5464539e+01]\n",
      " [2.1020222e-01]\n",
      " [2.5583731e+02]\n",
      " [5.6205425e+00]\n",
      " [1.2955933e+00]]\n"
     ]
    }
   ],
   "source": [
    "print(predictions)"
   ]
  },
  {
   "cell_type": "code",
   "execution_count": 28,
   "metadata": {},
   "outputs": [
    {
     "data": {
      "text/html": [
       "<div>\n",
       "<style scoped>\n",
       "    .dataframe tbody tr th:only-of-type {\n",
       "        vertical-align: middle;\n",
       "    }\n",
       "\n",
       "    .dataframe tbody tr th {\n",
       "        vertical-align: top;\n",
       "    }\n",
       "\n",
       "    .dataframe thead th {\n",
       "        text-align: right;\n",
       "    }\n",
       "</style>\n",
       "<table border=\"1\" class=\"dataframe\">\n",
       "  <thead>\n",
       "    <tr style=\"text-align: right;\">\n",
       "      <th></th>\n",
       "      <th>Option Price</th>\n",
       "    </tr>\n",
       "  </thead>\n",
       "  <tbody>\n",
       "    <tr>\n",
       "      <th>150132</th>\n",
       "      <td>46.90</td>\n",
       "    </tr>\n",
       "    <tr>\n",
       "      <th>85963</th>\n",
       "      <td>0.42</td>\n",
       "    </tr>\n",
       "    <tr>\n",
       "      <th>517406</th>\n",
       "      <td>257.40</td>\n",
       "    </tr>\n",
       "    <tr>\n",
       "      <th>131176</th>\n",
       "      <td>6.60</td>\n",
       "    </tr>\n",
       "    <tr>\n",
       "      <th>301189</th>\n",
       "      <td>2.00</td>\n",
       "    </tr>\n",
       "  </tbody>\n",
       "</table>\n",
       "</div>"
      ],
      "text/plain": [
       "        Option Price\n",
       "150132         46.90\n",
       "85963           0.42\n",
       "517406        257.40\n",
       "131176          6.60\n",
       "301189          2.00"
      ]
     },
     "execution_count": 28,
     "metadata": {},
     "output_type": "execute_result"
    }
   ],
   "source": [
    "y_test.head()"
   ]
  },
  {
   "cell_type": "code",
   "execution_count": null,
   "metadata": {},
   "outputs": [],
   "source": []
  }
 ],
 "metadata": {
  "kernelspec": {
   "display_name": "Python 3",
   "language": "python",
   "name": "python3"
  },
  "language_info": {
   "codemirror_mode": {
    "name": "ipython",
    "version": 3
   },
   "file_extension": ".py",
   "mimetype": "text/x-python",
   "name": "python",
   "nbconvert_exporter": "python",
   "pygments_lexer": "ipython3",
   "version": "3.7.2"
  }
 },
 "nbformat": 4,
 "nbformat_minor": 2
}
