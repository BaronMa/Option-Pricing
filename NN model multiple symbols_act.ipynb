{
 "cells": [
  {
   "cell_type": "code",
   "execution_count": 1,
   "metadata": {
    "scrolled": true
   },
   "outputs": [
    {
     "name": "stdout",
     "output_type": "stream",
     "text": [
      "Collecting pip\n",
      "  Downloading https://files.pythonhosted.org/packages/5c/e0/be401c003291b56efc55aeba6a80ab790d3d4cece2778288d65323009420/pip-19.1.1-py2.py3-none-any.whl (1.4MB)\n",
      "Installing collected packages: pip\n",
      "Successfully installed pip-19.1.1\n"
     ]
    },
    {
     "name": "stderr",
     "output_type": "stream",
     "text": [
      "distributed 1.21.8 requires msgpack, which is not installed.\n",
      "You are using pip version 10.0.1, however version 19.1.1 is available.\n",
      "You should consider upgrading via the 'python -m pip install --upgrade pip' command.\n"
     ]
    },
    {
     "name": "stdout",
     "output_type": "stream",
     "text": [
      "Collecting keras\n",
      "  Downloading https://files.pythonhosted.org/packages/5e/10/aa32dad071ce52b5502266b5c659451cfd6ffcbf14e6c8c4f16c0ff5aaab/Keras-2.2.4-py2.py3-none-any.whl (312kB)\n",
      "Requirement already satisfied: h5py in c:\\program files\\anaconda3\\lib\\site-packages (from keras) (2.7.1)\n",
      "Requirement already satisfied: pyyaml in c:\\program files\\anaconda3\\lib\\site-packages (from keras) (3.12)\n",
      "Collecting keras-preprocessing>=1.0.5 (from keras)\n",
      "  Downloading https://files.pythonhosted.org/packages/28/6a/8c1f62c37212d9fc441a7e26736df51ce6f0e38455816445471f10da4f0a/Keras_Preprocessing-1.1.0-py2.py3-none-any.whl (41kB)\n",
      "Requirement already satisfied: numpy>=1.9.1 in c:\\program files\\anaconda3\\lib\\site-packages (from keras) (1.14.3)\n",
      "Requirement already satisfied: scipy>=0.14 in c:\\program files\\anaconda3\\lib\\site-packages (from keras) (1.1.0)\n",
      "Collecting keras-applications>=1.0.6 (from keras)\n",
      "  Downloading https://files.pythonhosted.org/packages/71/e3/19762fdfc62877ae9102edf6342d71b28fbfd9dea3d2f96a882ce099b03f/Keras_Applications-1.0.8-py3-none-any.whl (50kB)\n",
      "Requirement already satisfied: six>=1.9.0 in c:\\program files\\anaconda3\\lib\\site-packages (from keras) (1.11.0)\n",
      "Installing collected packages: keras-preprocessing, keras-applications, keras\n",
      "Successfully installed keras-2.2.4 keras-applications-1.0.8 keras-preprocessing-1.1.0\n",
      "Collecting tensorflow\n",
      "  Downloading https://files.pythonhosted.org/packages/bf/4a/5c86ed8b245aa48f9f819b13a0a9039e9126ba19fdd0c7e0b8026c12315a/tensorflow-1.14.0-cp36-cp36m-win_amd64.whl (68.3MB)\n",
      "Collecting termcolor>=1.1.0 (from tensorflow)\n",
      "  Downloading https://files.pythonhosted.org/packages/8a/48/a76be51647d0eb9f10e2a4511bf3ffb8cc1e6b14e9e4fab46173aa79f981/termcolor-1.1.0.tar.gz\n",
      "Collecting protobuf>=3.6.1 (from tensorflow)\n",
      "  Downloading https://files.pythonhosted.org/packages/d4/59/ec6c6075dd628f2efd33dbe11b259e63e1de7cbc26e45b38de767df528d4/protobuf-3.8.0-cp36-cp36m-win_amd64.whl (1.1MB)\n",
      "Collecting tensorflow-estimator<1.15.0rc0,>=1.14.0rc0 (from tensorflow)\n",
      "  Downloading https://files.pythonhosted.org/packages/3c/d5/21860a5b11caf0678fbc8319341b0ae21a07156911132e0e71bffed0510d/tensorflow_estimator-1.14.0-py2.py3-none-any.whl (488kB)\n",
      "Collecting numpy<2.0,>=1.14.5 (from tensorflow)\n",
      "  Downloading https://files.pythonhosted.org/packages/20/ed/e036d31a9b2c750f270cbb1cfc1c0f94ac78ae504eea7eec3267be4e294a/numpy-1.16.4-cp36-cp36m-win_amd64.whl (11.9MB)\n",
      "Collecting tensorboard<1.15.0,>=1.14.0 (from tensorflow)\n",
      "  Downloading https://files.pythonhosted.org/packages/91/2d/2ed263449a078cd9c8a9ba50ebd50123adf1f8cfbea1492f9084169b89d9/tensorboard-1.14.0-py3-none-any.whl (3.1MB)\n",
      "Requirement already satisfied: keras-applications>=1.0.6 in c:\\users\\mayingzh\\appdata\\roaming\\python\\python36\\site-packages (from tensorflow) (1.0.8)\n",
      "Collecting gast>=0.2.0 (from tensorflow)\n",
      "  Downloading https://files.pythonhosted.org/packages/4e/35/11749bf99b2d4e3cceb4d55ca22590b0d7c2c62b9de38ac4a4a7f4687421/gast-0.2.2.tar.gz\n",
      "Collecting grpcio>=1.8.6 (from tensorflow)\n",
      "  Downloading https://files.pythonhosted.org/packages/4c/6a/e83233ed636bdf8668f0e79897fd70bce04869482dd88f3cfc4c42404fb2/grpcio-1.21.1-cp36-cp36m-win_amd64.whl (1.6MB)\n",
      "Collecting absl-py>=0.7.0 (from tensorflow)\n",
      "  Downloading https://files.pythonhosted.org/packages/da/3f/9b0355080b81b15ba6a9ffcf1f5ea39e307a2778b2f2dc8694724e8abd5b/absl-py-0.7.1.tar.gz (99kB)\n",
      "Collecting astor>=0.6.0 (from tensorflow)\n",
      "  Downloading https://files.pythonhosted.org/packages/d1/4f/950dfae467b384fc96bc6469de25d832534f6b4441033c39f914efd13418/astor-0.8.0-py2.py3-none-any.whl\n",
      "Collecting google-pasta>=0.1.6 (from tensorflow)\n",
      "  Downloading https://files.pythonhosted.org/packages/d0/33/376510eb8d6246f3c30545f416b2263eee461e40940c2a4413c711bdf62d/google_pasta-0.1.7-py3-none-any.whl (52kB)\n",
      "Requirement already satisfied: wheel>=0.26 in c:\\program files\\anaconda3\\lib\\site-packages (from tensorflow) (0.31.1)\n",
      "Requirement already satisfied: keras-preprocessing>=1.0.5 in c:\\users\\mayingzh\\appdata\\roaming\\python\\python36\\site-packages (from tensorflow) (1.1.0)\n",
      "Collecting wrapt>=1.11.1 (from tensorflow)\n",
      "  Downloading https://files.pythonhosted.org/packages/23/84/323c2415280bc4fc880ac5050dddfb3c8062c2552b34c2e512eb4aa68f79/wrapt-1.11.2.tar.gz\n",
      "Requirement already satisfied: six>=1.10.0 in c:\\program files\\anaconda3\\lib\\site-packages (from tensorflow) (1.11.0)\n",
      "Requirement already satisfied: setuptools in c:\\program files\\anaconda3\\lib\\site-packages (from protobuf>=3.6.1->tensorflow) (39.1.0)\n",
      "Collecting markdown>=2.6.8 (from tensorboard<1.15.0,>=1.14.0->tensorflow)\n",
      "  Downloading https://files.pythonhosted.org/packages/c0/4e/fd492e91abdc2d2fcb70ef453064d980688762079397f779758e055f6575/Markdown-3.1.1-py2.py3-none-any.whl (87kB)\n",
      "Requirement already satisfied: werkzeug>=0.11.15 in c:\\program files\\anaconda3\\lib\\site-packages (from tensorboard<1.15.0,>=1.14.0->tensorflow) (0.14.1)\n",
      "Requirement already satisfied: h5py in c:\\program files\\anaconda3\\lib\\site-packages (from keras-applications>=1.0.6->tensorflow) (2.7.1)\n",
      "Building wheels for collected packages: termcolor, gast, absl-py, wrapt\n",
      "  Building wheel for termcolor (setup.py): started\n",
      "  Building wheel for termcolor (setup.py): finished with status 'done'\n",
      "  Stored in directory: C:\\Users\\mayingzh\\AppData\\Local\\pip\\Cache\\wheels\\7c\\06\\54\\bc84598ba1daf8f970247f550b175aaaee85f68b4b0c5ab2c6\n",
      "  Building wheel for gast (setup.py): started\n",
      "  Building wheel for gast (setup.py): finished with status 'done'\n",
      "  Stored in directory: C:\\Users\\mayingzh\\AppData\\Local\\pip\\Cache\\wheels\\5c\\2e\\7e\\a1d4d4fcebe6c381f378ce7743a3ced3699feb89bcfbdadadd\n",
      "  Building wheel for absl-py (setup.py): started\n",
      "  Building wheel for absl-py (setup.py): finished with status 'done'\n",
      "  Stored in directory: C:\\Users\\mayingzh\\AppData\\Local\\pip\\Cache\\wheels\\ee\\98\\38\\46cbcc5a93cfea5492d19c38562691ddb23b940176c14f7b48\n",
      "  Building wheel for wrapt (setup.py): started\n",
      "  Building wheel for wrapt (setup.py): finished with status 'done'\n",
      "  Stored in directory: C:\\Users\\mayingzh\\AppData\\Local\\pip\\Cache\\wheels\\d7\\de\\2e\\efa132238792efb6459a96e85916ef8597fcb3d2ae51590dfd\n",
      "Successfully built termcolor gast absl-py wrapt\n",
      "Installing collected packages: termcolor, protobuf, tensorflow-estimator, numpy, absl-py, markdown, grpcio, tensorboard, gast, astor, google-pasta, wrapt, tensorflow\n",
      "Successfully installed absl-py-0.7.1 astor-0.8.0 gast-0.2.2 google-pasta-0.1.7 grpcio-1.21.1 markdown-3.1.1 numpy-1.16.4 protobuf-3.8.0 tensorboard-1.14.0 tensorflow-1.14.0 tensorflow-estimator-1.14.0 termcolor-1.1.0 wrapt-1.11.2\n"
     ]
    },
    {
     "name": "stderr",
     "output_type": "stream",
     "text": [
      "ERROR: tensorboard 1.14.0 has requirement setuptools>=41.0.0, but you'll have setuptools 39.1.0 which is incompatible.\n",
      "  WARNING: The script f2py.exe is installed in 'C:\\Users\\mayingzh\\AppData\\Roaming\\Python\\Python36\\Scripts' which is not on PATH.\n",
      "  Consider adding this directory to PATH or, if you prefer to suppress this warning, use --no-warn-script-location.\n",
      "  WARNING: The script markdown_py.exe is installed in 'C:\\Users\\mayingzh\\AppData\\Roaming\\Python\\Python36\\Scripts' which is not on PATH.\n",
      "  Consider adding this directory to PATH or, if you prefer to suppress this warning, use --no-warn-script-location.\n",
      "  WARNING: The script tensorboard.exe is installed in 'C:\\Users\\mayingzh\\AppData\\Roaming\\Python\\Python36\\Scripts' which is not on PATH.\n",
      "  Consider adding this directory to PATH or, if you prefer to suppress this warning, use --no-warn-script-location.\n",
      "  WARNING: The scripts freeze_graph.exe, saved_model_cli.exe, tensorboard.exe, tf_upgrade_v2.exe, tflite_convert.exe, toco.exe and toco_from_protos.exe are installed in 'C:\\Users\\mayingzh\\AppData\\Roaming\\Python\\Python36\\Scripts' which is not on PATH.\n",
      "  Consider adding this directory to PATH or, if you prefer to suppress this warning, use --no-warn-script-location.\n"
     ]
    },
    {
     "name": "stdout",
     "output_type": "stream",
     "text": [
      "Requirement already up-to-date: numpy in c:\\users\\mayingzh\\appdata\\roaming\\python\\python36\\site-packages (1.16.4)\n"
     ]
    }
   ],
   "source": [
    "!python -m pip install --user --upgrade pip\n",
    "!pip install --user keras\n",
    "!pip install --user tensorflow\n",
    "!pip install --user -U numpy"
   ]
  },
  {
   "cell_type": "code",
   "execution_count": 3,
   "metadata": {},
   "outputs": [],
   "source": [
    "# Use CPU only\n",
    "# Only Macbook needs to run this cell\n",
    "import os\n",
    "os.environ[\"CUDA_DEVICE_ORDER\"] = \"PCI_BUS_ID\" \n",
    "os.environ[\"CUDA_VISIBLE_DEVICES\"] = \"\""
   ]
  },
  {
   "cell_type": "code",
   "execution_count": 1,
   "metadata": {},
   "outputs": [
    {
     "name": "stderr",
     "output_type": "stream",
     "text": [
      "C:\\Program Files\\Anaconda3\\lib\\site-packages\\h5py\\__init__.py:36: FutureWarning: Conversion of the second argument of issubdtype from `float` to `np.floating` is deprecated. In future, it will be treated as `np.float64 == np.dtype(float).type`.\n",
      "  from ._conv import register_converters as _register_converters\n",
      "Using TensorFlow backend.\n"
     ]
    }
   ],
   "source": [
    "import pandas as pd\n",
    "from keras.models import Sequential\n",
    "from keras.layers import Dense, Dropout\n",
    "from sklearn.model_selection import train_test_split\n",
    "from keras.callbacks import EarlyStopping\n",
    "from sklearn import preprocessing\n",
    "import matplotlib.pyplot as plt"
   ]
  },
  {
   "cell_type": "markdown",
   "metadata": {},
   "source": [
    "## Load data and do data normalization"
   ]
  },
  {
   "cell_type": "code",
   "execution_count": 2,
   "metadata": {},
   "outputs": [
    {
     "data": {
      "text/html": [
       "<div>\n",
       "<style scoped>\n",
       "    .dataframe tbody tr th:only-of-type {\n",
       "        vertical-align: middle;\n",
       "    }\n",
       "\n",
       "    .dataframe tbody tr th {\n",
       "        vertical-align: top;\n",
       "    }\n",
       "\n",
       "    .dataframe thead th {\n",
       "        text-align: right;\n",
       "    }\n",
       "</style>\n",
       "<table border=\"1\" class=\"dataframe\">\n",
       "  <thead>\n",
       "    <tr style=\"text-align: right;\">\n",
       "      <th></th>\n",
       "      <th>ticker</th>\n",
       "      <th>date</th>\n",
       "      <th>exdate</th>\n",
       "      <th>maturity</th>\n",
       "      <th>strike_price</th>\n",
       "      <th>best_offer</th>\n",
       "      <th>impl_volatility</th>\n",
       "      <th>underlying_price</th>\n",
       "      <th>interest_rate</th>\n",
       "      <th>cp_flag_C</th>\n",
       "      <th>cp_flag_P</th>\n",
       "    </tr>\n",
       "  </thead>\n",
       "  <tbody>\n",
       "    <tr>\n",
       "      <th>0</th>\n",
       "      <td>AXP</td>\n",
       "      <td>2013-01-02</td>\n",
       "      <td>2013-01-04</td>\n",
       "      <td>2</td>\n",
       "      <td>60.0</td>\n",
       "      <td>0.03</td>\n",
       "      <td>0.181376</td>\n",
       "      <td>58.75</td>\n",
       "      <td>0.0008</td>\n",
       "      <td>1</td>\n",
       "      <td>0</td>\n",
       "    </tr>\n",
       "    <tr>\n",
       "      <th>1</th>\n",
       "      <td>AXP</td>\n",
       "      <td>2013-01-02</td>\n",
       "      <td>2013-01-04</td>\n",
       "      <td>2</td>\n",
       "      <td>62.5</td>\n",
       "      <td>0.05</td>\n",
       "      <td>0.450289</td>\n",
       "      <td>58.75</td>\n",
       "      <td>0.0008</td>\n",
       "      <td>1</td>\n",
       "      <td>0</td>\n",
       "    </tr>\n",
       "    <tr>\n",
       "      <th>2</th>\n",
       "      <td>AXP</td>\n",
       "      <td>2013-01-02</td>\n",
       "      <td>2013-01-04</td>\n",
       "      <td>2</td>\n",
       "      <td>65.0</td>\n",
       "      <td>0.05</td>\n",
       "      <td>0.676564</td>\n",
       "      <td>58.75</td>\n",
       "      <td>0.0008</td>\n",
       "      <td>1</td>\n",
       "      <td>0</td>\n",
       "    </tr>\n",
       "    <tr>\n",
       "      <th>3</th>\n",
       "      <td>AXP</td>\n",
       "      <td>2013-01-02</td>\n",
       "      <td>2013-01-04</td>\n",
       "      <td>2</td>\n",
       "      <td>67.5</td>\n",
       "      <td>0.50</td>\n",
       "      <td>1.369425</td>\n",
       "      <td>58.75</td>\n",
       "      <td>0.0008</td>\n",
       "      <td>1</td>\n",
       "      <td>0</td>\n",
       "    </tr>\n",
       "    <tr>\n",
       "      <th>4</th>\n",
       "      <td>AXP</td>\n",
       "      <td>2013-01-02</td>\n",
       "      <td>2013-01-04</td>\n",
       "      <td>2</td>\n",
       "      <td>70.0</td>\n",
       "      <td>0.01</td>\n",
       "      <td>0.888123</td>\n",
       "      <td>58.75</td>\n",
       "      <td>0.0008</td>\n",
       "      <td>1</td>\n",
       "      <td>0</td>\n",
       "    </tr>\n",
       "  </tbody>\n",
       "</table>\n",
       "</div>"
      ],
      "text/plain": [
       "  ticker        date      exdate  maturity  strike_price  best_offer  \\\n",
       "0    AXP  2013-01-02  2013-01-04         2          60.0        0.03   \n",
       "1    AXP  2013-01-02  2013-01-04         2          62.5        0.05   \n",
       "2    AXP  2013-01-02  2013-01-04         2          65.0        0.05   \n",
       "3    AXP  2013-01-02  2013-01-04         2          67.5        0.50   \n",
       "4    AXP  2013-01-02  2013-01-04         2          70.0        0.01   \n",
       "\n",
       "   impl_volatility  underlying_price  interest_rate  cp_flag_C  cp_flag_P  \n",
       "0         0.181376             58.75         0.0008          1          0  \n",
       "1         0.450289             58.75         0.0008          1          0  \n",
       "2         0.676564             58.75         0.0008          1          0  \n",
       "3         1.369425             58.75         0.0008          1          0  \n",
       "4         0.888123             58.75         0.0008          1          0  "
      ]
     },
     "execution_count": 2,
     "metadata": {},
     "output_type": "execute_result"
    }
   ],
   "source": [
    "df = pd.read_csv('Options.csv')\n",
    "df.head()"
   ]
  },
  {
   "cell_type": "code",
   "execution_count": 3,
   "metadata": {},
   "outputs": [],
   "source": [
    "df = df[df['interest_rate'].notnull()]"
   ]
  },
  {
   "cell_type": "code",
   "execution_count": 4,
   "metadata": {},
   "outputs": [],
   "source": [
    "y = df['best_offer'].values\n",
    "X = df[['maturity', 'strike_price', 'impl_volatility', 'underlying_price', 'cp_flag_C', 'cp_flag_P', 'interest_rate']]"
   ]
  },
  {
   "cell_type": "code",
   "execution_count": 5,
   "metadata": {},
   "outputs": [],
   "source": [
    "# Normalize the data to build a regression neural network model\n",
    "sc= preprocessing.MinMaxScaler()\n",
    "X= sc.fit_transform(X)\n",
    "y= y.reshape(-1,1)\n",
    "y=sc.fit_transform(y)"
   ]
  },
  {
   "cell_type": "code",
   "execution_count": 6,
   "metadata": {},
   "outputs": [],
   "source": [
    "X_train, X_test, y_train, y_test = train_test_split(X, y, test_size=0.2, random_state=42)"
   ]
  },
  {
   "cell_type": "code",
   "execution_count": 7,
   "metadata": {},
   "outputs": [
    {
     "name": "stdout",
     "output_type": "stream",
     "text": [
      "(1559488, 7)\n",
      "(1559488, 1)\n"
     ]
    }
   ],
   "source": [
    "print(X_train.shape)\n",
    "print(y_train.shape)"
   ]
  },
  {
   "cell_type": "code",
   "execution_count": 8,
   "metadata": {},
   "outputs": [],
   "source": [
    "XX_train, XX_validation, yy_train, yy_validation = train_test_split(X_train, y_train, test_size=0.2, random_state=42)"
   ]
  },
  {
   "cell_type": "markdown",
   "metadata": {},
   "source": [
    "## Build a keras Sequential model"
   ]
  },
  {
   "cell_type": "code",
   "execution_count": 9,
   "metadata": {},
   "outputs": [
    {
     "name": "stderr",
     "output_type": "stream",
     "text": [
      "WARNING: Logging before flag parsing goes to stderr.\n",
      "W0624 17:30:49.439647 11896 deprecation_wrapper.py:119] From C:\\Users\\mayingzh\\AppData\\Roaming\\Python\\Python36\\site-packages\\keras\\backend\\tensorflow_backend.py:74: The name tf.get_default_graph is deprecated. Please use tf.compat.v1.get_default_graph instead.\n",
      "\n",
      "W0624 17:30:49.454658 11896 deprecation_wrapper.py:119] From C:\\Users\\mayingzh\\AppData\\Roaming\\Python\\Python36\\site-packages\\keras\\backend\\tensorflow_backend.py:517: The name tf.placeholder is deprecated. Please use tf.compat.v1.placeholder instead.\n",
      "\n",
      "W0624 17:30:49.459661 11896 deprecation_wrapper.py:119] From C:\\Users\\mayingzh\\AppData\\Roaming\\Python\\Python36\\site-packages\\keras\\backend\\tensorflow_backend.py:4138: The name tf.random_uniform is deprecated. Please use tf.random.uniform instead.\n",
      "\n"
     ]
    }
   ],
   "source": [
    "# Built Keras sequential model with 3 hidden layer, and after the first hidden layer.\n",
    "model = Sequential([\n",
    "    Dense(64, activation='relu', input_shape=(7,)),\n",
    "    Dense(128, activation='relu'),\n",
    "    Dense(64, activation='relu'),\n",
    "    Dense(1, activation='linear'),\n",
    "])"
   ]
  },
  {
   "cell_type": "code",
   "execution_count": 10,
   "metadata": {},
   "outputs": [],
   "source": [
    "# Enable early stopping based on the loss of validation data\n",
    "es = EarlyStopping(monitor='val_loss', mode='auto', verbose=1, patience=25)"
   ]
  },
  {
   "cell_type": "code",
   "execution_count": 11,
   "metadata": {},
   "outputs": [],
   "source": [
    "# Because it is a simple regression problem, we should custom metrics function\n",
    "from keras import backend as K\n",
    "def rmse(y_true, y_pred):\n",
    "    return K.sqrt(K.mean(K.square(y_pred - y_true), axis = -1))\n",
    "\n",
    "def r_square(y_true, y_pred):\n",
    "    SS_res =  K.sum(K.square(y_true - y_pred)) \n",
    "    SS_tot = K.sum(K.square(y_true - K.mean(y_true))) \n",
    "    return (1 - SS_res/(SS_tot + K.epsilon()))"
   ]
  },
  {
   "cell_type": "code",
   "execution_count": 12,
   "metadata": {},
   "outputs": [
    {
     "name": "stderr",
     "output_type": "stream",
     "text": [
      "W0624 17:30:56.775360 11896 deprecation_wrapper.py:119] From C:\\Users\\mayingzh\\AppData\\Roaming\\Python\\Python36\\site-packages\\keras\\optimizers.py:790: The name tf.train.Optimizer is deprecated. Please use tf.compat.v1.train.Optimizer instead.\n",
      "\n"
     ]
    }
   ],
   "source": [
    "# use mean_squared_error to compile regression model loss\n",
    "model.compile(\n",
    "  optimizer='adam',\n",
    "  loss='mse',\n",
    "  metrics=[rmse, r_square],\n",
    ")"
   ]
  },
  {
   "cell_type": "code",
   "execution_count": 13,
   "metadata": {},
   "outputs": [
    {
     "name": "stderr",
     "output_type": "stream",
     "text": [
      "W0624 17:31:05.877995 11896 deprecation_wrapper.py:119] From C:\\Users\\mayingzh\\AppData\\Roaming\\Python\\Python36\\site-packages\\keras\\backend\\tensorflow_backend.py:986: The name tf.assign_add is deprecated. Please use tf.compat.v1.assign_add instead.\n",
      "\n",
      "W0624 17:31:06.016831 11896 deprecation_wrapper.py:119] From C:\\Users\\mayingzh\\AppData\\Roaming\\Python\\Python36\\site-packages\\keras\\backend\\tensorflow_backend.py:973: The name tf.assign is deprecated. Please use tf.compat.v1.assign instead.\n",
      "\n"
     ]
    },
    {
     "name": "stdout",
     "output_type": "stream",
     "text": [
      "Train on 1247590 samples, validate on 311898 samples\n",
      "Epoch 1/200\n",
      "1247590/1247590 [==============================] - 6s 5us/step - loss: 1.0014e-04 - rmse: 0.0045 - r_square: 0.9902 - val_loss: 2.3635e-05 - val_rmse: 0.0034 - val_r_square: 0.9977\n",
      "Epoch 2/200\n",
      "1247590/1247590 [==============================] - 6s 5us/step - loss: 1.6208e-05 - rmse: 0.0028 - r_square: 0.9984 - val_loss: 2.2574e-05 - val_rmse: 0.0034 - val_r_square: 0.9978\n",
      "Epoch 3/200\n",
      "1247590/1247590 [==============================] - 6s 5us/step - loss: 1.2241e-05 - rmse: 0.0024 - r_square: 0.9988 - val_loss: 7.9700e-06 - val_rmse: 0.0020 - val_r_square: 0.9992\n",
      "Epoch 4/200\n",
      "1247590/1247590 [==============================] - 6s 5us/step - loss: 1.0481e-05 - rmse: 0.0021 - r_square: 0.9990 - val_loss: 9.0240e-06 - val_rmse: 0.0021 - val_r_square: 0.9991\n",
      "Epoch 5/200\n",
      "1247590/1247590 [==============================] - 6s 5us/step - loss: 9.0317e-06 - rmse: 0.0020 - r_square: 0.9991 - val_loss: 9.8319e-06 - val_rmse: 0.0020 - val_r_square: 0.9990\n",
      "Epoch 6/200\n",
      "1247590/1247590 [==============================] - 6s 5us/step - loss: 8.0002e-06 - rmse: 0.0018 - r_square: 0.9992 - val_loss: 6.0326e-06 - val_rmse: 0.0015 - val_r_square: 0.9994\n",
      "Epoch 7/200\n",
      "1247590/1247590 [==============================] - 7s 5us/step - loss: 7.4100e-06 - rmse: 0.0017 - r_square: 0.9993 - val_loss: 5.0845e-06 - val_rmse: 0.0014 - val_r_square: 0.9995\n",
      "Epoch 8/200\n",
      "1247590/1247590 [==============================] - 7s 5us/step - loss: 7.0306e-06 - rmse: 0.0017 - r_square: 0.9993 - val_loss: 8.5227e-06 - val_rmse: 0.0018 - val_r_square: 0.9992\n",
      "Epoch 9/200\n",
      "1247590/1247590 [==============================] - 7s 5us/step - loss: 6.6020e-06 - rmse: 0.0016 - r_square: 0.9993 - val_loss: 7.7536e-06 - val_rmse: 0.0017 - val_r_square: 0.9992\n",
      "Epoch 10/200\n",
      "1247590/1247590 [==============================] - 6s 5us/step - loss: 6.4436e-06 - rmse: 0.0016 - r_square: 0.9994 - val_loss: 6.4670e-06 - val_rmse: 0.0016 - val_r_square: 0.9994\n",
      "Epoch 11/200\n",
      "1247590/1247590 [==============================] - 6s 5us/step - loss: 6.2860e-06 - rmse: 0.0016 - r_square: 0.9994 - val_loss: 7.2183e-06 - val_rmse: 0.0018 - val_r_square: 0.9993\n",
      "Epoch 12/200\n",
      "1247590/1247590 [==============================] - 6s 5us/step - loss: 6.0277e-06 - rmse: 0.0015 - r_square: 0.9994 - val_loss: 5.5347e-06 - val_rmse: 0.0014 - val_r_square: 0.9995\n",
      "Epoch 13/200\n",
      "1247590/1247590 [==============================] - 6s 5us/step - loss: 5.9692e-06 - rmse: 0.0015 - r_square: 0.9994 - val_loss: 7.2721e-06 - val_rmse: 0.0018 - val_r_square: 0.9993\n",
      "Epoch 14/200\n",
      "1247590/1247590 [==============================] - 6s 5us/step - loss: 5.7426e-06 - rmse: 0.0015 - r_square: 0.9994 - val_loss: 4.4752e-06 - val_rmse: 0.0012 - val_r_square: 0.9996\n",
      "Epoch 15/200\n",
      "1247590/1247590 [==============================] - 6s 5us/step - loss: 5.6026e-06 - rmse: 0.0014 - r_square: 0.9994 - val_loss: 4.7651e-06 - val_rmse: 0.0014 - val_r_square: 0.9995\n",
      "Epoch 16/200\n",
      "1247590/1247590 [==============================] - 6s 5us/step - loss: 5.5570e-06 - rmse: 0.0014 - r_square: 0.9994 - val_loss: 5.5905e-06 - val_rmse: 0.0014 - val_r_square: 0.9994\n",
      "Epoch 17/200\n",
      "1247590/1247590 [==============================] - 6s 5us/step - loss: 5.5075e-06 - rmse: 0.0014 - r_square: 0.9995 - val_loss: 4.9114e-06 - val_rmse: 0.0014 - val_r_square: 0.9995\n",
      "Epoch 18/200\n",
      "1247590/1247590 [==============================] - 6s 5us/step - loss: 5.3946e-06 - rmse: 0.0014 - r_square: 0.9995 - val_loss: 4.5371e-06 - val_rmse: 0.0012 - val_r_square: 0.9996\n",
      "Epoch 19/200\n",
      "1247590/1247590 [==============================] - 6s 5us/step - loss: 5.3319e-06 - rmse: 0.0014 - r_square: 0.9995 - val_loss: 4.9854e-06 - val_rmse: 0.0013 - val_r_square: 0.9995\n",
      "Epoch 20/200\n",
      "1247590/1247590 [==============================] - 6s 5us/step - loss: 5.2845e-06 - rmse: 0.0014 - r_square: 0.9995 - val_loss: 4.7787e-06 - val_rmse: 0.0013 - val_r_square: 0.9995\n",
      "Epoch 21/200\n",
      "1247590/1247590 [==============================] - 6s 5us/step - loss: 5.1727e-06 - rmse: 0.0014 - r_square: 0.9995 - val_loss: 8.4161e-06 - val_rmse: 0.0018 - val_r_square: 0.9992\n",
      "Epoch 22/200\n",
      "1247590/1247590 [==============================] - 6s 5us/step - loss: 5.1868e-06 - rmse: 0.0014 - r_square: 0.9995 - val_loss: 4.6213e-06 - val_rmse: 0.0012 - val_r_square: 0.9995\n",
      "Epoch 23/200\n",
      "1247590/1247590 [==============================] - 6s 5us/step - loss: 5.1104e-06 - rmse: 0.0014 - r_square: 0.9995 - val_loss: 4.8306e-06 - val_rmse: 0.0013 - val_r_square: 0.9995\n",
      "Epoch 24/200\n",
      "1247590/1247590 [==============================] - 6s 5us/step - loss: 5.0777e-06 - rmse: 0.0013 - r_square: 0.9995 - val_loss: 6.8188e-06 - val_rmse: 0.0016 - val_r_square: 0.9993\n",
      "Epoch 25/200\n",
      "1247590/1247590 [==============================] - 6s 5us/step - loss: 5.0387e-06 - rmse: 0.0013 - r_square: 0.9995 - val_loss: 5.8783e-06 - val_rmse: 0.0015 - val_r_square: 0.9994\n",
      "Epoch 26/200\n",
      "1247590/1247590 [==============================] - 6s 5us/step - loss: 5.0280e-06 - rmse: 0.0013 - r_square: 0.9995 - val_loss: 5.4178e-06 - val_rmse: 0.0014 - val_r_square: 0.9995\n",
      "Epoch 27/200\n",
      "1247590/1247590 [==============================] - 6s 5us/step - loss: 4.9133e-06 - rmse: 0.0013 - r_square: 0.9995 - val_loss: 4.5452e-06 - val_rmse: 0.0012 - val_r_square: 0.9996\n",
      "Epoch 28/200\n",
      "1247590/1247590 [==============================] - 6s 5us/step - loss: 4.9459e-06 - rmse: 0.0013 - r_square: 0.9995 - val_loss: 4.1186e-06 - val_rmse: 0.0012 - val_r_square: 0.9996\n",
      "Epoch 29/200\n",
      "1247590/1247590 [==============================] - 6s 5us/step - loss: 4.8943e-06 - rmse: 0.0013 - r_square: 0.9995 - val_loss: 7.4516e-06 - val_rmse: 0.0016 - val_r_square: 0.9993\n",
      "Epoch 30/200\n",
      "1247590/1247590 [==============================] - 6s 5us/step - loss: 4.8418e-06 - rmse: 0.0013 - r_square: 0.9995 - val_loss: 5.8762e-06 - val_rmse: 0.0015 - val_r_square: 0.9994\n",
      "Epoch 31/200\n",
      "1247590/1247590 [==============================] - 6s 5us/step - loss: 4.8431e-06 - rmse: 0.0013 - r_square: 0.9995 - val_loss: 4.0499e-06 - val_rmse: 0.0012 - val_r_square: 0.9996\n",
      "Epoch 32/200\n",
      "1247590/1247590 [==============================] - 6s 5us/step - loss: 4.8165e-06 - rmse: 0.0013 - r_square: 0.9995 - val_loss: 4.9006e-06 - val_rmse: 0.0014 - val_r_square: 0.9995\n",
      "Epoch 33/200\n",
      "1247590/1247590 [==============================] - 6s 5us/step - loss: 4.8040e-06 - rmse: 0.0013 - r_square: 0.9995 - val_loss: 7.5305e-06 - val_rmse: 0.0016 - val_r_square: 0.9993\n",
      "Epoch 34/200\n",
      "1247590/1247590 [==============================] - 6s 5us/step - loss: 4.7324e-06 - rmse: 0.0013 - r_square: 0.9995 - val_loss: 6.9991e-06 - val_rmse: 0.0016 - val_r_square: 0.9993\n",
      "Epoch 35/200\n",
      "1247590/1247590 [==============================] - 6s 5us/step - loss: 4.7014e-06 - rmse: 0.0013 - r_square: 0.9995 - val_loss: 3.9565e-06 - val_rmse: 0.0012 - val_r_square: 0.9996\n",
      "Epoch 36/200\n",
      "1247590/1247590 [==============================] - 6s 5us/step - loss: 4.7252e-06 - rmse: 0.0013 - r_square: 0.9995 - val_loss: 4.5827e-06 - val_rmse: 0.0012 - val_r_square: 0.9995\n",
      "Epoch 37/200\n",
      "1247590/1247590 [==============================] - 6s 5us/step - loss: 4.6869e-06 - rmse: 0.0013 - r_square: 0.9995 - val_loss: 5.2474e-06 - val_rmse: 0.0015 - val_r_square: 0.9995\n",
      "Epoch 38/200\n",
      "1247590/1247590 [==============================] - 6s 5us/step - loss: 4.6497e-06 - rmse: 0.0013 - r_square: 0.9995 - val_loss: 4.1746e-06 - val_rmse: 0.0012 - val_r_square: 0.9996\n",
      "Epoch 39/200\n",
      "1247590/1247590 [==============================] - 6s 5us/step - loss: 4.6755e-06 - rmse: 0.0013 - r_square: 0.9995 - val_loss: 5.0307e-06 - val_rmse: 0.0013 - val_r_square: 0.9995\n",
      "Epoch 40/200\n",
      "1247590/1247590 [==============================] - 6s 5us/step - loss: 4.6076e-06 - rmse: 0.0013 - r_square: 0.9995 - val_loss: 4.2181e-06 - val_rmse: 0.0012 - val_r_square: 0.9996\n",
      "Epoch 41/200\n",
      "1247590/1247590 [==============================] - 6s 5us/step - loss: 4.6383e-06 - rmse: 0.0013 - r_square: 0.9995 - val_loss: 7.0358e-06 - val_rmse: 0.0016 - val_r_square: 0.9993\n",
      "Epoch 42/200\n",
      "1247590/1247590 [==============================] - 6s 5us/step - loss: 4.5765e-06 - rmse: 0.0013 - r_square: 0.9995 - val_loss: 4.0080e-06 - val_rmse: 0.0011 - val_r_square: 0.9996\n",
      "Epoch 43/200\n"
     ]
    },
    {
     "name": "stdout",
     "output_type": "stream",
     "text": [
      "1247590/1247590 [==============================] - 6s 5us/step - loss: 4.5855e-06 - rmse: 0.0013 - r_square: 0.9995 - val_loss: 4.0135e-06 - val_rmse: 0.0011 - val_r_square: 0.9996\n",
      "Epoch 44/200\n",
      "1247590/1247590 [==============================] - 6s 5us/step - loss: 4.5557e-06 - rmse: 0.0012 - r_square: 0.9996 - val_loss: 4.5374e-06 - val_rmse: 0.0012 - val_r_square: 0.9996\n",
      "Epoch 45/200\n",
      "1247590/1247590 [==============================] - 6s 5us/step - loss: 4.5649e-06 - rmse: 0.0012 - r_square: 0.9996 - val_loss: 5.8890e-06 - val_rmse: 0.0014 - val_r_square: 0.9994\n",
      "Epoch 46/200\n",
      "1247590/1247590 [==============================] - 6s 5us/step - loss: 4.5258e-06 - rmse: 0.0012 - r_square: 0.9996 - val_loss: 3.8549e-06 - val_rmse: 0.0011 - val_r_square: 0.9996\n",
      "Epoch 47/200\n",
      "1247590/1247590 [==============================] - 6s 5us/step - loss: 4.5137e-06 - rmse: 0.0012 - r_square: 0.9996 - val_loss: 5.4244e-06 - val_rmse: 0.0013 - val_r_square: 0.9995\n",
      "Epoch 48/200\n",
      "1247590/1247590 [==============================] - 6s 5us/step - loss: 4.4996e-06 - rmse: 0.0012 - r_square: 0.9996 - val_loss: 4.4978e-06 - val_rmse: 0.0012 - val_r_square: 0.9996\n",
      "Epoch 49/200\n",
      "1247590/1247590 [==============================] - 6s 5us/step - loss: 4.4523e-06 - rmse: 0.0012 - r_square: 0.9996 - val_loss: 4.1378e-06 - val_rmse: 0.0012 - val_r_square: 0.9996\n",
      "Epoch 50/200\n",
      "1247590/1247590 [==============================] - 6s 5us/step - loss: 4.4569e-06 - rmse: 0.0012 - r_square: 0.9996 - val_loss: 3.8624e-06 - val_rmse: 0.0011 - val_r_square: 0.9996\n",
      "Epoch 51/200\n",
      "1247590/1247590 [==============================] - 6s 5us/step - loss: 4.4597e-06 - rmse: 0.0012 - r_square: 0.9996 - val_loss: 4.2373e-06 - val_rmse: 0.0011 - val_r_square: 0.9996\n",
      "Epoch 52/200\n",
      "1247590/1247590 [==============================] - 6s 5us/step - loss: 4.4503e-06 - rmse: 0.0012 - r_square: 0.9996 - val_loss: 4.3941e-06 - val_rmse: 0.0012 - val_r_square: 0.9996\n",
      "Epoch 53/200\n",
      "1247590/1247590 [==============================] - 6s 5us/step - loss: 4.3983e-06 - rmse: 0.0012 - r_square: 0.9996 - val_loss: 4.2139e-06 - val_rmse: 0.0012 - val_r_square: 0.9996\n",
      "Epoch 54/200\n",
      "1247590/1247590 [==============================] - 6s 5us/step - loss: 4.4292e-06 - rmse: 0.0012 - r_square: 0.9996 - val_loss: 5.1366e-06 - val_rmse: 0.0015 - val_r_square: 0.9995\n",
      "Epoch 55/200\n",
      "1247590/1247590 [==============================] - 6s 5us/step - loss: 4.3690e-06 - rmse: 0.0012 - r_square: 0.9996 - val_loss: 3.7856e-06 - val_rmse: 0.0011 - val_r_square: 0.9996\n",
      "Epoch 56/200\n",
      "1247590/1247590 [==============================] - 6s 5us/step - loss: 4.4214e-06 - rmse: 0.0012 - r_square: 0.9996 - val_loss: 3.9677e-06 - val_rmse: 0.0012 - val_r_square: 0.9996\n",
      "Epoch 57/200\n",
      "1247590/1247590 [==============================] - 6s 5us/step - loss: 4.3450e-06 - rmse: 0.0012 - r_square: 0.9996 - val_loss: 3.8509e-06 - val_rmse: 0.0011 - val_r_square: 0.9996\n",
      "Epoch 58/200\n",
      "1247590/1247590 [==============================] - 6s 5us/step - loss: 4.3663e-06 - rmse: 0.0012 - r_square: 0.9996 - val_loss: 6.1461e-06 - val_rmse: 0.0014 - val_r_square: 0.9994\n",
      "Epoch 59/200\n",
      "1247590/1247590 [==============================] - 6s 5us/step - loss: 4.3618e-06 - rmse: 0.0012 - r_square: 0.9996 - val_loss: 4.5173e-06 - val_rmse: 0.0014 - val_r_square: 0.9996\n",
      "Epoch 60/200\n",
      "1247590/1247590 [==============================] - 6s 5us/step - loss: 4.3471e-06 - rmse: 0.0012 - r_square: 0.9996 - val_loss: 3.8084e-06 - val_rmse: 0.0011 - val_r_square: 0.9996\n",
      "Epoch 61/200\n",
      "1247590/1247590 [==============================] - 6s 5us/step - loss: 4.3362e-06 - rmse: 0.0012 - r_square: 0.9996 - val_loss: 4.6136e-06 - val_rmse: 0.0013 - val_r_square: 0.9995\n",
      "Epoch 62/200\n",
      "1247590/1247590 [==============================] - 6s 5us/step - loss: 4.2829e-06 - rmse: 0.0012 - r_square: 0.9996 - val_loss: 4.3721e-06 - val_rmse: 0.0012 - val_r_square: 0.9996\n",
      "Epoch 63/200\n",
      "1247590/1247590 [==============================] - 6s 5us/step - loss: 4.3405e-06 - rmse: 0.0012 - r_square: 0.9996 - val_loss: 4.2384e-06 - val_rmse: 0.0012 - val_r_square: 0.9996\n",
      "Epoch 64/200\n",
      "1247590/1247590 [==============================] - 6s 5us/step - loss: 4.3199e-06 - rmse: 0.0012 - r_square: 0.9996 - val_loss: 3.9445e-06 - val_rmse: 0.0011 - val_r_square: 0.9996\n",
      "Epoch 65/200\n",
      "1247590/1247590 [==============================] - 6s 5us/step - loss: 4.2922e-06 - rmse: 0.0012 - r_square: 0.9996 - val_loss: 4.1737e-06 - val_rmse: 0.0011 - val_r_square: 0.9996\n",
      "Epoch 66/200\n",
      "1247590/1247590 [==============================] - 6s 5us/step - loss: 4.2596e-06 - rmse: 0.0012 - r_square: 0.9996 - val_loss: 4.0492e-06 - val_rmse: 0.0011 - val_r_square: 0.9996\n",
      "Epoch 67/200\n",
      "1247590/1247590 [==============================] - 6s 5us/step - loss: 4.2832e-06 - rmse: 0.0012 - r_square: 0.9996 - val_loss: 5.2384e-06 - val_rmse: 0.0013 - val_r_square: 0.9995\n",
      "Epoch 68/200\n",
      "1247590/1247590 [==============================] - 6s 5us/step - loss: 4.2488e-06 - rmse: 0.0012 - r_square: 0.9996 - val_loss: 3.7939e-06 - val_rmse: 0.0011 - val_r_square: 0.9996\n",
      "Epoch 69/200\n",
      "1247590/1247590 [==============================] - 6s 5us/step - loss: 4.2908e-06 - rmse: 0.0012 - r_square: 0.9996 - val_loss: 3.7993e-06 - val_rmse: 0.0011 - val_r_square: 0.9996\n",
      "Epoch 70/200\n",
      "1247590/1247590 [==============================] - 6s 5us/step - loss: 4.2150e-06 - rmse: 0.0012 - r_square: 0.9996 - val_loss: 3.6945e-06 - val_rmse: 0.0010 - val_r_square: 0.9996\n",
      "Epoch 71/200\n",
      "1247590/1247590 [==============================] - 6s 5us/step - loss: 4.2633e-06 - rmse: 0.0012 - r_square: 0.9996 - val_loss: 5.0209e-06 - val_rmse: 0.0013 - val_r_square: 0.9995\n",
      "Epoch 72/200\n",
      "1247590/1247590 [==============================] - 6s 5us/step - loss: 4.2347e-06 - rmse: 0.0012 - r_square: 0.9996 - val_loss: 4.0838e-06 - val_rmse: 0.0011 - val_r_square: 0.9996\n",
      "Epoch 73/200\n",
      "1247590/1247590 [==============================] - 6s 5us/step - loss: 4.2458e-06 - rmse: 0.0012 - r_square: 0.9996 - val_loss: 4.3094e-06 - val_rmse: 0.0012 - val_r_square: 0.9996\n",
      "Epoch 74/200\n",
      "1247590/1247590 [==============================] - 6s 5us/step - loss: 4.1682e-06 - rmse: 0.0012 - r_square: 0.9996 - val_loss: 5.8547e-06 - val_rmse: 0.0017 - val_r_square: 0.9994\n",
      "Epoch 75/200\n",
      "1247590/1247590 [==============================] - 6s 5us/step - loss: 4.2225e-06 - rmse: 0.0012 - r_square: 0.9996 - val_loss: 4.2420e-06 - val_rmse: 0.0012 - val_r_square: 0.9996\n",
      "Epoch 76/200\n",
      "1247590/1247590 [==============================] - 6s 5us/step - loss: 4.1956e-06 - rmse: 0.0012 - r_square: 0.9996 - val_loss: 3.6217e-06 - val_rmse: 0.0011 - val_r_square: 0.9996\n",
      "Epoch 77/200\n",
      "1247590/1247590 [==============================] - 6s 5us/step - loss: 4.1546e-06 - rmse: 0.0012 - r_square: 0.9996 - val_loss: 4.8946e-06 - val_rmse: 0.0013 - val_r_square: 0.9995\n",
      "Epoch 78/200\n",
      "1247590/1247590 [==============================] - 6s 5us/step - loss: 4.1897e-06 - rmse: 0.0012 - r_square: 0.9996 - val_loss: 5.1689e-06 - val_rmse: 0.0014 - val_r_square: 0.9995\n",
      "Epoch 79/200\n",
      "1247590/1247590 [==============================] - 6s 5us/step - loss: 4.1802e-06 - rmse: 0.0012 - r_square: 0.9996 - val_loss: 3.8619e-06 - val_rmse: 0.0011 - val_r_square: 0.9996\n",
      "Epoch 80/200\n",
      "1247590/1247590 [==============================] - 6s 5us/step - loss: 4.1514e-06 - rmse: 0.0012 - r_square: 0.9996 - val_loss: 3.6169e-06 - val_rmse: 0.0010 - val_r_square: 0.9996\n",
      "Epoch 81/200\n",
      "1247590/1247590 [==============================] - 6s 5us/step - loss: 4.1561e-06 - rmse: 0.0012 - r_square: 0.9996 - val_loss: 4.6861e-06 - val_rmse: 0.0013 - val_r_square: 0.9995\n",
      "Epoch 82/200\n",
      "1247590/1247590 [==============================] - 6s 5us/step - loss: 4.1233e-06 - rmse: 0.0012 - r_square: 0.9996 - val_loss: 4.5428e-06 - val_rmse: 0.0014 - val_r_square: 0.9996\n",
      "Epoch 83/200\n",
      "1247590/1247590 [==============================] - 6s 5us/step - loss: 4.1458e-06 - rmse: 0.0012 - r_square: 0.9996 - val_loss: 5.3914e-06 - val_rmse: 0.0015 - val_r_square: 0.9995\n",
      "Epoch 84/200\n",
      "1247590/1247590 [==============================] - 6s 5us/step - loss: 4.1368e-06 - rmse: 0.0012 - r_square: 0.9996 - val_loss: 3.7349e-06 - val_rmse: 0.0011 - val_r_square: 0.9996\n",
      "Epoch 85/200\n"
     ]
    },
    {
     "name": "stdout",
     "output_type": "stream",
     "text": [
      "1247590/1247590 [==============================] - 6s 5us/step - loss: 4.1039e-06 - rmse: 0.0012 - r_square: 0.9996 - val_loss: 3.7478e-06 - val_rmse: 0.0011 - val_r_square: 0.9996\n",
      "Epoch 86/200\n",
      "1247590/1247590 [==============================] - 6s 5us/step - loss: 4.1307e-06 - rmse: 0.0012 - r_square: 0.9996 - val_loss: 3.7909e-06 - val_rmse: 0.0011 - val_r_square: 0.9996\n",
      "Epoch 87/200\n",
      "1247590/1247590 [==============================] - 6s 5us/step - loss: 4.1834e-06 - rmse: 0.0012 - r_square: 0.9996 - val_loss: 4.0336e-06 - val_rmse: 0.0011 - val_r_square: 0.9996\n",
      "Epoch 88/200\n",
      "1247590/1247590 [==============================] - 6s 5us/step - loss: 4.1041e-06 - rmse: 0.0012 - r_square: 0.9996 - val_loss: 4.5828e-06 - val_rmse: 0.0012 - val_r_square: 0.9995\n",
      "Epoch 89/200\n",
      "1247590/1247590 [==============================] - 6s 5us/step - loss: 4.0873e-06 - rmse: 0.0012 - r_square: 0.9996 - val_loss: 4.5886e-06 - val_rmse: 0.0013 - val_r_square: 0.9995\n",
      "Epoch 90/200\n",
      "1247590/1247590 [==============================] - 6s 5us/step - loss: 4.0938e-06 - rmse: 0.0012 - r_square: 0.9996 - val_loss: 5.4741e-06 - val_rmse: 0.0013 - val_r_square: 0.9995\n",
      "Epoch 91/200\n",
      "1247590/1247590 [==============================] - 6s 5us/step - loss: 4.0904e-06 - rmse: 0.0012 - r_square: 0.9996 - val_loss: 4.2906e-06 - val_rmse: 0.0012 - val_r_square: 0.9996\n",
      "Epoch 92/200\n",
      "1247590/1247590 [==============================] - 6s 5us/step - loss: 4.0769e-06 - rmse: 0.0012 - r_square: 0.9996 - val_loss: 4.4526e-06 - val_rmse: 0.0013 - val_r_square: 0.9996\n",
      "Epoch 93/200\n",
      "1247590/1247590 [==============================] - 6s 5us/step - loss: 4.0746e-06 - rmse: 0.0012 - r_square: 0.9996 - val_loss: 5.0866e-06 - val_rmse: 0.0013 - val_r_square: 0.9995\n",
      "Epoch 94/200\n",
      "1247590/1247590 [==============================] - 6s 5us/step - loss: 4.1081e-06 - rmse: 0.0012 - r_square: 0.9996 - val_loss: 4.0851e-06 - val_rmse: 0.0013 - val_r_square: 0.9996\n",
      "Epoch 95/200\n",
      "1247590/1247590 [==============================] - 6s 5us/step - loss: 4.0703e-06 - rmse: 0.0012 - r_square: 0.9996 - val_loss: 3.7595e-06 - val_rmse: 0.0011 - val_r_square: 0.9996\n",
      "Epoch 96/200\n",
      "1247590/1247590 [==============================] - 6s 5us/step - loss: 4.0603e-06 - rmse: 0.0012 - r_square: 0.9996 - val_loss: 5.6601e-06 - val_rmse: 0.0015 - val_r_square: 0.9994\n",
      "Epoch 97/200\n",
      "1247590/1247590 [==============================] - 6s 5us/step - loss: 4.0440e-06 - rmse: 0.0012 - r_square: 0.9996 - val_loss: 4.1763e-06 - val_rmse: 0.0012 - val_r_square: 0.9996\n",
      "Epoch 98/200\n",
      "1247590/1247590 [==============================] - 6s 5us/step - loss: 4.0330e-06 - rmse: 0.0012 - r_square: 0.9996 - val_loss: 4.3406e-06 - val_rmse: 0.0012 - val_r_square: 0.9996\n",
      "Epoch 99/200\n",
      "1247590/1247590 [==============================] - 6s 5us/step - loss: 4.0458e-06 - rmse: 0.0012 - r_square: 0.9996 - val_loss: 4.2225e-06 - val_rmse: 0.0012 - val_r_square: 0.9996\n",
      "Epoch 100/200\n",
      "1247590/1247590 [==============================] - 6s 5us/step - loss: 4.0180e-06 - rmse: 0.0012 - r_square: 0.9996 - val_loss: 4.2921e-06 - val_rmse: 0.0012 - val_r_square: 0.9996\n",
      "Epoch 101/200\n",
      "1247590/1247590 [==============================] - 6s 5us/step - loss: 4.0251e-06 - rmse: 0.0012 - r_square: 0.9996 - val_loss: 4.1795e-06 - val_rmse: 0.0012 - val_r_square: 0.9996\n",
      "Epoch 102/200\n",
      "1247590/1247590 [==============================] - 6s 5us/step - loss: 4.0214e-06 - rmse: 0.0012 - r_square: 0.9996 - val_loss: 3.5039e-06 - val_rmse: 0.0010 - val_r_square: 0.9997\n",
      "Epoch 103/200\n",
      "1247590/1247590 [==============================] - 6s 5us/step - loss: 4.0139e-06 - rmse: 0.0012 - r_square: 0.9996 - val_loss: 3.9161e-06 - val_rmse: 0.0012 - val_r_square: 0.9996\n",
      "Epoch 104/200\n",
      "1247590/1247590 [==============================] - 6s 5us/step - loss: 4.0089e-06 - rmse: 0.0012 - r_square: 0.9996 - val_loss: 3.5626e-06 - val_rmse: 0.0011 - val_r_square: 0.9996\n",
      "Epoch 105/200\n",
      "1247590/1247590 [==============================] - 6s 5us/step - loss: 4.0001e-06 - rmse: 0.0012 - r_square: 0.9996 - val_loss: 3.7420e-06 - val_rmse: 0.0011 - val_r_square: 0.9996\n",
      "Epoch 106/200\n",
      "1247590/1247590 [==============================] - 6s 5us/step - loss: 4.0229e-06 - rmse: 0.0012 - r_square: 0.9996 - val_loss: 3.8581e-06 - val_rmse: 0.0012 - val_r_square: 0.9996\n",
      "Epoch 107/200\n",
      "1247590/1247590 [==============================] - 6s 5us/step - loss: 3.9850e-06 - rmse: 0.0011 - r_square: 0.9996 - val_loss: 3.8899e-06 - val_rmse: 0.0011 - val_r_square: 0.9996\n",
      "Epoch 108/200\n",
      "1247590/1247590 [==============================] - 6s 5us/step - loss: 3.9893e-06 - rmse: 0.0011 - r_square: 0.9996 - val_loss: 3.8746e-06 - val_rmse: 0.0011 - val_r_square: 0.9996\n",
      "Epoch 109/200\n",
      "1247590/1247590 [==============================] - 6s 5us/step - loss: 3.9954e-06 - rmse: 0.0011 - r_square: 0.9996 - val_loss: 4.2399e-06 - val_rmse: 0.0012 - val_r_square: 0.9996\n",
      "Epoch 110/200\n",
      "1247590/1247590 [==============================] - 6s 5us/step - loss: 3.9998e-06 - rmse: 0.0011 - r_square: 0.9996 - val_loss: 3.7356e-06 - val_rmse: 0.0011 - val_r_square: 0.9996\n",
      "Epoch 111/200\n",
      "1247590/1247590 [==============================] - 6s 5us/step - loss: 3.9335e-06 - rmse: 0.0011 - r_square: 0.9996 - val_loss: 5.6867e-06 - val_rmse: 0.0014 - val_r_square: 0.9994\n",
      "Epoch 112/200\n",
      "1247590/1247590 [==============================] - 6s 5us/step - loss: 3.9682e-06 - rmse: 0.0011 - r_square: 0.9996 - val_loss: 3.9105e-06 - val_rmse: 0.0012 - val_r_square: 0.9996\n",
      "Epoch 113/200\n",
      "1247590/1247590 [==============================] - 6s 5us/step - loss: 3.9810e-06 - rmse: 0.0011 - r_square: 0.9996 - val_loss: 3.7975e-06 - val_rmse: 0.0011 - val_r_square: 0.9996\n",
      "Epoch 114/200\n",
      "1247590/1247590 [==============================] - 6s 5us/step - loss: 3.9680e-06 - rmse: 0.0011 - r_square: 0.9996 - val_loss: 3.4906e-06 - val_rmse: 0.0010 - val_r_square: 0.9997\n",
      "Epoch 115/200\n",
      "1247590/1247590 [==============================] - 6s 5us/step - loss: 3.9269e-06 - rmse: 0.0011 - r_square: 0.9996 - val_loss: 4.1621e-06 - val_rmse: 0.0012 - val_r_square: 0.9996\n",
      "Epoch 116/200\n",
      "1247590/1247590 [==============================] - 6s 5us/step - loss: 3.9076e-06 - rmse: 0.0011 - r_square: 0.9996 - val_loss: 4.7917e-06 - val_rmse: 0.0013 - val_r_square: 0.9995\n",
      "Epoch 117/200\n",
      "1247590/1247590 [==============================] - 6s 5us/step - loss: 3.9701e-06 - rmse: 0.0011 - r_square: 0.9996 - val_loss: 3.8106e-06 - val_rmse: 0.0011 - val_r_square: 0.9996\n",
      "Epoch 118/200\n",
      "1247590/1247590 [==============================] - 6s 5us/step - loss: 3.9433e-06 - rmse: 0.0011 - r_square: 0.9996 - val_loss: 4.1759e-06 - val_rmse: 0.0012 - val_r_square: 0.9996\n",
      "Epoch 119/200\n",
      "1247590/1247590 [==============================] - 6s 5us/step - loss: 3.9602e-06 - rmse: 0.0011 - r_square: 0.9996 - val_loss: 3.7260e-06 - val_rmse: 0.0011 - val_r_square: 0.9996\n",
      "Epoch 120/200\n",
      "1247590/1247590 [==============================] - 6s 5us/step - loss: 3.9504e-06 - rmse: 0.0011 - r_square: 0.9996 - val_loss: 3.5247e-06 - val_rmse: 0.0010 - val_r_square: 0.9997\n",
      "Epoch 121/200\n",
      "1247590/1247590 [==============================] - 6s 5us/step - loss: 3.9047e-06 - rmse: 0.0011 - r_square: 0.9996 - val_loss: 4.0925e-06 - val_rmse: 0.0011 - val_r_square: 0.9996\n",
      "Epoch 122/200\n",
      "1247590/1247590 [==============================] - 6s 5us/step - loss: 3.9514e-06 - rmse: 0.0011 - r_square: 0.9996 - val_loss: 4.0796e-06 - val_rmse: 0.0012 - val_r_square: 0.9996\n",
      "Epoch 123/200\n",
      "1247590/1247590 [==============================] - 6s 5us/step - loss: 3.9390e-06 - rmse: 0.0011 - r_square: 0.9996 - val_loss: 3.5701e-06 - val_rmse: 0.0010 - val_r_square: 0.9996\n",
      "Epoch 124/200\n",
      "1247590/1247590 [==============================] - 6s 5us/step - loss: 3.9378e-06 - rmse: 0.0011 - r_square: 0.9996 - val_loss: 4.3646e-06 - val_rmse: 0.0012 - val_r_square: 0.9996\n",
      "Epoch 125/200\n",
      "1247590/1247590 [==============================] - 6s 5us/step - loss: 3.9119e-06 - rmse: 0.0011 - r_square: 0.9996 - val_loss: 3.8224e-06 - val_rmse: 0.0011 - val_r_square: 0.9996\n",
      "Epoch 126/200\n",
      "1247590/1247590 [==============================] - 6s 5us/step - loss: 3.9236e-06 - rmse: 0.0011 - r_square: 0.9996 - val_loss: 3.7008e-06 - val_rmse: 0.0011 - val_r_square: 0.9996\n",
      "Epoch 127/200\n"
     ]
    },
    {
     "name": "stdout",
     "output_type": "stream",
     "text": [
      "1247590/1247590 [==============================] - 6s 5us/step - loss: 3.9118e-06 - rmse: 0.0011 - r_square: 0.9996 - val_loss: 3.5898e-06 - val_rmse: 0.0010 - val_r_square: 0.9996\n",
      "Epoch 128/200\n",
      "1247590/1247590 [==============================] - 6s 5us/step - loss: 3.8976e-06 - rmse: 0.0011 - r_square: 0.9996 - val_loss: 4.5120e-06 - val_rmse: 0.0012 - val_r_square: 0.9996\n",
      "Epoch 129/200\n",
      "1247590/1247590 [==============================] - 6s 5us/step - loss: 3.8924e-06 - rmse: 0.0011 - r_square: 0.9996 - val_loss: 5.2058e-06 - val_rmse: 0.0013 - val_r_square: 0.9995\n",
      "Epoch 130/200\n",
      "1247590/1247590 [==============================] - 6s 5us/step - loss: 3.9026e-06 - rmse: 0.0011 - r_square: 0.9996 - val_loss: 3.8501e-06 - val_rmse: 0.0011 - val_r_square: 0.9996\n",
      "Epoch 131/200\n",
      "1247590/1247590 [==============================] - 6s 5us/step - loss: 3.8923e-06 - rmse: 0.0011 - r_square: 0.9996 - val_loss: 3.5900e-06 - val_rmse: 0.0011 - val_r_square: 0.9996\n",
      "Epoch 132/200\n",
      "1247590/1247590 [==============================] - 6s 5us/step - loss: 3.9027e-06 - rmse: 0.0011 - r_square: 0.9996 - val_loss: 3.6063e-06 - val_rmse: 0.0010 - val_r_square: 0.9996\n",
      "Epoch 133/200\n",
      "1247590/1247590 [==============================] - 6s 5us/step - loss: 3.8843e-06 - rmse: 0.0011 - r_square: 0.9996 - val_loss: 3.7264e-06 - val_rmse: 0.0011 - val_r_square: 0.9996\n",
      "Epoch 134/200\n",
      "1247590/1247590 [==============================] - 6s 5us/step - loss: 3.8867e-06 - rmse: 0.0011 - r_square: 0.9996 - val_loss: 3.9118e-06 - val_rmse: 0.0011 - val_r_square: 0.9996\n",
      "Epoch 135/200\n",
      "1247590/1247590 [==============================] - 6s 5us/step - loss: 3.8784e-06 - rmse: 0.0011 - r_square: 0.9996 - val_loss: 4.1598e-06 - val_rmse: 0.0012 - val_r_square: 0.9996\n",
      "Epoch 136/200\n",
      "1247590/1247590 [==============================] - 6s 5us/step - loss: 3.8427e-06 - rmse: 0.0011 - r_square: 0.9996 - val_loss: 3.6647e-06 - val_rmse: 0.0011 - val_r_square: 0.9996\n",
      "Epoch 137/200\n",
      "1247590/1247590 [==============================] - 6s 5us/step - loss: 3.8911e-06 - rmse: 0.0011 - r_square: 0.9996 - val_loss: 3.6784e-06 - val_rmse: 0.0010 - val_r_square: 0.9996\n",
      "Epoch 138/200\n",
      "1247590/1247590 [==============================] - 6s 5us/step - loss: 3.8467e-06 - rmse: 0.0011 - r_square: 0.9996 - val_loss: 4.1802e-06 - val_rmse: 0.0012 - val_r_square: 0.9996\n",
      "Epoch 139/200\n",
      "1247590/1247590 [==============================] - 6s 5us/step - loss: 3.8443e-06 - rmse: 0.0011 - r_square: 0.9996 - val_loss: 3.5386e-06 - val_rmse: 0.0011 - val_r_square: 0.9997\n",
      "Epoch 00139: early stopping\n"
     ]
    }
   ],
   "source": [
    "# fit the model\n",
    "result = model.fit(XX_train, \n",
    "                   yy_train,\n",
    "                   epochs = 200,\n",
    "                   batch_size=256,\n",
    "                   validation_data=(XX_validation, yy_validation),\n",
    "                   callbacks = [es]\n",
    "                  )"
   ]
  },
  {
   "cell_type": "code",
   "execution_count": 24,
   "metadata": {},
   "outputs": [],
   "source": [
    "model.save_weights('model.h5')"
   ]
  },
  {
   "cell_type": "code",
   "execution_count": 14,
   "metadata": {},
   "outputs": [
    {
     "name": "stdout",
     "output_type": "stream",
     "text": [
      "[[3.7521321e-02]\n",
      " [9.5704332e-02]\n",
      " [1.2682991e+00]\n",
      " [1.6625682e+00]\n",
      " [4.4667490e-02]\n",
      " [1.2867612e+01]\n",
      " [3.0382404e+01]\n",
      " [8.6653118e+00]\n",
      " [9.5423727e+00]\n",
      " [4.8818386e+01]]\n"
     ]
    }
   ],
   "source": [
    "predictions = model.predict(X_test)\n",
    "pre_act = sc.inverse_transform(predictions)\n",
    "print(pre_act[:10])"
   ]
  },
  {
   "cell_type": "code",
   "execution_count": 15,
   "metadata": {},
   "outputs": [],
   "source": [
    "y_act = sc.inverse_transform(y_test)"
   ]
  },
  {
   "cell_type": "code",
   "execution_count": 16,
   "metadata": {},
   "outputs": [
    {
     "data": {
      "text/plain": [
       "array([[2.000e-02],\n",
       "       [1.200e-01],\n",
       "       [1.120e+00],\n",
       "       [1.500e+00],\n",
       "       [4.000e-02],\n",
       "       [1.255e+01],\n",
       "       [3.055e+01],\n",
       "       [8.300e+00],\n",
       "       [9.400e+00],\n",
       "       [5.065e+01]])"
      ]
     },
     "execution_count": 16,
     "metadata": {},
     "output_type": "execute_result"
    }
   ],
   "source": [
    "y_act[:10]"
   ]
  },
  {
   "cell_type": "markdown",
   "metadata": {},
   "source": [
    "## Plot learning curves including R^2 and RMSE"
   ]
  },
  {
   "cell_type": "code",
   "execution_count": 18,
   "metadata": {},
   "outputs": [
    {
     "data": {
      "image/png": "[encoded data removed]",
      "text/plain": [
       "<Figure size 432x288 with 1 Axes>"
      ]
     },
     "metadata": {},
     "output_type": "display_data"
    }
   ],
   "source": [
    "# plot training curve for rmse\n",
    "plt.plot(result.history['rmse'])\n",
    "plt.plot(result.history['val_rmse'])\n",
    "plt.title('rmse')\n",
    "plt.ylabel('rmse')\n",
    "plt.xlabel('epoch')\n",
    "plt.legend(['train', 'validation'], loc='upper right')\n",
    "plt.show()"
   ]
  },
  {
   "cell_type": "code",
   "execution_count": 19,
   "metadata": {},
   "outputs": [
    {
     "data": {
      "image/png": "[encoded data removed]",
      "text/plain": [
       "<Figure size 432x288 with 1 Axes>"
      ]
     },
     "metadata": {},
     "output_type": "display_data"
    }
   ],
   "source": [
    "# plot training curve for R^2\n",
    "plt.plot(result.history['r_square'])\n",
    "plt.plot(result.history['val_r_square'])\n",
    "plt.title('model R^2')\n",
    "plt.ylabel('R^2')\n",
    "plt.xlabel('epoch')\n",
    "plt.legend(['train', 'validation'], loc='lower right')\n",
    "plt.show()"
   ]
  },
  {
   "cell_type": "code",
   "execution_count": 20,
   "metadata": {},
   "outputs": [
    {
     "name": "stdout",
     "output_type": "stream",
     "text": [
      "\n",
      "\n",
      "Mean absolute error (MAE):      0.001113\n",
      "Mean squared error (MSE):       0.000004\n",
      "Root mean squared error (RMSE): 0.002057\n",
      "R square (R^2):                 0.999606\n"
     ]
    }
   ],
   "source": [
    "import sklearn.metrics as skm, math\n",
    "print(\"\\n\")\n",
    "print(\"Mean absolute error (MAE):      %f\" % skm.mean_absolute_error(y_test,predictions))\n",
    "print(\"Mean squared error (MSE):       %f\" % skm.mean_squared_error(y_test,predictions))\n",
    "print(\"Root mean squared error (RMSE): %f\" % math.sqrt(skm.mean_squared_error(y_test,predictions)))\n",
    "print(\"R square (R^2):                 %f\" % skm.r2_score(y_test,predictions))"
   ]
  },
  {
   "cell_type": "markdown",
   "metadata": {},
   "source": [
    "## Try dropout"
   ]
  },
  {
   "cell_type": "code",
   "execution_count": 21,
   "metadata": {},
   "outputs": [
    {
     "name": "stderr",
     "output_type": "stream",
     "text": [
      "W0624 13:17:36.608640 19284 deprecation.py:506] From C:\\Users\\mayingzh\\AppData\\Roaming\\Python\\Python36\\site-packages\\keras\\backend\\tensorflow_backend.py:3445: calling dropout (from tensorflow.python.ops.nn_ops) with keep_prob is deprecated and will be removed in a future version.\n",
      "Instructions for updating:\n",
      "Please use `rate` instead of `keep_prob`. Rate should be set to `rate = 1 - keep_prob`.\n"
     ]
    },
    {
     "name": "stdout",
     "output_type": "stream",
     "text": [
      "Train on 1247590 samples, validate on 311898 samples\n",
      "Epoch 1/200\n",
      "1247590/1247590 [==============================] - 7s 6us/step - loss: 3.1169e-04 - rmse: 0.0087 - r_square: 0.9699 - val_loss: 8.1642e-05 - val_rmse: 0.0057 - val_r_square: 0.9923\n",
      "Epoch 2/200\n",
      "1247590/1247590 [==============================] - 7s 6us/step - loss: 3.3285e-05 - rmse: 0.0037 - r_square: 0.9967 - val_loss: 1.4774e-04 - val_rmse: 0.0080 - val_r_square: 0.9858\n",
      "Epoch 3/200\n",
      "1247590/1247590 [==============================] - 7s 6us/step - loss: 2.0825e-05 - rmse: 0.0029 - r_square: 0.9980 - val_loss: 1.9977e-04 - val_rmse: 0.0088 - val_r_square: 0.9808\n",
      "Epoch 4/200\n",
      "1247590/1247590 [==============================] - 7s 6us/step - loss: 1.6776e-05 - rmse: 0.0026 - r_square: 0.9983 - val_loss: 1.8064e-04 - val_rmse: 0.0084 - val_r_square: 0.9827\n",
      "Epoch 5/200\n",
      "1247590/1247590 [==============================] - 7s 6us/step - loss: 1.4809e-05 - rmse: 0.0024 - r_square: 0.9985 - val_loss: 1.4013e-04 - val_rmse: 0.0073 - val_r_square: 0.9867\n",
      "Epoch 6/200\n",
      "1247590/1247590 [==============================] - 7s 6us/step - loss: 1.3533e-05 - rmse: 0.0023 - r_square: 0.9987 - val_loss: 1.4151e-04 - val_rmse: 0.0072 - val_r_square: 0.9866\n",
      "Epoch 7/200\n",
      "1247590/1247590 [==============================] - 7s 6us/step - loss: 1.2402e-05 - rmse: 0.0022 - r_square: 0.9988 - val_loss: 1.9087e-04 - val_rmse: 0.0093 - val_r_square: 0.9817\n",
      "Epoch 8/200\n",
      "1247590/1247590 [==============================] - 7s 6us/step - loss: 1.1527e-05 - rmse: 0.0021 - r_square: 0.9989 - val_loss: 1.5620e-04 - val_rmse: 0.0077 - val_r_square: 0.9852\n",
      "Epoch 9/200\n",
      "1247590/1247590 [==============================] - 7s 6us/step - loss: 1.1097e-05 - rmse: 0.0021 - r_square: 0.9989 - val_loss: 1.5979e-04 - val_rmse: 0.0077 - val_r_square: 0.9848\n",
      "Epoch 10/200\n",
      "1247590/1247590 [==============================] - 7s 6us/step - loss: 1.0802e-05 - rmse: 0.0020 - r_square: 0.9989 - val_loss: 1.7792e-04 - val_rmse: 0.0084 - val_r_square: 0.9830\n",
      "Epoch 11/200\n",
      "1247590/1247590 [==============================] - 7s 6us/step - loss: 1.0257e-05 - rmse: 0.0020 - r_square: 0.9990 - val_loss: 1.6853e-04 - val_rmse: 0.0082 - val_r_square: 0.9839\n",
      "Epoch 12/200\n",
      "1247590/1247590 [==============================] - 7s 6us/step - loss: 9.8753e-06 - rmse: 0.0019 - r_square: 0.9990 - val_loss: 1.6427e-04 - val_rmse: 0.0078 - val_r_square: 0.9844\n",
      "Epoch 13/200\n",
      "1247590/1247590 [==============================] - 7s 6us/step - loss: 9.8223e-06 - rmse: 0.0019 - r_square: 0.9990 - val_loss: 1.5827e-04 - val_rmse: 0.0081 - val_r_square: 0.9849\n",
      "Epoch 14/200\n",
      "1247590/1247590 [==============================] - 7s 6us/step - loss: 9.3088e-06 - rmse: 0.0019 - r_square: 0.9991 - val_loss: 1.7489e-04 - val_rmse: 0.0089 - val_r_square: 0.9832\n",
      "Epoch 15/200\n",
      "1247590/1247590 [==============================] - 7s 6us/step - loss: 9.1983e-06 - rmse: 0.0018 - r_square: 0.9991 - val_loss: 1.8523e-04 - val_rmse: 0.0088 - val_r_square: 0.9823\n",
      "Epoch 16/200\n",
      "1247590/1247590 [==============================] - 7s 6us/step - loss: 8.9013e-06 - rmse: 0.0018 - r_square: 0.9991 - val_loss: 1.5775e-04 - val_rmse: 0.0075 - val_r_square: 0.9851\n",
      "Epoch 17/200\n",
      "1247590/1247590 [==============================] - 7s 6us/step - loss: 8.8737e-06 - rmse: 0.0018 - r_square: 0.9991 - val_loss: 1.2984e-04 - val_rmse: 0.0070 - val_r_square: 0.9877\n",
      "Epoch 18/200\n",
      "1247590/1247590 [==============================] - 8s 6us/step - loss: 8.6166e-06 - rmse: 0.0018 - r_square: 0.9991 - val_loss: 1.2231e-04 - val_rmse: 0.0068 - val_r_square: 0.9885\n",
      "Epoch 19/200\n",
      "1247590/1247590 [==============================] - 7s 6us/step - loss: 8.5235e-06 - rmse: 0.0018 - r_square: 0.9992 - val_loss: 1.7678e-04 - val_rmse: 0.0090 - val_r_square: 0.9831\n",
      "Epoch 20/200\n",
      "1247590/1247590 [==============================] - 7s 6us/step - loss: 8.6503e-06 - rmse: 0.0018 - r_square: 0.9991 - val_loss: 1.5908e-04 - val_rmse: 0.0082 - val_r_square: 0.9848\n",
      "Epoch 21/200\n",
      "1247590/1247590 [==============================] - 7s 6us/step - loss: 8.1508e-06 - rmse: 0.0017 - r_square: 0.9992 - val_loss: 1.5509e-04 - val_rmse: 0.0083 - val_r_square: 0.9852\n",
      "Epoch 22/200\n",
      "1247590/1247590 [==============================] - 7s 6us/step - loss: 8.4153e-06 - rmse: 0.0017 - r_square: 0.9992 - val_loss: 1.6113e-04 - val_rmse: 0.0078 - val_r_square: 0.9847\n",
      "Epoch 23/200\n",
      "1247590/1247590 [==============================] - 7s 6us/step - loss: 8.1478e-06 - rmse: 0.0017 - r_square: 0.9992 - val_loss: 1.6148e-04 - val_rmse: 0.0081 - val_r_square: 0.9846\n",
      "Epoch 24/200\n",
      "1247590/1247590 [==============================] - 7s 6us/step - loss: 7.8276e-06 - rmse: 0.0017 - r_square: 0.9992 - val_loss: 1.6081e-04 - val_rmse: 0.0085 - val_r_square: 0.9846\n",
      "Epoch 25/200\n",
      "1247590/1247590 [==============================] - 7s 6us/step - loss: 7.8953e-06 - rmse: 0.0017 - r_square: 0.9992 - val_loss: 1.3646e-04 - val_rmse: 0.0071 - val_r_square: 0.9871\n",
      "Epoch 26/200\n",
      "1247590/1247590 [==============================] - 7s 6us/step - loss: 7.7675e-06 - rmse: 0.0017 - r_square: 0.9992 - val_loss: 1.4488e-04 - val_rmse: 0.0075 - val_r_square: 0.9863\n",
      "Epoch 00026: early stopping\n"
     ]
    }
   ],
   "source": [
    "model2 = Sequential([\n",
    "    Dense(64, activation='relu', input_shape=(7,)),\n",
    "    Dropout(0.1),\n",
    "    Dense(128, activation='relu'),\n",
    "    Dense(64, activation='relu'),\n",
    "    Dense(1, activation='linear'),\n",
    "])\n",
    "model2.compile(\n",
    "  optimizer='adam',\n",
    "  loss='mse',\n",
    "  metrics=[rmse, r_square],\n",
    ")\n",
    "# fit the model\n",
    "result2 = model2.fit(XX_train, \n",
    "                   yy_train,\n",
    "                   epochs = 200,\n",
    "                   batch_size=256,\n",
    "                   validation_data=(XX_validation, yy_validation),\n",
    "                   callbacks = [es]\n",
    "                  )"
   ]
  },
  {
   "cell_type": "code",
   "execution_count": 22,
   "metadata": {},
   "outputs": [
    {
     "name": "stdout",
     "output_type": "stream",
     "text": [
      "[[0.00057589]\n",
      " [0.00741251]\n",
      " [0.01067158]\n",
      " [0.02322447]\n",
      " [0.00125372]\n",
      " [0.08344134]\n",
      " [0.19797912]\n",
      " [0.07198628]\n",
      " [0.07320171]\n",
      " [0.3279865 ]]\n",
      "\n",
      "\n",
      "Mean absolute error (MAE):      0.007541\n",
      "Mean squared error (MSE):       0.000146\n",
      "Root mean squared error (RMSE): 0.012066\n",
      "R square (R^2):                 0.986442\n"
     ]
    }
   ],
   "source": [
    "predictions2 = model2.predict(X_test)\n",
    "print(predictions2[:10])\n",
    "print(\"\\n\")\n",
    "print(\"Mean absolute error (MAE):      %f\" % skm.mean_absolute_error(y_test,predictions2))\n",
    "print(\"Mean squared error (MSE):       %f\" % skm.mean_squared_error(y_test,predictions2))\n",
    "print(\"Root mean squared error (RMSE): %f\" % math.sqrt(skm.mean_squared_error(y_test,predictions2)))\n",
    "print(\"R square (R^2):                 %f\" % skm.r2_score(y_test,predictions2))"
   ]
  },
  {
   "cell_type": "code",
   "execution_count": null,
   "metadata": {},
   "outputs": [],
   "source": []
  },
  {
   "cell_type": "code",
   "execution_count": null,
   "metadata": {},
   "outputs": [],
   "source": []
  },
  {
   "cell_type": "code",
   "execution_count": null,
   "metadata": {},
   "outputs": [],
   "source": []
  },
  {
   "cell_type": "markdown",
   "metadata": {},
   "source": [
    "## Try batch normalization technique to regularize neurons"
   ]
  },
  {
   "cell_type": "code",
   "execution_count": 23,
   "metadata": {},
   "outputs": [
    {
     "name": "stdout",
     "output_type": "stream",
     "text": [
      "Train on 1247590 samples, validate on 311898 samples\n",
      "Epoch 1/200\n",
      "1247590/1247590 [==============================] - 7s 6us/step - loss: 3.2113e-04 - rmse: 0.0103 - r_square: 0.9686 - val_loss: 4.9193e-05 - val_rmse: 0.0053 - val_r_square: 0.9951\n",
      "Epoch 2/200\n",
      "1247590/1247590 [==============================] - 7s 6us/step - loss: 1.7352e-04 - rmse: 0.0075 - r_square: 0.9831 - val_loss: 1.9254e-05 - val_rmse: 0.0030 - val_r_square: 0.9981\n",
      "Epoch 3/200\n",
      "1247590/1247590 [==============================] - 7s 6us/step - loss: 1.6086e-04 - rmse: 0.0070 - r_square: 0.9845 - val_loss: 3.1347e-05 - val_rmse: 0.0033 - val_r_square: 0.9970\n",
      "Epoch 4/200\n",
      "1247590/1247590 [==============================] - 7s 6us/step - loss: 1.5430e-04 - rmse: 0.0067 - r_square: 0.9850 - val_loss: 5.9044e-05 - val_rmse: 0.0044 - val_r_square: 0.9943\n",
      "Epoch 5/200\n",
      "1247590/1247590 [==============================] - 7s 6us/step - loss: 1.4803e-04 - rmse: 0.0065 - r_square: 0.9856 - val_loss: 2.8174e-05 - val_rmse: 0.0031 - val_r_square: 0.9973\n",
      "Epoch 6/200\n",
      "1247590/1247590 [==============================] - 7s 6us/step - loss: 1.4946e-04 - rmse: 0.0066 - r_square: 0.9856 - val_loss: 2.9915e-05 - val_rmse: 0.0030 - val_r_square: 0.9971\n",
      "Epoch 7/200\n",
      "1247590/1247590 [==============================] - 7s 6us/step - loss: 1.4330e-04 - rmse: 0.0064 - r_square: 0.9861 - val_loss: 2.0740e-05 - val_rmse: 0.0029 - val_r_square: 0.9980\n",
      "Epoch 8/200\n",
      "1247590/1247590 [==============================] - 7s 6us/step - loss: 1.4478e-04 - rmse: 0.0064 - r_square: 0.9861 - val_loss: 2.3566e-05 - val_rmse: 0.0034 - val_r_square: 0.9977\n",
      "Epoch 9/200\n",
      "1247590/1247590 [==============================] - 7s 6us/step - loss: 1.4098e-04 - rmse: 0.0064 - r_square: 0.9864 - val_loss: 4.7423e-05 - val_rmse: 0.0048 - val_r_square: 0.9954\n",
      "Epoch 10/200\n",
      "1247590/1247590 [==============================] - 7s 6us/step - loss: 1.4448e-04 - rmse: 0.0064 - r_square: 0.9859 - val_loss: 3.0178e-05 - val_rmse: 0.0035 - val_r_square: 0.9971\n",
      "Epoch 11/200\n",
      "1247590/1247590 [==============================] - 7s 6us/step - loss: 1.4243e-04 - rmse: 0.0064 - r_square: 0.9862 - val_loss: 3.1467e-05 - val_rmse: 0.0037 - val_r_square: 0.9969\n",
      "Epoch 12/200\n",
      "1247590/1247590 [==============================] - 7s 5us/step - loss: 1.4472e-04 - rmse: 0.0064 - r_square: 0.9860 - val_loss: 2.7812e-05 - val_rmse: 0.0030 - val_r_square: 0.9973\n",
      "Epoch 13/200\n",
      "1247590/1247590 [==============================] - 7s 5us/step - loss: 1.3908e-04 - rmse: 0.0063 - r_square: 0.9865 - val_loss: 3.5856e-05 - val_rmse: 0.0040 - val_r_square: 0.9965\n",
      "Epoch 14/200\n",
      "1247590/1247590 [==============================] - 7s 5us/step - loss: 1.3924e-04 - rmse: 0.0063 - r_square: 0.9864 - val_loss: 3.0365e-05 - val_rmse: 0.0032 - val_r_square: 0.9971\n",
      "Epoch 15/200\n",
      "1247590/1247590 [==============================] - 7s 6us/step - loss: 1.4030e-04 - rmse: 0.0063 - r_square: 0.9865 - val_loss: 2.5198e-05 - val_rmse: 0.0029 - val_r_square: 0.9975\n",
      "Epoch 16/200\n",
      "1247590/1247590 [==============================] - 7s 6us/step - loss: 1.3769e-04 - rmse: 0.0062 - r_square: 0.9867 - val_loss: 2.2635e-05 - val_rmse: 0.0028 - val_r_square: 0.9978\n",
      "Epoch 17/200\n",
      "1247590/1247590 [==============================] - 7s 6us/step - loss: 1.3508e-04 - rmse: 0.0062 - r_square: 0.9869 - val_loss: 2.7216e-05 - val_rmse: 0.0029 - val_r_square: 0.9974\n",
      "Epoch 18/200\n",
      "1247590/1247590 [==============================] - 7s 6us/step - loss: 1.3985e-04 - rmse: 0.0063 - r_square: 0.9865 - val_loss: 2.2964e-05 - val_rmse: 0.0027 - val_r_square: 0.9978\n",
      "Epoch 19/200\n",
      "1247590/1247590 [==============================] - 7s 6us/step - loss: 1.3663e-04 - rmse: 0.0062 - r_square: 0.9868 - val_loss: 3.0265e-05 - val_rmse: 0.0030 - val_r_square: 0.9971\n",
      "Epoch 20/200\n",
      "1247590/1247590 [==============================] - 8s 7us/step - loss: 1.3633e-04 - rmse: 0.0062 - r_square: 0.9868 - val_loss: 2.7065e-05 - val_rmse: 0.0035 - val_r_square: 0.9974\n",
      "Epoch 21/200\n",
      "1247590/1247590 [==============================] - 7s 6us/step - loss: 1.4018e-04 - rmse: 0.0063 - r_square: 0.9865 - val_loss: 2.3209e-05 - val_rmse: 0.0027 - val_r_square: 0.9977\n",
      "Epoch 22/200\n",
      "1247590/1247590 [==============================] - 7s 6us/step - loss: 1.3927e-04 - rmse: 0.0063 - r_square: 0.9865 - val_loss: 2.1693e-05 - val_rmse: 0.0027 - val_r_square: 0.9979\n",
      "Epoch 23/200\n",
      "1247590/1247590 [==============================] - 7s 6us/step - loss: 1.3733e-04 - rmse: 0.0062 - r_square: 0.9866 - val_loss: 2.0814e-05 - val_rmse: 0.0026 - val_r_square: 0.9980\n",
      "Epoch 24/200\n",
      "1247590/1247590 [==============================] - 7s 6us/step - loss: 1.3469e-04 - rmse: 0.0062 - r_square: 0.9869 - val_loss: 3.6047e-05 - val_rmse: 0.0033 - val_r_square: 0.9965\n",
      "Epoch 25/200\n",
      "1247590/1247590 [==============================] - 7s 6us/step - loss: 1.3894e-04 - rmse: 0.0062 - r_square: 0.9866 - val_loss: 4.5855e-05 - val_rmse: 0.0041 - val_r_square: 0.9956\n",
      "Epoch 26/200\n",
      "1247590/1247590 [==============================] - 7s 5us/step - loss: 1.3544e-04 - rmse: 0.0062 - r_square: 0.9869 - val_loss: 1.7966e-05 - val_rmse: 0.0024 - val_r_square: 0.9982\n",
      "Epoch 27/200\n",
      "1247590/1247590 [==============================] - 7s 5us/step - loss: 1.3799e-04 - rmse: 0.0062 - r_square: 0.9866 - val_loss: 2.4046e-05 - val_rmse: 0.0028 - val_r_square: 0.9977\n",
      "Epoch 28/200\n",
      "1247590/1247590 [==============================] - 7s 6us/step - loss: 1.3385e-04 - rmse: 0.0062 - r_square: 0.9871 - val_loss: 4.3620e-05 - val_rmse: 0.0036 - val_r_square: 0.9958\n",
      "Epoch 29/200\n",
      "1247590/1247590 [==============================] - 7s 6us/step - loss: 1.3510e-04 - rmse: 0.0062 - r_square: 0.9868 - val_loss: 2.6447e-05 - val_rmse: 0.0029 - val_r_square: 0.9974\n",
      "Epoch 30/200\n",
      "1247590/1247590 [==============================] - 7s 6us/step - loss: 1.3634e-04 - rmse: 0.0062 - r_square: 0.9868 - val_loss: 2.0199e-05 - val_rmse: 0.0026 - val_r_square: 0.9980\n",
      "Epoch 31/200\n",
      "1247590/1247590 [==============================] - 7s 6us/step - loss: 1.3646e-04 - rmse: 0.0062 - r_square: 0.9868 - val_loss: 1.9612e-05 - val_rmse: 0.0026 - val_r_square: 0.9981\n",
      "Epoch 32/200\n",
      "1247590/1247590 [==============================] - 7s 6us/step - loss: 1.3456e-04 - rmse: 0.0062 - r_square: 0.9870 - val_loss: 2.2240e-05 - val_rmse: 0.0027 - val_r_square: 0.9978\n",
      "Epoch 33/200\n",
      "1247590/1247590 [==============================] - 7s 6us/step - loss: 1.3276e-04 - rmse: 0.0061 - r_square: 0.9870 - val_loss: 3.6305e-05 - val_rmse: 0.0036 - val_r_square: 0.9964\n",
      "Epoch 34/200\n",
      "1247590/1247590 [==============================] - 7s 6us/step - loss: 1.3458e-04 - rmse: 0.0062 - r_square: 0.9869 - val_loss: 2.6473e-05 - val_rmse: 0.0034 - val_r_square: 0.9974\n",
      "Epoch 35/200\n",
      "1247590/1247590 [==============================] - 7s 5us/step - loss: 1.3087e-04 - rmse: 0.0061 - r_square: 0.9874 - val_loss: 2.0131e-05 - val_rmse: 0.0027 - val_r_square: 0.9980\n",
      "Epoch 36/200\n",
      "1247590/1247590 [==============================] - 7s 5us/step - loss: 1.3364e-04 - rmse: 0.0061 - r_square: 0.9871 - val_loss: 2.2555e-05 - val_rmse: 0.0025 - val_r_square: 0.9978\n",
      "Epoch 37/200\n",
      "1247590/1247590 [==============================] - 7s 6us/step - loss: 1.3507e-04 - rmse: 0.0062 - r_square: 0.9869 - val_loss: 3.0461e-05 - val_rmse: 0.0034 - val_r_square: 0.9970\n",
      "Epoch 38/200\n",
      "1247590/1247590 [==============================] - 7s 6us/step - loss: 1.3289e-04 - rmse: 0.0062 - r_square: 0.9871 - val_loss: 2.8199e-05 - val_rmse: 0.0028 - val_r_square: 0.9973\n",
      "Epoch 39/200\n",
      "1247590/1247590 [==============================] - 7s 6us/step - loss: 1.3439e-04 - rmse: 0.0062 - r_square: 0.9870 - val_loss: 2.4255e-05 - val_rmse: 0.0027 - val_r_square: 0.9976\n",
      "Epoch 40/200\n",
      "1247590/1247590 [==============================] - 7s 6us/step - loss: 1.3369e-04 - rmse: 0.0062 - r_square: 0.9871 - val_loss: 1.9284e-05 - val_rmse: 0.0026 - val_r_square: 0.9981\n",
      "Epoch 41/200\n",
      "1247590/1247590 [==============================] - 7s 6us/step - loss: 1.3297e-04 - rmse: 0.0062 - r_square: 0.9872 - val_loss: 2.2658e-05 - val_rmse: 0.0031 - val_r_square: 0.9978\n",
      "Epoch 42/200\n",
      "1247590/1247590 [==============================] - 7s 6us/step - loss: 1.3046e-04 - rmse: 0.0061 - r_square: 0.9873 - val_loss: 2.7977e-05 - val_rmse: 0.0039 - val_r_square: 0.9972\n",
      "Epoch 43/200\n"
     ]
    },
    {
     "name": "stdout",
     "output_type": "stream",
     "text": [
      "1247590/1247590 [==============================] - 8s 6us/step - loss: 1.3248e-04 - rmse: 0.0061 - r_square: 0.9871 - val_loss: 2.6354e-05 - val_rmse: 0.0039 - val_r_square: 0.9974\n",
      "Epoch 44/200\n",
      "1247590/1247590 [==============================] - 7s 6us/step - loss: 1.3407e-04 - rmse: 0.0062 - r_square: 0.9871 - val_loss: 4.9775e-05 - val_rmse: 0.0038 - val_r_square: 0.9952\n",
      "Epoch 45/200\n",
      "1247590/1247590 [==============================] - 7s 6us/step - loss: 1.3303e-04 - rmse: 0.0061 - r_square: 0.9871 - val_loss: 2.6381e-05 - val_rmse: 0.0033 - val_r_square: 0.9974\n",
      "Epoch 46/200\n",
      "1247590/1247590 [==============================] - 7s 6us/step - loss: 1.3225e-04 - rmse: 0.0062 - r_square: 0.9871 - val_loss: 2.0558e-05 - val_rmse: 0.0029 - val_r_square: 0.9980\n",
      "Epoch 47/200\n",
      "1247590/1247590 [==============================] - 7s 6us/step - loss: 1.3031e-04 - rmse: 0.0061 - r_square: 0.9874 - val_loss: 3.5837e-05 - val_rmse: 0.0032 - val_r_square: 0.9965\n",
      "Epoch 48/200\n",
      "1247590/1247590 [==============================] - 7s 5us/step - loss: 1.3398e-04 - rmse: 0.0061 - r_square: 0.9870 - val_loss: 2.7575e-05 - val_rmse: 0.0032 - val_r_square: 0.9973\n",
      "Epoch 49/200\n",
      "1247590/1247590 [==============================] - 7s 6us/step - loss: 1.3259e-04 - rmse: 0.0061 - r_square: 0.9871 - val_loss: 2.2342e-05 - val_rmse: 0.0029 - val_r_square: 0.9978\n",
      "Epoch 50/200\n",
      "1247590/1247590 [==============================] - 7s 6us/step - loss: 1.3067e-04 - rmse: 0.0061 - r_square: 0.9873 - val_loss: 3.2233e-05 - val_rmse: 0.0043 - val_r_square: 0.9968\n",
      "Epoch 51/200\n",
      "1247590/1247590 [==============================] - 7s 6us/step - loss: 1.3121e-04 - rmse: 0.0061 - r_square: 0.9872 - val_loss: 1.9642e-05 - val_rmse: 0.0026 - val_r_square: 0.9981\n",
      "Epoch 00051: early stopping\n"
     ]
    }
   ],
   "source": [
    "from keras.layers.normalization import BatchNormalization\n",
    "model3 = Sequential([\n",
    "    BatchNormalization(),\n",
    "    Dense(64, activation='relu', input_shape=(7,)),\n",
    "    Dense(128, activation='relu'),\n",
    "    Dense(64, activation='relu'),\n",
    "    Dense(1, activation='linear'),\n",
    "])\n",
    "model3.compile(\n",
    "  optimizer='adam',\n",
    "  loss='mse',\n",
    "  metrics=[rmse, r_square],\n",
    ")\n",
    "# fit the model\n",
    "result3 = model3.fit(XX_train, \n",
    "                   yy_train,\n",
    "                   epochs = 200,\n",
    "                   batch_size=256,\n",
    "                   validation_data=(XX_validation, yy_validation),\n",
    "                   callbacks = [es]\n",
    "                  )"
   ]
  },
  {
   "cell_type": "code",
   "execution_count": 24,
   "metadata": {},
   "outputs": [
    {
     "name": "stdout",
     "output_type": "stream",
     "text": [
      "[[-9.8848948e-05]\n",
      " [ 2.9702904e-04]\n",
      " [ 9.0462845e-03]\n",
      " [ 1.7680468e-02]\n",
      " [ 6.6295604e-04]\n",
      " [ 8.5741222e-02]\n",
      " [ 2.1392554e-01]\n",
      " [ 6.7344092e-02]\n",
      " [ 7.0023619e-02]\n",
      " [ 3.5042772e-01]]\n",
      "\n",
      "\n",
      "Mean absolute error (MAE):      0.002552\n",
      "Mean squared error (MSE):       0.000019\n",
      "Root mean squared error (RMSE): 0.004399\n",
      "R square (R^2):                 0.998198\n"
     ]
    }
   ],
   "source": [
    "predictions3 = model3.predict(X_test)\n",
    "print(predictions3[:10])\n",
    "print(\"\\n\")\n",
    "print(\"Mean absolute error (MAE):      %f\" % skm.mean_absolute_error(y_test,predictions3))\n",
    "print(\"Mean squared error (MSE):       %f\" % skm.mean_squared_error(y_test,predictions3))\n",
    "print(\"Root mean squared error (RMSE): %f\" % math.sqrt(skm.mean_squared_error(y_test,predictions3)))\n",
    "print(\"R square (R^2):                 %f\" % skm.r2_score(y_test,predictions3))"
   ]
  },
  {
   "cell_type": "code",
   "execution_count": null,
   "metadata": {},
   "outputs": [],
   "source": []
  },
  {
   "cell_type": "markdown",
   "metadata": {},
   "source": [
    "## Reference: \n",
    "&emsp;&emsp;What does 'Accuracy' mean in Regression? https://github.com/keras-team/keras/issues/7947 <br>\n",
    "&emsp;&emsp;https://keras.io/metrics/<br>\n",
    "&emsp;&emsp;Scale, Standardize, or Normalize with Scikit-Learn https://towardsdatascience.com/scale-standardize-or-normalize-with-scikit-learn-6ccc7d176a02 <br>\n",
    "&emsp;&emsp;The Day my Computer Won the Nobel Prize (Neural Network Option Pricing)  https://medium.com/datadriveninvestor/the-day-my-computer-won-the-nobel-prize-neural-network-option-pricing-d29b4379f1d2 <br>"
   ]
  }
 ],
 "metadata": {
  "kernelspec": {
   "display_name": "Python 3",
   "language": "python",
   "name": "python3"
  },
  "language_info": {
   "codemirror_mode": {
    "name": "ipython",
    "version": 3
   },
   "file_extension": ".py",
   "mimetype": "text/x-python",
   "name": "python",
   "nbconvert_exporter": "python",
   "pygments_lexer": "ipython3",
   "version": "3.6.5"
  }
 },
 "nbformat": 4,
 "nbformat_minor": 2
}
