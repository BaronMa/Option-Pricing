{
 "cells": [
  {
   "cell_type": "code",
   "execution_count": 1,
   "metadata": {},
   "outputs": [
    {
     "name": "stderr",
     "output_type": "stream",
     "text": [
      "C:\\Program Files\\Anaconda3\\lib\\site-packages\\h5py\\__init__.py:36: FutureWarning: Conversion of the second argument of issubdtype from `float` to `np.floating` is deprecated. In future, it will be treated as `np.float64 == np.dtype(float).type`.\n",
      "  from ._conv import register_converters as _register_converters\n",
      "Using TensorFlow backend.\n"
     ]
    }
   ],
   "source": [
    "import pandas as pd\n",
    "from keras.models import load_model, Sequential\n",
    "from sklearn import preprocessing\n",
    "import matplotlib.pyplot as plt\n",
    "from keras.layers import Dense\n",
    "from keras import backend as K\n",
    "import sklearn.metrics as skm, math"
   ]
  },
  {
   "cell_type": "code",
   "execution_count": 2,
   "metadata": {},
   "outputs": [],
   "source": [
    "def rmse(y_true, y_pred):\n",
    "    return K.sqrt(K.mean(K.square(y_pred - y_true), axis = -1))\n",
    "def r_square(y_true, y_pred):\n",
    "    SS_res =  K.sum(K.square(y_true - y_pred)) \n",
    "    SS_tot = K.sum(K.square(y_true - K.mean(y_true))) \n",
    "    return (1 - SS_res/(SS_tot + K.epsilon()))"
   ]
  },
  {
   "cell_type": "code",
   "execution_count": 37,
   "metadata": {},
   "outputs": [
    {
     "name": "stdout",
     "output_type": "stream",
     "text": [
      "_________________________________________________________________\n",
      "Layer (type)                 Output Shape              Param #   \n",
      "=================================================================\n",
      "dense_5 (Dense)              (None, 64)                512       \n",
      "_________________________________________________________________\n",
      "dense_6 (Dense)              (None, 128)               8320      \n",
      "_________________________________________________________________\n",
      "dense_7 (Dense)              (None, 64)                8256      \n",
      "_________________________________________________________________\n",
      "dense_8 (Dense)              (None, 1)                 65        \n",
      "=================================================================\n",
      "Total params: 17,153\n",
      "Trainable params: 17,153\n",
      "Non-trainable params: 0\n",
      "_________________________________________________________________\n"
     ]
    }
   ],
   "source": [
    "#Load saved model\n",
    "model = load_model('model13.h5', custom_objects={'rmse': rmse, 'r_square': r_square})\n",
    "model.summary()"
   ]
  },
  {
   "cell_type": "code",
   "execution_count": 3,
   "metadata": {},
   "outputs": [
    {
     "data": {
      "text/html": [
       "<div>\n",
       "<style scoped>\n",
       "    .dataframe tbody tr th:only-of-type {\n",
       "        vertical-align: middle;\n",
       "    }\n",
       "\n",
       "    .dataframe tbody tr th {\n",
       "        vertical-align: top;\n",
       "    }\n",
       "\n",
       "    .dataframe thead th {\n",
       "        text-align: right;\n",
       "    }\n",
       "</style>\n",
       "<table border=\"1\" class=\"dataframe\">\n",
       "  <thead>\n",
       "    <tr style=\"text-align: right;\">\n",
       "      <th></th>\n",
       "      <th>ticker</th>\n",
       "      <th>date</th>\n",
       "      <th>exdate</th>\n",
       "      <th>maturity</th>\n",
       "      <th>strike_price</th>\n",
       "      <th>best_offer</th>\n",
       "      <th>impl_volatility</th>\n",
       "      <th>realized_vol</th>\n",
       "      <th>underlying_price</th>\n",
       "      <th>interest_rate</th>\n",
       "      <th>cp_flag_C</th>\n",
       "      <th>cp_flag_P</th>\n",
       "    </tr>\n",
       "  </thead>\n",
       "  <tbody>\n",
       "    <tr>\n",
       "      <th>0</th>\n",
       "      <td>AXP</td>\n",
       "      <td>2016-01-04</td>\n",
       "      <td>2016-01-08</td>\n",
       "      <td>4</td>\n",
       "      <td>100.0</td>\n",
       "      <td>0.13</td>\n",
       "      <td>1.695791</td>\n",
       "      <td>0.208476</td>\n",
       "      <td>67.59</td>\n",
       "      <td>0.0022</td>\n",
       "      <td>1</td>\n",
       "      <td>0</td>\n",
       "    </tr>\n",
       "    <tr>\n",
       "      <th>1</th>\n",
       "      <td>AXP</td>\n",
       "      <td>2016-01-04</td>\n",
       "      <td>2016-01-08</td>\n",
       "      <td>4</td>\n",
       "      <td>105.0</td>\n",
       "      <td>0.13</td>\n",
       "      <td>1.869624</td>\n",
       "      <td>0.208476</td>\n",
       "      <td>67.59</td>\n",
       "      <td>0.0022</td>\n",
       "      <td>1</td>\n",
       "      <td>0</td>\n",
       "    </tr>\n",
       "    <tr>\n",
       "      <th>2</th>\n",
       "      <td>AXP</td>\n",
       "      <td>2016-01-04</td>\n",
       "      <td>2016-01-08</td>\n",
       "      <td>4</td>\n",
       "      <td>66.0</td>\n",
       "      <td>1.70</td>\n",
       "      <td>0.238987</td>\n",
       "      <td>0.208476</td>\n",
       "      <td>67.59</td>\n",
       "      <td>0.0022</td>\n",
       "      <td>1</td>\n",
       "      <td>0</td>\n",
       "    </tr>\n",
       "    <tr>\n",
       "      <th>3</th>\n",
       "      <td>AXP</td>\n",
       "      <td>2016-01-04</td>\n",
       "      <td>2016-01-08</td>\n",
       "      <td>4</td>\n",
       "      <td>66.5</td>\n",
       "      <td>1.31</td>\n",
       "      <td>0.246213</td>\n",
       "      <td>0.208476</td>\n",
       "      <td>67.59</td>\n",
       "      <td>0.0022</td>\n",
       "      <td>1</td>\n",
       "      <td>0</td>\n",
       "    </tr>\n",
       "    <tr>\n",
       "      <th>4</th>\n",
       "      <td>AXP</td>\n",
       "      <td>2016-01-04</td>\n",
       "      <td>2016-01-08</td>\n",
       "      <td>4</td>\n",
       "      <td>67.0</td>\n",
       "      <td>0.95</td>\n",
       "      <td>0.242758</td>\n",
       "      <td>0.208476</td>\n",
       "      <td>67.59</td>\n",
       "      <td>0.0022</td>\n",
       "      <td>1</td>\n",
       "      <td>0</td>\n",
       "    </tr>\n",
       "  </tbody>\n",
       "</table>\n",
       "</div>"
      ],
      "text/plain": [
       "  ticker        date      exdate  maturity  strike_price  best_offer  \\\n",
       "0    AXP  2016-01-04  2016-01-08         4         100.0        0.13   \n",
       "1    AXP  2016-01-04  2016-01-08         4         105.0        0.13   \n",
       "2    AXP  2016-01-04  2016-01-08         4          66.0        1.70   \n",
       "3    AXP  2016-01-04  2016-01-08         4          66.5        1.31   \n",
       "4    AXP  2016-01-04  2016-01-08         4          67.0        0.95   \n",
       "\n",
       "   impl_volatility  realized_vol  underlying_price  interest_rate  cp_flag_C  \\\n",
       "0         1.695791      0.208476             67.59         0.0022          1   \n",
       "1         1.869624      0.208476             67.59         0.0022          1   \n",
       "2         0.238987      0.208476             67.59         0.0022          1   \n",
       "3         0.246213      0.208476             67.59         0.0022          1   \n",
       "4         0.242758      0.208476             67.59         0.0022          1   \n",
       "\n",
       "   cp_flag_P  \n",
       "0          0  \n",
       "1          0  \n",
       "2          0  \n",
       "3          0  \n",
       "4          0  "
      ]
     },
     "execution_count": 3,
     "metadata": {},
     "output_type": "execute_result"
    }
   ],
   "source": [
    "df = pd.read_csv('Options_R_test.csv')\n",
    "df = df[df['underlying_price'].notnull()]\n",
    "df.head()"
   ]
  },
  {
   "cell_type": "markdown",
   "metadata": {},
   "source": [
    "### With Realized Volatility"
   ]
  },
  {
   "cell_type": "code",
   "execution_count": 38,
   "metadata": {},
   "outputs": [
    {
     "data": {
      "text/html": [
       "<div>\n",
       "<style scoped>\n",
       "    .dataframe tbody tr th:only-of-type {\n",
       "        vertical-align: middle;\n",
       "    }\n",
       "\n",
       "    .dataframe tbody tr th {\n",
       "        vertical-align: top;\n",
       "    }\n",
       "\n",
       "    .dataframe thead th {\n",
       "        text-align: right;\n",
       "    }\n",
       "</style>\n",
       "<table border=\"1\" class=\"dataframe\">\n",
       "  <thead>\n",
       "    <tr style=\"text-align: right;\">\n",
       "      <th></th>\n",
       "      <th>maturity</th>\n",
       "      <th>strike_price</th>\n",
       "      <th>realized_vol</th>\n",
       "      <th>underlying_price</th>\n",
       "      <th>cp_flag_C</th>\n",
       "      <th>cp_flag_P</th>\n",
       "      <th>interest_rate</th>\n",
       "    </tr>\n",
       "  </thead>\n",
       "  <tbody>\n",
       "    <tr>\n",
       "      <th>0</th>\n",
       "      <td>4</td>\n",
       "      <td>100.0</td>\n",
       "      <td>0.208476</td>\n",
       "      <td>67.59</td>\n",
       "      <td>1</td>\n",
       "      <td>0</td>\n",
       "      <td>0.0022</td>\n",
       "    </tr>\n",
       "    <tr>\n",
       "      <th>1</th>\n",
       "      <td>4</td>\n",
       "      <td>105.0</td>\n",
       "      <td>0.208476</td>\n",
       "      <td>67.59</td>\n",
       "      <td>1</td>\n",
       "      <td>0</td>\n",
       "      <td>0.0022</td>\n",
       "    </tr>\n",
       "    <tr>\n",
       "      <th>2</th>\n",
       "      <td>4</td>\n",
       "      <td>66.0</td>\n",
       "      <td>0.208476</td>\n",
       "      <td>67.59</td>\n",
       "      <td>1</td>\n",
       "      <td>0</td>\n",
       "      <td>0.0022</td>\n",
       "    </tr>\n",
       "    <tr>\n",
       "      <th>3</th>\n",
       "      <td>4</td>\n",
       "      <td>66.5</td>\n",
       "      <td>0.208476</td>\n",
       "      <td>67.59</td>\n",
       "      <td>1</td>\n",
       "      <td>0</td>\n",
       "      <td>0.0022</td>\n",
       "    </tr>\n",
       "    <tr>\n",
       "      <th>4</th>\n",
       "      <td>4</td>\n",
       "      <td>67.0</td>\n",
       "      <td>0.208476</td>\n",
       "      <td>67.59</td>\n",
       "      <td>1</td>\n",
       "      <td>0</td>\n",
       "      <td>0.0022</td>\n",
       "    </tr>\n",
       "  </tbody>\n",
       "</table>\n",
       "</div>"
      ],
      "text/plain": [
       "   maturity  strike_price  realized_vol  underlying_price  cp_flag_C  \\\n",
       "0         4         100.0      0.208476             67.59          1   \n",
       "1         4         105.0      0.208476             67.59          1   \n",
       "2         4          66.0      0.208476             67.59          1   \n",
       "3         4          66.5      0.208476             67.59          1   \n",
       "4         4          67.0      0.208476             67.59          1   \n",
       "\n",
       "   cp_flag_P  interest_rate  \n",
       "0          0         0.0022  \n",
       "1          0         0.0022  \n",
       "2          0         0.0022  \n",
       "3          0         0.0022  \n",
       "4          0         0.0022  "
      ]
     },
     "execution_count": 38,
     "metadata": {},
     "output_type": "execute_result"
    }
   ],
   "source": [
    "y2 = df['best_offer'].values\n",
    "X2 = df[['maturity', 'strike_price', 'realized_vol', 'underlying_price', 'cp_flag_C', 'cp_flag_P', 'interest_rate']]\n",
    "X2.head()"
   ]
  },
  {
   "cell_type": "code",
   "execution_count": 39,
   "metadata": {},
   "outputs": [],
   "source": [
    "X2 = preprocessing.normalize(X2)"
   ]
  },
  {
   "cell_type": "code",
   "execution_count": 42,
   "metadata": {},
   "outputs": [
    {
     "name": "stdout",
     "output_type": "stream",
     "text": [
      "Prediction:\n",
      " [[-0.9947671 ]\n",
      " [-0.9767634 ]\n",
      " [ 1.618005  ]\n",
      " [ 1.3256259 ]\n",
      " [ 1.0366731 ]\n",
      " [ 0.7992919 ]\n",
      " [ 0.5684584 ]\n",
      " [ 0.3945852 ]\n",
      " [ 0.3358479 ]\n",
      " [ 0.27181274]]\n",
      "\n",
      "\n",
      "Actual:\n",
      " [0.13 0.13 1.7  1.31 0.95 0.66 0.44 0.28 0.17 0.1 ]\n"
     ]
    }
   ],
   "source": [
    "pred_R = model.predict(X2)\n",
    "print('Prediction:\\n', pred_R[:10])\n",
    "print('\\n')\n",
    "print('Actual:\\n', y2[:10])"
   ]
  },
  {
   "cell_type": "code",
   "execution_count": 43,
   "metadata": {},
   "outputs": [
    {
     "name": "stdout",
     "output_type": "stream",
     "text": [
      "Mean absolute error (MAE):      1.245420\n",
      "Mean squared error (MSE):       11.366141\n",
      "Root mean squared error (RMSE): 3.371371\n",
      "R square (R^2):                 0.948572\n"
     ]
    }
   ],
   "source": [
    "print(\"Mean absolute error (MAE):      %f\" % skm.mean_absolute_error(y2,pred_R))\n",
    "print(\"Mean squared error (MSE):       %f\" % skm.mean_squared_error(y2,pred_R))\n",
    "print(\"Root mean squared error (RMSE): %f\" % math.sqrt(skm.mean_squared_error(y2,pred_R)))\n",
    "print(\"R square (R^2):                 %f\" % skm.r2_score(y2,pred_R))"
   ]
  },
  {
   "cell_type": "markdown",
   "metadata": {},
   "source": [
    "#### Predict special ticker which was used to train the model"
   ]
  },
  {
   "cell_type": "code",
   "execution_count": 91,
   "metadata": {},
   "outputs": [],
   "source": [
    "MCD = df[df.ticker == 'MCD']\n",
    "y_MCD = MCD['best_offer'].values\n",
    "X_MCD = MCD[['maturity', 'strike_price', 'realized_vol', 'underlying_price', 'cp_flag_C', 'cp_flag_P', 'interest_rate']]"
   ]
  },
  {
   "cell_type": "code",
   "execution_count": 92,
   "metadata": {},
   "outputs": [],
   "source": [
    "X_MCD = preprocessing.normalize(X_MCD)\n",
    "y_MCD = y_MCD.reshape(-1,1)"
   ]
  },
  {
   "cell_type": "code",
   "execution_count": 93,
   "metadata": {},
   "outputs": [
    {
     "name": "stdout",
     "output_type": "stream",
     "text": [
      "Prediction:\n",
      " [[ 2.3215168 ]\n",
      " [ 1.3978105 ]\n",
      " [ 0.800794  ]\n",
      " [ 0.36472577]\n",
      " [ 0.1758582 ]\n",
      " [ 0.08003968]\n",
      " [ 0.0376575 ]\n",
      " [ 0.03258914]\n",
      " [-0.00774258]\n",
      " [-0.04725128]]\n",
      "\n",
      "\n",
      "Actual:\n",
      " [[3.1 ]\n",
      " [2.23]\n",
      " [1.49]\n",
      " [0.9 ]\n",
      " [0.49]\n",
      " [0.25]\n",
      " [0.13]\n",
      " [0.07]\n",
      " [0.05]\n",
      " [0.13]]\n"
     ]
    }
   ],
   "source": [
    "pred_MCD = model.predict(X_MCD)\n",
    "print('Prediction:\\n', pred_MCD[:10])\n",
    "print('\\n')\n",
    "print('Actual:\\n', y_MCD[:10])"
   ]
  },
  {
   "cell_type": "code",
   "execution_count": 94,
   "metadata": {},
   "outputs": [
    {
     "name": "stdout",
     "output_type": "stream",
     "text": [
      "Mean absolute error (MAE):      1.064137\n",
      "Mean squared error (MSE):       4.993369\n",
      "Root mean squared error (RMSE): 2.234585\n",
      "R square (R^2):                 0.965929\n"
     ]
    }
   ],
   "source": [
    "print(\"Mean absolute error (MAE):      %f\" % skm.mean_absolute_error(y_MCD,pred_MCD))\n",
    "print(\"Mean squared error (MSE):       %f\" % skm.mean_squared_error(y_MCD,pred_MCD))\n",
    "print(\"Root mean squared error (RMSE): %f\" % math.sqrt(skm.mean_squared_error(y_MCD,pred_MCD)))\n",
    "print(\"R square (R^2):                 %f\" % skm.r2_score(y_MCD,pred_MCD))"
   ]
  },
  {
   "cell_type": "code",
   "execution_count": null,
   "metadata": {},
   "outputs": [],
   "source": []
  },
  {
   "cell_type": "code",
   "execution_count": 95,
   "metadata": {},
   "outputs": [],
   "source": [
    "GS = df[df.ticker == 'GS']\n",
    "y_GS = GS['best_offer'].values\n",
    "X_GS = GS[['maturity', 'strike_price', 'realized_vol', 'underlying_price', 'cp_flag_C', 'cp_flag_P', 'interest_rate']]"
   ]
  },
  {
   "cell_type": "code",
   "execution_count": 96,
   "metadata": {},
   "outputs": [
    {
     "name": "stdout",
     "output_type": "stream",
     "text": [
      "Prediction:\n",
      " [[5.9363313 ]\n",
      " [4.097701  ]\n",
      " [2.8001225 ]\n",
      " [1.9598825 ]\n",
      " [1.1927996 ]\n",
      " [0.6488946 ]\n",
      " [0.39673084]\n",
      " [0.21955419]\n",
      " [0.08179379]\n",
      " [0.03232047]]\n",
      "\n",
      "\n",
      "Actual:\n",
      " [5.45 3.5  2.02 1.04 0.47 0.21 0.12 0.07 0.13 0.03]\n"
     ]
    }
   ],
   "source": [
    "X_GS = preprocessing.normalize(X_GS)\n",
    "pred_GS = model.predict(X_GS)\n",
    "print('Prediction:\\n', pred_GS[:10])\n",
    "print('\\n')\n",
    "print('Actual:\\n', y_GS[:10])"
   ]
  },
  {
   "cell_type": "code",
   "execution_count": 97,
   "metadata": {},
   "outputs": [
    {
     "name": "stdout",
     "output_type": "stream",
     "text": [
      "Mean absolute error (MAE):      2.462353\n",
      "Mean squared error (MSE):       37.482205\n",
      "Root mean squared error (RMSE): 6.122271\n",
      "R square (R^2):                 0.936342\n"
     ]
    }
   ],
   "source": [
    "print(\"Mean absolute error (MAE):      %f\" % skm.mean_absolute_error(y_GS,pred_GS))\n",
    "print(\"Mean squared error (MSE):       %f\" % skm.mean_squared_error(y_GS,pred_GS))\n",
    "print(\"Root mean squared error (RMSE): %f\" % math.sqrt(skm.mean_squared_error(y_GS,pred_GS)))\n",
    "print(\"R square (R^2):                 %f\" % skm.r2_score(y_GS,pred_GS))"
   ]
  },
  {
   "cell_type": "markdown",
   "metadata": {},
   "source": [
    "#### Predict special ticker which was not used to train the model"
   ]
  },
  {
   "cell_type": "code",
   "execution_count": 59,
   "metadata": {},
   "outputs": [
    {
     "data": {
      "text/html": [
       "<div>\n",
       "<style scoped>\n",
       "    .dataframe tbody tr th:only-of-type {\n",
       "        vertical-align: middle;\n",
       "    }\n",
       "\n",
       "    .dataframe tbody tr th {\n",
       "        vertical-align: top;\n",
       "    }\n",
       "\n",
       "    .dataframe thead th {\n",
       "        text-align: right;\n",
       "    }\n",
       "</style>\n",
       "<table border=\"1\" class=\"dataframe\">\n",
       "  <thead>\n",
       "    <tr style=\"text-align: right;\">\n",
       "      <th></th>\n",
       "      <th>Unnamed: 0</th>\n",
       "      <th>Strike Price</th>\n",
       "      <th>Lowest  Closing Ask Across All Exchanges</th>\n",
       "      <th>Underlying Price</th>\n",
       "      <th>maturity</th>\n",
       "      <th>C=Call, P=Put_C</th>\n",
       "      <th>C=Call, P=Put_P</th>\n",
       "      <th>interest_rate</th>\n",
       "      <th>days</th>\n",
       "      <th>volatility</th>\n",
       "    </tr>\n",
       "  </thead>\n",
       "  <tbody>\n",
       "    <tr>\n",
       "      <th>0</th>\n",
       "      <td>0</td>\n",
       "      <td>100.0</td>\n",
       "      <td>5.45</td>\n",
       "      <td>105.35</td>\n",
       "      <td>4</td>\n",
       "      <td>1</td>\n",
       "      <td>0</td>\n",
       "      <td>0.0022</td>\n",
       "      <td>30</td>\n",
       "      <td>0.218791</td>\n",
       "    </tr>\n",
       "    <tr>\n",
       "      <th>1</th>\n",
       "      <td>1</td>\n",
       "      <td>101.0</td>\n",
       "      <td>4.50</td>\n",
       "      <td>105.35</td>\n",
       "      <td>4</td>\n",
       "      <td>1</td>\n",
       "      <td>0</td>\n",
       "      <td>0.0022</td>\n",
       "      <td>30</td>\n",
       "      <td>0.218791</td>\n",
       "    </tr>\n",
       "    <tr>\n",
       "      <th>2</th>\n",
       "      <td>2</td>\n",
       "      <td>102.0</td>\n",
       "      <td>3.65</td>\n",
       "      <td>105.35</td>\n",
       "      <td>4</td>\n",
       "      <td>1</td>\n",
       "      <td>0</td>\n",
       "      <td>0.0022</td>\n",
       "      <td>30</td>\n",
       "      <td>0.218791</td>\n",
       "    </tr>\n",
       "    <tr>\n",
       "      <th>3</th>\n",
       "      <td>3</td>\n",
       "      <td>103.0</td>\n",
       "      <td>2.79</td>\n",
       "      <td>105.35</td>\n",
       "      <td>4</td>\n",
       "      <td>1</td>\n",
       "      <td>0</td>\n",
       "      <td>0.0022</td>\n",
       "      <td>30</td>\n",
       "      <td>0.218791</td>\n",
       "    </tr>\n",
       "    <tr>\n",
       "      <th>4</th>\n",
       "      <td>4</td>\n",
       "      <td>104.0</td>\n",
       "      <td>2.06</td>\n",
       "      <td>105.35</td>\n",
       "      <td>4</td>\n",
       "      <td>1</td>\n",
       "      <td>0</td>\n",
       "      <td>0.0022</td>\n",
       "      <td>30</td>\n",
       "      <td>0.218791</td>\n",
       "    </tr>\n",
       "  </tbody>\n",
       "</table>\n",
       "</div>"
      ],
      "text/plain": [
       "   Unnamed: 0  Strike Price  Lowest  Closing Ask Across All Exchanges  \\\n",
       "0           0         100.0                                      5.45   \n",
       "1           1         101.0                                      4.50   \n",
       "2           2         102.0                                      3.65   \n",
       "3           3         103.0                                      2.79   \n",
       "4           4         104.0                                      2.06   \n",
       "\n",
       "   Underlying Price  maturity  C=Call, P=Put_C  C=Call, P=Put_P  \\\n",
       "0            105.35         4                1                0   \n",
       "1            105.35         4                1                0   \n",
       "2            105.35         4                1                0   \n",
       "3            105.35         4                1                0   \n",
       "4            105.35         4                1                0   \n",
       "\n",
       "   interest_rate  days  volatility  \n",
       "0         0.0022    30    0.218791  \n",
       "1         0.0022    30    0.218791  \n",
       "2         0.0022    30    0.218791  \n",
       "3         0.0022    30    0.218791  \n",
       "4         0.0022    30    0.218791  "
      ]
     },
     "execution_count": 59,
     "metadata": {},
     "output_type": "execute_result"
    }
   ],
   "source": [
    "AAPL = pd.read_csv('Options2016AAPL_withReaVo.csv')\n",
    "AAPL.head()"
   ]
  },
  {
   "cell_type": "code",
   "execution_count": 70,
   "metadata": {},
   "outputs": [],
   "source": [
    "AAPL = AAPL[AAPL['interest_rate'].notnull()]"
   ]
  },
  {
   "cell_type": "code",
   "execution_count": 71,
   "metadata": {},
   "outputs": [],
   "source": [
    "y_AAPL = AAPL['Lowest  Closing Ask Across All Exchanges'].values\n",
    "X_AAPL = AAPL[['maturity', 'Strike Price', 'volatility', 'Underlying Price', 'C=Call, P=Put_C', 'C=Call, P=Put_P', 'interest_rate']]"
   ]
  },
  {
   "cell_type": "code",
   "execution_count": 72,
   "metadata": {},
   "outputs": [],
   "source": [
    "X_AAPL = preprocessing.normalize(X_AAPL)\n",
    "y_AAPL = y_AAPL.reshape(-1,1)"
   ]
  },
  {
   "cell_type": "code",
   "execution_count": 73,
   "metadata": {},
   "outputs": [
    {
     "name": "stdout",
     "output_type": "stream",
     "text": [
      "Prediction:\n",
      " [[5.4338818 ]\n",
      " [4.5494175 ]\n",
      " [3.6288536 ]\n",
      " [2.7997174 ]\n",
      " [2.1064494 ]\n",
      " [1.4581447 ]\n",
      " [0.99268407]\n",
      " [0.5368069 ]\n",
      " [0.24624091]\n",
      " [0.1311115 ]]\n",
      "\n",
      "\n",
      "Actual:\n",
      " [[5.45]\n",
      " [4.5 ]\n",
      " [3.65]\n",
      " [2.79]\n",
      " [2.06]\n",
      " [1.43]\n",
      " [0.93]\n",
      " [0.56]\n",
      " [0.32]\n",
      " [0.18]]\n"
     ]
    }
   ],
   "source": [
    "pred4 = model.predict(X_AAPL)\n",
    "print('Prediction:\\n', pred4[:10])\n",
    "print('\\n')\n",
    "print('Actual:\\n', y_AAPL[:10])"
   ]
  },
  {
   "cell_type": "code",
   "execution_count": 74,
   "metadata": {},
   "outputs": [
    {
     "name": "stdout",
     "output_type": "stream",
     "text": [
      "Mean absolute error (MAE):      3.518400\n",
      "Mean squared error (MSE):       81.153715\n",
      "Root mean squared error (RMSE): 9.008536\n",
      "R square (R^2):                 0.868447\n"
     ]
    }
   ],
   "source": [
    "print(\"Mean absolute error (MAE):      %f\" % skm.mean_absolute_error(y_AAPL,pred4))\n",
    "print(\"Mean squared error (MSE):       %f\" % skm.mean_squared_error(y_AAPL,pred4))\n",
    "print(\"Root mean squared error (RMSE): %f\" % math.sqrt(skm.mean_squared_error(y_AAPL,pred4)))\n",
    "print(\"R square (R^2):                 %f\" % skm.r2_score(y_AAPL,pred4))"
   ]
  },
  {
   "cell_type": "code",
   "execution_count": null,
   "metadata": {},
   "outputs": [],
   "source": []
  },
  {
   "cell_type": "markdown",
   "metadata": {},
   "source": [
    "### Use model trained by sample dataset to predict option price"
   ]
  },
  {
   "cell_type": "code",
   "execution_count": 6,
   "metadata": {},
   "outputs": [],
   "source": [
    "def predict(model, df):\n",
    "    \n",
    "    model = load_model(model, custom_objects={'rmse': rmse, 'r_square': r_square})\n",
    "    \n",
    "    y = df['best_offer'].values\n",
    "    X = df[['maturity', 'strike_price', 'realized_vol', 'underlying_price', 'cp_flag_C', 'cp_flag_P', 'interest_rate']]\n",
    "    X = preprocessing.normalize(X)\n",
    "    \n",
    "    pred = model.predict(X)\n",
    "    print('Prediction:\\n', pred[:10])\n",
    "    print('Actual:\\n', y[:10])\n",
    "    print('\\n')\n",
    "    \n",
    "    MAE = skm.mean_absolute_error(y,pred)\n",
    "    MSE = skm.mean_squared_error(y,pred)\n",
    "    RMSE = math.sqrt(skm.mean_squared_error(y,pred))\n",
    "    R_2 = skm.r2_score(y,pred)\n",
    "    \n",
    "    print(\"Mean absolute error (MAE):      %f\" % MAE)\n",
    "    print(\"Mean squared error (MSE):       %f\" % MSE)\n",
    "    print(\"Root mean squared error (RMSE): %f\" % RMSE)\n",
    "    print(\"R square (R^2):                 %f\" % R_2)\n",
    "    \n",
    "    return pred, MAE, MSE, RMSE, R_2"
   ]
  },
  {
   "cell_type": "code",
   "execution_count": 7,
   "metadata": {},
   "outputs": [
    {
     "name": "stdout",
     "output_type": "stream",
     "text": [
      "Prediction:\n",
      " [[0.06853972]\n",
      " [0.04915916]\n",
      " [1.5456787 ]\n",
      " [1.2251867 ]\n",
      " [0.92827296]\n",
      " [0.6704222 ]\n",
      " [0.54896533]\n",
      " [0.45997775]\n",
      " [0.37162077]\n",
      " [0.28354633]]\n",
      "Actual:\n",
      " [0.13 0.13 1.7  1.31 0.95 0.66 0.44 0.28 0.17 0.1 ]\n",
      "\n",
      "\n",
      "Mean absolute error (MAE):      2.559878\n",
      "Mean squared error (MSE):       71.921719\n",
      "Root mean squared error (RMSE): 8.480667\n",
      "R square (R^2):                 0.674578\n"
     ]
    }
   ],
   "source": [
    "pred1, MAE1, MSE1, RMSE1, R_2_1 = predict('model10000.h5', df)"
   ]
  },
  {
   "cell_type": "code",
   "execution_count": 8,
   "metadata": {},
   "outputs": [
    {
     "name": "stdout",
     "output_type": "stream",
     "text": [
      "Prediction:\n",
      " [[0.56521493]\n",
      " [1.0019791 ]\n",
      " [2.7107553 ]\n",
      " [2.2791758 ]\n",
      " [1.7774205 ]\n",
      " [1.2792284 ]\n",
      " [0.7845612 ]\n",
      " [0.29784423]\n",
      " [0.08813506]\n",
      " [0.04379827]]\n",
      "Actual:\n",
      " [0.13 0.13 1.7  1.31 0.95 0.66 0.44 0.28 0.17 0.1 ]\n",
      "\n",
      "\n",
      "Mean absolute error (MAE):      2.286436\n",
      "Mean squared error (MSE):       66.544301\n",
      "Root mean squared error (RMSE): 8.157469\n",
      "R square (R^2):                 0.698909\n"
     ]
    }
   ],
   "source": [
    "pred2, MAE2, MSE2, RMSE2, R_2_2 = predict('model20000.h5', df)"
   ]
  },
  {
   "cell_type": "code",
   "execution_count": 9,
   "metadata": {},
   "outputs": [
    {
     "name": "stdout",
     "output_type": "stream",
     "text": [
      "Prediction:\n",
      " [[-0.2714061 ]\n",
      " [-0.28740543]\n",
      " [ 1.8359252 ]\n",
      " [ 1.5928159 ]\n",
      " [ 1.3512825 ]\n",
      " [ 1.1142906 ]\n",
      " [ 0.9042262 ]\n",
      " [ 0.6955408 ]\n",
      " [ 0.55058306]\n",
      " [ 0.47792   ]]\n",
      "Actual:\n",
      " [0.13 0.13 1.7  1.31 0.95 0.66 0.44 0.28 0.17 0.1 ]\n",
      "\n",
      "\n",
      "Mean absolute error (MAE):      1.526319\n",
      "Mean squared error (MSE):       29.468979\n",
      "Root mean squared error (RMSE): 5.428534\n",
      "R square (R^2):                 0.866663\n"
     ]
    }
   ],
   "source": [
    "pred3, MAE3, MSE3, RMSE3, R_2_3 = predict('model30000.h5', df)"
   ]
  },
  {
   "cell_type": "code",
   "execution_count": 10,
   "metadata": {},
   "outputs": [
    {
     "name": "stdout",
     "output_type": "stream",
     "text": [
      "Prediction:\n",
      " [[0.01639575]\n",
      " [0.02970809]\n",
      " [1.4157648 ]\n",
      " [1.1903319 ]\n",
      " [1.0107656 ]\n",
      " [0.83242697]\n",
      " [0.65529674]\n",
      " [0.4862401 ]\n",
      " [0.36004037]\n",
      " [0.24773711]]\n",
      "Actual:\n",
      " [0.13 0.13 1.7  1.31 0.95 0.66 0.44 0.28 0.17 0.1 ]\n",
      "\n",
      "\n",
      "Mean absolute error (MAE):      2.077691\n",
      "Mean squared error (MSE):       45.851587\n",
      "Root mean squared error (RMSE): 6.771380\n",
      "R square (R^2):                 0.792537\n"
     ]
    }
   ],
   "source": [
    "pred4, MAE4, MSE4, RMSE4, R_2_4 = predict('model40000.h5', df)"
   ]
  },
  {
   "cell_type": "code",
   "execution_count": 11,
   "metadata": {},
   "outputs": [
    {
     "name": "stdout",
     "output_type": "stream",
     "text": [
      "Prediction:\n",
      " [[-0.4824172 ]\n",
      " [-0.4127284 ]\n",
      " [ 1.4357461 ]\n",
      " [ 1.0684751 ]\n",
      " [ 0.8145279 ]\n",
      " [ 0.6726646 ]\n",
      " [ 0.53181905]\n",
      " [ 0.44970718]\n",
      " [ 0.40387526]\n",
      " [ 0.35760155]]\n",
      "Actual:\n",
      " [0.13 0.13 1.7  1.31 0.95 0.66 0.44 0.28 0.17 0.1 ]\n",
      "\n",
      "\n",
      "Mean absolute error (MAE):      2.557052\n",
      "Mean squared error (MSE):       70.120155\n",
      "Root mean squared error (RMSE): 8.373778\n",
      "R square (R^2):                 0.682729\n"
     ]
    }
   ],
   "source": [
    "pred5, MAE5, MSE5, RMSE5, R_2_5 = predict('model50000.h5', df)"
   ]
  },
  {
   "cell_type": "code",
   "execution_count": 12,
   "metadata": {},
   "outputs": [
    {
     "name": "stdout",
     "output_type": "stream",
     "text": [
      "Prediction:\n",
      " [[-0.59941256]\n",
      " [-0.74984276]\n",
      " [ 1.9533378 ]\n",
      " [ 1.6066426 ]\n",
      " [ 1.2402238 ]\n",
      " [ 0.8930825 ]\n",
      " [ 0.5961772 ]\n",
      " [ 0.3606764 ]\n",
      " [ 0.19960892]\n",
      " [ 0.13129377]]\n",
      "Actual:\n",
      " [0.13 0.13 1.7  1.31 0.95 0.66 0.44 0.28 0.17 0.1 ]\n",
      "\n",
      "\n",
      "Mean absolute error (MAE):      2.299149\n",
      "Mean squared error (MSE):       53.490040\n",
      "Root mean squared error (RMSE): 7.313689\n",
      "R square (R^2):                 0.757975\n"
     ]
    }
   ],
   "source": [
    "pred6, MAE6, MSE6, RMSE6, R_2_6 = predict('model60000.h5', df)"
   ]
  },
  {
   "cell_type": "code",
   "execution_count": 13,
   "metadata": {},
   "outputs": [
    {
     "name": "stdout",
     "output_type": "stream",
     "text": [
      "Prediction:\n",
      " [[-0.5593388 ]\n",
      " [-0.6751541 ]\n",
      " [ 1.9866337 ]\n",
      " [ 1.5926768 ]\n",
      " [ 1.1959783 ]\n",
      " [ 0.8775362 ]\n",
      " [ 0.69198763]\n",
      " [ 0.507687  ]\n",
      " [ 0.3424298 ]\n",
      " [ 0.18849126]]\n",
      "Actual:\n",
      " [0.13 0.13 1.7  1.31 0.95 0.66 0.44 0.28 0.17 0.1 ]\n",
      "\n",
      "\n",
      "Mean absolute error (MAE):      1.690066\n",
      "Mean squared error (MSE):       25.953019\n",
      "Root mean squared error (RMSE): 5.094411\n",
      "R square (R^2):                 0.882571\n"
     ]
    }
   ],
   "source": [
    "pred7, MAE7, MSE7, RMSE7, R_2_7 = predict('model70000.h5', df)"
   ]
  },
  {
   "cell_type": "code",
   "execution_count": 14,
   "metadata": {},
   "outputs": [
    {
     "name": "stdout",
     "output_type": "stream",
     "text": [
      "Prediction:\n",
      " [[-0.29771313]\n",
      " [-0.26181492]\n",
      " [ 1.5310556 ]\n",
      " [ 1.1771237 ]\n",
      " [ 0.9113371 ]\n",
      " [ 0.68972224]\n",
      " [ 0.54022616]\n",
      " [ 0.42240158]\n",
      " [ 0.32155386]\n",
      " [ 0.21890274]]\n",
      "Actual:\n",
      " [0.13 0.13 1.7  1.31 0.95 0.66 0.44 0.28 0.17 0.1 ]\n",
      "\n",
      "\n",
      "Mean absolute error (MAE):      1.406340\n",
      "Mean squared error (MSE):       21.063218\n",
      "Root mean squared error (RMSE): 4.589468\n",
      "R square (R^2):                 0.904696\n"
     ]
    }
   ],
   "source": [
    "pred8, MAE8, MSE8, RMSE8, R_2_8 = predict('model80000.h5', df)"
   ]
  },
  {
   "cell_type": "code",
   "execution_count": 15,
   "metadata": {},
   "outputs": [
    {
     "name": "stdout",
     "output_type": "stream",
     "text": [
      "Prediction:\n",
      " [[-0.1186014 ]\n",
      " [-0.14912947]\n",
      " [ 1.8258451 ]\n",
      " [ 1.5255431 ]\n",
      " [ 1.2258893 ]\n",
      " [ 0.9431824 ]\n",
      " [ 0.73784393]\n",
      " [ 0.55930036]\n",
      " [ 0.4367785 ]\n",
      " [ 0.32780832]]\n",
      "Actual:\n",
      " [0.13 0.13 1.7  1.31 0.95 0.66 0.44 0.28 0.17 0.1 ]\n",
      "\n",
      "\n",
      "Mean absolute error (MAE):      1.174948\n",
      "Mean squared error (MSE):       14.452129\n",
      "Root mean squared error (RMSE): 3.801596\n",
      "R square (R^2):                 0.934609\n"
     ]
    }
   ],
   "source": [
    "pred9, MAE9, MSE9, RMSE9, R_2_9 = predict('model90000.h5', df)"
   ]
  },
  {
   "cell_type": "code",
   "execution_count": 16,
   "metadata": {},
   "outputs": [
    {
     "name": "stdout",
     "output_type": "stream",
     "text": [
      "Prediction:\n",
      " [[-0.4948684 ]\n",
      " [-0.30469483]\n",
      " [ 1.9907677 ]\n",
      " [ 1.6551383 ]\n",
      " [ 1.3884785 ]\n",
      " [ 1.1162484 ]\n",
      " [ 0.828624  ]\n",
      " [ 0.5667832 ]\n",
      " [ 0.3433001 ]\n",
      " [ 0.16655469]]\n",
      "Actual:\n",
      " [0.13 0.13 1.7  1.31 0.95 0.66 0.44 0.28 0.17 0.1 ]\n",
      "\n",
      "\n",
      "Mean absolute error (MAE):      1.673734\n",
      "Mean squared error (MSE):       22.593666\n",
      "Root mean squared error (RMSE): 4.753280\n",
      "R square (R^2):                 0.897771\n"
     ]
    }
   ],
   "source": [
    "pred10, MAE10, MSE10, RMSE10, R_2_10 = predict('model100000.h5', df)"
   ]
  },
  {
   "cell_type": "code",
   "execution_count": 17,
   "metadata": {},
   "outputs": [
    {
     "name": "stdout",
     "output_type": "stream",
     "text": [
      "Prediction:\n",
      " [[-0.36535037]\n",
      " [ 0.29099077]\n",
      " [ 1.5854173 ]\n",
      " [ 1.223232  ]\n",
      " [ 0.9450074 ]\n",
      " [ 0.66876954]\n",
      " [ 0.4510128 ]\n",
      " [ 0.2889939 ]\n",
      " [ 0.14080818]\n",
      " [ 0.02689238]]\n",
      "Actual:\n",
      " [0.13 0.13 1.7  1.31 0.95 0.66 0.44 0.28 0.17 0.1 ]\n",
      "\n",
      "\n",
      "Mean absolute error (MAE):      1.411754\n",
      "Mean squared error (MSE):       17.908669\n",
      "Root mean squared error (RMSE): 4.231864\n",
      "R square (R^2):                 0.918969\n"
     ]
    }
   ],
   "source": [
    "pred15, MAE15, MSE15, RMSE15, R_2_15 = predict('model150000.h5', df)"
   ]
  },
  {
   "cell_type": "code",
   "execution_count": 18,
   "metadata": {},
   "outputs": [
    {
     "name": "stdout",
     "output_type": "stream",
     "text": [
      "Prediction:\n",
      " [[-1.059561  ]\n",
      " [-1.5924814 ]\n",
      " [ 1.7851708 ]\n",
      " [ 1.4400666 ]\n",
      " [ 1.0944742 ]\n",
      " [ 0.84240377]\n",
      " [ 0.57194173]\n",
      " [ 0.42461064]\n",
      " [ 0.32245308]\n",
      " [ 0.24998322]]\n",
      "Actual:\n",
      " [0.13 0.13 1.7  1.31 0.95 0.66 0.44 0.28 0.17 0.1 ]\n",
      "\n",
      "\n",
      "Mean absolute error (MAE):      1.309825\n",
      "Mean squared error (MSE):       10.156781\n",
      "Root mean squared error (RMSE): 3.186971\n",
      "R square (R^2):                 0.954044\n"
     ]
    }
   ],
   "source": [
    "pred20, MAE20, MSE20, RMSE20, R_2_20 = predict('model200000.h5', df)"
   ]
  },
  {
   "cell_type": "code",
   "execution_count": null,
   "metadata": {},
   "outputs": [],
   "source": []
  },
  {
   "cell_type": "code",
   "execution_count": 19,
   "metadata": {},
   "outputs": [
    {
     "data": {
      "text/plain": [
       "Text(0.5,0,'Sample size')"
      ]
     },
     "execution_count": 19,
     "metadata": {},
     "output_type": "execute_result"
    },
    {
     "data": {
      "image/png": "[encoded data removed]",
      "text/plain": [
       "<Figure size 432x288 with 1 Axes>"
      ]
     },
     "metadata": {},
     "output_type": "display_data"
    }
   ],
   "source": [
    "sample_size = [10000, 20000, 30000, 40000, 50000, 60000, 70000, 80000, 90000, 100000, 150000, 200000]\n",
    "r2 = [R_2_1, R_2_2, R_2_3, R_2_4, R_2_5, R_2_6, R_2_7, R_2_8, R_2_9, R_2_10, R_2_15, R_2_20]\n",
    "plt.plot(sample_size, r2)\n",
    "plt.title('R2 changes')\n",
    "plt.ylabel('R^2')\n",
    "plt.xlabel('Sample size')"
   ]
  },
  {
   "cell_type": "code",
   "execution_count": 20,
   "metadata": {},
   "outputs": [
    {
     "data": {
      "text/plain": [
       "Text(0.5,0,'Sample size')"
      ]
     },
     "execution_count": 20,
     "metadata": {},
     "output_type": "execute_result"
    },
    {
     "data": {
      "image/png": "[encoded data removed]",
      "text/plain": [
       "<Figure size 432x288 with 1 Axes>"
      ]
     },
     "metadata": {},
     "output_type": "display_data"
    }
   ],
   "source": [
    "# If remove r_2_5\n",
    "sample_size = [10000, 20000, 30000, 40000, 60000, 70000, 80000, 90000, 100000, 150000, 200000]\n",
    "r2 = [R_2_1, R_2_2, R_2_3, R_2_4, R_2_6, R_2_7, R_2_8, R_2_9, R_2_10, R_2_15, R_2_20]\n",
    "plt.plot(sample_size, r2)\n",
    "plt.title('R2 changes')\n",
    "plt.ylabel('R^2')\n",
    "plt.xlabel('Sample size')"
   ]
  },
  {
   "cell_type": "code",
   "execution_count": null,
   "metadata": {},
   "outputs": [],
   "source": []
  }
 ],
 "metadata": {
  "kernelspec": {
   "display_name": "Python 3",
   "language": "python",
   "name": "python3"
  },
  "language_info": {
   "codemirror_mode": {
    "name": "ipython",
    "version": 3
   },
   "file_extension": ".py",
   "mimetype": "text/x-python",
   "name": "python",
   "nbconvert_exporter": "python",
   "pygments_lexer": "ipython3",
   "version": "3.6.5"
  }
 },
 "nbformat": 4,
 "nbformat_minor": 2
}
