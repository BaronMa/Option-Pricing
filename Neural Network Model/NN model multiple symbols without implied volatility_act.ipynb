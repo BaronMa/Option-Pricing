{
 "cells": [
  {
   "cell_type": "code",
   "execution_count": 1,
   "metadata": {
    "scrolled": true
   },
   "outputs": [
    {
     "name": "stdout",
     "output_type": "stream",
     "text": [
      "Collecting pip\n",
      "  Downloading https://files.pythonhosted.org/packages/5c/e0/be401c003291b56efc55aeba6a80ab790d3d4cece2778288d65323009420/pip-19.1.1-py2.py3-none-any.whl (1.4MB)\n",
      "Installing collected packages: pip\n",
      "Successfully installed pip-19.1.1\n"
     ]
    },
    {
     "name": "stderr",
     "output_type": "stream",
     "text": [
      "distributed 1.21.8 requires msgpack, which is not installed.\n",
      "You are using pip version 10.0.1, however version 19.1.1 is available.\n",
      "You should consider upgrading via the 'python -m pip install --upgrade pip' command.\n"
     ]
    },
    {
     "name": "stdout",
     "output_type": "stream",
     "text": [
      "Collecting keras\n",
      "  Downloading https://files.pythonhosted.org/packages/5e/10/aa32dad071ce52b5502266b5c659451cfd6ffcbf14e6c8c4f16c0ff5aaab/Keras-2.2.4-py2.py3-none-any.whl (312kB)\n",
      "Requirement already satisfied: pyyaml in c:\\program files\\anaconda3\\lib\\site-packages (from keras) (3.12)\n",
      "Requirement already satisfied: h5py in c:\\program files\\anaconda3\\lib\\site-packages (from keras) (2.7.1)\n",
      "Requirement already satisfied: scipy>=0.14 in c:\\program files\\anaconda3\\lib\\site-packages (from keras) (1.1.0)\n",
      "Collecting keras-applications>=1.0.6 (from keras)\n",
      "  Downloading https://files.pythonhosted.org/packages/71/e3/19762fdfc62877ae9102edf6342d71b28fbfd9dea3d2f96a882ce099b03f/Keras_Applications-1.0.8-py3-none-any.whl (50kB)\n",
      "Collecting keras-preprocessing>=1.0.5 (from keras)\n",
      "  Downloading https://files.pythonhosted.org/packages/28/6a/8c1f62c37212d9fc441a7e26736df51ce6f0e38455816445471f10da4f0a/Keras_Preprocessing-1.1.0-py2.py3-none-any.whl (41kB)\n",
      "Requirement already satisfied: numpy>=1.9.1 in c:\\program files\\anaconda3\\lib\\site-packages (from keras) (1.14.3)\n",
      "Requirement already satisfied: six>=1.9.0 in c:\\program files\\anaconda3\\lib\\site-packages (from keras) (1.11.0)\n",
      "Installing collected packages: keras-applications, keras-preprocessing, keras\n",
      "Successfully installed keras-2.2.4 keras-applications-1.0.8 keras-preprocessing-1.1.0\n",
      "Collecting tensorflow\n",
      "  Downloading https://files.pythonhosted.org/packages/bf/4a/5c86ed8b245aa48f9f819b13a0a9039e9126ba19fdd0c7e0b8026c12315a/tensorflow-1.14.0-cp36-cp36m-win_amd64.whl (68.3MB)\n",
      "Collecting numpy<2.0,>=1.14.5 (from tensorflow)\n",
      "  Downloading https://files.pythonhosted.org/packages/20/ed/e036d31a9b2c750f270cbb1cfc1c0f94ac78ae504eea7eec3267be4e294a/numpy-1.16.4-cp36-cp36m-win_amd64.whl (11.9MB)\n",
      "Collecting google-pasta>=0.1.6 (from tensorflow)\n",
      "  Downloading https://files.pythonhosted.org/packages/d0/33/376510eb8d6246f3c30545f416b2263eee461e40940c2a4413c711bdf62d/google_pasta-0.1.7-py3-none-any.whl (52kB)\n",
      "Collecting gast>=0.2.0 (from tensorflow)\n",
      "  Downloading https://files.pythonhosted.org/packages/4e/35/11749bf99b2d4e3cceb4d55ca22590b0d7c2c62b9de38ac4a4a7f4687421/gast-0.2.2.tar.gz\n",
      "Collecting absl-py>=0.7.0 (from tensorflow)\n",
      "  Downloading https://files.pythonhosted.org/packages/da/3f/9b0355080b81b15ba6a9ffcf1f5ea39e307a2778b2f2dc8694724e8abd5b/absl-py-0.7.1.tar.gz (99kB)\n",
      "Collecting tensorflow-estimator<1.15.0rc0,>=1.14.0rc0 (from tensorflow)\n",
      "  Downloading https://files.pythonhosted.org/packages/3c/d5/21860a5b11caf0678fbc8319341b0ae21a07156911132e0e71bffed0510d/tensorflow_estimator-1.14.0-py2.py3-none-any.whl (488kB)\n",
      "Requirement already satisfied: wheel>=0.26 in c:\\program files\\anaconda3\\lib\\site-packages (from tensorflow) (0.31.1)\n",
      "Collecting protobuf>=3.6.1 (from tensorflow)\n",
      "  Downloading https://files.pythonhosted.org/packages/d4/59/ec6c6075dd628f2efd33dbe11b259e63e1de7cbc26e45b38de767df528d4/protobuf-3.8.0-cp36-cp36m-win_amd64.whl (1.1MB)\n",
      "Requirement already satisfied: keras-preprocessing>=1.0.5 in c:\\users\\mayingzh\\appdata\\roaming\\python\\python36\\site-packages (from tensorflow) (1.1.0)\n",
      "Collecting tensorboard<1.15.0,>=1.14.0 (from tensorflow)\n",
      "  Downloading https://files.pythonhosted.org/packages/91/2d/2ed263449a078cd9c8a9ba50ebd50123adf1f8cfbea1492f9084169b89d9/tensorboard-1.14.0-py3-none-any.whl (3.1MB)\n",
      "Collecting grpcio>=1.8.6 (from tensorflow)\n",
      "  Downloading https://files.pythonhosted.org/packages/78/93/297ff3656f1073fba84e2f9633ad3b27a007eb59ad22099ac30142f80365/grpcio-1.22.0-cp36-cp36m-win_amd64.whl (1.6MB)\n",
      "Requirement already satisfied: keras-applications>=1.0.6 in c:\\users\\mayingzh\\appdata\\roaming\\python\\python36\\site-packages (from tensorflow) (1.0.8)\n",
      "Collecting astor>=0.6.0 (from tensorflow)\n",
      "  Downloading https://files.pythonhosted.org/packages/d1/4f/950dfae467b384fc96bc6469de25d832534f6b4441033c39f914efd13418/astor-0.8.0-py2.py3-none-any.whl\n",
      "Collecting termcolor>=1.1.0 (from tensorflow)\n",
      "  Downloading https://files.pythonhosted.org/packages/8a/48/a76be51647d0eb9f10e2a4511bf3ffb8cc1e6b14e9e4fab46173aa79f981/termcolor-1.1.0.tar.gz\n",
      "Requirement already satisfied: six>=1.10.0 in c:\\program files\\anaconda3\\lib\\site-packages (from tensorflow) (1.11.0)\n",
      "Collecting wrapt>=1.11.1 (from tensorflow)\n",
      "  Downloading https://files.pythonhosted.org/packages/23/84/323c2415280bc4fc880ac5050dddfb3c8062c2552b34c2e512eb4aa68f79/wrapt-1.11.2.tar.gz\n",
      "Requirement already satisfied: setuptools in c:\\program files\\anaconda3\\lib\\site-packages (from protobuf>=3.6.1->tensorflow) (39.1.0)\n",
      "Collecting markdown>=2.6.8 (from tensorboard<1.15.0,>=1.14.0->tensorflow)\n",
      "  Downloading https://files.pythonhosted.org/packages/c0/4e/fd492e91abdc2d2fcb70ef453064d980688762079397f779758e055f6575/Markdown-3.1.1-py2.py3-none-any.whl (87kB)\n",
      "Requirement already satisfied: werkzeug>=0.11.15 in c:\\program files\\anaconda3\\lib\\site-packages (from tensorboard<1.15.0,>=1.14.0->tensorflow) (0.14.1)\n",
      "Requirement already satisfied: h5py in c:\\program files\\anaconda3\\lib\\site-packages (from keras-applications>=1.0.6->tensorflow) (2.7.1)\n",
      "Building wheels for collected packages: gast, absl-py, termcolor, wrapt\n",
      "  Building wheel for gast (setup.py): started\n",
      "  Building wheel for gast (setup.py): finished with status 'done'\n",
      "  Stored in directory: C:\\Users\\mayingzh\\AppData\\Local\\pip\\Cache\\wheels\\5c\\2e\\7e\\a1d4d4fcebe6c381f378ce7743a3ced3699feb89bcfbdadadd\n",
      "  Building wheel for absl-py (setup.py): started\n",
      "  Building wheel for absl-py (setup.py): finished with status 'done'\n",
      "  Stored in directory: C:\\Users\\mayingzh\\AppData\\Local\\pip\\Cache\\wheels\\ee\\98\\38\\46cbcc5a93cfea5492d19c38562691ddb23b940176c14f7b48\n",
      "  Building wheel for termcolor (setup.py): started\n",
      "  Building wheel for termcolor (setup.py): finished with status 'done'\n",
      "  Stored in directory: C:\\Users\\mayingzh\\AppData\\Local\\pip\\Cache\\wheels\\7c\\06\\54\\bc84598ba1daf8f970247f550b175aaaee85f68b4b0c5ab2c6\n",
      "  Building wheel for wrapt (setup.py): started\n",
      "  Building wheel for wrapt (setup.py): finished with status 'done'\n",
      "  Stored in directory: C:\\Users\\mayingzh\\AppData\\Local\\pip\\Cache\\wheels\\d7\\de\\2e\\efa132238792efb6459a96e85916ef8597fcb3d2ae51590dfd\n",
      "Successfully built gast absl-py termcolor wrapt\n",
      "Installing collected packages: numpy, google-pasta, gast, absl-py, tensorflow-estimator, protobuf, grpcio, markdown, tensorboard, astor, termcolor, wrapt, tensorflow\n",
      "Successfully installed absl-py-0.7.1 astor-0.8.0 gast-0.2.2 google-pasta-0.1.7 grpcio-1.22.0 markdown-3.1.1 numpy-1.16.4 protobuf-3.8.0 tensorboard-1.14.0 tensorflow-1.14.0 tensorflow-estimator-1.14.0 termcolor-1.1.0 wrapt-1.11.2\n"
     ]
    },
    {
     "name": "stderr",
     "output_type": "stream",
     "text": [
      "ERROR: tensorboard 1.14.0 has requirement setuptools>=41.0.0, but you'll have setuptools 39.1.0 which is incompatible.\n",
      "  WARNING: The script f2py.exe is installed in 'C:\\Users\\mayingzh\\AppData\\Roaming\\Python\\Python36\\Scripts' which is not on PATH.\n",
      "  Consider adding this directory to PATH or, if you prefer to suppress this warning, use --no-warn-script-location.\n",
      "  WARNING: The script markdown_py.exe is installed in 'C:\\Users\\mayingzh\\AppData\\Roaming\\Python\\Python36\\Scripts' which is not on PATH.\n",
      "  Consider adding this directory to PATH or, if you prefer to suppress this warning, use --no-warn-script-location.\n",
      "  WARNING: The script tensorboard.exe is installed in 'C:\\Users\\mayingzh\\AppData\\Roaming\\Python\\Python36\\Scripts' which is not on PATH.\n",
      "  Consider adding this directory to PATH or, if you prefer to suppress this warning, use --no-warn-script-location.\n",
      "  WARNING: The scripts freeze_graph.exe, saved_model_cli.exe, tensorboard.exe, tf_upgrade_v2.exe, tflite_convert.exe, toco.exe and toco_from_protos.exe are installed in 'C:\\Users\\mayingzh\\AppData\\Roaming\\Python\\Python36\\Scripts' which is not on PATH.\n",
      "  Consider adding this directory to PATH or, if you prefer to suppress this warning, use --no-warn-script-location.\n"
     ]
    },
    {
     "name": "stdout",
     "output_type": "stream",
     "text": [
      "Requirement already up-to-date: numpy in c:\\users\\mayingzh\\appdata\\roaming\\python\\python36\\site-packages (1.16.4)\n"
     ]
    }
   ],
   "source": [
    "!python -m pip install --user --upgrade pip\n",
    "!pip install --user keras\n",
    "!pip install --user tensorflow\n",
    "!pip install --user -U numpy"
   ]
  },
  {
   "cell_type": "code",
   "execution_count": 3,
   "metadata": {},
   "outputs": [],
   "source": [
    "# Use CPU only\n",
    "# Only Macbook needs to run this cell\n",
    "import os\n",
    "os.environ[\"CUDA_DEVICE_ORDER\"] = \"PCI_BUS_ID\" \n",
    "os.environ[\"CUDA_VISIBLE_DEVICES\"] = \"\""
   ]
  },
  {
   "cell_type": "code",
   "execution_count": 23,
   "metadata": {},
   "outputs": [],
   "source": [
    "import pandas as pd\n",
    "from keras.models import Sequential\n",
    "from keras.layers import Dense, Dropout\n",
    "from sklearn.model_selection import train_test_split\n",
    "from keras.callbacks import EarlyStopping\n",
    "from sklearn import preprocessing\n",
    "import matplotlib.pyplot as plt\n",
    "from keras.layers.normalization import BatchNormalization"
   ]
  },
  {
   "cell_type": "markdown",
   "metadata": {},
   "source": [
    "## Load data and do data normalization"
   ]
  },
  {
   "cell_type": "code",
   "execution_count": 2,
   "metadata": {},
   "outputs": [
    {
     "data": {
      "text/html": [
       "<div>\n",
       "<style scoped>\n",
       "    .dataframe tbody tr th:only-of-type {\n",
       "        vertical-align: middle;\n",
       "    }\n",
       "\n",
       "    .dataframe tbody tr th {\n",
       "        vertical-align: top;\n",
       "    }\n",
       "\n",
       "    .dataframe thead th {\n",
       "        text-align: right;\n",
       "    }\n",
       "</style>\n",
       "<table border=\"1\" class=\"dataframe\">\n",
       "  <thead>\n",
       "    <tr style=\"text-align: right;\">\n",
       "      <th></th>\n",
       "      <th>ticker</th>\n",
       "      <th>date</th>\n",
       "      <th>exdate</th>\n",
       "      <th>maturity</th>\n",
       "      <th>strike_price</th>\n",
       "      <th>best_offer</th>\n",
       "      <th>impl_volatility</th>\n",
       "      <th>underlying_price</th>\n",
       "      <th>interest_rate</th>\n",
       "      <th>cp_flag_C</th>\n",
       "      <th>cp_flag_P</th>\n",
       "    </tr>\n",
       "  </thead>\n",
       "  <tbody>\n",
       "    <tr>\n",
       "      <th>0</th>\n",
       "      <td>AXP</td>\n",
       "      <td>2013-01-02</td>\n",
       "      <td>2013-01-04</td>\n",
       "      <td>2</td>\n",
       "      <td>60.0</td>\n",
       "      <td>0.03</td>\n",
       "      <td>0.181376</td>\n",
       "      <td>58.75</td>\n",
       "      <td>0.0008</td>\n",
       "      <td>1</td>\n",
       "      <td>0</td>\n",
       "    </tr>\n",
       "    <tr>\n",
       "      <th>1</th>\n",
       "      <td>AXP</td>\n",
       "      <td>2013-01-02</td>\n",
       "      <td>2013-01-04</td>\n",
       "      <td>2</td>\n",
       "      <td>62.5</td>\n",
       "      <td>0.05</td>\n",
       "      <td>0.450289</td>\n",
       "      <td>58.75</td>\n",
       "      <td>0.0008</td>\n",
       "      <td>1</td>\n",
       "      <td>0</td>\n",
       "    </tr>\n",
       "    <tr>\n",
       "      <th>2</th>\n",
       "      <td>AXP</td>\n",
       "      <td>2013-01-02</td>\n",
       "      <td>2013-01-04</td>\n",
       "      <td>2</td>\n",
       "      <td>65.0</td>\n",
       "      <td>0.05</td>\n",
       "      <td>0.676564</td>\n",
       "      <td>58.75</td>\n",
       "      <td>0.0008</td>\n",
       "      <td>1</td>\n",
       "      <td>0</td>\n",
       "    </tr>\n",
       "    <tr>\n",
       "      <th>3</th>\n",
       "      <td>AXP</td>\n",
       "      <td>2013-01-02</td>\n",
       "      <td>2013-01-04</td>\n",
       "      <td>2</td>\n",
       "      <td>67.5</td>\n",
       "      <td>0.50</td>\n",
       "      <td>1.369425</td>\n",
       "      <td>58.75</td>\n",
       "      <td>0.0008</td>\n",
       "      <td>1</td>\n",
       "      <td>0</td>\n",
       "    </tr>\n",
       "    <tr>\n",
       "      <th>4</th>\n",
       "      <td>AXP</td>\n",
       "      <td>2013-01-02</td>\n",
       "      <td>2013-01-04</td>\n",
       "      <td>2</td>\n",
       "      <td>70.0</td>\n",
       "      <td>0.01</td>\n",
       "      <td>0.888123</td>\n",
       "      <td>58.75</td>\n",
       "      <td>0.0008</td>\n",
       "      <td>1</td>\n",
       "      <td>0</td>\n",
       "    </tr>\n",
       "  </tbody>\n",
       "</table>\n",
       "</div>"
      ],
      "text/plain": [
       "  ticker        date      exdate  maturity  strike_price  best_offer  \\\n",
       "0    AXP  2013-01-02  2013-01-04         2          60.0        0.03   \n",
       "1    AXP  2013-01-02  2013-01-04         2          62.5        0.05   \n",
       "2    AXP  2013-01-02  2013-01-04         2          65.0        0.05   \n",
       "3    AXP  2013-01-02  2013-01-04         2          67.5        0.50   \n",
       "4    AXP  2013-01-02  2013-01-04         2          70.0        0.01   \n",
       "\n",
       "   impl_volatility  underlying_price  interest_rate  cp_flag_C  cp_flag_P  \n",
       "0         0.181376             58.75         0.0008          1          0  \n",
       "1         0.450289             58.75         0.0008          1          0  \n",
       "2         0.676564             58.75         0.0008          1          0  \n",
       "3         1.369425             58.75         0.0008          1          0  \n",
       "4         0.888123             58.75         0.0008          1          0  "
      ]
     },
     "execution_count": 2,
     "metadata": {},
     "output_type": "execute_result"
    }
   ],
   "source": [
    "df = pd.read_csv('Options.csv')\n",
    "df.head()"
   ]
  },
  {
   "cell_type": "code",
   "execution_count": 3,
   "metadata": {},
   "outputs": [],
   "source": [
    "df = df[df['interest_rate'].notnull()]"
   ]
  },
  {
   "cell_type": "code",
   "execution_count": 5,
   "metadata": {},
   "outputs": [],
   "source": [
    "y = df['best_offer']\n",
    "X = df[['maturity', 'strike_price', 'underlying_price', 'cp_flag_C', 'cp_flag_P', 'interest_rate']]"
   ]
  },
  {
   "cell_type": "code",
   "execution_count": 6,
   "metadata": {},
   "outputs": [],
   "source": [
    "# Normalize the data to build a regression neural network model\n",
    "sc= preprocessing.MinMaxScaler()\n",
    "X= sc.fit_transform(X)"
   ]
  },
  {
   "cell_type": "code",
   "execution_count": 7,
   "metadata": {},
   "outputs": [],
   "source": [
    "X_train, X_test, y_train, y_test = train_test_split(X, y, test_size=0.2, random_state=42)"
   ]
  },
  {
   "cell_type": "code",
   "execution_count": 8,
   "metadata": {},
   "outputs": [
    {
     "name": "stdout",
     "output_type": "stream",
     "text": [
      "(1559488, 6)\n",
      "(1559488,)\n"
     ]
    }
   ],
   "source": [
    "print(X_train.shape)\n",
    "print(y_train.shape)"
   ]
  },
  {
   "cell_type": "code",
   "execution_count": 9,
   "metadata": {},
   "outputs": [],
   "source": [
    "XX_train, XX_validation, yy_train, yy_validation = train_test_split(X_train, y_train, test_size=0.2, random_state=42)"
   ]
  },
  {
   "cell_type": "markdown",
   "metadata": {},
   "source": [
    "## Build a keras Sequential model"
   ]
  },
  {
   "cell_type": "code",
   "execution_count": 10,
   "metadata": {},
   "outputs": [
    {
     "name": "stderr",
     "output_type": "stream",
     "text": [
      "WARNING: Logging before flag parsing goes to stderr.\n",
      "W0705 20:23:12.838638 10036 deprecation_wrapper.py:119] From C:\\Users\\mayingzh\\AppData\\Roaming\\Python\\Python36\\site-packages\\keras\\backend\\tensorflow_backend.py:74: The name tf.get_default_graph is deprecated. Please use tf.compat.v1.get_default_graph instead.\n",
      "\n",
      "W0705 20:23:12.853649 10036 deprecation_wrapper.py:119] From C:\\Users\\mayingzh\\AppData\\Roaming\\Python\\Python36\\site-packages\\keras\\backend\\tensorflow_backend.py:517: The name tf.placeholder is deprecated. Please use tf.compat.v1.placeholder instead.\n",
      "\n",
      "W0705 20:23:12.858652 10036 deprecation_wrapper.py:119] From C:\\Users\\mayingzh\\AppData\\Roaming\\Python\\Python36\\site-packages\\keras\\backend\\tensorflow_backend.py:4138: The name tf.random_uniform is deprecated. Please use tf.random.uniform instead.\n",
      "\n"
     ]
    }
   ],
   "source": [
    "# Built Keras sequential model with 3 hidden layer, and after the first hidden layer.\n",
    "model = Sequential([\n",
    "    Dense(64, activation='relu', input_shape=(6,)),\n",
    "    Dense(128, activation='relu'),\n",
    "    Dense(64, activation='relu'),\n",
    "    Dense(1, activation='linear'),\n",
    "])"
   ]
  },
  {
   "cell_type": "code",
   "execution_count": 11,
   "metadata": {},
   "outputs": [],
   "source": [
    "# Enable early stopping based on the loss of validation data\n",
    "es = EarlyStopping(monitor='val_loss', mode='auto', verbose=1, patience=25)"
   ]
  },
  {
   "cell_type": "code",
   "execution_count": 12,
   "metadata": {},
   "outputs": [],
   "source": [
    "# Because it is a simple regression problem, we should custom metrics function\n",
    "from keras import backend as K\n",
    "def rmse(y_true, y_pred):\n",
    "    return K.sqrt(K.mean(K.square(y_pred - y_true), axis = -1))\n",
    "\n",
    "def r_square(y_true, y_pred):\n",
    "    SS_res =  K.sum(K.square(y_true - y_pred)) \n",
    "    SS_tot = K.sum(K.square(y_true - K.mean(y_true))) \n",
    "    return (1 - SS_res/(SS_tot + K.epsilon()))"
   ]
  },
  {
   "cell_type": "code",
   "execution_count": 13,
   "metadata": {},
   "outputs": [
    {
     "name": "stderr",
     "output_type": "stream",
     "text": [
      "W0705 20:23:23.027426 10036 deprecation_wrapper.py:119] From C:\\Users\\mayingzh\\AppData\\Roaming\\Python\\Python36\\site-packages\\keras\\optimizers.py:790: The name tf.train.Optimizer is deprecated. Please use tf.compat.v1.train.Optimizer instead.\n",
      "\n"
     ]
    }
   ],
   "source": [
    "# use mean_squared_error to compile regression model loss\n",
    "model.compile(\n",
    "  optimizer='adam',\n",
    "  loss='mse',\n",
    "  metrics=[rmse, r_square],\n",
    ")"
   ]
  },
  {
   "cell_type": "code",
   "execution_count": 14,
   "metadata": {},
   "outputs": [
    {
     "name": "stderr",
     "output_type": "stream",
     "text": [
      "W0705 20:23:43.079288 10036 deprecation_wrapper.py:119] From C:\\Users\\mayingzh\\AppData\\Roaming\\Python\\Python36\\site-packages\\keras\\backend\\tensorflow_backend.py:986: The name tf.assign_add is deprecated. Please use tf.compat.v1.assign_add instead.\n",
      "\n",
      "W0705 20:23:43.224327 10036 deprecation_wrapper.py:119] From C:\\Users\\mayingzh\\AppData\\Roaming\\Python\\Python36\\site-packages\\keras\\backend\\tensorflow_backend.py:973: The name tf.assign is deprecated. Please use tf.compat.v1.assign instead.\n",
      "\n"
     ]
    },
    {
     "name": "stdout",
     "output_type": "stream",
     "text": [
      "Train on 1247590 samples, validate on 311898 samples\n",
      "Epoch 1/100\n",
      "1247590/1247590 [==============================] - 6s 5us/step - loss: 9.4229 - rmse: 0.8669 - r_square: 0.9537 - val_loss: 0.4624 - val_rmse: 0.4395 - val_r_square: 0.9976\n",
      "Epoch 2/100\n",
      "1247590/1247590 [==============================] - 6s 5us/step - loss: 0.3911 - rmse: 0.3857 - r_square: 0.9980 - val_loss: 0.3830 - val_rmse: 0.3720 - val_r_square: 0.9980\n",
      "Epoch 3/100\n",
      "1247590/1247590 [==============================] - 6s 5us/step - loss: 0.3707 - rmse: 0.3761 - r_square: 0.9981 - val_loss: 0.3912 - val_rmse: 0.3945 - val_r_square: 0.9980\n",
      "Epoch 4/100\n",
      "1247590/1247590 [==============================] - 6s 5us/step - loss: 0.3421 - rmse: 0.3625 - r_square: 0.9982 - val_loss: 0.2950 - val_rmse: 0.3327 - val_r_square: 0.9985\n",
      "Epoch 5/100\n",
      "1247590/1247590 [==============================] - 6s 5us/step - loss: 0.3222 - rmse: 0.3522 - r_square: 0.9983 - val_loss: 0.3065 - val_rmse: 0.3346 - val_r_square: 0.9984\n",
      "Epoch 6/100\n",
      "1247590/1247590 [==============================] - 6s 5us/step - loss: 0.3095 - rmse: 0.3445 - r_square: 0.9984 - val_loss: 0.3459 - val_rmse: 0.3855 - val_r_square: 0.9982\n",
      "Epoch 7/100\n",
      "1247590/1247590 [==============================] - 6s 5us/step - loss: 0.3009 - rmse: 0.3394 - r_square: 0.9984 - val_loss: 0.3612 - val_rmse: 0.4161 - val_r_square: 0.9981\n",
      "Epoch 8/100\n",
      "1247590/1247590 [==============================] - 6s 5us/step - loss: 0.2975 - rmse: 0.3369 - r_square: 0.9985 - val_loss: 0.2673 - val_rmse: 0.3140 - val_r_square: 0.9986\n",
      "Epoch 9/100\n",
      "1247590/1247590 [==============================] - 6s 5us/step - loss: 0.2911 - rmse: 0.3325 - r_square: 0.9985 - val_loss: 0.2552 - val_rmse: 0.3028 - val_r_square: 0.9987\n",
      "Epoch 10/100\n",
      "1247590/1247590 [==============================] - 6s 5us/step - loss: 0.2878 - rmse: 0.3303 - r_square: 0.9985 - val_loss: 0.2642 - val_rmse: 0.3170 - val_r_square: 0.9986\n",
      "Epoch 11/100\n",
      "1247590/1247590 [==============================] - 6s 5us/step - loss: 0.2858 - rmse: 0.3288 - r_square: 0.9985 - val_loss: 0.2993 - val_rmse: 0.3398 - val_r_square: 0.9985\n",
      "Epoch 12/100\n",
      "1247590/1247590 [==============================] - 6s 5us/step - loss: 0.2831 - rmse: 0.3272 - r_square: 0.9985 - val_loss: 0.3027 - val_rmse: 0.3228 - val_r_square: 0.9984\n",
      "Epoch 13/100\n",
      "1247590/1247590 [==============================] - 6s 5us/step - loss: 0.2802 - rmse: 0.3254 - r_square: 0.9985 - val_loss: 0.3043 - val_rmse: 0.3541 - val_r_square: 0.9984\n",
      "Epoch 14/100\n",
      "1247590/1247590 [==============================] - 6s 5us/step - loss: 0.2783 - rmse: 0.3246 - r_square: 0.9986 - val_loss: 0.3029 - val_rmse: 0.3291 - val_r_square: 0.9984\n",
      "Epoch 15/100\n",
      "1247590/1247590 [==============================] - 6s 5us/step - loss: 0.2738 - rmse: 0.3214 - r_square: 0.9986 - val_loss: 0.2709 - val_rmse: 0.3129 - val_r_square: 0.9986\n",
      "Epoch 16/100\n",
      "1247590/1247590 [==============================] - 6s 5us/step - loss: 0.2727 - rmse: 0.3208 - r_square: 0.9986 - val_loss: 0.2543 - val_rmse: 0.3069 - val_r_square: 0.9987\n",
      "Epoch 17/100\n",
      "1247590/1247590 [==============================] - 6s 5us/step - loss: 0.2700 - rmse: 0.3195 - r_square: 0.9986 - val_loss: 0.2480 - val_rmse: 0.3050 - val_r_square: 0.9987\n",
      "Epoch 18/100\n",
      "1247590/1247590 [==============================] - 6s 5us/step - loss: 0.2673 - rmse: 0.3176 - r_square: 0.9986 - val_loss: 0.3012 - val_rmse: 0.3281 - val_r_square: 0.9984\n",
      "Epoch 19/100\n",
      "1247590/1247590 [==============================] - 6s 5us/step - loss: 0.2646 - rmse: 0.3159 - r_square: 0.9986 - val_loss: 0.2567 - val_rmse: 0.3116 - val_r_square: 0.9987\n",
      "Epoch 20/100\n",
      "1247590/1247590 [==============================] - 6s 5us/step - loss: 0.2635 - rmse: 0.3154 - r_square: 0.9986 - val_loss: 0.3033 - val_rmse: 0.3348 - val_r_square: 0.9984\n",
      "Epoch 21/100\n",
      "1247590/1247590 [==============================] - 6s 5us/step - loss: 0.2628 - rmse: 0.3148 - r_square: 0.9986 - val_loss: 0.2607 - val_rmse: 0.3117 - val_r_square: 0.9987\n",
      "Epoch 22/100\n",
      "1247590/1247590 [==============================] - 6s 5us/step - loss: 0.2598 - rmse: 0.3128 - r_square: 0.9986 - val_loss: 0.2447 - val_rmse: 0.3023 - val_r_square: 0.9987\n",
      "Epoch 23/100\n",
      "1247590/1247590 [==============================] - 6s 5us/step - loss: 0.2594 - rmse: 0.3124 - r_square: 0.9987 - val_loss: 0.2664 - val_rmse: 0.3264 - val_r_square: 0.9986\n",
      "Epoch 24/100\n",
      "1247590/1247590 [==============================] - 6s 5us/step - loss: 0.2572 - rmse: 0.3107 - r_square: 0.9987 - val_loss: 0.2793 - val_rmse: 0.3315 - val_r_square: 0.9986\n",
      "Epoch 25/100\n",
      "1247590/1247590 [==============================] - 6s 5us/step - loss: 0.2561 - rmse: 0.3102 - r_square: 0.9987 - val_loss: 0.2523 - val_rmse: 0.2965 - val_r_square: 0.9987\n",
      "Epoch 26/100\n",
      "1247590/1247590 [==============================] - 6s 5us/step - loss: 0.2540 - rmse: 0.3087 - r_square: 0.9987 - val_loss: 0.2560 - val_rmse: 0.3048 - val_r_square: 0.9987\n",
      "Epoch 27/100\n",
      "1247590/1247590 [==============================] - 6s 5us/step - loss: 0.2533 - rmse: 0.3086 - r_square: 0.9987 - val_loss: 0.2629 - val_rmse: 0.3210 - val_r_square: 0.9986\n",
      "Epoch 28/100\n",
      "1247590/1247590 [==============================] - 6s 5us/step - loss: 0.2507 - rmse: 0.3063 - r_square: 0.9987 - val_loss: 0.2369 - val_rmse: 0.2983 - val_r_square: 0.9988\n",
      "Epoch 29/100\n",
      "1247590/1247590 [==============================] - 6s 5us/step - loss: 0.2497 - rmse: 0.3056 - r_square: 0.9987 - val_loss: 0.2379 - val_rmse: 0.2947 - val_r_square: 0.9988\n",
      "Epoch 30/100\n",
      "1247590/1247590 [==============================] - 6s 5us/step - loss: 0.2500 - rmse: 0.3057 - r_square: 0.9987 - val_loss: 0.2576 - val_rmse: 0.3084 - val_r_square: 0.9987\n",
      "Epoch 31/100\n",
      "1247590/1247590 [==============================] - 6s 5us/step - loss: 0.2473 - rmse: 0.3042 - r_square: 0.9987 - val_loss: 0.2252 - val_rmse: 0.2865 - val_r_square: 0.9988\n",
      "Epoch 32/100\n",
      "1247590/1247590 [==============================] - 6s 5us/step - loss: 0.2460 - rmse: 0.3031 - r_square: 0.9987 - val_loss: 0.2520 - val_rmse: 0.2986 - val_r_square: 0.9987\n",
      "Epoch 33/100\n",
      "1247590/1247590 [==============================] - 6s 5us/step - loss: 0.2470 - rmse: 0.3040 - r_square: 0.9987 - val_loss: 0.2325 - val_rmse: 0.2961 - val_r_square: 0.9988\n",
      "Epoch 34/100\n",
      "1247590/1247590 [==============================] - 6s 5us/step - loss: 0.2461 - rmse: 0.3030 - r_square: 0.9987 - val_loss: 0.2348 - val_rmse: 0.2899 - val_r_square: 0.9988\n",
      "Epoch 35/100\n",
      "1247590/1247590 [==============================] - 6s 5us/step - loss: 0.2433 - rmse: 0.3012 - r_square: 0.9987 - val_loss: 0.2540 - val_rmse: 0.3162 - val_r_square: 0.9987\n",
      "Epoch 36/100\n",
      "1247590/1247590 [==============================] - 6s 5us/step - loss: 0.2435 - rmse: 0.3013 - r_square: 0.9987 - val_loss: 0.2437 - val_rmse: 0.2954 - val_r_square: 0.9987\n",
      "Epoch 37/100\n",
      "1247590/1247590 [==============================] - 6s 5us/step - loss: 0.2433 - rmse: 0.3010 - r_square: 0.9987 - val_loss: 0.2424 - val_rmse: 0.2949 - val_r_square: 0.9987\n",
      "Epoch 38/100\n",
      "1247590/1247590 [==============================] - 6s 5us/step - loss: 0.2415 - rmse: 0.2999 - r_square: 0.9987 - val_loss: 0.2783 - val_rmse: 0.3138 - val_r_square: 0.9986\n",
      "Epoch 39/100\n",
      "1247590/1247590 [==============================] - 6s 5us/step - loss: 0.2416 - rmse: 0.2996 - r_square: 0.9987 - val_loss: 0.2354 - val_rmse: 0.2978 - val_r_square: 0.9988\n",
      "Epoch 40/100\n",
      "1247590/1247590 [==============================] - 6s 5us/step - loss: 0.2404 - rmse: 0.2987 - r_square: 0.9988 - val_loss: 0.2401 - val_rmse: 0.3077 - val_r_square: 0.9988\n",
      "Epoch 41/100\n",
      "1247590/1247590 [==============================] - 6s 5us/step - loss: 0.2409 - rmse: 0.2993 - r_square: 0.9987 - val_loss: 0.2285 - val_rmse: 0.2953 - val_r_square: 0.9988\n",
      "Epoch 42/100\n",
      "1247590/1247590 [==============================] - 6s 5us/step - loss: 0.2383 - rmse: 0.2973 - r_square: 0.9988 - val_loss: 0.2996 - val_rmse: 0.3345 - val_r_square: 0.9985\n",
      "Epoch 43/100\n",
      "1247590/1247590 [==============================] - 6s 5us/step - loss: 0.2368 - rmse: 0.2964 - r_square: 0.9988 - val_loss: 0.2246 - val_rmse: 0.2796 - val_r_square: 0.9988\n",
      "Epoch 44/100\n",
      "1247590/1247590 [==============================] - 6s 5us/step - loss: 0.2360 - rmse: 0.2958 - r_square: 0.9988 - val_loss: 0.2202 - val_rmse: 0.2850 - val_r_square: 0.9989\n"
     ]
    },
    {
     "name": "stdout",
     "output_type": "stream",
     "text": [
      "Epoch 45/100\n",
      "1247590/1247590 [==============================] - 6s 5us/step - loss: 0.2353 - rmse: 0.2953 - r_square: 0.9988 - val_loss: 0.2466 - val_rmse: 0.2979 - val_r_square: 0.9987\n",
      "Epoch 46/100\n",
      "1247590/1247590 [==============================] - 6s 5us/step - loss: 0.2339 - rmse: 0.2946 - r_square: 0.9988 - val_loss: 0.2496 - val_rmse: 0.3010 - val_r_square: 0.9987\n",
      "Epoch 47/100\n",
      "1247590/1247590 [==============================] - 6s 5us/step - loss: 0.2342 - rmse: 0.2946 - r_square: 0.9988 - val_loss: 0.2249 - val_rmse: 0.2827 - val_r_square: 0.9988\n",
      "Epoch 48/100\n",
      "1247590/1247590 [==============================] - 6s 5us/step - loss: 0.2315 - rmse: 0.2929 - r_square: 0.9988 - val_loss: 0.2289 - val_rmse: 0.2867 - val_r_square: 0.9988\n",
      "Epoch 49/100\n",
      "1247590/1247590 [==============================] - 6s 5us/step - loss: 0.2321 - rmse: 0.2935 - r_square: 0.9988 - val_loss: 0.2386 - val_rmse: 0.3001 - val_r_square: 0.9988\n",
      "Epoch 50/100\n",
      "1247590/1247590 [==============================] - 6s 5us/step - loss: 0.2317 - rmse: 0.2933 - r_square: 0.9988 - val_loss: 0.2303 - val_rmse: 0.2944 - val_r_square: 0.9988\n",
      "Epoch 51/100\n",
      "1247590/1247590 [==============================] - 6s 5us/step - loss: 0.2312 - rmse: 0.2929 - r_square: 0.9988 - val_loss: 0.2584 - val_rmse: 0.3166 - val_r_square: 0.9987\n",
      "Epoch 52/100\n",
      "1247590/1247590 [==============================] - 6s 5us/step - loss: 0.2298 - rmse: 0.2922 - r_square: 0.9988 - val_loss: 0.2265 - val_rmse: 0.2966 - val_r_square: 0.9988\n",
      "Epoch 53/100\n",
      "1247590/1247590 [==============================] - 6s 5us/step - loss: 0.2288 - rmse: 0.2913 - r_square: 0.9988 - val_loss: 0.2460 - val_rmse: 0.3010 - val_r_square: 0.9987\n",
      "Epoch 54/100\n",
      "1247590/1247590 [==============================] - 6s 5us/step - loss: 0.2281 - rmse: 0.2907 - r_square: 0.9988 - val_loss: 0.2283 - val_rmse: 0.3025 - val_r_square: 0.9988\n",
      "Epoch 55/100\n",
      "1247590/1247590 [==============================] - 6s 5us/step - loss: 0.2272 - rmse: 0.2904 - r_square: 0.9988 - val_loss: 0.2110 - val_rmse: 0.2795 - val_r_square: 0.9989\n",
      "Epoch 56/100\n",
      "1247590/1247590 [==============================] - 6s 5us/step - loss: 0.2264 - rmse: 0.2898 - r_square: 0.9988 - val_loss: 0.2566 - val_rmse: 0.3163 - val_r_square: 0.9987\n",
      "Epoch 57/100\n",
      "1247590/1247590 [==============================] - 6s 5us/step - loss: 0.2259 - rmse: 0.2897 - r_square: 0.9988 - val_loss: 0.2287 - val_rmse: 0.2908 - val_r_square: 0.9988\n",
      "Epoch 58/100\n",
      "1247590/1247590 [==============================] - 6s 5us/step - loss: 0.2255 - rmse: 0.2896 - r_square: 0.9988 - val_loss: 0.2459 - val_rmse: 0.3004 - val_r_square: 0.9987\n",
      "Epoch 59/100\n",
      "1247590/1247590 [==============================] - 6s 5us/step - loss: 0.2238 - rmse: 0.2879 - r_square: 0.9988 - val_loss: 0.2227 - val_rmse: 0.2942 - val_r_square: 0.9988\n",
      "Epoch 60/100\n",
      "1247590/1247590 [==============================] - 6s 5us/step - loss: 0.2235 - rmse: 0.2881 - r_square: 0.9988 - val_loss: 0.2131 - val_rmse: 0.2741 - val_r_square: 0.9989\n",
      "Epoch 61/100\n",
      "1247590/1247590 [==============================] - 6s 5us/step - loss: 0.2224 - rmse: 0.2873 - r_square: 0.9988 - val_loss: 0.2106 - val_rmse: 0.2796 - val_r_square: 0.9989\n",
      "Epoch 62/100\n",
      "1247590/1247590 [==============================] - 6s 5us/step - loss: 0.2224 - rmse: 0.2874 - r_square: 0.9988 - val_loss: 0.2538 - val_rmse: 0.3163 - val_r_square: 0.9987\n",
      "Epoch 63/100\n",
      "1247590/1247590 [==============================] - 6s 5us/step - loss: 0.2214 - rmse: 0.2867 - r_square: 0.9988 - val_loss: 0.2305 - val_rmse: 0.2945 - val_r_square: 0.9988\n",
      "Epoch 64/100\n",
      "1247590/1247590 [==============================] - 6s 5us/step - loss: 0.2200 - rmse: 0.2857 - r_square: 0.9989 - val_loss: 0.2330 - val_rmse: 0.3019 - val_r_square: 0.9988\n",
      "Epoch 65/100\n",
      "1247590/1247590 [==============================] - 6s 5us/step - loss: 0.2211 - rmse: 0.2864 - r_square: 0.9989 - val_loss: 0.2332 - val_rmse: 0.2908 - val_r_square: 0.9988\n",
      "Epoch 66/100\n",
      "1247590/1247590 [==============================] - 6s 5us/step - loss: 0.2208 - rmse: 0.2864 - r_square: 0.9989 - val_loss: 0.2141 - val_rmse: 0.2768 - val_r_square: 0.9989\n",
      "Epoch 67/100\n",
      "1247590/1247590 [==============================] - 6s 5us/step - loss: 0.2197 - rmse: 0.2856 - r_square: 0.9989 - val_loss: 0.2322 - val_rmse: 0.3022 - val_r_square: 0.9988\n",
      "Epoch 68/100\n",
      "1247590/1247590 [==============================] - 6s 5us/step - loss: 0.2194 - rmse: 0.2853 - r_square: 0.9989 - val_loss: 0.2331 - val_rmse: 0.3023 - val_r_square: 0.9988\n",
      "Epoch 69/100\n",
      "1247590/1247590 [==============================] - 6s 5us/step - loss: 0.2183 - rmse: 0.2846 - r_square: 0.9989 - val_loss: 0.2056 - val_rmse: 0.2718 - val_r_square: 0.9989\n",
      "Epoch 70/100\n",
      "1247590/1247590 [==============================] - 6s 5us/step - loss: 0.2181 - rmse: 0.2844 - r_square: 0.9989 - val_loss: 0.2122 - val_rmse: 0.2799 - val_r_square: 0.9989\n",
      "Epoch 71/100\n",
      "1247590/1247590 [==============================] - 6s 5us/step - loss: 0.2169 - rmse: 0.2837 - r_square: 0.9989 - val_loss: 0.2231 - val_rmse: 0.2950 - val_r_square: 0.9988\n",
      "Epoch 72/100\n",
      "1247590/1247590 [==============================] - 6s 5us/step - loss: 0.2170 - rmse: 0.2837 - r_square: 0.9989 - val_loss: 0.2123 - val_rmse: 0.2820 - val_r_square: 0.9989\n",
      "Epoch 73/100\n",
      "1247590/1247590 [==============================] - 6s 5us/step - loss: 0.2166 - rmse: 0.2836 - r_square: 0.9989 - val_loss: 0.2292 - val_rmse: 0.2985 - val_r_square: 0.9988\n",
      "Epoch 74/100\n",
      "1247590/1247590 [==============================] - 6s 5us/step - loss: 0.2172 - rmse: 0.2840 - r_square: 0.9989 - val_loss: 0.2156 - val_rmse: 0.2907 - val_r_square: 0.9989\n",
      "Epoch 75/100\n",
      "1247590/1247590 [==============================] - 6s 5us/step - loss: 0.2158 - rmse: 0.2830 - r_square: 0.9989 - val_loss: 0.2288 - val_rmse: 0.2924 - val_r_square: 0.9988\n",
      "Epoch 76/100\n",
      "1247590/1247590 [==============================] - 6s 5us/step - loss: 0.2162 - rmse: 0.2832 - r_square: 0.9989 - val_loss: 0.2079 - val_rmse: 0.2767 - val_r_square: 0.9989\n",
      "Epoch 77/100\n",
      "1247590/1247590 [==============================] - 6s 5us/step - loss: 0.2159 - rmse: 0.2830 - r_square: 0.9989 - val_loss: 0.2110 - val_rmse: 0.2783 - val_r_square: 0.9989\n",
      "Epoch 78/100\n",
      "1247590/1247590 [==============================] - 6s 5us/step - loss: 0.2145 - rmse: 0.2821 - r_square: 0.9989 - val_loss: 0.2116 - val_rmse: 0.2739 - val_r_square: 0.9989\n",
      "Epoch 79/100\n",
      "1247590/1247590 [==============================] - 6s 5us/step - loss: 0.2145 - rmse: 0.2820 - r_square: 0.9989 - val_loss: 0.2276 - val_rmse: 0.2889 - val_r_square: 0.9988\n",
      "Epoch 80/100\n",
      "1247590/1247590 [==============================] - 6s 5us/step - loss: 0.2138 - rmse: 0.2816 - r_square: 0.9989 - val_loss: 0.2118 - val_rmse: 0.2811 - val_r_square: 0.9989\n",
      "Epoch 81/100\n",
      "1247590/1247590 [==============================] - 6s 5us/step - loss: 0.2135 - rmse: 0.2811 - r_square: 0.9989 - val_loss: 0.2498 - val_rmse: 0.3117 - val_r_square: 0.9987\n",
      "Epoch 82/100\n",
      "1247590/1247590 [==============================] - 6s 5us/step - loss: 0.2141 - rmse: 0.2819 - r_square: 0.9989 - val_loss: 0.2149 - val_rmse: 0.2807 - val_r_square: 0.9989\n",
      "Epoch 83/100\n",
      "1247590/1247590 [==============================] - 6s 5us/step - loss: 0.2141 - rmse: 0.2818 - r_square: 0.9989 - val_loss: 0.2053 - val_rmse: 0.2769 - val_r_square: 0.9989\n",
      "Epoch 84/100\n",
      "1247590/1247590 [==============================] - 6s 5us/step - loss: 0.2126 - rmse: 0.2808 - r_square: 0.9989 - val_loss: 0.2086 - val_rmse: 0.2780 - val_r_square: 0.9989\n",
      "Epoch 85/100\n",
      "1247590/1247590 [==============================] - 6s 5us/step - loss: 0.2127 - rmse: 0.2808 - r_square: 0.9989 - val_loss: 0.2059 - val_rmse: 0.2761 - val_r_square: 0.9989\n",
      "Epoch 86/100\n",
      "1247590/1247590 [==============================] - 6s 5us/step - loss: 0.2127 - rmse: 0.2807 - r_square: 0.9989 - val_loss: 0.2291 - val_rmse: 0.2887 - val_r_square: 0.9988\n",
      "Epoch 87/100\n",
      "1247590/1247590 [==============================] - 6s 5us/step - loss: 0.2113 - rmse: 0.2798 - r_square: 0.9989 - val_loss: 0.2319 - val_rmse: 0.2957 - val_r_square: 0.9988\n",
      "Epoch 88/100\n",
      "1247590/1247590 [==============================] - 6s 5us/step - loss: 0.2116 - rmse: 0.2801 - r_square: 0.9989 - val_loss: 0.2569 - val_rmse: 0.2960 - val_r_square: 0.9987\n",
      "Epoch 89/100\n"
     ]
    },
    {
     "name": "stdout",
     "output_type": "stream",
     "text": [
      "1247590/1247590 [==============================] - 6s 5us/step - loss: 0.2118 - rmse: 0.2803 - r_square: 0.9989 - val_loss: 0.2270 - val_rmse: 0.2798 - val_r_square: 0.9988\n",
      "Epoch 90/100\n",
      "1247590/1247590 [==============================] - 6s 5us/step - loss: 0.2113 - rmse: 0.2796 - r_square: 0.9989 - val_loss: 0.2018 - val_rmse: 0.2669 - val_r_square: 0.9990\n",
      "Epoch 91/100\n",
      "1247590/1247590 [==============================] - 6s 5us/step - loss: 0.2107 - rmse: 0.2794 - r_square: 0.9989 - val_loss: 0.2053 - val_rmse: 0.2714 - val_r_square: 0.9989\n",
      "Epoch 92/100\n",
      "1247590/1247590 [==============================] - 6s 5us/step - loss: 0.2103 - rmse: 0.2790 - r_square: 0.9989 - val_loss: 0.2350 - val_rmse: 0.2901 - val_r_square: 0.9988\n",
      "Epoch 93/100\n",
      "1247590/1247590 [==============================] - 6s 5us/step - loss: 0.2102 - rmse: 0.2790 - r_square: 0.9989 - val_loss: 0.2180 - val_rmse: 0.2906 - val_r_square: 0.9989\n",
      "Epoch 94/100\n",
      "1247590/1247590 [==============================] - 6s 5us/step - loss: 0.2099 - rmse: 0.2790 - r_square: 0.9989 - val_loss: 0.2175 - val_rmse: 0.2960 - val_r_square: 0.9989\n",
      "Epoch 95/100\n",
      "1247590/1247590 [==============================] - 6s 5us/step - loss: 0.2109 - rmse: 0.2796 - r_square: 0.9989 - val_loss: 0.2255 - val_rmse: 0.2879 - val_r_square: 0.9988\n",
      "Epoch 96/100\n",
      "1247590/1247590 [==============================] - 6s 5us/step - loss: 0.2091 - rmse: 0.2783 - r_square: 0.9989 - val_loss: 0.2228 - val_rmse: 0.2810 - val_r_square: 0.9988\n",
      "Epoch 97/100\n",
      "1247590/1247590 [==============================] - 6s 5us/step - loss: 0.2093 - rmse: 0.2783 - r_square: 0.9989 - val_loss: 0.1990 - val_rmse: 0.2712 - val_r_square: 0.9990\n",
      "Epoch 98/100\n",
      "1247590/1247590 [==============================] - 6s 5us/step - loss: 0.2096 - rmse: 0.2785 - r_square: 0.9989 - val_loss: 0.2030 - val_rmse: 0.2662 - val_r_square: 0.9989\n",
      "Epoch 99/100\n",
      "1247590/1247590 [==============================] - 6s 5us/step - loss: 0.2084 - rmse: 0.2776 - r_square: 0.9989 - val_loss: 0.2101 - val_rmse: 0.2810 - val_r_square: 0.9989\n",
      "Epoch 100/100\n",
      "1247590/1247590 [==============================] - 6s 5us/step - loss: 0.2083 - rmse: 0.2777 - r_square: 0.9989 - val_loss: 0.2033 - val_rmse: 0.2818 - val_r_square: 0.9989\n"
     ]
    }
   ],
   "source": [
    "# fit the model\n",
    "result = model.fit(XX_train, \n",
    "                   yy_train,\n",
    "                   epochs = 100,\n",
    "                   batch_size=256,\n",
    "                   validation_data=(XX_validation, yy_validation),\n",
    "                   callbacks = [es]\n",
    "                  )"
   ]
  },
  {
   "cell_type": "code",
   "execution_count": 20,
   "metadata": {},
   "outputs": [],
   "source": [
    "model.save('model3.h5')"
   ]
  },
  {
   "cell_type": "code",
   "execution_count": 15,
   "metadata": {},
   "outputs": [
    {
     "name": "stdout",
     "output_type": "stream",
     "text": [
      "[[4.4757307e-02]\n",
      " [8.6236984e-02]\n",
      " [1.0375798e+00]\n",
      " [1.8603920e+00]\n",
      " [1.1812827e-01]\n",
      " [1.3241207e+01]\n",
      " [3.0101727e+01]\n",
      " [8.8977137e+00]\n",
      " [9.4007206e+00]\n",
      " [4.9212929e+01]]\n"
     ]
    }
   ],
   "source": [
    "predictions = model.predict(X_test)\n",
    "print(predictions[:10])"
   ]
  },
  {
   "cell_type": "code",
   "execution_count": 16,
   "metadata": {},
   "outputs": [
    {
     "data": {
      "text/plain": [
       "593616      0.02\n",
       "1410840     0.12\n",
       "1300486     1.12\n",
       "734479      1.50\n",
       "350525      0.04\n",
       "1653947    12.55\n",
       "1085111    30.55\n",
       "1093566     8.30\n",
       "224536      9.40\n",
       "279697     50.65\n",
       "Name: best_offer, dtype: float64"
      ]
     },
     "execution_count": 16,
     "metadata": {},
     "output_type": "execute_result"
    }
   ],
   "source": [
    "y_test[:10]"
   ]
  },
  {
   "cell_type": "markdown",
   "metadata": {},
   "source": [
    "## Plot learning curves including R^2 and RMSE"
   ]
  },
  {
   "cell_type": "code",
   "execution_count": 17,
   "metadata": {},
   "outputs": [
    {
     "data": {
      "image/png": "[encoded data removed]",
      "text/plain": [
       "<Figure size 432x288 with 1 Axes>"
      ]
     },
     "metadata": {},
     "output_type": "display_data"
    }
   ],
   "source": [
    "# plot training curve for rmse\n",
    "plt.plot(result.history['rmse'])\n",
    "plt.plot(result.history['val_rmse'])\n",
    "plt.title('rmse')\n",
    "plt.ylabel('rmse')\n",
    "plt.xlabel('epoch')\n",
    "plt.legend(['train', 'validation'], loc='upper right')\n",
    "plt.show()"
   ]
  },
  {
   "cell_type": "code",
   "execution_count": 18,
   "metadata": {},
   "outputs": [
    {
     "data": {
      "image/png": "[encoded data removed]",
      "text/plain": [
       "<Figure size 432x288 with 1 Axes>"
      ]
     },
     "metadata": {},
     "output_type": "display_data"
    }
   ],
   "source": [
    "# plot training curve for R^2\n",
    "plt.plot(result.history['r_square'])\n",
    "plt.plot(result.history['val_r_square'])\n",
    "plt.title('model R^2')\n",
    "plt.ylabel('R^2')\n",
    "plt.xlabel('epoch')\n",
    "plt.legend(['train', 'validation'], loc='lower right')\n",
    "plt.show()"
   ]
  },
  {
   "cell_type": "code",
   "execution_count": 19,
   "metadata": {},
   "outputs": [
    {
     "name": "stdout",
     "output_type": "stream",
     "text": [
      "\n",
      "\n",
      "Mean absolute error (MAE):      0.280542\n",
      "Mean squared error (MSE):       0.201587\n",
      "Root mean squared error (RMSE): 0.448984\n",
      "R square (R^2):                 0.999020\n"
     ]
    }
   ],
   "source": [
    "import sklearn.metrics as skm, math\n",
    "print(\"\\n\")\n",
    "print(\"Mean absolute error (MAE):      %f\" % skm.mean_absolute_error(y_test,predictions))\n",
    "print(\"Mean squared error (MSE):       %f\" % skm.mean_squared_error(y_test,predictions))\n",
    "print(\"Root mean squared error (RMSE): %f\" % math.sqrt(skm.mean_squared_error(y_test,predictions)))\n",
    "print(\"R square (R^2):                 %f\" % skm.r2_score(y_test,predictions))"
   ]
  },
  {
   "cell_type": "markdown",
   "metadata": {},
   "source": [
    "## Try dropout"
   ]
  },
  {
   "cell_type": "code",
   "execution_count": 21,
   "metadata": {},
   "outputs": [
    {
     "name": "stderr",
     "output_type": "stream",
     "text": [
      "W0705 20:40:05.340076 10036 deprecation.py:506] From C:\\Users\\mayingzh\\AppData\\Roaming\\Python\\Python36\\site-packages\\keras\\backend\\tensorflow_backend.py:3445: calling dropout (from tensorflow.python.ops.nn_ops) with keep_prob is deprecated and will be removed in a future version.\n",
      "Instructions for updating:\n",
      "Please use `rate` instead of `keep_prob`. Rate should be set to `rate = 1 - keep_prob`.\n"
     ]
    },
    {
     "name": "stdout",
     "output_type": "stream",
     "text": [
      "Train on 1247590 samples, validate on 311898 samples\n",
      "Epoch 1/100\n",
      "1247590/1247590 [==============================] - 7s 6us/step - loss: 11.4388 - rmse: 1.3180 - r_square: 0.9420 - val_loss: 0.5858 - val_rmse: 0.4638 - val_r_square: 0.9970\n",
      "Epoch 2/100\n",
      "1247590/1247590 [==============================] - 7s 6us/step - loss: 1.3110 - rmse: 0.6532 - r_square: 0.9934 - val_loss: 0.9249 - val_rmse: 0.6207 - val_r_square: 0.9953\n",
      "Epoch 3/100\n",
      "1247590/1247590 [==============================] - 7s 6us/step - loss: 0.8679 - rmse: 0.5480 - r_square: 0.9956 - val_loss: 1.1892 - val_rmse: 0.6683 - val_r_square: 0.9941\n",
      "Epoch 4/100\n",
      "1247590/1247590 [==============================] - 7s 5us/step - loss: 0.6364 - rmse: 0.4771 - r_square: 0.9967 - val_loss: 1.4994 - val_rmse: 0.6939 - val_r_square: 0.9926\n",
      "Epoch 5/100\n",
      "1247590/1247590 [==============================] - 7s 5us/step - loss: 0.5191 - rmse: 0.4367 - r_square: 0.9973 - val_loss: 1.7003 - val_rmse: 0.6712 - val_r_square: 0.9917\n",
      "Epoch 6/100\n",
      "1247590/1247590 [==============================] - 7s 5us/step - loss: 0.4572 - rmse: 0.4125 - r_square: 0.9976 - val_loss: 2.7064 - val_rmse: 0.8193 - val_r_square: 0.9867\n",
      "Epoch 7/100\n",
      "1247590/1247590 [==============================] - 7s 5us/step - loss: 0.4251 - rmse: 0.3979 - r_square: 0.9978 - val_loss: 1.8281 - val_rmse: 0.7315 - val_r_square: 0.9910\n",
      "Epoch 8/100\n",
      "1247590/1247590 [==============================] - 7s 5us/step - loss: 0.3998 - rmse: 0.3853 - r_square: 0.9979 - val_loss: 2.3602 - val_rmse: 0.7685 - val_r_square: 0.9884\n",
      "Epoch 9/100\n",
      "1247590/1247590 [==============================] - 7s 5us/step - loss: 0.3828 - rmse: 0.3777 - r_square: 0.9980 - val_loss: 2.2067 - val_rmse: 0.7325 - val_r_square: 0.9891\n",
      "Epoch 10/100\n",
      "1247590/1247590 [==============================] - 7s 6us/step - loss: 0.3725 - rmse: 0.3722 - r_square: 0.9981 - val_loss: 2.5095 - val_rmse: 0.8494 - val_r_square: 0.9876\n",
      "Epoch 11/100\n",
      "1247590/1247590 [==============================] - 7s 6us/step - loss: 0.3636 - rmse: 0.3676 - r_square: 0.9981 - val_loss: 2.3070 - val_rmse: 0.7931 - val_r_square: 0.9886\n",
      "Epoch 12/100\n",
      "1247590/1247590 [==============================] - 8s 6us/step - loss: 0.3514 - rmse: 0.3617 - r_square: 0.9982 - val_loss: 2.6403 - val_rmse: 0.7872 - val_r_square: 0.9870\n",
      "Epoch 13/100\n",
      "1247590/1247590 [==============================] - 7s 6us/step - loss: 0.3461 - rmse: 0.3591 - r_square: 0.9982 - val_loss: 2.7071 - val_rmse: 0.8180 - val_r_square: 0.9867\n",
      "Epoch 14/100\n",
      "1247590/1247590 [==============================] - 7s 6us/step - loss: 0.3409 - rmse: 0.3559 - r_square: 0.9982 - val_loss: 2.6415 - val_rmse: 0.7995 - val_r_square: 0.9870\n",
      "Epoch 15/100\n",
      "1247590/1247590 [==============================] - 7s 6us/step - loss: 0.3348 - rmse: 0.3526 - r_square: 0.9983 - val_loss: 2.4289 - val_rmse: 0.7552 - val_r_square: 0.9880\n",
      "Epoch 16/100\n",
      "1247590/1247590 [==============================] - 7s 5us/step - loss: 0.3334 - rmse: 0.3514 - r_square: 0.9983 - val_loss: 2.6500 - val_rmse: 0.8036 - val_r_square: 0.9870\n",
      "Epoch 17/100\n",
      "1247590/1247590 [==============================] - 7s 6us/step - loss: 0.3299 - rmse: 0.3497 - r_square: 0.9983 - val_loss: 2.9185 - val_rmse: 0.8612 - val_r_square: 0.9856\n",
      "Epoch 18/100\n",
      "1247590/1247590 [==============================] - 7s 6us/step - loss: 0.3261 - rmse: 0.3477 - r_square: 0.9983 - val_loss: 2.8144 - val_rmse: 0.8288 - val_r_square: 0.9861\n",
      "Epoch 19/100\n",
      "1247590/1247590 [==============================] - 7s 6us/step - loss: 0.3236 - rmse: 0.3460 - r_square: 0.9983 - val_loss: 3.2207 - val_rmse: 0.9109 - val_r_square: 0.9841\n",
      "Epoch 20/100\n",
      "1247590/1247590 [==============================] - 7s 6us/step - loss: 0.3197 - rmse: 0.3442 - r_square: 0.9983 - val_loss: 2.7493 - val_rmse: 0.8229 - val_r_square: 0.9865\n",
      "Epoch 21/100\n",
      "1247590/1247590 [==============================] - 7s 6us/step - loss: 0.3178 - rmse: 0.3428 - r_square: 0.9984 - val_loss: 3.2021 - val_rmse: 0.8650 - val_r_square: 0.9842\n",
      "Epoch 22/100\n",
      "1247590/1247590 [==============================] - 7s 6us/step - loss: 0.3166 - rmse: 0.3425 - r_square: 0.9984 - val_loss: 3.1321 - val_rmse: 0.8698 - val_r_square: 0.9846\n",
      "Epoch 23/100\n",
      "1247590/1247590 [==============================] - 7s 6us/step - loss: 0.3121 - rmse: 0.3393 - r_square: 0.9984 - val_loss: 3.0379 - val_rmse: 0.8644 - val_r_square: 0.9850\n",
      "Epoch 24/100\n",
      "1247590/1247590 [==============================] - 7s 6us/step - loss: 0.3112 - rmse: 0.3387 - r_square: 0.9984 - val_loss: 3.0640 - val_rmse: 0.8612 - val_r_square: 0.9849\n",
      "Epoch 25/100\n",
      "1247590/1247590 [==============================] - 7s 6us/step - loss: 0.3079 - rmse: 0.3371 - r_square: 0.9984 - val_loss: 2.8795 - val_rmse: 0.8403 - val_r_square: 0.9858\n",
      "Epoch 26/100\n",
      "1247590/1247590 [==============================] - 7s 6us/step - loss: 0.3065 - rmse: 0.3367 - r_square: 0.9984 - val_loss: 2.8004 - val_rmse: 0.8264 - val_r_square: 0.9862\n",
      "Epoch 00026: early stopping\n"
     ]
    }
   ],
   "source": [
    "model2 = Sequential([\n",
    "    Dense(64, activation='relu', input_shape=(6,)),\n",
    "    Dropout(0.1),\n",
    "    Dense(128, activation='relu'),\n",
    "    Dense(64, activation='relu'),\n",
    "    Dense(1, activation='linear'),\n",
    "])\n",
    "model2.compile(\n",
    "  optimizer='adam',\n",
    "  loss='mse',\n",
    "  metrics=[rmse, r_square],\n",
    ")\n",
    "# fit the model\n",
    "result2 = model2.fit(XX_train, \n",
    "                   yy_train,\n",
    "                   epochs = 100,\n",
    "                   batch_size=256,\n",
    "                   validation_data=(XX_validation, yy_validation),\n",
    "                   callbacks = [es]\n",
    "                  )"
   ]
  },
  {
   "cell_type": "code",
   "execution_count": 22,
   "metadata": {},
   "outputs": [
    {
     "name": "stdout",
     "output_type": "stream",
     "text": [
      "[[2.3238823e-02]\n",
      " [9.9141829e-02]\n",
      " [9.3901718e-01]\n",
      " [2.3249245e+00]\n",
      " [1.9514221e-01]\n",
      " [1.1731058e+01]\n",
      " [2.7127060e+01]\n",
      " [8.1401424e+00]\n",
      " [8.2319689e+00]\n",
      " [4.4056717e+01]]\n",
      "\n",
      "\n",
      "Mean absolute error (MAE):      0.824509\n",
      "Mean squared error (MSE):       2.804126\n",
      "Root mean squared error (RMSE): 1.674553\n",
      "R square (R^2):                 0.986366\n"
     ]
    }
   ],
   "source": [
    "predictions2 = model2.predict(X_test)\n",
    "print(predictions2[:10])\n",
    "print(\"\\n\")\n",
    "print(\"Mean absolute error (MAE):      %f\" % skm.mean_absolute_error(y_test,predictions2))\n",
    "print(\"Mean squared error (MSE):       %f\" % skm.mean_squared_error(y_test,predictions2))\n",
    "print(\"Root mean squared error (RMSE): %f\" % math.sqrt(skm.mean_squared_error(y_test,predictions2)))\n",
    "print(\"R square (R^2):                 %f\" % skm.r2_score(y_test,predictions2))"
   ]
  },
  {
   "cell_type": "code",
   "execution_count": null,
   "metadata": {},
   "outputs": [],
   "source": []
  },
  {
   "cell_type": "code",
   "execution_count": null,
   "metadata": {},
   "outputs": [],
   "source": []
  },
  {
   "cell_type": "code",
   "execution_count": null,
   "metadata": {},
   "outputs": [],
   "source": []
  },
  {
   "cell_type": "markdown",
   "metadata": {},
   "source": [
    "## Try batch normalization technique to regularize neurons"
   ]
  },
  {
   "cell_type": "code",
   "execution_count": 25,
   "metadata": {},
   "outputs": [
    {
     "name": "stdout",
     "output_type": "stream",
     "text": [
      "Train on 1247590 samples, validate on 311898 samples\n",
      "Epoch 1/100\n",
      "1247590/1247590 [==============================] - 8s 6us/step - loss: 7.9399 - rmse: 1.2601 - r_square: 0.9605 - val_loss: 0.6608 - val_rmse: 0.5444 - val_r_square: 0.9966\n",
      "Epoch 2/100\n",
      "1247590/1247590 [==============================] - 7s 6us/step - loss: 3.4927 - rmse: 1.0205 - r_square: 0.9823 - val_loss: 1.1085 - val_rmse: 0.6601 - val_r_square: 0.9943\n",
      "Epoch 3/100\n",
      "1247590/1247590 [==============================] - 7s 6us/step - loss: 3.2452 - rmse: 0.9784 - r_square: 0.9837 - val_loss: 0.9889 - val_rmse: 0.5816 - val_r_square: 0.9949\n",
      "Epoch 4/100\n",
      "1247590/1247590 [==============================] - 7s 6us/step - loss: 3.3106 - rmse: 0.9762 - r_square: 0.9832 - val_loss: 0.9306 - val_rmse: 0.6041 - val_r_square: 0.9952\n",
      "Epoch 5/100\n",
      "1247590/1247590 [==============================] - 7s 6us/step - loss: 3.1642 - rmse: 0.9477 - r_square: 0.9839 - val_loss: 1.7566 - val_rmse: 0.7734 - val_r_square: 0.9910\n",
      "Epoch 6/100\n",
      "1247590/1247590 [==============================] - 7s 6us/step - loss: 3.1690 - rmse: 0.9471 - r_square: 0.9839 - val_loss: 0.7561 - val_rmse: 0.5119 - val_r_square: 0.9962\n",
      "Epoch 7/100\n",
      "1247590/1247590 [==============================] - 7s 6us/step - loss: 3.1032 - rmse: 0.9345 - r_square: 0.9843 - val_loss: 0.3948 - val_rmse: 0.4094 - val_r_square: 0.9980\n",
      "Epoch 8/100\n",
      "1247590/1247590 [==============================] - 7s 6us/step - loss: 3.0714 - rmse: 0.9286 - r_square: 0.9844 - val_loss: 1.3250 - val_rmse: 0.6492 - val_r_square: 0.9932\n",
      "Epoch 9/100\n",
      "1247590/1247590 [==============================] - 7s 6us/step - loss: 3.1131 - rmse: 0.9313 - r_square: 0.9841 - val_loss: 0.4398 - val_rmse: 0.4060 - val_r_square: 0.9977\n",
      "Epoch 10/100\n",
      "1247590/1247590 [==============================] - 7s 6us/step - loss: 3.0870 - rmse: 0.9237 - r_square: 0.9845 - val_loss: 1.0548 - val_rmse: 0.5813 - val_r_square: 0.9946\n",
      "Epoch 11/100\n",
      "1247590/1247590 [==============================] - 7s 6us/step - loss: 3.0601 - rmse: 0.9204 - r_square: 0.9845 - val_loss: 0.5147 - val_rmse: 0.4200 - val_r_square: 0.9974\n",
      "Epoch 12/100\n",
      "1247590/1247590 [==============================] - 7s 6us/step - loss: 3.0370 - rmse: 0.9188 - r_square: 0.9846 - val_loss: 0.3951 - val_rmse: 0.4113 - val_r_square: 0.9980\n",
      "Epoch 13/100\n",
      "1247590/1247590 [==============================] - 7s 6us/step - loss: 2.9985 - rmse: 0.9129 - r_square: 0.9849 - val_loss: 0.4580 - val_rmse: 0.3979 - val_r_square: 0.9977\n",
      "Epoch 14/100\n",
      "1247590/1247590 [==============================] - 7s 6us/step - loss: 3.0195 - rmse: 0.9160 - r_square: 0.9847 - val_loss: 0.3900 - val_rmse: 0.3924 - val_r_square: 0.9980\n",
      "Epoch 15/100\n",
      "1247590/1247590 [==============================] - 7s 6us/step - loss: 2.9993 - rmse: 0.9095 - r_square: 0.9848 - val_loss: 0.9902 - val_rmse: 0.5824 - val_r_square: 0.9950\n",
      "Epoch 16/100\n",
      "1247590/1247590 [==============================] - 7s 6us/step - loss: 2.9297 - rmse: 0.9029 - r_square: 0.9852 - val_loss: 0.6269 - val_rmse: 0.4838 - val_r_square: 0.9968\n",
      "Epoch 17/100\n",
      "1247590/1247590 [==============================] - 7s 6us/step - loss: 3.0478 - rmse: 0.9178 - r_square: 0.9845 - val_loss: 0.5036 - val_rmse: 0.4202 - val_r_square: 0.9974\n",
      "Epoch 18/100\n",
      "1247590/1247590 [==============================] - 7s 6us/step - loss: 2.9631 - rmse: 0.9081 - r_square: 0.9850 - val_loss: 0.4166 - val_rmse: 0.3753 - val_r_square: 0.9979\n",
      "Epoch 19/100\n",
      "1247590/1247590 [==============================] - 7s 6us/step - loss: 3.0472 - rmse: 0.9135 - r_square: 0.9847 - val_loss: 0.3527 - val_rmse: 0.3787 - val_r_square: 0.9982\n",
      "Epoch 20/100\n",
      "1247590/1247590 [==============================] - 8s 6us/step - loss: 2.9593 - rmse: 0.9030 - r_square: 0.9850 - val_loss: 0.6343 - val_rmse: 0.4478 - val_r_square: 0.9968\n",
      "Epoch 21/100\n",
      "1247590/1247590 [==============================] - 7s 6us/step - loss: 3.0322 - rmse: 0.9130 - r_square: 0.9846 - val_loss: 0.6821 - val_rmse: 0.5266 - val_r_square: 0.9965\n",
      "Epoch 22/100\n",
      "1247590/1247590 [==============================] - 7s 6us/step - loss: 3.0166 - rmse: 0.9116 - r_square: 0.9848 - val_loss: 0.7044 - val_rmse: 0.4738 - val_r_square: 0.9964\n",
      "Epoch 23/100\n",
      "1247590/1247590 [==============================] - 7s 6us/step - loss: 3.0271 - rmse: 0.9110 - r_square: 0.9846 - val_loss: 0.6022 - val_rmse: 0.4802 - val_r_square: 0.9969\n",
      "Epoch 24/100\n",
      "1247590/1247590 [==============================] - 7s 6us/step - loss: 2.8888 - rmse: 0.8935 - r_square: 0.9853 - val_loss: 0.3037 - val_rmse: 0.3388 - val_r_square: 0.9984\n",
      "Epoch 25/100\n",
      "1247590/1247590 [==============================] - 7s 6us/step - loss: 3.0120 - rmse: 0.9092 - r_square: 0.9847 - val_loss: 0.4556 - val_rmse: 0.4004 - val_r_square: 0.9977\n",
      "Epoch 26/100\n",
      "1247590/1247590 [==============================] - 7s 6us/step - loss: 3.0524 - rmse: 0.9164 - r_square: 0.9845 - val_loss: 0.4858 - val_rmse: 0.4145 - val_r_square: 0.9975\n",
      "Epoch 27/100\n",
      "1247590/1247590 [==============================] - 7s 6us/step - loss: 2.8889 - rmse: 0.8948 - r_square: 0.9853 - val_loss: 0.6412 - val_rmse: 0.4665 - val_r_square: 0.9967\n",
      "Epoch 28/100\n",
      "1247590/1247590 [==============================] - 7s 6us/step - loss: 2.8385 - rmse: 0.8910 - r_square: 0.9855 - val_loss: 0.3566 - val_rmse: 0.3808 - val_r_square: 0.9982\n",
      "Epoch 29/100\n",
      "1247590/1247590 [==============================] - 7s 6us/step - loss: 2.9416 - rmse: 0.9008 - r_square: 0.9851 - val_loss: 0.3061 - val_rmse: 0.3439 - val_r_square: 0.9984\n",
      "Epoch 30/100\n",
      "1247590/1247590 [==============================] - 8s 7us/step - loss: 2.9633 - rmse: 0.9004 - r_square: 0.9850 - val_loss: 0.4611 - val_rmse: 0.4330 - val_r_square: 0.9976\n",
      "Epoch 31/100\n",
      "1247590/1247590 [==============================] - 8s 7us/step - loss: 2.9320 - rmse: 0.8975 - r_square: 0.9852 - val_loss: 0.4694 - val_rmse: 0.4024 - val_r_square: 0.9976\n",
      "Epoch 32/100\n",
      "1247590/1247590 [==============================] - 8s 6us/step - loss: 2.9529 - rmse: 0.8999 - r_square: 0.9851 - val_loss: 0.4176 - val_rmse: 0.3996 - val_r_square: 0.9979\n",
      "Epoch 33/100\n",
      "1247590/1247590 [==============================] - 7s 6us/step - loss: 2.8896 - rmse: 0.8972 - r_square: 0.9853 - val_loss: 0.3157 - val_rmse: 0.3489 - val_r_square: 0.9984\n",
      "Epoch 34/100\n",
      "1247590/1247590 [==============================] - 7s 6us/step - loss: 2.9389 - rmse: 0.8978 - r_square: 0.9851 - val_loss: 0.4313 - val_rmse: 0.4320 - val_r_square: 0.9978\n",
      "Epoch 35/100\n",
      "1247590/1247590 [==============================] - 8s 6us/step - loss: 2.9762 - rmse: 0.9016 - r_square: 0.9849 - val_loss: 0.3461 - val_rmse: 0.3691 - val_r_square: 0.9982\n",
      "Epoch 36/100\n",
      "1247590/1247590 [==============================] - 9s 7us/step - loss: 2.8108 - rmse: 0.8813 - r_square: 0.9857 - val_loss: 0.6048 - val_rmse: 0.4458 - val_r_square: 0.9969\n",
      "Epoch 37/100\n",
      "1247590/1247590 [==============================] - 8s 7us/step - loss: 2.8985 - rmse: 0.8927 - r_square: 0.9854 - val_loss: 0.3336 - val_rmse: 0.3585 - val_r_square: 0.9983\n",
      "Epoch 38/100\n",
      "1247590/1247590 [==============================] - 8s 6us/step - loss: 2.9356 - rmse: 0.8979 - r_square: 0.9850 - val_loss: 0.3538 - val_rmse: 0.3536 - val_r_square: 0.9982\n",
      "Epoch 39/100\n",
      "1247590/1247590 [==============================] - 8s 6us/step - loss: 2.9405 - rmse: 0.9004 - r_square: 0.9851 - val_loss: 0.5664 - val_rmse: 0.4384 - val_r_square: 0.9971\n",
      "Epoch 40/100\n",
      "1247590/1247590 [==============================] - 7s 6us/step - loss: 2.9200 - rmse: 0.8958 - r_square: 0.9852 - val_loss: 0.3377 - val_rmse: 0.3583 - val_r_square: 0.9983\n",
      "Epoch 41/100\n",
      "1247590/1247590 [==============================] - 7s 6us/step - loss: 2.9205 - rmse: 0.8974 - r_square: 0.9853 - val_loss: 0.8701 - val_rmse: 0.5377 - val_r_square: 0.9956\n",
      "Epoch 42/100\n",
      "1247590/1247590 [==============================] - 7s 6us/step - loss: 2.8793 - rmse: 0.8868 - r_square: 0.9855 - val_loss: 0.3420 - val_rmse: 0.3699 - val_r_square: 0.9982\n",
      "Epoch 43/100\n",
      "1247590/1247590 [==============================] - 7s 6us/step - loss: 2.9084 - rmse: 0.8924 - r_square: 0.9852 - val_loss: 0.3584 - val_rmse: 0.3763 - val_r_square: 0.9982\n",
      "Epoch 44/100\n",
      "1247590/1247590 [==============================] - 7s 6us/step - loss: 2.8961 - rmse: 0.8918 - r_square: 0.9853 - val_loss: 0.6147 - val_rmse: 0.4509 - val_r_square: 0.9969\n"
     ]
    },
    {
     "name": "stdout",
     "output_type": "stream",
     "text": [
      "Epoch 45/100\n",
      "1247590/1247590 [==============================] - 7s 5us/step - loss: 2.9148 - rmse: 0.8928 - r_square: 0.9852 - val_loss: 0.6064 - val_rmse: 0.4566 - val_r_square: 0.9969\n",
      "Epoch 46/100\n",
      "1247590/1247590 [==============================] - 7s 6us/step - loss: 2.9562 - rmse: 0.8957 - r_square: 0.9850 - val_loss: 0.3202 - val_rmse: 0.3359 - val_r_square: 0.9984\n",
      "Epoch 47/100\n",
      "1247590/1247590 [==============================] - 7s 6us/step - loss: 2.9480 - rmse: 0.8964 - r_square: 0.9852 - val_loss: 0.3197 - val_rmse: 0.3468 - val_r_square: 0.9984\n",
      "Epoch 48/100\n",
      "1247590/1247590 [==============================] - 7s 6us/step - loss: 2.9550 - rmse: 0.8992 - r_square: 0.9851 - val_loss: 0.4523 - val_rmse: 0.4012 - val_r_square: 0.9977\n",
      "Epoch 49/100\n",
      "1247590/1247590 [==============================] - 7s 5us/step - loss: 2.9192 - rmse: 0.8952 - r_square: 0.9851 - val_loss: 0.3548 - val_rmse: 0.3626 - val_r_square: 0.9982\n",
      "Epoch 00049: early stopping\n"
     ]
    }
   ],
   "source": [
    "model3 = Sequential([\n",
    "    BatchNormalization(),\n",
    "    Dense(64, activation='relu', input_shape=(6,)),\n",
    "    Dense(128, activation='relu'),\n",
    "    Dense(64, activation='relu'),\n",
    "    Dense(1, activation='linear'),\n",
    "])\n",
    "model3.compile(\n",
    "  optimizer='adam',\n",
    "  loss='mse',\n",
    "  metrics=[rmse, r_square],\n",
    ")\n",
    "# fit the model\n",
    "result3 = model3.fit(XX_train, \n",
    "                   yy_train.values,\n",
    "                   epochs =100,\n",
    "                   batch_size=256,\n",
    "                   validation_data=(XX_validation, yy_validation.values),\n",
    "                   callbacks = [es]\n",
    "                  )"
   ]
  },
  {
   "cell_type": "code",
   "execution_count": 26,
   "metadata": {},
   "outputs": [
    {
     "name": "stdout",
     "output_type": "stream",
     "text": [
      "[[6.3048780e-02]\n",
      " [3.8709402e-02]\n",
      " [1.3599184e+00]\n",
      " [1.8800478e+00]\n",
      " [1.3280153e-02]\n",
      " [1.3064846e+01]\n",
      " [3.0613249e+01]\n",
      " [8.2126007e+00]\n",
      " [8.6445322e+00]\n",
      " [4.7861221e+01]]\n",
      "\n",
      "\n",
      "Mean absolute error (MAE):      0.361444\n",
      "Mean squared error (MSE):       0.352840\n",
      "Root mean squared error (RMSE): 0.594003\n",
      "R square (R^2):                 0.998284\n"
     ]
    }
   ],
   "source": [
    "predictions3 = model3.predict(X_test)\n",
    "print(predictions3[:10])\n",
    "print(\"\\n\")\n",
    "print(\"Mean absolute error (MAE):      %f\" % skm.mean_absolute_error(y_test,predictions3))\n",
    "print(\"Mean squared error (MSE):       %f\" % skm.mean_squared_error(y_test,predictions3))\n",
    "print(\"Root mean squared error (RMSE): %f\" % math.sqrt(skm.mean_squared_error(y_test,predictions3)))\n",
    "print(\"R square (R^2):                 %f\" % skm.r2_score(y_test,predictions3))"
   ]
  },
  {
   "cell_type": "code",
   "execution_count": null,
   "metadata": {},
   "outputs": [],
   "source": []
  },
  {
   "cell_type": "markdown",
   "metadata": {},
   "source": [
    "## Reference: \n",
    "&emsp;&emsp;What does 'Accuracy' mean in Regression? https://github.com/keras-team/keras/issues/7947 <br>\n",
    "&emsp;&emsp;https://keras.io/metrics/<br>\n",
    "&emsp;&emsp;Scale, Standardize, or Normalize with Scikit-Learn https://towardsdatascience.com/scale-standardize-or-normalize-with-scikit-learn-6ccc7d176a02 <br>\n",
    "&emsp;&emsp;The Day my Computer Won the Nobel Prize (Neural Network Option Pricing)  https://medium.com/datadriveninvestor/the-day-my-computer-won-the-nobel-prize-neural-network-option-pricing-d29b4379f1d2 <br>"
   ]
  }
 ],
 "metadata": {
  "kernelspec": {
   "display_name": "Python 3",
   "language": "python",
   "name": "python3"
  },
  "language_info": {
   "codemirror_mode": {
    "name": "ipython",
    "version": 3
   },
   "file_extension": ".py",
   "mimetype": "text/x-python",
   "name": "python",
   "nbconvert_exporter": "python",
   "pygments_lexer": "ipython3",
   "version": "3.6.5"
  }
 },
 "nbformat": 4,
 "nbformat_minor": 2
}
