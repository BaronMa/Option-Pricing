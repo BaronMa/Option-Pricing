{
 "cells": [
  {
   "cell_type": "code",
   "execution_count": 1,
   "metadata": {
    "scrolled": true
   },
   "outputs": [
    {
     "name": "stdout",
     "output_type": "stream",
     "text": [
      "Collecting pip\n",
      "  Downloading https://files.pythonhosted.org/packages/5c/e0/be401c003291b56efc55aeba6a80ab790d3d4cece2778288d65323009420/pip-19.1.1-py2.py3-none-any.whl (1.4MB)\n",
      "Installing collected packages: pip\n",
      "Successfully installed pip-19.1.1\n"
     ]
    },
    {
     "name": "stderr",
     "output_type": "stream",
     "text": [
      "distributed 1.21.8 requires msgpack, which is not installed.\n",
      "You are using pip version 10.0.1, however version 19.1.1 is available.\n",
      "You should consider upgrading via the 'python -m pip install --upgrade pip' command.\n"
     ]
    },
    {
     "name": "stdout",
     "output_type": "stream",
     "text": [
      "Collecting keras\n",
      "  Downloading https://files.pythonhosted.org/packages/5e/10/aa32dad071ce52b5502266b5c659451cfd6ffcbf14e6c8c4f16c0ff5aaab/Keras-2.2.4-py2.py3-none-any.whl (312kB)\n",
      "Requirement already satisfied: pyyaml in c:\\program files\\anaconda3\\lib\\site-packages (from keras) (3.12)\n",
      "Requirement already satisfied: h5py in c:\\program files\\anaconda3\\lib\\site-packages (from keras) (2.7.1)\n",
      "Requirement already satisfied: scipy>=0.14 in c:\\program files\\anaconda3\\lib\\site-packages (from keras) (1.1.0)\n",
      "Collecting keras-applications>=1.0.6 (from keras)\n",
      "  Downloading https://files.pythonhosted.org/packages/71/e3/19762fdfc62877ae9102edf6342d71b28fbfd9dea3d2f96a882ce099b03f/Keras_Applications-1.0.8-py3-none-any.whl (50kB)\n",
      "Collecting keras-preprocessing>=1.0.5 (from keras)\n",
      "  Downloading https://files.pythonhosted.org/packages/28/6a/8c1f62c37212d9fc441a7e26736df51ce6f0e38455816445471f10da4f0a/Keras_Preprocessing-1.1.0-py2.py3-none-any.whl (41kB)\n",
      "Requirement already satisfied: numpy>=1.9.1 in c:\\program files\\anaconda3\\lib\\site-packages (from keras) (1.14.3)\n",
      "Requirement already satisfied: six>=1.9.0 in c:\\program files\\anaconda3\\lib\\site-packages (from keras) (1.11.0)\n",
      "Installing collected packages: keras-applications, keras-preprocessing, keras\n",
      "Successfully installed keras-2.2.4 keras-applications-1.0.8 keras-preprocessing-1.1.0\n",
      "Collecting tensorflow\n",
      "  Downloading https://files.pythonhosted.org/packages/bf/4a/5c86ed8b245aa48f9f819b13a0a9039e9126ba19fdd0c7e0b8026c12315a/tensorflow-1.14.0-cp36-cp36m-win_amd64.whl (68.3MB)\n",
      "Collecting numpy<2.0,>=1.14.5 (from tensorflow)\n",
      "  Downloading https://files.pythonhosted.org/packages/20/ed/e036d31a9b2c750f270cbb1cfc1c0f94ac78ae504eea7eec3267be4e294a/numpy-1.16.4-cp36-cp36m-win_amd64.whl (11.9MB)\n",
      "Collecting google-pasta>=0.1.6 (from tensorflow)\n",
      "  Downloading https://files.pythonhosted.org/packages/d0/33/376510eb8d6246f3c30545f416b2263eee461e40940c2a4413c711bdf62d/google_pasta-0.1.7-py3-none-any.whl (52kB)\n",
      "Collecting gast>=0.2.0 (from tensorflow)\n",
      "  Downloading https://files.pythonhosted.org/packages/4e/35/11749bf99b2d4e3cceb4d55ca22590b0d7c2c62b9de38ac4a4a7f4687421/gast-0.2.2.tar.gz\n",
      "Collecting absl-py>=0.7.0 (from tensorflow)\n",
      "  Downloading https://files.pythonhosted.org/packages/da/3f/9b0355080b81b15ba6a9ffcf1f5ea39e307a2778b2f2dc8694724e8abd5b/absl-py-0.7.1.tar.gz (99kB)\n",
      "Collecting tensorflow-estimator<1.15.0rc0,>=1.14.0rc0 (from tensorflow)\n",
      "  Downloading https://files.pythonhosted.org/packages/3c/d5/21860a5b11caf0678fbc8319341b0ae21a07156911132e0e71bffed0510d/tensorflow_estimator-1.14.0-py2.py3-none-any.whl (488kB)\n",
      "Requirement already satisfied: wheel>=0.26 in c:\\program files\\anaconda3\\lib\\site-packages (from tensorflow) (0.31.1)\n",
      "Collecting protobuf>=3.6.1 (from tensorflow)\n",
      "  Downloading https://files.pythonhosted.org/packages/d4/59/ec6c6075dd628f2efd33dbe11b259e63e1de7cbc26e45b38de767df528d4/protobuf-3.8.0-cp36-cp36m-win_amd64.whl (1.1MB)\n",
      "Requirement already satisfied: keras-preprocessing>=1.0.5 in c:\\users\\mayingzh\\appdata\\roaming\\python\\python36\\site-packages (from tensorflow) (1.1.0)\n",
      "Collecting tensorboard<1.15.0,>=1.14.0 (from tensorflow)\n",
      "  Downloading https://files.pythonhosted.org/packages/91/2d/2ed263449a078cd9c8a9ba50ebd50123adf1f8cfbea1492f9084169b89d9/tensorboard-1.14.0-py3-none-any.whl (3.1MB)\n",
      "Collecting grpcio>=1.8.6 (from tensorflow)\n",
      "  Downloading https://files.pythonhosted.org/packages/78/93/297ff3656f1073fba84e2f9633ad3b27a007eb59ad22099ac30142f80365/grpcio-1.22.0-cp36-cp36m-win_amd64.whl (1.6MB)\n",
      "Requirement already satisfied: keras-applications>=1.0.6 in c:\\users\\mayingzh\\appdata\\roaming\\python\\python36\\site-packages (from tensorflow) (1.0.8)\n",
      "Collecting astor>=0.6.0 (from tensorflow)\n",
      "  Downloading https://files.pythonhosted.org/packages/d1/4f/950dfae467b384fc96bc6469de25d832534f6b4441033c39f914efd13418/astor-0.8.0-py2.py3-none-any.whl\n",
      "Collecting termcolor>=1.1.0 (from tensorflow)\n",
      "  Downloading https://files.pythonhosted.org/packages/8a/48/a76be51647d0eb9f10e2a4511bf3ffb8cc1e6b14e9e4fab46173aa79f981/termcolor-1.1.0.tar.gz\n",
      "Requirement already satisfied: six>=1.10.0 in c:\\program files\\anaconda3\\lib\\site-packages (from tensorflow) (1.11.0)\n",
      "Collecting wrapt>=1.11.1 (from tensorflow)\n",
      "  Downloading https://files.pythonhosted.org/packages/23/84/323c2415280bc4fc880ac5050dddfb3c8062c2552b34c2e512eb4aa68f79/wrapt-1.11.2.tar.gz\n",
      "Requirement already satisfied: setuptools in c:\\program files\\anaconda3\\lib\\site-packages (from protobuf>=3.6.1->tensorflow) (39.1.0)\n",
      "Collecting markdown>=2.6.8 (from tensorboard<1.15.0,>=1.14.0->tensorflow)\n",
      "  Downloading https://files.pythonhosted.org/packages/c0/4e/fd492e91abdc2d2fcb70ef453064d980688762079397f779758e055f6575/Markdown-3.1.1-py2.py3-none-any.whl (87kB)\n",
      "Requirement already satisfied: werkzeug>=0.11.15 in c:\\program files\\anaconda3\\lib\\site-packages (from tensorboard<1.15.0,>=1.14.0->tensorflow) (0.14.1)\n",
      "Requirement already satisfied: h5py in c:\\program files\\anaconda3\\lib\\site-packages (from keras-applications>=1.0.6->tensorflow) (2.7.1)\n",
      "Building wheels for collected packages: gast, absl-py, termcolor, wrapt\n",
      "  Building wheel for gast (setup.py): started\n",
      "  Building wheel for gast (setup.py): finished with status 'done'\n",
      "  Stored in directory: C:\\Users\\mayingzh\\AppData\\Local\\pip\\Cache\\wheels\\5c\\2e\\7e\\a1d4d4fcebe6c381f378ce7743a3ced3699feb89bcfbdadadd\n",
      "  Building wheel for absl-py (setup.py): started\n",
      "  Building wheel for absl-py (setup.py): finished with status 'done'\n",
      "  Stored in directory: C:\\Users\\mayingzh\\AppData\\Local\\pip\\Cache\\wheels\\ee\\98\\38\\46cbcc5a93cfea5492d19c38562691ddb23b940176c14f7b48\n",
      "  Building wheel for termcolor (setup.py): started\n",
      "  Building wheel for termcolor (setup.py): finished with status 'done'\n",
      "  Stored in directory: C:\\Users\\mayingzh\\AppData\\Local\\pip\\Cache\\wheels\\7c\\06\\54\\bc84598ba1daf8f970247f550b175aaaee85f68b4b0c5ab2c6\n",
      "  Building wheel for wrapt (setup.py): started\n",
      "  Building wheel for wrapt (setup.py): finished with status 'done'\n",
      "  Stored in directory: C:\\Users\\mayingzh\\AppData\\Local\\pip\\Cache\\wheels\\d7\\de\\2e\\efa132238792efb6459a96e85916ef8597fcb3d2ae51590dfd\n",
      "Successfully built gast absl-py termcolor wrapt\n",
      "Installing collected packages: numpy, google-pasta, gast, absl-py, tensorflow-estimator, protobuf, grpcio, markdown, tensorboard, astor, termcolor, wrapt, tensorflow\n",
      "Successfully installed absl-py-0.7.1 astor-0.8.0 gast-0.2.2 google-pasta-0.1.7 grpcio-1.22.0 markdown-3.1.1 numpy-1.16.4 protobuf-3.8.0 tensorboard-1.14.0 tensorflow-1.14.0 tensorflow-estimator-1.14.0 termcolor-1.1.0 wrapt-1.11.2\n"
     ]
    },
    {
     "name": "stderr",
     "output_type": "stream",
     "text": [
      "ERROR: tensorboard 1.14.0 has requirement setuptools>=41.0.0, but you'll have setuptools 39.1.0 which is incompatible.\n",
      "  WARNING: The script f2py.exe is installed in 'C:\\Users\\mayingzh\\AppData\\Roaming\\Python\\Python36\\Scripts' which is not on PATH.\n",
      "  Consider adding this directory to PATH or, if you prefer to suppress this warning, use --no-warn-script-location.\n",
      "  WARNING: The script markdown_py.exe is installed in 'C:\\Users\\mayingzh\\AppData\\Roaming\\Python\\Python36\\Scripts' which is not on PATH.\n",
      "  Consider adding this directory to PATH or, if you prefer to suppress this warning, use --no-warn-script-location.\n",
      "  WARNING: The script tensorboard.exe is installed in 'C:\\Users\\mayingzh\\AppData\\Roaming\\Python\\Python36\\Scripts' which is not on PATH.\n",
      "  Consider adding this directory to PATH or, if you prefer to suppress this warning, use --no-warn-script-location.\n",
      "  WARNING: The scripts freeze_graph.exe, saved_model_cli.exe, tensorboard.exe, tf_upgrade_v2.exe, tflite_convert.exe, toco.exe and toco_from_protos.exe are installed in 'C:\\Users\\mayingzh\\AppData\\Roaming\\Python\\Python36\\Scripts' which is not on PATH.\n",
      "  Consider adding this directory to PATH or, if you prefer to suppress this warning, use --no-warn-script-location.\n"
     ]
    },
    {
     "name": "stdout",
     "output_type": "stream",
     "text": [
      "Requirement already up-to-date: numpy in c:\\users\\mayingzh\\appdata\\roaming\\python\\python36\\site-packages (1.16.4)\n"
     ]
    }
   ],
   "source": [
    "!python -m pip install --user --upgrade pip\n",
    "!pip install --user keras\n",
    "!pip install --user tensorflow\n",
    "!pip install --user -U numpy"
   ]
  },
  {
   "cell_type": "code",
   "execution_count": 3,
   "metadata": {},
   "outputs": [],
   "source": [
    "# Use CPU only\n",
    "# Only Macbook needs to run this cell\n",
    "import os\n",
    "os.environ[\"CUDA_DEVICE_ORDER\"] = \"PCI_BUS_ID\" \n",
    "os.environ[\"CUDA_VISIBLE_DEVICES\"] = \"\""
   ]
  },
  {
   "cell_type": "code",
   "execution_count": 1,
   "metadata": {},
   "outputs": [
    {
     "name": "stderr",
     "output_type": "stream",
     "text": [
      "C:\\Program Files\\Anaconda3\\lib\\site-packages\\h5py\\__init__.py:36: FutureWarning: Conversion of the second argument of issubdtype from `float` to `np.floating` is deprecated. In future, it will be treated as `np.float64 == np.dtype(float).type`.\n",
      "  from ._conv import register_converters as _register_converters\n",
      "Using TensorFlow backend.\n"
     ]
    }
   ],
   "source": [
    "import pandas as pd\n",
    "from keras.models import Sequential\n",
    "from keras.layers import Dense, Dropout\n",
    "from sklearn.model_selection import train_test_split\n",
    "from keras.callbacks import EarlyStopping\n",
    "from sklearn import preprocessing\n",
    "import matplotlib.pyplot as plt"
   ]
  },
  {
   "cell_type": "markdown",
   "metadata": {},
   "source": [
    "## Load data and do data normalization"
   ]
  },
  {
   "cell_type": "code",
   "execution_count": 2,
   "metadata": {},
   "outputs": [
    {
     "data": {
      "text/html": [
       "<div>\n",
       "<style scoped>\n",
       "    .dataframe tbody tr th:only-of-type {\n",
       "        vertical-align: middle;\n",
       "    }\n",
       "\n",
       "    .dataframe tbody tr th {\n",
       "        vertical-align: top;\n",
       "    }\n",
       "\n",
       "    .dataframe thead th {\n",
       "        text-align: right;\n",
       "    }\n",
       "</style>\n",
       "<table border=\"1\" class=\"dataframe\">\n",
       "  <thead>\n",
       "    <tr style=\"text-align: right;\">\n",
       "      <th></th>\n",
       "      <th>ticker</th>\n",
       "      <th>date</th>\n",
       "      <th>exdate</th>\n",
       "      <th>maturity</th>\n",
       "      <th>strike_price</th>\n",
       "      <th>best_offer</th>\n",
       "      <th>impl_volatility</th>\n",
       "      <th>underlying_price</th>\n",
       "      <th>interest_rate</th>\n",
       "      <th>cp_flag_C</th>\n",
       "      <th>cp_flag_P</th>\n",
       "    </tr>\n",
       "  </thead>\n",
       "  <tbody>\n",
       "    <tr>\n",
       "      <th>0</th>\n",
       "      <td>AXP</td>\n",
       "      <td>2013-01-02</td>\n",
       "      <td>2013-01-04</td>\n",
       "      <td>2</td>\n",
       "      <td>60.0</td>\n",
       "      <td>0.03</td>\n",
       "      <td>0.181376</td>\n",
       "      <td>58.75</td>\n",
       "      <td>0.0008</td>\n",
       "      <td>1</td>\n",
       "      <td>0</td>\n",
       "    </tr>\n",
       "    <tr>\n",
       "      <th>1</th>\n",
       "      <td>AXP</td>\n",
       "      <td>2013-01-02</td>\n",
       "      <td>2013-01-04</td>\n",
       "      <td>2</td>\n",
       "      <td>62.5</td>\n",
       "      <td>0.05</td>\n",
       "      <td>0.450289</td>\n",
       "      <td>58.75</td>\n",
       "      <td>0.0008</td>\n",
       "      <td>1</td>\n",
       "      <td>0</td>\n",
       "    </tr>\n",
       "    <tr>\n",
       "      <th>2</th>\n",
       "      <td>AXP</td>\n",
       "      <td>2013-01-02</td>\n",
       "      <td>2013-01-04</td>\n",
       "      <td>2</td>\n",
       "      <td>65.0</td>\n",
       "      <td>0.05</td>\n",
       "      <td>0.676564</td>\n",
       "      <td>58.75</td>\n",
       "      <td>0.0008</td>\n",
       "      <td>1</td>\n",
       "      <td>0</td>\n",
       "    </tr>\n",
       "    <tr>\n",
       "      <th>3</th>\n",
       "      <td>AXP</td>\n",
       "      <td>2013-01-02</td>\n",
       "      <td>2013-01-04</td>\n",
       "      <td>2</td>\n",
       "      <td>67.5</td>\n",
       "      <td>0.50</td>\n",
       "      <td>1.369425</td>\n",
       "      <td>58.75</td>\n",
       "      <td>0.0008</td>\n",
       "      <td>1</td>\n",
       "      <td>0</td>\n",
       "    </tr>\n",
       "    <tr>\n",
       "      <th>4</th>\n",
       "      <td>AXP</td>\n",
       "      <td>2013-01-02</td>\n",
       "      <td>2013-01-04</td>\n",
       "      <td>2</td>\n",
       "      <td>70.0</td>\n",
       "      <td>0.01</td>\n",
       "      <td>0.888123</td>\n",
       "      <td>58.75</td>\n",
       "      <td>0.0008</td>\n",
       "      <td>1</td>\n",
       "      <td>0</td>\n",
       "    </tr>\n",
       "  </tbody>\n",
       "</table>\n",
       "</div>"
      ],
      "text/plain": [
       "  ticker        date      exdate  maturity  strike_price  best_offer  \\\n",
       "0    AXP  2013-01-02  2013-01-04         2          60.0        0.03   \n",
       "1    AXP  2013-01-02  2013-01-04         2          62.5        0.05   \n",
       "2    AXP  2013-01-02  2013-01-04         2          65.0        0.05   \n",
       "3    AXP  2013-01-02  2013-01-04         2          67.5        0.50   \n",
       "4    AXP  2013-01-02  2013-01-04         2          70.0        0.01   \n",
       "\n",
       "   impl_volatility  underlying_price  interest_rate  cp_flag_C  cp_flag_P  \n",
       "0         0.181376             58.75         0.0008          1          0  \n",
       "1         0.450289             58.75         0.0008          1          0  \n",
       "2         0.676564             58.75         0.0008          1          0  \n",
       "3         1.369425             58.75         0.0008          1          0  \n",
       "4         0.888123             58.75         0.0008          1          0  "
      ]
     },
     "execution_count": 2,
     "metadata": {},
     "output_type": "execute_result"
    }
   ],
   "source": [
    "df = pd.read_csv('Options.csv')\n",
    "df.head()"
   ]
  },
  {
   "cell_type": "code",
   "execution_count": 3,
   "metadata": {},
   "outputs": [],
   "source": [
    "df = df[df['interest_rate'].notnull()]"
   ]
  },
  {
   "cell_type": "code",
   "execution_count": 4,
   "metadata": {},
   "outputs": [],
   "source": [
    "y = df['best_offer'].values\n",
    "X = df[['maturity', 'strike_price', 'underlying_price', 'cp_flag_C', 'cp_flag_P', 'interest_rate']]"
   ]
  },
  {
   "cell_type": "code",
   "execution_count": 5,
   "metadata": {},
   "outputs": [],
   "source": [
    "# Normalize the data to build a regression neural network model\n",
    "sc= preprocessing.MinMaxScaler()\n",
    "X= sc.fit_transform(X)\n",
    "y= y.reshape(-1,1)\n",
    "y=sc.fit_transform(y)"
   ]
  },
  {
   "cell_type": "code",
   "execution_count": 6,
   "metadata": {},
   "outputs": [],
   "source": [
    "X_train, X_test, y_train, y_test = train_test_split(X, y, test_size=0.2, random_state=42)"
   ]
  },
  {
   "cell_type": "code",
   "execution_count": 7,
   "metadata": {},
   "outputs": [
    {
     "name": "stdout",
     "output_type": "stream",
     "text": [
      "(1559488, 6)\n",
      "(1559488, 1)\n"
     ]
    }
   ],
   "source": [
    "print(X_train.shape)\n",
    "print(y_train.shape)"
   ]
  },
  {
   "cell_type": "code",
   "execution_count": 8,
   "metadata": {},
   "outputs": [],
   "source": [
    "XX_train, XX_validation, yy_train, yy_validation = train_test_split(X_train, y_train, test_size=0.2, random_state=42)"
   ]
  },
  {
   "cell_type": "markdown",
   "metadata": {},
   "source": [
    "## Build a keras Sequential model"
   ]
  },
  {
   "cell_type": "code",
   "execution_count": 13,
   "metadata": {},
   "outputs": [],
   "source": [
    "# Built Keras sequential model with 3 hidden layer, and after the first hidden layer.\n",
    "model = Sequential([\n",
    "    Dense(64, activation='relu', input_shape=(6,)),\n",
    "    Dense(128, activation='relu'),\n",
    "    Dense(64, activation='relu'),\n",
    "    Dense(1, activation='linear'),\n",
    "])"
   ]
  },
  {
   "cell_type": "code",
   "execution_count": 10,
   "metadata": {},
   "outputs": [],
   "source": [
    "# Enable early stopping based on the loss of validation data\n",
    "es = EarlyStopping(monitor='val_loss', mode='auto', verbose=1, patience=25)"
   ]
  },
  {
   "cell_type": "code",
   "execution_count": 11,
   "metadata": {},
   "outputs": [],
   "source": [
    "# Because it is a simple regression problem, we should custom metrics function\n",
    "from keras import backend as K\n",
    "def rmse(y_true, y_pred):\n",
    "    return K.sqrt(K.mean(K.square(y_pred - y_true), axis = -1))\n",
    "\n",
    "def r_square(y_true, y_pred):\n",
    "    SS_res =  K.sum(K.square(y_true - y_pred)) \n",
    "    SS_tot = K.sum(K.square(y_true - K.mean(y_true))) \n",
    "    return (1 - SS_res/(SS_tot + K.epsilon()))"
   ]
  },
  {
   "cell_type": "code",
   "execution_count": 15,
   "metadata": {},
   "outputs": [],
   "source": [
    "# use mean_squared_error to compile regression model loss\n",
    "model.compile(\n",
    "  optimizer='adam',\n",
    "  loss='mse',\n",
    "  metrics=[rmse, r_square],\n",
    ")"
   ]
  },
  {
   "cell_type": "code",
   "execution_count": 16,
   "metadata": {},
   "outputs": [
    {
     "name": "stderr",
     "output_type": "stream",
     "text": [
      "W0703 10:00:47.460907  9196 deprecation_wrapper.py:119] From C:\\Users\\mayingzh\\AppData\\Roaming\\Python\\Python36\\site-packages\\keras\\backend\\tensorflow_backend.py:986: The name tf.assign_add is deprecated. Please use tf.compat.v1.assign_add instead.\n",
      "\n",
      "W0703 10:00:47.523613  9196 deprecation_wrapper.py:119] From C:\\Users\\mayingzh\\AppData\\Roaming\\Python\\Python36\\site-packages\\keras\\backend\\tensorflow_backend.py:973: The name tf.assign is deprecated. Please use tf.compat.v1.assign instead.\n",
      "\n"
     ]
    },
    {
     "name": "stdout",
     "output_type": "stream",
     "text": [
      "Train on 1247590 samples, validate on 311898 samples\n",
      "Epoch 1/200\n",
      "1247590/1247590 [==============================] - 5s 4us/step - loss: 1.3135e-04 - rmse: 0.0049 - r_square: 0.9876 - val_loss: 2.8648e-05 - val_rmse: 0.0040 - val_r_square: 0.9972\n",
      "Epoch 2/200\n",
      "1247590/1247590 [==============================] - 5s 4us/step - loss: 2.2517e-05 - rmse: 0.0033 - r_square: 0.9978 - val_loss: 1.6802e-05 - val_rmse: 0.0028 - val_r_square: 0.9983\n",
      "Epoch 3/200\n",
      "1247590/1247590 [==============================] - 5s 4us/step - loss: 1.9708e-05 - rmse: 0.0030 - r_square: 0.9980 - val_loss: 2.4224e-05 - val_rmse: 0.0035 - val_r_square: 0.9976\n",
      "Epoch 4/200\n",
      "1247590/1247590 [==============================] - 5s 4us/step - loss: 1.8187e-05 - rmse: 0.0028 - r_square: 0.9982 - val_loss: 1.5022e-05 - val_rmse: 0.0026 - val_r_square: 0.9985\n",
      "Epoch 5/200\n",
      "1247590/1247590 [==============================] - 5s 4us/step - loss: 1.7157e-05 - rmse: 0.0027 - r_square: 0.9983 - val_loss: 2.1554e-05 - val_rmse: 0.0030 - val_r_square: 0.9979\n",
      "Epoch 6/200\n",
      "1247590/1247590 [==============================] - 5s 4us/step - loss: 1.6499e-05 - rmse: 0.0026 - r_square: 0.9984 - val_loss: 2.9300e-05 - val_rmse: 0.0036 - val_r_square: 0.9971\n",
      "Epoch 7/200\n",
      "1247590/1247590 [==============================] - 5s 4us/step - loss: 1.5845e-05 - rmse: 0.0025 - r_square: 0.9984 - val_loss: 1.3719e-05 - val_rmse: 0.0023 - val_r_square: 0.9986\n",
      "Epoch 8/200\n",
      "1247590/1247590 [==============================] - 5s 4us/step - loss: 1.5516e-05 - rmse: 0.0025 - r_square: 0.9985 - val_loss: 1.4890e-05 - val_rmse: 0.0025 - val_r_square: 0.9985\n",
      "Epoch 9/200\n",
      "1247590/1247590 [==============================] - 5s 4us/step - loss: 1.5050e-05 - rmse: 0.0024 - r_square: 0.9985 - val_loss: 1.3617e-05 - val_rmse: 0.0023 - val_r_square: 0.9987\n",
      "Epoch 10/200\n",
      "1247590/1247590 [==============================] - 5s 4us/step - loss: 1.4741e-05 - rmse: 0.0024 - r_square: 0.9985 - val_loss: 1.9327e-05 - val_rmse: 0.0029 - val_r_square: 0.9981\n",
      "Epoch 11/200\n",
      "1247590/1247590 [==============================] - 5s 4us/step - loss: 1.4490e-05 - rmse: 0.0024 - r_square: 0.9986 - val_loss: 1.3581e-05 - val_rmse: 0.0022 - val_r_square: 0.9987\n",
      "Epoch 12/200\n",
      "1247590/1247590 [==============================] - 5s 4us/step - loss: 1.4245e-05 - rmse: 0.0023 - r_square: 0.9986 - val_loss: 1.2832e-05 - val_rmse: 0.0022 - val_r_square: 0.9987\n",
      "Epoch 13/200\n",
      "1247590/1247590 [==============================] - 5s 4us/step - loss: 1.3896e-05 - rmse: 0.0023 - r_square: 0.9986 - val_loss: 1.9904e-05 - val_rmse: 0.0028 - val_r_square: 0.9980\n",
      "Epoch 14/200\n",
      "1247590/1247590 [==============================] - 5s 4us/step - loss: 1.3726e-05 - rmse: 0.0023 - r_square: 0.9986 - val_loss: 1.4432e-05 - val_rmse: 0.0024 - val_r_square: 0.9986\n",
      "Epoch 15/200\n",
      "1247590/1247590 [==============================] - 5s 4us/step - loss: 1.3654e-05 - rmse: 0.0023 - r_square: 0.9986 - val_loss: 1.2261e-05 - val_rmse: 0.0022 - val_r_square: 0.9988\n",
      "Epoch 16/200\n",
      "1247590/1247590 [==============================] - 6s 4us/step - loss: 1.3384e-05 - rmse: 0.0023 - r_square: 0.9987 - val_loss: 1.3425e-05 - val_rmse: 0.0022 - val_r_square: 0.9987\n",
      "Epoch 17/200\n",
      "1247590/1247590 [==============================] - 6s 4us/step - loss: 1.3216e-05 - rmse: 0.0022 - r_square: 0.9987 - val_loss: 1.2904e-05 - val_rmse: 0.0023 - val_r_square: 0.9987\n",
      "Epoch 18/200\n",
      "1247590/1247590 [==============================] - 6s 4us/step - loss: 1.3074e-05 - rmse: 0.0022 - r_square: 0.9987 - val_loss: 1.9047e-05 - val_rmse: 0.0027 - val_r_square: 0.9981\n",
      "Epoch 19/200\n",
      "1247590/1247590 [==============================] - 6s 4us/step - loss: 1.3012e-05 - rmse: 0.0022 - r_square: 0.9987 - val_loss: 1.2894e-05 - val_rmse: 0.0022 - val_r_square: 0.9987\n",
      "Epoch 20/200\n",
      "1247590/1247590 [==============================] - 5s 4us/step - loss: 1.2877e-05 - rmse: 0.0022 - r_square: 0.9987 - val_loss: 1.4018e-05 - val_rmse: 0.0023 - val_r_square: 0.9986\n",
      "Epoch 21/200\n",
      "1247590/1247590 [==============================] - 5s 4us/step - loss: 1.2832e-05 - rmse: 0.0022 - r_square: 0.9987 - val_loss: 1.2020e-05 - val_rmse: 0.0021 - val_r_square: 0.9988\n",
      "Epoch 22/200\n",
      "1247590/1247590 [==============================] - 6s 4us/step - loss: 1.2746e-05 - rmse: 0.0022 - r_square: 0.9987 - val_loss: 1.2452e-05 - val_rmse: 0.0022 - val_r_square: 0.9988\n",
      "Epoch 23/200\n",
      "1247590/1247590 [==============================] - 5s 4us/step - loss: 1.2630e-05 - rmse: 0.0022 - r_square: 0.9987 - val_loss: 1.1832e-05 - val_rmse: 0.0020 - val_r_square: 0.9988\n",
      "Epoch 24/200\n",
      "1247590/1247590 [==============================] - 6s 5us/step - loss: 1.2512e-05 - rmse: 0.0022 - r_square: 0.9988 - val_loss: 1.3289e-05 - val_rmse: 0.0023 - val_r_square: 0.9987\n",
      "Epoch 25/200\n",
      "1247590/1247590 [==============================] - 6s 4us/step - loss: 1.2520e-05 - rmse: 0.0022 - r_square: 0.9988 - val_loss: 1.1469e-05 - val_rmse: 0.0022 - val_r_square: 0.9989\n",
      "Epoch 26/200\n",
      "1247590/1247590 [==============================] - 6s 4us/step - loss: 1.2483e-05 - rmse: 0.0022 - r_square: 0.9988 - val_loss: 1.4867e-05 - val_rmse: 0.0024 - val_r_square: 0.9985\n",
      "Epoch 27/200\n",
      "1247590/1247590 [==============================] - 5s 4us/step - loss: 1.2403e-05 - rmse: 0.0022 - r_square: 0.9988 - val_loss: 1.1874e-05 - val_rmse: 0.0021 - val_r_square: 0.9988\n",
      "Epoch 28/200\n",
      "1247590/1247590 [==============================] - 6s 4us/step - loss: 1.2318e-05 - rmse: 0.0022 - r_square: 0.9988 - val_loss: 1.1495e-05 - val_rmse: 0.0020 - val_r_square: 0.9989\n",
      "Epoch 29/200\n",
      "1247590/1247590 [==============================] - 6s 5us/step - loss: 1.2304e-05 - rmse: 0.0022 - r_square: 0.9988 - val_loss: 1.2957e-05 - val_rmse: 0.0022 - val_r_square: 0.9987\n",
      "Epoch 30/200\n",
      "1247590/1247590 [==============================] - 6s 5us/step - loss: 1.2207e-05 - rmse: 0.0021 - r_square: 0.9988 - val_loss: 1.2525e-05 - val_rmse: 0.0022 - val_r_square: 0.9988\n",
      "Epoch 31/200\n",
      "1247590/1247590 [==============================] - 6s 4us/step - loss: 1.2178e-05 - rmse: 0.0021 - r_square: 0.9988 - val_loss: 1.1329e-05 - val_rmse: 0.0021 - val_r_square: 0.9989\n",
      "Epoch 32/200\n",
      "1247590/1247590 [==============================] - 6s 5us/step - loss: 1.2176e-05 - rmse: 0.0021 - r_square: 0.9988 - val_loss: 1.5618e-05 - val_rmse: 0.0025 - val_r_square: 0.9985\n",
      "Epoch 33/200\n",
      "1247590/1247590 [==============================] - 6s 5us/step - loss: 1.2063e-05 - rmse: 0.0021 - r_square: 0.9988 - val_loss: 1.2018e-05 - val_rmse: 0.0021 - val_r_square: 0.9988\n",
      "Epoch 34/200\n",
      "1247590/1247590 [==============================] - 5s 4us/step - loss: 1.2051e-05 - rmse: 0.0021 - r_square: 0.9988 - val_loss: 1.2449e-05 - val_rmse: 0.0021 - val_r_square: 0.9988\n",
      "Epoch 35/200\n",
      "1247590/1247590 [==============================] - 5s 4us/step - loss: 1.2016e-05 - rmse: 0.0021 - r_square: 0.9988 - val_loss: 1.2332e-05 - val_rmse: 0.0021 - val_r_square: 0.9988\n",
      "Epoch 36/200\n",
      "1247590/1247590 [==============================] - 6s 5us/step - loss: 1.2024e-05 - rmse: 0.0021 - r_square: 0.9988 - val_loss: 1.1076e-05 - val_rmse: 0.0021 - val_r_square: 0.9989\n",
      "Epoch 37/200\n",
      "1247590/1247590 [==============================] - 5s 4us/step - loss: 1.1982e-05 - rmse: 0.0021 - r_square: 0.9988 - val_loss: 1.1301e-05 - val_rmse: 0.0020 - val_r_square: 0.9989\n",
      "Epoch 38/200\n",
      "1247590/1247590 [==============================] - 6s 4us/step - loss: 1.1799e-05 - rmse: 0.0021 - r_square: 0.9988 - val_loss: 1.0872e-05 - val_rmse: 0.0020 - val_r_square: 0.9989\n",
      "Epoch 39/200\n",
      "1247590/1247590 [==============================] - 5s 4us/step - loss: 1.1947e-05 - rmse: 0.0021 - r_square: 0.9988 - val_loss: 1.1726e-05 - val_rmse: 0.0022 - val_r_square: 0.9988\n",
      "Epoch 40/200\n",
      "1247590/1247590 [==============================] - 5s 4us/step - loss: 1.1778e-05 - rmse: 0.0021 - r_square: 0.9988 - val_loss: 1.4337e-05 - val_rmse: 0.0025 - val_r_square: 0.9986\n",
      "Epoch 41/200\n",
      "1247590/1247590 [==============================] - 6s 5us/step - loss: 1.1828e-05 - rmse: 0.0021 - r_square: 0.9988 - val_loss: 1.1295e-05 - val_rmse: 0.0021 - val_r_square: 0.9989\n",
      "Epoch 42/200\n",
      "1247590/1247590 [==============================] - 6s 5us/step - loss: 1.1741e-05 - rmse: 0.0021 - r_square: 0.9988 - val_loss: 1.1369e-05 - val_rmse: 0.0020 - val_r_square: 0.9989\n",
      "Epoch 43/200\n"
     ]
    },
    {
     "name": "stdout",
     "output_type": "stream",
     "text": [
      "1247590/1247590 [==============================] - 6s 5us/step - loss: 1.1772e-05 - rmse: 0.0021 - r_square: 0.9988 - val_loss: 1.1902e-05 - val_rmse: 0.0021 - val_r_square: 0.9988\n",
      "Epoch 44/200\n",
      "1247590/1247590 [==============================] - 6s 5us/step - loss: 1.1710e-05 - rmse: 0.0021 - r_square: 0.9988 - val_loss: 1.1563e-05 - val_rmse: 0.0020 - val_r_square: 0.9989\n",
      "Epoch 45/200\n",
      "1247590/1247590 [==============================] - 6s 4us/step - loss: 1.1673e-05 - rmse: 0.0021 - r_square: 0.9988 - val_loss: 1.4927e-05 - val_rmse: 0.0023 - val_r_square: 0.9985\n",
      "Epoch 46/200\n",
      "1247590/1247590 [==============================] - 5s 4us/step - loss: 1.1627e-05 - rmse: 0.0021 - r_square: 0.9988 - val_loss: 1.1748e-05 - val_rmse: 0.0021 - val_r_square: 0.9988\n",
      "Epoch 47/200\n",
      "1247590/1247590 [==============================] - 5s 4us/step - loss: 1.1644e-05 - rmse: 0.0021 - r_square: 0.9988 - val_loss: 1.1577e-05 - val_rmse: 0.0021 - val_r_square: 0.9989\n",
      "Epoch 48/200\n",
      "1247590/1247590 [==============================] - 6s 4us/step - loss: 1.1575e-05 - rmse: 0.0021 - r_square: 0.9988 - val_loss: 1.1102e-05 - val_rmse: 0.0021 - val_r_square: 0.9989\n",
      "Epoch 49/200\n",
      "1247590/1247590 [==============================] - 5s 4us/step - loss: 1.1550e-05 - rmse: 0.0021 - r_square: 0.9989 - val_loss: 1.4788e-05 - val_rmse: 0.0025 - val_r_square: 0.9985\n",
      "Epoch 50/200\n",
      "1247590/1247590 [==============================] - 5s 4us/step - loss: 1.1558e-05 - rmse: 0.0021 - r_square: 0.9988 - val_loss: 1.0962e-05 - val_rmse: 0.0020 - val_r_square: 0.9989\n",
      "Epoch 51/200\n",
      "1247590/1247590 [==============================] - 5s 4us/step - loss: 1.1526e-05 - rmse: 0.0021 - r_square: 0.9989 - val_loss: 1.1219e-05 - val_rmse: 0.0020 - val_r_square: 0.9989\n",
      "Epoch 52/200\n",
      "1247590/1247590 [==============================] - 5s 4us/step - loss: 1.1476e-05 - rmse: 0.0021 - r_square: 0.9989 - val_loss: 1.1271e-05 - val_rmse: 0.0021 - val_r_square: 0.9989\n",
      "Epoch 53/200\n",
      "1247590/1247590 [==============================] - 6s 5us/step - loss: 1.1458e-05 - rmse: 0.0021 - r_square: 0.9989 - val_loss: 1.2458e-05 - val_rmse: 0.0023 - val_r_square: 0.9988\n",
      "Epoch 54/200\n",
      "1247590/1247590 [==============================] - 6s 4us/step - loss: 1.1411e-05 - rmse: 0.0021 - r_square: 0.9989 - val_loss: 1.0673e-05 - val_rmse: 0.0020 - val_r_square: 0.9989\n",
      "Epoch 55/200\n",
      "1247590/1247590 [==============================] - 6s 5us/step - loss: 1.1384e-05 - rmse: 0.0021 - r_square: 0.9989 - val_loss: 1.0568e-05 - val_rmse: 0.0020 - val_r_square: 0.9990\n",
      "Epoch 56/200\n",
      "1247590/1247590 [==============================] - 6s 5us/step - loss: 1.1401e-05 - rmse: 0.0021 - r_square: 0.9989 - val_loss: 1.1137e-05 - val_rmse: 0.0020 - val_r_square: 0.9989\n",
      "Epoch 57/200\n",
      "1247590/1247590 [==============================] - 5s 4us/step - loss: 1.1369e-05 - rmse: 0.0021 - r_square: 0.9989 - val_loss: 1.1111e-05 - val_rmse: 0.0020 - val_r_square: 0.9989\n",
      "Epoch 58/200\n",
      "1247590/1247590 [==============================] - 6s 4us/step - loss: 1.1312e-05 - rmse: 0.0021 - r_square: 0.9989 - val_loss: 1.0915e-05 - val_rmse: 0.0020 - val_r_square: 0.9989\n",
      "Epoch 59/200\n",
      "1247590/1247590 [==============================] - 5s 4us/step - loss: 1.1325e-05 - rmse: 0.0021 - r_square: 0.9989 - val_loss: 1.4059e-05 - val_rmse: 0.0023 - val_r_square: 0.9986\n",
      "Epoch 60/200\n",
      "1247590/1247590 [==============================] - 5s 4us/step - loss: 1.1263e-05 - rmse: 0.0021 - r_square: 0.9989 - val_loss: 1.0325e-05 - val_rmse: 0.0019 - val_r_square: 0.9990\n",
      "Epoch 61/200\n",
      "1247590/1247590 [==============================] - 6s 5us/step - loss: 1.1239e-05 - rmse: 0.0021 - r_square: 0.9989 - val_loss: 2.1357e-05 - val_rmse: 0.0031 - val_r_square: 0.9979\n",
      "Epoch 62/200\n",
      "1247590/1247590 [==============================] - 5s 4us/step - loss: 1.1257e-05 - rmse: 0.0021 - r_square: 0.9989 - val_loss: 1.0743e-05 - val_rmse: 0.0020 - val_r_square: 0.9989\n",
      "Epoch 63/200\n",
      "1247590/1247590 [==============================] - 5s 4us/step - loss: 1.1232e-05 - rmse: 0.0021 - r_square: 0.9989 - val_loss: 1.0908e-05 - val_rmse: 0.0020 - val_r_square: 0.9989\n",
      "Epoch 64/200\n",
      "1247590/1247590 [==============================] - 5s 4us/step - loss: 1.1227e-05 - rmse: 0.0020 - r_square: 0.9989 - val_loss: 1.1775e-05 - val_rmse: 0.0022 - val_r_square: 0.9988\n",
      "Epoch 65/200\n",
      "1247590/1247590 [==============================] - 5s 4us/step - loss: 1.1204e-05 - rmse: 0.0020 - r_square: 0.9989 - val_loss: 1.4965e-05 - val_rmse: 0.0024 - val_r_square: 0.9985s: 1.1212e-05 - rmse: 0.0021 - r_squa - ETA: 0s - loss: 1.1196e-05 - rmse: 0.0020 - r_square\n",
      "Epoch 66/200\n",
      "1247590/1247590 [==============================] - 5s 4us/step - loss: 1.1165e-05 - rmse: 0.0020 - r_square: 0.9989 - val_loss: 1.1894e-05 - val_rmse: 0.0020 - val_r_square: 0.9988\n",
      "Epoch 67/200\n",
      "1247590/1247590 [==============================] - 5s 4us/step - loss: 1.1182e-05 - rmse: 0.0020 - r_square: 0.9989 - val_loss: 1.0271e-05 - val_rmse: 0.0019 - val_r_square: 0.9990\n",
      "Epoch 68/200\n",
      "1247590/1247590 [==============================] - 5s 4us/step - loss: 1.1106e-05 - rmse: 0.0020 - r_square: 0.9989 - val_loss: 1.1232e-05 - val_rmse: 0.0021 - val_r_square: 0.9989\n",
      "Epoch 69/200\n",
      "1247590/1247590 [==============================] - 5s 4us/step - loss: 1.1128e-05 - rmse: 0.0020 - r_square: 0.9989 - val_loss: 1.1025e-05 - val_rmse: 0.0020 - val_r_square: 0.9989\n",
      "Epoch 70/200\n",
      "1247590/1247590 [==============================] - 6s 4us/step - loss: 1.1122e-05 - rmse: 0.0020 - r_square: 0.9989 - val_loss: 1.0539e-05 - val_rmse: 0.0019 - val_r_square: 0.9990\n",
      "Epoch 71/200\n",
      "1247590/1247590 [==============================] - 5s 4us/step - loss: 1.1060e-05 - rmse: 0.0020 - r_square: 0.9989 - val_loss: 1.1185e-05 - val_rmse: 0.0020 - val_r_square: 0.9989\n",
      "Epoch 72/200\n",
      "1247590/1247590 [==============================] - 5s 4us/step - loss: 1.1048e-05 - rmse: 0.0020 - r_square: 0.9989 - val_loss: 1.4071e-05 - val_rmse: 0.0024 - val_r_square: 0.9986\n",
      "Epoch 73/200\n",
      "1247590/1247590 [==============================] - 5s 4us/step - loss: 1.1063e-05 - rmse: 0.0020 - r_square: 0.9989 - val_loss: 1.2840e-05 - val_rmse: 0.0022 - val_r_square: 0.9987\n",
      "Epoch 74/200\n",
      "1247590/1247590 [==============================] - 5s 4us/step - loss: 1.1001e-05 - rmse: 0.0020 - r_square: 0.9989 - val_loss: 1.0226e-05 - val_rmse: 0.0020 - val_r_square: 0.9990\n",
      "Epoch 75/200\n",
      "1247590/1247590 [==============================] - 5s 4us/step - loss: 1.1050e-05 - rmse: 0.0020 - r_square: 0.9989 - val_loss: 1.0308e-05 - val_rmse: 0.0020 - val_r_square: 0.9990\n",
      "Epoch 76/200\n",
      "1247590/1247590 [==============================] - 5s 4us/step - loss: 1.0984e-05 - rmse: 0.0020 - r_square: 0.9989 - val_loss: 1.0570e-05 - val_rmse: 0.0020 - val_r_square: 0.9990\n",
      "Epoch 77/200\n",
      "1247590/1247590 [==============================] - 5s 4us/step - loss: 1.0973e-05 - rmse: 0.0020 - r_square: 0.9989 - val_loss: 1.1843e-05 - val_rmse: 0.0023 - val_r_square: 0.9988\n",
      "Epoch 78/200\n",
      "1247590/1247590 [==============================] - 5s 4us/step - loss: 1.0924e-05 - rmse: 0.0020 - r_square: 0.9989 - val_loss: 1.0341e-05 - val_rmse: 0.0019 - val_r_square: 0.9990\n",
      "Epoch 79/200\n",
      "1247590/1247590 [==============================] - 5s 4us/step - loss: 1.0945e-05 - rmse: 0.0020 - r_square: 0.9989 - val_loss: 1.0159e-05 - val_rmse: 0.0019 - val_r_square: 0.9990\n",
      "Epoch 80/200\n",
      "1247590/1247590 [==============================] - 5s 4us/step - loss: 1.0953e-05 - rmse: 0.0020 - r_square: 0.9989 - val_loss: 1.0496e-05 - val_rmse: 0.0019 - val_r_square: 0.9990\n",
      "Epoch 81/200\n",
      "1247590/1247590 [==============================] - 5s 4us/step - loss: 1.0909e-05 - rmse: 0.0020 - r_square: 0.9989 - val_loss: 1.0473e-05 - val_rmse: 0.0019 - val_r_square: 0.9990\n",
      "Epoch 82/200\n",
      "1247590/1247590 [==============================] - 5s 4us/step - loss: 1.0903e-05 - rmse: 0.0020 - r_square: 0.9989 - val_loss: 1.0741e-05 - val_rmse: 0.0020 - val_r_square: 0.9989s: 1.0887e-05 - rmse: 0.0020 - r_square: 0.9\n",
      "Epoch 83/200\n",
      "1247590/1247590 [==============================] - 5s 4us/step - loss: 1.0880e-05 - rmse: 0.0020 - r_square: 0.9989 - val_loss: 1.0258e-05 - val_rmse: 0.0019 - val_r_square: 0.9990\n",
      "Epoch 84/200\n"
     ]
    },
    {
     "name": "stdout",
     "output_type": "stream",
     "text": [
      "1247590/1247590 [==============================] - 5s 4us/step - loss: 1.0852e-05 - rmse: 0.0020 - r_square: 0.9989 - val_loss: 1.1759e-05 - val_rmse: 0.0021 - val_r_square: 0.9988\n",
      "Epoch 85/200\n",
      "1247590/1247590 [==============================] - 6s 5us/step - loss: 1.0817e-05 - rmse: 0.0020 - r_square: 0.9989 - val_loss: 1.2104e-05 - val_rmse: 0.0022 - val_r_square: 0.9988\n",
      "Epoch 86/200\n",
      "1247590/1247590 [==============================] - 6s 4us/step - loss: 1.0790e-05 - rmse: 0.0020 - r_square: 0.9989 - val_loss: 1.1130e-05 - val_rmse: 0.0020 - val_r_square: 0.9989\n",
      "Epoch 87/200\n",
      "1247590/1247590 [==============================] - 5s 4us/step - loss: 1.0811e-05 - rmse: 0.0020 - r_square: 0.9989 - val_loss: 1.0700e-05 - val_rmse: 0.0020 - val_r_square: 0.9989\n",
      "Epoch 88/200\n",
      "1247590/1247590 [==============================] - 5s 4us/step - loss: 1.0793e-05 - rmse: 0.0020 - r_square: 0.9989 - val_loss: 1.0398e-05 - val_rmse: 0.0020 - val_r_square: 0.9990\n",
      "Epoch 89/200\n",
      "1247590/1247590 [==============================] - 5s 4us/step - loss: 1.0796e-05 - rmse: 0.0020 - r_square: 0.9989 - val_loss: 1.0970e-05 - val_rmse: 0.0020 - val_r_square: 0.9989\n",
      "Epoch 90/200\n",
      "1247590/1247590 [==============================] - 5s 4us/step - loss: 1.0799e-05 - rmse: 0.0020 - r_square: 0.9989 - val_loss: 1.0950e-05 - val_rmse: 0.0021 - val_r_square: 0.9989\n",
      "Epoch 91/200\n",
      "1247590/1247590 [==============================] - 5s 4us/step - loss: 1.0778e-05 - rmse: 0.0020 - r_square: 0.9989 - val_loss: 1.3046e-05 - val_rmse: 0.0024 - val_r_square: 0.9987\n",
      "Epoch 92/200\n",
      "1247590/1247590 [==============================] - 6s 5us/step - loss: 1.0739e-05 - rmse: 0.0020 - r_square: 0.9989 - val_loss: 1.0160e-05 - val_rmse: 0.0020 - val_r_square: 0.9990\n",
      "Epoch 93/200\n",
      "1247590/1247590 [==============================] - 6s 5us/step - loss: 1.0751e-05 - rmse: 0.0020 - r_square: 0.9989 - val_loss: 1.1169e-05 - val_rmse: 0.0021 - val_r_square: 0.9989\n",
      "Epoch 94/200\n",
      "1247590/1247590 [==============================] - 6s 5us/step - loss: 1.0723e-05 - rmse: 0.0020 - r_square: 0.9989 - val_loss: 1.1169e-05 - val_rmse: 0.0022 - val_r_square: 0.9989\n",
      "Epoch 95/200\n",
      "1247590/1247590 [==============================] - 5s 4us/step - loss: 1.0738e-05 - rmse: 0.0020 - r_square: 0.9989 - val_loss: 1.2092e-05 - val_rmse: 0.0021 - val_r_square: 0.9988\n",
      "Epoch 96/200\n",
      "1247590/1247590 [==============================] - 5s 4us/step - loss: 1.0725e-05 - rmse: 0.0020 - r_square: 0.9989 - val_loss: 1.0696e-05 - val_rmse: 0.0019 - val_r_square: 0.9989\n",
      "Epoch 97/200\n",
      "1247590/1247590 [==============================] - 5s 4us/step - loss: 1.0654e-05 - rmse: 0.0020 - r_square: 0.9989 - val_loss: 1.2824e-05 - val_rmse: 0.0022 - val_r_square: 0.9987\n",
      "Epoch 98/200\n",
      "1247590/1247590 [==============================] - 5s 4us/step - loss: 1.0701e-05 - rmse: 0.0020 - r_square: 0.9989 - val_loss: 1.1720e-05 - val_rmse: 0.0021 - val_r_square: 0.9988\n",
      "Epoch 99/200\n",
      "1247590/1247590 [==============================] - 5s 4us/step - loss: 1.0689e-05 - rmse: 0.0020 - r_square: 0.9989 - val_loss: 1.0925e-05 - val_rmse: 0.0021 - val_r_square: 0.9989\n",
      "Epoch 100/200\n",
      "1247590/1247590 [==============================] - 6s 5us/step - loss: 1.0691e-05 - rmse: 0.0020 - r_square: 0.9989 - val_loss: 1.0273e-05 - val_rmse: 0.0019 - val_r_square: 0.9990\n",
      "Epoch 101/200\n",
      "1247590/1247590 [==============================] - 6s 4us/step - loss: 1.0718e-05 - rmse: 0.0020 - r_square: 0.9989 - val_loss: 1.0470e-05 - val_rmse: 0.0019 - val_r_square: 0.9990\n",
      "Epoch 102/200\n",
      "1247590/1247590 [==============================] - 6s 5us/step - loss: 1.0684e-05 - rmse: 0.0020 - r_square: 0.9989 - val_loss: 1.0514e-05 - val_rmse: 0.0020 - val_r_square: 0.9990\n",
      "Epoch 103/200\n",
      "1247590/1247590 [==============================] - 6s 5us/step - loss: 1.0642e-05 - rmse: 0.0020 - r_square: 0.9989 - val_loss: 1.0296e-05 - val_rmse: 0.0020 - val_r_square: 0.9990\n",
      "Epoch 104/200\n",
      "1247590/1247590 [==============================] - 5s 4us/step - loss: 1.0628e-05 - rmse: 0.0020 - r_square: 0.9989 - val_loss: 1.0512e-05 - val_rmse: 0.0019 - val_r_square: 0.9990\n",
      "Epoch 00104: early stopping\n"
     ]
    }
   ],
   "source": [
    "# fit the model\n",
    "result = model.fit(XX_train, \n",
    "                   yy_train,\n",
    "                   epochs = 200,\n",
    "                   batch_size=256,\n",
    "                   validation_data=(XX_validation, yy_validation),\n",
    "                   callbacks = [es]\n",
    "                  )"
   ]
  },
  {
   "cell_type": "code",
   "execution_count": 24,
   "metadata": {},
   "outputs": [],
   "source": [
    "model.save_weights('model.h5')"
   ]
  },
  {
   "cell_type": "code",
   "execution_count": 17,
   "metadata": {},
   "outputs": [
    {
     "name": "stdout",
     "output_type": "stream",
     "text": [
      "[[ 1.5080748e-02]\n",
      " [-3.2871806e-03]\n",
      " [ 8.7383926e-01]\n",
      " [ 1.8917139e+00]\n",
      " [ 6.5778337e-02]\n",
      " [ 1.2980361e+01]\n",
      " [ 2.9842747e+01]\n",
      " [ 8.6128616e+00]\n",
      " [ 9.5336695e+00]\n",
      " [ 4.9276928e+01]]\n"
     ]
    }
   ],
   "source": [
    "predictions = model.predict(X_test)\n",
    "pre_act = sc.inverse_transform(predictions)\n",
    "print(pre_act[:10])"
   ]
  },
  {
   "cell_type": "code",
   "execution_count": 18,
   "metadata": {},
   "outputs": [],
   "source": [
    "y_act = sc.inverse_transform(y_test)"
   ]
  },
  {
   "cell_type": "code",
   "execution_count": 19,
   "metadata": {},
   "outputs": [
    {
     "data": {
      "text/plain": [
       "array([[2.000e-02],\n",
       "       [1.200e-01],\n",
       "       [1.120e+00],\n",
       "       [1.500e+00],\n",
       "       [4.000e-02],\n",
       "       [1.255e+01],\n",
       "       [3.055e+01],\n",
       "       [8.300e+00],\n",
       "       [9.400e+00],\n",
       "       [5.065e+01]])"
      ]
     },
     "execution_count": 19,
     "metadata": {},
     "output_type": "execute_result"
    }
   ],
   "source": [
    "y_act[:10]"
   ]
  },
  {
   "cell_type": "markdown",
   "metadata": {},
   "source": [
    "## Plot learning curves including R^2 and RMSE"
   ]
  },
  {
   "cell_type": "code",
   "execution_count": 20,
   "metadata": {},
   "outputs": [
    {
     "data": {
      "image/png": "[encoded data removed]",
      "text/plain": [
       "<Figure size 432x288 with 1 Axes>"
      ]
     },
     "metadata": {},
     "output_type": "display_data"
    }
   ],
   "source": [
    "# plot training curve for rmse\n",
    "plt.plot(result.history['rmse'])\n",
    "plt.plot(result.history['val_rmse'])\n",
    "plt.title('rmse')\n",
    "plt.ylabel('rmse')\n",
    "plt.xlabel('epoch')\n",
    "plt.legend(['train', 'validation'], loc='upper right')\n",
    "plt.show()"
   ]
  },
  {
   "cell_type": "code",
   "execution_count": 21,
   "metadata": {},
   "outputs": [
    {
     "data": {
      "image/png": "[encoded data removed]",
      "text/plain": [
       "<Figure size 432x288 with 1 Axes>"
      ]
     },
     "metadata": {},
     "output_type": "display_data"
    }
   ],
   "source": [
    "# plot training curve for R^2\n",
    "plt.plot(result.history['r_square'])\n",
    "plt.plot(result.history['val_r_square'])\n",
    "plt.title('model R^2')\n",
    "plt.ylabel('R^2')\n",
    "plt.xlabel('epoch')\n",
    "plt.legend(['train', 'validation'], loc='lower right')\n",
    "plt.show()"
   ]
  },
  {
   "cell_type": "code",
   "execution_count": 22,
   "metadata": {},
   "outputs": [
    {
     "name": "stdout",
     "output_type": "stream",
     "text": [
      "\n",
      "\n",
      "Mean absolute error (MAE):      0.266426\n",
      "Mean squared error (MSE):       0.199499\n",
      "Root mean squared error (RMSE): 0.446653\n",
      "R square (R^2):                 0.999030\n"
     ]
    }
   ],
   "source": [
    "import sklearn.metrics as skm, math\n",
    "print(\"\\n\")\n",
    "print(\"Mean absolute error (MAE):      %f\" % skm.mean_absolute_error(y_act,pre_act))\n",
    "print(\"Mean squared error (MSE):       %f\" % skm.mean_squared_error(y_act,pre_act))\n",
    "print(\"Root mean squared error (RMSE): %f\" % math.sqrt(skm.mean_squared_error(y_act,pre_act)))\n",
    "print(\"R square (R^2):                 %f\" % skm.r2_score(y_act,pre_act))"
   ]
  },
  {
   "cell_type": "markdown",
   "metadata": {},
   "source": [
    "## Try dropout"
   ]
  },
  {
   "cell_type": "code",
   "execution_count": 23,
   "metadata": {},
   "outputs": [
    {
     "name": "stderr",
     "output_type": "stream",
     "text": [
      "W0703 10:12:23.443717  9196 deprecation.py:506] From C:\\Users\\mayingzh\\AppData\\Roaming\\Python\\Python36\\site-packages\\keras\\backend\\tensorflow_backend.py:3445: calling dropout (from tensorflow.python.ops.nn_ops) with keep_prob is deprecated and will be removed in a future version.\n",
      "Instructions for updating:\n",
      "Please use `rate` instead of `keep_prob`. Rate should be set to `rate = 1 - keep_prob`.\n"
     ]
    },
    {
     "name": "stdout",
     "output_type": "stream",
     "text": [
      "Train on 1247590 samples, validate on 311898 samples\n",
      "Epoch 1/200\n",
      "1247590/1247590 [==============================] - 6s 5us/step - loss: 3.1954e-04 - rmse: 0.0085 - r_square: 0.9686 - val_loss: 3.3296e-04 - val_rmse: 0.0108 - val_r_square: 0.9680\n",
      "Epoch 2/200\n",
      "1247590/1247590 [==============================] - 6s 5us/step - loss: 3.8277e-05 - rmse: 0.0039 - r_square: 0.9962 - val_loss: 2.7505e-04 - val_rmse: 0.0094 - val_r_square: 0.9736\n",
      "Epoch 3/200\n",
      "1247590/1247590 [==============================] - 6s 5us/step - loss: 2.7840e-05 - rmse: 0.0033 - r_square: 0.9972 - val_loss: 3.2323e-04 - val_rmse: 0.0099 - val_r_square: 0.9691\n",
      "Epoch 4/200\n",
      "1247590/1247590 [==============================] - 7s 5us/step - loss: 2.4423e-05 - rmse: 0.0031 - r_square: 0.9976 - val_loss: 2.7081e-04 - val_rmse: 0.0089 - val_r_square: 0.9741\n",
      "Epoch 5/200\n",
      "1247590/1247590 [==============================] - 7s 5us/step - loss: 2.2799e-05 - rmse: 0.0030 - r_square: 0.9977 - val_loss: 1.9173e-04 - val_rmse: 0.0074 - val_r_square: 0.9817\n",
      "Epoch 6/200\n",
      "1247590/1247590 [==============================] - 6s 5us/step - loss: 2.1750e-05 - rmse: 0.0029 - r_square: 0.9978 - val_loss: 2.0971e-04 - val_rmse: 0.0077 - val_r_square: 0.9800\n",
      "Epoch 7/200\n",
      "1247590/1247590 [==============================] - 7s 5us/step - loss: 2.0942e-05 - rmse: 0.0028 - r_square: 0.9979 - val_loss: 2.8786e-04 - val_rmse: 0.0091 - val_r_square: 0.9725\n",
      "Epoch 8/200\n",
      "1247590/1247590 [==============================] - 7s 5us/step - loss: 2.0217e-05 - rmse: 0.0028 - r_square: 0.9980 - val_loss: 2.3720e-04 - val_rmse: 0.0083 - val_r_square: 0.9774\n",
      "Epoch 9/200\n",
      "1247590/1247590 [==============================] - 7s 5us/step - loss: 1.9633e-05 - rmse: 0.0027 - r_square: 0.9981 - val_loss: 2.0354e-04 - val_rmse: 0.0074 - val_r_square: 0.9807\n",
      "Epoch 10/200\n",
      "1247590/1247590 [==============================] - 7s 5us/step - loss: 1.9049e-05 - rmse: 0.0027 - r_square: 0.9981 - val_loss: 1.9415e-04 - val_rmse: 0.0072 - val_r_square: 0.9816\n",
      "Epoch 11/200\n",
      "1247590/1247590 [==============================] - 7s 5us/step - loss: 1.8768e-05 - rmse: 0.0027 - r_square: 0.9981 - val_loss: 2.3499e-04 - val_rmse: 0.0079 - val_r_square: 0.9777\n",
      "Epoch 12/200\n",
      "1247590/1247590 [==============================] - 6s 5us/step - loss: 1.8355e-05 - rmse: 0.0026 - r_square: 0.9982 - val_loss: 2.3452e-04 - val_rmse: 0.0081 - val_r_square: 0.9776\n",
      "Epoch 13/200\n",
      "1247590/1247590 [==============================] - 7s 5us/step - loss: 1.8168e-05 - rmse: 0.0026 - r_square: 0.9982 - val_loss: 2.1073e-04 - val_rmse: 0.0076 - val_r_square: 0.9800\n",
      "Epoch 14/200\n",
      "1247590/1247590 [==============================] - 7s 5us/step - loss: 1.7821e-05 - rmse: 0.0026 - r_square: 0.9982 - val_loss: 1.9633e-04 - val_rmse: 0.0074 - val_r_square: 0.9813\n",
      "Epoch 15/200\n",
      "1247590/1247590 [==============================] - 7s 5us/step - loss: 1.7644e-05 - rmse: 0.0026 - r_square: 0.9982 - val_loss: 2.1833e-04 - val_rmse: 0.0077 - val_r_square: 0.9792\n",
      "Epoch 16/200\n",
      "1247590/1247590 [==============================] - 6s 5us/step - loss: 1.7334e-05 - rmse: 0.0025 - r_square: 0.9983 - val_loss: 1.9250e-04 - val_rmse: 0.0071 - val_r_square: 0.9817\n",
      "Epoch 17/200\n",
      "1247590/1247590 [==============================] - 7s 5us/step - loss: 1.7221e-05 - rmse: 0.0025 - r_square: 0.9983 - val_loss: 2.2708e-04 - val_rmse: 0.0078 - val_r_square: 0.9784\n",
      "Epoch 18/200\n",
      "1247590/1247590 [==============================] - 7s 5us/step - loss: 1.7096e-05 - rmse: 0.0025 - r_square: 0.9983 - val_loss: 1.8858e-04 - val_rmse: 0.0069 - val_r_square: 0.9821\n",
      "Epoch 19/200\n",
      "1247590/1247590 [==============================] - 7s 5us/step - loss: 1.6846e-05 - rmse: 0.0025 - r_square: 0.9983 - val_loss: 1.8942e-04 - val_rmse: 0.0069 - val_r_square: 0.9820\n",
      "Epoch 20/200\n",
      "1247590/1247590 [==============================] - 7s 5us/step - loss: 1.6744e-05 - rmse: 0.0025 - r_square: 0.9983 - val_loss: 1.6509e-04 - val_rmse: 0.0067 - val_r_square: 0.9843\n",
      "Epoch 21/200\n",
      "1247590/1247590 [==============================] - 7s 5us/step - loss: 1.6643e-05 - rmse: 0.0025 - r_square: 0.9983 - val_loss: 1.6821e-04 - val_rmse: 0.0068 - val_r_square: 0.9840\n",
      "Epoch 22/200\n",
      "1247590/1247590 [==============================] - 6s 5us/step - loss: 1.6428e-05 - rmse: 0.0025 - r_square: 0.9984 - val_loss: 1.9596e-04 - val_rmse: 0.0071 - val_r_square: 0.9814\n",
      "Epoch 23/200\n",
      "1247590/1247590 [==============================] - 7s 5us/step - loss: 1.6355e-05 - rmse: 0.0025 - r_square: 0.9984 - val_loss: 1.8343e-04 - val_rmse: 0.0071 - val_r_square: 0.9826\n",
      "Epoch 24/200\n",
      "1247590/1247590 [==============================] - 7s 5us/step - loss: 1.6190e-05 - rmse: 0.0025 - r_square: 0.9984 - val_loss: 1.7250e-04 - val_rmse: 0.0067 - val_r_square: 0.9837\n",
      "Epoch 25/200\n",
      "1247590/1247590 [==============================] - 6s 5us/step - loss: 1.6145e-05 - rmse: 0.0024 - r_square: 0.9984 - val_loss: 1.5556e-04 - val_rmse: 0.0064 - val_r_square: 0.9853\n",
      "Epoch 26/200\n",
      "1247590/1247590 [==============================] - 6s 5us/step - loss: 1.5978e-05 - rmse: 0.0024 - r_square: 0.9984 - val_loss: 1.7953e-04 - val_rmse: 0.0068 - val_r_square: 0.9830: 1.5890e-05 - rms\n",
      "Epoch 27/200\n",
      "1247590/1247590 [==============================] - 6s 5us/step - loss: 1.5886e-05 - rmse: 0.0024 - r_square: 0.9984 - val_loss: 1.8905e-04 - val_rmse: 0.0070 - val_r_square: 0.9821\n",
      "Epoch 28/200\n",
      "1247590/1247590 [==============================] - 6s 5us/step - loss: 1.5871e-05 - rmse: 0.0024 - r_square: 0.9984 - val_loss: 1.7533e-04 - val_rmse: 0.0068 - val_r_square: 0.9834\n",
      "Epoch 29/200\n",
      "1247590/1247590 [==============================] - 6s 5us/step - loss: 1.5689e-05 - rmse: 0.0024 - r_square: 0.9984 - val_loss: 1.6629e-04 - val_rmse: 0.0067 - val_r_square: 0.9843se: 0.0024 - r_square: 0. - ETA: 3s - loss: 1.5651e-05 - rmse: 0.00 - ETA: 2s - loss: 1.\n",
      "Epoch 30/200\n",
      "1247590/1247590 [==============================] - 6s 5us/step - loss: 1.5674e-05 - rmse: 0.0024 - r_square: 0.9984 - val_loss: 2.0065e-04 - val_rmse: 0.0071 - val_r_square: 0.9810\n",
      "Epoch 31/200\n",
      "1247590/1247590 [==============================] - 6s 5us/step - loss: 1.5677e-05 - rmse: 0.0024 - r_square: 0.9984 - val_loss: 1.3714e-04 - val_rmse: 0.0060 - val_r_square: 0.9870\n",
      "Epoch 32/200\n",
      "1247590/1247590 [==============================] - 6s 5us/step - loss: 1.5623e-05 - rmse: 0.0024 - r_square: 0.9984 - val_loss: 1.9300e-04 - val_rmse: 0.0072 - val_r_square: 0.9817\n",
      "Epoch 33/200\n",
      "1247590/1247590 [==============================] - 6s 5us/step - loss: 1.5384e-05 - rmse: 0.0024 - r_square: 0.9985 - val_loss: 1.9213e-04 - val_rmse: 0.0070 - val_r_square: 0.9818\n",
      "Epoch 34/200\n",
      "1247590/1247590 [==============================] - 6s 5us/step - loss: 1.5397e-05 - rmse: 0.0024 - r_square: 0.9985 - val_loss: 1.7290e-04 - val_rmse: 0.0068 - val_r_square: 0.9836\n",
      "Epoch 35/200\n",
      "1247590/1247590 [==============================] - 6s 5us/step - loss: 1.5316e-05 - rmse: 0.0024 - r_square: 0.9985 - val_loss: 1.9517e-04 - val_rmse: 0.0071 - val_r_square: 0.9815\n",
      "Epoch 36/200\n",
      "1247590/1247590 [==============================] - 6s 5us/step - loss: 1.5338e-05 - rmse: 0.0024 - r_square: 0.9985 - val_loss: 1.5766e-04 - val_rmse: 0.0064 - val_r_square: 0.9851\n",
      "Epoch 37/200\n",
      "1247590/1247590 [==============================] - 6s 5us/step - loss: 1.5195e-05 - rmse: 0.0024 - r_square: 0.9985 - val_loss: 1.5161e-04 - val_rmse: 0.0063 - val_r_square: 0.9856: 1.5128e-05 - rmse: 0.0024 - r_sq - ETA: 2s - loss: 1.\n",
      "Epoch 38/200\n",
      "1247590/1247590 [==============================] - 6s 5us/step - loss: 1.5236e-05 - rmse: 0.0024 - r_square: 0.9985 - val_loss: 1.6892e-04 - val_rmse: 0.0065 - val_r_square: 0.9840\n",
      "Epoch 39/200\n",
      "1247590/1247590 [==============================] - 6s 5us/step - loss: 1.5043e-05 - rmse: 0.0024 - r_square: 0.9985 - val_loss: 1.5668e-04 - val_rmse: 0.0063 - val_r_square: 0.9852\n",
      "Epoch 40/200\n",
      "1247590/1247590 [==============================] - 7s 5us/step - loss: 1.5080e-05 - rmse: 0.0024 - r_square: 0.9985 - val_loss: 1.6208e-04 - val_rmse: 0.0066 - val_r_square: 0.9846\n",
      "Epoch 41/200\n",
      "1247590/1247590 [==============================] - 7s 5us/step - loss: 1.5016e-05 - rmse: 0.0024 - r_square: 0.9985 - val_loss: 1.7774e-04 - val_rmse: 0.0068 - val_r_square: 0.9832\n",
      "Epoch 42/200\n"
     ]
    },
    {
     "name": "stdout",
     "output_type": "stream",
     "text": [
      "1247590/1247590 [==============================] - 7s 5us/step - loss: 1.4936e-05 - rmse: 0.0024 - r_square: 0.9985 - val_loss: 1.6884e-04 - val_rmse: 0.0067 - val_r_square: 0.9840\n",
      "Epoch 43/200\n",
      "1247590/1247590 [==============================] - 6s 5us/step - loss: 1.4856e-05 - rmse: 0.0024 - r_square: 0.9985 - val_loss: 1.7948e-04 - val_rmse: 0.0068 - val_r_square: 0.9830\n",
      "Epoch 44/200\n",
      "1247590/1247590 [==============================] - 7s 5us/step - loss: 1.4868e-05 - rmse: 0.0023 - r_square: 0.9985 - val_loss: 1.7056e-04 - val_rmse: 0.0066 - val_r_square: 0.9839\n",
      "Epoch 45/200\n",
      "1247590/1247590 [==============================] - 7s 5us/step - loss: 1.4873e-05 - rmse: 0.0023 - r_square: 0.9985 - val_loss: 1.5184e-04 - val_rmse: 0.0061 - val_r_square: 0.9857\n",
      "Epoch 46/200\n",
      "1247590/1247590 [==============================] - 6s 5us/step - loss: 1.4825e-05 - rmse: 0.0023 - r_square: 0.9985 - val_loss: 1.8599e-04 - val_rmse: 0.0069 - val_r_square: 0.9824\n",
      "Epoch 47/200\n",
      "1247590/1247590 [==============================] - 6s 5us/step - loss: 1.4646e-05 - rmse: 0.0023 - r_square: 0.9985 - val_loss: 1.7482e-04 - val_rmse: 0.0066 - val_r_square: 0.9835\n",
      "Epoch 48/200\n",
      "1247590/1247590 [==============================] - 6s 5us/step - loss: 1.4608e-05 - rmse: 0.0023 - r_square: 0.9985 - val_loss: 1.9616e-04 - val_rmse: 0.0070 - val_r_square: 0.9814\n",
      "Epoch 49/200\n",
      "1247590/1247590 [==============================] - 6s 5us/step - loss: 1.4698e-05 - rmse: 0.0023 - r_square: 0.9985 - val_loss: 1.5423e-04 - val_rmse: 0.0064 - val_r_square: 0.9854\n",
      "Epoch 50/200\n",
      "1247590/1247590 [==============================] - 6s 5us/step - loss: 1.4671e-05 - rmse: 0.0023 - r_square: 0.9985 - val_loss: 1.5732e-04 - val_rmse: 0.0065 - val_r_square: 0.9851- rmse: 0.0023 - r_square: 0\n",
      "Epoch 51/200\n",
      "1247590/1247590 [==============================] - 6s 5us/step - loss: 1.4560e-05 - rmse: 0.0023 - r_square: 0.9986 - val_loss: 1.6227e-04 - val_rmse: 0.0064 - val_r_square: 0.9847\n",
      "Epoch 52/200\n",
      "1247590/1247590 [==============================] - 6s 5us/step - loss: 1.4547e-05 - rmse: 0.0023 - r_square: 0.9986 - val_loss: 1.6214e-04 - val_rmse: 0.0064 - val_r_square: 0.9847\n",
      "Epoch 53/200\n",
      "1247590/1247590 [==============================] - 6s 5us/step - loss: 1.4516e-05 - rmse: 0.0023 - r_square: 0.9986 - val_loss: 1.9235e-04 - val_rmse: 0.0071 - val_r_square: 0.9818\n",
      "Epoch 54/200\n",
      "1247590/1247590 [==============================] - 6s 5us/step - loss: 1.4434e-05 - rmse: 0.0023 - r_square: 0.9986 - val_loss: 1.6886e-04 - val_rmse: 0.0064 - val_r_square: 0.9840\n",
      "Epoch 55/200\n",
      "1247590/1247590 [==============================] - 7s 5us/step - loss: 1.4534e-05 - rmse: 0.0023 - r_square: 0.9986 - val_loss: 1.9063e-04 - val_rmse: 0.0069 - val_r_square: 0.9820\n",
      "Epoch 56/200\n",
      "1247590/1247590 [==============================] - 6s 5us/step - loss: 1.4452e-05 - rmse: 0.0023 - r_square: 0.9986 - val_loss: 1.5997e-04 - val_rmse: 0.0065 - val_r_square: 0.9848\n",
      "Epoch 00056: early stopping\n"
     ]
    }
   ],
   "source": [
    "model2 = Sequential([\n",
    "    Dense(64, activation='relu', input_shape=(6,)),\n",
    "    Dropout(0.1),\n",
    "    Dense(128, activation='relu'),\n",
    "    Dense(64, activation='relu'),\n",
    "    Dense(1, activation='linear'),\n",
    "])\n",
    "model2.compile(\n",
    "  optimizer='adam',\n",
    "  loss='mse',\n",
    "  metrics=[rmse, r_square],\n",
    ")\n",
    "# fit the model\n",
    "result2 = model2.fit(XX_train, \n",
    "                   yy_train,\n",
    "                   epochs = 200,\n",
    "                   batch_size=256,\n",
    "                   validation_data=(XX_validation, yy_validation),\n",
    "                   callbacks = [es]\n",
    "                  )"
   ]
  },
  {
   "cell_type": "code",
   "execution_count": 24,
   "metadata": {},
   "outputs": [
    {
     "name": "stdout",
     "output_type": "stream",
     "text": [
      "[[2.3945363e-02]\n",
      " [8.6650796e-02]\n",
      " [1.2148048e+00]\n",
      " [2.1027565e+00]\n",
      " [6.0168069e-02]\n",
      " [1.1448849e+01]\n",
      " [2.6773474e+01]\n",
      " [7.4669123e+00]\n",
      " [9.2257805e+00]\n",
      " [4.3866779e+01]]\n",
      "\n",
      "\n",
      "Mean absolute error (MAE):      0.894386\n",
      "Mean squared error (MSE):       3.063334\n",
      "Root mean squared error (RMSE): 1.750238\n",
      "R square (R^2):                 0.985106\n"
     ]
    }
   ],
   "source": [
    "predictions2 = model2.predict(X_test)\n",
    "pre_act2 = sc.inverse_transform(predictions2)\n",
    "print(pre_act2[:10])\n",
    "print(\"\\n\")\n",
    "print(\"Mean absolute error (MAE):      %f\" % skm.mean_absolute_error(y_act,pre_act2))\n",
    "print(\"Mean squared error (MSE):       %f\" % skm.mean_squared_error(y_act,pre_act2))\n",
    "print(\"Root mean squared error (RMSE): %f\" % math.sqrt(skm.mean_squared_error(y_act,pre_act2)))\n",
    "print(\"R square (R^2):                 %f\" % skm.r2_score(y_act,pre_act2))"
   ]
  },
  {
   "cell_type": "code",
   "execution_count": null,
   "metadata": {},
   "outputs": [],
   "source": []
  },
  {
   "cell_type": "code",
   "execution_count": null,
   "metadata": {},
   "outputs": [],
   "source": []
  },
  {
   "cell_type": "code",
   "execution_count": null,
   "metadata": {},
   "outputs": [],
   "source": []
  },
  {
   "cell_type": "markdown",
   "metadata": {},
   "source": [
    "## Try batch normalization technique to regularize neurons"
   ]
  },
  {
   "cell_type": "code",
   "execution_count": 25,
   "metadata": {},
   "outputs": [
    {
     "name": "stdout",
     "output_type": "stream",
     "text": [
      "Train on 1247590 samples, validate on 311898 samples\n",
      "Epoch 1/200\n",
      "1247590/1247590 [==============================] - 6s 5us/step - loss: 2.7744e-04 - rmse: 0.0098 - r_square: 0.9732 - val_loss: 1.4853e-04 - val_rmse: 0.0069 - val_r_square: 0.98560s - loss: 2.8614e-04 - rmse: 0.0100 - r_squ\n",
      "Epoch 2/200\n",
      "1247590/1247590 [==============================] - 6s 5us/step - loss: 1.8984e-04 - rmse: 0.0077 - r_square: 0.9816 - val_loss: 3.8211e-05 - val_rmse: 0.0043 - val_r_square: 0.9962\n",
      "Epoch 3/200\n",
      "1247590/1247590 [==============================] - 6s 5us/step - loss: 1.7847e-04 - rmse: 0.0074 - r_square: 0.9827 - val_loss: 8.9413e-05 - val_rmse: 0.0051 - val_r_square: 0.9914\n",
      "Epoch 4/200\n",
      "1247590/1247590 [==============================] - 6s 5us/step - loss: 1.7647e-04 - rmse: 0.0073 - r_square: 0.9828 - val_loss: 3.8152e-05 - val_rmse: 0.0040 - val_r_square: 0.9963\n",
      "Epoch 5/200\n",
      "1247590/1247590 [==============================] - 6s 5us/step - loss: 1.6909e-04 - rmse: 0.0071 - r_square: 0.9836 - val_loss: 3.6318e-05 - val_rmse: 0.0038 - val_r_square: 0.9964\n",
      "Epoch 6/200\n",
      "1247590/1247590 [==============================] - 6s 5us/step - loss: 1.7205e-04 - rmse: 0.0071 - r_square: 0.9833 - val_loss: 2.6813e-05 - val_rmse: 0.0033 - val_r_square: 0.9974\n",
      "Epoch 7/200\n",
      "1247590/1247590 [==============================] - 6s 5us/step - loss: 1.6957e-04 - rmse: 0.0070 - r_square: 0.9835 - val_loss: 2.5065e-05 - val_rmse: 0.0039 - val_r_square: 0.9975\n",
      "Epoch 8/200\n",
      "1247590/1247590 [==============================] - 7s 5us/step - loss: 1.6630e-04 - rmse: 0.0070 - r_square: 0.9839 - val_loss: 8.0721e-05 - val_rmse: 0.0047 - val_r_square: 0.9922\n",
      "Epoch 9/200\n",
      "1247590/1247590 [==============================] - 7s 5us/step - loss: 1.6595e-04 - rmse: 0.0070 - r_square: 0.9839 - val_loss: 2.0802e-05 - val_rmse: 0.0028 - val_r_square: 0.9980\n",
      "Epoch 10/200\n",
      "1247590/1247590 [==============================] - 6s 5us/step - loss: 1.6472e-04 - rmse: 0.0069 - r_square: 0.9840 - val_loss: 2.6396e-05 - val_rmse: 0.0031 - val_r_square: 0.9974s: 1.6435e-04 - rmse\n",
      "Epoch 11/200\n",
      "1247590/1247590 [==============================] - 6s 5us/step - loss: 1.6254e-04 - rmse: 0.0069 - r_square: 0.9842 - val_loss: 4.4025e-05 - val_rmse: 0.0039 - val_r_square: 0.9958\n",
      "Epoch 12/200\n",
      "1247590/1247590 [==============================] - 6s 5us/step - loss: 1.6496e-04 - rmse: 0.0069 - r_square: 0.9840 - val_loss: 2.7406e-05 - val_rmse: 0.0032 - val_r_square: 0.9973\n",
      "Epoch 13/200\n",
      "1247590/1247590 [==============================] - 6s 5us/step - loss: 1.5927e-04 - rmse: 0.0068 - r_square: 0.9846 - val_loss: 3.5663e-05 - val_rmse: 0.0038 - val_r_square: 0.9965\n",
      "Epoch 14/200\n",
      "1247590/1247590 [==============================] - 6s 5us/step - loss: 1.6132e-04 - rmse: 0.0069 - r_square: 0.9843 - val_loss: 2.3947e-05 - val_rmse: 0.0030 - val_r_square: 0.9977\n",
      "Epoch 15/200\n",
      "1247590/1247590 [==============================] - 6s 5us/step - loss: 1.6227e-04 - rmse: 0.0069 - r_square: 0.9842 - val_loss: 6.3201e-05 - val_rmse: 0.0045 - val_r_square: 0.9939 1.6215e-04 - rmse: 0.0069 - r_square:\n",
      "Epoch 16/200\n",
      "1247590/1247590 [==============================] - 6s 5us/step - loss: 1.6183e-04 - rmse: 0.0069 - r_square: 0.9843 - val_loss: 3.1988e-05 - val_rmse: 0.0041 - val_r_square: 0.9969\n",
      "Epoch 17/200\n",
      "1247590/1247590 [==============================] - 6s 5us/step - loss: 1.5908e-04 - rmse: 0.0068 - r_square: 0.9846 - val_loss: 4.7498e-05 - val_rmse: 0.0041 - val_r_square: 0.9954\n",
      "Epoch 18/200\n",
      "1247590/1247590 [==============================] - 6s 5us/step - loss: 1.6051e-04 - rmse: 0.0068 - r_square: 0.9845 - val_loss: 2.9490e-05 - val_rmse: 0.0041 - val_r_square: 0.99717e-04 - rms - ETA: 0s - loss: 1.6101e-04 - rmse: 0.0068 - r_square: \n",
      "Epoch 19/200\n",
      "1247590/1247590 [==============================] - 6s 5us/step - loss: 1.5935e-04 - rmse: 0.0068 - r_square: 0.9844 - val_loss: 3.4313e-05 - val_rmse: 0.0038 - val_r_square: 0.9966\n",
      "Epoch 20/200\n",
      "1247590/1247590 [==============================] - 6s 5us/step - loss: 1.6147e-04 - rmse: 0.0069 - r_square: 0.9844 - val_loss: 5.7719e-05 - val_rmse: 0.0050 - val_r_square: 0.9944\n",
      "Epoch 21/200\n",
      "1247590/1247590 [==============================] - 6s 5us/step - loss: 1.5891e-04 - rmse: 0.0068 - r_square: 0.9845 - val_loss: 3.7456e-05 - val_rmse: 0.0040 - val_r_square: 0.9963\n",
      "Epoch 22/200\n",
      "1247590/1247590 [==============================] - 6s 5us/step - loss: 1.5881e-04 - rmse: 0.0068 - r_square: 0.9846 - val_loss: 9.5571e-05 - val_rmse: 0.0055 - val_r_square: 0.9907\n",
      "Epoch 23/200\n",
      "1247590/1247590 [==============================] - 6s 5us/step - loss: 1.5684e-04 - rmse: 0.0067 - r_square: 0.9848 - val_loss: 2.8462e-05 - val_rmse: 0.0040 - val_r_square: 0.9972\n",
      "Epoch 24/200\n",
      "1247590/1247590 [==============================] - 6s 5us/step - loss: 1.5615e-04 - rmse: 0.0067 - r_square: 0.9849 - val_loss: 2.7633e-05 - val_rmse: 0.0037 - val_r_square: 0.9973\n",
      "Epoch 25/200\n",
      "1247590/1247590 [==============================] - 6s 5us/step - loss: 1.5716e-04 - rmse: 0.0068 - r_square: 0.9848 - val_loss: 5.1377e-05 - val_rmse: 0.0046 - val_r_square: 0.9950\n",
      "Epoch 26/200\n",
      "1247590/1247590 [==============================] - 6s 5us/step - loss: 1.5904e-04 - rmse: 0.0068 - r_square: 0.9845 - val_loss: 2.7146e-05 - val_rmse: 0.0033 - val_r_square: 0.9974\n",
      "Epoch 27/200\n",
      "1247590/1247590 [==============================] - 6s 5us/step - loss: 1.5970e-04 - rmse: 0.0068 - r_square: 0.9845 - val_loss: 2.8062e-05 - val_rmse: 0.0035 - val_r_square: 0.9973\n",
      "Epoch 28/200\n",
      "1247590/1247590 [==============================] - 6s 5us/step - loss: 1.5345e-04 - rmse: 0.0067 - r_square: 0.9851 - val_loss: 1.9398e-05 - val_rmse: 0.0027 - val_r_square: 0.9981\n",
      "Epoch 29/200\n",
      "1247590/1247590 [==============================] - 6s 5us/step - loss: 1.5948e-04 - rmse: 0.0068 - r_square: 0.9845 - val_loss: 4.9795e-05 - val_rmse: 0.0047 - val_r_square: 0.99511.5857e-04 - rmse: 0.\n",
      "Epoch 30/200\n",
      "1247590/1247590 [==============================] - 6s 5us/step - loss: 1.5842e-04 - rmse: 0.0068 - r_square: 0.9846 - val_loss: 2.1905e-05 - val_rmse: 0.0033 - val_r_square: 0.9979\n",
      "Epoch 31/200\n",
      "1247590/1247590 [==============================] - 6s 5us/step - loss: 1.5592e-04 - rmse: 0.0067 - r_square: 0.9848 - val_loss: 2.7353e-05 - val_rmse: 0.0033 - val_r_square: 0.9973oss: 1.5511e-04 - \n",
      "Epoch 32/200\n",
      "1247590/1247590 [==============================] - 6s 5us/step - loss: 1.6034e-04 - rmse: 0.0068 - r_square: 0.9844 - val_loss: 1.9813e-05 - val_rmse: 0.0029 - val_r_square: 0.9980\n",
      "Epoch 33/200\n",
      "1247590/1247590 [==============================] - 6s 5us/step - loss: 1.5979e-04 - rmse: 0.0068 - r_square: 0.9845 - val_loss: 1.6644e-05 - val_rmse: 0.0026 - val_r_square: 0.9984\n",
      "Epoch 34/200\n",
      "1247590/1247590 [==============================] - 6s 5us/step - loss: 1.5492e-04 - rmse: 0.0067 - r_square: 0.9849 - val_loss: 2.6387e-05 - val_rmse: 0.0031 - val_r_square: 0.9974\n",
      "Epoch 35/200\n",
      "1247590/1247590 [==============================] - 6s 5us/step - loss: 1.6126e-04 - rmse: 0.0068 - r_square: 0.9844 - val_loss: 2.1924e-05 - val_rmse: 0.0028 - val_r_square: 0.9979\n",
      "Epoch 36/200\n",
      "1247590/1247590 [==============================] - 6s 5us/step - loss: 1.4854e-04 - rmse: 0.0066 - r_square: 0.9856 - val_loss: 2.1152e-05 - val_rmse: 0.0027 - val_r_square: 0.9979\n",
      "Epoch 37/200\n",
      "1247590/1247590 [==============================] - 6s 5us/step - loss: 1.5717e-04 - rmse: 0.0067 - r_square: 0.9847 - val_loss: 2.5485e-05 - val_rmse: 0.0034 - val_r_square: 0.9975\n",
      "Epoch 38/200\n",
      "1247590/1247590 [==============================] - 6s 5us/step - loss: 1.6048e-04 - rmse: 0.0068 - r_square: 0.9844 - val_loss: 2.8438e-05 - val_rmse: 0.0033 - val_r_square: 0.9972\n",
      "Epoch 39/200\n",
      "1247590/1247590 [==============================] - 6s 5us/step - loss: 1.5912e-04 - rmse: 0.0067 - r_square: 0.9846 - val_loss: 3.2699e-05 - val_rmse: 0.0035 - val_r_square: 0.9968\n",
      "Epoch 40/200\n",
      "1247590/1247590 [==============================] - 7s 5us/step - loss: 1.5631e-04 - rmse: 0.0067 - r_square: 0.9848 - val_loss: 2.9293e-05 - val_rmse: 0.0033 - val_r_square: 0.9971\n",
      "Epoch 41/200\n",
      "1247590/1247590 [==============================] - 6s 5us/step - loss: 1.5174e-04 - rmse: 0.0067 - r_square: 0.9852 - val_loss: 3.2479e-05 - val_rmse: 0.0037 - val_r_square: 0.9968\n"
     ]
    },
    {
     "name": "stdout",
     "output_type": "stream",
     "text": [
      "Epoch 42/200\n",
      "1247590/1247590 [==============================] - 7s 5us/step - loss: 1.5890e-04 - rmse: 0.0068 - r_square: 0.9845 - val_loss: 1.8180e-05 - val_rmse: 0.0029 - val_r_square: 0.9982\n",
      "Epoch 43/200\n",
      "1247590/1247590 [==============================] - 6s 5us/step - loss: 1.5557e-04 - rmse: 0.0067 - r_square: 0.9848 - val_loss: 3.7372e-05 - val_rmse: 0.0046 - val_r_square: 0.9963\n",
      "Epoch 44/200\n",
      "1247590/1247590 [==============================] - 6s 5us/step - loss: 1.5625e-04 - rmse: 0.0067 - r_square: 0.9849 - val_loss: 2.0732e-05 - val_rmse: 0.0027 - val_r_square: 0.9980\n",
      "Epoch 45/200\n",
      "1247590/1247590 [==============================] - 6s 5us/step - loss: 1.5813e-04 - rmse: 0.0068 - r_square: 0.9846 - val_loss: 3.8824e-05 - val_rmse: 0.0039 - val_r_square: 0.9962\n",
      "Epoch 46/200\n",
      "1247590/1247590 [==============================] - 7s 5us/step - loss: 1.5710e-04 - rmse: 0.0068 - r_square: 0.9847 - val_loss: 1.9647e-05 - val_rmse: 0.0029 - val_r_square: 0.9981\n",
      "Epoch 47/200\n",
      "1247590/1247590 [==============================] - 6s 5us/step - loss: 1.5567e-04 - rmse: 0.0067 - r_square: 0.9849 - val_loss: 2.3426e-05 - val_rmse: 0.0031 - val_r_square: 0.9977\n",
      "Epoch 48/200\n",
      "1247590/1247590 [==============================] - 6s 5us/step - loss: 1.5364e-04 - rmse: 0.0067 - r_square: 0.9851 - val_loss: 1.7139e-05 - val_rmse: 0.0025 - val_r_square: 0.9983\n",
      "Epoch 49/200\n",
      "1247590/1247590 [==============================] - 6s 5us/step - loss: 1.5397e-04 - rmse: 0.0067 - r_square: 0.9850 - val_loss: 2.4964e-05 - val_rmse: 0.0034 - val_r_square: 0.9976\n",
      "Epoch 50/200\n",
      "1247590/1247590 [==============================] - 6s 5us/step - loss: 1.5331e-04 - rmse: 0.0067 - r_square: 0.9851 - val_loss: 3.1661e-05 - val_rmse: 0.0037 - val_r_square: 0.9969\n",
      "Epoch 51/200\n",
      "1247590/1247590 [==============================] - 6s 5us/step - loss: 1.5777e-04 - rmse: 0.0068 - r_square: 0.9847 - val_loss: 2.6564e-05 - val_rmse: 0.0032 - val_r_square: 0.9974\n",
      "Epoch 52/200\n",
      "1247590/1247590 [==============================] - 6s 5us/step - loss: 1.5543e-04 - rmse: 0.0067 - r_square: 0.9849 - val_loss: 1.8300e-05 - val_rmse: 0.0028 - val_r_square: 0.9982\n",
      "Epoch 53/200\n",
      "1247590/1247590 [==============================] - 6s 5us/step - loss: 1.5420e-04 - rmse: 0.0067 - r_square: 0.9851 - val_loss: 2.7635e-05 - val_rmse: 0.0032 - val_r_square: 0.9973\n",
      "Epoch 54/200\n",
      "1247590/1247590 [==============================] - 7s 5us/step - loss: 1.5151e-04 - rmse: 0.0067 - r_square: 0.9852 - val_loss: 2.9462e-05 - val_rmse: 0.0032 - val_r_square: 0.9971\n",
      "Epoch 55/200\n",
      "1247590/1247590 [==============================] - 6s 5us/step - loss: 1.5657e-04 - rmse: 0.0068 - r_square: 0.9848 - val_loss: 3.6383e-05 - val_rmse: 0.0034 - val_r_square: 0.9965\n",
      "Epoch 56/200\n",
      "1247590/1247590 [==============================] - 6s 5us/step - loss: 1.5375e-04 - rmse: 0.0067 - r_square: 0.9850 - val_loss: 2.8580e-05 - val_rmse: 0.0033 - val_r_square: 0.9972\n",
      "Epoch 57/200\n",
      "1247590/1247590 [==============================] - 6s 5us/step - loss: 1.5423e-04 - rmse: 0.0067 - r_square: 0.9849 - val_loss: 1.7932e-05 - val_rmse: 0.0026 - val_r_square: 0.9982\n",
      "Epoch 58/200\n",
      "1247590/1247590 [==============================] - 6s 5us/step - loss: 1.5231e-04 - rmse: 0.0066 - r_square: 0.9852 - val_loss: 3.2138e-05 - val_rmse: 0.0034 - val_r_square: 0.9968\n",
      "Epoch 00058: early stopping\n"
     ]
    }
   ],
   "source": [
    "from keras.layers.normalization import BatchNormalization\n",
    "model3 = Sequential([\n",
    "    BatchNormalization(),\n",
    "    Dense(64, activation='relu', input_shape=(6,)),\n",
    "    Dense(128, activation='relu'),\n",
    "    Dense(64, activation='relu'),\n",
    "    Dense(1, activation='linear'),\n",
    "])\n",
    "model3.compile(\n",
    "  optimizer='adam',\n",
    "  loss='mse',\n",
    "  metrics=[rmse, r_square],\n",
    ")\n",
    "# fit the model\n",
    "result3 = model3.fit(XX_train, \n",
    "                   yy_train,\n",
    "                   epochs = 200,\n",
    "                   batch_size=256,\n",
    "                   validation_data=(XX_validation, yy_validation),\n",
    "                   callbacks = [es]\n",
    "                  )"
   ]
  },
  {
   "cell_type": "code",
   "execution_count": 26,
   "metadata": {},
   "outputs": [
    {
     "name": "stdout",
     "output_type": "stream",
     "text": [
      "[[1.1319169e-02]\n",
      " [1.1319169e-02]\n",
      " [1.6107333e+00]\n",
      " [2.3785949e+00]\n",
      " [1.1319169e-02]\n",
      " [1.2584320e+01]\n",
      " [3.0258856e+01]\n",
      " [8.5781956e+00]\n",
      " [7.5245323e+00]\n",
      " [4.9345730e+01]]\n",
      "\n",
      "\n",
      "Mean absolute error (MAE):      0.466450\n",
      "Mean squared error (MSE):       0.609467\n",
      "Root mean squared error (RMSE): 0.780684\n",
      "R square (R^2):                 0.997037\n"
     ]
    }
   ],
   "source": [
    "predictions3 = model3.predict(X_test)\n",
    "pre_act3 = sc.inverse_transform(predictions3)\n",
    "print(pre_act3[:10])\n",
    "print(\"\\n\")\n",
    "print(\"Mean absolute error (MAE):      %f\" % skm.mean_absolute_error(y_act,pre_act3))\n",
    "print(\"Mean squared error (MSE):       %f\" % skm.mean_squared_error(y_act,pre_act3))\n",
    "print(\"Root mean squared error (RMSE): %f\" % math.sqrt(skm.mean_squared_error(y_act,pre_act3)))\n",
    "print(\"R square (R^2):                 %f\" % skm.r2_score(y_act,pre_act3))"
   ]
  },
  {
   "cell_type": "code",
   "execution_count": null,
   "metadata": {},
   "outputs": [],
   "source": []
  },
  {
   "cell_type": "markdown",
   "metadata": {},
   "source": [
    "## Reference: \n",
    "&emsp;&emsp;What does 'Accuracy' mean in Regression? https://github.com/keras-team/keras/issues/7947 <br>\n",
    "&emsp;&emsp;https://keras.io/metrics/<br>\n",
    "&emsp;&emsp;Scale, Standardize, or Normalize with Scikit-Learn https://towardsdatascience.com/scale-standardize-or-normalize-with-scikit-learn-6ccc7d176a02 <br>\n",
    "&emsp;&emsp;The Day my Computer Won the Nobel Prize (Neural Network Option Pricing)  https://medium.com/datadriveninvestor/the-day-my-computer-won-the-nobel-prize-neural-network-option-pricing-d29b4379f1d2 <br>"
   ]
  }
 ],
 "metadata": {
  "kernelspec": {
   "display_name": "Python 3",
   "language": "python",
   "name": "python3"
  },
  "language_info": {
   "codemirror_mode": {
    "name": "ipython",
    "version": 3
   },
   "file_extension": ".py",
   "mimetype": "text/x-python",
   "name": "python",
   "nbconvert_exporter": "python",
   "pygments_lexer": "ipython3",
   "version": "3.6.5"
  }
 },
 "nbformat": 4,
 "nbformat_minor": 2
}
