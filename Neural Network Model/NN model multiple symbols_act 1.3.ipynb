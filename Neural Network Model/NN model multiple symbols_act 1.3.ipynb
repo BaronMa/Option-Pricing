{
 "cells": [
  {
   "cell_type": "code",
   "execution_count": 1,
   "metadata": {
    "scrolled": true
   },
   "outputs": [
    {
     "name": "stdout",
     "output_type": "stream",
     "text": [
      "Collecting pip\n",
      "  Downloading https://files.pythonhosted.org/packages/5c/e0/be401c003291b56efc55aeba6a80ab790d3d4cece2778288d65323009420/pip-19.1.1-py2.py3-none-any.whl (1.4MB)\n",
      "Installing collected packages: pip\n",
      "Successfully installed pip-19.1.1\n"
     ]
    },
    {
     "name": "stderr",
     "output_type": "stream",
     "text": [
      "distributed 1.21.8 requires msgpack, which is not installed.\n",
      "You are using pip version 10.0.1, however version 19.1.1 is available.\n",
      "You should consider upgrading via the 'python -m pip install --upgrade pip' command.\n"
     ]
    },
    {
     "name": "stdout",
     "output_type": "stream",
     "text": [
      "Collecting keras\n",
      "  Downloading https://files.pythonhosted.org/packages/5e/10/aa32dad071ce52b5502266b5c659451cfd6ffcbf14e6c8c4f16c0ff5aaab/Keras-2.2.4-py2.py3-none-any.whl (312kB)\n",
      "Requirement already satisfied: scipy>=0.14 in c:\\program files\\anaconda3\\lib\\site-packages (from keras) (1.1.0)\n",
      "Requirement already satisfied: pyyaml in c:\\program files\\anaconda3\\lib\\site-packages (from keras) (3.12)\n",
      "Requirement already satisfied: numpy>=1.9.1 in c:\\program files\\anaconda3\\lib\\site-packages (from keras) (1.14.3)\n",
      "Requirement already satisfied: h5py in c:\\program files\\anaconda3\\lib\\site-packages (from keras) (2.7.1)\n",
      "Requirement already satisfied: six>=1.9.0 in c:\\program files\\anaconda3\\lib\\site-packages (from keras) (1.11.0)\n",
      "Collecting keras-applications>=1.0.6 (from keras)\n",
      "  Downloading https://files.pythonhosted.org/packages/71/e3/19762fdfc62877ae9102edf6342d71b28fbfd9dea3d2f96a882ce099b03f/Keras_Applications-1.0.8-py3-none-any.whl (50kB)\n",
      "Collecting keras-preprocessing>=1.0.5 (from keras)\n",
      "  Downloading https://files.pythonhosted.org/packages/28/6a/8c1f62c37212d9fc441a7e26736df51ce6f0e38455816445471f10da4f0a/Keras_Preprocessing-1.1.0-py2.py3-none-any.whl (41kB)\n",
      "Installing collected packages: keras-applications, keras-preprocessing, keras\n",
      "Successfully installed keras-2.2.4 keras-applications-1.0.8 keras-preprocessing-1.1.0\n",
      "Collecting tensorflow\n",
      "  Downloading https://files.pythonhosted.org/packages/bf/4a/5c86ed8b245aa48f9f819b13a0a9039e9126ba19fdd0c7e0b8026c12315a/tensorflow-1.14.0-cp36-cp36m-win_amd64.whl (68.3MB)\n",
      "Requirement already satisfied: keras-preprocessing>=1.0.5 in c:\\users\\mayingzh\\appdata\\roaming\\python\\python36\\site-packages (from tensorflow) (1.1.0)\n",
      "Collecting tensorflow-estimator<1.15.0rc0,>=1.14.0rc0 (from tensorflow)\n",
      "  Downloading https://files.pythonhosted.org/packages/3c/d5/21860a5b11caf0678fbc8319341b0ae21a07156911132e0e71bffed0510d/tensorflow_estimator-1.14.0-py2.py3-none-any.whl (488kB)\n",
      "Requirement already satisfied: wheel>=0.26 in c:\\program files\\anaconda3\\lib\\site-packages (from tensorflow) (0.31.1)\n",
      "Collecting google-pasta>=0.1.6 (from tensorflow)\n",
      "  Downloading https://files.pythonhosted.org/packages/d0/33/376510eb8d6246f3c30545f416b2263eee461e40940c2a4413c711bdf62d/google_pasta-0.1.7-py3-none-any.whl (52kB)\n",
      "Collecting numpy<2.0,>=1.14.5 (from tensorflow)\n",
      "  Downloading https://files.pythonhosted.org/packages/20/ed/e036d31a9b2c750f270cbb1cfc1c0f94ac78ae504eea7eec3267be4e294a/numpy-1.16.4-cp36-cp36m-win_amd64.whl (11.9MB)\n",
      "Collecting wrapt>=1.11.1 (from tensorflow)\n",
      "  Downloading https://files.pythonhosted.org/packages/23/84/323c2415280bc4fc880ac5050dddfb3c8062c2552b34c2e512eb4aa68f79/wrapt-1.11.2.tar.gz\n",
      "Collecting absl-py>=0.7.0 (from tensorflow)\n",
      "  Downloading https://files.pythonhosted.org/packages/da/3f/9b0355080b81b15ba6a9ffcf1f5ea39e307a2778b2f2dc8694724e8abd5b/absl-py-0.7.1.tar.gz (99kB)\n",
      "Requirement already satisfied: keras-applications>=1.0.6 in c:\\users\\mayingzh\\appdata\\roaming\\python\\python36\\site-packages (from tensorflow) (1.0.8)\n",
      "Collecting protobuf>=3.6.1 (from tensorflow)\n",
      "  Downloading https://files.pythonhosted.org/packages/74/74/44ec96740ed10ae6d0508efc083c6b7e605c509bc32136e9aea840d09daf/protobuf-3.9.0-cp36-cp36m-win_amd64.whl (1.1MB)\n",
      "Collecting astor>=0.6.0 (from tensorflow)\n",
      "  Downloading https://files.pythonhosted.org/packages/d1/4f/950dfae467b384fc96bc6469de25d832534f6b4441033c39f914efd13418/astor-0.8.0-py2.py3-none-any.whl\n",
      "Collecting termcolor>=1.1.0 (from tensorflow)\n",
      "  Downloading https://files.pythonhosted.org/packages/8a/48/a76be51647d0eb9f10e2a4511bf3ffb8cc1e6b14e9e4fab46173aa79f981/termcolor-1.1.0.tar.gz\n",
      "Collecting tensorboard<1.15.0,>=1.14.0 (from tensorflow)\n",
      "  Downloading https://files.pythonhosted.org/packages/91/2d/2ed263449a078cd9c8a9ba50ebd50123adf1f8cfbea1492f9084169b89d9/tensorboard-1.14.0-py3-none-any.whl (3.1MB)\n",
      "Collecting grpcio>=1.8.6 (from tensorflow)\n",
      "  Downloading https://files.pythonhosted.org/packages/78/93/297ff3656f1073fba84e2f9633ad3b27a007eb59ad22099ac30142f80365/grpcio-1.22.0-cp36-cp36m-win_amd64.whl (1.6MB)\n",
      "Collecting gast>=0.2.0 (from tensorflow)\n",
      "  Downloading https://files.pythonhosted.org/packages/4e/35/11749bf99b2d4e3cceb4d55ca22590b0d7c2c62b9de38ac4a4a7f4687421/gast-0.2.2.tar.gz\n",
      "Requirement already satisfied: six>=1.10.0 in c:\\program files\\anaconda3\\lib\\site-packages (from tensorflow) (1.11.0)\n",
      "Requirement already satisfied: h5py in c:\\program files\\anaconda3\\lib\\site-packages (from keras-applications>=1.0.6->tensorflow) (2.7.1)\n",
      "Requirement already satisfied: setuptools in c:\\program files\\anaconda3\\lib\\site-packages (from protobuf>=3.6.1->tensorflow) (39.1.0)\n",
      "Requirement already satisfied: werkzeug>=0.11.15 in c:\\program files\\anaconda3\\lib\\site-packages (from tensorboard<1.15.0,>=1.14.0->tensorflow) (0.14.1)\n",
      "Collecting markdown>=2.6.8 (from tensorboard<1.15.0,>=1.14.0->tensorflow)\n",
      "  Downloading https://files.pythonhosted.org/packages/c0/4e/fd492e91abdc2d2fcb70ef453064d980688762079397f779758e055f6575/Markdown-3.1.1-py2.py3-none-any.whl (87kB)\n",
      "Building wheels for collected packages: wrapt, absl-py, termcolor, gast\n",
      "  Building wheel for wrapt (setup.py): started\n",
      "  Building wheel for wrapt (setup.py): finished with status 'done'\n",
      "  Stored in directory: C:\\Users\\mayingzh\\AppData\\Local\\pip\\Cache\\wheels\\d7\\de\\2e\\efa132238792efb6459a96e85916ef8597fcb3d2ae51590dfd\n",
      "  Building wheel for absl-py (setup.py): started\n",
      "  Building wheel for absl-py (setup.py): finished with status 'done'\n",
      "  Stored in directory: C:\\Users\\mayingzh\\AppData\\Local\\pip\\Cache\\wheels\\ee\\98\\38\\46cbcc5a93cfea5492d19c38562691ddb23b940176c14f7b48\n",
      "  Building wheel for termcolor (setup.py): started\n",
      "  Building wheel for termcolor (setup.py): finished with status 'done'\n",
      "  Stored in directory: C:\\Users\\mayingzh\\AppData\\Local\\pip\\Cache\\wheels\\7c\\06\\54\\bc84598ba1daf8f970247f550b175aaaee85f68b4b0c5ab2c6\n",
      "  Building wheel for gast (setup.py): started\n",
      "  Building wheel for gast (setup.py): finished with status 'done'\n",
      "  Stored in directory: C:\\Users\\mayingzh\\AppData\\Local\\pip\\Cache\\wheels\\5c\\2e\\7e\\a1d4d4fcebe6c381f378ce7743a3ced3699feb89bcfbdadadd\n",
      "Successfully built wrapt absl-py termcolor gast\n",
      "Installing collected packages: tensorflow-estimator, google-pasta, numpy, wrapt, absl-py, protobuf, astor, termcolor, markdown, grpcio, tensorboard, gast, tensorflow\n",
      "Successfully installed absl-py-0.7.1 astor-0.8.0 gast-0.2.2 google-pasta-0.1.7 grpcio-1.22.0 markdown-3.1.1 numpy-1.16.4 protobuf-3.9.0 tensorboard-1.14.0 tensorflow-1.14.0 tensorflow-estimator-1.14.0 termcolor-1.1.0 wrapt-1.11.2\n"
     ]
    },
    {
     "name": "stderr",
     "output_type": "stream",
     "text": [
      "ERROR: tensorboard 1.14.0 has requirement setuptools>=41.0.0, but you'll have setuptools 39.1.0 which is incompatible.\n",
      "  WARNING: The script f2py.exe is installed in 'C:\\Users\\mayingzh\\AppData\\Roaming\\Python\\Python36\\Scripts' which is not on PATH.\n",
      "  Consider adding this directory to PATH or, if you prefer to suppress this warning, use --no-warn-script-location.\n",
      "  WARNING: The script markdown_py.exe is installed in 'C:\\Users\\mayingzh\\AppData\\Roaming\\Python\\Python36\\Scripts' which is not on PATH.\n",
      "  Consider adding this directory to PATH or, if you prefer to suppress this warning, use --no-warn-script-location.\n",
      "  WARNING: The script tensorboard.exe is installed in 'C:\\Users\\mayingzh\\AppData\\Roaming\\Python\\Python36\\Scripts' which is not on PATH.\n",
      "  Consider adding this directory to PATH or, if you prefer to suppress this warning, use --no-warn-script-location.\n",
      "  WARNING: The scripts freeze_graph.exe, saved_model_cli.exe, tensorboard.exe, tf_upgrade_v2.exe, tflite_convert.exe, toco.exe and toco_from_protos.exe are installed in 'C:\\Users\\mayingzh\\AppData\\Roaming\\Python\\Python36\\Scripts' which is not on PATH.\n",
      "  Consider adding this directory to PATH or, if you prefer to suppress this warning, use --no-warn-script-location.\n"
     ]
    },
    {
     "name": "stdout",
     "output_type": "stream",
     "text": [
      "Requirement already up-to-date: numpy in c:\\users\\mayingzh\\appdata\\roaming\\python\\python36\\site-packages (1.16.4)\n"
     ]
    }
   ],
   "source": [
    "!python -m pip install --user --upgrade pip\n",
    "!pip install --user keras\n",
    "!pip install --user tensorflow\n",
    "!pip install --user -U numpy"
   ]
  },
  {
   "cell_type": "code",
   "execution_count": 3,
   "metadata": {},
   "outputs": [],
   "source": [
    "# Use CPU only\n",
    "# Only Macbook needs to run this cell\n",
    "import os\n",
    "os.environ[\"CUDA_DEVICE_ORDER\"] = \"PCI_BUS_ID\" \n",
    "os.environ[\"CUDA_VISIBLE_DEVICES\"] = \"\""
   ]
  },
  {
   "cell_type": "code",
   "execution_count": 39,
   "metadata": {},
   "outputs": [],
   "source": [
    "import pandas as pd\n",
    "from keras.models import Sequential\n",
    "from keras.layers import Dense, Dropout\n",
    "from sklearn.model_selection import train_test_split\n",
    "from keras.callbacks import EarlyStopping\n",
    "from sklearn import preprocessing\n",
    "import matplotlib.pyplot as plt\n",
    "from keras.layers.normalization import BatchNormalization"
   ]
  },
  {
   "cell_type": "markdown",
   "metadata": {},
   "source": [
    "## Load data and do data normalization"
   ]
  },
  {
   "cell_type": "code",
   "execution_count": 2,
   "metadata": {},
   "outputs": [
    {
     "data": {
      "text/html": [
       "<div>\n",
       "<style scoped>\n",
       "    .dataframe tbody tr th:only-of-type {\n",
       "        vertical-align: middle;\n",
       "    }\n",
       "\n",
       "    .dataframe tbody tr th {\n",
       "        vertical-align: top;\n",
       "    }\n",
       "\n",
       "    .dataframe thead th {\n",
       "        text-align: right;\n",
       "    }\n",
       "</style>\n",
       "<table border=\"1\" class=\"dataframe\">\n",
       "  <thead>\n",
       "    <tr style=\"text-align: right;\">\n",
       "      <th></th>\n",
       "      <th>ticker</th>\n",
       "      <th>date</th>\n",
       "      <th>exdate</th>\n",
       "      <th>maturity</th>\n",
       "      <th>strike_price</th>\n",
       "      <th>best_offer</th>\n",
       "      <th>impl_volatility</th>\n",
       "      <th>realized_vol</th>\n",
       "      <th>underlying_price</th>\n",
       "      <th>interest_rate</th>\n",
       "      <th>cp_flag_C</th>\n",
       "      <th>cp_flag_P</th>\n",
       "    </tr>\n",
       "  </thead>\n",
       "  <tbody>\n",
       "    <tr>\n",
       "      <th>0</th>\n",
       "      <td>AXP</td>\n",
       "      <td>2012-09-04</td>\n",
       "      <td>2012-09-07</td>\n",
       "      <td>3</td>\n",
       "      <td>55.0</td>\n",
       "      <td>3.65</td>\n",
       "      <td>0.346417</td>\n",
       "      <td>0.169029</td>\n",
       "      <td>58.61</td>\n",
       "      <td>0.001</td>\n",
       "      <td>1</td>\n",
       "      <td>0</td>\n",
       "    </tr>\n",
       "    <tr>\n",
       "      <th>1</th>\n",
       "      <td>AXP</td>\n",
       "      <td>2012-09-04</td>\n",
       "      <td>2012-09-07</td>\n",
       "      <td>3</td>\n",
       "      <td>57.5</td>\n",
       "      <td>1.25</td>\n",
       "      <td>0.234645</td>\n",
       "      <td>0.169029</td>\n",
       "      <td>58.61</td>\n",
       "      <td>0.001</td>\n",
       "      <td>1</td>\n",
       "      <td>0</td>\n",
       "    </tr>\n",
       "    <tr>\n",
       "      <th>2</th>\n",
       "      <td>AXP</td>\n",
       "      <td>2012-09-04</td>\n",
       "      <td>2012-09-07</td>\n",
       "      <td>3</td>\n",
       "      <td>60.0</td>\n",
       "      <td>0.09</td>\n",
       "      <td>0.229130</td>\n",
       "      <td>0.169029</td>\n",
       "      <td>58.61</td>\n",
       "      <td>0.001</td>\n",
       "      <td>1</td>\n",
       "      <td>0</td>\n",
       "    </tr>\n",
       "    <tr>\n",
       "      <th>3</th>\n",
       "      <td>AXP</td>\n",
       "      <td>2012-09-04</td>\n",
       "      <td>2012-09-07</td>\n",
       "      <td>3</td>\n",
       "      <td>62.5</td>\n",
       "      <td>0.08</td>\n",
       "      <td>0.413285</td>\n",
       "      <td>0.169029</td>\n",
       "      <td>58.61</td>\n",
       "      <td>0.001</td>\n",
       "      <td>1</td>\n",
       "      <td>0</td>\n",
       "    </tr>\n",
       "    <tr>\n",
       "      <th>4</th>\n",
       "      <td>AXP</td>\n",
       "      <td>2012-09-04</td>\n",
       "      <td>2012-09-07</td>\n",
       "      <td>3</td>\n",
       "      <td>65.0</td>\n",
       "      <td>0.08</td>\n",
       "      <td>0.608310</td>\n",
       "      <td>0.169029</td>\n",
       "      <td>58.61</td>\n",
       "      <td>0.001</td>\n",
       "      <td>1</td>\n",
       "      <td>0</td>\n",
       "    </tr>\n",
       "  </tbody>\n",
       "</table>\n",
       "</div>"
      ],
      "text/plain": [
       "  ticker        date      exdate  maturity  strike_price  best_offer  \\\n",
       "0    AXP  2012-09-04  2012-09-07         3          55.0        3.65   \n",
       "1    AXP  2012-09-04  2012-09-07         3          57.5        1.25   \n",
       "2    AXP  2012-09-04  2012-09-07         3          60.0        0.09   \n",
       "3    AXP  2012-09-04  2012-09-07         3          62.5        0.08   \n",
       "4    AXP  2012-09-04  2012-09-07         3          65.0        0.08   \n",
       "\n",
       "   impl_volatility  realized_vol  underlying_price  interest_rate  cp_flag_C  \\\n",
       "0         0.346417      0.169029             58.61          0.001          1   \n",
       "1         0.234645      0.169029             58.61          0.001          1   \n",
       "2         0.229130      0.169029             58.61          0.001          1   \n",
       "3         0.413285      0.169029             58.61          0.001          1   \n",
       "4         0.608310      0.169029             58.61          0.001          1   \n",
       "\n",
       "   cp_flag_P  \n",
       "0          0  \n",
       "1          0  \n",
       "2          0  \n",
       "3          0  \n",
       "4          0  "
      ]
     },
     "execution_count": 2,
     "metadata": {},
     "output_type": "execute_result"
    }
   ],
   "source": [
    "df = pd.read_csv('Options_R_new.csv')\n",
    "df.head()"
   ]
  },
  {
   "cell_type": "code",
   "execution_count": 3,
   "metadata": {},
   "outputs": [],
   "source": [
    "# Remove the option data has less than 7 days to maturity.\n",
    "df = df[df.maturity > 6]\n",
    "\n",
    "# Remove the option data with deep in-the-money and deep out-of-money\n",
    "def moneyness(S,X):\n",
    "    return S/X\n",
    "df['moneyness'] = df.apply(lambda row: moneyness(row['underlying_price'], row['strike_price']), axis = 1)\n",
    "df = df[df.moneyness >= 0.7]\n",
    "df = df[df.moneyness <= 1.2]"
   ]
  },
  {
   "cell_type": "code",
   "execution_count": 23,
   "metadata": {},
   "outputs": [],
   "source": [
    "df = df[df['interest_rate'].notnull()]\n",
    "y = df['best_offer'].values\n",
    "X = df[['maturity', 'strike_price', 'impl_volatility', 'underlying_price', 'cp_flag_C', 'cp_flag_P', 'interest_rate']]"
   ]
  },
  {
   "cell_type": "code",
   "execution_count": 24,
   "metadata": {},
   "outputs": [],
   "source": [
    "# Normalize the data to build a regression neural network model\n",
    "X = preprocessing.normalize(X)\n",
    "y = y.reshape(-1,1)"
   ]
  },
  {
   "cell_type": "code",
   "execution_count": 26,
   "metadata": {},
   "outputs": [],
   "source": [
    "X_train, X_test, y_train, y_test = train_test_split(X, y, test_size=0.2, random_state=42)"
   ]
  },
  {
   "cell_type": "code",
   "execution_count": 27,
   "metadata": {},
   "outputs": [
    {
     "name": "stdout",
     "output_type": "stream",
     "text": [
      "(1138934, 7)\n",
      "(1138934, 1)\n"
     ]
    }
   ],
   "source": [
    "print(X_train.shape)\n",
    "print(y_train.shape)"
   ]
  },
  {
   "cell_type": "code",
   "execution_count": 28,
   "metadata": {},
   "outputs": [],
   "source": [
    "XX_train, XX_validation, yy_train, yy_validation = train_test_split(X_train, y_train, test_size=0.2, random_state=42)"
   ]
  },
  {
   "cell_type": "markdown",
   "metadata": {},
   "source": [
    "## Build a keras Sequential model"
   ]
  },
  {
   "cell_type": "code",
   "execution_count": 29,
   "metadata": {},
   "outputs": [],
   "source": [
    "# Built Keras sequential model with 3 hidden layer, and after the first hidden layer.\n",
    "model = Sequential([\n",
    "    Dense(64, activation='relu', input_shape=(7,)),\n",
    "    Dense(128, activation='relu'),\n",
    "    Dense(64, activation='relu'),\n",
    "    Dense(1, activation='linear'),\n",
    "])"
   ]
  },
  {
   "cell_type": "code",
   "execution_count": 30,
   "metadata": {},
   "outputs": [],
   "source": [
    "# Enable early stopping based on the loss of validation data\n",
    "es = EarlyStopping(monitor='val_loss', mode='auto', verbose=1, patience=25)"
   ]
  },
  {
   "cell_type": "code",
   "execution_count": 31,
   "metadata": {},
   "outputs": [],
   "source": [
    "# Because it is a simple regression problem, we should custom metrics function\n",
    "from keras import backend as K\n",
    "def rmse(y_true, y_pred):\n",
    "    return K.sqrt(K.mean(K.square(y_pred - y_true), axis = -1))\n",
    "\n",
    "def r_square(y_true, y_pred):\n",
    "    SS_res =  K.sum(K.square(y_true - y_pred)) \n",
    "    SS_tot = K.sum(K.square(y_true - K.mean(y_true))) \n",
    "    return (1 - SS_res/(SS_tot + K.epsilon()))"
   ]
  },
  {
   "cell_type": "code",
   "execution_count": 32,
   "metadata": {},
   "outputs": [],
   "source": [
    "# use mean_squared_error to compile regression model loss\n",
    "model.compile(\n",
    "  optimizer='adam',\n",
    "  loss='mse',\n",
    "  metrics=[rmse, r_square],\n",
    ")"
   ]
  },
  {
   "cell_type": "code",
   "execution_count": 33,
   "metadata": {},
   "outputs": [
    {
     "name": "stdout",
     "output_type": "stream",
     "text": [
      "Train on 911147 samples, validate on 227787 samples\n",
      "Epoch 1/200\n",
      "911147/911147 [==============================] - 5s 5us/step - loss: 40.2112 - rmse: 3.5875 - r_square: 0.5739 - val_loss: 6.7470 - val_rmse: 1.5053 - val_r_square: 0.9275\n",
      "Epoch 2/200\n",
      "911147/911147 [==============================] - 5s 5us/step - loss: 4.3188 - rmse: 1.1751 - r_square: 0.9534 - val_loss: 2.4260 - val_rmse: 0.9224 - val_r_square: 0.9739\n",
      "Epoch 3/200\n",
      "911147/911147 [==============================] - 5s 5us/step - loss: 2.0073 - rmse: 0.8025 - r_square: 0.9782 - val_loss: 1.2903 - val_rmse: 0.6522 - val_r_square: 0.9861\n",
      "Epoch 4/200\n",
      "911147/911147 [==============================] - 5s 5us/step - loss: 1.2870 - rmse: 0.6475 - r_square: 0.9861 - val_loss: 2.3249 - val_rmse: 0.9078 - val_r_square: 0.9750\n",
      "Epoch 5/200\n",
      "911147/911147 [==============================] - 4s 5us/step - loss: 1.0497 - rmse: 0.5807 - r_square: 0.9887 - val_loss: 0.7164 - val_rmse: 0.5116 - val_r_square: 0.9923\n",
      "Epoch 6/200\n",
      "911147/911147 [==============================] - 4s 5us/step - loss: 0.9564 - rmse: 0.5461 - r_square: 0.9896 - val_loss: 1.7321 - val_rmse: 0.6844 - val_r_square: 0.9817\n",
      "Epoch 7/200\n",
      "911147/911147 [==============================] - 4s 5us/step - loss: 0.7702 - rmse: 0.4974 - r_square: 0.9916 - val_loss: 0.6005 - val_rmse: 0.4881 - val_r_square: 0.9935\n",
      "Epoch 8/200\n",
      "911147/911147 [==============================] - 4s 5us/step - loss: 0.8323 - rmse: 0.5058 - r_square: 0.9910 - val_loss: 0.4566 - val_rmse: 0.4012 - val_r_square: 0.9951\n",
      "Epoch 9/200\n",
      "911147/911147 [==============================] - 4s 5us/step - loss: 0.7147 - rmse: 0.4733 - r_square: 0.9923 - val_loss: 0.4596 - val_rmse: 0.3964 - val_r_square: 0.9950\n",
      "Epoch 10/200\n",
      "911147/911147 [==============================] - 4s 5us/step - loss: 0.6924 - rmse: 0.4607 - r_square: 0.9925 - val_loss: 0.9852 - val_rmse: 0.5850 - val_r_square: 0.9893\n",
      "Epoch 11/200\n",
      "911147/911147 [==============================] - 5s 5us/step - loss: 0.6468 - rmse: 0.4461 - r_square: 0.9930 - val_loss: 1.2878 - val_rmse: 0.6323 - val_r_square: 0.9863\n",
      "Epoch 12/200\n",
      "911147/911147 [==============================] - 4s 5us/step - loss: 0.6099 - rmse: 0.4343 - r_square: 0.9934 - val_loss: 0.8171 - val_rmse: 0.4914 - val_r_square: 0.9912\n",
      "Epoch 13/200\n",
      "911147/911147 [==============================] - 4s 5us/step - loss: 0.5812 - rmse: 0.4249 - r_square: 0.9937 - val_loss: 2.1297 - val_rmse: 0.6334 - val_r_square: 0.9775\n",
      "Epoch 14/200\n",
      "911147/911147 [==============================] - 4s 5us/step - loss: 0.5475 - rmse: 0.4122 - r_square: 0.9941 - val_loss: 0.3474 - val_rmse: 0.3574 - val_r_square: 0.9962\n",
      "Epoch 15/200\n",
      "911147/911147 [==============================] - 4s 5us/step - loss: 0.5375 - rmse: 0.4044 - r_square: 0.9942 - val_loss: 0.7566 - val_rmse: 0.5185 - val_r_square: 0.9919\n",
      "Epoch 16/200\n",
      "911147/911147 [==============================] - 4s 5us/step - loss: 0.4816 - rmse: 0.3877 - r_square: 0.9948 - val_loss: 0.4284 - val_rmse: 0.4096 - val_r_square: 0.9954\n",
      "Epoch 17/200\n",
      "911147/911147 [==============================] - 4s 5us/step - loss: 0.4743 - rmse: 0.3842 - r_square: 0.9948 - val_loss: 0.5461 - val_rmse: 0.4526 - val_r_square: 0.9941\n",
      "Epoch 18/200\n",
      "911147/911147 [==============================] - 4s 5us/step - loss: 0.4414 - rmse: 0.3703 - r_square: 0.9952 - val_loss: 2.7154 - val_rmse: 0.8657 - val_r_square: 0.9709\n",
      "Epoch 19/200\n",
      "911147/911147 [==============================] - 4s 5us/step - loss: 0.4466 - rmse: 0.3717 - r_square: 0.9951 - val_loss: 0.2771 - val_rmse: 0.3014 - val_r_square: 0.9970\n",
      "Epoch 20/200\n",
      "911147/911147 [==============================] - 5s 5us/step - loss: 0.4192 - rmse: 0.3572 - r_square: 0.9955 - val_loss: 0.2709 - val_rmse: 0.3095 - val_r_square: 0.9971\n",
      "Epoch 21/200\n",
      "911147/911147 [==============================] - 4s 5us/step - loss: 0.4036 - rmse: 0.3521 - r_square: 0.9956 - val_loss: 0.4325 - val_rmse: 0.3410 - val_r_square: 0.9954\n",
      "Epoch 22/200\n",
      "911147/911147 [==============================] - 4s 5us/step - loss: 0.3769 - rmse: 0.3405 - r_square: 0.9959 - val_loss: 0.5576 - val_rmse: 0.3904 - val_r_square: 0.9940\n",
      "Epoch 23/200\n",
      "911147/911147 [==============================] - 4s 5us/step - loss: 0.3826 - rmse: 0.3411 - r_square: 0.9959 - val_loss: 0.3985 - val_rmse: 0.3446 - val_r_square: 0.9957\n",
      "Epoch 24/200\n",
      "911147/911147 [==============================] - 4s 5us/step - loss: 0.3666 - rmse: 0.3306 - r_square: 0.9960 - val_loss: 1.4298 - val_rmse: 0.5437 - val_r_square: 0.9849\n",
      "Epoch 25/200\n",
      "911147/911147 [==============================] - 4s 5us/step - loss: 0.3561 - rmse: 0.3279 - r_square: 0.9961 - val_loss: 0.2314 - val_rmse: 0.2744 - val_r_square: 0.9975\n",
      "Epoch 26/200\n",
      "911147/911147 [==============================] - 4s 5us/step - loss: 0.3196 - rmse: 0.3145 - r_square: 0.9965 - val_loss: 0.1851 - val_rmse: 0.2458 - val_r_square: 0.9980\n",
      "Epoch 27/200\n",
      "911147/911147 [==============================] - 4s 5us/step - loss: 0.3056 - rmse: 0.3087 - r_square: 0.9967 - val_loss: 0.2745 - val_rmse: 0.3126 - val_r_square: 0.9970\n",
      "Epoch 28/200\n",
      "911147/911147 [==============================] - 4s 5us/step - loss: 0.3107 - rmse: 0.3075 - r_square: 0.9966 - val_loss: 0.5235 - val_rmse: 0.4170 - val_r_square: 0.9944\n",
      "Epoch 29/200\n",
      "911147/911147 [==============================] - 4s 5us/step - loss: 0.3029 - rmse: 0.3035 - r_square: 0.9967 - val_loss: 0.7964 - val_rmse: 0.5142 - val_r_square: 0.9915\n",
      "Epoch 30/200\n",
      "911147/911147 [==============================] - 5s 5us/step - loss: 0.2839 - rmse: 0.2967 - r_square: 0.9969 - val_loss: 0.2912 - val_rmse: 0.2802 - val_r_square: 0.9969\n",
      "Epoch 31/200\n",
      "911147/911147 [==============================] - 4s 5us/step - loss: 0.2913 - rmse: 0.2978 - r_square: 0.9968 - val_loss: 0.2153 - val_rmse: 0.2760 - val_r_square: 0.9977\n",
      "Epoch 32/200\n",
      "911147/911147 [==============================] - 4s 5us/step - loss: 0.2957 - rmse: 0.2964 - r_square: 0.9968 - val_loss: 0.3177 - val_rmse: 0.3248 - val_r_square: 0.9966\n",
      "Epoch 33/200\n",
      "911147/911147 [==============================] - 4s 5us/step - loss: 0.2764 - rmse: 0.2893 - r_square: 0.9970 - val_loss: 0.1802 - val_rmse: 0.2511 - val_r_square: 0.9981\n",
      "Epoch 34/200\n",
      "911147/911147 [==============================] - 4s 5us/step - loss: 0.2581 - rmse: 0.2804 - r_square: 0.9972 - val_loss: 0.1907 - val_rmse: 0.2699 - val_r_square: 0.9979\n",
      "Epoch 35/200\n",
      "911147/911147 [==============================] - 4s 5us/step - loss: 0.2530 - rmse: 0.2783 - r_square: 0.9973 - val_loss: 0.1808 - val_rmse: 0.2456 - val_r_square: 0.9980\n",
      "Epoch 36/200\n",
      "911147/911147 [==============================] - 4s 5us/step - loss: 0.2584 - rmse: 0.2778 - r_square: 0.9972 - val_loss: 0.1690 - val_rmse: 0.2381 - val_r_square: 0.9982\n",
      "Epoch 37/200\n",
      "911147/911147 [==============================] - 4s 5us/step - loss: 0.2410 - rmse: 0.2715 - r_square: 0.9974 - val_loss: 0.4642 - val_rmse: 0.4187 - val_r_square: 0.9950\n",
      "Epoch 38/200\n",
      "911147/911147 [==============================] - 4s 5us/step - loss: 0.2399 - rmse: 0.2712 - r_square: 0.9974 - val_loss: 0.2139 - val_rmse: 0.2545 - val_r_square: 0.9977\n",
      "Epoch 39/200\n",
      "911147/911147 [==============================] - 4s 5us/step - loss: 0.2449 - rmse: 0.2723 - r_square: 0.9973 - val_loss: 0.2148 - val_rmse: 0.2831 - val_r_square: 0.9977\n",
      "Epoch 40/200\n",
      "911147/911147 [==============================] - 4s 5us/step - loss: 0.2344 - rmse: 0.2668 - r_square: 0.9975 - val_loss: 0.1251 - val_rmse: 0.2010 - val_r_square: 0.9986\n",
      "Epoch 41/200\n",
      "911147/911147 [==============================] - 4s 5us/step - loss: 0.2315 - rmse: 0.2656 - r_square: 0.9975 - val_loss: 0.2266 - val_rmse: 0.2826 - val_r_square: 0.9976\n",
      "Epoch 42/200\n",
      "911147/911147 [==============================] - 4s 5us/step - loss: 0.2315 - rmse: 0.2640 - r_square: 0.9975 - val_loss: 0.4431 - val_rmse: 0.3500 - val_r_square: 0.9953\n",
      "Epoch 43/200\n",
      "911147/911147 [==============================] - 4s 5us/step - loss: 0.2172 - rmse: 0.2595 - r_square: 0.9976 - val_loss: 0.1860 - val_rmse: 0.2379 - val_r_square: 0.9980\n",
      "Epoch 44/200\n",
      "911147/911147 [==============================] - 4s 5us/step - loss: 0.2359 - rmse: 0.2654 - r_square: 0.9974 - val_loss: 0.2592 - val_rmse: 0.2897 - val_r_square: 0.9972\n",
      "Epoch 45/200\n",
      "911147/911147 [==============================] - 4s 5us/step - loss: 0.2206 - rmse: 0.2589 - r_square: 0.9976 - val_loss: 0.1991 - val_rmse: 0.2607 - val_r_square: 0.9979\n",
      "Epoch 46/200\n",
      "911147/911147 [==============================] - 4s 5us/step - loss: 0.2161 - rmse: 0.2559 - r_square: 0.9977 - val_loss: 0.1427 - val_rmse: 0.2169 - val_r_square: 0.9985\n",
      "Epoch 47/200\n",
      "911147/911147 [==============================] - 4s 5us/step - loss: 0.2073 - rmse: 0.2523 - r_square: 0.9978 - val_loss: 0.1927 - val_rmse: 0.2402 - val_r_square: 0.9979\n",
      "Epoch 48/200\n",
      "911147/911147 [==============================] - 4s 5us/step - loss: 0.2325 - rmse: 0.2606 - r_square: 0.9975 - val_loss: 0.2017 - val_rmse: 0.2597 - val_r_square: 0.9978\n",
      "Epoch 49/200\n",
      "911147/911147 [==============================] - 4s 5us/step - loss: 0.2129 - rmse: 0.2543 - r_square: 0.9977 - val_loss: 0.3003 - val_rmse: 0.2849 - val_r_square: 0.9968\n",
      "Epoch 50/200\n",
      "911147/911147 [==============================] - 4s 5us/step - loss: 0.1981 - rmse: 0.2469 - r_square: 0.9978 - val_loss: 0.1267 - val_rmse: 0.2001 - val_r_square: 0.9986\n",
      "Epoch 51/200\n",
      "911147/911147 [==============================] - 4s 5us/step - loss: 0.2194 - rmse: 0.2523 - r_square: 0.9976 - val_loss: 0.4016 - val_rmse: 0.3018 - val_r_square: 0.9958\n",
      "Epoch 52/200\n",
      "911147/911147 [==============================] - 4s 5us/step - loss: 0.2142 - rmse: 0.2530 - r_square: 0.9977 - val_loss: 0.1662 - val_rmse: 0.2314 - val_r_square: 0.9982\n",
      "Epoch 53/200\n",
      "911147/911147 [==============================] - 4s 5us/step - loss: 0.2051 - rmse: 0.2488 - r_square: 0.9978 - val_loss: 0.2643 - val_rmse: 0.2551 - val_r_square: 0.9972\n",
      "Epoch 54/200\n",
      "911147/911147 [==============================] - 4s 5us/step - loss: 0.2023 - rmse: 0.2477 - r_square: 0.9978 - val_loss: 0.1334 - val_rmse: 0.2152 - val_r_square: 0.9986\n",
      "Epoch 55/200\n",
      "911147/911147 [==============================] - 4s 5us/step - loss: 0.2152 - rmse: 0.2479 - r_square: 0.9977 - val_loss: 0.1407 - val_rmse: 0.2138 - val_r_square: 0.9985\n",
      "Epoch 56/200\n",
      "911147/911147 [==============================] - 4s 5us/step - loss: 0.1877 - rmse: 0.2403 - r_square: 0.9980 - val_loss: 0.1301 - val_rmse: 0.2113 - val_r_square: 0.9986\n",
      "Epoch 57/200\n",
      "911147/911147 [==============================] - 4s 5us/step - loss: 0.1900 - rmse: 0.2413 - r_square: 0.9979 - val_loss: 0.5549 - val_rmse: 0.3750 - val_r_square: 0.9941\n",
      "Epoch 58/200\n",
      "911147/911147 [==============================] - 4s 5us/step - loss: 0.1904 - rmse: 0.2405 - r_square: 0.9979 - val_loss: 0.1443 - val_rmse: 0.2132 - val_r_square: 0.9985\n",
      "Epoch 59/200\n",
      "911147/911147 [==============================] - 4s 5us/step - loss: 0.1968 - rmse: 0.2415 - r_square: 0.9979 - val_loss: 0.1915 - val_rmse: 0.2226 - val_r_square: 0.9980\n",
      "Epoch 60/200\n",
      "911147/911147 [==============================] - 4s 5us/step - loss: 0.1896 - rmse: 0.2391 - r_square: 0.9979 - val_loss: 0.1858 - val_rmse: 0.2279 - val_r_square: 0.9980\n",
      "Epoch 61/200\n",
      "911147/911147 [==============================] - 4s 5us/step - loss: 0.1802 - rmse: 0.2347 - r_square: 0.9981 - val_loss: 0.1310 - val_rmse: 0.2077 - val_r_square: 0.9986\n",
      "Epoch 62/200\n",
      "911147/911147 [==============================] - 4s 5us/step - loss: 0.1834 - rmse: 0.2358 - r_square: 0.9980 - val_loss: 0.3974 - val_rmse: 0.3096 - val_r_square: 0.9958\n",
      "Epoch 63/200\n",
      "911147/911147 [==============================] - 4s 5us/step - loss: 0.1855 - rmse: 0.2382 - r_square: 0.9980 - val_loss: 0.2783 - val_rmse: 0.2612 - val_r_square: 0.9970\n",
      "Epoch 64/200\n",
      "911147/911147 [==============================] - 4s 5us/step - loss: 0.1790 - rmse: 0.2343 - r_square: 0.9981 - val_loss: 0.1092 - val_rmse: 0.1889 - val_r_square: 0.9988\n",
      "Epoch 65/200\n",
      "911147/911147 [==============================] - 4s 5us/step - loss: 0.1870 - rmse: 0.2376 - r_square: 0.9980 - val_loss: 0.3493 - val_rmse: 0.3183 - val_r_square: 0.9963\n",
      "Epoch 66/200\n",
      "911147/911147 [==============================] - 4s 5us/step - loss: 0.1762 - rmse: 0.2313 - r_square: 0.9981 - val_loss: 0.1564 - val_rmse: 0.2614 - val_r_square: 0.9983\n",
      "Epoch 67/200\n",
      "911147/911147 [==============================] - 4s 5us/step - loss: 0.1919 - rmse: 0.2388 - r_square: 0.9979 - val_loss: 0.1370 - val_rmse: 0.2222 - val_r_square: 0.9985\n",
      "Epoch 68/200\n",
      "911147/911147 [==============================] - 4s 5us/step - loss: 0.1743 - rmse: 0.2300 - r_square: 0.9981 - val_loss: 0.2063 - val_rmse: 0.2475 - val_r_square: 0.9978\n",
      "Epoch 69/200\n",
      "911147/911147 [==============================] - 4s 5us/step - loss: 0.1751 - rmse: 0.2317 - r_square: 0.9981 - val_loss: 1.0552 - val_rmse: 0.5549 - val_r_square: 0.9886\n",
      "Epoch 70/200\n",
      "911147/911147 [==============================] - 4s 5us/step - loss: 0.1792 - rmse: 0.2318 - r_square: 0.9981 - val_loss: 0.1572 - val_rmse: 0.2526 - val_r_square: 0.9983\n",
      "Epoch 71/200\n",
      "911147/911147 [==============================] - 4s 5us/step - loss: 0.1853 - rmse: 0.2332 - r_square: 0.9980 - val_loss: 0.1771 - val_rmse: 0.2207 - val_r_square: 0.9981\n",
      "Epoch 72/200\n",
      "911147/911147 [==============================] - 4s 5us/step - loss: 0.1709 - rmse: 0.2293 - r_square: 0.9981 - val_loss: 0.2085 - val_rmse: 0.2989 - val_r_square: 0.9977\n",
      "Epoch 73/200\n",
      "911147/911147 [==============================] - 4s 5us/step - loss: 0.1660 - rmse: 0.2265 - r_square: 0.9982 - val_loss: 0.1746 - val_rmse: 0.2611 - val_r_square: 0.9981\n",
      "Epoch 74/200\n",
      "911147/911147 [==============================] - 4s 5us/step - loss: 0.1828 - rmse: 0.2325 - r_square: 0.9980 - val_loss: 0.1147 - val_rmse: 0.1973 - val_r_square: 0.9988\n",
      "Epoch 75/200\n",
      "911147/911147 [==============================] - 4s 5us/step - loss: 0.1649 - rmse: 0.2236 - r_square: 0.9982 - val_loss: 1.5003 - val_rmse: 0.5888 - val_r_square: 0.9842\n",
      "Epoch 76/200\n",
      "911147/911147 [==============================] - 4s 5us/step - loss: 0.1661 - rmse: 0.2249 - r_square: 0.9982 - val_loss: 0.2575 - val_rmse: 0.2984 - val_r_square: 0.9972\n",
      "Epoch 77/200\n",
      "911147/911147 [==============================] - 4s 5us/step - loss: 0.1691 - rmse: 0.2272 - r_square: 0.9982 - val_loss: 0.1793 - val_rmse: 0.2335 - val_r_square: 0.9981\n",
      "Epoch 78/200\n",
      "911147/911147 [==============================] - 4s 5us/step - loss: 0.1691 - rmse: 0.2268 - r_square: 0.9982 - val_loss: 0.2136 - val_rmse: 0.2344 - val_r_square: 0.9977\n",
      "Epoch 79/200\n",
      "911147/911147 [==============================] - 4s 5us/step - loss: 0.1682 - rmse: 0.2251 - r_square: 0.9982 - val_loss: 0.1186 - val_rmse: 0.1966 - val_r_square: 0.9987\n",
      "Epoch 80/200\n",
      "911147/911147 [==============================] - 4s 5us/step - loss: 0.1641 - rmse: 0.2238 - r_square: 0.9982 - val_loss: 0.1705 - val_rmse: 0.2399 - val_r_square: 0.9982\n",
      "Epoch 81/200\n",
      "911147/911147 [==============================] - 4s 5us/step - loss: 0.1617 - rmse: 0.2227 - r_square: 0.9982 - val_loss: 0.1210 - val_rmse: 0.1967 - val_r_square: 0.9987\n",
      "Epoch 82/200\n",
      "911147/911147 [==============================] - 4s 5us/step - loss: 0.1665 - rmse: 0.2245 - r_square: 0.9982 - val_loss: 1.2671 - val_rmse: 0.5933 - val_r_square: 0.9865\n",
      "Epoch 83/200\n",
      "911147/911147 [==============================] - 4s 5us/step - loss: 0.1657 - rmse: 0.2232 - r_square: 0.9982 - val_loss: 0.1243 - val_rmse: 0.1943 - val_r_square: 0.9987\n",
      "Epoch 84/200\n",
      "911147/911147 [==============================] - 4s 5us/step - loss: 0.1585 - rmse: 0.2193 - r_square: 0.9983 - val_loss: 0.1186 - val_rmse: 0.1951 - val_r_square: 0.9987\n",
      "Epoch 85/200\n",
      "911147/911147 [==============================] - 4s 5us/step - loss: 0.1695 - rmse: 0.2262 - r_square: 0.9982 - val_loss: 0.1546 - val_rmse: 0.2265 - val_r_square: 0.9983\n",
      "Epoch 86/200\n",
      "911147/911147 [==============================] - 4s 5us/step - loss: 0.1562 - rmse: 0.2185 - r_square: 0.9983 - val_loss: 0.3783 - val_rmse: 0.3113 - val_r_square: 0.9960\n",
      "Epoch 87/200\n",
      "911147/911147 [==============================] - 4s 5us/step - loss: 0.1575 - rmse: 0.2198 - r_square: 0.9983 - val_loss: 0.2484 - val_rmse: 0.2710 - val_r_square: 0.9973\n",
      "Epoch 88/200\n",
      "911147/911147 [==============================] - 4s 5us/step - loss: 0.1564 - rmse: 0.2185 - r_square: 0.9983 - val_loss: 0.2235 - val_rmse: 0.2555 - val_r_square: 0.9976\n",
      "Epoch 89/200\n"
     ]
    },
    {
     "name": "stdout",
     "output_type": "stream",
     "text": [
      "911147/911147 [==============================] - 4s 5us/step - loss: 0.1589 - rmse: 0.2189 - r_square: 0.9983 - val_loss: 0.1218 - val_rmse: 0.1976 - val_r_square: 0.9987\n",
      "Epoch 00089: early stopping\n"
     ]
    }
   ],
   "source": [
    "# fit the model\n",
    "result = model.fit(XX_train, \n",
    "                   yy_train,\n",
    "                   epochs = 200,\n",
    "                   batch_size=256,\n",
    "                   validation_data=(XX_validation, yy_validation),\n",
    "                   callbacks = [es]\n",
    "                  )"
   ]
  },
  {
   "cell_type": "code",
   "execution_count": 38,
   "metadata": {},
   "outputs": [],
   "source": [
    "model.save('model13.h5')"
   ]
  },
  {
   "cell_type": "code",
   "execution_count": 34,
   "metadata": {},
   "outputs": [
    {
     "name": "stdout",
     "output_type": "stream",
     "text": [
      "[[ 8.988133  ]\n",
      " [ 0.16768476]\n",
      " [24.407785  ]\n",
      " [ 0.06328553]\n",
      " [ 6.2233644 ]\n",
      " [ 1.0276563 ]\n",
      " [ 6.978905  ]\n",
      " [ 0.06013948]\n",
      " [ 1.1953082 ]\n",
      " [ 9.010826  ]]\n"
     ]
    }
   ],
   "source": [
    "predictions = model.predict(X_test)\n",
    "print(predictions[:10])"
   ]
  },
  {
   "cell_type": "code",
   "execution_count": 16,
   "metadata": {},
   "outputs": [
    {
     "data": {
      "text/plain": [
       "array([[ 9.1 ],\n",
       "       [ 0.14],\n",
       "       [25.4 ],\n",
       "       [ 0.04],\n",
       "       [ 6.05],\n",
       "       [ 1.01],\n",
       "       [ 6.75],\n",
       "       [ 0.04],\n",
       "       [ 1.13],\n",
       "       [ 9.05]])"
      ]
     },
     "execution_count": 16,
     "metadata": {},
     "output_type": "execute_result"
    }
   ],
   "source": [
    "y_test[:10]"
   ]
  },
  {
   "cell_type": "markdown",
   "metadata": {},
   "source": [
    "## Plot learning curves including R^2 and RMSE"
   ]
  },
  {
   "cell_type": "code",
   "execution_count": 35,
   "metadata": {},
   "outputs": [
    {
     "data": {
      "image/png": "[encoded data removed]",
      "text/plain": [
       "<Figure size 432x288 with 1 Axes>"
      ]
     },
     "metadata": {},
     "output_type": "display_data"
    }
   ],
   "source": [
    "# plot training curve for rmse\n",
    "plt.plot(result.history['rmse'])\n",
    "plt.plot(result.history['val_rmse'])\n",
    "plt.title('rmse')\n",
    "plt.ylabel('rmse')\n",
    "plt.xlabel('epoch')\n",
    "plt.legend(['train', 'validation'], loc='upper right')\n",
    "plt.show()"
   ]
  },
  {
   "cell_type": "code",
   "execution_count": 36,
   "metadata": {},
   "outputs": [
    {
     "data": {
      "image/png": "[encoded data removed]",
      "text/plain": [
       "<Figure size 432x288 with 1 Axes>"
      ]
     },
     "metadata": {},
     "output_type": "display_data"
    }
   ],
   "source": [
    "# plot training curve for R^2\n",
    "plt.plot(result.history['r_square'])\n",
    "plt.plot(result.history['val_r_square'])\n",
    "plt.title('model R^2')\n",
    "plt.ylabel('R^2')\n",
    "plt.xlabel('epoch')\n",
    "plt.legend(['train', 'validation'], loc='lower right')\n",
    "plt.show()"
   ]
  },
  {
   "cell_type": "code",
   "execution_count": 37,
   "metadata": {},
   "outputs": [
    {
     "name": "stdout",
     "output_type": "stream",
     "text": [
      "\n",
      "\n",
      "Mean absolute error (MAE):      0.199007\n",
      "Mean squared error (MSE):       0.123450\n",
      "Root mean squared error (RMSE): 0.351355\n",
      "R square (R^2):                 0.998734\n"
     ]
    }
   ],
   "source": [
    "import sklearn.metrics as skm, math\n",
    "print(\"\\n\")\n",
    "print(\"Mean absolute error (MAE):      %f\" % skm.mean_absolute_error(y_test,predictions))\n",
    "print(\"Mean squared error (MSE):       %f\" % skm.mean_squared_error(y_test,predictions))\n",
    "print(\"Root mean squared error (RMSE): %f\" % math.sqrt(skm.mean_squared_error(y_test,predictions)))\n",
    "print(\"R square (R^2):                 %f\" % skm.r2_score(y_test,predictions))"
   ]
  },
  {
   "cell_type": "code",
   "execution_count": null,
   "metadata": {},
   "outputs": [],
   "source": []
  },
  {
   "cell_type": "markdown",
   "metadata": {},
   "source": [
    "## Try batch normalization technique to regularize neurons"
   ]
  },
  {
   "cell_type": "code",
   "execution_count": 40,
   "metadata": {},
   "outputs": [
    {
     "name": "stdout",
     "output_type": "stream",
     "text": [
      "Train on 911147 samples, validate on 227787 samples\n",
      "Epoch 1/200\n",
      "911147/911147 [==============================] - 5s 6us/step - loss: 12.4884 - rmse: 1.6176 - r_square: 0.8677 - val_loss: 5.5381 - val_rmse: 0.9780 - val_r_square: 0.9411\n",
      "Epoch 2/200\n",
      "911147/911147 [==============================] - 5s 6us/step - loss: 3.6827 - rmse: 0.9593 - r_square: 0.9603 - val_loss: 1.4782 - val_rmse: 0.6185 - val_r_square: 0.9842\n",
      "Epoch 3/200\n",
      "911147/911147 [==============================] - 5s 5us/step - loss: 3.3184 - rmse: 0.9046 - r_square: 0.9642 - val_loss: 1.1629 - val_rmse: 0.6006 - val_r_square: 0.9875\n",
      "Epoch 4/200\n",
      "911147/911147 [==============================] - 5s 5us/step - loss: 3.1695 - rmse: 0.8670 - r_square: 0.9658 - val_loss: 1.1002 - val_rmse: 0.5689 - val_r_square: 0.9882\n",
      "Epoch 5/200\n",
      "911147/911147 [==============================] - 5s 5us/step - loss: 3.1751 - rmse: 0.8643 - r_square: 0.9658 - val_loss: 1.3035 - val_rmse: 0.6099 - val_r_square: 0.9860\n",
      "Epoch 6/200\n",
      "911147/911147 [==============================] - 5s 5us/step - loss: 2.9854 - rmse: 0.8317 - r_square: 0.9680 - val_loss: 1.4908 - val_rmse: 0.6389 - val_r_square: 0.9843\n",
      "Epoch 7/200\n",
      "911147/911147 [==============================] - 5s 5us/step - loss: 2.8845 - rmse: 0.8200 - r_square: 0.9691 - val_loss: 0.9750 - val_rmse: 0.4942 - val_r_square: 0.9896\n",
      "Epoch 8/200\n",
      "911147/911147 [==============================] - 5s 5us/step - loss: 2.8157 - rmse: 0.8114 - r_square: 0.9698 - val_loss: 1.4109 - val_rmse: 0.6734 - val_r_square: 0.9847\n",
      "Epoch 9/200\n",
      "911147/911147 [==============================] - 5s 6us/step - loss: 2.7335 - rmse: 0.7956 - r_square: 0.9706 - val_loss: 2.6889 - val_rmse: 0.7196 - val_r_square: 0.9714\n",
      "Epoch 10/200\n",
      "911147/911147 [==============================] - 5s 5us/step - loss: 2.7142 - rmse: 0.7922 - r_square: 0.9708 - val_loss: 0.7562 - val_rmse: 0.4363 - val_r_square: 0.9919\n",
      "Epoch 11/200\n",
      "911147/911147 [==============================] - 5s 5us/step - loss: 2.7429 - rmse: 0.7885 - r_square: 0.9706 - val_loss: 1.2066 - val_rmse: 0.5639 - val_r_square: 0.9870\n",
      "Epoch 12/200\n",
      "911147/911147 [==============================] - 5s 5us/step - loss: 2.7113 - rmse: 0.7877 - r_square: 0.9708 - val_loss: 0.9602 - val_rmse: 0.4889 - val_r_square: 0.9897\n",
      "Epoch 13/200\n",
      "911147/911147 [==============================] - 5s 5us/step - loss: 2.5823 - rmse: 0.7708 - r_square: 0.9723 - val_loss: 1.0580 - val_rmse: 0.5368 - val_r_square: 0.9886\n",
      "Epoch 14/200\n",
      "911147/911147 [==============================] - 5s 5us/step - loss: 2.5783 - rmse: 0.7677 - r_square: 0.9724 - val_loss: 0.7625 - val_rmse: 0.4819 - val_r_square: 0.9919\n",
      "Epoch 15/200\n",
      "911147/911147 [==============================] - 5s 5us/step - loss: 2.4942 - rmse: 0.7580 - r_square: 0.9734 - val_loss: 1.0936 - val_rmse: 0.5372 - val_r_square: 0.9883\n",
      "Epoch 16/200\n",
      "911147/911147 [==============================] - 5s 5us/step - loss: 2.5409 - rmse: 0.7584 - r_square: 0.9728 - val_loss: 0.8155 - val_rmse: 0.4497 - val_r_square: 0.9913\n",
      "Epoch 17/200\n",
      "911147/911147 [==============================] - 5s 5us/step - loss: 2.5238 - rmse: 0.7561 - r_square: 0.9730 - val_loss: 1.7219 - val_rmse: 0.6238 - val_r_square: 0.9818\n",
      "Epoch 18/200\n",
      "911147/911147 [==============================] - 5s 5us/step - loss: 2.4426 - rmse: 0.7487 - r_square: 0.9738 - val_loss: 0.8210 - val_rmse: 0.4080 - val_r_square: 0.9913\n",
      "Epoch 19/200\n",
      "911147/911147 [==============================] - 5s 5us/step - loss: 2.5269 - rmse: 0.7509 - r_square: 0.9729 - val_loss: 1.3429 - val_rmse: 0.5095 - val_r_square: 0.9858\n",
      "Epoch 20/200\n",
      "911147/911147 [==============================] - 5s 6us/step - loss: 2.5417 - rmse: 0.7582 - r_square: 0.9727 - val_loss: 0.7358 - val_rmse: 0.5359 - val_r_square: 0.9921\n",
      "Epoch 21/200\n",
      "911147/911147 [==============================] - 5s 5us/step - loss: 2.4406 - rmse: 0.7418 - r_square: 0.9738 - val_loss: 1.4743 - val_rmse: 0.4960 - val_r_square: 0.9845\n",
      "Epoch 22/200\n",
      "911147/911147 [==============================] - 5s 6us/step - loss: 2.4907 - rmse: 0.7470 - r_square: 0.9733 - val_loss: 0.7465 - val_rmse: 0.4291 - val_r_square: 0.9922\n",
      "Epoch 23/200\n",
      "911147/911147 [==============================] - 5s 6us/step - loss: 2.4987 - rmse: 0.7446 - r_square: 0.9732 - val_loss: 0.6679 - val_rmse: 0.3869 - val_r_square: 0.9929\n",
      "Epoch 24/200\n",
      "911147/911147 [==============================] - 5s 5us/step - loss: 2.3984 - rmse: 0.7383 - r_square: 0.9742 - val_loss: 0.7533 - val_rmse: 0.4268 - val_r_square: 0.9920\n",
      "Epoch 25/200\n",
      "911147/911147 [==============================] - 5s 6us/step - loss: 2.4154 - rmse: 0.7332 - r_square: 0.9741 - val_loss: 1.6807 - val_rmse: 0.5851 - val_r_square: 0.9819\n",
      "Epoch 26/200\n",
      "911147/911147 [==============================] - 5s 5us/step - loss: 2.4322 - rmse: 0.7399 - r_square: 0.9738 - val_loss: 0.5645 - val_rmse: 0.3633 - val_r_square: 0.9940\n",
      "Epoch 27/200\n",
      "911147/911147 [==============================] - 5s 5us/step - loss: 2.3965 - rmse: 0.7284 - r_square: 0.9743 - val_loss: 0.6098 - val_rmse: 0.3526 - val_r_square: 0.9936\n",
      "Epoch 28/200\n",
      "911147/911147 [==============================] - 5s 6us/step - loss: 2.4300 - rmse: 0.7358 - r_square: 0.9739 - val_loss: 0.8236 - val_rmse: 0.4061 - val_r_square: 0.9913\n",
      "Epoch 29/200\n",
      "911147/911147 [==============================] - 5s 6us/step - loss: 2.4146 - rmse: 0.7324 - r_square: 0.9741 - val_loss: 0.9368 - val_rmse: 0.5158 - val_r_square: 0.9900\n",
      "Epoch 30/200\n",
      "911147/911147 [==============================] - 5s 5us/step - loss: 2.2439 - rmse: 0.7154 - r_square: 0.9758 - val_loss: 0.7131 - val_rmse: 0.3892 - val_r_square: 0.9924\n",
      "Epoch 31/200\n",
      "911147/911147 [==============================] - 5s 5us/step - loss: 2.3484 - rmse: 0.7232 - r_square: 0.9749 - val_loss: 0.6977 - val_rmse: 0.4001 - val_r_square: 0.9926\n",
      "Epoch 32/200\n",
      "911147/911147 [==============================] - 5s 5us/step - loss: 2.3731 - rmse: 0.7246 - r_square: 0.9744 - val_loss: 0.6713 - val_rmse: 0.3959 - val_r_square: 0.9930\n",
      "Epoch 33/200\n",
      "911147/911147 [==============================] - 5s 5us/step - loss: 2.3041 - rmse: 0.7161 - r_square: 0.9752 - val_loss: 0.5038 - val_rmse: 0.3300 - val_r_square: 0.9947\n",
      "Epoch 34/200\n",
      "911147/911147 [==============================] - 5s 5us/step - loss: 2.4104 - rmse: 0.7311 - r_square: 0.9742 - val_loss: 0.5086 - val_rmse: 0.3538 - val_r_square: 0.9946\n",
      "Epoch 35/200\n",
      "911147/911147 [==============================] - 5s 5us/step - loss: 2.2981 - rmse: 0.7247 - r_square: 0.9754 - val_loss: 0.5673 - val_rmse: 0.3503 - val_r_square: 0.9940\n",
      "Epoch 36/200\n",
      "911147/911147 [==============================] - 5s 5us/step - loss: 2.3352 - rmse: 0.7200 - r_square: 0.9749 - val_loss: 1.1486 - val_rmse: 0.4615 - val_r_square: 0.9878\n",
      "Epoch 37/200\n",
      "911147/911147 [==============================] - 5s 5us/step - loss: 2.3256 - rmse: 0.7223 - r_square: 0.9751 - val_loss: 0.7050 - val_rmse: 0.3944 - val_r_square: 0.9926\n",
      "Epoch 38/200\n",
      "911147/911147 [==============================] - 5s 5us/step - loss: 2.2747 - rmse: 0.7152 - r_square: 0.9755 - val_loss: 0.5261 - val_rmse: 0.3631 - val_r_square: 0.9944\n",
      "Epoch 39/200\n",
      "911147/911147 [==============================] - 5s 5us/step - loss: 2.3401 - rmse: 0.7206 - r_square: 0.9749 - val_loss: 0.4993 - val_rmse: 0.3593 - val_r_square: 0.9947\n",
      "Epoch 40/200\n",
      "911147/911147 [==============================] - 5s 5us/step - loss: 2.3049 - rmse: 0.7134 - r_square: 0.9752 - val_loss: 0.5286 - val_rmse: 0.3438 - val_r_square: 0.9944\n",
      "Epoch 41/200\n",
      "911147/911147 [==============================] - 5s 6us/step - loss: 2.3329 - rmse: 0.7168 - r_square: 0.9750 - val_loss: 0.7796 - val_rmse: 0.4500 - val_r_square: 0.9918\n",
      "Epoch 42/200\n",
      "911147/911147 [==============================] - 5s 5us/step - loss: 2.3128 - rmse: 0.7184 - r_square: 0.9751 - val_loss: 0.7803 - val_rmse: 0.4593 - val_r_square: 0.9917\n",
      "Epoch 43/200\n",
      "911147/911147 [==============================] - 5s 5us/step - loss: 2.2578 - rmse: 0.7099 - r_square: 0.9757 - val_loss: 1.1051 - val_rmse: 0.5249 - val_r_square: 0.9881\n",
      "Epoch 44/200\n",
      "911147/911147 [==============================] - 5s 5us/step - loss: 2.3186 - rmse: 0.7199 - r_square: 0.9751 - val_loss: 0.6542 - val_rmse: 0.4069 - val_r_square: 0.9930\n",
      "Epoch 45/200\n",
      "911147/911147 [==============================] - 5s 5us/step - loss: 2.2440 - rmse: 0.7077 - r_square: 0.9760 - val_loss: 0.8406 - val_rmse: 0.4654 - val_r_square: 0.9911\n",
      "Epoch 46/200\n",
      "911147/911147 [==============================] - 5s 5us/step - loss: 2.2681 - rmse: 0.7104 - r_square: 0.9757 - val_loss: 0.7056 - val_rmse: 0.3983 - val_r_square: 0.9925\n",
      "Epoch 47/200\n",
      "911147/911147 [==============================] - 5s 5us/step - loss: 2.2507 - rmse: 0.7025 - r_square: 0.9759 - val_loss: 1.0555 - val_rmse: 0.4990 - val_r_square: 0.9887\n",
      "Epoch 48/200\n",
      "911147/911147 [==============================] - 5s 5us/step - loss: 2.2599 - rmse: 0.7097 - r_square: 0.9758 - val_loss: 0.5232 - val_rmse: 0.3468 - val_r_square: 0.9945\n",
      "Epoch 49/200\n",
      "911147/911147 [==============================] - 5s 5us/step - loss: 2.3414 - rmse: 0.7137 - r_square: 0.9750 - val_loss: 0.6413 - val_rmse: 0.3815 - val_r_square: 0.9932\n",
      "Epoch 50/200\n",
      "911147/911147 [==============================] - 5s 5us/step - loss: 2.2521 - rmse: 0.7047 - r_square: 0.9759 - val_loss: 0.9222 - val_rmse: 0.4751 - val_r_square: 0.9901\n",
      "Epoch 51/200\n",
      "911147/911147 [==============================] - 5s 5us/step - loss: 2.2218 - rmse: 0.7039 - r_square: 0.9761 - val_loss: 0.5752 - val_rmse: 0.3936 - val_r_square: 0.9940\n",
      "Epoch 52/200\n",
      "911147/911147 [==============================] - 5s 5us/step - loss: 2.3080 - rmse: 0.7167 - r_square: 0.9752 - val_loss: 0.7915 - val_rmse: 0.4440 - val_r_square: 0.9915\n",
      "Epoch 53/200\n",
      "911147/911147 [==============================] - 5s 5us/step - loss: 2.2569 - rmse: 0.7082 - r_square: 0.9757 - val_loss: 0.4939 - val_rmse: 0.3329 - val_r_square: 0.9948\n",
      "Epoch 54/200\n",
      "911147/911147 [==============================] - 5s 5us/step - loss: 2.2483 - rmse: 0.7063 - r_square: 0.9759 - val_loss: 0.6383 - val_rmse: 0.4296 - val_r_square: 0.9934\n",
      "Epoch 55/200\n",
      "911147/911147 [==============================] - 5s 5us/step - loss: 2.2570 - rmse: 0.7094 - r_square: 0.9756 - val_loss: 0.8646 - val_rmse: 0.4196 - val_r_square: 0.9908\n",
      "Epoch 56/200\n",
      "911147/911147 [==============================] - 5s 5us/step - loss: 2.2916 - rmse: 0.7030 - r_square: 0.9754 - val_loss: 0.9638 - val_rmse: 0.5568 - val_r_square: 0.9897\n",
      "Epoch 57/200\n",
      "911147/911147 [==============================] - 5s 5us/step - loss: 2.2693 - rmse: 0.7079 - r_square: 0.9755 - val_loss: 0.9084 - val_rmse: 0.4436 - val_r_square: 0.9903\n",
      "Epoch 58/200\n",
      "911147/911147 [==============================] - 5s 5us/step - loss: 2.2115 - rmse: 0.6985 - r_square: 0.9763 - val_loss: 1.0079 - val_rmse: 0.4659 - val_r_square: 0.9892\n",
      "Epoch 59/200\n",
      "911147/911147 [==============================] - 5s 5us/step - loss: 2.2668 - rmse: 0.7102 - r_square: 0.9756 - val_loss: 0.6714 - val_rmse: 0.3792 - val_r_square: 0.9929\n",
      "Epoch 60/200\n",
      "911147/911147 [==============================] - 5s 5us/step - loss: 2.2284 - rmse: 0.7039 - r_square: 0.9759 - val_loss: 0.8354 - val_rmse: 0.4750 - val_r_square: 0.9913\n",
      "Epoch 61/200\n",
      "911147/911147 [==============================] - 5s 5us/step - loss: 2.1706 - rmse: 0.6953 - r_square: 0.9767 - val_loss: 0.8830 - val_rmse: 0.4572 - val_r_square: 0.9906\n",
      "Epoch 62/200\n",
      "911147/911147 [==============================] - 5s 5us/step - loss: 2.2239 - rmse: 0.7046 - r_square: 0.9762 - val_loss: 0.7435 - val_rmse: 0.4258 - val_r_square: 0.9921\n",
      "Epoch 63/200\n",
      "911147/911147 [==============================] - 5s 5us/step - loss: 2.2432 - rmse: 0.7065 - r_square: 0.9759 - val_loss: 0.6658 - val_rmse: 0.3709 - val_r_square: 0.9929\n",
      "Epoch 64/200\n",
      "911147/911147 [==============================] - 5s 5us/step - loss: 2.2456 - rmse: 0.7019 - r_square: 0.9762 - val_loss: 0.8811 - val_rmse: 0.5380 - val_r_square: 0.9906\n",
      "Epoch 65/200\n",
      "911147/911147 [==============================] - 5s 5us/step - loss: 2.2473 - rmse: 0.7037 - r_square: 0.9760 - val_loss: 0.7174 - val_rmse: 0.4080 - val_r_square: 0.9923\n",
      "Epoch 66/200\n",
      "911147/911147 [==============================] - 5s 5us/step - loss: 2.2035 - rmse: 0.6985 - r_square: 0.9763 - val_loss: 0.7322 - val_rmse: 0.4606 - val_r_square: 0.9922\n",
      "Epoch 67/200\n",
      "911147/911147 [==============================] - 5s 5us/step - loss: 2.2454 - rmse: 0.7033 - r_square: 0.9760 - val_loss: 0.8201 - val_rmse: 0.4206 - val_r_square: 0.9912\n",
      "Epoch 68/200\n",
      "911147/911147 [==============================] - 5s 5us/step - loss: 2.2405 - rmse: 0.7005 - r_square: 0.9757 - val_loss: 0.6213 - val_rmse: 0.4193 - val_r_square: 0.9934\n",
      "Epoch 69/200\n",
      "911147/911147 [==============================] - 5s 5us/step - loss: 2.1914 - rmse: 0.6958 - r_square: 0.9764 - val_loss: 0.7739 - val_rmse: 0.4508 - val_r_square: 0.9918\n",
      "Epoch 70/200\n",
      "911147/911147 [==============================] - 5s 5us/step - loss: 2.1891 - rmse: 0.6992 - r_square: 0.9765 - val_loss: 0.6886 - val_rmse: 0.3795 - val_r_square: 0.9927\n",
      "Epoch 71/200\n",
      "911147/911147 [==============================] - 5s 5us/step - loss: 2.1800 - rmse: 0.6934 - r_square: 0.9768 - val_loss: 0.7637 - val_rmse: 0.3993 - val_r_square: 0.9919\n",
      "Epoch 72/200\n",
      "911147/911147 [==============================] - 5s 5us/step - loss: 2.2047 - rmse: 0.6988 - r_square: 0.9764 - val_loss: 0.6414 - val_rmse: 0.4347 - val_r_square: 0.9932\n",
      "Epoch 73/200\n",
      "911147/911147 [==============================] - 5s 5us/step - loss: 2.2157 - rmse: 0.7040 - r_square: 0.9762 - val_loss: 0.9604 - val_rmse: 0.4305 - val_r_square: 0.9898\n",
      "Epoch 74/200\n",
      "911147/911147 [==============================] - 5s 5us/step - loss: 2.2362 - rmse: 0.7057 - r_square: 0.9759 - val_loss: 0.7040 - val_rmse: 0.3790 - val_r_square: 0.9926\n",
      "Epoch 75/200\n",
      "911147/911147 [==============================] - 5s 5us/step - loss: 2.1829 - rmse: 0.6988 - r_square: 0.9766 - val_loss: 0.8226 - val_rmse: 0.4099 - val_r_square: 0.9914\n",
      "Epoch 76/200\n",
      "911147/911147 [==============================] - 5s 5us/step - loss: 2.2156 - rmse: 0.7026 - r_square: 0.9761 - val_loss: 0.6760 - val_rmse: 0.4223 - val_r_square: 0.9928\n",
      "Epoch 77/200\n",
      "911147/911147 [==============================] - 5s 6us/step - loss: 2.1646 - rmse: 0.6942 - r_square: 0.9768 - val_loss: 0.7266 - val_rmse: 0.4095 - val_r_square: 0.9923\n",
      "Epoch 78/200\n",
      "911147/911147 [==============================] - 5s 5us/step - loss: 2.2034 - rmse: 0.6944 - r_square: 0.9762 - val_loss: 0.6745 - val_rmse: 0.3849 - val_r_square: 0.9929\n",
      "Epoch 00078: early stopping\n"
     ]
    }
   ],
   "source": [
    "model3 = Sequential([\n",
    "    BatchNormalization(),\n",
    "    Dense(64, activation='relu', input_shape=(7,)),\n",
    "    Dense(128, activation='relu'),\n",
    "    Dense(64, activation='relu'),\n",
    "    Dense(1, activation='linear'),\n",
    "])\n",
    "model3.compile(\n",
    "  optimizer='adam',\n",
    "  loss='mse',\n",
    "  metrics=[rmse, r_square],\n",
    ")\n",
    "# fit the model\n",
    "result3 = model3.fit(XX_train, \n",
    "                   yy_train,\n",
    "                   epochs = 200,\n",
    "                   batch_size=256,\n",
    "                   validation_data=(XX_validation, yy_validation),\n",
    "                   callbacks = [es]\n",
    "                  )"
   ]
  },
  {
   "cell_type": "code",
   "execution_count": 41,
   "metadata": {},
   "outputs": [
    {
     "name": "stdout",
     "output_type": "stream",
     "text": [
      "[[ 8.7645283e+00]\n",
      " [ 1.7856395e-01]\n",
      " [ 2.4396765e+01]\n",
      " [-1.6550899e-02]\n",
      " [ 6.1647387e+00]\n",
      " [ 9.1036761e-01]\n",
      " [ 6.8106346e+00]\n",
      " [ 9.2254996e-02]\n",
      " [ 1.0353720e+00]\n",
      " [ 6.9386244e+00]]\n",
      "\n",
      "\n",
      "Mean absolute error (MAE):      0.386960\n",
      "Mean squared error (MSE):       0.673518\n",
      "Root mean squared error (RMSE): 0.820682\n",
      "R square (R^2):                 0.993094\n"
     ]
    }
   ],
   "source": [
    "predictions3 = model3.predict(X_test)\n",
    "print(predictions3[:10])\n",
    "print(\"\\n\")\n",
    "print(\"Mean absolute error (MAE):      %f\" % skm.mean_absolute_error(y_test,predictions3))\n",
    "print(\"Mean squared error (MSE):       %f\" % skm.mean_squared_error(y_test,predictions3))\n",
    "print(\"Root mean squared error (RMSE): %f\" % math.sqrt(skm.mean_squared_error(y_test,predictions3)))\n",
    "print(\"R square (R^2):                 %f\" % skm.r2_score(y_test,predictions3))"
   ]
  },
  {
   "cell_type": "code",
   "execution_count": null,
   "metadata": {},
   "outputs": [],
   "source": []
  },
  {
   "cell_type": "markdown",
   "metadata": {},
   "source": [
    "## Reference: \n",
    "&emsp;&emsp;What does 'Accuracy' mean in Regression? https://github.com/keras-team/keras/issues/7947 <br>\n",
    "&emsp;&emsp;https://keras.io/metrics/<br>\n",
    "&emsp;&emsp;Scale, Standardize, or Normalize with Scikit-Learn https://towardsdatascience.com/scale-standardize-or-normalize-with-scikit-learn-6ccc7d176a02 <br>\n",
    "&emsp;&emsp;The Day my Computer Won the Nobel Prize (Neural Network Option Pricing)  https://medium.com/datadriveninvestor/the-day-my-computer-won-the-nobel-prize-neural-network-option-pricing-d29b4379f1d2 <br>"
   ]
  }
 ],
 "metadata": {
  "kernelspec": {
   "display_name": "Python 3",
   "language": "python",
   "name": "python3"
  },
  "language_info": {
   "codemirror_mode": {
    "name": "ipython",
    "version": 3
   },
   "file_extension": ".py",
   "mimetype": "text/x-python",
   "name": "python",
   "nbconvert_exporter": "python",
   "pygments_lexer": "ipython3",
   "version": "3.7.0"
  }
 },
 "nbformat": 4,
 "nbformat_minor": 2
}
