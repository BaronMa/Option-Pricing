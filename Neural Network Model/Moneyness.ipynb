{
 "cells": [
  {
   "cell_type": "code",
   "execution_count": 1,
   "metadata": {
    "scrolled": true
   },
   "outputs": [
    {
     "name": "stdout",
     "output_type": "stream",
     "text": [
      "Collecting pip\n",
      "  Downloading https://files.pythonhosted.org/packages/8d/07/f7d7ced2f97ca3098c16565efbe6b15fafcba53e8d9bdb431e09140514b0/pip-19.2.2-py2.py3-none-any.whl (1.4MB)\n",
      "Installing collected packages: pip\n",
      "Successfully installed pip-19.2.2\n"
     ]
    },
    {
     "name": "stderr",
     "output_type": "stream",
     "text": [
      "distributed 1.21.8 requires msgpack, which is not installed.\n",
      "You are using pip version 10.0.1, however version 19.2.2 is available.\n",
      "You should consider upgrading via the 'python -m pip install --upgrade pip' command.\n"
     ]
    },
    {
     "name": "stdout",
     "output_type": "stream",
     "text": [
      "Collecting keras\n",
      "  Downloading https://files.pythonhosted.org/packages/5e/10/aa32dad071ce52b5502266b5c659451cfd6ffcbf14e6c8c4f16c0ff5aaab/Keras-2.2.4-py2.py3-none-any.whl (312kB)\n",
      "Requirement already satisfied: h5py in c:\\program files\\anaconda3\\lib\\site-packages (from keras) (2.7.1)\n",
      "Requirement already satisfied: numpy>=1.9.1 in c:\\program files\\anaconda3\\lib\\site-packages (from keras) (1.14.3)\n",
      "Collecting keras-preprocessing>=1.0.5 (from keras)\n",
      "  Downloading https://files.pythonhosted.org/packages/28/6a/8c1f62c37212d9fc441a7e26736df51ce6f0e38455816445471f10da4f0a/Keras_Preprocessing-1.1.0-py2.py3-none-any.whl (41kB)\n",
      "Collecting keras-applications>=1.0.6 (from keras)\n",
      "  Downloading https://files.pythonhosted.org/packages/71/e3/19762fdfc62877ae9102edf6342d71b28fbfd9dea3d2f96a882ce099b03f/Keras_Applications-1.0.8-py3-none-any.whl (50kB)\n",
      "Requirement already satisfied: pyyaml in c:\\program files\\anaconda3\\lib\\site-packages (from keras) (3.12)\n",
      "Requirement already satisfied: scipy>=0.14 in c:\\program files\\anaconda3\\lib\\site-packages (from keras) (1.1.0)\n",
      "Requirement already satisfied: six>=1.9.0 in c:\\program files\\anaconda3\\lib\\site-packages (from keras) (1.11.0)\n",
      "Installing collected packages: keras-preprocessing, keras-applications, keras\n",
      "Successfully installed keras-2.2.4 keras-applications-1.0.8 keras-preprocessing-1.1.0\n",
      "Collecting tensorflow\n",
      "  Downloading https://files.pythonhosted.org/packages/bf/4a/5c86ed8b245aa48f9f819b13a0a9039e9126ba19fdd0c7e0b8026c12315a/tensorflow-1.14.0-cp36-cp36m-win_amd64.whl (68.3MB)\n",
      "Collecting astor>=0.6.0 (from tensorflow)\n",
      "  Downloading https://files.pythonhosted.org/packages/d1/4f/950dfae467b384fc96bc6469de25d832534f6b4441033c39f914efd13418/astor-0.8.0-py2.py3-none-any.whl\n",
      "Collecting gast>=0.2.0 (from tensorflow)\n",
      "  Downloading https://files.pythonhosted.org/packages/4e/35/11749bf99b2d4e3cceb4d55ca22590b0d7c2c62b9de38ac4a4a7f4687421/gast-0.2.2.tar.gz\n",
      "Requirement already satisfied: keras-preprocessing>=1.0.5 in c:\\users\\mayingzh\\appdata\\roaming\\python\\python36\\site-packages (from tensorflow) (1.1.0)\n",
      "Collecting tensorflow-estimator<1.15.0rc0,>=1.14.0rc0 (from tensorflow)\n",
      "  Downloading https://files.pythonhosted.org/packages/3c/d5/21860a5b11caf0678fbc8319341b0ae21a07156911132e0e71bffed0510d/tensorflow_estimator-1.14.0-py2.py3-none-any.whl (488kB)\n",
      "Requirement already satisfied: wheel>=0.26 in c:\\program files\\anaconda3\\lib\\site-packages (from tensorflow) (0.31.1)\n",
      "Collecting absl-py>=0.7.0 (from tensorflow)\n",
      "  Downloading https://files.pythonhosted.org/packages/da/3f/9b0355080b81b15ba6a9ffcf1f5ea39e307a2778b2f2dc8694724e8abd5b/absl-py-0.7.1.tar.gz (99kB)\n",
      "Collecting google-pasta>=0.1.6 (from tensorflow)\n",
      "  Downloading https://files.pythonhosted.org/packages/d0/33/376510eb8d6246f3c30545f416b2263eee461e40940c2a4413c711bdf62d/google_pasta-0.1.7-py3-none-any.whl (52kB)\n",
      "Requirement already satisfied: six>=1.10.0 in c:\\program files\\anaconda3\\lib\\site-packages (from tensorflow) (1.11.0)\n",
      "Collecting protobuf>=3.6.1 (from tensorflow)\n",
      "  Downloading https://files.pythonhosted.org/packages/09/36/285541664581d34d869c44921971a8e6cd1059600610edd133e2f0e8823c/protobuf-3.9.1-cp36-cp36m-win_amd64.whl (1.1MB)\n",
      "Collecting tensorboard<1.15.0,>=1.14.0 (from tensorflow)\n",
      "  Downloading https://files.pythonhosted.org/packages/91/2d/2ed263449a078cd9c8a9ba50ebd50123adf1f8cfbea1492f9084169b89d9/tensorboard-1.14.0-py3-none-any.whl (3.1MB)\n",
      "Collecting grpcio>=1.8.6 (from tensorflow)\n",
      "  Downloading https://files.pythonhosted.org/packages/9b/03/b18e4402007f11b42aefebba56443572faf255b9216e40e3d128c774a48d/grpcio-1.23.0-cp36-cp36m-win_amd64.whl (1.6MB)\n",
      "Collecting wrapt>=1.11.1 (from tensorflow)\n",
      "  Downloading https://files.pythonhosted.org/packages/23/84/323c2415280bc4fc880ac5050dddfb3c8062c2552b34c2e512eb4aa68f79/wrapt-1.11.2.tar.gz\n",
      "Collecting numpy<2.0,>=1.14.5 (from tensorflow)\n",
      "  Downloading https://files.pythonhosted.org/packages/b7/c1/a58630a439aa10a285169b4a122bc9f7a9a4392e4ec39602f0a60b2693db/numpy-1.17.0-cp36-cp36m-win_amd64.whl (12.8MB)\n",
      "Requirement already satisfied: keras-applications>=1.0.6 in c:\\users\\mayingzh\\appdata\\roaming\\python\\python36\\site-packages (from tensorflow) (1.0.8)\n",
      "Collecting termcolor>=1.1.0 (from tensorflow)\n",
      "  Downloading https://files.pythonhosted.org/packages/8a/48/a76be51647d0eb9f10e2a4511bf3ffb8cc1e6b14e9e4fab46173aa79f981/termcolor-1.1.0.tar.gz\n",
      "Requirement already satisfied: setuptools in c:\\program files\\anaconda3\\lib\\site-packages (from protobuf>=3.6.1->tensorflow) (39.1.0)\n",
      "Collecting markdown>=2.6.8 (from tensorboard<1.15.0,>=1.14.0->tensorflow)\n",
      "  Downloading https://files.pythonhosted.org/packages/c0/4e/fd492e91abdc2d2fcb70ef453064d980688762079397f779758e055f6575/Markdown-3.1.1-py2.py3-none-any.whl (87kB)\n",
      "Requirement already satisfied: werkzeug>=0.11.15 in c:\\program files\\anaconda3\\lib\\site-packages (from tensorboard<1.15.0,>=1.14.0->tensorflow) (0.14.1)\n",
      "Requirement already satisfied: h5py in c:\\program files\\anaconda3\\lib\\site-packages (from keras-applications>=1.0.6->tensorflow) (2.7.1)\n",
      "Building wheels for collected packages: gast, absl-py, wrapt, termcolor\n",
      "  Building wheel for gast (setup.py): started\n",
      "  Building wheel for gast (setup.py): finished with status 'done'\n",
      "  Created wheel for gast: filename=gast-0.2.2-cp36-none-any.whl size=6594 sha256=3c932177b0bf404e972bc5735ee88f692b9d173db863523ee15c24e29043d44d\n",
      "  Stored in directory: C:\\Users\\mayingzh\\AppData\\Local\\pip\\Cache\\wheels\\5c\\2e\\7e\\a1d4d4fcebe6c381f378ce7743a3ced3699feb89bcfbdadadd\n",
      "  Building wheel for absl-py (setup.py): started\n",
      "  Building wheel for absl-py (setup.py): finished with status 'done'\n",
      "  Created wheel for absl-py: filename=absl_py-0.7.1-cp36-none-any.whl size=113722 sha256=031796e87f77632c407ad9ae0207e44808126f90d2938207997e906faae5439c\n",
      "  Stored in directory: C:\\Users\\mayingzh\\AppData\\Local\\pip\\Cache\\wheels\\ee\\98\\38\\46cbcc5a93cfea5492d19c38562691ddb23b940176c14f7b48\n",
      "  Building wheel for wrapt (setup.py): started\n",
      "  Building wheel for wrapt (setup.py): finished with status 'done'\n",
      "  Created wheel for wrapt: filename=wrapt-1.11.2-cp36-none-any.whl size=18733 sha256=0b418002710569e77f1038baee964f35ce8c3d13d4d898569fd7191c4fc0ca3f\n",
      "  Stored in directory: C:\\Users\\mayingzh\\AppData\\Local\\pip\\Cache\\wheels\\d7\\de\\2e\\efa132238792efb6459a96e85916ef8597fcb3d2ae51590dfd\n",
      "  Building wheel for termcolor (setup.py): started\n",
      "  Building wheel for termcolor (setup.py): finished with status 'done'\n",
      "  Created wheel for termcolor: filename=termcolor-1.1.0-cp36-none-any.whl size=4006 sha256=5edff00a7e505311eb14e9e7e94eeecfe6a132716ebee04ba72b5610daf80611\n",
      "  Stored in directory: C:\\Users\\mayingzh\\AppData\\Local\\pip\\Cache\\wheels\\7c\\06\\54\\bc84598ba1daf8f970247f550b175aaaee85f68b4b0c5ab2c6\n",
      "Successfully built gast absl-py wrapt termcolor\n",
      "Installing collected packages: astor, gast, tensorflow-estimator, absl-py, google-pasta, protobuf, markdown, numpy, grpcio, tensorboard, wrapt, termcolor, tensorflow\n",
      "Successfully installed absl-py-0.7.1 astor-0.8.0 gast-0.2.2 google-pasta-0.1.7 grpcio-1.23.0 markdown-3.1.1 numpy-1.17.0 protobuf-3.9.1 tensorboard-1.14.0 tensorflow-1.14.0 tensorflow-estimator-1.14.0 termcolor-1.1.0 wrapt-1.11.2\n"
     ]
    },
    {
     "name": "stderr",
     "output_type": "stream",
     "text": [
      "ERROR: tensorboard 1.14.0 has requirement setuptools>=41.0.0, but you'll have setuptools 39.1.0 which is incompatible.\n",
      "  WARNING: The script markdown_py.exe is installed in 'C:\\Users\\mayingzh\\AppData\\Roaming\\Python\\Python36\\Scripts' which is not on PATH.\n",
      "  Consider adding this directory to PATH or, if you prefer to suppress this warning, use --no-warn-script-location.\n",
      "  WARNING: The script f2py.exe is installed in 'C:\\Users\\mayingzh\\AppData\\Roaming\\Python\\Python36\\Scripts' which is not on PATH.\n",
      "  Consider adding this directory to PATH or, if you prefer to suppress this warning, use --no-warn-script-location.\n",
      "  WARNING: The script tensorboard.exe is installed in 'C:\\Users\\mayingzh\\AppData\\Roaming\\Python\\Python36\\Scripts' which is not on PATH.\n",
      "  Consider adding this directory to PATH or, if you prefer to suppress this warning, use --no-warn-script-location.\n",
      "  WARNING: The scripts freeze_graph.exe, saved_model_cli.exe, tensorboard.exe, tf_upgrade_v2.exe, tflite_convert.exe, toco.exe and toco_from_protos.exe are installed in 'C:\\Users\\mayingzh\\AppData\\Roaming\\Python\\Python36\\Scripts' which is not on PATH.\n",
      "  Consider adding this directory to PATH or, if you prefer to suppress this warning, use --no-warn-script-location.\n"
     ]
    },
    {
     "name": "stdout",
     "output_type": "stream",
     "text": [
      "Requirement already up-to-date: numpy in c:\\users\\mayingzh\\appdata\\roaming\\python\\python36\\site-packages (1.17.0)\n"
     ]
    }
   ],
   "source": [
    "!python -m pip install --user --upgrade pip\n",
    "!pip install --user keras\n",
    "!pip install --user tensorflow\n",
    "!pip install --user -U numpy"
   ]
  },
  {
   "cell_type": "code",
   "execution_count": 1,
   "metadata": {},
   "outputs": [
    {
     "name": "stderr",
     "output_type": "stream",
     "text": [
      "C:\\Users\\wangmi94\\AppData\\Roaming\\Python\\Python36\\site-packages\\tensorflow\\python\\framework\\dtypes.py:516: FutureWarning: Passing (type, 1) or '1type' as a synonym of type is deprecated; in a future version of numpy, it will be understood as (type, (1,)) / '(1,)type'.\n",
      "  _np_qint8 = np.dtype([(\"qint8\", np.int8, 1)])\n",
      "C:\\Users\\wangmi94\\AppData\\Roaming\\Python\\Python36\\site-packages\\tensorflow\\python\\framework\\dtypes.py:517: FutureWarning: Passing (type, 1) or '1type' as a synonym of type is deprecated; in a future version of numpy, it will be understood as (type, (1,)) / '(1,)type'.\n",
      "  _np_quint8 = np.dtype([(\"quint8\", np.uint8, 1)])\n",
      "C:\\Users\\wangmi94\\AppData\\Roaming\\Python\\Python36\\site-packages\\tensorflow\\python\\framework\\dtypes.py:518: FutureWarning: Passing (type, 1) or '1type' as a synonym of type is deprecated; in a future version of numpy, it will be understood as (type, (1,)) / '(1,)type'.\n",
      "  _np_qint16 = np.dtype([(\"qint16\", np.int16, 1)])\n",
      "C:\\Users\\wangmi94\\AppData\\Roaming\\Python\\Python36\\site-packages\\tensorflow\\python\\framework\\dtypes.py:519: FutureWarning: Passing (type, 1) or '1type' as a synonym of type is deprecated; in a future version of numpy, it will be understood as (type, (1,)) / '(1,)type'.\n",
      "  _np_quint16 = np.dtype([(\"quint16\", np.uint16, 1)])\n",
      "C:\\Users\\wangmi94\\AppData\\Roaming\\Python\\Python36\\site-packages\\tensorflow\\python\\framework\\dtypes.py:520: FutureWarning: Passing (type, 1) or '1type' as a synonym of type is deprecated; in a future version of numpy, it will be understood as (type, (1,)) / '(1,)type'.\n",
      "  _np_qint32 = np.dtype([(\"qint32\", np.int32, 1)])\n",
      "C:\\Users\\wangmi94\\AppData\\Roaming\\Python\\Python36\\site-packages\\tensorflow\\python\\framework\\dtypes.py:525: FutureWarning: Passing (type, 1) or '1type' as a synonym of type is deprecated; in a future version of numpy, it will be understood as (type, (1,)) / '(1,)type'.\n",
      "  np_resource = np.dtype([(\"resource\", np.ubyte, 1)])\n",
      "C:\\Program Files\\Anaconda3\\lib\\site-packages\\h5py\\__init__.py:36: FutureWarning: Conversion of the second argument of issubdtype from `float` to `np.floating` is deprecated. In future, it will be treated as `np.float64 == np.dtype(float).type`.\n",
      "  from ._conv import register_converters as _register_converters\n",
      "C:\\Users\\wangmi94\\AppData\\Roaming\\Python\\Python36\\site-packages\\tensorboard\\compat\\tensorflow_stub\\dtypes.py:541: FutureWarning: Passing (type, 1) or '1type' as a synonym of type is deprecated; in a future version of numpy, it will be understood as (type, (1,)) / '(1,)type'.\n",
      "  _np_qint8 = np.dtype([(\"qint8\", np.int8, 1)])\n",
      "C:\\Users\\wangmi94\\AppData\\Roaming\\Python\\Python36\\site-packages\\tensorboard\\compat\\tensorflow_stub\\dtypes.py:542: FutureWarning: Passing (type, 1) or '1type' as a synonym of type is deprecated; in a future version of numpy, it will be understood as (type, (1,)) / '(1,)type'.\n",
      "  _np_quint8 = np.dtype([(\"quint8\", np.uint8, 1)])\n",
      "C:\\Users\\wangmi94\\AppData\\Roaming\\Python\\Python36\\site-packages\\tensorboard\\compat\\tensorflow_stub\\dtypes.py:543: FutureWarning: Passing (type, 1) or '1type' as a synonym of type is deprecated; in a future version of numpy, it will be understood as (type, (1,)) / '(1,)type'.\n",
      "  _np_qint16 = np.dtype([(\"qint16\", np.int16, 1)])\n",
      "C:\\Users\\wangmi94\\AppData\\Roaming\\Python\\Python36\\site-packages\\tensorboard\\compat\\tensorflow_stub\\dtypes.py:544: FutureWarning: Passing (type, 1) or '1type' as a synonym of type is deprecated; in a future version of numpy, it will be understood as (type, (1,)) / '(1,)type'.\n",
      "  _np_quint16 = np.dtype([(\"quint16\", np.uint16, 1)])\n",
      "C:\\Users\\wangmi94\\AppData\\Roaming\\Python\\Python36\\site-packages\\tensorboard\\compat\\tensorflow_stub\\dtypes.py:545: FutureWarning: Passing (type, 1) or '1type' as a synonym of type is deprecated; in a future version of numpy, it will be understood as (type, (1,)) / '(1,)type'.\n",
      "  _np_qint32 = np.dtype([(\"qint32\", np.int32, 1)])\n",
      "C:\\Users\\wangmi94\\AppData\\Roaming\\Python\\Python36\\site-packages\\tensorboard\\compat\\tensorflow_stub\\dtypes.py:550: FutureWarning: Passing (type, 1) or '1type' as a synonym of type is deprecated; in a future version of numpy, it will be understood as (type, (1,)) / '(1,)type'.\n",
      "  np_resource = np.dtype([(\"resource\", np.ubyte, 1)])\n",
      "Using TensorFlow backend.\n"
     ]
    }
   ],
   "source": [
    "import pandas as pd\n",
    "import numpy as np\n",
    "import tensorflow as tf\n",
    "from keras.models import Sequential\n",
    "from keras.layers import Dense, Dropout\n",
    "from keras.layers.advanced_activations import PReLU, ELU\n",
    "from keras.layers.normalization import BatchNormalization\n",
    "from keras import backend as K\n",
    "from keras.callbacks import EarlyStopping\n",
    "from keras.wrappers.scikit_learn import KerasRegressor\n",
    "from keras.optimizers import Adam\n",
    "from sklearn.model_selection import train_test_split, GridSearchCV, cross_val_score\n",
    "from sklearn import preprocessing\n",
    "from sklearn.preprocessing import StandardScaler\n",
    "import sklearn.metrics as skm, math\n",
    "import matplotlib.pyplot as plt\n",
    "import seaborn as sns"
   ]
  },
  {
   "cell_type": "markdown",
   "metadata": {},
   "source": [
    "## Load data and do data normalization"
   ]
  },
  {
   "cell_type": "code",
   "execution_count": 2,
   "metadata": {},
   "outputs": [],
   "source": [
    "def moneyness(S,X):\n",
    "    return S/X"
   ]
  },
  {
   "cell_type": "code",
   "execution_count": 3,
   "metadata": {},
   "outputs": [],
   "source": [
    "def intrinsic(S, K, C, P):\n",
    "    return C*(max(S-K, 0)) + P*(max(K-S, 0))"
   ]
  },
  {
   "cell_type": "code",
   "execution_count": 4,
   "metadata": {},
   "outputs": [],
   "source": [
    "def load_data(file):\n",
    "    df = pd.read_csv(file)\n",
    "    df = df.dropna()\n",
    "    \n",
    "    # Remove the option data has less than 7 days to maturity.\n",
    "    df = df[df.maturity > 6]\n",
    "    \n",
    "    df['moneyness'] = df.apply(lambda row: moneyness(row['underlying_price'], row['strike_price']), axis = 1)\n",
    "    dfout = df[df.moneyness >= 0.5]\n",
    "    dfin = df[df.moneyness <= 1.5]\n",
    "    df = df[df.moneyness >= 0.5]\n",
    "    df = df[df.moneyness <= 1.5]\n",
    "    \n",
    "    # Calculate the intrinsic value of at-the-money options\n",
    "    df['intrinsic'] = df.apply(lambda row: intrinsic(row['underlying_price'], row['strike_price'], row['cp_flag_C'], row['cp_flag_P']), axis = 1)\n",
    "    # Calculate the intrinsic value of in-the-money the options\n",
    "    dfin['intrinsic'] = df.apply(lambda row: intrinsic(row['underlying_price'], row['strike_price'], row['cp_flag_C'], row['cp_flag_P']), axis = 1)\n",
    "    # Calculate the intrinsic value of out-of-money the options\n",
    "    dfout['intrinsic'] = df.apply(lambda row: intrinsic(row['underlying_price'], row['strike_price'], row['cp_flag_C'], row['cp_flag_P']), axis = 1)\n",
    "    #at-the-money options\n",
    "    sample_df = df[['strike_price', 'underlying_price', 'maturity', 'impl_volatility', 'realized_vol', 'cp_flag_C', 'cp_flag_P', \n",
    "                    'interest_rate', 'intrinsic', 'moneyness', 'best_offer']].apply(pd.to_numeric)\n",
    "    sample_df = sample_df.reset_index(drop=True)\n",
    "    #in-the-money options\n",
    "    sample_dfin = dfin[['strike_price', 'underlying_price', 'maturity', 'impl_volatility', 'realized_vol', 'cp_flag_C', 'cp_flag_P', \n",
    "                    'interest_rate', 'intrinsic', 'moneyness', 'best_offer']].apply(pd.to_numeric)\n",
    "    sample_dfin = sample_dfin.reset_index(drop=True)\n",
    "    #Out-of-money options\n",
    "    sample_dfout = dfout[['strike_price', 'underlying_price', 'maturity', 'impl_volatility', 'realized_vol', 'cp_flag_C', 'cp_flag_P', \n",
    "                    'interest_rate', 'intrinsic', 'moneyness', 'best_offer']].apply(pd.to_numeric)\n",
    "    sample_dfout = sample_dfout.reset_index(drop=True)\n",
    "    \n",
    "    return sample_df,sample_dfin,sample_dfout"
   ]
  },
  {
   "cell_type": "code",
   "execution_count": 5,
   "metadata": {},
   "outputs": [
    {
     "data": {
      "text/html": [
       "<div>\n",
       "<style scoped>\n",
       "    .dataframe tbody tr th:only-of-type {\n",
       "        vertical-align: middle;\n",
       "    }\n",
       "\n",
       "    .dataframe tbody tr th {\n",
       "        vertical-align: top;\n",
       "    }\n",
       "\n",
       "    .dataframe thead th {\n",
       "        text-align: right;\n",
       "    }\n",
       "</style>\n",
       "<table border=\"1\" class=\"dataframe\">\n",
       "  <thead>\n",
       "    <tr style=\"text-align: right;\">\n",
       "      <th></th>\n",
       "      <th>strike_price</th>\n",
       "      <th>underlying_price</th>\n",
       "      <th>maturity</th>\n",
       "      <th>impl_volatility</th>\n",
       "      <th>realized_vol</th>\n",
       "      <th>cp_flag_C</th>\n",
       "      <th>cp_flag_P</th>\n",
       "      <th>interest_rate</th>\n",
       "      <th>intrinsic</th>\n",
       "      <th>moneyness</th>\n",
       "      <th>best_offer</th>\n",
       "    </tr>\n",
       "  </thead>\n",
       "  <tbody>\n",
       "    <tr>\n",
       "      <th>0</th>\n",
       "      <td>50.0</td>\n",
       "      <td>58.61</td>\n",
       "      <td>18</td>\n",
       "      <td>0.365853</td>\n",
       "      <td>0.169029</td>\n",
       "      <td>1</td>\n",
       "      <td>0</td>\n",
       "      <td>0.001</td>\n",
       "      <td>8.61</td>\n",
       "      <td>1.172200</td>\n",
       "      <td>8.70</td>\n",
       "    </tr>\n",
       "    <tr>\n",
       "      <th>1</th>\n",
       "      <td>52.5</td>\n",
       "      <td>58.61</td>\n",
       "      <td>18</td>\n",
       "      <td>0.294871</td>\n",
       "      <td>0.169029</td>\n",
       "      <td>1</td>\n",
       "      <td>0</td>\n",
       "      <td>0.001</td>\n",
       "      <td>6.11</td>\n",
       "      <td>1.116381</td>\n",
       "      <td>6.20</td>\n",
       "    </tr>\n",
       "    <tr>\n",
       "      <th>2</th>\n",
       "      <td>55.0</td>\n",
       "      <td>58.61</td>\n",
       "      <td>18</td>\n",
       "      <td>0.252262</td>\n",
       "      <td>0.169029</td>\n",
       "      <td>1</td>\n",
       "      <td>0</td>\n",
       "      <td>0.001</td>\n",
       "      <td>3.61</td>\n",
       "      <td>1.065636</td>\n",
       "      <td>3.85</td>\n",
       "    </tr>\n",
       "    <tr>\n",
       "      <th>3</th>\n",
       "      <td>57.5</td>\n",
       "      <td>58.61</td>\n",
       "      <td>18</td>\n",
       "      <td>0.214273</td>\n",
       "      <td>0.169029</td>\n",
       "      <td>1</td>\n",
       "      <td>0</td>\n",
       "      <td>0.001</td>\n",
       "      <td>1.11</td>\n",
       "      <td>1.019304</td>\n",
       "      <td>1.74</td>\n",
       "    </tr>\n",
       "    <tr>\n",
       "      <th>4</th>\n",
       "      <td>60.0</td>\n",
       "      <td>58.61</td>\n",
       "      <td>18</td>\n",
       "      <td>0.194355</td>\n",
       "      <td>0.169029</td>\n",
       "      <td>1</td>\n",
       "      <td>0</td>\n",
       "      <td>0.001</td>\n",
       "      <td>0.00</td>\n",
       "      <td>0.976833</td>\n",
       "      <td>0.46</td>\n",
       "    </tr>\n",
       "  </tbody>\n",
       "</table>\n",
       "</div>"
      ],
      "text/plain": [
       "   strike_price  underlying_price  maturity  impl_volatility  realized_vol  \\\n",
       "0          50.0             58.61        18         0.365853      0.169029   \n",
       "1          52.5             58.61        18         0.294871      0.169029   \n",
       "2          55.0             58.61        18         0.252262      0.169029   \n",
       "3          57.5             58.61        18         0.214273      0.169029   \n",
       "4          60.0             58.61        18         0.194355      0.169029   \n",
       "\n",
       "   cp_flag_C  cp_flag_P  interest_rate  intrinsic  moneyness  best_offer  \n",
       "0          1          0          0.001       8.61   1.172200        8.70  \n",
       "1          1          0          0.001       6.11   1.116381        6.20  \n",
       "2          1          0          0.001       3.61   1.065636        3.85  \n",
       "3          1          0          0.001       1.11   1.019304        1.74  \n",
       "4          1          0          0.001       0.00   0.976833        0.46  "
      ]
     },
     "execution_count": 5,
     "metadata": {},
     "output_type": "execute_result"
    }
   ],
   "source": [
    "sample_df,sample_dfin,sample_dfout = load_data('Options_R_new.csv')\n",
    "sample_df.head()\n"
   ]
  },
  {
   "cell_type": "code",
   "execution_count": 8,
   "metadata": {},
   "outputs": [
    {
     "data": {
      "text/html": [
       "<div>\n",
       "<style scoped>\n",
       "    .dataframe tbody tr th:only-of-type {\n",
       "        vertical-align: middle;\n",
       "    }\n",
       "\n",
       "    .dataframe tbody tr th {\n",
       "        vertical-align: top;\n",
       "    }\n",
       "\n",
       "    .dataframe thead th {\n",
       "        text-align: right;\n",
       "    }\n",
       "</style>\n",
       "<table border=\"1\" class=\"dataframe\">\n",
       "  <thead>\n",
       "    <tr style=\"text-align: right;\">\n",
       "      <th></th>\n",
       "      <th>strike_price</th>\n",
       "      <th>underlying_price</th>\n",
       "      <th>maturity</th>\n",
       "      <th>impl_volatility</th>\n",
       "      <th>realized_vol</th>\n",
       "      <th>cp_flag_C</th>\n",
       "      <th>cp_flag_P</th>\n",
       "      <th>interest_rate</th>\n",
       "      <th>intrinsic</th>\n",
       "      <th>moneyness</th>\n",
       "      <th>best_offer</th>\n",
       "    </tr>\n",
       "  </thead>\n",
       "  <tbody>\n",
       "    <tr>\n",
       "      <th>0</th>\n",
       "      <td>50.0</td>\n",
       "      <td>58.61</td>\n",
       "      <td>18</td>\n",
       "      <td>0.365853</td>\n",
       "      <td>0.169029</td>\n",
       "      <td>1</td>\n",
       "      <td>0</td>\n",
       "      <td>0.001</td>\n",
       "      <td>8.61</td>\n",
       "      <td>1.172200</td>\n",
       "      <td>8.70</td>\n",
       "    </tr>\n",
       "    <tr>\n",
       "      <th>1</th>\n",
       "      <td>52.5</td>\n",
       "      <td>58.61</td>\n",
       "      <td>18</td>\n",
       "      <td>0.294871</td>\n",
       "      <td>0.169029</td>\n",
       "      <td>1</td>\n",
       "      <td>0</td>\n",
       "      <td>0.001</td>\n",
       "      <td>6.11</td>\n",
       "      <td>1.116381</td>\n",
       "      <td>6.20</td>\n",
       "    </tr>\n",
       "    <tr>\n",
       "      <th>2</th>\n",
       "      <td>55.0</td>\n",
       "      <td>58.61</td>\n",
       "      <td>18</td>\n",
       "      <td>0.252262</td>\n",
       "      <td>0.169029</td>\n",
       "      <td>1</td>\n",
       "      <td>0</td>\n",
       "      <td>0.001</td>\n",
       "      <td>3.61</td>\n",
       "      <td>1.065636</td>\n",
       "      <td>3.85</td>\n",
       "    </tr>\n",
       "    <tr>\n",
       "      <th>3</th>\n",
       "      <td>57.5</td>\n",
       "      <td>58.61</td>\n",
       "      <td>18</td>\n",
       "      <td>0.214273</td>\n",
       "      <td>0.169029</td>\n",
       "      <td>1</td>\n",
       "      <td>0</td>\n",
       "      <td>0.001</td>\n",
       "      <td>1.11</td>\n",
       "      <td>1.019304</td>\n",
       "      <td>1.74</td>\n",
       "    </tr>\n",
       "    <tr>\n",
       "      <th>4</th>\n",
       "      <td>60.0</td>\n",
       "      <td>58.61</td>\n",
       "      <td>18</td>\n",
       "      <td>0.194355</td>\n",
       "      <td>0.169029</td>\n",
       "      <td>1</td>\n",
       "      <td>0</td>\n",
       "      <td>0.001</td>\n",
       "      <td>0.00</td>\n",
       "      <td>0.976833</td>\n",
       "      <td>0.46</td>\n",
       "    </tr>\n",
       "  </tbody>\n",
       "</table>\n",
       "</div>"
      ],
      "text/plain": [
       "   strike_price  underlying_price  maturity  impl_volatility  realized_vol  \\\n",
       "0          50.0             58.61        18         0.365853      0.169029   \n",
       "1          52.5             58.61        18         0.294871      0.169029   \n",
       "2          55.0             58.61        18         0.252262      0.169029   \n",
       "3          57.5             58.61        18         0.214273      0.169029   \n",
       "4          60.0             58.61        18         0.194355      0.169029   \n",
       "\n",
       "   cp_flag_C  cp_flag_P  interest_rate  intrinsic  moneyness  best_offer  \n",
       "0          1          0          0.001       8.61   1.172200        8.70  \n",
       "1          1          0          0.001       6.11   1.116381        6.20  \n",
       "2          1          0          0.001       3.61   1.065636        3.85  \n",
       "3          1          0          0.001       1.11   1.019304        1.74  \n",
       "4          1          0          0.001       0.00   0.976833        0.46  "
      ]
     },
     "execution_count": 8,
     "metadata": {},
     "output_type": "execute_result"
    }
   ],
   "source": [
    "sample_dfin.head()\n"
   ]
  },
  {
   "cell_type": "code",
   "execution_count": 9,
   "metadata": {},
   "outputs": [
    {
     "data": {
      "text/html": [
       "<div>\n",
       "<style scoped>\n",
       "    .dataframe tbody tr th:only-of-type {\n",
       "        vertical-align: middle;\n",
       "    }\n",
       "\n",
       "    .dataframe tbody tr th {\n",
       "        vertical-align: top;\n",
       "    }\n",
       "\n",
       "    .dataframe thead th {\n",
       "        text-align: right;\n",
       "    }\n",
       "</style>\n",
       "<table border=\"1\" class=\"dataframe\">\n",
       "  <thead>\n",
       "    <tr style=\"text-align: right;\">\n",
       "      <th></th>\n",
       "      <th>strike_price</th>\n",
       "      <th>underlying_price</th>\n",
       "      <th>maturity</th>\n",
       "      <th>impl_volatility</th>\n",
       "      <th>realized_vol</th>\n",
       "      <th>cp_flag_C</th>\n",
       "      <th>cp_flag_P</th>\n",
       "      <th>interest_rate</th>\n",
       "      <th>intrinsic</th>\n",
       "      <th>moneyness</th>\n",
       "      <th>best_offer</th>\n",
       "    </tr>\n",
       "  </thead>\n",
       "  <tbody>\n",
       "    <tr>\n",
       "      <th>0</th>\n",
       "      <td>50.0</td>\n",
       "      <td>58.61</td>\n",
       "      <td>18</td>\n",
       "      <td>0.365853</td>\n",
       "      <td>0.169029</td>\n",
       "      <td>1</td>\n",
       "      <td>0</td>\n",
       "      <td>0.001</td>\n",
       "      <td>8.61</td>\n",
       "      <td>1.172200</td>\n",
       "      <td>8.70</td>\n",
       "    </tr>\n",
       "    <tr>\n",
       "      <th>1</th>\n",
       "      <td>52.5</td>\n",
       "      <td>58.61</td>\n",
       "      <td>18</td>\n",
       "      <td>0.294871</td>\n",
       "      <td>0.169029</td>\n",
       "      <td>1</td>\n",
       "      <td>0</td>\n",
       "      <td>0.001</td>\n",
       "      <td>6.11</td>\n",
       "      <td>1.116381</td>\n",
       "      <td>6.20</td>\n",
       "    </tr>\n",
       "    <tr>\n",
       "      <th>2</th>\n",
       "      <td>55.0</td>\n",
       "      <td>58.61</td>\n",
       "      <td>18</td>\n",
       "      <td>0.252262</td>\n",
       "      <td>0.169029</td>\n",
       "      <td>1</td>\n",
       "      <td>0</td>\n",
       "      <td>0.001</td>\n",
       "      <td>3.61</td>\n",
       "      <td>1.065636</td>\n",
       "      <td>3.85</td>\n",
       "    </tr>\n",
       "    <tr>\n",
       "      <th>3</th>\n",
       "      <td>57.5</td>\n",
       "      <td>58.61</td>\n",
       "      <td>18</td>\n",
       "      <td>0.214273</td>\n",
       "      <td>0.169029</td>\n",
       "      <td>1</td>\n",
       "      <td>0</td>\n",
       "      <td>0.001</td>\n",
       "      <td>1.11</td>\n",
       "      <td>1.019304</td>\n",
       "      <td>1.74</td>\n",
       "    </tr>\n",
       "    <tr>\n",
       "      <th>4</th>\n",
       "      <td>60.0</td>\n",
       "      <td>58.61</td>\n",
       "      <td>18</td>\n",
       "      <td>0.194355</td>\n",
       "      <td>0.169029</td>\n",
       "      <td>1</td>\n",
       "      <td>0</td>\n",
       "      <td>0.001</td>\n",
       "      <td>0.00</td>\n",
       "      <td>0.976833</td>\n",
       "      <td>0.46</td>\n",
       "    </tr>\n",
       "  </tbody>\n",
       "</table>\n",
       "</div>"
      ],
      "text/plain": [
       "   strike_price  underlying_price  maturity  impl_volatility  realized_vol  \\\n",
       "0          50.0             58.61        18         0.365853      0.169029   \n",
       "1          52.5             58.61        18         0.294871      0.169029   \n",
       "2          55.0             58.61        18         0.252262      0.169029   \n",
       "3          57.5             58.61        18         0.214273      0.169029   \n",
       "4          60.0             58.61        18         0.194355      0.169029   \n",
       "\n",
       "   cp_flag_C  cp_flag_P  interest_rate  intrinsic  moneyness  best_offer  \n",
       "0          1          0          0.001       8.61   1.172200        8.70  \n",
       "1          1          0          0.001       6.11   1.116381        6.20  \n",
       "2          1          0          0.001       3.61   1.065636        3.85  \n",
       "3          1          0          0.001       1.11   1.019304        1.74  \n",
       "4          1          0          0.001       0.00   0.976833        0.46  "
      ]
     },
     "execution_count": 9,
     "metadata": {},
     "output_type": "execute_result"
    }
   ],
   "source": [
    "sample_dfout.head()"
   ]
  },
  {
   "cell_type": "code",
   "execution_count": 6,
   "metadata": {},
   "outputs": [],
   "source": [
    "def get_corr(sample_df):\n",
    "    corr_matrix = sample_df.corr()\n",
    "    \n",
    "    fig = plt.figure(figsize = (10,10))\n",
    "    sns.heatmap(corr_matrix, vmax = .8, square = True)\n",
    "    plt.show()\n",
    "    \n",
    "    corr = corr_matrix['best_offer'].sort_values(ascending=False)\n",
    "    print(corr)\n",
    "    \n",
    "    return corr"
   ]
  },
  {
   "cell_type": "code",
   "execution_count": 10,
   "metadata": {},
   "outputs": [
    {
     "data": {
      "text/plain": [
       "(1700235, 11)"
      ]
     },
     "execution_count": 10,
     "metadata": {},
     "output_type": "execute_result"
    }
   ],
   "source": [
    "sample_df.shape\n"
   ]
  },
  {
   "cell_type": "code",
   "execution_count": 11,
   "metadata": {},
   "outputs": [
    {
     "data": {
      "text/plain": [
       "(1700477, 11)"
      ]
     },
     "execution_count": 11,
     "metadata": {},
     "output_type": "execute_result"
    }
   ],
   "source": [
    "sample_dfin.shape\n"
   ]
  },
  {
   "cell_type": "code",
   "execution_count": 12,
   "metadata": {},
   "outputs": [
    {
     "data": {
      "text/plain": [
       "(1866797, 11)"
      ]
     },
     "execution_count": 12,
     "metadata": {},
     "output_type": "execute_result"
    }
   ],
   "source": [
    "sample_dfout.shape"
   ]
  },
  {
   "cell_type": "code",
   "execution_count": 13,
   "metadata": {},
   "outputs": [
    {
     "data": {
      "image/png": "[encoded data removed]",
      "text/plain": [
       "<Figure size 720x720 with 2 Axes>"
      ]
     },
     "metadata": {},
     "output_type": "display_data"
    },
    {
     "name": "stdout",
     "output_type": "stream",
     "text": [
      "best_offer          1.000000\n",
      "intrinsic           0.976694\n",
      "strike_price        0.345604\n",
      "underlying_price    0.332923\n",
      "maturity            0.301267\n",
      "impl_volatility     0.196128\n",
      "realized_vol        0.118990\n",
      "cp_flag_P           0.047227\n",
      "interest_rate       0.038505\n",
      "moneyness          -0.038097\n",
      "cp_flag_C          -0.047227\n",
      "Name: best_offer, dtype: float64\n"
     ]
    }
   ],
   "source": [
    "corr = get_corr(sample_df)"
   ]
  },
  {
   "cell_type": "code",
   "execution_count": 14,
   "metadata": {},
   "outputs": [
    {
     "data": {
      "image/png": "[encoded data removed]",
      "text/plain": [
       "<Figure size 720x720 with 2 Axes>"
      ]
     },
     "metadata": {},
     "output_type": "display_data"
    },
    {
     "name": "stdout",
     "output_type": "stream",
     "text": [
      "best_offer          1.000000\n",
      "intrinsic           0.976694\n",
      "strike_price        0.345582\n",
      "underlying_price    0.332450\n",
      "maturity            0.300725\n",
      "impl_volatility     0.196561\n",
      "realized_vol        0.119011\n",
      "cp_flag_P           0.047551\n",
      "interest_rate       0.038825\n",
      "moneyness          -0.038887\n",
      "cp_flag_C          -0.047551\n",
      "Name: best_offer, dtype: float64\n"
     ]
    }
   ],
   "source": [
    "corrin = get_corr(sample_dfin)"
   ]
  },
  {
   "cell_type": "code",
   "execution_count": 15,
   "metadata": {},
   "outputs": [
    {
     "data": {
      "image/png": "[encoded data removed]",
      "text/plain": [
       "<Figure size 720x720 with 2 Axes>"
      ]
     },
     "metadata": {},
     "output_type": "display_data"
    },
    {
     "name": "stdout",
     "output_type": "stream",
     "text": [
      "best_offer          1.000000\n",
      "intrinsic           0.976694\n",
      "underlying_price    0.321998\n",
      "maturity            0.279719\n",
      "impl_volatility     0.246615\n",
      "strike_price        0.238499\n",
      "moneyness           0.175498\n",
      "realized_vol        0.110521\n",
      "cp_flag_C           0.087387\n",
      "interest_rate       0.035599\n",
      "cp_flag_P          -0.087387\n",
      "Name: best_offer, dtype: float64\n"
     ]
    }
   ],
   "source": [
    "corrout = get_corr(sample_dfout)"
   ]
  },
  {
   "cell_type": "code",
   "execution_count": 16,
   "metadata": {},
   "outputs": [],
   "source": [
    "def data(s_df):\n",
    "    \n",
    "    y = s_df['best_offer'].values\n",
    "    X = s_df[[ 'intrinsic', 'strike_price', 'underlying_price', 'maturity', 'impl_volatility', 'cp_flag_P', 'interest_rate',]]\n",
    "    \n",
    "#     sc_X = StandardScaler()\n",
    "#     X_scale = sc_X.fit_transform(X)\n",
    "\n",
    "#     sc_y = StandardScaler()\n",
    "    y = y.reshape(-1,1)\n",
    "#     y_scale = sc_y.fit_transform(y)\n",
    "\n",
    "    X_train, X_test, y_train, y_test = train_test_split(X, y, test_size=0.2, random_state=42)\n",
    "    \n",
    "    return X_train, X_test, y_train, y_test"
   ]
  },
  {
   "cell_type": "code",
   "execution_count": 17,
   "metadata": {},
   "outputs": [],
   "source": [
    "X_train, X_test, y_train, y_test = data(sample_df.sample(n=600000))"
   ]
  },
  {
   "cell_type": "code",
   "execution_count": 21,
   "metadata": {},
   "outputs": [],
   "source": [
    "#In-the-money\n",
    "X_traini, X_testi, y_traini, y_testi = data(sample_dfin.sample(n=600000))"
   ]
  },
  {
   "cell_type": "code",
   "execution_count": 22,
   "metadata": {},
   "outputs": [],
   "source": [
    "#Out-of-money\n",
    "X_traino, X_testo, y_traino, y_testo = data(sample_dfout.sample(n=600000))"
   ]
  },
  {
   "cell_type": "code",
   "execution_count": 18,
   "metadata": {},
   "outputs": [
    {
     "data": {
      "text/plain": [
       "array([[ 9.05],\n",
       "       [ 0.06],\n",
       "       [ 0.15],\n",
       "       [ 0.76],\n",
       "       [ 1.54],\n",
       "       [ 5.2 ],\n",
       "       [ 0.05],\n",
       "       [ 0.17],\n",
       "       [ 1.03],\n",
       "       [14.5 ]])"
      ]
     },
     "execution_count": 18,
     "metadata": {},
     "output_type": "execute_result"
    }
   ],
   "source": [
    "y_test[:10]"
   ]
  },
  {
   "cell_type": "markdown",
   "metadata": {},
   "source": [
    "## Build a keras Sequential model"
   ]
  },
  {
   "cell_type": "code",
   "execution_count": 19,
   "metadata": {},
   "outputs": [],
   "source": [
    "# Because it is a simple regression problem, we should custom metrics function\n",
    "def rmse(y_true, y_pred):\n",
    "    return K.sqrt(K.mean(K.square(y_pred - y_true), axis = -1))\n",
    "\n",
    "def r_square(y_true, y_pred):\n",
    "    SS_res =  K.sum(K.square(y_true - y_pred)) \n",
    "    SS_tot = K.sum(K.square(y_true - K.mean(y_true))) \n",
    "    return (1 - SS_res/(SS_tot + K.epsilon()))\n",
    "\n",
    "def mpe(y_true, y_pred):\n",
    "    #y_true, y_pred = np.array(y_true), np.array(y_pred)\n",
    "    errors = K.sqrt(K.mean((y_true-y_pred)**2))/K.mean(y_true)\n",
    "    return errors\n",
    "\n",
    "def exp(x):\n",
    "    return K.exp(x)"
   ]
  },
  {
   "cell_type": "code",
   "execution_count": 20,
   "metadata": {},
   "outputs": [],
   "source": [
    "def create_model(X, y):#neurons_1=1,learn_rate=0.01):\n",
    "    \n",
    "    model = Sequential()\n",
    "    \n",
    "    es = EarlyStopping(monitor='val_loss', min_delta=0, patience=25, verbose=0, mode='auto')\n",
    "    \n",
    "    model.add(Dense(50, input_shape = (7,), activation = 'relu'))\n",
    "    model.add(Dense(100, activation = 'relu'))\n",
    "    model.add(Dense(300, activation = 'elu'))\n",
    "    model.add(Dense(500, activation = 'relu'))\n",
    "    model.add(Dense(100, activation = 'elu'))\n",
    "    model.add(Dense(1, activation = 'linear'))\n",
    "    \n",
    "    optimizer = Adam()\n",
    "    model.compile(optimizer = optimizer, loss = 'mse', metrics = ['mae'])\n",
    "    \n",
    "    result = model.fit(X,y, epochs = 200, batch_size = 1024, validation_split = 0.1, verbose = 1, callbacks = [es])\n",
    "    \n",
    "    # plot training curve for rmse\n",
    "    plt.plot(result.history['loss'])\n",
    "    plt.plot(result.history['val_loss'])\n",
    "    plt.title('Loss(mse) converge')\n",
    "    plt.ylabel('Loss(mse)')\n",
    "    plt.xlabel('Epoch')\n",
    "    plt.legend(['train', 'validation'], loc='upper right')\n",
    "    plt.show()\n",
    "    \n",
    "    return model, result"
   ]
  },
  {
   "cell_type": "code",
   "execution_count": 23,
   "metadata": {
    "scrolled": true
   },
   "outputs": [
    {
     "name": "stderr",
     "output_type": "stream",
     "text": [
      "WARNING: Logging before flag parsing goes to stderr.\n",
      "W0823 16:01:49.860078  5588 deprecation_wrapper.py:119] From C:\\Users\\wangmi94\\AppData\\Roaming\\Python\\Python36\\site-packages\\keras\\backend\\tensorflow_backend.py:66: The name tf.get_default_graph is deprecated. Please use tf.compat.v1.get_default_graph instead.\n",
      "\n",
      "W0823 16:01:49.875072  5588 deprecation_wrapper.py:119] From C:\\Users\\wangmi94\\AppData\\Roaming\\Python\\Python36\\site-packages\\keras\\backend\\tensorflow_backend.py:541: The name tf.placeholder is deprecated. Please use tf.compat.v1.placeholder instead.\n",
      "\n",
      "W0823 16:01:49.883085  5588 deprecation_wrapper.py:119] From C:\\Users\\wangmi94\\AppData\\Roaming\\Python\\Python36\\site-packages\\keras\\backend\\tensorflow_backend.py:4432: The name tf.random_uniform is deprecated. Please use tf.random.uniform instead.\n",
      "\n",
      "W0823 16:01:49.959150  5588 deprecation_wrapper.py:119] From C:\\Users\\wangmi94\\AppData\\Roaming\\Python\\Python36\\site-packages\\keras\\optimizers.py:793: The name tf.train.Optimizer is deprecated. Please use tf.compat.v1.train.Optimizer instead.\n",
      "\n",
      "W0823 16:01:50.075889  5588 deprecation_wrapper.py:119] From C:\\Users\\wangmi94\\AppData\\Roaming\\Python\\Python36\\site-packages\\keras\\backend\\tensorflow_backend.py:1033: The name tf.assign_add is deprecated. Please use tf.compat.v1.assign_add instead.\n",
      "\n",
      "W0823 16:01:50.183936  5588 deprecation_wrapper.py:119] From C:\\Users\\wangmi94\\AppData\\Roaming\\Python\\Python36\\site-packages\\keras\\backend\\tensorflow_backend.py:1020: The name tf.assign is deprecated. Please use tf.compat.v1.assign instead.\n",
      "\n"
     ]
    },
    {
     "name": "stdout",
     "output_type": "stream",
     "text": [
      "Train on 432000 samples, validate on 48000 samples\n",
      "Epoch 1/200\n",
      "432000/432000 [==============================] - 7s 17us/step - loss: 14.5648 - mean_absolute_error: 1.3780 - val_loss: 0.7924 - val_mean_absolute_error: 0.5397\n",
      "Epoch 2/200\n",
      "432000/432000 [==============================] - 7s 17us/step - loss: 0.7936 - mean_absolute_error: 0.5559 - val_loss: 1.6537 - val_mean_absolute_error: 0.8992\n",
      "Epoch 3/200\n",
      "432000/432000 [==============================] - 7s 17us/step - loss: 0.6948 - mean_absolute_error: 0.5148 - val_loss: 0.4988 - val_mean_absolute_error: 0.4033\n",
      "Epoch 4/200\n",
      "432000/432000 [==============================] - 7s 17us/step - loss: 0.6149 - mean_absolute_error: 0.4781 - val_loss: 0.5296 - val_mean_absolute_error: 0.4445\n",
      "Epoch 5/200\n",
      "432000/432000 [==============================] - 7s 17us/step - loss: 0.5240 - mean_absolute_error: 0.4334 - val_loss: 0.5919 - val_mean_absolute_error: 0.4593\n",
      "Epoch 6/200\n",
      "432000/432000 [==============================] - 7s 16us/step - loss: 0.4727 - mean_absolute_error: 0.4098 - val_loss: 0.4295 - val_mean_absolute_error: 0.3727\n",
      "Epoch 7/200\n",
      "432000/432000 [==============================] - 7s 16us/step - loss: 0.4709 - mean_absolute_error: 0.4116 - val_loss: 0.5481 - val_mean_absolute_error: 0.4837\n",
      "Epoch 8/200\n",
      "432000/432000 [==============================] - 7s 16us/step - loss: 0.4750 - mean_absolute_error: 0.4108 - val_loss: 0.5570 - val_mean_absolute_error: 0.4606\n",
      "Epoch 9/200\n",
      "432000/432000 [==============================] - 7s 17us/step - loss: 0.4275 - mean_absolute_error: 0.3889 - val_loss: 0.3590 - val_mean_absolute_error: 0.3437\n",
      "Epoch 10/200\n",
      "432000/432000 [==============================] - 7s 16us/step - loss: 0.4216 - mean_absolute_error: 0.3858 - val_loss: 0.5483 - val_mean_absolute_error: 0.4687\n",
      "Epoch 11/200\n",
      "432000/432000 [==============================] - 7s 16us/step - loss: 0.3816 - mean_absolute_error: 0.3647 - val_loss: 0.3967 - val_mean_absolute_error: 0.3635\n",
      "Epoch 12/200\n",
      "432000/432000 [==============================] - 7s 17us/step - loss: 0.4197 - mean_absolute_error: 0.3826 - val_loss: 0.4430 - val_mean_absolute_error: 0.4026\n",
      "Epoch 13/200\n",
      "432000/432000 [==============================] - 7s 16us/step - loss: 0.3771 - mean_absolute_error: 0.3601 - val_loss: 0.6328 - val_mean_absolute_error: 0.5650\n",
      "Epoch 14/200\n",
      "432000/432000 [==============================] - 7s 16us/step - loss: 0.3850 - mean_absolute_error: 0.3681 - val_loss: 0.4170 - val_mean_absolute_error: 0.4504\n",
      "Epoch 15/200\n",
      "432000/432000 [==============================] - 7s 17us/step - loss: 0.3751 - mean_absolute_error: 0.3579 - val_loss: 0.3140 - val_mean_absolute_error: 0.3160\n",
      "Epoch 16/200\n",
      "432000/432000 [==============================] - 7s 17us/step - loss: 0.3711 - mean_absolute_error: 0.3568 - val_loss: 0.4111 - val_mean_absolute_error: 0.4045\n",
      "Epoch 17/200\n",
      "432000/432000 [==============================] - 7s 17us/step - loss: 0.3729 - mean_absolute_error: 0.3560 - val_loss: 0.4405 - val_mean_absolute_error: 0.3801\n",
      "Epoch 18/200\n",
      "432000/432000 [==============================] - 7s 17us/step - loss: 0.3573 - mean_absolute_error: 0.3474 - val_loss: 0.3552 - val_mean_absolute_error: 0.3374\n",
      "Epoch 19/200\n",
      "432000/432000 [==============================] - 7s 17us/step - loss: 0.3541 - mean_absolute_error: 0.3447 - val_loss: 0.3467 - val_mean_absolute_error: 0.3316\n",
      "Epoch 20/200\n",
      "432000/432000 [==============================] - 7s 16us/step - loss: 0.3488 - mean_absolute_error: 0.3412 - val_loss: 0.4294 - val_mean_absolute_error: 0.3765\n",
      "Epoch 21/200\n",
      "432000/432000 [==============================] - 7s 17us/step - loss: 0.3369 - mean_absolute_error: 0.3355 - val_loss: 0.3064 - val_mean_absolute_error: 0.2998\n",
      "Epoch 22/200\n",
      "432000/432000 [==============================] - 7s 16us/step - loss: 0.3518 - mean_absolute_error: 0.3417 - val_loss: 0.3178 - val_mean_absolute_error: 0.3118\n",
      "Epoch 23/200\n",
      "432000/432000 [==============================] - 7s 16us/step - loss: 0.3355 - mean_absolute_error: 0.3313 - val_loss: 0.3314 - val_mean_absolute_error: 0.3374\n",
      "Epoch 24/200\n",
      "432000/432000 [==============================] - 7s 16us/step - loss: 0.3236 - mean_absolute_error: 0.3239 - val_loss: 0.2881 - val_mean_absolute_error: 0.3003\n",
      "Epoch 25/200\n",
      "432000/432000 [==============================] - 7s 17us/step - loss: 0.3403 - mean_absolute_error: 0.3342 - val_loss: 0.3855 - val_mean_absolute_error: 0.3499\n",
      "Epoch 26/200\n",
      "432000/432000 [==============================] - 8s 18us/step - loss: 0.3115 - mean_absolute_error: 0.3168 - val_loss: 0.2790 - val_mean_absolute_error: 0.2914\n",
      "Epoch 27/200\n",
      "432000/432000 [==============================] - 8s 18us/step - loss: 0.3145 - mean_absolute_error: 0.3176 - val_loss: 0.2840 - val_mean_absolute_error: 0.2918\n",
      "Epoch 28/200\n",
      "432000/432000 [==============================] - 7s 17us/step - loss: 0.3006 - mean_absolute_error: 0.3094 - val_loss: 0.2753 - val_mean_absolute_error: 0.2909\n",
      "Epoch 29/200\n",
      "432000/432000 [==============================] - 8s 18us/step - loss: 0.3062 - mean_absolute_error: 0.3113 - val_loss: 0.3417 - val_mean_absolute_error: 0.3523\n",
      "Epoch 30/200\n",
      "432000/432000 [==============================] - 8s 17us/step - loss: 0.2972 - mean_absolute_error: 0.3058 - val_loss: 0.2766 - val_mean_absolute_error: 0.2786\n",
      "Epoch 31/200\n",
      "432000/432000 [==============================] - 8s 17us/step - loss: 0.2908 - mean_absolute_error: 0.3012 - val_loss: 0.4034 - val_mean_absolute_error: 0.3697\n",
      "Epoch 32/200\n",
      "432000/432000 [==============================] - 8s 17us/step - loss: 0.2868 - mean_absolute_error: 0.2994 - val_loss: 0.3011 - val_mean_absolute_error: 0.3195\n",
      "Epoch 33/200\n",
      "432000/432000 [==============================] - 8s 18us/step - loss: 0.2914 - mean_absolute_error: 0.3021 - val_loss: 0.2870 - val_mean_absolute_error: 0.3149\n",
      "Epoch 34/200\n",
      "432000/432000 [==============================] - 8s 18us/step - loss: 0.2706 - mean_absolute_error: 0.2876 - val_loss: 0.2418 - val_mean_absolute_error: 0.2672\n",
      "Epoch 35/200\n",
      "432000/432000 [==============================] - 8s 18us/step - loss: 0.2675 - mean_absolute_error: 0.2857 - val_loss: 0.2226 - val_mean_absolute_error: 0.2525\n",
      "Epoch 36/200\n",
      "432000/432000 [==============================] - 8s 18us/step - loss: 0.2726 - mean_absolute_error: 0.2892 - val_loss: 0.2424 - val_mean_absolute_error: 0.2587\n",
      "Epoch 37/200\n",
      "432000/432000 [==============================] - 8s 18us/step - loss: 0.2586 - mean_absolute_error: 0.2817 - val_loss: 0.2852 - val_mean_absolute_error: 0.3194\n",
      "Epoch 38/200\n",
      "432000/432000 [==============================] - 8s 18us/step - loss: 0.2527 - mean_absolute_error: 0.2796 - val_loss: 0.2170 - val_mean_absolute_error: 0.2561\n",
      "Epoch 39/200\n",
      "432000/432000 [==============================] - 8s 18us/step - loss: 0.2435 - mean_absolute_error: 0.2715 - val_loss: 0.2225 - val_mean_absolute_error: 0.2546\n",
      "Epoch 40/200\n",
      "432000/432000 [==============================] - 8s 18us/step - loss: 0.2450 - mean_absolute_error: 0.2726 - val_loss: 0.2358 - val_mean_absolute_error: 0.2724\n",
      "Epoch 41/200\n",
      "432000/432000 [==============================] - 8s 18us/step - loss: 0.2519 - mean_absolute_error: 0.2763 - val_loss: 0.2163 - val_mean_absolute_error: 0.2583\n",
      "Epoch 42/200\n",
      "432000/432000 [==============================] - 8s 18us/step - loss: 0.2287 - mean_absolute_error: 0.2636 - val_loss: 0.2342 - val_mean_absolute_error: 0.2627\n",
      "Epoch 43/200\n",
      "432000/432000 [==============================] - 8s 17us/step - loss: 0.2186 - mean_absolute_error: 0.2567 - val_loss: 0.2788 - val_mean_absolute_error: 0.2907\n",
      "Epoch 44/200\n",
      "432000/432000 [==============================] - 8s 17us/step - loss: 0.2316 - mean_absolute_error: 0.2653 - val_loss: 0.2307 - val_mean_absolute_error: 0.2567\n",
      "Epoch 45/200\n",
      "432000/432000 [==============================] - 8s 17us/step - loss: 0.2230 - mean_absolute_error: 0.2579 - val_loss: 0.1984 - val_mean_absolute_error: 0.2481\n",
      "Epoch 46/200\n",
      "432000/432000 [==============================] - 8s 17us/step - loss: 0.2142 - mean_absolute_error: 0.2537 - val_loss: 0.3361 - val_mean_absolute_error: 0.3185\n",
      "Epoch 47/200\n",
      "432000/432000 [==============================] - 8s 17us/step - loss: 0.2101 - mean_absolute_error: 0.2516 - val_loss: 0.1959 - val_mean_absolute_error: 0.2355\n",
      "Epoch 48/200\n"
     ]
    },
    {
     "name": "stdout",
     "output_type": "stream",
     "text": [
      "432000/432000 [==============================] - 7s 17us/step - loss: 0.2135 - mean_absolute_error: 0.2536 - val_loss: 0.3493 - val_mean_absolute_error: 0.3483\n",
      "Epoch 49/200\n",
      "432000/432000 [==============================] - 7s 17us/step - loss: 0.1941 - mean_absolute_error: 0.2406 - val_loss: 0.2089 - val_mean_absolute_error: 0.2458\n",
      "Epoch 50/200\n",
      "432000/432000 [==============================] - 7s 17us/step - loss: 0.2150 - mean_absolute_error: 0.2540 - val_loss: 0.1797 - val_mean_absolute_error: 0.2277\n",
      "Epoch 51/200\n",
      "432000/432000 [==============================] - 7s 17us/step - loss: 0.1936 - mean_absolute_error: 0.2408 - val_loss: 0.1721 - val_mean_absolute_error: 0.2202\n",
      "Epoch 52/200\n",
      "432000/432000 [==============================] - 7s 17us/step - loss: 0.1927 - mean_absolute_error: 0.2403 - val_loss: 0.2255 - val_mean_absolute_error: 0.2512\n",
      "Epoch 53/200\n",
      "432000/432000 [==============================] - 7s 17us/step - loss: 0.1852 - mean_absolute_error: 0.2359 - val_loss: 0.1324 - val_mean_absolute_error: 0.1935\n",
      "Epoch 54/200\n",
      "432000/432000 [==============================] - 7s 17us/step - loss: 0.1810 - mean_absolute_error: 0.2332 - val_loss: 0.1370 - val_mean_absolute_error: 0.1961\n",
      "Epoch 55/200\n",
      "432000/432000 [==============================] - 7s 17us/step - loss: 0.1892 - mean_absolute_error: 0.2373 - val_loss: 0.1372 - val_mean_absolute_error: 0.2007\n",
      "Epoch 56/200\n",
      "432000/432000 [==============================] - 8s 18us/step - loss: 0.1875 - mean_absolute_error: 0.2374 - val_loss: 0.7434 - val_mean_absolute_error: 0.5297\n",
      "Epoch 57/200\n",
      "432000/432000 [==============================] - 8s 17us/step - loss: 0.1940 - mean_absolute_error: 0.2410 - val_loss: 0.1834 - val_mean_absolute_error: 0.2313\n",
      "Epoch 58/200\n",
      "432000/432000 [==============================] - 7s 17us/step - loss: 0.1756 - mean_absolute_error: 0.2297 - val_loss: 0.1483 - val_mean_absolute_error: 0.2101\n",
      "Epoch 59/200\n",
      "432000/432000 [==============================] - 7s 17us/step - loss: 0.1652 - mean_absolute_error: 0.2226 - val_loss: 0.1304 - val_mean_absolute_error: 0.1966\n",
      "Epoch 60/200\n",
      "432000/432000 [==============================] - 7s 17us/step - loss: 0.1825 - mean_absolute_error: 0.2332 - val_loss: 0.1701 - val_mean_absolute_error: 0.2241\n",
      "Epoch 61/200\n",
      "432000/432000 [==============================] - 7s 17us/step - loss: 0.1635 - mean_absolute_error: 0.2217 - val_loss: 0.1395 - val_mean_absolute_error: 0.1997\n",
      "Epoch 62/200\n",
      "432000/432000 [==============================] - 7s 17us/step - loss: 0.1712 - mean_absolute_error: 0.2276 - val_loss: 0.7045 - val_mean_absolute_error: 0.4803\n",
      "Epoch 63/200\n",
      "432000/432000 [==============================] - 7s 17us/step - loss: 0.1640 - mean_absolute_error: 0.2212 - val_loss: 0.1924 - val_mean_absolute_error: 0.2319\n",
      "Epoch 64/200\n",
      "432000/432000 [==============================] - 7s 17us/step - loss: 0.1670 - mean_absolute_error: 0.2234 - val_loss: 0.1461 - val_mean_absolute_error: 0.2065\n",
      "Epoch 65/200\n",
      "432000/432000 [==============================] - 7s 17us/step - loss: 0.1576 - mean_absolute_error: 0.2167 - val_loss: 0.1512 - val_mean_absolute_error: 0.2049\n",
      "Epoch 66/200\n",
      "432000/432000 [==============================] - 8s 18us/step - loss: 0.1668 - mean_absolute_error: 0.2241 - val_loss: 0.1216 - val_mean_absolute_error: 0.1977\n",
      "Epoch 67/200\n",
      "432000/432000 [==============================] - 8s 19us/step - loss: 0.1592 - mean_absolute_error: 0.2192 - val_loss: 0.1807 - val_mean_absolute_error: 0.2239\n",
      "Epoch 68/200\n",
      "432000/432000 [==============================] - 9s 20us/step - loss: 0.1674 - mean_absolute_error: 0.2238 - val_loss: 0.1517 - val_mean_absolute_error: 0.2139\n",
      "Epoch 69/200\n",
      "432000/432000 [==============================] - 8s 19us/step - loss: 0.1551 - mean_absolute_error: 0.2152 - val_loss: 0.1197 - val_mean_absolute_error: 0.1876\n",
      "Epoch 70/200\n",
      "432000/432000 [==============================] - 9s 20us/step - loss: 0.1619 - mean_absolute_error: 0.2213 - val_loss: 0.1125 - val_mean_absolute_error: 0.1818\n",
      "Epoch 71/200\n",
      "432000/432000 [==============================] - 8s 18us/step - loss: 0.1431 - mean_absolute_error: 0.2061 - val_loss: 0.1629 - val_mean_absolute_error: 0.2265\n",
      "Epoch 72/200\n",
      "432000/432000 [==============================] - 8s 18us/step - loss: 0.1523 - mean_absolute_error: 0.2135 - val_loss: 0.3509 - val_mean_absolute_error: 0.3106\n",
      "Epoch 73/200\n",
      "432000/432000 [==============================] - 8s 18us/step - loss: 0.1549 - mean_absolute_error: 0.2156 - val_loss: 0.1154 - val_mean_absolute_error: 0.1940\n",
      "Epoch 74/200\n",
      "432000/432000 [==============================] - 8s 17us/step - loss: 0.1397 - mean_absolute_error: 0.2051 - val_loss: 0.1181 - val_mean_absolute_error: 0.1862\n",
      "Epoch 75/200\n",
      "432000/432000 [==============================] - 7s 17us/step - loss: 0.1432 - mean_absolute_error: 0.2085 - val_loss: 0.1301 - val_mean_absolute_error: 0.1924\n",
      "Epoch 76/200\n",
      "432000/432000 [==============================] - 7s 17us/step - loss: 0.1470 - mean_absolute_error: 0.2098 - val_loss: 0.2924 - val_mean_absolute_error: 0.2978\n",
      "Epoch 77/200\n",
      "432000/432000 [==============================] - 7s 17us/step - loss: 0.1448 - mean_absolute_error: 0.2091 - val_loss: 0.1615 - val_mean_absolute_error: 0.2068\n",
      "Epoch 78/200\n",
      "432000/432000 [==============================] - 7s 17us/step - loss: 0.1359 - mean_absolute_error: 0.2020 - val_loss: 0.1340 - val_mean_absolute_error: 0.2001\n",
      "Epoch 79/200\n",
      "432000/432000 [==============================] - 8s 18us/step - loss: 0.1714 - mean_absolute_error: 0.2254 - val_loss: 0.2163 - val_mean_absolute_error: 0.2765\n",
      "Epoch 80/200\n",
      "432000/432000 [==============================] - 8s 18us/step - loss: 0.1359 - mean_absolute_error: 0.2024 - val_loss: 0.1396 - val_mean_absolute_error: 0.2136\n",
      "Epoch 81/200\n",
      "432000/432000 [==============================] - 8s 18us/step - loss: 0.1400 - mean_absolute_error: 0.2041 - val_loss: 0.2347 - val_mean_absolute_error: 0.2698\n",
      "Epoch 82/200\n",
      "432000/432000 [==============================] - 8s 18us/step - loss: 0.1589 - mean_absolute_error: 0.2181 - val_loss: 0.1216 - val_mean_absolute_error: 0.1907\n",
      "Epoch 83/200\n",
      "432000/432000 [==============================] - 8s 18us/step - loss: 0.1236 - mean_absolute_error: 0.1927 - val_loss: 0.1768 - val_mean_absolute_error: 0.2343\n",
      "Epoch 84/200\n",
      "432000/432000 [==============================] - 8s 18us/step - loss: 0.1363 - mean_absolute_error: 0.2030 - val_loss: 0.1120 - val_mean_absolute_error: 0.1847\n",
      "Epoch 85/200\n",
      "432000/432000 [==============================] - 8s 18us/step - loss: 0.1344 - mean_absolute_error: 0.2000 - val_loss: 0.0997 - val_mean_absolute_error: 0.1712\n",
      "Epoch 86/200\n",
      "432000/432000 [==============================] - 8s 18us/step - loss: 0.1441 - mean_absolute_error: 0.2075 - val_loss: 0.1030 - val_mean_absolute_error: 0.1799\n",
      "Epoch 87/200\n",
      "432000/432000 [==============================] - 8s 18us/step - loss: 0.1241 - mean_absolute_error: 0.1941 - val_loss: 0.1125 - val_mean_absolute_error: 0.1822\n",
      "Epoch 88/200\n",
      "432000/432000 [==============================] - 8s 18us/step - loss: 0.1405 - mean_absolute_error: 0.2033 - val_loss: 0.1195 - val_mean_absolute_error: 0.1896\n",
      "Epoch 89/200\n",
      "432000/432000 [==============================] - 8s 18us/step - loss: 0.1270 - mean_absolute_error: 0.1954 - val_loss: 0.1066 - val_mean_absolute_error: 0.1742\n",
      "Epoch 90/200\n",
      "432000/432000 [==============================] - 8s 18us/step - loss: 0.1278 - mean_absolute_error: 0.1962 - val_loss: 0.1095 - val_mean_absolute_error: 0.1793\n",
      "Epoch 91/200\n",
      "432000/432000 [==============================] - 8s 17us/step - loss: 0.1369 - mean_absolute_error: 0.2034 - val_loss: 0.1125 - val_mean_absolute_error: 0.1805\n",
      "Epoch 92/200\n",
      "432000/432000 [==============================] - 8s 18us/step - loss: 0.1311 - mean_absolute_error: 0.1986 - val_loss: 0.1227 - val_mean_absolute_error: 0.1868\n",
      "Epoch 93/200\n",
      "432000/432000 [==============================] - 8s 18us/step - loss: 0.1313 - mean_absolute_error: 0.2004 - val_loss: 0.1011 - val_mean_absolute_error: 0.1702\n",
      "Epoch 94/200\n",
      "432000/432000 [==============================] - 8s 18us/step - loss: 0.1351 - mean_absolute_error: 0.2008 - val_loss: 0.1775 - val_mean_absolute_error: 0.2286\n",
      "Epoch 95/200\n"
     ]
    },
    {
     "name": "stdout",
     "output_type": "stream",
     "text": [
      "432000/432000 [==============================] - 7s 17us/step - loss: 0.1198 - mean_absolute_error: 0.1904 - val_loss: 0.1032 - val_mean_absolute_error: 0.1831\n",
      "Epoch 96/200\n",
      "432000/432000 [==============================] - 7s 17us/step - loss: 0.1277 - mean_absolute_error: 0.1948 - val_loss: 0.1280 - val_mean_absolute_error: 0.1880\n",
      "Epoch 97/200\n",
      "432000/432000 [==============================] - 7s 17us/step - loss: 0.1271 - mean_absolute_error: 0.1957 - val_loss: 0.0999 - val_mean_absolute_error: 0.1737\n",
      "Epoch 98/200\n",
      "432000/432000 [==============================] - 7s 17us/step - loss: 0.1315 - mean_absolute_error: 0.1998 - val_loss: 0.1180 - val_mean_absolute_error: 0.1888\n",
      "Epoch 99/200\n",
      "432000/432000 [==============================] - 7s 17us/step - loss: 0.1411 - mean_absolute_error: 0.2067 - val_loss: 0.1335 - val_mean_absolute_error: 0.2231\n",
      "Epoch 100/200\n",
      "432000/432000 [==============================] - 7s 17us/step - loss: 0.1268 - mean_absolute_error: 0.1935 - val_loss: 0.1116 - val_mean_absolute_error: 0.1841\n",
      "Epoch 101/200\n",
      "432000/432000 [==============================] - 7s 17us/step - loss: 0.1395 - mean_absolute_error: 0.2036 - val_loss: 0.1275 - val_mean_absolute_error: 0.2010\n",
      "Epoch 102/200\n",
      "432000/432000 [==============================] - 7s 17us/step - loss: 0.1153 - mean_absolute_error: 0.1863 - val_loss: 0.1001 - val_mean_absolute_error: 0.1721\n",
      "Epoch 103/200\n",
      "432000/432000 [==============================] - 7s 17us/step - loss: 0.1378 - mean_absolute_error: 0.2032 - val_loss: 0.1237 - val_mean_absolute_error: 0.1943\n",
      "Epoch 104/200\n",
      "432000/432000 [==============================] - 7s 17us/step - loss: 0.1097 - mean_absolute_error: 0.1821 - val_loss: 0.1310 - val_mean_absolute_error: 0.1980\n",
      "Epoch 105/200\n",
      "432000/432000 [==============================] - 8s 17us/step - loss: 0.1305 - mean_absolute_error: 0.1966 - val_loss: 0.1164 - val_mean_absolute_error: 0.2021\n",
      "Epoch 106/200\n",
      "432000/432000 [==============================] - 8s 17us/step - loss: 0.1203 - mean_absolute_error: 0.1897 - val_loss: 0.1199 - val_mean_absolute_error: 0.1899\n",
      "Epoch 107/200\n",
      "432000/432000 [==============================] - 8s 18us/step - loss: 0.1186 - mean_absolute_error: 0.1885 - val_loss: 0.2085 - val_mean_absolute_error: 0.2525\n",
      "Epoch 108/200\n",
      "432000/432000 [==============================] - 8s 18us/step - loss: 0.1214 - mean_absolute_error: 0.1914 - val_loss: 0.1214 - val_mean_absolute_error: 0.1854\n",
      "Epoch 109/200\n",
      "432000/432000 [==============================] - 8s 18us/step - loss: 0.1150 - mean_absolute_error: 0.1871 - val_loss: 0.1351 - val_mean_absolute_error: 0.2069\n",
      "Epoch 110/200\n",
      "432000/432000 [==============================] - 7s 17us/step - loss: 0.1156 - mean_absolute_error: 0.1870 - val_loss: 0.0919 - val_mean_absolute_error: 0.1627\n",
      "Epoch 111/200\n",
      "432000/432000 [==============================] - 7s 17us/step - loss: 0.1166 - mean_absolute_error: 0.1880 - val_loss: 0.1101 - val_mean_absolute_error: 0.1804\n",
      "Epoch 112/200\n",
      "432000/432000 [==============================] - 8s 17us/step - loss: 0.1202 - mean_absolute_error: 0.1904 - val_loss: 0.0986 - val_mean_absolute_error: 0.1687\n",
      "Epoch 113/200\n",
      "432000/432000 [==============================] - 8s 18us/step - loss: 0.1266 - mean_absolute_error: 0.1949 - val_loss: 0.0961 - val_mean_absolute_error: 0.1690\n",
      "Epoch 114/200\n",
      "432000/432000 [==============================] - 8s 18us/step - loss: 0.1142 - mean_absolute_error: 0.1858 - val_loss: 0.1215 - val_mean_absolute_error: 0.1854\n",
      "Epoch 115/200\n",
      "432000/432000 [==============================] - 8s 17us/step - loss: 0.1187 - mean_absolute_error: 0.1900 - val_loss: 0.2120 - val_mean_absolute_error: 0.2719\n",
      "Epoch 116/200\n",
      "432000/432000 [==============================] - 8s 17us/step - loss: 0.1175 - mean_absolute_error: 0.1888 - val_loss: 0.1090 - val_mean_absolute_error: 0.1798\n",
      "Epoch 117/200\n",
      "432000/432000 [==============================] - 7s 16us/step - loss: 0.1193 - mean_absolute_error: 0.1881 - val_loss: 0.0990 - val_mean_absolute_error: 0.1685\n",
      "Epoch 118/200\n",
      "432000/432000 [==============================] - 7s 16us/step - loss: 0.1102 - mean_absolute_error: 0.1824 - val_loss: 0.1149 - val_mean_absolute_error: 0.1880\n",
      "Epoch 119/200\n",
      "432000/432000 [==============================] - 7s 16us/step - loss: 0.1129 - mean_absolute_error: 0.1851 - val_loss: 0.1156 - val_mean_absolute_error: 0.1892\n",
      "Epoch 120/200\n",
      "432000/432000 [==============================] - 7s 17us/step - loss: 0.1137 - mean_absolute_error: 0.1855 - val_loss: 0.0954 - val_mean_absolute_error: 0.1681\n",
      "Epoch 121/200\n",
      "432000/432000 [==============================] - 7s 17us/step - loss: 0.1206 - mean_absolute_error: 0.1912 - val_loss: 0.1005 - val_mean_absolute_error: 0.1710\n",
      "Epoch 122/200\n",
      "432000/432000 [==============================] - 7s 17us/step - loss: 0.1172 - mean_absolute_error: 0.1879 - val_loss: 0.0955 - val_mean_absolute_error: 0.1657\n",
      "Epoch 123/200\n",
      "432000/432000 [==============================] - 8s 18us/step - loss: 0.1180 - mean_absolute_error: 0.1888 - val_loss: 0.1233 - val_mean_absolute_error: 0.1883\n",
      "Epoch 124/200\n",
      "432000/432000 [==============================] - 7s 17us/step - loss: 0.1014 - mean_absolute_error: 0.1750 - val_loss: 0.0965 - val_mean_absolute_error: 0.1721\n",
      "Epoch 125/200\n",
      "432000/432000 [==============================] - 8s 18us/step - loss: 0.1263 - mean_absolute_error: 0.1940 - val_loss: 0.0932 - val_mean_absolute_error: 0.1668\n",
      "Epoch 126/200\n",
      "432000/432000 [==============================] - 8s 18us/step - loss: 0.1107 - mean_absolute_error: 0.1819 - val_loss: 0.1031 - val_mean_absolute_error: 0.1813\n",
      "Epoch 127/200\n",
      "432000/432000 [==============================] - 8s 17us/step - loss: 0.1149 - mean_absolute_error: 0.1863 - val_loss: 0.1764 - val_mean_absolute_error: 0.2208\n",
      "Epoch 128/200\n",
      "432000/432000 [==============================] - 8s 18us/step - loss: 0.1055 - mean_absolute_error: 0.1784 - val_loss: 0.1001 - val_mean_absolute_error: 0.1768\n",
      "Epoch 129/200\n",
      "432000/432000 [==============================] - 8s 17us/step - loss: 0.1203 - mean_absolute_error: 0.1893 - val_loss: 0.1847 - val_mean_absolute_error: 0.2338\n",
      "Epoch 130/200\n",
      "432000/432000 [==============================] - 7s 17us/step - loss: 0.1125 - mean_absolute_error: 0.1833 - val_loss: 0.1039 - val_mean_absolute_error: 0.1795\n",
      "Epoch 131/200\n",
      "432000/432000 [==============================] - 7s 17us/step - loss: 0.1054 - mean_absolute_error: 0.1784 - val_loss: 0.0850 - val_mean_absolute_error: 0.1579\n",
      "Epoch 132/200\n",
      "432000/432000 [==============================] - 8s 18us/step - loss: 0.1128 - mean_absolute_error: 0.1848 - val_loss: 0.1006 - val_mean_absolute_error: 0.1713\n",
      "Epoch 133/200\n",
      "432000/432000 [==============================] - 8s 17us/step - loss: 0.1157 - mean_absolute_error: 0.1867 - val_loss: 0.0914 - val_mean_absolute_error: 0.1708\n",
      "Epoch 134/200\n",
      "432000/432000 [==============================] - 8s 18us/step - loss: 0.1065 - mean_absolute_error: 0.1793 - val_loss: 0.1394 - val_mean_absolute_error: 0.2057\n",
      "Epoch 135/200\n",
      "432000/432000 [==============================] - 8s 18us/step - loss: 0.1151 - mean_absolute_error: 0.1870 - val_loss: 0.1205 - val_mean_absolute_error: 0.1793\n",
      "Epoch 136/200\n",
      "432000/432000 [==============================] - 8s 17us/step - loss: 0.1033 - mean_absolute_error: 0.1764 - val_loss: 0.1012 - val_mean_absolute_error: 0.1763\n",
      "Epoch 137/200\n",
      "432000/432000 [==============================] - 8s 17us/step - loss: 0.1084 - mean_absolute_error: 0.1816 - val_loss: 0.1022 - val_mean_absolute_error: 0.1802\n",
      "Epoch 138/200\n",
      "432000/432000 [==============================] - 8s 18us/step - loss: 0.1118 - mean_absolute_error: 0.1843 - val_loss: 0.0982 - val_mean_absolute_error: 0.1650\n",
      "Epoch 139/200\n",
      "432000/432000 [==============================] - 8s 17us/step - loss: 0.1093 - mean_absolute_error: 0.1821 - val_loss: 0.1312 - val_mean_absolute_error: 0.2025\n",
      "Epoch 140/200\n",
      "432000/432000 [==============================] - 8s 18us/step - loss: 0.0992 - mean_absolute_error: 0.1735 - val_loss: 0.0896 - val_mean_absolute_error: 0.1641\n",
      "Epoch 141/200\n",
      "432000/432000 [==============================] - 8s 18us/step - loss: 0.1024 - mean_absolute_error: 0.1762 - val_loss: 0.1472 - val_mean_absolute_error: 0.2190\n",
      "Epoch 142/200\n"
     ]
    },
    {
     "name": "stdout",
     "output_type": "stream",
     "text": [
      "432000/432000 [==============================] - 7s 17us/step - loss: 0.1063 - mean_absolute_error: 0.1797 - val_loss: 0.1986 - val_mean_absolute_error: 0.2573\n",
      "Epoch 143/200\n",
      "432000/432000 [==============================] - 7s 17us/step - loss: 0.1204 - mean_absolute_error: 0.1889 - val_loss: 0.1092 - val_mean_absolute_error: 0.1760\n",
      "Epoch 144/200\n",
      "432000/432000 [==============================] - 7s 17us/step - loss: 0.1048 - mean_absolute_error: 0.1778 - val_loss: 0.2307 - val_mean_absolute_error: 0.2544\n",
      "Epoch 145/200\n",
      "432000/432000 [==============================] - 7s 17us/step - loss: 0.1055 - mean_absolute_error: 0.1778 - val_loss: 0.0908 - val_mean_absolute_error: 0.1601\n",
      "Epoch 146/200\n",
      "432000/432000 [==============================] - 7s 17us/step - loss: 0.1024 - mean_absolute_error: 0.1750 - val_loss: 0.0832 - val_mean_absolute_error: 0.1526\n",
      "Epoch 147/200\n",
      "432000/432000 [==============================] - 7s 17us/step - loss: 0.1074 - mean_absolute_error: 0.1788 - val_loss: 0.2160 - val_mean_absolute_error: 0.2641\n",
      "Epoch 148/200\n",
      "432000/432000 [==============================] - 7s 17us/step - loss: 0.1093 - mean_absolute_error: 0.1819 - val_loss: 0.0891 - val_mean_absolute_error: 0.1664\n",
      "Epoch 149/200\n",
      "432000/432000 [==============================] - 7s 17us/step - loss: 0.1053 - mean_absolute_error: 0.1786 - val_loss: 0.0919 - val_mean_absolute_error: 0.1642\n",
      "Epoch 150/200\n",
      "432000/432000 [==============================] - 7s 17us/step - loss: 0.1010 - mean_absolute_error: 0.1746 - val_loss: 0.0863 - val_mean_absolute_error: 0.1557\n",
      "Epoch 151/200\n",
      "432000/432000 [==============================] - 8s 17us/step - loss: 0.1142 - mean_absolute_error: 0.1852 - val_loss: 0.1000 - val_mean_absolute_error: 0.1706\n",
      "Epoch 152/200\n",
      "432000/432000 [==============================] - 8s 18us/step - loss: 0.1002 - mean_absolute_error: 0.1741 - val_loss: 0.1318 - val_mean_absolute_error: 0.1939\n",
      "Epoch 153/200\n",
      "432000/432000 [==============================] - 8s 18us/step - loss: 0.1130 - mean_absolute_error: 0.1848 - val_loss: 0.1147 - val_mean_absolute_error: 0.1932\n",
      "Epoch 154/200\n",
      "432000/432000 [==============================] - 7s 17us/step - loss: 0.0966 - mean_absolute_error: 0.1705 - val_loss: 0.1236 - val_mean_absolute_error: 0.1769\n",
      "Epoch 155/200\n",
      "432000/432000 [==============================] - 7s 17us/step - loss: 0.1002 - mean_absolute_error: 0.1740 - val_loss: 0.0902 - val_mean_absolute_error: 0.1641\n",
      "Epoch 156/200\n",
      "432000/432000 [==============================] - 7s 17us/step - loss: 0.1019 - mean_absolute_error: 0.1747 - val_loss: 0.1705 - val_mean_absolute_error: 0.2245\n",
      "Epoch 157/200\n",
      "432000/432000 [==============================] - 7s 17us/step - loss: 0.1016 - mean_absolute_error: 0.1752 - val_loss: 0.1387 - val_mean_absolute_error: 0.2166\n",
      "Epoch 158/200\n",
      "432000/432000 [==============================] - 8s 18us/step - loss: 0.1092 - mean_absolute_error: 0.1804 - val_loss: 0.1114 - val_mean_absolute_error: 0.1939\n",
      "Epoch 159/200\n",
      "432000/432000 [==============================] - 7s 17us/step - loss: 0.0973 - mean_absolute_error: 0.1709 - val_loss: 0.0818 - val_mean_absolute_error: 0.1611\n",
      "Epoch 160/200\n",
      "432000/432000 [==============================] - 8s 18us/step - loss: 0.1072 - mean_absolute_error: 0.1796 - val_loss: 0.0953 - val_mean_absolute_error: 0.1758\n",
      "Epoch 161/200\n",
      "432000/432000 [==============================] - 8s 18us/step - loss: 0.0936 - mean_absolute_error: 0.1686 - val_loss: 0.1477 - val_mean_absolute_error: 0.2158\n",
      "Epoch 162/200\n",
      "432000/432000 [==============================] - 8s 17us/step - loss: 0.1013 - mean_absolute_error: 0.1746 - val_loss: 0.0870 - val_mean_absolute_error: 0.1598\n",
      "Epoch 163/200\n",
      "432000/432000 [==============================] - 8s 18us/step - loss: 0.1049 - mean_absolute_error: 0.1770 - val_loss: 0.0889 - val_mean_absolute_error: 0.1647\n",
      "Epoch 164/200\n",
      "432000/432000 [==============================] - 8s 18us/step - loss: 0.0969 - mean_absolute_error: 0.1711 - val_loss: 0.1044 - val_mean_absolute_error: 0.1740\n",
      "Epoch 165/200\n",
      "432000/432000 [==============================] - 8s 18us/step - loss: 0.1125 - mean_absolute_error: 0.1828 - val_loss: 0.1220 - val_mean_absolute_error: 0.1910\n",
      "Epoch 166/200\n",
      "432000/432000 [==============================] - 8s 17us/step - loss: 0.0987 - mean_absolute_error: 0.1717 - val_loss: 0.0950 - val_mean_absolute_error: 0.1723\n",
      "Epoch 167/200\n",
      "432000/432000 [==============================] - 8s 18us/step - loss: 0.1046 - mean_absolute_error: 0.1779 - val_loss: 0.0974 - val_mean_absolute_error: 0.1728\n",
      "Epoch 168/200\n",
      "432000/432000 [==============================] - 8s 17us/step - loss: 0.0930 - mean_absolute_error: 0.1673 - val_loss: 0.1113 - val_mean_absolute_error: 0.1856\n",
      "Epoch 169/200\n",
      "432000/432000 [==============================] - 8s 18us/step - loss: 0.0974 - mean_absolute_error: 0.1722 - val_loss: 0.0826 - val_mean_absolute_error: 0.1573\n",
      "Epoch 170/200\n",
      "432000/432000 [==============================] - 8s 18us/step - loss: 0.0955 - mean_absolute_error: 0.1693 - val_loss: 0.1611 - val_mean_absolute_error: 0.2293\n",
      "Epoch 171/200\n",
      "432000/432000 [==============================] - 8s 18us/step - loss: 0.0965 - mean_absolute_error: 0.1699 - val_loss: 0.2157 - val_mean_absolute_error: 0.2518\n",
      "Epoch 172/200\n",
      "432000/432000 [==============================] - 8s 18us/step - loss: 0.1003 - mean_absolute_error: 0.1729 - val_loss: 0.1010 - val_mean_absolute_error: 0.1764\n",
      "Epoch 173/200\n",
      "432000/432000 [==============================] - 8s 17us/step - loss: 0.1020 - mean_absolute_error: 0.1749 - val_loss: 0.1885 - val_mean_absolute_error: 0.2414\n",
      "Epoch 174/200\n",
      "432000/432000 [==============================] - 8s 17us/step - loss: 0.0967 - mean_absolute_error: 0.1711 - val_loss: 0.0872 - val_mean_absolute_error: 0.1623\n",
      "Epoch 175/200\n",
      "432000/432000 [==============================] - 8s 17us/step - loss: 0.0991 - mean_absolute_error: 0.1728 - val_loss: 0.1549 - val_mean_absolute_error: 0.2056\n",
      "Epoch 176/200\n",
      "432000/432000 [==============================] - 8s 18us/step - loss: 0.0974 - mean_absolute_error: 0.1720 - val_loss: 0.0800 - val_mean_absolute_error: 0.1512\n",
      "Epoch 177/200\n",
      "432000/432000 [==============================] - 8s 18us/step - loss: 0.0945 - mean_absolute_error: 0.1697 - val_loss: 0.1687 - val_mean_absolute_error: 0.2196\n",
      "Epoch 178/200\n",
      "432000/432000 [==============================] - 8s 18us/step - loss: 0.1013 - mean_absolute_error: 0.1754 - val_loss: 0.1166 - val_mean_absolute_error: 0.1947\n",
      "Epoch 179/200\n",
      "432000/432000 [==============================] - 8s 18us/step - loss: 0.0995 - mean_absolute_error: 0.1732 - val_loss: 0.0931 - val_mean_absolute_error: 0.1664\n",
      "Epoch 180/200\n",
      "432000/432000 [==============================] - 8s 18us/step - loss: 0.0942 - mean_absolute_error: 0.1686 - val_loss: 0.1390 - val_mean_absolute_error: 0.2015\n",
      "Epoch 181/200\n",
      "432000/432000 [==============================] - 8s 18us/step - loss: 0.1035 - mean_absolute_error: 0.1772 - val_loss: 0.0792 - val_mean_absolute_error: 0.1521\n",
      "Epoch 182/200\n",
      "432000/432000 [==============================] - 8s 18us/step - loss: 0.0957 - mean_absolute_error: 0.1696 - val_loss: 0.1341 - val_mean_absolute_error: 0.1950\n",
      "Epoch 183/200\n",
      "432000/432000 [==============================] - 8s 18us/step - loss: 0.0953 - mean_absolute_error: 0.1689 - val_loss: 0.0802 - val_mean_absolute_error: 0.1520\n",
      "Epoch 184/200\n",
      "432000/432000 [==============================] - 8s 18us/step - loss: 0.0903 - mean_absolute_error: 0.1648 - val_loss: 0.1730 - val_mean_absolute_error: 0.2429\n",
      "Epoch 185/200\n",
      "432000/432000 [==============================] - 8s 17us/step - loss: 0.0994 - mean_absolute_error: 0.1723 - val_loss: 0.1866 - val_mean_absolute_error: 0.2484\n",
      "Epoch 186/200\n",
      "432000/432000 [==============================] - 8s 18us/step - loss: 0.0987 - mean_absolute_error: 0.1726 - val_loss: 0.0837 - val_mean_absolute_error: 0.1566\n",
      "Epoch 187/200\n",
      "432000/432000 [==============================] - 8s 18us/step - loss: 0.0957 - mean_absolute_error: 0.1699 - val_loss: 0.0810 - val_mean_absolute_error: 0.1590\n",
      "Epoch 188/200\n",
      "432000/432000 [==============================] - 8s 18us/step - loss: 0.1026 - mean_absolute_error: 0.1761 - val_loss: 0.0795 - val_mean_absolute_error: 0.1534\n",
      "Epoch 189/200\n"
     ]
    },
    {
     "name": "stdout",
     "output_type": "stream",
     "text": [
      "432000/432000 [==============================] - 7s 17us/step - loss: 0.0986 - mean_absolute_error: 0.1710 - val_loss: 0.1617 - val_mean_absolute_error: 0.2337\n",
      "Epoch 190/200\n",
      "432000/432000 [==============================] - 7s 17us/step - loss: 0.1060 - mean_absolute_error: 0.1770 - val_loss: 0.0831 - val_mean_absolute_error: 0.1579\n",
      "Epoch 191/200\n",
      "432000/432000 [==============================] - 7s 17us/step - loss: 0.0908 - mean_absolute_error: 0.1651 - val_loss: 0.1093 - val_mean_absolute_error: 0.1717\n",
      "Epoch 192/200\n",
      "432000/432000 [==============================] - 7s 17us/step - loss: 0.0946 - mean_absolute_error: 0.1686 - val_loss: 0.1241 - val_mean_absolute_error: 0.1953\n",
      "Epoch 193/200\n",
      "432000/432000 [==============================] - 7s 17us/step - loss: 0.0953 - mean_absolute_error: 0.1694 - val_loss: 0.0972 - val_mean_absolute_error: 0.1646\n",
      "Epoch 194/200\n",
      "432000/432000 [==============================] - 7s 17us/step - loss: 0.0957 - mean_absolute_error: 0.1693 - val_loss: 0.0823 - val_mean_absolute_error: 0.1552\n",
      "Epoch 195/200\n",
      "432000/432000 [==============================] - 7s 17us/step - loss: 0.0950 - mean_absolute_error: 0.1694 - val_loss: 0.1269 - val_mean_absolute_error: 0.2046\n",
      "Epoch 196/200\n",
      "432000/432000 [==============================] - 8s 18us/step - loss: 0.0945 - mean_absolute_error: 0.1682 - val_loss: 0.1068 - val_mean_absolute_error: 0.1802\n",
      "Epoch 197/200\n",
      "432000/432000 [==============================] - 8s 17us/step - loss: 0.0995 - mean_absolute_error: 0.1725 - val_loss: 0.1252 - val_mean_absolute_error: 0.1911\n",
      "Epoch 198/200\n",
      "432000/432000 [==============================] - 7s 17us/step - loss: 0.1001 - mean_absolute_error: 0.1747 - val_loss: 0.1113 - val_mean_absolute_error: 0.1775\n",
      "Epoch 199/200\n",
      "432000/432000 [==============================] - 7s 17us/step - loss: 0.1054 - mean_absolute_error: 0.1757 - val_loss: 0.0855 - val_mean_absolute_error: 0.1662\n",
      "Epoch 200/200\n",
      "432000/432000 [==============================] - 7s 17us/step - loss: 0.0890 - mean_absolute_error: 0.1629 - val_loss: 0.1297 - val_mean_absolute_error: 0.1858\n"
     ]
    },
    {
     "data": {
      "image/png": "[encoded data removed]",
      "text/plain": [
       "<Figure size 432x288 with 1 Axes>"
      ]
     },
     "metadata": {},
     "output_type": "display_data"
    }
   ],
   "source": [
    "model, result = create_model(X_train, y_train)"
   ]
  },
  {
   "cell_type": "code",
   "execution_count": 24,
   "metadata": {},
   "outputs": [
    {
     "name": "stdout",
     "output_type": "stream",
     "text": [
      "\n",
      "\n",
      "[[ 8.978751  ]\n",
      " [ 0.08024114]\n",
      " [ 0.2089924 ]\n",
      " [ 0.86440647]\n",
      " [ 1.5359844 ]\n",
      " [ 5.265168  ]\n",
      " [ 0.1419996 ]\n",
      " [ 0.14463499]\n",
      " [ 1.0365124 ]\n",
      " [14.84845   ]]\n",
      "\n",
      "\n",
      "[[ 9.05]\n",
      " [ 0.06]\n",
      " [ 0.15]\n",
      " [ 0.76]\n",
      " [ 1.54]\n",
      " [ 5.2 ]\n",
      " [ 0.05]\n",
      " [ 0.17]\n",
      " [ 1.03]\n",
      " [14.5 ]]\n",
      "Mean absolute error (MAE): 0.182388\n",
      "Mean squared error (MSE):  0.126627\n",
      "R square (R^2):            0.999105\n"
     ]
    }
   ],
   "source": [
    "pred = model.predict(X_test)\n",
    "\n",
    "print('\\n')\n",
    "print(pred[:10])\n",
    "print('\\n')\n",
    "print(y_test[:10])\n",
    "\n",
    "print(\"Mean absolute error (MAE): %f\" % skm.mean_absolute_error(y_test,pred))\n",
    "print(\"Mean squared error (MSE):  %f\" % skm.mean_squared_error(y_test,pred))\n",
    "print(\"R square (R^2):            %f\" % skm.r2_score(y_test,pred))"
   ]
  },
  {
   "cell_type": "code",
   "execution_count": 25,
   "metadata": {},
   "outputs": [],
   "source": [
    "pred = pred.flatten()\n",
    "y_test = y_test.flatten()"
   ]
  },
  {
   "cell_type": "code",
   "execution_count": 26,
   "metadata": {},
   "outputs": [],
   "source": [
    "# y_pred = sc_y.inverse_transform(pred)\n",
    "# y_actu = sc_y.inverse_transform(y_test)\n",
    "# print('actual value:\\n', y_actu[:10])\n",
    "# print('actual predicted value:\\n', y_pred[:10])\n",
    "\n",
    "# print(\"Mean absolute error (MAE): %f\" % skm.mean_absolute_error(y_actu,y_pred))\n",
    "# print(\"Mean squared error (MSE):  %f\" % skm.mean_squared_error(y_actu,y_pred))\n",
    "# print(\"R square (R^2):            %f\" % skm.r2_score(y_actu,y_pred))"
   ]
  },
  {
   "cell_type": "code",
   "execution_count": 27,
   "metadata": {},
   "outputs": [],
   "source": [
    "model.save('model4_1_at.h5')"
   ]
  },
  {
   "cell_type": "markdown",
   "metadata": {},
   "source": [
    "# In the Money"
   ]
  },
  {
   "cell_type": "code",
   "execution_count": 34,
   "metadata": {},
   "outputs": [],
   "source": [
    "def create_model(X, y):#neurons_1=1,learn_rate=0.01):\n",
    "    \n",
    "    model = Sequential()\n",
    "    \n",
    "    es = EarlyStopping(monitor='val_loss', min_delta=0, patience=25, verbose=0, mode='auto')\n",
    "    \n",
    "    model.add(Dense(50, input_shape = (7,), activation = 'relu'))\n",
    "    model.add(Dense(100, activation = 'relu'))\n",
    "    model.add(Dense(300, activation = 'elu'))\n",
    "    model.add(Dense(500, activation = 'relu'))\n",
    "    model.add(Dense(100, activation = 'elu'))\n",
    "    model.add(Dense(1, activation = 'linear'))\n",
    "    \n",
    "    optimizer = Adam()\n",
    "    model.compile(optimizer = optimizer, loss = 'mse', metrics = ['mae',r_square,mpe])\n",
    "    \n",
    "    result = model.fit(X,y, epochs = 200, batch_size = 1024, validation_split = 0.1, verbose = 1, callbacks = [es])\n",
    "    \n",
    "    # plot training curve for rmse\n",
    "    plt.plot(result.history['loss'])\n",
    "    plt.plot(result.history['val_loss'])\n",
    "    plt.title('Loss(mse) converge')\n",
    "    plt.ylabel('Loss(mse)')\n",
    "    plt.xlabel('Epoch')\n",
    "    plt.legend(['train', 'validation'], loc='upper right')\n",
    "    plt.show()\n",
    "    \n",
    "    return model, result"
   ]
  },
  {
   "cell_type": "code",
   "execution_count": 35,
   "metadata": {
    "scrolled": true
   },
   "outputs": [
    {
     "name": "stdout",
     "output_type": "stream",
     "text": [
      "Train on 432000 samples, validate on 48000 samples\n",
      "Epoch 1/200\n",
      "432000/432000 [==============================] - 8s 19us/step - loss: nan - mean_absolute_error: nan - r_square: nan - mpe: inf - val_loss: nan - val_mean_absolute_error: nan - val_r_square: nan - val_mpe: inf\n",
      "Epoch 2/200\n",
      " 10240/432000 [..............................] - ETA: 7s - loss: nan - mean_absolute_error: nan - r_square: nan - mpe: inf"
     ]
    },
    {
     "name": "stderr",
     "output_type": "stream",
     "text": [
      "C:\\Users\\wangmi94\\AppData\\Roaming\\Python\\Python36\\site-packages\\keras\\callbacks.py:816: RuntimeWarning: invalid value encountered in less\n",
      "  if self.monitor_op(current - self.min_delta, self.best):\n"
     ]
    },
    {
     "name": "stdout",
     "output_type": "stream",
     "text": [
      "122880/432000 [=======>......................] - ETA: 5s - loss: nan - mean_absolute_error: nan - r_square: nan - mpe: inf"
     ]
    },
    {
     "ename": "KeyboardInterrupt",
     "evalue": "",
     "output_type": "error",
     "traceback": [
      "\u001b[1;31m---------------------------------------------------------------------------\u001b[0m",
      "\u001b[1;31mKeyboardInterrupt\u001b[0m                         Traceback (most recent call last)",
      "\u001b[1;32m<ipython-input-35-d37270d43dcc>\u001b[0m in \u001b[0;36m<module>\u001b[1;34m()\u001b[0m\n\u001b[1;32m----> 1\u001b[1;33m \u001b[0mmodelin\u001b[0m\u001b[1;33m,\u001b[0m \u001b[0mresultin\u001b[0m \u001b[1;33m=\u001b[0m \u001b[0mcreate_model\u001b[0m\u001b[1;33m(\u001b[0m\u001b[0mX_traini\u001b[0m\u001b[1;33m,\u001b[0m \u001b[0my_traini\u001b[0m\u001b[1;33m)\u001b[0m\u001b[1;33m\u001b[0m\u001b[0m\n\u001b[0m",
      "\u001b[1;32m<ipython-input-34-12c1cbf8923d>\u001b[0m in \u001b[0;36mcreate_model\u001b[1;34m(X, y)\u001b[0m\n\u001b[0;32m     15\u001b[0m     \u001b[0mmodel\u001b[0m\u001b[1;33m.\u001b[0m\u001b[0mcompile\u001b[0m\u001b[1;33m(\u001b[0m\u001b[0moptimizer\u001b[0m \u001b[1;33m=\u001b[0m \u001b[0moptimizer\u001b[0m\u001b[1;33m,\u001b[0m \u001b[0mloss\u001b[0m \u001b[1;33m=\u001b[0m \u001b[1;34m'mse'\u001b[0m\u001b[1;33m,\u001b[0m \u001b[0mmetrics\u001b[0m \u001b[1;33m=\u001b[0m \u001b[1;33m[\u001b[0m\u001b[1;34m'mae'\u001b[0m\u001b[1;33m,\u001b[0m\u001b[0mr_square\u001b[0m\u001b[1;33m,\u001b[0m\u001b[0mmpe\u001b[0m\u001b[1;33m]\u001b[0m\u001b[1;33m)\u001b[0m\u001b[1;33m\u001b[0m\u001b[0m\n\u001b[0;32m     16\u001b[0m \u001b[1;33m\u001b[0m\u001b[0m\n\u001b[1;32m---> 17\u001b[1;33m     \u001b[0mresult\u001b[0m \u001b[1;33m=\u001b[0m \u001b[0mmodel\u001b[0m\u001b[1;33m.\u001b[0m\u001b[0mfit\u001b[0m\u001b[1;33m(\u001b[0m\u001b[0mX\u001b[0m\u001b[1;33m,\u001b[0m\u001b[0my\u001b[0m\u001b[1;33m,\u001b[0m \u001b[0mepochs\u001b[0m \u001b[1;33m=\u001b[0m \u001b[1;36m200\u001b[0m\u001b[1;33m,\u001b[0m \u001b[0mbatch_size\u001b[0m \u001b[1;33m=\u001b[0m \u001b[1;36m1024\u001b[0m\u001b[1;33m,\u001b[0m \u001b[0mvalidation_split\u001b[0m \u001b[1;33m=\u001b[0m \u001b[1;36m0.1\u001b[0m\u001b[1;33m,\u001b[0m \u001b[0mverbose\u001b[0m \u001b[1;33m=\u001b[0m \u001b[1;36m1\u001b[0m\u001b[1;33m,\u001b[0m \u001b[0mcallbacks\u001b[0m \u001b[1;33m=\u001b[0m \u001b[1;33m[\u001b[0m\u001b[0mes\u001b[0m\u001b[1;33m]\u001b[0m\u001b[1;33m)\u001b[0m\u001b[1;33m\u001b[0m\u001b[0m\n\u001b[0m\u001b[0;32m     18\u001b[0m \u001b[1;33m\u001b[0m\u001b[0m\n\u001b[0;32m     19\u001b[0m     \u001b[1;31m# plot training curve for rmse\u001b[0m\u001b[1;33m\u001b[0m\u001b[1;33m\u001b[0m\u001b[0m\n",
      "\u001b[1;32mC:\\Users\\wangmi94\\AppData\\Roaming\\Python\\Python36\\site-packages\\keras\\engine\\training.py\u001b[0m in \u001b[0;36mfit\u001b[1;34m(self, x, y, batch_size, epochs, verbose, callbacks, validation_split, validation_data, shuffle, class_weight, sample_weight, initial_epoch, steps_per_epoch, validation_steps, validation_freq, max_queue_size, workers, use_multiprocessing, **kwargs)\u001b[0m\n\u001b[0;32m   1176\u001b[0m                                         \u001b[0msteps_per_epoch\u001b[0m\u001b[1;33m=\u001b[0m\u001b[0msteps_per_epoch\u001b[0m\u001b[1;33m,\u001b[0m\u001b[1;33m\u001b[0m\u001b[0m\n\u001b[0;32m   1177\u001b[0m                                         \u001b[0mvalidation_steps\u001b[0m\u001b[1;33m=\u001b[0m\u001b[0mvalidation_steps\u001b[0m\u001b[1;33m,\u001b[0m\u001b[1;33m\u001b[0m\u001b[0m\n\u001b[1;32m-> 1178\u001b[1;33m                                         validation_freq=validation_freq)\n\u001b[0m\u001b[0;32m   1179\u001b[0m \u001b[1;33m\u001b[0m\u001b[0m\n\u001b[0;32m   1180\u001b[0m     def evaluate(self,\n",
      "\u001b[1;32mC:\\Users\\wangmi94\\AppData\\Roaming\\Python\\Python36\\site-packages\\keras\\engine\\training_arrays.py\u001b[0m in \u001b[0;36mfit_loop\u001b[1;34m(model, fit_function, fit_inputs, out_labels, batch_size, epochs, verbose, callbacks, val_function, val_inputs, shuffle, callback_metrics, initial_epoch, steps_per_epoch, validation_steps, validation_freq)\u001b[0m\n\u001b[0;32m    202\u001b[0m                     \u001b[0mins_batch\u001b[0m\u001b[1;33m[\u001b[0m\u001b[0mi\u001b[0m\u001b[1;33m]\u001b[0m \u001b[1;33m=\u001b[0m \u001b[0mins_batch\u001b[0m\u001b[1;33m[\u001b[0m\u001b[0mi\u001b[0m\u001b[1;33m]\u001b[0m\u001b[1;33m.\u001b[0m\u001b[0mtoarray\u001b[0m\u001b[1;33m(\u001b[0m\u001b[1;33m)\u001b[0m\u001b[1;33m\u001b[0m\u001b[0m\n\u001b[0;32m    203\u001b[0m \u001b[1;33m\u001b[0m\u001b[0m\n\u001b[1;32m--> 204\u001b[1;33m                 \u001b[0mouts\u001b[0m \u001b[1;33m=\u001b[0m \u001b[0mfit_function\u001b[0m\u001b[1;33m(\u001b[0m\u001b[0mins_batch\u001b[0m\u001b[1;33m)\u001b[0m\u001b[1;33m\u001b[0m\u001b[0m\n\u001b[0m\u001b[0;32m    205\u001b[0m                 \u001b[0mouts\u001b[0m \u001b[1;33m=\u001b[0m \u001b[0mto_list\u001b[0m\u001b[1;33m(\u001b[0m\u001b[0mouts\u001b[0m\u001b[1;33m)\u001b[0m\u001b[1;33m\u001b[0m\u001b[0m\n\u001b[0;32m    206\u001b[0m                 \u001b[1;32mfor\u001b[0m \u001b[0ml\u001b[0m\u001b[1;33m,\u001b[0m \u001b[0mo\u001b[0m \u001b[1;32min\u001b[0m \u001b[0mzip\u001b[0m\u001b[1;33m(\u001b[0m\u001b[0mout_labels\u001b[0m\u001b[1;33m,\u001b[0m \u001b[0mouts\u001b[0m\u001b[1;33m)\u001b[0m\u001b[1;33m:\u001b[0m\u001b[1;33m\u001b[0m\u001b[0m\n",
      "\u001b[1;32mC:\\Users\\wangmi94\\AppData\\Roaming\\Python\\Python36\\site-packages\\keras\\backend\\tensorflow_backend.py\u001b[0m in \u001b[0;36m__call__\u001b[1;34m(self, inputs)\u001b[0m\n\u001b[0;32m   2977\u001b[0m                     \u001b[1;32mreturn\u001b[0m \u001b[0mself\u001b[0m\u001b[1;33m.\u001b[0m\u001b[0m_legacy_call\u001b[0m\u001b[1;33m(\u001b[0m\u001b[0minputs\u001b[0m\u001b[1;33m)\u001b[0m\u001b[1;33m\u001b[0m\u001b[0m\n\u001b[0;32m   2978\u001b[0m \u001b[1;33m\u001b[0m\u001b[0m\n\u001b[1;32m-> 2979\u001b[1;33m             \u001b[1;32mreturn\u001b[0m \u001b[0mself\u001b[0m\u001b[1;33m.\u001b[0m\u001b[0m_call\u001b[0m\u001b[1;33m(\u001b[0m\u001b[0minputs\u001b[0m\u001b[1;33m)\u001b[0m\u001b[1;33m\u001b[0m\u001b[0m\n\u001b[0m\u001b[0;32m   2980\u001b[0m         \u001b[1;32melse\u001b[0m\u001b[1;33m:\u001b[0m\u001b[1;33m\u001b[0m\u001b[0m\n\u001b[0;32m   2981\u001b[0m             \u001b[1;32mif\u001b[0m \u001b[0mpy_any\u001b[0m\u001b[1;33m(\u001b[0m\u001b[0mis_tensor\u001b[0m\u001b[1;33m(\u001b[0m\u001b[0mx\u001b[0m\u001b[1;33m)\u001b[0m \u001b[1;32mfor\u001b[0m \u001b[0mx\u001b[0m \u001b[1;32min\u001b[0m \u001b[0minputs\u001b[0m\u001b[1;33m)\u001b[0m\u001b[1;33m:\u001b[0m\u001b[1;33m\u001b[0m\u001b[0m\n",
      "\u001b[1;32mC:\\Users\\wangmi94\\AppData\\Roaming\\Python\\Python36\\site-packages\\keras\\backend\\tensorflow_backend.py\u001b[0m in \u001b[0;36m_call\u001b[1;34m(self, inputs)\u001b[0m\n\u001b[0;32m   2935\u001b[0m             \u001b[0mfetched\u001b[0m \u001b[1;33m=\u001b[0m \u001b[0mself\u001b[0m\u001b[1;33m.\u001b[0m\u001b[0m_callable_fn\u001b[0m\u001b[1;33m(\u001b[0m\u001b[1;33m*\u001b[0m\u001b[0marray_vals\u001b[0m\u001b[1;33m,\u001b[0m \u001b[0mrun_metadata\u001b[0m\u001b[1;33m=\u001b[0m\u001b[0mself\u001b[0m\u001b[1;33m.\u001b[0m\u001b[0mrun_metadata\u001b[0m\u001b[1;33m)\u001b[0m\u001b[1;33m\u001b[0m\u001b[0m\n\u001b[0;32m   2936\u001b[0m         \u001b[1;32melse\u001b[0m\u001b[1;33m:\u001b[0m\u001b[1;33m\u001b[0m\u001b[0m\n\u001b[1;32m-> 2937\u001b[1;33m             \u001b[0mfetched\u001b[0m \u001b[1;33m=\u001b[0m \u001b[0mself\u001b[0m\u001b[1;33m.\u001b[0m\u001b[0m_callable_fn\u001b[0m\u001b[1;33m(\u001b[0m\u001b[1;33m*\u001b[0m\u001b[0marray_vals\u001b[0m\u001b[1;33m)\u001b[0m\u001b[1;33m\u001b[0m\u001b[0m\n\u001b[0m\u001b[0;32m   2938\u001b[0m         \u001b[1;32mreturn\u001b[0m \u001b[0mfetched\u001b[0m\u001b[1;33m[\u001b[0m\u001b[1;33m:\u001b[0m\u001b[0mlen\u001b[0m\u001b[1;33m(\u001b[0m\u001b[0mself\u001b[0m\u001b[1;33m.\u001b[0m\u001b[0moutputs\u001b[0m\u001b[1;33m)\u001b[0m\u001b[1;33m]\u001b[0m\u001b[1;33m\u001b[0m\u001b[0m\n\u001b[0;32m   2939\u001b[0m \u001b[1;33m\u001b[0m\u001b[0m\n",
      "\u001b[1;32mC:\\Users\\wangmi94\\AppData\\Roaming\\Python\\Python36\\site-packages\\tensorflow\\python\\client\\session.py\u001b[0m in \u001b[0;36m__call__\u001b[1;34m(self, *args, **kwargs)\u001b[0m\n\u001b[0;32m   1456\u001b[0m         ret = tf_session.TF_SessionRunCallable(self._session._session,\n\u001b[0;32m   1457\u001b[0m                                                \u001b[0mself\u001b[0m\u001b[1;33m.\u001b[0m\u001b[0m_handle\u001b[0m\u001b[1;33m,\u001b[0m \u001b[0margs\u001b[0m\u001b[1;33m,\u001b[0m\u001b[1;33m\u001b[0m\u001b[0m\n\u001b[1;32m-> 1458\u001b[1;33m                                                run_metadata_ptr)\n\u001b[0m\u001b[0;32m   1459\u001b[0m         \u001b[1;32mif\u001b[0m \u001b[0mrun_metadata\u001b[0m\u001b[1;33m:\u001b[0m\u001b[1;33m\u001b[0m\u001b[0m\n\u001b[0;32m   1460\u001b[0m           \u001b[0mproto_data\u001b[0m \u001b[1;33m=\u001b[0m \u001b[0mtf_session\u001b[0m\u001b[1;33m.\u001b[0m\u001b[0mTF_GetBuffer\u001b[0m\u001b[1;33m(\u001b[0m\u001b[0mrun_metadata_ptr\u001b[0m\u001b[1;33m)\u001b[0m\u001b[1;33m\u001b[0m\u001b[0m\n",
      "\u001b[1;31mKeyboardInterrupt\u001b[0m: "
     ]
    }
   ],
   "source": [
    "modelin, resultin = create_model(X_traini, y_traini)"
   ]
  },
  {
   "cell_type": "code",
   "execution_count": 18,
   "metadata": {},
   "outputs": [
    {
     "name": "stdout",
     "output_type": "stream",
     "text": [
      "\n",
      "\n",
      "[[10.560386 ]\n",
      " [ 3.5515652]\n",
      " [ 5.3943434]\n",
      " [ 7.5527973]\n",
      " [10.136771 ]\n",
      " [ 1.1011901]\n",
      " [10.474825 ]\n",
      " [64.36874  ]\n",
      " [ 0.8469987]\n",
      " [12.215063 ]]\n",
      "\n",
      "\n",
      "[[11.45]\n",
      " [ 3.95]\n",
      " [ 5.1 ]\n",
      " [ 7.5 ]\n",
      " [ 9.45]\n",
      " [ 1.1 ]\n",
      " [11.1 ]\n",
      " [64.3 ]\n",
      " [ 1.02]\n",
      " [12.5 ]]\n",
      "Mean absolute error (MAE): 0.160371\n",
      "Mean squared error (MSE):  0.080786\n",
      "R square (R^2):            0.999442\n"
     ]
    }
   ],
   "source": [
    "predin = modelin.predict(X_testi)\n",
    "\n",
    "print('\\n')\n",
    "print(predin[:10])\n",
    "print('\\n')\n",
    "print(y_testi[:10])\n",
    "\n",
    "print(\"Mean absolute error (MAE): %f\" % skm.mean_absolute_error(y_testi,predin))\n",
    "print(\"Mean squared error (MSE):  %f\" % skm.mean_squared_error(y_testi,predin))\n",
    "print(\"R square (R^2):            %f\" % skm.r2_score(y_testi,predin))"
   ]
  },
  {
   "cell_type": "code",
   "execution_count": 44,
   "metadata": {},
   "outputs": [],
   "source": [
    "predin = predin.flatten()\n",
    "y_testi = y_testi.flatten()"
   ]
  },
  {
   "cell_type": "code",
   "execution_count": 19,
   "metadata": {},
   "outputs": [],
   "source": [
    "# y_pred = sc_y.inverse_transform(pred)\n",
    "# y_actu = sc_y.inverse_transform(y_test)\n",
    "# print('actual value:\\n', y_actu[:10])\n",
    "# print('actual predicted value:\\n', y_pred[:10])\n",
    "\n",
    "# print(\"Mean absolute error (MAE): %f\" % skm.mean_absolute_error(y_actu,y_pred))\n",
    "# print(\"Mean squared error (MSE):  %f\" % skm.mean_squared_error(y_actu,y_pred))\n",
    "# print(\"R square (R^2):            %f\" % skm.r2_score(y_actu,y_pred))"
   ]
  },
  {
   "cell_type": "code",
   "execution_count": 20,
   "metadata": {},
   "outputs": [],
   "source": [
    "modelin.save('model4_1_in.h5')"
   ]
  },
  {
   "cell_type": "markdown",
   "metadata": {},
   "source": [
    "# Out of the Money"
   ]
  },
  {
   "cell_type": "code",
   "execution_count": 29,
   "metadata": {
    "scrolled": true
   },
   "outputs": [
    {
     "name": "stdout",
     "output_type": "stream",
     "text": [
      "Train on 432000 samples, validate on 48000 samples\n",
      "Epoch 1/200\n",
      "432000/432000 [==============================] - 8s 19us/step - loss: nan - mean_absolute_error: nan - val_loss: nan - val_mean_absolute_error: nan\n",
      "Epoch 2/200\n",
      " 10240/432000 [..............................] - ETA: 8s - loss: nan - mean_absolute_error: nan"
     ]
    },
    {
     "name": "stderr",
     "output_type": "stream",
     "text": [
      "C:\\Users\\wangmi94\\AppData\\Roaming\\Python\\Python36\\site-packages\\keras\\callbacks.py:816: RuntimeWarning: invalid value encountered in less\n",
      "  if self.monitor_op(current - self.min_delta, self.best):\n"
     ]
    },
    {
     "name": "stdout",
     "output_type": "stream",
     "text": [
      "334848/432000 [======================>.......] - ETA: 1s - loss: nan - mean_absolute_error: nan"
     ]
    },
    {
     "ename": "KeyboardInterrupt",
     "evalue": "",
     "output_type": "error",
     "traceback": [
      "\u001b[1;31m---------------------------------------------------------------------------\u001b[0m",
      "\u001b[1;31mKeyboardInterrupt\u001b[0m                         Traceback (most recent call last)",
      "\u001b[1;32m<ipython-input-29-1594723c6397>\u001b[0m in \u001b[0;36m<module>\u001b[1;34m()\u001b[0m\n\u001b[1;32m----> 1\u001b[1;33m \u001b[0mmodelout\u001b[0m\u001b[1;33m,\u001b[0m \u001b[0mresultout\u001b[0m \u001b[1;33m=\u001b[0m \u001b[0mcreate_model\u001b[0m\u001b[1;33m(\u001b[0m\u001b[0mX_traino\u001b[0m\u001b[1;33m,\u001b[0m \u001b[0my_traino\u001b[0m\u001b[1;33m)\u001b[0m\u001b[1;33m\u001b[0m\u001b[0m\n\u001b[0m",
      "\u001b[1;32m<ipython-input-20-e1efb2ff91d3>\u001b[0m in \u001b[0;36mcreate_model\u001b[1;34m(X, y)\u001b[0m\n\u001b[0;32m     15\u001b[0m     \u001b[0mmodel\u001b[0m\u001b[1;33m.\u001b[0m\u001b[0mcompile\u001b[0m\u001b[1;33m(\u001b[0m\u001b[0moptimizer\u001b[0m \u001b[1;33m=\u001b[0m \u001b[0moptimizer\u001b[0m\u001b[1;33m,\u001b[0m \u001b[0mloss\u001b[0m \u001b[1;33m=\u001b[0m \u001b[1;34m'mse'\u001b[0m\u001b[1;33m,\u001b[0m \u001b[0mmetrics\u001b[0m \u001b[1;33m=\u001b[0m \u001b[1;33m[\u001b[0m\u001b[1;34m'mae'\u001b[0m\u001b[1;33m]\u001b[0m\u001b[1;33m)\u001b[0m\u001b[1;33m\u001b[0m\u001b[0m\n\u001b[0;32m     16\u001b[0m \u001b[1;33m\u001b[0m\u001b[0m\n\u001b[1;32m---> 17\u001b[1;33m     \u001b[0mresult\u001b[0m \u001b[1;33m=\u001b[0m \u001b[0mmodel\u001b[0m\u001b[1;33m.\u001b[0m\u001b[0mfit\u001b[0m\u001b[1;33m(\u001b[0m\u001b[0mX\u001b[0m\u001b[1;33m,\u001b[0m\u001b[0my\u001b[0m\u001b[1;33m,\u001b[0m \u001b[0mepochs\u001b[0m \u001b[1;33m=\u001b[0m \u001b[1;36m200\u001b[0m\u001b[1;33m,\u001b[0m \u001b[0mbatch_size\u001b[0m \u001b[1;33m=\u001b[0m \u001b[1;36m1024\u001b[0m\u001b[1;33m,\u001b[0m \u001b[0mvalidation_split\u001b[0m \u001b[1;33m=\u001b[0m \u001b[1;36m0.1\u001b[0m\u001b[1;33m,\u001b[0m \u001b[0mverbose\u001b[0m \u001b[1;33m=\u001b[0m \u001b[1;36m1\u001b[0m\u001b[1;33m,\u001b[0m \u001b[0mcallbacks\u001b[0m \u001b[1;33m=\u001b[0m \u001b[1;33m[\u001b[0m\u001b[0mes\u001b[0m\u001b[1;33m]\u001b[0m\u001b[1;33m)\u001b[0m\u001b[1;33m\u001b[0m\u001b[0m\n\u001b[0m\u001b[0;32m     18\u001b[0m \u001b[1;33m\u001b[0m\u001b[0m\n\u001b[0;32m     19\u001b[0m     \u001b[1;31m# plot training curve for rmse\u001b[0m\u001b[1;33m\u001b[0m\u001b[1;33m\u001b[0m\u001b[0m\n",
      "\u001b[1;32mC:\\Users\\wangmi94\\AppData\\Roaming\\Python\\Python36\\site-packages\\keras\\engine\\training.py\u001b[0m in \u001b[0;36mfit\u001b[1;34m(self, x, y, batch_size, epochs, verbose, callbacks, validation_split, validation_data, shuffle, class_weight, sample_weight, initial_epoch, steps_per_epoch, validation_steps, validation_freq, max_queue_size, workers, use_multiprocessing, **kwargs)\u001b[0m\n\u001b[0;32m   1176\u001b[0m                                         \u001b[0msteps_per_epoch\u001b[0m\u001b[1;33m=\u001b[0m\u001b[0msteps_per_epoch\u001b[0m\u001b[1;33m,\u001b[0m\u001b[1;33m\u001b[0m\u001b[0m\n\u001b[0;32m   1177\u001b[0m                                         \u001b[0mvalidation_steps\u001b[0m\u001b[1;33m=\u001b[0m\u001b[0mvalidation_steps\u001b[0m\u001b[1;33m,\u001b[0m\u001b[1;33m\u001b[0m\u001b[0m\n\u001b[1;32m-> 1178\u001b[1;33m                                         validation_freq=validation_freq)\n\u001b[0m\u001b[0;32m   1179\u001b[0m \u001b[1;33m\u001b[0m\u001b[0m\n\u001b[0;32m   1180\u001b[0m     def evaluate(self,\n",
      "\u001b[1;32mC:\\Users\\wangmi94\\AppData\\Roaming\\Python\\Python36\\site-packages\\keras\\engine\\training_arrays.py\u001b[0m in \u001b[0;36mfit_loop\u001b[1;34m(model, fit_function, fit_inputs, out_labels, batch_size, epochs, verbose, callbacks, val_function, val_inputs, shuffle, callback_metrics, initial_epoch, steps_per_epoch, validation_steps, validation_freq)\u001b[0m\n\u001b[0;32m    202\u001b[0m                     \u001b[0mins_batch\u001b[0m\u001b[1;33m[\u001b[0m\u001b[0mi\u001b[0m\u001b[1;33m]\u001b[0m \u001b[1;33m=\u001b[0m \u001b[0mins_batch\u001b[0m\u001b[1;33m[\u001b[0m\u001b[0mi\u001b[0m\u001b[1;33m]\u001b[0m\u001b[1;33m.\u001b[0m\u001b[0mtoarray\u001b[0m\u001b[1;33m(\u001b[0m\u001b[1;33m)\u001b[0m\u001b[1;33m\u001b[0m\u001b[0m\n\u001b[0;32m    203\u001b[0m \u001b[1;33m\u001b[0m\u001b[0m\n\u001b[1;32m--> 204\u001b[1;33m                 \u001b[0mouts\u001b[0m \u001b[1;33m=\u001b[0m \u001b[0mfit_function\u001b[0m\u001b[1;33m(\u001b[0m\u001b[0mins_batch\u001b[0m\u001b[1;33m)\u001b[0m\u001b[1;33m\u001b[0m\u001b[0m\n\u001b[0m\u001b[0;32m    205\u001b[0m                 \u001b[0mouts\u001b[0m \u001b[1;33m=\u001b[0m \u001b[0mto_list\u001b[0m\u001b[1;33m(\u001b[0m\u001b[0mouts\u001b[0m\u001b[1;33m)\u001b[0m\u001b[1;33m\u001b[0m\u001b[0m\n\u001b[0;32m    206\u001b[0m                 \u001b[1;32mfor\u001b[0m \u001b[0ml\u001b[0m\u001b[1;33m,\u001b[0m \u001b[0mo\u001b[0m \u001b[1;32min\u001b[0m \u001b[0mzip\u001b[0m\u001b[1;33m(\u001b[0m\u001b[0mout_labels\u001b[0m\u001b[1;33m,\u001b[0m \u001b[0mouts\u001b[0m\u001b[1;33m)\u001b[0m\u001b[1;33m:\u001b[0m\u001b[1;33m\u001b[0m\u001b[0m\n",
      "\u001b[1;32mC:\\Users\\wangmi94\\AppData\\Roaming\\Python\\Python36\\site-packages\\keras\\backend\\tensorflow_backend.py\u001b[0m in \u001b[0;36m__call__\u001b[1;34m(self, inputs)\u001b[0m\n\u001b[0;32m   2977\u001b[0m                     \u001b[1;32mreturn\u001b[0m \u001b[0mself\u001b[0m\u001b[1;33m.\u001b[0m\u001b[0m_legacy_call\u001b[0m\u001b[1;33m(\u001b[0m\u001b[0minputs\u001b[0m\u001b[1;33m)\u001b[0m\u001b[1;33m\u001b[0m\u001b[0m\n\u001b[0;32m   2978\u001b[0m \u001b[1;33m\u001b[0m\u001b[0m\n\u001b[1;32m-> 2979\u001b[1;33m             \u001b[1;32mreturn\u001b[0m \u001b[0mself\u001b[0m\u001b[1;33m.\u001b[0m\u001b[0m_call\u001b[0m\u001b[1;33m(\u001b[0m\u001b[0minputs\u001b[0m\u001b[1;33m)\u001b[0m\u001b[1;33m\u001b[0m\u001b[0m\n\u001b[0m\u001b[0;32m   2980\u001b[0m         \u001b[1;32melse\u001b[0m\u001b[1;33m:\u001b[0m\u001b[1;33m\u001b[0m\u001b[0m\n\u001b[0;32m   2981\u001b[0m             \u001b[1;32mif\u001b[0m \u001b[0mpy_any\u001b[0m\u001b[1;33m(\u001b[0m\u001b[0mis_tensor\u001b[0m\u001b[1;33m(\u001b[0m\u001b[0mx\u001b[0m\u001b[1;33m)\u001b[0m \u001b[1;32mfor\u001b[0m \u001b[0mx\u001b[0m \u001b[1;32min\u001b[0m \u001b[0minputs\u001b[0m\u001b[1;33m)\u001b[0m\u001b[1;33m:\u001b[0m\u001b[1;33m\u001b[0m\u001b[0m\n",
      "\u001b[1;32mC:\\Users\\wangmi94\\AppData\\Roaming\\Python\\Python36\\site-packages\\keras\\backend\\tensorflow_backend.py\u001b[0m in \u001b[0;36m_call\u001b[1;34m(self, inputs)\u001b[0m\n\u001b[0;32m   2915\u001b[0m                 array_vals.append(\n\u001b[0;32m   2916\u001b[0m                     np.asarray(value,\n\u001b[1;32m-> 2917\u001b[1;33m                                dtype=tf.as_dtype(tensor.dtype).as_numpy_dtype))\n\u001b[0m\u001b[0;32m   2918\u001b[0m         \u001b[1;32mif\u001b[0m \u001b[0mself\u001b[0m\u001b[1;33m.\u001b[0m\u001b[0mfeed_dict\u001b[0m\u001b[1;33m:\u001b[0m\u001b[1;33m\u001b[0m\u001b[0m\n\u001b[0;32m   2919\u001b[0m             \u001b[1;32mfor\u001b[0m \u001b[0mkey\u001b[0m \u001b[1;32min\u001b[0m \u001b[0msorted\u001b[0m\u001b[1;33m(\u001b[0m\u001b[0mself\u001b[0m\u001b[1;33m.\u001b[0m\u001b[0mfeed_dict\u001b[0m\u001b[1;33m.\u001b[0m\u001b[0mkeys\u001b[0m\u001b[1;33m(\u001b[0m\u001b[1;33m)\u001b[0m\u001b[1;33m)\u001b[0m\u001b[1;33m:\u001b[0m\u001b[1;33m\u001b[0m\u001b[0m\n",
      "\u001b[1;32mC:\\Users\\wangmi94\\AppData\\Roaming\\Python\\Python36\\site-packages\\numpy\\core\\_asarray.py\u001b[0m in \u001b[0;36masarray\u001b[1;34m(a, dtype, order)\u001b[0m\n\u001b[0;32m     83\u001b[0m \u001b[1;33m\u001b[0m\u001b[0m\n\u001b[0;32m     84\u001b[0m     \"\"\"\n\u001b[1;32m---> 85\u001b[1;33m     \u001b[1;32mreturn\u001b[0m \u001b[0marray\u001b[0m\u001b[1;33m(\u001b[0m\u001b[0ma\u001b[0m\u001b[1;33m,\u001b[0m \u001b[0mdtype\u001b[0m\u001b[1;33m,\u001b[0m \u001b[0mcopy\u001b[0m\u001b[1;33m=\u001b[0m\u001b[1;32mFalse\u001b[0m\u001b[1;33m,\u001b[0m \u001b[0morder\u001b[0m\u001b[1;33m=\u001b[0m\u001b[0morder\u001b[0m\u001b[1;33m)\u001b[0m\u001b[1;33m\u001b[0m\u001b[0m\n\u001b[0m\u001b[0;32m     86\u001b[0m \u001b[1;33m\u001b[0m\u001b[0m\n\u001b[0;32m     87\u001b[0m \u001b[1;33m\u001b[0m\u001b[0m\n",
      "\u001b[1;31mKeyboardInterrupt\u001b[0m: "
     ]
    }
   ],
   "source": [
    "modelout, resultout = create_model(X_traino, y_traino)"
   ]
  },
  {
   "cell_type": "code",
   "execution_count": 18,
   "metadata": {},
   "outputs": [
    {
     "name": "stdout",
     "output_type": "stream",
     "text": [
      "\n",
      "\n",
      "[[10.560386 ]\n",
      " [ 3.5515652]\n",
      " [ 5.3943434]\n",
      " [ 7.5527973]\n",
      " [10.136771 ]\n",
      " [ 1.1011901]\n",
      " [10.474825 ]\n",
      " [64.36874  ]\n",
      " [ 0.8469987]\n",
      " [12.215063 ]]\n",
      "\n",
      "\n",
      "[[11.45]\n",
      " [ 3.95]\n",
      " [ 5.1 ]\n",
      " [ 7.5 ]\n",
      " [ 9.45]\n",
      " [ 1.1 ]\n",
      " [11.1 ]\n",
      " [64.3 ]\n",
      " [ 1.02]\n",
      " [12.5 ]]\n",
      "Mean absolute error (MAE): 0.160371\n",
      "Mean squared error (MSE):  0.080786\n",
      "R square (R^2):            0.999442\n"
     ]
    }
   ],
   "source": [
    "predo = modelout.predict(X_testo)\n",
    "\n",
    "print('\\n')\n",
    "print(predo[:10])\n",
    "print('\\n')\n",
    "print(y_testo[:10])\n",
    "\n",
    "print(\"Mean absolute error (MAE): %f\" % skm.mean_absolute_error(y_testo,predo))\n",
    "print(\"Mean squared error (MSE):  %f\" % skm.mean_squared_error(y_testo,predo))\n",
    "print(\"R square (R^2):            %f\" % skm.r2_score(y_testo,predo))"
   ]
  },
  {
   "cell_type": "code",
   "execution_count": 44,
   "metadata": {},
   "outputs": [],
   "source": [
    "predo = predo.flatten()\n",
    "y_testo = y_testo.flatten()"
   ]
  },
  {
   "cell_type": "code",
   "execution_count": 19,
   "metadata": {},
   "outputs": [],
   "source": [
    "# y_pred = sc_y.inverse_transform(pred)\n",
    "# y_actu = sc_y.inverse_transform(y_test)\n",
    "# print('actual value:\\n', y_actu[:10])\n",
    "# print('actual predicted value:\\n', y_pred[:10])\n",
    "\n",
    "# print(\"Mean absolute error (MAE): %f\" % skm.mean_absolute_error(y_actu,y_pred))\n",
    "# print(\"Mean squared error (MSE):  %f\" % skm.mean_squared_error(y_actu,y_pred))\n",
    "# print(\"R square (R^2):            %f\" % skm.r2_score(y_actu,y_pred))"
   ]
  },
  {
   "cell_type": "code",
   "execution_count": 20,
   "metadata": {},
   "outputs": [],
   "source": [
    "model.save('model4_1_out.h5')"
   ]
  },
  {
   "cell_type": "markdown",
   "metadata": {},
   "source": [
    "## Random Forest Model"
   ]
  },
  {
   "cell_type": "code",
   "execution_count": 24,
   "metadata": {},
   "outputs": [],
   "source": [
    "def data_2(s_df):\n",
    "    \n",
    "    y = s_df['best_offer'].values\n",
    "    X = s_df[['strike_price', 'underlying_price', 'maturity', 'impl_volatility', 'cp_flag_C', 'cp_flag_P', 'interest_rate', 'intrinsic']]\n",
    "    \n",
    "    return X, y"
   ]
  },
  {
   "cell_type": "code",
   "execution_count": 27,
   "metadata": {},
   "outputs": [],
   "source": [
    "X, y = data_2(sample_df.sample(n=500000))"
   ]
  },
  {
   "cell_type": "code",
   "execution_count": 29,
   "metadata": {},
   "outputs": [],
   "source": [
    "def rfr_model(X, y):\n",
    "    regr = RandomForestRegressor(max_depth=2, random_state=0, n_estimators=100)\n",
    "    \n",
    "    y = y.reshape(-1,1)\n",
    "    X_train, X_test, y_train, y_test = train_test_split(X, y, test_size=0.2, random_state=42)\n",
    "    \n",
    "    sc_X = StandardScaler()\n",
    "    X_scale = sc_X.fit_transform(X_train)\n",
    "    X_scale_test = sc_X.fit_transform(X_test)\n",
    "\n",
    "    sc_y = StandardScaler()\n",
    "\n",
    "    y_scale = sc_y.fit_transform(y_train)\n",
    "    y_scale_test = sc_y.fit_transform(y_test)\n",
    "    \n",
    "    regr.fit(X_scale, y_scale)\n",
    "    \n",
    "    results = regr.predict(X_scale_test)\n",
    "    \n",
    "    print('y_scale data:\\n', y_scale_test[:10])\n",
    "    print('scaled y_predition:\\n', results[:10])\n",
    "    print('\\n')\n",
    "    \n",
    "    y_pred = sc_y.inverse_transform(results)\n",
    "    print('actual value:\\n', y_test[:10])\n",
    "    print('actual predicted value:\\n', y_pred[:10])\n",
    "    \n",
    "    \n",
    "    print(\"Mean absolute error (MAE):      %f\" % skm.mean_absolute_error(y_test,results))\n",
    "    print(\"Mean squared error (MSE):       %f\" % skm.mean_squared_error(y_test,results))\n",
    "    \n",
    "    return regr"
   ]
  },
  {
   "cell_type": "code",
   "execution_count": 30,
   "metadata": {},
   "outputs": [
    {
     "name": "stderr",
     "output_type": "stream",
     "text": [
      "C:\\Program Files\\Anaconda3\\lib\\site-packages\\ipykernel_launcher.py:16: DataConversionWarning: A column-vector y was passed when a 1d array was expected. Please change the shape of y to (n_samples,), for example using ravel().\n",
      "  app.launch_new_instance()\n"
     ]
    },
    {
     "name": "stdout",
     "output_type": "stream",
     "text": [
      "y_scale data:\n",
      " [[-0.35380612]\n",
      " [-0.57513321]\n",
      " [-0.51980144]\n",
      " [-0.10481315]\n",
      " [-0.57680993]\n",
      " [-0.53489192]\n",
      " [-0.54662897]\n",
      " [-0.53489192]\n",
      " [-0.05870334]\n",
      " [-0.54830569]]\n",
      "scaled y_predition:\n",
      " [-0.41988567 -0.41988567 -0.41988567 -0.41988567 -0.41988567 -0.41988567\n",
      " -0.41988567 -0.41988567 -0.41988567 -0.41988567]\n",
      "\n",
      "\n",
      "actual value:\n",
      " [[2.68]\n",
      " [0.04]\n",
      " [0.7 ]\n",
      " [5.65]\n",
      " [0.02]\n",
      " [0.52]\n",
      " [0.38]\n",
      " [0.52]\n",
      " [6.2 ]\n",
      " [0.36]]\n",
      "actual predicted value:\n",
      " [1.8918001 1.8918001 1.8918001 1.8918001 1.8918001 1.8918001 1.8918001\n",
      " 1.8918001 1.8918001 1.8918001]\n",
      "Mean absolute error (MAE):      6.898769\n",
      "Mean squared error (MSE):       169.867897\n"
     ]
    }
   ],
   "source": [
    "rfr = rfr_model(X,y)"
   ]
  },
  {
   "cell_type": "markdown",
   "metadata": {},
   "source": [
    "## Reference: \n",
    "&emsp;&emsp;What does 'Accuracy' mean in Regression? https://github.com/keras-team/keras/issues/7947 <br>\n",
    "&emsp;&emsp;https://keras.io/metrics/<br>\n",
    "&emsp;&emsp;Scale, Standardize, or Normalize with Scikit-Learn https://towardsdatascience.com/scale-standardize-or-normalize-with-scikit-learn-6ccc7d176a02 <br>\n",
    "&emsp;&emsp;The Day my Computer Won the Nobel Prize (Neural Network Option Pricing)  https://medium.com/datadriveninvestor/the-day-my-computer-won-the-nobel-prize-neural-network-option-pricing-d29b4379f1d2 <br>"
   ]
  }
 ],
 "metadata": {
  "kernelspec": {
   "display_name": "Python 3",
   "language": "python",
   "name": "python3"
  },
  "language_info": {
   "codemirror_mode": {
    "name": "ipython",
    "version": 3
   },
   "file_extension": ".py",
   "mimetype": "text/x-python",
   "name": "python",
   "nbconvert_exporter": "python",
   "pygments_lexer": "ipython3",
   "version": "3.6.5"
  }
 },
 "nbformat": 4,
 "nbformat_minor": 2
}
