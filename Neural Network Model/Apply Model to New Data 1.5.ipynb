{
 "cells": [
  {
   "cell_type": "code",
   "execution_count": 1,
   "metadata": {},
   "outputs": [
    {
     "name": "stderr",
     "output_type": "stream",
     "text": [
      "C:\\Program Files\\Anaconda3\\lib\\site-packages\\h5py\\__init__.py:36: FutureWarning: Conversion of the second argument of issubdtype from `float` to `np.floating` is deprecated. In future, it will be treated as `np.float64 == np.dtype(float).type`.\n",
      "  from ._conv import register_converters as _register_converters\n",
      "Using TensorFlow backend.\n"
     ]
    }
   ],
   "source": [
    "import pandas as pd\n",
    "from keras.models import load_model, Sequential\n",
    "from sklearn import preprocessing\n",
    "import matplotlib.pyplot as plt\n",
    "from keras.layers import Dense\n",
    "from keras import backend as K\n",
    "import sklearn.metrics as skm, math"
   ]
  },
  {
   "cell_type": "code",
   "execution_count": 2,
   "metadata": {},
   "outputs": [],
   "source": [
    "def rmse(y_true, y_pred):\n",
    "    return K.sqrt(K.mean(K.square(y_pred - y_true), axis = -1))\n",
    "def r_square(y_true, y_pred):\n",
    "    SS_res =  K.sum(K.square(y_true - y_pred)) \n",
    "    SS_tot = K.sum(K.square(y_true - K.mean(y_true))) \n",
    "    return (1 - SS_res/(SS_tot + K.epsilon()))"
   ]
  },
  {
   "cell_type": "markdown",
   "metadata": {},
   "source": [
    "### With Implied Volatility"
   ]
  },
  {
   "cell_type": "code",
   "execution_count": 25,
   "metadata": {},
   "outputs": [
    {
     "name": "stdout",
     "output_type": "stream",
     "text": [
      "_________________________________________________________________\n",
      "Layer (type)                 Output Shape              Param #   \n",
      "=================================================================\n",
      "dense_5 (Dense)              (None, 64)                512       \n",
      "_________________________________________________________________\n",
      "dense_6 (Dense)              (None, 128)               8320      \n",
      "_________________________________________________________________\n",
      "dense_7 (Dense)              (None, 64)                8256      \n",
      "_________________________________________________________________\n",
      "dense_8 (Dense)              (None, 1)                 65        \n",
      "=================================================================\n",
      "Total params: 17,153\n",
      "Trainable params: 17,153\n",
      "Non-trainable params: 0\n",
      "_________________________________________________________________\n"
     ]
    }
   ],
   "source": [
    "#Load saved model\n",
    "model = load_model('model13.h5', custom_objects={'rmse': rmse, 'r_square': r_square})\n",
    "model.summary()"
   ]
  },
  {
   "cell_type": "code",
   "execution_count": 30,
   "metadata": {},
   "outputs": [
    {
     "data": {
      "text/html": [
       "<div>\n",
       "<style scoped>\n",
       "    .dataframe tbody tr th:only-of-type {\n",
       "        vertical-align: middle;\n",
       "    }\n",
       "\n",
       "    .dataframe tbody tr th {\n",
       "        vertical-align: top;\n",
       "    }\n",
       "\n",
       "    .dataframe thead th {\n",
       "        text-align: right;\n",
       "    }\n",
       "</style>\n",
       "<table border=\"1\" class=\"dataframe\">\n",
       "  <thead>\n",
       "    <tr style=\"text-align: right;\">\n",
       "      <th></th>\n",
       "      <th>ticker</th>\n",
       "      <th>date</th>\n",
       "      <th>exdate</th>\n",
       "      <th>maturity</th>\n",
       "      <th>strike_price</th>\n",
       "      <th>best_offer</th>\n",
       "      <th>impl_volatility</th>\n",
       "      <th>realized_vol</th>\n",
       "      <th>underlying_price</th>\n",
       "      <th>interest_rate</th>\n",
       "      <th>cp_flag_C</th>\n",
       "      <th>cp_flag_P</th>\n",
       "    </tr>\n",
       "  </thead>\n",
       "  <tbody>\n",
       "    <tr>\n",
       "      <th>0</th>\n",
       "      <td>AXP</td>\n",
       "      <td>2016-01-04</td>\n",
       "      <td>2016-01-08</td>\n",
       "      <td>4</td>\n",
       "      <td>100.0</td>\n",
       "      <td>0.13</td>\n",
       "      <td>1.695791</td>\n",
       "      <td>0.208476</td>\n",
       "      <td>67.59</td>\n",
       "      <td>0.0022</td>\n",
       "      <td>1</td>\n",
       "      <td>0</td>\n",
       "    </tr>\n",
       "    <tr>\n",
       "      <th>1</th>\n",
       "      <td>AXP</td>\n",
       "      <td>2016-01-04</td>\n",
       "      <td>2016-01-08</td>\n",
       "      <td>4</td>\n",
       "      <td>105.0</td>\n",
       "      <td>0.13</td>\n",
       "      <td>1.869624</td>\n",
       "      <td>0.208476</td>\n",
       "      <td>67.59</td>\n",
       "      <td>0.0022</td>\n",
       "      <td>1</td>\n",
       "      <td>0</td>\n",
       "    </tr>\n",
       "    <tr>\n",
       "      <th>2</th>\n",
       "      <td>AXP</td>\n",
       "      <td>2016-01-04</td>\n",
       "      <td>2016-01-08</td>\n",
       "      <td>4</td>\n",
       "      <td>66.0</td>\n",
       "      <td>1.70</td>\n",
       "      <td>0.238987</td>\n",
       "      <td>0.208476</td>\n",
       "      <td>67.59</td>\n",
       "      <td>0.0022</td>\n",
       "      <td>1</td>\n",
       "      <td>0</td>\n",
       "    </tr>\n",
       "    <tr>\n",
       "      <th>3</th>\n",
       "      <td>AXP</td>\n",
       "      <td>2016-01-04</td>\n",
       "      <td>2016-01-08</td>\n",
       "      <td>4</td>\n",
       "      <td>66.5</td>\n",
       "      <td>1.31</td>\n",
       "      <td>0.246213</td>\n",
       "      <td>0.208476</td>\n",
       "      <td>67.59</td>\n",
       "      <td>0.0022</td>\n",
       "      <td>1</td>\n",
       "      <td>0</td>\n",
       "    </tr>\n",
       "    <tr>\n",
       "      <th>4</th>\n",
       "      <td>AXP</td>\n",
       "      <td>2016-01-04</td>\n",
       "      <td>2016-01-08</td>\n",
       "      <td>4</td>\n",
       "      <td>67.0</td>\n",
       "      <td>0.95</td>\n",
       "      <td>0.242758</td>\n",
       "      <td>0.208476</td>\n",
       "      <td>67.59</td>\n",
       "      <td>0.0022</td>\n",
       "      <td>1</td>\n",
       "      <td>0</td>\n",
       "    </tr>\n",
       "  </tbody>\n",
       "</table>\n",
       "</div>"
      ],
      "text/plain": [
       "  ticker        date      exdate  maturity  strike_price  best_offer  \\\n",
       "0    AXP  2016-01-04  2016-01-08         4         100.0        0.13   \n",
       "1    AXP  2016-01-04  2016-01-08         4         105.0        0.13   \n",
       "2    AXP  2016-01-04  2016-01-08         4          66.0        1.70   \n",
       "3    AXP  2016-01-04  2016-01-08         4          66.5        1.31   \n",
       "4    AXP  2016-01-04  2016-01-08         4          67.0        0.95   \n",
       "\n",
       "   impl_volatility  realized_vol  underlying_price  interest_rate  cp_flag_C  \\\n",
       "0         1.695791      0.208476             67.59         0.0022          1   \n",
       "1         1.869624      0.208476             67.59         0.0022          1   \n",
       "2         0.238987      0.208476             67.59         0.0022          1   \n",
       "3         0.246213      0.208476             67.59         0.0022          1   \n",
       "4         0.242758      0.208476             67.59         0.0022          1   \n",
       "\n",
       "   cp_flag_P  \n",
       "0          0  \n",
       "1          0  \n",
       "2          0  \n",
       "3          0  \n",
       "4          0  "
      ]
     },
     "execution_count": 30,
     "metadata": {},
     "output_type": "execute_result"
    }
   ],
   "source": [
    "df = pd.read_csv('Options_R_test.csv')\n",
    "df = df[df['underlying_price'].notnull()]\n",
    "df.head()"
   ]
  },
  {
   "cell_type": "code",
   "execution_count": 80,
   "metadata": {},
   "outputs": [
    {
     "data": {
      "text/html": [
       "<div>\n",
       "<style scoped>\n",
       "    .dataframe tbody tr th:only-of-type {\n",
       "        vertical-align: middle;\n",
       "    }\n",
       "\n",
       "    .dataframe tbody tr th {\n",
       "        vertical-align: top;\n",
       "    }\n",
       "\n",
       "    .dataframe thead th {\n",
       "        text-align: right;\n",
       "    }\n",
       "</style>\n",
       "<table border=\"1\" class=\"dataframe\">\n",
       "  <thead>\n",
       "    <tr style=\"text-align: right;\">\n",
       "      <th></th>\n",
       "      <th>maturity</th>\n",
       "      <th>strike_price</th>\n",
       "      <th>impl_volatility</th>\n",
       "      <th>underlying_price</th>\n",
       "      <th>cp_flag_C</th>\n",
       "      <th>cp_flag_P</th>\n",
       "      <th>interest_rate</th>\n",
       "    </tr>\n",
       "  </thead>\n",
       "  <tbody>\n",
       "    <tr>\n",
       "      <th>0</th>\n",
       "      <td>4</td>\n",
       "      <td>100.0</td>\n",
       "      <td>1.695791</td>\n",
       "      <td>67.59</td>\n",
       "      <td>1</td>\n",
       "      <td>0</td>\n",
       "      <td>0.0022</td>\n",
       "    </tr>\n",
       "    <tr>\n",
       "      <th>1</th>\n",
       "      <td>4</td>\n",
       "      <td>105.0</td>\n",
       "      <td>1.869624</td>\n",
       "      <td>67.59</td>\n",
       "      <td>1</td>\n",
       "      <td>0</td>\n",
       "      <td>0.0022</td>\n",
       "    </tr>\n",
       "    <tr>\n",
       "      <th>2</th>\n",
       "      <td>4</td>\n",
       "      <td>66.0</td>\n",
       "      <td>0.238987</td>\n",
       "      <td>67.59</td>\n",
       "      <td>1</td>\n",
       "      <td>0</td>\n",
       "      <td>0.0022</td>\n",
       "    </tr>\n",
       "    <tr>\n",
       "      <th>3</th>\n",
       "      <td>4</td>\n",
       "      <td>66.5</td>\n",
       "      <td>0.246213</td>\n",
       "      <td>67.59</td>\n",
       "      <td>1</td>\n",
       "      <td>0</td>\n",
       "      <td>0.0022</td>\n",
       "    </tr>\n",
       "    <tr>\n",
       "      <th>4</th>\n",
       "      <td>4</td>\n",
       "      <td>67.0</td>\n",
       "      <td>0.242758</td>\n",
       "      <td>67.59</td>\n",
       "      <td>1</td>\n",
       "      <td>0</td>\n",
       "      <td>0.0022</td>\n",
       "    </tr>\n",
       "  </tbody>\n",
       "</table>\n",
       "</div>"
      ],
      "text/plain": [
       "   maturity  strike_price  impl_volatility  underlying_price  cp_flag_C  \\\n",
       "0         4         100.0         1.695791             67.59          1   \n",
       "1         4         105.0         1.869624             67.59          1   \n",
       "2         4          66.0         0.238987             67.59          1   \n",
       "3         4          66.5         0.246213             67.59          1   \n",
       "4         4          67.0         0.242758             67.59          1   \n",
       "\n",
       "   cp_flag_P  interest_rate  \n",
       "0          0         0.0022  \n",
       "1          0         0.0022  \n",
       "2          0         0.0022  \n",
       "3          0         0.0022  \n",
       "4          0         0.0022  "
      ]
     },
     "execution_count": 80,
     "metadata": {},
     "output_type": "execute_result"
    }
   ],
   "source": [
    "y = df['best_offer'].values\n",
    "X = df[['maturity', 'strike_price', 'impl_volatility', 'underlying_price', 'cp_flag_C', 'cp_flag_P', 'interest_rate']]\n",
    "X.head()"
   ]
  },
  {
   "cell_type": "code",
   "execution_count": 81,
   "metadata": {},
   "outputs": [],
   "source": [
    "# Normalize data to improve accuracy\n",
    "X = preprocessing.normalize(X)\n",
    "y = y.reshape(-1,1)"
   ]
  },
  {
   "cell_type": "code",
   "execution_count": 82,
   "metadata": {},
   "outputs": [
    {
     "name": "stdout",
     "output_type": "stream",
     "text": [
      "Prediction:\n",
      " [[-0.63037866]\n",
      " [-1.2603066 ]\n",
      " [ 1.7310808 ]\n",
      " [ 1.4650846 ]\n",
      " [ 1.1808021 ]\n",
      " [ 0.9605215 ]\n",
      " [ 0.7537082 ]\n",
      " [ 0.541632  ]\n",
      " [ 0.43626946]\n",
      " [ 0.3767013 ]]\n",
      "\n",
      "\n",
      "Actual:\n",
      " [[0.13]\n",
      " [0.13]\n",
      " [1.7 ]\n",
      " [1.31]\n",
      " [0.95]\n",
      " [0.66]\n",
      " [0.44]\n",
      " [0.28]\n",
      " [0.17]\n",
      " [0.1 ]]\n"
     ]
    }
   ],
   "source": [
    "pred = model.predict(X)\n",
    "print('Prediction:\\n', pred[:10])\n",
    "print('\\n')\n",
    "print('Actual:\\n', y[:10])"
   ]
  },
  {
   "cell_type": "code",
   "execution_count": 83,
   "metadata": {},
   "outputs": [
    {
     "name": "stdout",
     "output_type": "stream",
     "text": [
      "Mean absolute error (MAE):      1.538255\n",
      "Mean squared error (MSE):       46.119662\n",
      "Root mean squared error (RMSE): 6.791146\n",
      "R square (R^2):                 0.791324\n"
     ]
    }
   ],
   "source": [
    "# Compare prediction accuracy to the actual values\n",
    "print(\"Mean absolute error (MAE):      %f\" % skm.mean_absolute_error(y,pred))\n",
    "print(\"Mean squared error (MSE):       %f\" % skm.mean_squared_error(y,pred))\n",
    "print(\"Root mean squared error (RMSE): %f\" % math.sqrt(skm.mean_squared_error(y,pred)))\n",
    "print(\"R square (R^2):                 %f\" % skm.r2_score(y,pred))"
   ]
  },
  {
   "cell_type": "code",
   "execution_count": null,
   "metadata": {},
   "outputs": [],
   "source": []
  },
  {
   "cell_type": "markdown",
   "metadata": {},
   "source": [
    "### With Realized Volatility"
   ]
  },
  {
   "cell_type": "code",
   "execution_count": 84,
   "metadata": {},
   "outputs": [
    {
     "data": {
      "text/html": [
       "<div>\n",
       "<style scoped>\n",
       "    .dataframe tbody tr th:only-of-type {\n",
       "        vertical-align: middle;\n",
       "    }\n",
       "\n",
       "    .dataframe tbody tr th {\n",
       "        vertical-align: top;\n",
       "    }\n",
       "\n",
       "    .dataframe thead th {\n",
       "        text-align: right;\n",
       "    }\n",
       "</style>\n",
       "<table border=\"1\" class=\"dataframe\">\n",
       "  <thead>\n",
       "    <tr style=\"text-align: right;\">\n",
       "      <th></th>\n",
       "      <th>maturity</th>\n",
       "      <th>strike_price</th>\n",
       "      <th>realized_vol</th>\n",
       "      <th>underlying_price</th>\n",
       "      <th>cp_flag_C</th>\n",
       "      <th>cp_flag_P</th>\n",
       "      <th>interest_rate</th>\n",
       "    </tr>\n",
       "  </thead>\n",
       "  <tbody>\n",
       "    <tr>\n",
       "      <th>0</th>\n",
       "      <td>4</td>\n",
       "      <td>100.0</td>\n",
       "      <td>0.208476</td>\n",
       "      <td>67.59</td>\n",
       "      <td>1</td>\n",
       "      <td>0</td>\n",
       "      <td>0.0022</td>\n",
       "    </tr>\n",
       "    <tr>\n",
       "      <th>1</th>\n",
       "      <td>4</td>\n",
       "      <td>105.0</td>\n",
       "      <td>0.208476</td>\n",
       "      <td>67.59</td>\n",
       "      <td>1</td>\n",
       "      <td>0</td>\n",
       "      <td>0.0022</td>\n",
       "    </tr>\n",
       "    <tr>\n",
       "      <th>2</th>\n",
       "      <td>4</td>\n",
       "      <td>66.0</td>\n",
       "      <td>0.208476</td>\n",
       "      <td>67.59</td>\n",
       "      <td>1</td>\n",
       "      <td>0</td>\n",
       "      <td>0.0022</td>\n",
       "    </tr>\n",
       "    <tr>\n",
       "      <th>3</th>\n",
       "      <td>4</td>\n",
       "      <td>66.5</td>\n",
       "      <td>0.208476</td>\n",
       "      <td>67.59</td>\n",
       "      <td>1</td>\n",
       "      <td>0</td>\n",
       "      <td>0.0022</td>\n",
       "    </tr>\n",
       "    <tr>\n",
       "      <th>4</th>\n",
       "      <td>4</td>\n",
       "      <td>67.0</td>\n",
       "      <td>0.208476</td>\n",
       "      <td>67.59</td>\n",
       "      <td>1</td>\n",
       "      <td>0</td>\n",
       "      <td>0.0022</td>\n",
       "    </tr>\n",
       "  </tbody>\n",
       "</table>\n",
       "</div>"
      ],
      "text/plain": [
       "   maturity  strike_price  realized_vol  underlying_price  cp_flag_C  \\\n",
       "0         4         100.0      0.208476             67.59          1   \n",
       "1         4         105.0      0.208476             67.59          1   \n",
       "2         4          66.0      0.208476             67.59          1   \n",
       "3         4          66.5      0.208476             67.59          1   \n",
       "4         4          67.0      0.208476             67.59          1   \n",
       "\n",
       "   cp_flag_P  interest_rate  \n",
       "0          0         0.0022  \n",
       "1          0         0.0022  \n",
       "2          0         0.0022  \n",
       "3          0         0.0022  \n",
       "4          0         0.0022  "
      ]
     },
     "execution_count": 84,
     "metadata": {},
     "output_type": "execute_result"
    }
   ],
   "source": [
    "y2 = df['best_offer'].values\n",
    "X2 = df[['maturity', 'strike_price', 'realized_vol', 'underlying_price', 'cp_flag_C', 'cp_flag_P', 'interest_rate']]\n",
    "X2.head()"
   ]
  },
  {
   "cell_type": "code",
   "execution_count": 85,
   "metadata": {},
   "outputs": [],
   "source": [
    "X2 = preprocessing.normalize(X2)\n",
    "y2 = y2.reshape(-1,1)"
   ]
  },
  {
   "cell_type": "code",
   "execution_count": 89,
   "metadata": {},
   "outputs": [
    {
     "name": "stdout",
     "output_type": "stream",
     "text": [
      "Prediction:\n",
      " [[-0.9947671 ]\n",
      " [-0.9767634 ]\n",
      " [ 1.618005  ]\n",
      " [ 1.3256259 ]\n",
      " [ 1.0366731 ]\n",
      " [ 0.7992919 ]\n",
      " [ 0.5684584 ]\n",
      " [ 0.3945852 ]\n",
      " [ 0.3358479 ]\n",
      " [ 0.27181274]]\n",
      "\n",
      "\n",
      "Actual:\n",
      " [[0.13]\n",
      " [0.13]\n",
      " [1.7 ]\n",
      " [1.31]\n",
      " [0.95]\n",
      " [0.66]\n",
      " [0.44]\n",
      " [0.28]\n",
      " [0.17]\n",
      " [0.1 ]]\n"
     ]
    }
   ],
   "source": [
    "pred2 = model.predict(X2)\n",
    "print('Prediction:\\n', pred2[:10])\n",
    "print('\\n')\n",
    "print('Actual:\\n', y2[:10])"
   ]
  },
  {
   "cell_type": "code",
   "execution_count": 90,
   "metadata": {},
   "outputs": [
    {
     "name": "stdout",
     "output_type": "stream",
     "text": [
      "Mean absolute error (MAE):      1.245420\n",
      "Mean squared error (MSE):       11.366141\n",
      "Root mean squared error (RMSE): 3.371371\n",
      "R square (R^2):                 0.948572\n"
     ]
    }
   ],
   "source": [
    "print(\"Mean absolute error (MAE):      %f\" % skm.mean_absolute_error(y2,pred2))\n",
    "print(\"Mean squared error (MSE):       %f\" % skm.mean_squared_error(y2,pred2))\n",
    "print(\"Root mean squared error (RMSE): %f\" % math.sqrt(skm.mean_squared_error(y2,pred2)))\n",
    "print(\"R square (R^2):                 %f\" % skm.r2_score(y2,pred2))"
   ]
  },
  {
   "cell_type": "markdown",
   "metadata": {},
   "source": [
    "#### Predict special ticker which was used to train the model"
   ]
  },
  {
   "cell_type": "code",
   "execution_count": 91,
   "metadata": {},
   "outputs": [],
   "source": [
    "MCD = df[df.ticker == 'MCD']\n",
    "y_MCD = MCD['best_offer'].values\n",
    "X_MCD = MCD[['maturity', 'strike_price', 'realized_vol', 'underlying_price', 'cp_flag_C', 'cp_flag_P', 'interest_rate']]"
   ]
  },
  {
   "cell_type": "code",
   "execution_count": 92,
   "metadata": {},
   "outputs": [],
   "source": [
    "X_MCD = preprocessing.normalize(X_MCD)\n",
    "y_MCD = y_MCD.reshape(-1,1)"
   ]
  },
  {
   "cell_type": "code",
   "execution_count": 93,
   "metadata": {},
   "outputs": [
    {
     "name": "stdout",
     "output_type": "stream",
     "text": [
      "Prediction:\n",
      " [[ 2.3215168 ]\n",
      " [ 1.3978105 ]\n",
      " [ 0.800794  ]\n",
      " [ 0.36472577]\n",
      " [ 0.1758582 ]\n",
      " [ 0.08003968]\n",
      " [ 0.0376575 ]\n",
      " [ 0.03258914]\n",
      " [-0.00774258]\n",
      " [-0.04725128]]\n",
      "\n",
      "\n",
      "Actual:\n",
      " [[3.1 ]\n",
      " [2.23]\n",
      " [1.49]\n",
      " [0.9 ]\n",
      " [0.49]\n",
      " [0.25]\n",
      " [0.13]\n",
      " [0.07]\n",
      " [0.05]\n",
      " [0.13]]\n"
     ]
    }
   ],
   "source": [
    "pred_MCD = model.predict(X_MCD)\n",
    "print('Prediction:\\n', pred_MCD[:10])\n",
    "print('\\n')\n",
    "print('Actual:\\n', y_MCD[:10])"
   ]
  },
  {
   "cell_type": "code",
   "execution_count": 94,
   "metadata": {},
   "outputs": [
    {
     "name": "stdout",
     "output_type": "stream",
     "text": [
      "Mean absolute error (MAE):      1.064137\n",
      "Mean squared error (MSE):       4.993369\n",
      "Root mean squared error (RMSE): 2.234585\n",
      "R square (R^2):                 0.965929\n"
     ]
    }
   ],
   "source": [
    "print(\"Mean absolute error (MAE):      %f\" % skm.mean_absolute_error(y_MCD,pred_MCD))\n",
    "print(\"Mean squared error (MSE):       %f\" % skm.mean_squared_error(y_MCD,pred_MCD))\n",
    "print(\"Root mean squared error (RMSE): %f\" % math.sqrt(skm.mean_squared_error(y_MCD,pred_MCD)))\n",
    "print(\"R square (R^2):                 %f\" % skm.r2_score(y_MCD,pred_MCD))"
   ]
  },
  {
   "cell_type": "code",
   "execution_count": null,
   "metadata": {},
   "outputs": [],
   "source": []
  },
  {
   "cell_type": "code",
   "execution_count": 95,
   "metadata": {},
   "outputs": [],
   "source": [
    "GS = df[df.ticker == 'GS']\n",
    "y_GS = GS['best_offer'].values\n",
    "X_GS = GS[['maturity', 'strike_price', 'realized_vol', 'underlying_price', 'cp_flag_C', 'cp_flag_P', 'interest_rate']]"
   ]
  },
  {
   "cell_type": "code",
   "execution_count": 96,
   "metadata": {},
   "outputs": [
    {
     "name": "stdout",
     "output_type": "stream",
     "text": [
      "Prediction:\n",
      " [[5.9363313 ]\n",
      " [4.097701  ]\n",
      " [2.8001225 ]\n",
      " [1.9598825 ]\n",
      " [1.1927996 ]\n",
      " [0.6488946 ]\n",
      " [0.39673084]\n",
      " [0.21955419]\n",
      " [0.08179379]\n",
      " [0.03232047]]\n",
      "\n",
      "\n",
      "Actual:\n",
      " [5.45 3.5  2.02 1.04 0.47 0.21 0.12 0.07 0.13 0.03]\n"
     ]
    }
   ],
   "source": [
    "X_GS = preprocessing.normalize(X_GS)\n",
    "pred_GS = model.predict(X_GS)\n",
    "print('Prediction:\\n', pred_GS[:10])\n",
    "print('\\n')\n",
    "print('Actual:\\n', y_GS[:10])"
   ]
  },
  {
   "cell_type": "code",
   "execution_count": 97,
   "metadata": {},
   "outputs": [
    {
     "name": "stdout",
     "output_type": "stream",
     "text": [
      "Mean absolute error (MAE):      2.462353\n",
      "Mean squared error (MSE):       37.482205\n",
      "Root mean squared error (RMSE): 6.122271\n",
      "R square (R^2):                 0.936342\n"
     ]
    }
   ],
   "source": [
    "print(\"Mean absolute error (MAE):      %f\" % skm.mean_absolute_error(y_GS,pred_GS))\n",
    "print(\"Mean squared error (MSE):       %f\" % skm.mean_squared_error(y_GS,pred_GS))\n",
    "print(\"Root mean squared error (RMSE): %f\" % math.sqrt(skm.mean_squared_error(y_GS,pred_GS)))\n",
    "print(\"R square (R^2):                 %f\" % skm.r2_score(y_GS,pred_GS))"
   ]
  },
  {
   "cell_type": "markdown",
   "metadata": {},
   "source": [
    "#### Predict special ticker which was not used to train the model"
   ]
  },
  {
   "cell_type": "code",
   "execution_count": 59,
   "metadata": {},
   "outputs": [
    {
     "data": {
      "text/html": [
       "<div>\n",
       "<style scoped>\n",
       "    .dataframe tbody tr th:only-of-type {\n",
       "        vertical-align: middle;\n",
       "    }\n",
       "\n",
       "    .dataframe tbody tr th {\n",
       "        vertical-align: top;\n",
       "    }\n",
       "\n",
       "    .dataframe thead th {\n",
       "        text-align: right;\n",
       "    }\n",
       "</style>\n",
       "<table border=\"1\" class=\"dataframe\">\n",
       "  <thead>\n",
       "    <tr style=\"text-align: right;\">\n",
       "      <th></th>\n",
       "      <th>Unnamed: 0</th>\n",
       "      <th>Strike Price</th>\n",
       "      <th>Lowest  Closing Ask Across All Exchanges</th>\n",
       "      <th>Underlying Price</th>\n",
       "      <th>maturity</th>\n",
       "      <th>C=Call, P=Put_C</th>\n",
       "      <th>C=Call, P=Put_P</th>\n",
       "      <th>interest_rate</th>\n",
       "      <th>days</th>\n",
       "      <th>volatility</th>\n",
       "    </tr>\n",
       "  </thead>\n",
       "  <tbody>\n",
       "    <tr>\n",
       "      <th>0</th>\n",
       "      <td>0</td>\n",
       "      <td>100.0</td>\n",
       "      <td>5.45</td>\n",
       "      <td>105.35</td>\n",
       "      <td>4</td>\n",
       "      <td>1</td>\n",
       "      <td>0</td>\n",
       "      <td>0.0022</td>\n",
       "      <td>30</td>\n",
       "      <td>0.218791</td>\n",
       "    </tr>\n",
       "    <tr>\n",
       "      <th>1</th>\n",
       "      <td>1</td>\n",
       "      <td>101.0</td>\n",
       "      <td>4.50</td>\n",
       "      <td>105.35</td>\n",
       "      <td>4</td>\n",
       "      <td>1</td>\n",
       "      <td>0</td>\n",
       "      <td>0.0022</td>\n",
       "      <td>30</td>\n",
       "      <td>0.218791</td>\n",
       "    </tr>\n",
       "    <tr>\n",
       "      <th>2</th>\n",
       "      <td>2</td>\n",
       "      <td>102.0</td>\n",
       "      <td>3.65</td>\n",
       "      <td>105.35</td>\n",
       "      <td>4</td>\n",
       "      <td>1</td>\n",
       "      <td>0</td>\n",
       "      <td>0.0022</td>\n",
       "      <td>30</td>\n",
       "      <td>0.218791</td>\n",
       "    </tr>\n",
       "    <tr>\n",
       "      <th>3</th>\n",
       "      <td>3</td>\n",
       "      <td>103.0</td>\n",
       "      <td>2.79</td>\n",
       "      <td>105.35</td>\n",
       "      <td>4</td>\n",
       "      <td>1</td>\n",
       "      <td>0</td>\n",
       "      <td>0.0022</td>\n",
       "      <td>30</td>\n",
       "      <td>0.218791</td>\n",
       "    </tr>\n",
       "    <tr>\n",
       "      <th>4</th>\n",
       "      <td>4</td>\n",
       "      <td>104.0</td>\n",
       "      <td>2.06</td>\n",
       "      <td>105.35</td>\n",
       "      <td>4</td>\n",
       "      <td>1</td>\n",
       "      <td>0</td>\n",
       "      <td>0.0022</td>\n",
       "      <td>30</td>\n",
       "      <td>0.218791</td>\n",
       "    </tr>\n",
       "  </tbody>\n",
       "</table>\n",
       "</div>"
      ],
      "text/plain": [
       "   Unnamed: 0  Strike Price  Lowest  Closing Ask Across All Exchanges  \\\n",
       "0           0         100.0                                      5.45   \n",
       "1           1         101.0                                      4.50   \n",
       "2           2         102.0                                      3.65   \n",
       "3           3         103.0                                      2.79   \n",
       "4           4         104.0                                      2.06   \n",
       "\n",
       "   Underlying Price  maturity  C=Call, P=Put_C  C=Call, P=Put_P  \\\n",
       "0            105.35         4                1                0   \n",
       "1            105.35         4                1                0   \n",
       "2            105.35         4                1                0   \n",
       "3            105.35         4                1                0   \n",
       "4            105.35         4                1                0   \n",
       "\n",
       "   interest_rate  days  volatility  \n",
       "0         0.0022    30    0.218791  \n",
       "1         0.0022    30    0.218791  \n",
       "2         0.0022    30    0.218791  \n",
       "3         0.0022    30    0.218791  \n",
       "4         0.0022    30    0.218791  "
      ]
     },
     "execution_count": 59,
     "metadata": {},
     "output_type": "execute_result"
    }
   ],
   "source": [
    "AAPL = pd.read_csv('Options2016AAPL_withReaVo.csv')\n",
    "AAPL.head()"
   ]
  },
  {
   "cell_type": "code",
   "execution_count": 70,
   "metadata": {},
   "outputs": [],
   "source": [
    "AAPL = AAPL[AAPL['interest_rate'].notnull()]"
   ]
  },
  {
   "cell_type": "code",
   "execution_count": 71,
   "metadata": {},
   "outputs": [],
   "source": [
    "y_AAPL = AAPL['Lowest  Closing Ask Across All Exchanges'].values\n",
    "X_AAPL = AAPL[['maturity', 'Strike Price', 'volatility', 'Underlying Price', 'C=Call, P=Put_C', 'C=Call, P=Put_P', 'interest_rate']]"
   ]
  },
  {
   "cell_type": "code",
   "execution_count": 72,
   "metadata": {},
   "outputs": [],
   "source": [
    "X_AAPL = preprocessing.normalize(X_AAPL)\n",
    "y_AAPL = y_AAPL.reshape(-1,1)"
   ]
  },
  {
   "cell_type": "code",
   "execution_count": 73,
   "metadata": {},
   "outputs": [
    {
     "name": "stdout",
     "output_type": "stream",
     "text": [
      "Prediction:\n",
      " [[5.4338818 ]\n",
      " [4.5494175 ]\n",
      " [3.6288536 ]\n",
      " [2.7997174 ]\n",
      " [2.1064494 ]\n",
      " [1.4581447 ]\n",
      " [0.99268407]\n",
      " [0.5368069 ]\n",
      " [0.24624091]\n",
      " [0.1311115 ]]\n",
      "\n",
      "\n",
      "Actual:\n",
      " [[5.45]\n",
      " [4.5 ]\n",
      " [3.65]\n",
      " [2.79]\n",
      " [2.06]\n",
      " [1.43]\n",
      " [0.93]\n",
      " [0.56]\n",
      " [0.32]\n",
      " [0.18]]\n"
     ]
    }
   ],
   "source": [
    "pred4 = model.predict(X_AAPL)\n",
    "print('Prediction:\\n', pred4[:10])\n",
    "print('\\n')\n",
    "print('Actual:\\n', y_AAPL[:10])"
   ]
  },
  {
   "cell_type": "code",
   "execution_count": 74,
   "metadata": {},
   "outputs": [
    {
     "name": "stdout",
     "output_type": "stream",
     "text": [
      "Mean absolute error (MAE):      3.518400\n",
      "Mean squared error (MSE):       81.153715\n",
      "Root mean squared error (RMSE): 9.008536\n",
      "R square (R^2):                 0.868447\n"
     ]
    }
   ],
   "source": [
    "print(\"Mean absolute error (MAE):      %f\" % skm.mean_absolute_error(y_AAPL,pred4))\n",
    "print(\"Mean squared error (MSE):       %f\" % skm.mean_squared_error(y_AAPL,pred4))\n",
    "print(\"Root mean squared error (RMSE): %f\" % math.sqrt(skm.mean_squared_error(y_AAPL,pred4)))\n",
    "print(\"R square (R^2):                 %f\" % skm.r2_score(y_AAPL,pred4))"
   ]
  },
  {
   "cell_type": "code",
   "execution_count": null,
   "metadata": {},
   "outputs": [],
   "source": []
  }
 ],
 "metadata": {
  "kernelspec": {
   "display_name": "Python 3",
   "language": "python",
   "name": "python3"
  },
  "language_info": {
   "codemirror_mode": {
    "name": "ipython",
    "version": 3
   },
   "file_extension": ".py",
   "mimetype": "text/x-python",
   "name": "python",
   "nbconvert_exporter": "python",
   "pygments_lexer": "ipython3",
   "version": "3.7.0"
  }
 },
 "nbformat": 4,
 "nbformat_minor": 2
}
