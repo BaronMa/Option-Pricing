{
 "cells": [
  {
   "cell_type": "code",
   "execution_count": 1,
   "metadata": {},
   "outputs": [
    {
     "name": "stderr",
     "output_type": "stream",
     "text": [
      "C:\\Program Files\\Anaconda3\\lib\\site-packages\\h5py\\__init__.py:36: FutureWarning: Conversion of the second argument of issubdtype from `float` to `np.floating` is deprecated. In future, it will be treated as `np.float64 == np.dtype(float).type`.\n",
      "  from ._conv import register_converters as _register_converters\n",
      "Using TensorFlow backend.\n"
     ]
    }
   ],
   "source": [
    "import pandas as pd\n",
    "from keras.models import load_model, Sequential\n",
    "from sklearn import preprocessing\n",
    "import matplotlib.pyplot as plt\n",
    "from keras.layers import Dense\n",
    "from keras import backend as K\n",
    "import sklearn.metrics as skm, math"
   ]
  },
  {
   "cell_type": "code",
   "execution_count": 2,
   "metadata": {},
   "outputs": [],
   "source": [
    "def rmse(y_true, y_pred):\n",
    "    return K.sqrt(K.mean(K.square(y_pred - y_true), axis = -1))\n",
    "def r_square(y_true, y_pred):\n",
    "    SS_res =  K.sum(K.square(y_true - y_pred)) \n",
    "    SS_tot = K.sum(K.square(y_true - K.mean(y_true))) \n",
    "    return (1 - SS_res/(SS_tot + K.epsilon()))"
   ]
  },
  {
   "cell_type": "markdown",
   "metadata": {},
   "source": [
    "### With Implied Volatility"
   ]
  },
  {
   "cell_type": "code",
   "execution_count": 22,
   "metadata": {},
   "outputs": [
    {
     "name": "stdout",
     "output_type": "stream",
     "text": [
      "_________________________________________________________________\n",
      "Layer (type)                 Output Shape              Param #   \n",
      "=================================================================\n",
      "dense_1 (Dense)              (None, 64)                512       \n",
      "_________________________________________________________________\n",
      "dense_2 (Dense)              (None, 128)               8320      \n",
      "_________________________________________________________________\n",
      "dense_3 (Dense)              (None, 64)                8256      \n",
      "_________________________________________________________________\n",
      "dense_4 (Dense)              (None, 1)                 65        \n",
      "=================================================================\n",
      "Total params: 17,153\n",
      "Trainable params: 17,153\n",
      "Non-trainable params: 0\n",
      "_________________________________________________________________\n"
     ]
    }
   ],
   "source": [
    "model = load_model('model.h5', custom_objects={'rmse': rmse, 'r_square': r_square})\n",
    "model.summary()"
   ]
  },
  {
   "cell_type": "code",
   "execution_count": 5,
   "metadata": {},
   "outputs": [
    {
     "data": {
      "text/html": [
       "<div>\n",
       "<style scoped>\n",
       "    .dataframe tbody tr th:only-of-type {\n",
       "        vertical-align: middle;\n",
       "    }\n",
       "\n",
       "    .dataframe tbody tr th {\n",
       "        vertical-align: top;\n",
       "    }\n",
       "\n",
       "    .dataframe thead th {\n",
       "        text-align: right;\n",
       "    }\n",
       "</style>\n",
       "<table border=\"1\" class=\"dataframe\">\n",
       "  <thead>\n",
       "    <tr style=\"text-align: right;\">\n",
       "      <th></th>\n",
       "      <th>The Date of this Price</th>\n",
       "      <th>Expiration Date of the Option</th>\n",
       "      <th>Strike Price</th>\n",
       "      <th>Lowest  Closing Ask Across All Exchanges</th>\n",
       "      <th>Implied Volatility of the Option</th>\n",
       "      <th>Underlying Price</th>\n",
       "      <th>maturity</th>\n",
       "      <th>C=Call, P=Put_C</th>\n",
       "      <th>C=Call, P=Put_P</th>\n",
       "      <th>interest_rate</th>\n",
       "    </tr>\n",
       "  </thead>\n",
       "  <tbody>\n",
       "    <tr>\n",
       "      <th>0</th>\n",
       "      <td>2016-01-04</td>\n",
       "      <td>2016-01-08</td>\n",
       "      <td>100.0</td>\n",
       "      <td>5.45</td>\n",
       "      <td>0.280560</td>\n",
       "      <td>105.35</td>\n",
       "      <td>4</td>\n",
       "      <td>1</td>\n",
       "      <td>0</td>\n",
       "      <td>0.0022</td>\n",
       "    </tr>\n",
       "    <tr>\n",
       "      <th>1</th>\n",
       "      <td>2016-01-04</td>\n",
       "      <td>2016-01-08</td>\n",
       "      <td>101.0</td>\n",
       "      <td>4.50</td>\n",
       "      <td>0.276172</td>\n",
       "      <td>105.35</td>\n",
       "      <td>4</td>\n",
       "      <td>1</td>\n",
       "      <td>0</td>\n",
       "      <td>0.0022</td>\n",
       "    </tr>\n",
       "    <tr>\n",
       "      <th>2</th>\n",
       "      <td>2016-01-04</td>\n",
       "      <td>2016-01-08</td>\n",
       "      <td>102.0</td>\n",
       "      <td>3.65</td>\n",
       "      <td>0.295935</td>\n",
       "      <td>105.35</td>\n",
       "      <td>4</td>\n",
       "      <td>1</td>\n",
       "      <td>0</td>\n",
       "      <td>0.0022</td>\n",
       "    </tr>\n",
       "    <tr>\n",
       "      <th>3</th>\n",
       "      <td>2016-01-04</td>\n",
       "      <td>2016-01-08</td>\n",
       "      <td>103.0</td>\n",
       "      <td>2.79</td>\n",
       "      <td>0.290561</td>\n",
       "      <td>105.35</td>\n",
       "      <td>4</td>\n",
       "      <td>1</td>\n",
       "      <td>0</td>\n",
       "      <td>0.0022</td>\n",
       "    </tr>\n",
       "    <tr>\n",
       "      <th>4</th>\n",
       "      <td>2016-01-04</td>\n",
       "      <td>2016-01-08</td>\n",
       "      <td>104.0</td>\n",
       "      <td>2.06</td>\n",
       "      <td>0.286634</td>\n",
       "      <td>105.35</td>\n",
       "      <td>4</td>\n",
       "      <td>1</td>\n",
       "      <td>0</td>\n",
       "      <td>0.0022</td>\n",
       "    </tr>\n",
       "  </tbody>\n",
       "</table>\n",
       "</div>"
      ],
      "text/plain": [
       "  The Date of this Price Expiration Date of the Option  Strike Price  \\\n",
       "0             2016-01-04                    2016-01-08         100.0   \n",
       "1             2016-01-04                    2016-01-08         101.0   \n",
       "2             2016-01-04                    2016-01-08         102.0   \n",
       "3             2016-01-04                    2016-01-08         103.0   \n",
       "4             2016-01-04                    2016-01-08         104.0   \n",
       "\n",
       "   Lowest  Closing Ask Across All Exchanges  Implied Volatility of the Option  \\\n",
       "0                                      5.45                          0.280560   \n",
       "1                                      4.50                          0.276172   \n",
       "2                                      3.65                          0.295935   \n",
       "3                                      2.79                          0.290561   \n",
       "4                                      2.06                          0.286634   \n",
       "\n",
       "   Underlying Price  maturity  C=Call, P=Put_C  C=Call, P=Put_P  interest_rate  \n",
       "0            105.35         4                1                0         0.0022  \n",
       "1            105.35         4                1                0         0.0022  \n",
       "2            105.35         4                1                0         0.0022  \n",
       "3            105.35         4                1                0         0.0022  \n",
       "4            105.35         4                1                0         0.0022  "
      ]
     },
     "execution_count": 5,
     "metadata": {},
     "output_type": "execute_result"
    }
   ],
   "source": [
    "df = pd.read_csv('OptionsAAPL2016.csv')\n",
    "df = df[df['interest_rate'].notnull()]\n",
    "df.head()"
   ]
  },
  {
   "cell_type": "code",
   "execution_count": 23,
   "metadata": {},
   "outputs": [
    {
     "data": {
      "text/html": [
       "<div>\n",
       "<style scoped>\n",
       "    .dataframe tbody tr th:only-of-type {\n",
       "        vertical-align: middle;\n",
       "    }\n",
       "\n",
       "    .dataframe tbody tr th {\n",
       "        vertical-align: top;\n",
       "    }\n",
       "\n",
       "    .dataframe thead th {\n",
       "        text-align: right;\n",
       "    }\n",
       "</style>\n",
       "<table border=\"1\" class=\"dataframe\">\n",
       "  <thead>\n",
       "    <tr style=\"text-align: right;\">\n",
       "      <th></th>\n",
       "      <th>maturity</th>\n",
       "      <th>Strike Price</th>\n",
       "      <th>Implied Volatility of the Option</th>\n",
       "      <th>Underlying Price</th>\n",
       "      <th>C=Call, P=Put_C</th>\n",
       "      <th>C=Call, P=Put_P</th>\n",
       "      <th>interest_rate</th>\n",
       "    </tr>\n",
       "  </thead>\n",
       "  <tbody>\n",
       "    <tr>\n",
       "      <th>0</th>\n",
       "      <td>4</td>\n",
       "      <td>100.0</td>\n",
       "      <td>0.280560</td>\n",
       "      <td>105.35</td>\n",
       "      <td>1</td>\n",
       "      <td>0</td>\n",
       "      <td>0.0022</td>\n",
       "    </tr>\n",
       "    <tr>\n",
       "      <th>1</th>\n",
       "      <td>4</td>\n",
       "      <td>101.0</td>\n",
       "      <td>0.276172</td>\n",
       "      <td>105.35</td>\n",
       "      <td>1</td>\n",
       "      <td>0</td>\n",
       "      <td>0.0022</td>\n",
       "    </tr>\n",
       "    <tr>\n",
       "      <th>2</th>\n",
       "      <td>4</td>\n",
       "      <td>102.0</td>\n",
       "      <td>0.295935</td>\n",
       "      <td>105.35</td>\n",
       "      <td>1</td>\n",
       "      <td>0</td>\n",
       "      <td>0.0022</td>\n",
       "    </tr>\n",
       "    <tr>\n",
       "      <th>3</th>\n",
       "      <td>4</td>\n",
       "      <td>103.0</td>\n",
       "      <td>0.290561</td>\n",
       "      <td>105.35</td>\n",
       "      <td>1</td>\n",
       "      <td>0</td>\n",
       "      <td>0.0022</td>\n",
       "    </tr>\n",
       "    <tr>\n",
       "      <th>4</th>\n",
       "      <td>4</td>\n",
       "      <td>104.0</td>\n",
       "      <td>0.286634</td>\n",
       "      <td>105.35</td>\n",
       "      <td>1</td>\n",
       "      <td>0</td>\n",
       "      <td>0.0022</td>\n",
       "    </tr>\n",
       "  </tbody>\n",
       "</table>\n",
       "</div>"
      ],
      "text/plain": [
       "   maturity  Strike Price  Implied Volatility of the Option  Underlying Price  \\\n",
       "0         4         100.0                          0.280560            105.35   \n",
       "1         4         101.0                          0.276172            105.35   \n",
       "2         4         102.0                          0.295935            105.35   \n",
       "3         4         103.0                          0.290561            105.35   \n",
       "4         4         104.0                          0.286634            105.35   \n",
       "\n",
       "   C=Call, P=Put_C  C=Call, P=Put_P  interest_rate  \n",
       "0                1                0         0.0022  \n",
       "1                1                0         0.0022  \n",
       "2                1                0         0.0022  \n",
       "3                1                0         0.0022  \n",
       "4                1                0         0.0022  "
      ]
     },
     "execution_count": 23,
     "metadata": {},
     "output_type": "execute_result"
    }
   ],
   "source": [
    "y = df['Lowest  Closing Ask Across All Exchanges']\n",
    "X = df[['maturity', 'Strike Price', 'Implied Volatility of the Option', 'Underlying Price', 'C=Call, P=Put_C', \n",
    "        'C=Call, P=Put_P', 'interest_rate']]\n",
    "X.head()"
   ]
  },
  {
   "cell_type": "code",
   "execution_count": 24,
   "metadata": {},
   "outputs": [],
   "source": [
    "X= preprocessing.normalize(X)"
   ]
  },
  {
   "cell_type": "code",
   "execution_count": 25,
   "metadata": {},
   "outputs": [
    {
     "name": "stdout",
     "output_type": "stream",
     "text": [
      "Prediction:\n",
      " [[5.6159697 ]\n",
      " [4.6059227 ]\n",
      " [3.6784084 ]\n",
      " [2.8722942 ]\n",
      " [2.078514  ]\n",
      " [1.2786304 ]\n",
      " [0.6911897 ]\n",
      " [0.45115256]\n",
      " [0.28465927]\n",
      " [0.21060574]]\n",
      "\n",
      "\n",
      "Actual:\n",
      " 0    5.45\n",
      "1    4.50\n",
      "2    3.65\n",
      "3    2.79\n",
      "4    2.06\n",
      "5    1.43\n",
      "6    0.93\n",
      "7    0.56\n",
      "8    0.32\n",
      "9    0.18\n",
      "Name: Lowest  Closing Ask Across All Exchanges, dtype: float64\n"
     ]
    }
   ],
   "source": [
    "pred = model.predict(X)\n",
    "print('Prediction:\\n', pred[:10])\n",
    "print('\\n')\n",
    "print('Actual:\\n', y[:10])"
   ]
  },
  {
   "cell_type": "code",
   "execution_count": 26,
   "metadata": {},
   "outputs": [
    {
     "name": "stdout",
     "output_type": "stream",
     "text": [
      "Mean absolute error (MAE):      0.691857\n",
      "Mean squared error (MSE):       10.146552\n",
      "Root mean squared error (RMSE): 3.185365\n",
      "R square (R^2):                 0.983552\n"
     ]
    }
   ],
   "source": [
    "print(\"Mean absolute error (MAE):      %f\" % skm.mean_absolute_error(y,pred))\n",
    "print(\"Mean squared error (MSE):       %f\" % skm.mean_squared_error(y,pred))\n",
    "print(\"Root mean squared error (RMSE): %f\" % math.sqrt(skm.mean_squared_error(y,pred)))\n",
    "print(\"R square (R^2):                 %f\" % skm.r2_score(y,pred))"
   ]
  },
  {
   "cell_type": "code",
   "execution_count": null,
   "metadata": {},
   "outputs": [],
   "source": []
  },
  {
   "cell_type": "markdown",
   "metadata": {},
   "source": [
    "### Without Implied Volatility"
   ]
  },
  {
   "cell_type": "code",
   "execution_count": 4,
   "metadata": {},
   "outputs": [
    {
     "name": "stderr",
     "output_type": "stream",
     "text": [
      "WARNING: Logging before flag parsing goes to stderr.\n",
      "W0705 20:35:39.429791  8520 deprecation_wrapper.py:119] From C:\\Users\\mayingzh\\AppData\\Roaming\\Python\\Python36\\site-packages\\keras\\backend\\tensorflow_backend.py:517: The name tf.placeholder is deprecated. Please use tf.compat.v1.placeholder instead.\n",
      "\n",
      "W0705 20:35:39.446981  8520 deprecation_wrapper.py:119] From C:\\Users\\mayingzh\\AppData\\Roaming\\Python\\Python36\\site-packages\\keras\\backend\\tensorflow_backend.py:4138: The name tf.random_uniform is deprecated. Please use tf.random.uniform instead.\n",
      "\n",
      "W0705 20:35:39.497005  8520 deprecation_wrapper.py:119] From C:\\Users\\mayingzh\\AppData\\Roaming\\Python\\Python36\\site-packages\\keras\\backend\\tensorflow_backend.py:174: The name tf.get_default_session is deprecated. Please use tf.compat.v1.get_default_session instead.\n",
      "\n",
      "W0705 20:35:39.498023  8520 deprecation_wrapper.py:119] From C:\\Users\\mayingzh\\AppData\\Roaming\\Python\\Python36\\site-packages\\keras\\backend\\tensorflow_backend.py:184: The name tf.ConfigProto is deprecated. Please use tf.compat.v1.ConfigProto instead.\n",
      "\n",
      "W0705 20:35:39.499025  8520 deprecation_wrapper.py:119] From C:\\Users\\mayingzh\\AppData\\Roaming\\Python\\Python36\\site-packages\\keras\\backend\\tensorflow_backend.py:186: The name tf.Session is deprecated. Please use tf.compat.v1.Session instead.\n",
      "\n",
      "W0705 20:35:39.551057  8520 deprecation_wrapper.py:119] From C:\\Users\\mayingzh\\AppData\\Roaming\\Python\\Python36\\site-packages\\keras\\optimizers.py:790: The name tf.train.Optimizer is deprecated. Please use tf.compat.v1.train.Optimizer instead.\n",
      "\n"
     ]
    },
    {
     "name": "stdout",
     "output_type": "stream",
     "text": [
      "_________________________________________________________________\n",
      "Layer (type)                 Output Shape              Param #   \n",
      "=================================================================\n",
      "dense_1 (Dense)              (None, 64)                448       \n",
      "_________________________________________________________________\n",
      "dense_2 (Dense)              (None, 128)               8320      \n",
      "_________________________________________________________________\n",
      "dense_3 (Dense)              (None, 64)                8256      \n",
      "_________________________________________________________________\n",
      "dense_4 (Dense)              (None, 1)                 65        \n",
      "=================================================================\n",
      "Total params: 17,089\n",
      "Trainable params: 17,089\n",
      "Non-trainable params: 0\n",
      "_________________________________________________________________\n"
     ]
    }
   ],
   "source": [
    "model2 = load_model('model3.h5', custom_objects={'rmse': rmse, 'r_square': r_square})\n",
    "model2.summary()"
   ]
  },
  {
   "cell_type": "code",
   "execution_count": 7,
   "metadata": {},
   "outputs": [
    {
     "data": {
      "text/html": [
       "<div>\n",
       "<style scoped>\n",
       "    .dataframe tbody tr th:only-of-type {\n",
       "        vertical-align: middle;\n",
       "    }\n",
       "\n",
       "    .dataframe tbody tr th {\n",
       "        vertical-align: top;\n",
       "    }\n",
       "\n",
       "    .dataframe thead th {\n",
       "        text-align: right;\n",
       "    }\n",
       "</style>\n",
       "<table border=\"1\" class=\"dataframe\">\n",
       "  <thead>\n",
       "    <tr style=\"text-align: right;\">\n",
       "      <th></th>\n",
       "      <th>maturity</th>\n",
       "      <th>Strike Price</th>\n",
       "      <th>Underlying Price</th>\n",
       "      <th>C=Call, P=Put_C</th>\n",
       "      <th>C=Call, P=Put_P</th>\n",
       "      <th>interest_rate</th>\n",
       "    </tr>\n",
       "  </thead>\n",
       "  <tbody>\n",
       "    <tr>\n",
       "      <th>0</th>\n",
       "      <td>4</td>\n",
       "      <td>100.0</td>\n",
       "      <td>105.35</td>\n",
       "      <td>1</td>\n",
       "      <td>0</td>\n",
       "      <td>0.0022</td>\n",
       "    </tr>\n",
       "    <tr>\n",
       "      <th>1</th>\n",
       "      <td>4</td>\n",
       "      <td>101.0</td>\n",
       "      <td>105.35</td>\n",
       "      <td>1</td>\n",
       "      <td>0</td>\n",
       "      <td>0.0022</td>\n",
       "    </tr>\n",
       "    <tr>\n",
       "      <th>2</th>\n",
       "      <td>4</td>\n",
       "      <td>102.0</td>\n",
       "      <td>105.35</td>\n",
       "      <td>1</td>\n",
       "      <td>0</td>\n",
       "      <td>0.0022</td>\n",
       "    </tr>\n",
       "    <tr>\n",
       "      <th>3</th>\n",
       "      <td>4</td>\n",
       "      <td>103.0</td>\n",
       "      <td>105.35</td>\n",
       "      <td>1</td>\n",
       "      <td>0</td>\n",
       "      <td>0.0022</td>\n",
       "    </tr>\n",
       "    <tr>\n",
       "      <th>4</th>\n",
       "      <td>4</td>\n",
       "      <td>104.0</td>\n",
       "      <td>105.35</td>\n",
       "      <td>1</td>\n",
       "      <td>0</td>\n",
       "      <td>0.0022</td>\n",
       "    </tr>\n",
       "  </tbody>\n",
       "</table>\n",
       "</div>"
      ],
      "text/plain": [
       "   maturity  Strike Price  Underlying Price  C=Call, P=Put_C  C=Call, P=Put_P  \\\n",
       "0         4         100.0            105.35                1                0   \n",
       "1         4         101.0            105.35                1                0   \n",
       "2         4         102.0            105.35                1                0   \n",
       "3         4         103.0            105.35                1                0   \n",
       "4         4         104.0            105.35                1                0   \n",
       "\n",
       "   interest_rate  \n",
       "0         0.0022  \n",
       "1         0.0022  \n",
       "2         0.0022  \n",
       "3         0.0022  \n",
       "4         0.0022  "
      ]
     },
     "execution_count": 7,
     "metadata": {},
     "output_type": "execute_result"
    }
   ],
   "source": [
    "yy = df['Lowest  Closing Ask Across All Exchanges']\n",
    "XX = df[['maturity', 'Strike Price', 'Underlying Price', 'C=Call, P=Put_C', 'C=Call, P=Put_P', 'interest_rate']]\n",
    "XX.head()"
   ]
  },
  {
   "cell_type": "code",
   "execution_count": 12,
   "metadata": {},
   "outputs": [],
   "source": [
    "#sc = preprocessing.MinMaxScaler()\n",
    "XX = preprocessing.normalize(XX)\n",
    "#XX = sc.fit_transform(XX)"
   ]
  },
  {
   "cell_type": "code",
   "execution_count": 13,
   "metadata": {},
   "outputs": [
    {
     "name": "stdout",
     "output_type": "stream",
     "text": [
      "Prediction:\n",
      " [[0.15308353]\n",
      " [0.14638993]\n",
      " [0.13982257]\n",
      " [0.13326856]\n",
      " [0.12291273]\n",
      " [0.11387429]\n",
      " [0.10604128]\n",
      " [0.09822413]\n",
      " [0.08941802]\n",
      " [0.08062539]]\n",
      "\n",
      "\n",
      "Actual:\n",
      " 0    5.45\n",
      "1    4.50\n",
      "2    3.65\n",
      "3    2.79\n",
      "4    2.06\n",
      "5    1.43\n",
      "6    0.93\n",
      "7    0.56\n",
      "8    0.32\n",
      "9    0.18\n",
      "Name: Lowest  Closing Ask Across All Exchanges, dtype: float64\n"
     ]
    }
   ],
   "source": [
    "pred2 = model2.predict(XX)\n",
    "print('Prediction:\\n', pred2[:10])\n",
    "print('\\n')\n",
    "print('Actual:\\n', yy[:10])"
   ]
  },
  {
   "cell_type": "code",
   "execution_count": 14,
   "metadata": {},
   "outputs": [
    {
     "name": "stdout",
     "output_type": "stream",
     "text": [
      "Mean absolute error (MAE):      12.289165\n",
      "Mean squared error (MSE):       386.272300\n",
      "Root mean squared error (RMSE): 19.653811\n",
      "R square (R^2):                 0.373841\n"
     ]
    }
   ],
   "source": [
    "print(\"Mean absolute error (MAE):      %f\" % skm.mean_absolute_error(yy,pred2))\n",
    "print(\"Mean squared error (MSE):       %f\" % skm.mean_squared_error(yy,pred2))\n",
    "print(\"Root mean squared error (RMSE): %f\" % math.sqrt(skm.mean_squared_error(yy,pred2)))\n",
    "print(\"R square (R^2):                 %f\" % skm.r2_score(yy,pred2))"
   ]
  },
  {
   "cell_type": "code",
   "execution_count": null,
   "metadata": {},
   "outputs": [],
   "source": []
  },
  {
   "cell_type": "markdown",
   "metadata": {},
   "source": [
    "### With Realized Volatility"
   ]
  },
  {
   "cell_type": "code",
   "execution_count": 4,
   "metadata": {},
   "outputs": [
    {
     "data": {
      "text/html": [
       "<div>\n",
       "<style scoped>\n",
       "    .dataframe tbody tr th:only-of-type {\n",
       "        vertical-align: middle;\n",
       "    }\n",
       "\n",
       "    .dataframe tbody tr th {\n",
       "        vertical-align: top;\n",
       "    }\n",
       "\n",
       "    .dataframe thead th {\n",
       "        text-align: right;\n",
       "    }\n",
       "</style>\n",
       "<table border=\"1\" class=\"dataframe\">\n",
       "  <thead>\n",
       "    <tr style=\"text-align: right;\">\n",
       "      <th></th>\n",
       "      <th>Strike Price</th>\n",
       "      <th>Lowest  Closing Ask Across All Exchanges</th>\n",
       "      <th>Underlying Price</th>\n",
       "      <th>maturity</th>\n",
       "      <th>C=Call, P=Put_C</th>\n",
       "      <th>C=Call, P=Put_P</th>\n",
       "      <th>interest_rate</th>\n",
       "      <th>volatility</th>\n",
       "    </tr>\n",
       "  </thead>\n",
       "  <tbody>\n",
       "    <tr>\n",
       "      <th>0</th>\n",
       "      <td>100.0</td>\n",
       "      <td>5.45</td>\n",
       "      <td>105.35</td>\n",
       "      <td>4</td>\n",
       "      <td>1</td>\n",
       "      <td>0</td>\n",
       "      <td>0.0022</td>\n",
       "      <td>0.218791</td>\n",
       "    </tr>\n",
       "    <tr>\n",
       "      <th>1</th>\n",
       "      <td>101.0</td>\n",
       "      <td>4.50</td>\n",
       "      <td>105.35</td>\n",
       "      <td>4</td>\n",
       "      <td>1</td>\n",
       "      <td>0</td>\n",
       "      <td>0.0022</td>\n",
       "      <td>0.218791</td>\n",
       "    </tr>\n",
       "    <tr>\n",
       "      <th>2</th>\n",
       "      <td>102.0</td>\n",
       "      <td>3.65</td>\n",
       "      <td>105.35</td>\n",
       "      <td>4</td>\n",
       "      <td>1</td>\n",
       "      <td>0</td>\n",
       "      <td>0.0022</td>\n",
       "      <td>0.218791</td>\n",
       "    </tr>\n",
       "    <tr>\n",
       "      <th>3</th>\n",
       "      <td>103.0</td>\n",
       "      <td>2.79</td>\n",
       "      <td>105.35</td>\n",
       "      <td>4</td>\n",
       "      <td>1</td>\n",
       "      <td>0</td>\n",
       "      <td>0.0022</td>\n",
       "      <td>0.218791</td>\n",
       "    </tr>\n",
       "    <tr>\n",
       "      <th>4</th>\n",
       "      <td>104.0</td>\n",
       "      <td>2.06</td>\n",
       "      <td>105.35</td>\n",
       "      <td>4</td>\n",
       "      <td>1</td>\n",
       "      <td>0</td>\n",
       "      <td>0.0022</td>\n",
       "      <td>0.218791</td>\n",
       "    </tr>\n",
       "  </tbody>\n",
       "</table>\n",
       "</div>"
      ],
      "text/plain": [
       "   Strike Price  Lowest  Closing Ask Across All Exchanges  Underlying Price  \\\n",
       "0         100.0                                      5.45            105.35   \n",
       "1         101.0                                      4.50            105.35   \n",
       "2         102.0                                      3.65            105.35   \n",
       "3         103.0                                      2.79            105.35   \n",
       "4         104.0                                      2.06            105.35   \n",
       "\n",
       "   maturity  C=Call, P=Put_C  C=Call, P=Put_P  interest_rate  volatility  \n",
       "0         4                1                0         0.0022    0.218791  \n",
       "1         4                1                0         0.0022    0.218791  \n",
       "2         4                1                0         0.0022    0.218791  \n",
       "3         4                1                0         0.0022    0.218791  \n",
       "4         4                1                0         0.0022    0.218791  "
      ]
     },
     "execution_count": 4,
     "metadata": {},
     "output_type": "execute_result"
    }
   ],
   "source": [
    "df_realized = pd.read_csv('Options2016AAPL_withReaVo.csv')\n",
    "df_realized = df_realized[df_realized['interest_rate'].notnull()]\n",
    "df_realized.drop(['Unnamed: 0', 'days'], axis = 1, inplace = True)\n",
    "df_realized.head()"
   ]
  },
  {
   "cell_type": "code",
   "execution_count": 5,
   "metadata": {},
   "outputs": [
    {
     "name": "stderr",
     "output_type": "stream",
     "text": [
      "WARNING: Logging before flag parsing goes to stderr.\n",
      "W0706 19:20:45.427361  9260 deprecation_wrapper.py:119] From C:\\Users\\mayingzh\\AppData\\Roaming\\Python\\Python36\\site-packages\\keras\\backend\\tensorflow_backend.py:517: The name tf.placeholder is deprecated. Please use tf.compat.v1.placeholder instead.\n",
      "\n",
      "W0706 19:20:45.442358  9260 deprecation_wrapper.py:119] From C:\\Users\\mayingzh\\AppData\\Roaming\\Python\\Python36\\site-packages\\keras\\backend\\tensorflow_backend.py:4138: The name tf.random_uniform is deprecated. Please use tf.random.uniform instead.\n",
      "\n",
      "W0706 19:20:45.492409  9260 deprecation_wrapper.py:119] From C:\\Users\\mayingzh\\AppData\\Roaming\\Python\\Python36\\site-packages\\keras\\backend\\tensorflow_backend.py:174: The name tf.get_default_session is deprecated. Please use tf.compat.v1.get_default_session instead.\n",
      "\n",
      "W0706 19:20:45.493395  9260 deprecation_wrapper.py:119] From C:\\Users\\mayingzh\\AppData\\Roaming\\Python\\Python36\\site-packages\\keras\\backend\\tensorflow_backend.py:184: The name tf.ConfigProto is deprecated. Please use tf.compat.v1.ConfigProto instead.\n",
      "\n",
      "W0706 19:20:45.493395  9260 deprecation_wrapper.py:119] From C:\\Users\\mayingzh\\AppData\\Roaming\\Python\\Python36\\site-packages\\keras\\backend\\tensorflow_backend.py:186: The name tf.Session is deprecated. Please use tf.compat.v1.Session instead.\n",
      "\n",
      "W0706 19:20:45.541429  9260 deprecation_wrapper.py:119] From C:\\Users\\mayingzh\\AppData\\Roaming\\Python\\Python36\\site-packages\\keras\\optimizers.py:790: The name tf.train.Optimizer is deprecated. Please use tf.compat.v1.train.Optimizer instead.\n",
      "\n"
     ]
    },
    {
     "name": "stdout",
     "output_type": "stream",
     "text": [
      "_________________________________________________________________\n",
      "Layer (type)                 Output Shape              Param #   \n",
      "=================================================================\n",
      "dense_1 (Dense)              (None, 64)                512       \n",
      "_________________________________________________________________\n",
      "dense_2 (Dense)              (None, 128)               8320      \n",
      "_________________________________________________________________\n",
      "dense_3 (Dense)              (None, 64)                8256      \n",
      "_________________________________________________________________\n",
      "dense_4 (Dense)              (None, 1)                 65        \n",
      "=================================================================\n",
      "Total params: 17,153\n",
      "Trainable params: 17,153\n",
      "Non-trainable params: 0\n",
      "_________________________________________________________________\n"
     ]
    }
   ],
   "source": [
    "model3 = load_model('model4.h5', custom_objects={'rmse': rmse, 'r_square': r_square})\n",
    "model3.summary()"
   ]
  },
  {
   "cell_type": "code",
   "execution_count": 7,
   "metadata": {},
   "outputs": [
    {
     "data": {
      "text/html": [
       "<div>\n",
       "<style scoped>\n",
       "    .dataframe tbody tr th:only-of-type {\n",
       "        vertical-align: middle;\n",
       "    }\n",
       "\n",
       "    .dataframe tbody tr th {\n",
       "        vertical-align: top;\n",
       "    }\n",
       "\n",
       "    .dataframe thead th {\n",
       "        text-align: right;\n",
       "    }\n",
       "</style>\n",
       "<table border=\"1\" class=\"dataframe\">\n",
       "  <thead>\n",
       "    <tr style=\"text-align: right;\">\n",
       "      <th></th>\n",
       "      <th>maturity</th>\n",
       "      <th>Strike Price</th>\n",
       "      <th>Underlying Price</th>\n",
       "      <th>volatility</th>\n",
       "      <th>C=Call, P=Put_C</th>\n",
       "      <th>C=Call, P=Put_P</th>\n",
       "      <th>interest_rate</th>\n",
       "    </tr>\n",
       "  </thead>\n",
       "  <tbody>\n",
       "    <tr>\n",
       "      <th>0</th>\n",
       "      <td>4</td>\n",
       "      <td>100.0</td>\n",
       "      <td>105.35</td>\n",
       "      <td>0.218791</td>\n",
       "      <td>1</td>\n",
       "      <td>0</td>\n",
       "      <td>0.0022</td>\n",
       "    </tr>\n",
       "    <tr>\n",
       "      <th>1</th>\n",
       "      <td>4</td>\n",
       "      <td>101.0</td>\n",
       "      <td>105.35</td>\n",
       "      <td>0.218791</td>\n",
       "      <td>1</td>\n",
       "      <td>0</td>\n",
       "      <td>0.0022</td>\n",
       "    </tr>\n",
       "    <tr>\n",
       "      <th>2</th>\n",
       "      <td>4</td>\n",
       "      <td>102.0</td>\n",
       "      <td>105.35</td>\n",
       "      <td>0.218791</td>\n",
       "      <td>1</td>\n",
       "      <td>0</td>\n",
       "      <td>0.0022</td>\n",
       "    </tr>\n",
       "    <tr>\n",
       "      <th>3</th>\n",
       "      <td>4</td>\n",
       "      <td>103.0</td>\n",
       "      <td>105.35</td>\n",
       "      <td>0.218791</td>\n",
       "      <td>1</td>\n",
       "      <td>0</td>\n",
       "      <td>0.0022</td>\n",
       "    </tr>\n",
       "    <tr>\n",
       "      <th>4</th>\n",
       "      <td>4</td>\n",
       "      <td>104.0</td>\n",
       "      <td>105.35</td>\n",
       "      <td>0.218791</td>\n",
       "      <td>1</td>\n",
       "      <td>0</td>\n",
       "      <td>0.0022</td>\n",
       "    </tr>\n",
       "  </tbody>\n",
       "</table>\n",
       "</div>"
      ],
      "text/plain": [
       "   maturity  Strike Price  Underlying Price  volatility  C=Call, P=Put_C  \\\n",
       "0         4         100.0            105.35    0.218791                1   \n",
       "1         4         101.0            105.35    0.218791                1   \n",
       "2         4         102.0            105.35    0.218791                1   \n",
       "3         4         103.0            105.35    0.218791                1   \n",
       "4         4         104.0            105.35    0.218791                1   \n",
       "\n",
       "   C=Call, P=Put_P  interest_rate  \n",
       "0                0         0.0022  \n",
       "1                0         0.0022  \n",
       "2                0         0.0022  \n",
       "3                0         0.0022  \n",
       "4                0         0.0022  "
      ]
     },
     "execution_count": 7,
     "metadata": {},
     "output_type": "execute_result"
    }
   ],
   "source": [
    "y3 = df_realized['Lowest  Closing Ask Across All Exchanges']\n",
    "X3 = df_realized[['maturity', 'Strike Price', 'Underlying Price', 'volatility', 'C=Call, P=Put_C', 'C=Call, P=Put_P', 'interest_rate']]\n",
    "X3.head()"
   ]
  },
  {
   "cell_type": "code",
   "execution_count": 8,
   "metadata": {},
   "outputs": [],
   "source": [
    "sc = preprocessing.MinMaxScaler()\n",
    "X3 = sc.fit_transform(X3)"
   ]
  },
  {
   "cell_type": "code",
   "execution_count": 9,
   "metadata": {},
   "outputs": [
    {
     "name": "stdout",
     "output_type": "stream",
     "text": [
      "Prediction:\n",
      " [[0.1731619 ]\n",
      " [0.17076582]\n",
      " [0.16836989]\n",
      " [0.16597393]\n",
      " [0.16357797]\n",
      " [0.1611819 ]\n",
      " [0.15878624]\n",
      " [0.15639025]\n",
      " [0.153994  ]\n",
      " [0.15159824]]\n",
      "\n",
      "\n",
      "Actual:\n",
      " 0    5.45\n",
      "1    4.50\n",
      "2    3.65\n",
      "3    2.79\n",
      "4    2.06\n",
      "5    1.43\n",
      "6    0.93\n",
      "7    0.56\n",
      "8    0.32\n",
      "9    0.18\n",
      "Name: Lowest  Closing Ask Across All Exchanges, dtype: float64\n"
     ]
    }
   ],
   "source": [
    "pred3 = model3.predict(X3)\n",
    "print('Prediction:\\n', pred3[:10])\n",
    "print('\\n')\n",
    "print('Actual:\\n', y3[:10])"
   ]
  },
  {
   "cell_type": "code",
   "execution_count": 10,
   "metadata": {},
   "outputs": [
    {
     "name": "stdout",
     "output_type": "stream",
     "text": [
      "Mean absolute error (MAE):      11.614497\n",
      "Mean squared error (MSE):       311.464236\n",
      "Root mean squared error (RMSE): 17.648349\n",
      "R square (R^2):                 0.495107\n"
     ]
    }
   ],
   "source": [
    "print(\"Mean absolute error (MAE):      %f\" % skm.mean_absolute_error(y3,pred3))\n",
    "print(\"Mean squared error (MSE):       %f\" % skm.mean_squared_error(y3,pred3))\n",
    "print(\"Root mean squared error (RMSE): %f\" % math.sqrt(skm.mean_squared_error(y3,pred3)))\n",
    "print(\"R square (R^2):                 %f\" % skm.r2_score(y3,pred3))"
   ]
  },
  {
   "cell_type": "code",
   "execution_count": null,
   "metadata": {},
   "outputs": [],
   "source": []
  }
 ],
 "metadata": {
  "kernelspec": {
   "display_name": "Python 3",
   "language": "python",
   "name": "python3"
  },
  "language_info": {
   "codemirror_mode": {
    "name": "ipython",
    "version": 3
   },
   "file_extension": ".py",
   "mimetype": "text/x-python",
   "name": "python",
   "nbconvert_exporter": "python",
   "pygments_lexer": "ipython3",
   "version": "3.6.5"
  }
 },
 "nbformat": 4,
 "nbformat_minor": 2
}
