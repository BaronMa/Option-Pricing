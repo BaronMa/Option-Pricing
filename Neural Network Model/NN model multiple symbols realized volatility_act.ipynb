{
 "cells": [
  {
   "cell_type": "code",
   "execution_count": 1,
   "metadata": {
    "scrolled": true
   },
   "outputs": [
    {
     "name": "stdout",
     "output_type": "stream",
     "text": [
      "Collecting pip\n",
      "  Downloading https://files.pythonhosted.org/packages/5c/e0/be401c003291b56efc55aeba6a80ab790d3d4cece2778288d65323009420/pip-19.1.1-py2.py3-none-any.whl (1.4MB)\n",
      "Installing collected packages: pip\n",
      "Successfully installed pip-19.1.1\n"
     ]
    },
    {
     "name": "stderr",
     "output_type": "stream",
     "text": [
      "distributed 1.21.8 requires msgpack, which is not installed.\n",
      "You are using pip version 10.0.1, however version 19.1.1 is available.\n",
      "You should consider upgrading via the 'python -m pip install --upgrade pip' command.\n"
     ]
    },
    {
     "name": "stdout",
     "output_type": "stream",
     "text": [
      "Collecting keras\n",
      "  Downloading https://files.pythonhosted.org/packages/5e/10/aa32dad071ce52b5502266b5c659451cfd6ffcbf14e6c8c4f16c0ff5aaab/Keras-2.2.4-py2.py3-none-any.whl (312kB)\n",
      "Requirement already satisfied: pyyaml in c:\\program files\\anaconda3\\lib\\site-packages (from keras) (3.12)\n",
      "Requirement already satisfied: h5py in c:\\program files\\anaconda3\\lib\\site-packages (from keras) (2.7.1)\n",
      "Requirement already satisfied: scipy>=0.14 in c:\\program files\\anaconda3\\lib\\site-packages (from keras) (1.1.0)\n",
      "Collecting keras-applications>=1.0.6 (from keras)\n",
      "  Downloading https://files.pythonhosted.org/packages/71/e3/19762fdfc62877ae9102edf6342d71b28fbfd9dea3d2f96a882ce099b03f/Keras_Applications-1.0.8-py3-none-any.whl (50kB)\n",
      "Collecting keras-preprocessing>=1.0.5 (from keras)\n",
      "  Downloading https://files.pythonhosted.org/packages/28/6a/8c1f62c37212d9fc441a7e26736df51ce6f0e38455816445471f10da4f0a/Keras_Preprocessing-1.1.0-py2.py3-none-any.whl (41kB)\n",
      "Requirement already satisfied: numpy>=1.9.1 in c:\\program files\\anaconda3\\lib\\site-packages (from keras) (1.14.3)\n",
      "Requirement already satisfied: six>=1.9.0 in c:\\program files\\anaconda3\\lib\\site-packages (from keras) (1.11.0)\n",
      "Installing collected packages: keras-applications, keras-preprocessing, keras\n",
      "Successfully installed keras-2.2.4 keras-applications-1.0.8 keras-preprocessing-1.1.0\n",
      "Collecting tensorflow\n",
      "  Downloading https://files.pythonhosted.org/packages/bf/4a/5c86ed8b245aa48f9f819b13a0a9039e9126ba19fdd0c7e0b8026c12315a/tensorflow-1.14.0-cp36-cp36m-win_amd64.whl (68.3MB)\n",
      "Collecting numpy<2.0,>=1.14.5 (from tensorflow)\n",
      "  Downloading https://files.pythonhosted.org/packages/20/ed/e036d31a9b2c750f270cbb1cfc1c0f94ac78ae504eea7eec3267be4e294a/numpy-1.16.4-cp36-cp36m-win_amd64.whl (11.9MB)\n",
      "Collecting google-pasta>=0.1.6 (from tensorflow)\n",
      "  Downloading https://files.pythonhosted.org/packages/d0/33/376510eb8d6246f3c30545f416b2263eee461e40940c2a4413c711bdf62d/google_pasta-0.1.7-py3-none-any.whl (52kB)\n",
      "Collecting gast>=0.2.0 (from tensorflow)\n",
      "  Downloading https://files.pythonhosted.org/packages/4e/35/11749bf99b2d4e3cceb4d55ca22590b0d7c2c62b9de38ac4a4a7f4687421/gast-0.2.2.tar.gz\n",
      "Collecting absl-py>=0.7.0 (from tensorflow)\n",
      "  Downloading https://files.pythonhosted.org/packages/da/3f/9b0355080b81b15ba6a9ffcf1f5ea39e307a2778b2f2dc8694724e8abd5b/absl-py-0.7.1.tar.gz (99kB)\n",
      "Collecting tensorflow-estimator<1.15.0rc0,>=1.14.0rc0 (from tensorflow)\n",
      "  Downloading https://files.pythonhosted.org/packages/3c/d5/21860a5b11caf0678fbc8319341b0ae21a07156911132e0e71bffed0510d/tensorflow_estimator-1.14.0-py2.py3-none-any.whl (488kB)\n",
      "Requirement already satisfied: wheel>=0.26 in c:\\program files\\anaconda3\\lib\\site-packages (from tensorflow) (0.31.1)\n",
      "Collecting protobuf>=3.6.1 (from tensorflow)\n",
      "  Downloading https://files.pythonhosted.org/packages/d4/59/ec6c6075dd628f2efd33dbe11b259e63e1de7cbc26e45b38de767df528d4/protobuf-3.8.0-cp36-cp36m-win_amd64.whl (1.1MB)\n",
      "Requirement already satisfied: keras-preprocessing>=1.0.5 in c:\\users\\mayingzh\\appdata\\roaming\\python\\python36\\site-packages (from tensorflow) (1.1.0)\n",
      "Collecting tensorboard<1.15.0,>=1.14.0 (from tensorflow)\n",
      "  Downloading https://files.pythonhosted.org/packages/91/2d/2ed263449a078cd9c8a9ba50ebd50123adf1f8cfbea1492f9084169b89d9/tensorboard-1.14.0-py3-none-any.whl (3.1MB)\n",
      "Collecting grpcio>=1.8.6 (from tensorflow)\n",
      "  Downloading https://files.pythonhosted.org/packages/78/93/297ff3656f1073fba84e2f9633ad3b27a007eb59ad22099ac30142f80365/grpcio-1.22.0-cp36-cp36m-win_amd64.whl (1.6MB)\n",
      "Requirement already satisfied: keras-applications>=1.0.6 in c:\\users\\mayingzh\\appdata\\roaming\\python\\python36\\site-packages (from tensorflow) (1.0.8)\n",
      "Collecting astor>=0.6.0 (from tensorflow)\n",
      "  Downloading https://files.pythonhosted.org/packages/d1/4f/950dfae467b384fc96bc6469de25d832534f6b4441033c39f914efd13418/astor-0.8.0-py2.py3-none-any.whl\n",
      "Collecting termcolor>=1.1.0 (from tensorflow)\n",
      "  Downloading https://files.pythonhosted.org/packages/8a/48/a76be51647d0eb9f10e2a4511bf3ffb8cc1e6b14e9e4fab46173aa79f981/termcolor-1.1.0.tar.gz\n",
      "Requirement already satisfied: six>=1.10.0 in c:\\program files\\anaconda3\\lib\\site-packages (from tensorflow) (1.11.0)\n",
      "Collecting wrapt>=1.11.1 (from tensorflow)\n",
      "  Downloading https://files.pythonhosted.org/packages/23/84/323c2415280bc4fc880ac5050dddfb3c8062c2552b34c2e512eb4aa68f79/wrapt-1.11.2.tar.gz\n",
      "Requirement already satisfied: setuptools in c:\\program files\\anaconda3\\lib\\site-packages (from protobuf>=3.6.1->tensorflow) (39.1.0)\n",
      "Collecting markdown>=2.6.8 (from tensorboard<1.15.0,>=1.14.0->tensorflow)\n",
      "  Downloading https://files.pythonhosted.org/packages/c0/4e/fd492e91abdc2d2fcb70ef453064d980688762079397f779758e055f6575/Markdown-3.1.1-py2.py3-none-any.whl (87kB)\n",
      "Requirement already satisfied: werkzeug>=0.11.15 in c:\\program files\\anaconda3\\lib\\site-packages (from tensorboard<1.15.0,>=1.14.0->tensorflow) (0.14.1)\n",
      "Requirement already satisfied: h5py in c:\\program files\\anaconda3\\lib\\site-packages (from keras-applications>=1.0.6->tensorflow) (2.7.1)\n",
      "Building wheels for collected packages: gast, absl-py, termcolor, wrapt\n",
      "  Building wheel for gast (setup.py): started\n",
      "  Building wheel for gast (setup.py): finished with status 'done'\n",
      "  Stored in directory: C:\\Users\\mayingzh\\AppData\\Local\\pip\\Cache\\wheels\\5c\\2e\\7e\\a1d4d4fcebe6c381f378ce7743a3ced3699feb89bcfbdadadd\n",
      "  Building wheel for absl-py (setup.py): started\n",
      "  Building wheel for absl-py (setup.py): finished with status 'done'\n",
      "  Stored in directory: C:\\Users\\mayingzh\\AppData\\Local\\pip\\Cache\\wheels\\ee\\98\\38\\46cbcc5a93cfea5492d19c38562691ddb23b940176c14f7b48\n",
      "  Building wheel for termcolor (setup.py): started\n",
      "  Building wheel for termcolor (setup.py): finished with status 'done'\n",
      "  Stored in directory: C:\\Users\\mayingzh\\AppData\\Local\\pip\\Cache\\wheels\\7c\\06\\54\\bc84598ba1daf8f970247f550b175aaaee85f68b4b0c5ab2c6\n",
      "  Building wheel for wrapt (setup.py): started\n",
      "  Building wheel for wrapt (setup.py): finished with status 'done'\n",
      "  Stored in directory: C:\\Users\\mayingzh\\AppData\\Local\\pip\\Cache\\wheels\\d7\\de\\2e\\efa132238792efb6459a96e85916ef8597fcb3d2ae51590dfd\n",
      "Successfully built gast absl-py termcolor wrapt\n",
      "Installing collected packages: numpy, google-pasta, gast, absl-py, tensorflow-estimator, protobuf, grpcio, markdown, tensorboard, astor, termcolor, wrapt, tensorflow\n",
      "Successfully installed absl-py-0.7.1 astor-0.8.0 gast-0.2.2 google-pasta-0.1.7 grpcio-1.22.0 markdown-3.1.1 numpy-1.16.4 protobuf-3.8.0 tensorboard-1.14.0 tensorflow-1.14.0 tensorflow-estimator-1.14.0 termcolor-1.1.0 wrapt-1.11.2\n"
     ]
    },
    {
     "name": "stderr",
     "output_type": "stream",
     "text": [
      "ERROR: tensorboard 1.14.0 has requirement setuptools>=41.0.0, but you'll have setuptools 39.1.0 which is incompatible.\n",
      "  WARNING: The script f2py.exe is installed in 'C:\\Users\\mayingzh\\AppData\\Roaming\\Python\\Python36\\Scripts' which is not on PATH.\n",
      "  Consider adding this directory to PATH or, if you prefer to suppress this warning, use --no-warn-script-location.\n",
      "  WARNING: The script markdown_py.exe is installed in 'C:\\Users\\mayingzh\\AppData\\Roaming\\Python\\Python36\\Scripts' which is not on PATH.\n",
      "  Consider adding this directory to PATH or, if you prefer to suppress this warning, use --no-warn-script-location.\n",
      "  WARNING: The script tensorboard.exe is installed in 'C:\\Users\\mayingzh\\AppData\\Roaming\\Python\\Python36\\Scripts' which is not on PATH.\n",
      "  Consider adding this directory to PATH or, if you prefer to suppress this warning, use --no-warn-script-location.\n",
      "  WARNING: The scripts freeze_graph.exe, saved_model_cli.exe, tensorboard.exe, tf_upgrade_v2.exe, tflite_convert.exe, toco.exe and toco_from_protos.exe are installed in 'C:\\Users\\mayingzh\\AppData\\Roaming\\Python\\Python36\\Scripts' which is not on PATH.\n",
      "  Consider adding this directory to PATH or, if you prefer to suppress this warning, use --no-warn-script-location.\n"
     ]
    },
    {
     "name": "stdout",
     "output_type": "stream",
     "text": [
      "Requirement already up-to-date: numpy in c:\\users\\mayingzh\\appdata\\roaming\\python\\python36\\site-packages (1.16.4)\n"
     ]
    }
   ],
   "source": [
    "!python -m pip install --user --upgrade pip\n",
    "!pip install --user keras\n",
    "!pip install --user tensorflow\n",
    "!pip install --user -U numpy"
   ]
  },
  {
   "cell_type": "code",
   "execution_count": 3,
   "metadata": {},
   "outputs": [],
   "source": [
    "# Use CPU only\n",
    "# Only Macbook needs to run this cell\n",
    "import os\n",
    "os.environ[\"CUDA_DEVICE_ORDER\"] = \"PCI_BUS_ID\" \n",
    "os.environ[\"CUDA_VISIBLE_DEVICES\"] = \"\""
   ]
  },
  {
   "cell_type": "code",
   "execution_count": 1,
   "metadata": {},
   "outputs": [
    {
     "name": "stderr",
     "output_type": "stream",
     "text": [
      "C:\\Program Files\\Anaconda3\\lib\\site-packages\\h5py\\__init__.py:36: FutureWarning: Conversion of the second argument of issubdtype from `float` to `np.floating` is deprecated. In future, it will be treated as `np.float64 == np.dtype(float).type`.\n",
      "  from ._conv import register_converters as _register_converters\n",
      "Using TensorFlow backend.\n"
     ]
    }
   ],
   "source": [
    "import pandas as pd\n",
    "from keras.models import Sequential\n",
    "from keras.layers import Dense, Dropout\n",
    "from sklearn.model_selection import train_test_split\n",
    "from keras.callbacks import EarlyStopping\n",
    "from sklearn import preprocessing\n",
    "import matplotlib.pyplot as plt"
   ]
  },
  {
   "cell_type": "markdown",
   "metadata": {},
   "source": [
    "## Load data and do data normalization"
   ]
  },
  {
   "cell_type": "code",
   "execution_count": 2,
   "metadata": {},
   "outputs": [
    {
     "data": {
      "text/html": [
       "<div>\n",
       "<style scoped>\n",
       "    .dataframe tbody tr th:only-of-type {\n",
       "        vertical-align: middle;\n",
       "    }\n",
       "\n",
       "    .dataframe tbody tr th {\n",
       "        vertical-align: top;\n",
       "    }\n",
       "\n",
       "    .dataframe thead th {\n",
       "        text-align: right;\n",
       "    }\n",
       "</style>\n",
       "<table border=\"1\" class=\"dataframe\">\n",
       "  <thead>\n",
       "    <tr style=\"text-align: right;\">\n",
       "      <th></th>\n",
       "      <th>ticker</th>\n",
       "      <th>date</th>\n",
       "      <th>exdate</th>\n",
       "      <th>maturity</th>\n",
       "      <th>strike_price</th>\n",
       "      <th>best_offer</th>\n",
       "      <th>volatility</th>\n",
       "      <th>underlying_price</th>\n",
       "      <th>interest_rate</th>\n",
       "      <th>cp_flag_C</th>\n",
       "      <th>cp_flag_P</th>\n",
       "    </tr>\n",
       "  </thead>\n",
       "  <tbody>\n",
       "    <tr>\n",
       "      <th>0</th>\n",
       "      <td>AXP</td>\n",
       "      <td>2013-01-02</td>\n",
       "      <td>2013-01-04</td>\n",
       "      <td>2</td>\n",
       "      <td>40.0</td>\n",
       "      <td>20.4</td>\n",
       "      <td>0.170513</td>\n",
       "      <td>58.75</td>\n",
       "      <td>0.0008</td>\n",
       "      <td>1</td>\n",
       "      <td>0</td>\n",
       "    </tr>\n",
       "    <tr>\n",
       "      <th>1</th>\n",
       "      <td>AXP</td>\n",
       "      <td>2013-01-02</td>\n",
       "      <td>2013-01-04</td>\n",
       "      <td>2</td>\n",
       "      <td>44.0</td>\n",
       "      <td>15.4</td>\n",
       "      <td>0.170513</td>\n",
       "      <td>58.75</td>\n",
       "      <td>0.0008</td>\n",
       "      <td>1</td>\n",
       "      <td>0</td>\n",
       "    </tr>\n",
       "    <tr>\n",
       "      <th>2</th>\n",
       "      <td>AXP</td>\n",
       "      <td>2013-01-02</td>\n",
       "      <td>2013-01-04</td>\n",
       "      <td>2</td>\n",
       "      <td>45.0</td>\n",
       "      <td>14.4</td>\n",
       "      <td>0.170513</td>\n",
       "      <td>58.75</td>\n",
       "      <td>0.0008</td>\n",
       "      <td>1</td>\n",
       "      <td>0</td>\n",
       "    </tr>\n",
       "    <tr>\n",
       "      <th>3</th>\n",
       "      <td>AXP</td>\n",
       "      <td>2013-01-02</td>\n",
       "      <td>2013-01-04</td>\n",
       "      <td>2</td>\n",
       "      <td>46.0</td>\n",
       "      <td>13.4</td>\n",
       "      <td>0.170513</td>\n",
       "      <td>58.75</td>\n",
       "      <td>0.0008</td>\n",
       "      <td>1</td>\n",
       "      <td>0</td>\n",
       "    </tr>\n",
       "    <tr>\n",
       "      <th>4</th>\n",
       "      <td>AXP</td>\n",
       "      <td>2013-01-02</td>\n",
       "      <td>2013-01-04</td>\n",
       "      <td>2</td>\n",
       "      <td>47.0</td>\n",
       "      <td>12.4</td>\n",
       "      <td>0.170513</td>\n",
       "      <td>58.75</td>\n",
       "      <td>0.0008</td>\n",
       "      <td>1</td>\n",
       "      <td>0</td>\n",
       "    </tr>\n",
       "  </tbody>\n",
       "</table>\n",
       "</div>"
      ],
      "text/plain": [
       "  ticker        date      exdate  maturity  strike_price  best_offer  \\\n",
       "0    AXP  2013-01-02  2013-01-04         2          40.0        20.4   \n",
       "1    AXP  2013-01-02  2013-01-04         2          44.0        15.4   \n",
       "2    AXP  2013-01-02  2013-01-04         2          45.0        14.4   \n",
       "3    AXP  2013-01-02  2013-01-04         2          46.0        13.4   \n",
       "4    AXP  2013-01-02  2013-01-04         2          47.0        12.4   \n",
       "\n",
       "   volatility  underlying_price  interest_rate  cp_flag_C  cp_flag_P  \n",
       "0    0.170513             58.75         0.0008          1          0  \n",
       "1    0.170513             58.75         0.0008          1          0  \n",
       "2    0.170513             58.75         0.0008          1          0  \n",
       "3    0.170513             58.75         0.0008          1          0  \n",
       "4    0.170513             58.75         0.0008          1          0  "
      ]
     },
     "execution_count": 2,
     "metadata": {},
     "output_type": "execute_result"
    }
   ],
   "source": [
    "df = pd.read_csv('Options_R.csv')\n",
    "df.head()"
   ]
  },
  {
   "cell_type": "code",
   "execution_count": 8,
   "metadata": {},
   "outputs": [],
   "source": [
    "df = df[df['volatility'].notnull()]"
   ]
  },
  {
   "cell_type": "code",
   "execution_count": 9,
   "metadata": {},
   "outputs": [],
   "source": [
    "y = df['best_offer'].values\n",
    "X = df[['maturity', 'strike_price', 'underlying_price', 'volatility', 'cp_flag_C', 'cp_flag_P', 'interest_rate']]"
   ]
  },
  {
   "cell_type": "code",
   "execution_count": 10,
   "metadata": {},
   "outputs": [],
   "source": [
    "# Normalize the data to build a regression neural network model\n",
    "sc= preprocessing.MinMaxScaler()\n",
    "X= sc.fit_transform(X)\n",
    "y= y.reshape(-1,1)\n",
    "y=sc.fit_transform(y)"
   ]
  },
  {
   "cell_type": "code",
   "execution_count": 11,
   "metadata": {},
   "outputs": [],
   "source": [
    "X_train, X_test, y_train, y_test = train_test_split(X, y, test_size=0.2, random_state=42)"
   ]
  },
  {
   "cell_type": "code",
   "execution_count": 12,
   "metadata": {},
   "outputs": [
    {
     "name": "stdout",
     "output_type": "stream",
     "text": [
      "(1079819, 7)\n",
      "(1079819, 1)\n"
     ]
    }
   ],
   "source": [
    "print(X_train.shape)\n",
    "print(y_train.shape)"
   ]
  },
  {
   "cell_type": "code",
   "execution_count": 13,
   "metadata": {},
   "outputs": [],
   "source": [
    "XX_train, XX_validation, yy_train, yy_validation = train_test_split(X_train, y_train, test_size=0.2, random_state=42)"
   ]
  },
  {
   "cell_type": "markdown",
   "metadata": {},
   "source": [
    "## Build a keras Sequential model"
   ]
  },
  {
   "cell_type": "code",
   "execution_count": 14,
   "metadata": {},
   "outputs": [
    {
     "name": "stderr",
     "output_type": "stream",
     "text": [
      "WARNING: Logging before flag parsing goes to stderr.\n",
      "W0703 20:54:55.305389  8584 deprecation_wrapper.py:119] From C:\\Users\\mayingzh\\AppData\\Roaming\\Python\\Python36\\site-packages\\keras\\backend\\tensorflow_backend.py:74: The name tf.get_default_graph is deprecated. Please use tf.compat.v1.get_default_graph instead.\n",
      "\n",
      "W0703 20:54:55.320410  8584 deprecation_wrapper.py:119] From C:\\Users\\mayingzh\\AppData\\Roaming\\Python\\Python36\\site-packages\\keras\\backend\\tensorflow_backend.py:517: The name tf.placeholder is deprecated. Please use tf.compat.v1.placeholder instead.\n",
      "\n",
      "W0703 20:54:55.325403  8584 deprecation_wrapper.py:119] From C:\\Users\\mayingzh\\AppData\\Roaming\\Python\\Python36\\site-packages\\keras\\backend\\tensorflow_backend.py:4138: The name tf.random_uniform is deprecated. Please use tf.random.uniform instead.\n",
      "\n"
     ]
    }
   ],
   "source": [
    "# Built Keras sequential model with 3 hidden layer, and after the first hidden layer.\n",
    "model = Sequential([\n",
    "    Dense(64, activation='relu', input_shape=(7,)),\n",
    "    Dense(128, activation='relu'),\n",
    "    Dense(64, activation='relu'),\n",
    "    Dense(1, activation='linear'),\n",
    "])"
   ]
  },
  {
   "cell_type": "code",
   "execution_count": 15,
   "metadata": {},
   "outputs": [],
   "source": [
    "# Enable early stopping based on the loss of validation data\n",
    "es = EarlyStopping(monitor='val_loss', mode='auto', verbose=1, patience=25)"
   ]
  },
  {
   "cell_type": "code",
   "execution_count": 16,
   "metadata": {},
   "outputs": [],
   "source": [
    "# Because it is a simple regression problem, we should custom metrics function\n",
    "from keras import backend as K\n",
    "def rmse(y_true, y_pred):\n",
    "    return K.sqrt(K.mean(K.square(y_pred - y_true), axis = -1))\n",
    "\n",
    "def r_square(y_true, y_pred):\n",
    "    SS_res =  K.sum(K.square(y_true - y_pred)) \n",
    "    SS_tot = K.sum(K.square(y_true - K.mean(y_true))) \n",
    "    return (1 - SS_res/(SS_tot + K.epsilon()))"
   ]
  },
  {
   "cell_type": "code",
   "execution_count": 17,
   "metadata": {},
   "outputs": [
    {
     "name": "stderr",
     "output_type": "stream",
     "text": [
      "W0703 20:55:01.351735  8584 deprecation_wrapper.py:119] From C:\\Users\\mayingzh\\AppData\\Roaming\\Python\\Python36\\site-packages\\keras\\optimizers.py:790: The name tf.train.Optimizer is deprecated. Please use tf.compat.v1.train.Optimizer instead.\n",
      "\n"
     ]
    }
   ],
   "source": [
    "# use mean_squared_error to compile regression model loss\n",
    "model.compile(\n",
    "  optimizer='adam',\n",
    "  loss='mse',\n",
    "  metrics=[rmse, r_square],\n",
    ")"
   ]
  },
  {
   "cell_type": "code",
   "execution_count": 18,
   "metadata": {},
   "outputs": [
    {
     "name": "stderr",
     "output_type": "stream",
     "text": [
      "W0703 20:55:04.486424  8584 deprecation_wrapper.py:119] From C:\\Users\\mayingzh\\AppData\\Roaming\\Python\\Python36\\site-packages\\keras\\backend\\tensorflow_backend.py:986: The name tf.assign_add is deprecated. Please use tf.compat.v1.assign_add instead.\n",
      "\n",
      "W0703 20:55:04.570343  8584 deprecation_wrapper.py:119] From C:\\Users\\mayingzh\\AppData\\Roaming\\Python\\Python36\\site-packages\\keras\\backend\\tensorflow_backend.py:973: The name tf.assign is deprecated. Please use tf.compat.v1.assign instead.\n",
      "\n"
     ]
    },
    {
     "name": "stdout",
     "output_type": "stream",
     "text": [
      "Train on 863855 samples, validate on 215964 samples\n",
      "Epoch 1/200\n",
      "863855/863855 [==============================] - 5s 5us/step - loss: 1.6444e-04 - rmse: 0.0056 - r_square: 0.9876 - val_loss: 2.5155e-05 - val_rmse: 0.0038 - val_r_square: 0.9981\n",
      "Epoch 2/200\n",
      "863855/863855 [==============================] - 4s 5us/step - loss: 2.3841e-05 - rmse: 0.0035 - r_square: 0.9982 - val_loss: 1.5990e-05 - val_rmse: 0.0029 - val_r_square: 0.9988\n",
      "Epoch 3/200\n",
      "863855/863855 [==============================] - 4s 5us/step - loss: 2.0503e-05 - rmse: 0.0032 - r_square: 0.9984 - val_loss: 1.7168e-05 - val_rmse: 0.0029 - val_r_square: 0.9987\n",
      "Epoch 4/200\n",
      "863855/863855 [==============================] - 4s 5us/step - loss: 1.8513e-05 - rmse: 0.0030 - r_square: 0.9986 - val_loss: 1.4049e-05 - val_rmse: 0.0024 - val_r_square: 0.9989\n",
      "Epoch 5/200\n",
      "863855/863855 [==============================] - 4s 5us/step - loss: 1.7200e-05 - rmse: 0.0029 - r_square: 0.9987 - val_loss: 1.4151e-05 - val_rmse: 0.0024 - val_r_square: 0.9989\n",
      "Epoch 6/200\n",
      "863855/863855 [==============================] - 4s 5us/step - loss: 1.6344e-05 - rmse: 0.0028 - r_square: 0.9987 - val_loss: 1.3761e-05 - val_rmse: 0.0024 - val_r_square: 0.9990\n",
      "Epoch 7/200\n",
      "863855/863855 [==============================] - 4s 5us/step - loss: 1.5712e-05 - rmse: 0.0027 - r_square: 0.9988 - val_loss: 1.4882e-05 - val_rmse: 0.0024 - val_r_square: 0.9989\n",
      "Epoch 8/200\n",
      "863855/863855 [==============================] - 4s 5us/step - loss: 1.5049e-05 - rmse: 0.0026 - r_square: 0.9988 - val_loss: 1.2666e-05 - val_rmse: 0.0023 - val_r_square: 0.9990\n",
      "Epoch 9/200\n",
      "863855/863855 [==============================] - 4s 5us/step - loss: 1.4494e-05 - rmse: 0.0025 - r_square: 0.9989 - val_loss: 1.2870e-05 - val_rmse: 0.0023 - val_r_square: 0.9990\n",
      "Epoch 10/200\n",
      "863855/863855 [==============================] - 4s 5us/step - loss: 1.4219e-05 - rmse: 0.0025 - r_square: 0.9989 - val_loss: 1.2180e-05 - val_rmse: 0.0023 - val_r_square: 0.9991\n",
      "Epoch 11/200\n",
      "863855/863855 [==============================] - 4s 5us/step - loss: 1.3820e-05 - rmse: 0.0025 - r_square: 0.9989 - val_loss: 1.6146e-05 - val_rmse: 0.0025 - val_r_square: 0.9988\n",
      "Epoch 12/200\n",
      "863855/863855 [==============================] - 4s 5us/step - loss: 1.3735e-05 - rmse: 0.0025 - r_square: 0.9989 - val_loss: 1.2520e-05 - val_rmse: 0.0024 - val_r_square: 0.9991\n",
      "Epoch 13/200\n",
      "863855/863855 [==============================] - 4s 5us/step - loss: 1.3347e-05 - rmse: 0.0024 - r_square: 0.9990 - val_loss: 1.4263e-05 - val_rmse: 0.0024 - val_r_square: 0.9989\n",
      "Epoch 14/200\n",
      "863855/863855 [==============================] - 4s 5us/step - loss: 1.3206e-05 - rmse: 0.0024 - r_square: 0.9990 - val_loss: 1.3708e-05 - val_rmse: 0.0025 - val_r_square: 0.9990\n",
      "Epoch 15/200\n",
      "863855/863855 [==============================] - 4s 5us/step - loss: 1.3076e-05 - rmse: 0.0024 - r_square: 0.9990 - val_loss: 1.5115e-05 - val_rmse: 0.0026 - val_r_square: 0.9989\n",
      "Epoch 16/200\n",
      "863855/863855 [==============================] - 5s 5us/step - loss: 1.2916e-05 - rmse: 0.0024 - r_square: 0.9990 - val_loss: 1.1198e-05 - val_rmse: 0.0022 - val_r_square: 0.9991\n",
      "Epoch 17/200\n",
      "863855/863855 [==============================] - 4s 5us/step - loss: 1.2574e-05 - rmse: 0.0023 - r_square: 0.9990 - val_loss: 1.2710e-05 - val_rmse: 0.0022 - val_r_square: 0.9990\n",
      "Epoch 18/200\n",
      "863855/863855 [==============================] - 4s 5us/step - loss: 1.2432e-05 - rmse: 0.0023 - r_square: 0.9990 - val_loss: 1.5356e-05 - val_rmse: 0.0027 - val_r_square: 0.9988\n",
      "Epoch 19/200\n",
      "863855/863855 [==============================] - 4s 5us/step - loss: 1.2300e-05 - rmse: 0.0023 - r_square: 0.9991 - val_loss: 1.2254e-05 - val_rmse: 0.0022 - val_r_square: 0.9991\n",
      "Epoch 20/200\n",
      "863855/863855 [==============================] - 4s 5us/step - loss: 1.2323e-05 - rmse: 0.0023 - r_square: 0.9991 - val_loss: 1.1652e-05 - val_rmse: 0.0024 - val_r_square: 0.9991\n",
      "Epoch 21/200\n",
      "863855/863855 [==============================] - 4s 5us/step - loss: 1.2222e-05 - rmse: 0.0023 - r_square: 0.9991 - val_loss: 1.3179e-05 - val_rmse: 0.0024 - val_r_square: 0.9990\n",
      "Epoch 22/200\n",
      "863855/863855 [==============================] - 4s 5us/step - loss: 1.2035e-05 - rmse: 0.0023 - r_square: 0.9991 - val_loss: 1.0410e-05 - val_rmse: 0.0020 - val_r_square: 0.9992\n",
      "Epoch 23/200\n",
      "863855/863855 [==============================] - 4s 5us/step - loss: 1.1758e-05 - rmse: 0.0022 - r_square: 0.9991 - val_loss: 1.0959e-05 - val_rmse: 0.0021 - val_r_square: 0.9992\n",
      "Epoch 24/200\n",
      "863855/863855 [==============================] - 4s 5us/step - loss: 1.1817e-05 - rmse: 0.0022 - r_square: 0.9991 - val_loss: 1.1746e-05 - val_rmse: 0.0023 - val_r_square: 0.9991\n",
      "Epoch 25/200\n",
      "863855/863855 [==============================] - 4s 5us/step - loss: 1.1724e-05 - rmse: 0.0022 - r_square: 0.9991 - val_loss: 1.3227e-05 - val_rmse: 0.0023 - val_r_square: 0.9990\n",
      "Epoch 26/200\n",
      "863855/863855 [==============================] - 4s 5us/step - loss: 1.1682e-05 - rmse: 0.0022 - r_square: 0.9991 - val_loss: 1.1905e-05 - val_rmse: 0.0022 - val_r_square: 0.9991\n",
      "Epoch 27/200\n",
      "863855/863855 [==============================] - 4s 5us/step - loss: 1.1519e-05 - rmse: 0.0022 - r_square: 0.9991 - val_loss: 1.8624e-05 - val_rmse: 0.0028 - val_r_square: 0.9986\n",
      "Epoch 28/200\n",
      "863855/863855 [==============================] - 4s 5us/step - loss: 1.1505e-05 - rmse: 0.0022 - r_square: 0.9991 - val_loss: 1.1197e-05 - val_rmse: 0.0022 - val_r_square: 0.9992\n",
      "Epoch 29/200\n",
      "863855/863855 [==============================] - 4s 5us/step - loss: 1.1372e-05 - rmse: 0.0022 - r_square: 0.9991 - val_loss: 1.4258e-05 - val_rmse: 0.0024 - val_r_square: 0.9989\n",
      "Epoch 30/200\n",
      "863855/863855 [==============================] - 4s 5us/step - loss: 1.1355e-05 - rmse: 0.0022 - r_square: 0.9991 - val_loss: 1.1083e-05 - val_rmse: 0.0023 - val_r_square: 0.9992\n",
      "Epoch 31/200\n",
      "863855/863855 [==============================] - 4s 5us/step - loss: 1.1260e-05 - rmse: 0.0022 - r_square: 0.9991 - val_loss: 1.2037e-05 - val_rmse: 0.0024 - val_r_square: 0.9991\n",
      "Epoch 32/200\n",
      "863855/863855 [==============================] - 4s 5us/step - loss: 1.1337e-05 - rmse: 0.0022 - r_square: 0.9991 - val_loss: 1.0015e-05 - val_rmse: 0.0020 - val_r_square: 0.9992\n",
      "Epoch 33/200\n",
      "863855/863855 [==============================] - 4s 5us/step - loss: 1.1103e-05 - rmse: 0.0022 - r_square: 0.9991 - val_loss: 1.8856e-05 - val_rmse: 0.0032 - val_r_square: 0.9986\n",
      "Epoch 34/200\n",
      "863855/863855 [==============================] - 4s 5us/step - loss: 1.1142e-05 - rmse: 0.0022 - r_square: 0.9991 - val_loss: 1.1537e-05 - val_rmse: 0.0022 - val_r_square: 0.9991\n",
      "Epoch 35/200\n",
      "863855/863855 [==============================] - 4s 5us/step - loss: 1.1028e-05 - rmse: 0.0021 - r_square: 0.9992 - val_loss: 1.0711e-05 - val_rmse: 0.0022 - val_r_square: 0.9992\n",
      "Epoch 36/200\n",
      "863855/863855 [==============================] - 4s 5us/step - loss: 1.0995e-05 - rmse: 0.0021 - r_square: 0.9992 - val_loss: 1.0505e-05 - val_rmse: 0.0021 - val_r_square: 0.9992\n",
      "Epoch 37/200\n",
      "863855/863855 [==============================] - 4s 5us/step - loss: 1.0945e-05 - rmse: 0.0021 - r_square: 0.9992 - val_loss: 1.1273e-05 - val_rmse: 0.0023 - val_r_square: 0.9991\n",
      "Epoch 38/200\n",
      "863855/863855 [==============================] - 4s 5us/step - loss: 1.0981e-05 - rmse: 0.0021 - r_square: 0.9992 - val_loss: 1.0112e-05 - val_rmse: 0.0020 - val_r_square: 0.9992\n",
      "Epoch 39/200\n",
      "863855/863855 [==============================] - 4s 5us/step - loss: 1.0912e-05 - rmse: 0.0021 - r_square: 0.9992 - val_loss: 1.0047e-05 - val_rmse: 0.0020 - val_r_square: 0.9992\n",
      "Epoch 40/200\n",
      "863855/863855 [==============================] - 4s 5us/step - loss: 1.0906e-05 - rmse: 0.0021 - r_square: 0.9992 - val_loss: 1.4360e-05 - val_rmse: 0.0024 - val_r_square: 0.9989\n",
      "Epoch 41/200\n",
      "863855/863855 [==============================] - 4s 5us/step - loss: 1.0741e-05 - rmse: 0.0021 - r_square: 0.9992 - val_loss: 1.0087e-05 - val_rmse: 0.0020 - val_r_square: 0.9992\n",
      "Epoch 42/200\n",
      "863855/863855 [==============================] - 4s 5us/step - loss: 1.0767e-05 - rmse: 0.0021 - r_square: 0.9992 - val_loss: 1.0712e-05 - val_rmse: 0.0021 - val_r_square: 0.9992\n",
      "Epoch 43/200\n"
     ]
    },
    {
     "name": "stdout",
     "output_type": "stream",
     "text": [
      "863855/863855 [==============================] - 4s 5us/step - loss: 1.0667e-05 - rmse: 0.0021 - r_square: 0.9992 - val_loss: 1.0648e-05 - val_rmse: 0.0021 - val_r_square: 0.9992\n",
      "Epoch 44/200\n",
      "863855/863855 [==============================] - 4s 5us/step - loss: 1.0667e-05 - rmse: 0.0021 - r_square: 0.9992 - val_loss: 9.6013e-06 - val_rmse: 0.0019 - val_r_square: 0.9993\n",
      "Epoch 45/200\n",
      "863855/863855 [==============================] - 4s 5us/step - loss: 1.0657e-05 - rmse: 0.0021 - r_square: 0.9992 - val_loss: 1.0146e-05 - val_rmse: 0.0020 - val_r_square: 0.9992\n",
      "Epoch 46/200\n",
      "863855/863855 [==============================] - 4s 5us/step - loss: 1.0537e-05 - rmse: 0.0021 - r_square: 0.9992 - val_loss: 1.2308e-05 - val_rmse: 0.0024 - val_r_square: 0.9991\n",
      "Epoch 47/200\n",
      "863855/863855 [==============================] - 4s 5us/step - loss: 1.0641e-05 - rmse: 0.0021 - r_square: 0.9992 - val_loss: 1.0303e-05 - val_rmse: 0.0021 - val_r_square: 0.9992\n",
      "Epoch 48/200\n",
      "863855/863855 [==============================] - 4s 5us/step - loss: 1.0626e-05 - rmse: 0.0021 - r_square: 0.9992 - val_loss: 1.0526e-05 - val_rmse: 0.0021 - val_r_square: 0.9992\n",
      "Epoch 49/200\n",
      "863855/863855 [==============================] - 4s 5us/step - loss: 1.0447e-05 - rmse: 0.0021 - r_square: 0.9992 - val_loss: 1.1329e-05 - val_rmse: 0.0021 - val_r_square: 0.9991\n",
      "Epoch 50/200\n",
      "863855/863855 [==============================] - 4s 5us/step - loss: 1.0487e-05 - rmse: 0.0021 - r_square: 0.9992 - val_loss: 1.4915e-05 - val_rmse: 0.0025 - val_r_square: 0.9989\n",
      "Epoch 51/200\n",
      "863855/863855 [==============================] - 4s 5us/step - loss: 1.0458e-05 - rmse: 0.0021 - r_square: 0.9992 - val_loss: 9.7343e-06 - val_rmse: 0.0019 - val_r_square: 0.9993\n",
      "Epoch 52/200\n",
      "863855/863855 [==============================] - 4s 5us/step - loss: 1.0414e-05 - rmse: 0.0021 - r_square: 0.9992 - val_loss: 1.1646e-05 - val_rmse: 0.0021 - val_r_square: 0.9991\n",
      "Epoch 53/200\n",
      "863855/863855 [==============================] - 4s 5us/step - loss: 1.0422e-05 - rmse: 0.0021 - r_square: 0.9992 - val_loss: 1.0365e-05 - val_rmse: 0.0021 - val_r_square: 0.9992\n",
      "Epoch 54/200\n",
      "863855/863855 [==============================] - 4s 5us/step - loss: 1.0387e-05 - rmse: 0.0021 - r_square: 0.9992 - val_loss: 1.1165e-05 - val_rmse: 0.0020 - val_r_square: 0.9992\n",
      "Epoch 55/200\n",
      "863855/863855 [==============================] - 4s 5us/step - loss: 1.0382e-05 - rmse: 0.0021 - r_square: 0.9992 - val_loss: 1.0598e-05 - val_rmse: 0.0022 - val_r_square: 0.9992\n",
      "Epoch 56/200\n",
      "863855/863855 [==============================] - 4s 4us/step - loss: 1.0321e-05 - rmse: 0.0021 - r_square: 0.9992 - val_loss: 1.1048e-05 - val_rmse: 0.0022 - val_r_square: 0.9992\n",
      "Epoch 57/200\n",
      "863855/863855 [==============================] - 4s 4us/step - loss: 1.0235e-05 - rmse: 0.0021 - r_square: 0.9992 - val_loss: 1.0284e-05 - val_rmse: 0.0021 - val_r_square: 0.9992\n",
      "Epoch 58/200\n",
      "863855/863855 [==============================] - 4s 5us/step - loss: 1.0210e-05 - rmse: 0.0021 - r_square: 0.9992 - val_loss: 9.9363e-06 - val_rmse: 0.0020 - val_r_square: 0.9992\n",
      "Epoch 59/200\n",
      "863855/863855 [==============================] - 4s 5us/step - loss: 1.0205e-05 - rmse: 0.0021 - r_square: 0.9992 - val_loss: 9.8956e-06 - val_rmse: 0.0020 - val_r_square: 0.9992\n",
      "Epoch 60/200\n",
      "863855/863855 [==============================] - 4s 5us/step - loss: 1.0274e-05 - rmse: 0.0021 - r_square: 0.9992 - val_loss: 9.5413e-06 - val_rmse: 0.0020 - val_r_square: 0.9993\n",
      "Epoch 61/200\n",
      "863855/863855 [==============================] - 4s 5us/step - loss: 1.0154e-05 - rmse: 0.0020 - r_square: 0.9992 - val_loss: 1.2657e-05 - val_rmse: 0.0024 - val_r_square: 0.9990\n",
      "Epoch 62/200\n",
      "863855/863855 [==============================] - 4s 5us/step - loss: 1.0222e-05 - rmse: 0.0021 - r_square: 0.9992 - val_loss: 1.4049e-05 - val_rmse: 0.0025 - val_r_square: 0.9989\n",
      "Epoch 63/200\n",
      "863855/863855 [==============================] - 4s 5us/step - loss: 1.0093e-05 - rmse: 0.0020 - r_square: 0.9992 - val_loss: 9.8334e-06 - val_rmse: 0.0020 - val_r_square: 0.9993\n",
      "Epoch 64/200\n",
      "863855/863855 [==============================] - 4s 5us/step - loss: 1.0096e-05 - rmse: 0.0020 - r_square: 0.9992 - val_loss: 9.6331e-06 - val_rmse: 0.0019 - val_r_square: 0.9993\n",
      "Epoch 65/200\n",
      "863855/863855 [==============================] - 4s 5us/step - loss: 1.0087e-05 - rmse: 0.0020 - r_square: 0.9992 - val_loss: 9.7054e-06 - val_rmse: 0.0020 - val_r_square: 0.9993\n",
      "Epoch 66/200\n",
      "863855/863855 [==============================] - 5s 6us/step - loss: 1.0158e-05 - rmse: 0.0020 - r_square: 0.9992 - val_loss: 9.8724e-06 - val_rmse: 0.0020 - val_r_square: 0.9993\n",
      "Epoch 67/200\n",
      "863855/863855 [==============================] - 6s 7us/step - loss: 1.0072e-05 - rmse: 0.0020 - r_square: 0.9992 - val_loss: 1.2385e-05 - val_rmse: 0.0023 - val_r_square: 0.9991\n",
      "Epoch 68/200\n",
      "863855/863855 [==============================] - 5s 6us/step - loss: 1.0140e-05 - rmse: 0.0020 - r_square: 0.9992 - val_loss: 1.0220e-05 - val_rmse: 0.0020 - val_r_square: 0.9992\n",
      "Epoch 69/200\n",
      "863855/863855 [==============================] - 5s 5us/step - loss: 9.9810e-06 - rmse: 0.0020 - r_square: 0.9992 - val_loss: 9.1893e-06 - val_rmse: 0.0019 - val_r_square: 0.9993\n",
      "Epoch 70/200\n",
      "863855/863855 [==============================] - 5s 5us/step - loss: 1.0057e-05 - rmse: 0.0020 - r_square: 0.9992 - val_loss: 1.2052e-05 - val_rmse: 0.0024 - val_r_square: 0.9991\n",
      "Epoch 71/200\n",
      "863855/863855 [==============================] - 5s 6us/step - loss: 1.0054e-05 - rmse: 0.0020 - r_square: 0.9992 - val_loss: 1.0922e-05 - val_rmse: 0.0022 - val_r_square: 0.9992\n",
      "Epoch 72/200\n",
      "863855/863855 [==============================] - 7s 8us/step - loss: 1.0007e-05 - rmse: 0.0020 - r_square: 0.9992 - val_loss: 1.2385e-05 - val_rmse: 0.0023 - val_r_square: 0.9991\n",
      "Epoch 73/200\n",
      "863855/863855 [==============================] - 4s 5us/step - loss: 1.0012e-05 - rmse: 0.0020 - r_square: 0.9992 - val_loss: 1.0138e-05 - val_rmse: 0.0021 - val_r_square: 0.9992\n",
      "Epoch 74/200\n",
      "863855/863855 [==============================] - 4s 5us/step - loss: 1.0014e-05 - rmse: 0.0020 - r_square: 0.9992 - val_loss: 1.2356e-05 - val_rmse: 0.0023 - val_r_square: 0.9991\n",
      "Epoch 75/200\n",
      "863855/863855 [==============================] - 4s 5us/step - loss: 9.8619e-06 - rmse: 0.0020 - r_square: 0.9992 - val_loss: 1.3992e-05 - val_rmse: 0.0024 - val_r_square: 0.9989\n",
      "Epoch 76/200\n",
      "863855/863855 [==============================] - 4s 5us/step - loss: 1.0017e-05 - rmse: 0.0020 - r_square: 0.9992 - val_loss: 9.6099e-06 - val_rmse: 0.0020 - val_r_square: 0.9993\n",
      "Epoch 77/200\n",
      "863855/863855 [==============================] - 4s 5us/step - loss: 9.9320e-06 - rmse: 0.0020 - r_square: 0.9992 - val_loss: 1.0756e-05 - val_rmse: 0.0021 - val_r_square: 0.9992\n",
      "Epoch 78/200\n",
      "863855/863855 [==============================] - 4s 5us/step - loss: 9.8974e-06 - rmse: 0.0020 - r_square: 0.9992 - val_loss: 1.0381e-05 - val_rmse: 0.0021 - val_r_square: 0.9992\n",
      "Epoch 79/200\n",
      "863855/863855 [==============================] - 4s 5us/step - loss: 9.8881e-06 - rmse: 0.0020 - r_square: 0.9992 - val_loss: 9.2161e-06 - val_rmse: 0.0019 - val_r_square: 0.9993\n",
      "Epoch 80/200\n",
      "863855/863855 [==============================] - 4s 5us/step - loss: 9.8292e-06 - rmse: 0.0020 - r_square: 0.9992 - val_loss: 9.4782e-06 - val_rmse: 0.0021 - val_r_square: 0.9993\n",
      "Epoch 81/200\n",
      "863855/863855 [==============================] - 4s 5us/step - loss: 9.8148e-06 - rmse: 0.0020 - r_square: 0.9992 - val_loss: 8.8052e-06 - val_rmse: 0.0019 - val_r_square: 0.9993\n",
      "Epoch 82/200\n",
      "863855/863855 [==============================] - 4s 5us/step - loss: 9.8431e-06 - rmse: 0.0020 - r_square: 0.9992 - val_loss: 9.6315e-06 - val_rmse: 0.0020 - val_r_square: 0.9993\n",
      "Epoch 83/200\n",
      "863855/863855 [==============================] - 4s 5us/step - loss: 9.7850e-06 - rmse: 0.0020 - r_square: 0.9993 - val_loss: 9.0320e-06 - val_rmse: 0.0019 - val_r_square: 0.9993\n",
      "Epoch 84/200\n",
      "863855/863855 [==============================] - 4s 5us/step - loss: 9.7915e-06 - rmse: 0.0020 - r_square: 0.9993 - val_loss: 9.7049e-06 - val_rmse: 0.0020 - val_r_square: 0.9993\n",
      "Epoch 85/200\n",
      "863855/863855 [==============================] - 4s 5us/step - loss: 9.8223e-06 - rmse: 0.0020 - r_square: 0.9992 - val_loss: 9.3630e-06 - val_rmse: 0.0020 - val_r_square: 0.9993\n"
     ]
    },
    {
     "name": "stdout",
     "output_type": "stream",
     "text": [
      "Epoch 86/200\n",
      "863855/863855 [==============================] - 4s 5us/step - loss: 9.7631e-06 - rmse: 0.0020 - r_square: 0.9993 - val_loss: 8.6737e-06 - val_rmse: 0.0019 - val_r_square: 0.9993\n",
      "Epoch 87/200\n",
      "863855/863855 [==============================] - 4s 5us/step - loss: 9.7618e-06 - rmse: 0.0020 - r_square: 0.9993 - val_loss: 1.2664e-05 - val_rmse: 0.0023 - val_r_square: 0.9990\n",
      "Epoch 88/200\n",
      "863855/863855 [==============================] - 4s 5us/step - loss: 9.6812e-06 - rmse: 0.0020 - r_square: 0.9993 - val_loss: 9.6972e-06 - val_rmse: 0.0019 - val_r_square: 0.9993\n",
      "Epoch 89/200\n",
      "863855/863855 [==============================] - 4s 5us/step - loss: 9.7085e-06 - rmse: 0.0020 - r_square: 0.9993 - val_loss: 1.1482e-05 - val_rmse: 0.0022 - val_r_square: 0.9991\n",
      "Epoch 90/200\n",
      "863855/863855 [==============================] - 4s 5us/step - loss: 9.7494e-06 - rmse: 0.0020 - r_square: 0.9993 - val_loss: 1.1944e-05 - val_rmse: 0.0022 - val_r_square: 0.9991\n",
      "Epoch 91/200\n",
      "863855/863855 [==============================] - 4s 5us/step - loss: 9.6857e-06 - rmse: 0.0020 - r_square: 0.9993 - val_loss: 9.1364e-06 - val_rmse: 0.0019 - val_r_square: 0.9993\n",
      "Epoch 92/200\n",
      "863855/863855 [==============================] - 4s 5us/step - loss: 9.7081e-06 - rmse: 0.0020 - r_square: 0.9993 - val_loss: 9.0146e-06 - val_rmse: 0.0020 - val_r_square: 0.9993\n",
      "Epoch 93/200\n",
      "863855/863855 [==============================] - 4s 5us/step - loss: 9.6228e-06 - rmse: 0.0020 - r_square: 0.9993 - val_loss: 1.1527e-05 - val_rmse: 0.0021 - val_r_square: 0.9991\n",
      "Epoch 94/200\n",
      "863855/863855 [==============================] - 4s 5us/step - loss: 9.6617e-06 - rmse: 0.0020 - r_square: 0.9993 - val_loss: 9.0737e-06 - val_rmse: 0.0019 - val_r_square: 0.9993\n",
      "Epoch 95/200\n",
      "863855/863855 [==============================] - 4s 5us/step - loss: 9.6761e-06 - rmse: 0.0020 - r_square: 0.9993 - val_loss: 9.1511e-06 - val_rmse: 0.0019 - val_r_square: 0.9993\n",
      "Epoch 96/200\n",
      "863855/863855 [==============================] - 4s 5us/step - loss: 9.6160e-06 - rmse: 0.0020 - r_square: 0.9993 - val_loss: 9.7091e-06 - val_rmse: 0.0019 - val_r_square: 0.9993\n",
      "Epoch 97/200\n",
      "863855/863855 [==============================] - 4s 5us/step - loss: 9.6152e-06 - rmse: 0.0020 - r_square: 0.9993 - val_loss: 9.0440e-06 - val_rmse: 0.0020 - val_r_square: 0.9993\n",
      "Epoch 98/200\n",
      "863855/863855 [==============================] - 4s 5us/step - loss: 9.6295e-06 - rmse: 0.0020 - r_square: 0.9993 - val_loss: 9.0871e-06 - val_rmse: 0.0019 - val_r_square: 0.9993\n",
      "Epoch 99/200\n",
      "863855/863855 [==============================] - 4s 5us/step - loss: 9.5740e-06 - rmse: 0.0020 - r_square: 0.9993 - val_loss: 9.2632e-06 - val_rmse: 0.0019 - val_r_square: 0.9993\n",
      "Epoch 100/200\n",
      "863855/863855 [==============================] - 4s 5us/step - loss: 9.5889e-06 - rmse: 0.0020 - r_square: 0.9993 - val_loss: 9.1401e-06 - val_rmse: 0.0019 - val_r_square: 0.9993\n",
      "Epoch 101/200\n",
      "863855/863855 [==============================] - 4s 5us/step - loss: 9.6169e-06 - rmse: 0.0020 - r_square: 0.9993 - val_loss: 1.0349e-05 - val_rmse: 0.0020 - val_r_square: 0.9992\n",
      "Epoch 102/200\n",
      "863855/863855 [==============================] - 4s 5us/step - loss: 9.6007e-06 - rmse: 0.0020 - r_square: 0.9993 - val_loss: 1.0403e-05 - val_rmse: 0.0021 - val_r_square: 0.9992\n",
      "Epoch 103/200\n",
      "863855/863855 [==============================] - 4s 5us/step - loss: 9.6078e-06 - rmse: 0.0020 - r_square: 0.9993 - val_loss: 1.0813e-05 - val_rmse: 0.0020 - val_r_square: 0.9992\n",
      "Epoch 104/200\n",
      "863855/863855 [==============================] - 4s 5us/step - loss: 9.5934e-06 - rmse: 0.0020 - r_square: 0.9993 - val_loss: 1.1858e-05 - val_rmse: 0.0023 - val_r_square: 0.9991\n",
      "Epoch 105/200\n",
      "863855/863855 [==============================] - 4s 5us/step - loss: 9.4735e-06 - rmse: 0.0020 - r_square: 0.9993 - val_loss: 1.1164e-05 - val_rmse: 0.0023 - val_r_square: 0.9992\n",
      "Epoch 106/200\n",
      "863855/863855 [==============================] - 4s 5us/step - loss: 9.5840e-06 - rmse: 0.0020 - r_square: 0.9993 - val_loss: 9.5046e-06 - val_rmse: 0.0019 - val_r_square: 0.9993\n",
      "Epoch 107/200\n",
      "863855/863855 [==============================] - 4s 5us/step - loss: 9.5809e-06 - rmse: 0.0020 - r_square: 0.9993 - val_loss: 1.0181e-05 - val_rmse: 0.0020 - val_r_square: 0.9992\n",
      "Epoch 108/200\n",
      "863855/863855 [==============================] - 4s 5us/step - loss: 9.5311e-06 - rmse: 0.0020 - r_square: 0.9993 - val_loss: 9.2941e-06 - val_rmse: 0.0019 - val_r_square: 0.9993\n",
      "Epoch 109/200\n",
      "863855/863855 [==============================] - 4s 5us/step - loss: 9.4755e-06 - rmse: 0.0020 - r_square: 0.9993 - val_loss: 8.7424e-06 - val_rmse: 0.0019 - val_r_square: 0.9993\n",
      "Epoch 110/200\n",
      "863855/863855 [==============================] - 5s 5us/step - loss: 9.4891e-06 - rmse: 0.0020 - r_square: 0.9993 - val_loss: 1.0876e-05 - val_rmse: 0.0023 - val_r_square: 0.9992\n",
      "Epoch 111/200\n",
      "863855/863855 [==============================] - 4s 5us/step - loss: 9.4876e-06 - rmse: 0.0020 - r_square: 0.9993 - val_loss: 9.7643e-06 - val_rmse: 0.0020 - val_r_square: 0.9993\n",
      "Epoch 00111: early stopping\n"
     ]
    }
   ],
   "source": [
    "# fit the model\n",
    "result = model.fit(XX_train, \n",
    "                   yy_train,\n",
    "                   epochs = 200,\n",
    "                   batch_size=256,\n",
    "                   validation_data=(XX_validation, yy_validation),\n",
    "                   callbacks = [es]\n",
    "                  )"
   ]
  },
  {
   "cell_type": "code",
   "execution_count": 24,
   "metadata": {},
   "outputs": [],
   "source": [
    "model.save_weights('model.h5')"
   ]
  },
  {
   "cell_type": "code",
   "execution_count": 19,
   "metadata": {},
   "outputs": [
    {
     "name": "stdout",
     "output_type": "stream",
     "text": [
      "[[4.9878725e-01]\n",
      " [8.0572510e+00]\n",
      " [4.3696209e+01]\n",
      " [1.3325646e+01]\n",
      " [1.5871577e+00]\n",
      " [9.5909962e-04]\n",
      " [5.8215833e+00]\n",
      " [4.6672096e+00]\n",
      " [9.6788549e+00]\n",
      " [1.8222956e+01]]\n"
     ]
    }
   ],
   "source": [
    "predictions = model.predict(X_test)\n",
    "pre_act = sc.inverse_transform(predictions)\n",
    "print(pre_act[:10])"
   ]
  },
  {
   "cell_type": "code",
   "execution_count": 20,
   "metadata": {},
   "outputs": [],
   "source": [
    "y_act = sc.inverse_transform(y_test)"
   ]
  },
  {
   "cell_type": "code",
   "execution_count": 21,
   "metadata": {},
   "outputs": [
    {
     "data": {
      "text/plain": [
       "array([[3.400e-01],\n",
       "       [7.600e+00],\n",
       "       [4.435e+01],\n",
       "       [1.425e+01],\n",
       "       [1.760e+00],\n",
       "       [3.000e-02],\n",
       "       [5.500e+00],\n",
       "       [4.500e+00],\n",
       "       [9.350e+00],\n",
       "       [1.795e+01]])"
      ]
     },
     "execution_count": 21,
     "metadata": {},
     "output_type": "execute_result"
    }
   ],
   "source": [
    "y_act[:10]"
   ]
  },
  {
   "cell_type": "markdown",
   "metadata": {},
   "source": [
    "## Plot learning curves including R^2 and RMSE"
   ]
  },
  {
   "cell_type": "code",
   "execution_count": 22,
   "metadata": {},
   "outputs": [
    {
     "data": {
      "image/png": "[encoded data removed]",
      "text/plain": [
       "<Figure size 432x288 with 1 Axes>"
      ]
     },
     "metadata": {},
     "output_type": "display_data"
    }
   ],
   "source": [
    "# plot training curve for rmse\n",
    "plt.plot(result.history['rmse'])\n",
    "plt.plot(result.history['val_rmse'])\n",
    "plt.title('rmse')\n",
    "plt.ylabel('rmse')\n",
    "plt.xlabel('epoch')\n",
    "plt.legend(['train', 'validation'], loc='upper right')\n",
    "plt.show()"
   ]
  },
  {
   "cell_type": "code",
   "execution_count": 23,
   "metadata": {},
   "outputs": [
    {
     "data": {
      "image/png": "[encoded data removed]",
      "text/plain": [
       "<Figure size 432x288 with 1 Axes>"
      ]
     },
     "metadata": {},
     "output_type": "display_data"
    }
   ],
   "source": [
    "# plot training curve for R^2\n",
    "plt.plot(result.history['r_square'])\n",
    "plt.plot(result.history['val_r_square'])\n",
    "plt.title('model R^2')\n",
    "plt.ylabel('R^2')\n",
    "plt.xlabel('epoch')\n",
    "plt.legend(['train', 'validation'], loc='lower right')\n",
    "plt.show()"
   ]
  },
  {
   "cell_type": "code",
   "execution_count": 24,
   "metadata": {},
   "outputs": [
    {
     "name": "stdout",
     "output_type": "stream",
     "text": [
      "\n",
      "\n",
      "Mean absolute error (MAE):      0.277239\n",
      "Mean squared error (MSE):       0.187401\n",
      "Root mean squared error (RMSE): 0.432898\n",
      "R square (R^2):                 0.999290\n"
     ]
    }
   ],
   "source": [
    "import sklearn.metrics as skm, math\n",
    "print(\"\\n\")\n",
    "print(\"Mean absolute error (MAE):      %f\" % skm.mean_absolute_error(y_act,pre_act))\n",
    "print(\"Mean squared error (MSE):       %f\" % skm.mean_squared_error(y_act,pre_act))\n",
    "print(\"Root mean squared error (RMSE): %f\" % math.sqrt(skm.mean_squared_error(y_act,pre_act)))\n",
    "print(\"R square (R^2):                 %f\" % skm.r2_score(y_act,pre_act))"
   ]
  },
  {
   "cell_type": "markdown",
   "metadata": {},
   "source": [
    "## Try dropout"
   ]
  },
  {
   "cell_type": "code",
   "execution_count": 25,
   "metadata": {},
   "outputs": [
    {
     "name": "stderr",
     "output_type": "stream",
     "text": [
      "W0703 21:07:57.700560  8584 deprecation.py:506] From C:\\Users\\mayingzh\\AppData\\Roaming\\Python\\Python36\\site-packages\\keras\\backend\\tensorflow_backend.py:3445: calling dropout (from tensorflow.python.ops.nn_ops) with keep_prob is deprecated and will be removed in a future version.\n",
      "Instructions for updating:\n",
      "Please use `rate` instead of `keep_prob`. Rate should be set to `rate = 1 - keep_prob`.\n"
     ]
    },
    {
     "name": "stdout",
     "output_type": "stream",
     "text": [
      "Train on 863855 samples, validate on 215964 samples\n",
      "Epoch 1/200\n",
      "863855/863855 [==============================] - 5s 6us/step - loss: 6.3613e-04 - rmse: 0.0129 - r_square: 0.9520 - val_loss: 1.5197e-04 - val_rmse: 0.0080 - val_r_square: 0.9887\n",
      "Epoch 2/200\n",
      "863855/863855 [==============================] - 5s 6us/step - loss: 5.7282e-05 - rmse: 0.0049 - r_square: 0.9957 - val_loss: 1.9159e-04 - val_rmse: 0.0076 - val_r_square: 0.9859\n",
      "Epoch 3/200\n",
      "863855/863855 [==============================] - 5s 6us/step - loss: 3.1524e-05 - rmse: 0.0037 - r_square: 0.9976 - val_loss: 2.2923e-04 - val_rmse: 0.0086 - val_r_square: 0.9831\n",
      "Epoch 4/200\n",
      "863855/863855 [==============================] - 5s 6us/step - loss: 2.6084e-05 - rmse: 0.0034 - r_square: 0.9980 - val_loss: 1.9561e-04 - val_rmse: 0.0080 - val_r_square: 0.9856\n",
      "Epoch 5/200\n",
      "863855/863855 [==============================] - 5s 6us/step - loss: 2.3394e-05 - rmse: 0.0032 - r_square: 0.9982 - val_loss: 2.4516e-04 - val_rmse: 0.0088 - val_r_square: 0.9819\n",
      "Epoch 6/200\n",
      "863855/863855 [==============================] - 5s 6us/step - loss: 2.1403e-05 - rmse: 0.0030 - r_square: 0.9984 - val_loss: 2.8163e-04 - val_rmse: 0.0094 - val_r_square: 0.9792\n",
      "Epoch 7/200\n",
      "863855/863855 [==============================] - 5s 6us/step - loss: 2.0166e-05 - rmse: 0.0029 - r_square: 0.9985 - val_loss: 2.3112e-04 - val_rmse: 0.0086 - val_r_square: 0.9830\n",
      "Epoch 8/200\n",
      "863855/863855 [==============================] - 5s 6us/step - loss: 1.9425e-05 - rmse: 0.0029 - r_square: 0.9985 - val_loss: 1.9782e-04 - val_rmse: 0.0076 - val_r_square: 0.9855\n",
      "Epoch 9/200\n",
      "863855/863855 [==============================] - 5s 6us/step - loss: 1.8781e-05 - rmse: 0.0028 - r_square: 0.9986 - val_loss: 1.8724e-04 - val_rmse: 0.0073 - val_r_square: 0.9862\n",
      "Epoch 10/200\n",
      "863855/863855 [==============================] - 5s 6us/step - loss: 1.8352e-05 - rmse: 0.0028 - r_square: 0.9986 - val_loss: 2.5841e-04 - val_rmse: 0.0093 - val_r_square: 0.9809\n",
      "Epoch 11/200\n",
      "863855/863855 [==============================] - 5s 6us/step - loss: 1.8006e-05 - rmse: 0.0028 - r_square: 0.9986 - val_loss: 1.9958e-04 - val_rmse: 0.0079 - val_r_square: 0.9853\n",
      "Epoch 12/200\n",
      "863855/863855 [==============================] - 5s 6us/step - loss: 1.7701e-05 - rmse: 0.0027 - r_square: 0.9986 - val_loss: 1.9256e-04 - val_rmse: 0.0076 - val_r_square: 0.9858\n",
      "Epoch 13/200\n",
      "863855/863855 [==============================] - 5s 6us/step - loss: 1.7270e-05 - rmse: 0.0027 - r_square: 0.9987 - val_loss: 1.8807e-04 - val_rmse: 0.0074 - val_r_square: 0.9862\n",
      "Epoch 14/200\n",
      "863855/863855 [==============================] - 5s 6us/step - loss: 1.6973e-05 - rmse: 0.0027 - r_square: 0.9987 - val_loss: 1.9714e-04 - val_rmse: 0.0078 - val_r_square: 0.9855\n",
      "Epoch 15/200\n",
      "863855/863855 [==============================] - 5s 6us/step - loss: 1.6724e-05 - rmse: 0.0026 - r_square: 0.9987 - val_loss: 2.4670e-04 - val_rmse: 0.0086 - val_r_square: 0.9818\n",
      "Epoch 16/200\n",
      "863855/863855 [==============================] - 5s 6us/step - loss: 1.6782e-05 - rmse: 0.0026 - r_square: 0.9987 - val_loss: 2.2376e-04 - val_rmse: 0.0084 - val_r_square: 0.9835\n",
      "Epoch 17/200\n",
      "863855/863855 [==============================] - 5s 6us/step - loss: 1.6320e-05 - rmse: 0.0026 - r_square: 0.9988 - val_loss: 2.6165e-04 - val_rmse: 0.0090 - val_r_square: 0.9807\n",
      "Epoch 18/200\n",
      "863855/863855 [==============================] - 5s 6us/step - loss: 1.6407e-05 - rmse: 0.0026 - r_square: 0.9987 - val_loss: 2.2808e-04 - val_rmse: 0.0084 - val_r_square: 0.9832\n",
      "Epoch 19/200\n",
      "863855/863855 [==============================] - 5s 6us/step - loss: 1.6174e-05 - rmse: 0.0026 - r_square: 0.9988 - val_loss: 2.5256e-04 - val_rmse: 0.0088 - val_r_square: 0.9814\n",
      "Epoch 20/200\n",
      "863855/863855 [==============================] - 5s 6us/step - loss: 1.5996e-05 - rmse: 0.0026 - r_square: 0.9988 - val_loss: 2.1630e-04 - val_rmse: 0.0080 - val_r_square: 0.9841\n",
      "Epoch 21/200\n",
      "863855/863855 [==============================] - 5s 6us/step - loss: 1.5719e-05 - rmse: 0.0025 - r_square: 0.9988 - val_loss: 2.2170e-04 - val_rmse: 0.0081 - val_r_square: 0.9837\n",
      "Epoch 22/200\n",
      "863855/863855 [==============================] - 5s 6us/step - loss: 1.5625e-05 - rmse: 0.0025 - r_square: 0.9988 - val_loss: 2.6953e-04 - val_rmse: 0.0093 - val_r_square: 0.9801\n",
      "Epoch 23/200\n",
      "863855/863855 [==============================] - 5s 6us/step - loss: 1.5425e-05 - rmse: 0.0025 - r_square: 0.9988 - val_loss: 2.3360e-04 - val_rmse: 0.0084 - val_r_square: 0.9828\n",
      "Epoch 24/200\n",
      "863855/863855 [==============================] - 5s 6us/step - loss: 1.5395e-05 - rmse: 0.0025 - r_square: 0.9988 - val_loss: 2.6819e-04 - val_rmse: 0.0092 - val_r_square: 0.9802\n",
      "Epoch 25/200\n",
      "863855/863855 [==============================] - 5s 6us/step - loss: 1.5278e-05 - rmse: 0.0025 - r_square: 0.9988 - val_loss: 2.2599e-04 - val_rmse: 0.0082 - val_r_square: 0.9834\n",
      "Epoch 26/200\n",
      "863855/863855 [==============================] - 5s 6us/step - loss: 1.5076e-05 - rmse: 0.0025 - r_square: 0.9988 - val_loss: 1.9811e-04 - val_rmse: 0.0077 - val_r_square: 0.9854\n",
      "Epoch 00026: early stopping\n"
     ]
    }
   ],
   "source": [
    "model2 = Sequential([\n",
    "    Dense(64, activation='relu', input_shape=(7,)),\n",
    "    Dropout(0.1),\n",
    "    Dense(128, activation='relu'),\n",
    "    Dense(64, activation='relu'),\n",
    "    Dense(1, activation='linear'),\n",
    "])\n",
    "model2.compile(\n",
    "  optimizer='adam',\n",
    "  loss='mse',\n",
    "  metrics=[rmse, r_square],\n",
    ")\n",
    "# fit the model\n",
    "result2 = model2.fit(XX_train, \n",
    "                   yy_train,\n",
    "                   epochs = 200,\n",
    "                   batch_size=256,\n",
    "                   validation_data=(XX_validation, yy_validation),\n",
    "                   callbacks = [es]\n",
    "                  )"
   ]
  },
  {
   "cell_type": "code",
   "execution_count": 26,
   "metadata": {},
   "outputs": [
    {
     "name": "stdout",
     "output_type": "stream",
     "text": [
      "[[ 0.84491634]\n",
      " [ 6.4803762 ]\n",
      " [40.58042   ]\n",
      " [11.621701  ]\n",
      " [ 1.5075382 ]\n",
      " [ 0.09726154]\n",
      " [ 5.584685  ]\n",
      " [ 4.2508855 ]\n",
      " [ 8.1683655 ]\n",
      " [16.12794   ]]\n",
      "\n",
      "\n",
      "Mean absolute error (MAE):      1.070542\n",
      "Mean squared error (MSE):       3.806763\n",
      "Root mean squared error (RMSE): 1.951093\n",
      "R square (R^2):                 0.985587\n"
     ]
    }
   ],
   "source": [
    "predictions2 = model2.predict(X_test)\n",
    "pre_act2 = sc.inverse_transform(predictions2)\n",
    "print(pre_act2[:10])\n",
    "print(\"\\n\")\n",
    "print(\"Mean absolute error (MAE):      %f\" % skm.mean_absolute_error(y_act,pre_act2))\n",
    "print(\"Mean squared error (MSE):       %f\" % skm.mean_squared_error(y_act,pre_act2))\n",
    "print(\"Root mean squared error (RMSE): %f\" % math.sqrt(skm.mean_squared_error(y_act,pre_act2)))\n",
    "print(\"R square (R^2):                 %f\" % skm.r2_score(y_act,pre_act2))"
   ]
  },
  {
   "cell_type": "code",
   "execution_count": null,
   "metadata": {},
   "outputs": [],
   "source": []
  },
  {
   "cell_type": "code",
   "execution_count": null,
   "metadata": {},
   "outputs": [],
   "source": []
  },
  {
   "cell_type": "code",
   "execution_count": null,
   "metadata": {},
   "outputs": [],
   "source": []
  },
  {
   "cell_type": "markdown",
   "metadata": {},
   "source": [
    "## Try batch normalization technique to regularize neurons"
   ]
  },
  {
   "cell_type": "code",
   "execution_count": 27,
   "metadata": {},
   "outputs": [
    {
     "name": "stdout",
     "output_type": "stream",
     "text": [
      "Train on 863855 samples, validate on 215964 samples\n",
      "Epoch 1/200\n",
      "863855/863855 [==============================] - 5s 6us/step - loss: 4.4561e-04 - rmse: 0.0133 - r_square: 0.9662 - val_loss: 6.8910e-05 - val_rmse: 0.0056 - val_r_square: 0.9948\n",
      "Epoch 2/200\n",
      "863855/863855 [==============================] - 5s 6us/step - loss: 2.5730e-04 - rmse: 0.0097 - r_square: 0.9807 - val_loss: 6.6448e-05 - val_rmse: 0.0060 - val_r_square: 0.9950\n",
      "Epoch 3/200\n",
      "863855/863855 [==============================] - 5s 6us/step - loss: 2.1984e-04 - rmse: 0.0089 - r_square: 0.9834 - val_loss: 4.8273e-05 - val_rmse: 0.0051 - val_r_square: 0.9963\n",
      "Epoch 4/200\n",
      "863855/863855 [==============================] - 5s 6us/step - loss: 2.2071e-04 - rmse: 0.0087 - r_square: 0.9834 - val_loss: 4.2584e-05 - val_rmse: 0.0050 - val_r_square: 0.9968\n",
      "Epoch 5/200\n",
      "863855/863855 [==============================] - 5s 6us/step - loss: 2.1969e-04 - rmse: 0.0086 - r_square: 0.9835 - val_loss: 3.7960e-05 - val_rmse: 0.0043 - val_r_square: 0.9971\n",
      "Epoch 6/200\n",
      "863855/863855 [==============================] - 5s 6us/step - loss: 2.0971e-04 - rmse: 0.0084 - r_square: 0.9842 - val_loss: 1.8454e-04 - val_rmse: 0.0093 - val_r_square: 0.9861\n",
      "Epoch 7/200\n",
      "863855/863855 [==============================] - 5s 6us/step - loss: 2.0521e-04 - rmse: 0.0082 - r_square: 0.9846 - val_loss: 7.5393e-05 - val_rmse: 0.0051 - val_r_square: 0.9943\n",
      "Epoch 8/200\n",
      "863855/863855 [==============================] - 5s 6us/step - loss: 2.0671e-04 - rmse: 0.0083 - r_square: 0.9843 - val_loss: 4.5815e-05 - val_rmse: 0.0051 - val_r_square: 0.9965\n",
      "Epoch 9/200\n",
      "863855/863855 [==============================] - 5s 6us/step - loss: 2.0749e-04 - rmse: 0.0083 - r_square: 0.9843 - val_loss: 6.9451e-05 - val_rmse: 0.0049 - val_r_square: 0.9948\n",
      "Epoch 10/200\n",
      "863855/863855 [==============================] - 5s 6us/step - loss: 2.0217e-04 - rmse: 0.0082 - r_square: 0.9848 - val_loss: 2.7471e-05 - val_rmse: 0.0035 - val_r_square: 0.9979\n",
      "Epoch 11/200\n",
      "863855/863855 [==============================] - 5s 6us/step - loss: 2.0455e-04 - rmse: 0.0082 - r_square: 0.9846 - val_loss: 4.3886e-05 - val_rmse: 0.0054 - val_r_square: 0.9967\n",
      "Epoch 12/200\n",
      "863855/863855 [==============================] - 5s 6us/step - loss: 2.0260e-04 - rmse: 0.0081 - r_square: 0.9849 - val_loss: 2.1481e-05 - val_rmse: 0.0031 - val_r_square: 0.9984\n",
      "Epoch 13/200\n",
      "863855/863855 [==============================] - 5s 6us/step - loss: 2.0126e-04 - rmse: 0.0081 - r_square: 0.9849 - val_loss: 3.7204e-05 - val_rmse: 0.0040 - val_r_square: 0.9972\n",
      "Epoch 14/200\n",
      "863855/863855 [==============================] - 5s 5us/step - loss: 1.9591e-04 - rmse: 0.0079 - r_square: 0.9853 - val_loss: 3.3154e-05 - val_rmse: 0.0034 - val_r_square: 0.9975\n",
      "Epoch 15/200\n",
      "863855/863855 [==============================] - 5s 5us/step - loss: 1.9856e-04 - rmse: 0.0080 - r_square: 0.9850 - val_loss: 2.0320e-05 - val_rmse: 0.0029 - val_r_square: 0.9985\n",
      "Epoch 16/200\n",
      "863855/863855 [==============================] - 5s 6us/step - loss: 1.9888e-04 - rmse: 0.0080 - r_square: 0.9850 - val_loss: 3.1302e-05 - val_rmse: 0.0037 - val_r_square: 0.9976\n",
      "Epoch 17/200\n",
      "863855/863855 [==============================] - 5s 6us/step - loss: 1.9725e-04 - rmse: 0.0080 - r_square: 0.9850 - val_loss: 2.6874e-05 - val_rmse: 0.0034 - val_r_square: 0.9980\n",
      "Epoch 18/200\n",
      "863855/863855 [==============================] - 5s 6us/step - loss: 1.9909e-04 - rmse: 0.0080 - r_square: 0.9849 - val_loss: 3.1332e-05 - val_rmse: 0.0036 - val_r_square: 0.9976\n",
      "Epoch 19/200\n",
      "863855/863855 [==============================] - 5s 6us/step - loss: 1.9397e-04 - rmse: 0.0079 - r_square: 0.9853 - val_loss: 1.9572e-05 - val_rmse: 0.0028 - val_r_square: 0.9985\n",
      "Epoch 20/200\n",
      "863855/863855 [==============================] - 5s 6us/step - loss: 1.9505e-04 - rmse: 0.0079 - r_square: 0.9853 - val_loss: 3.4428e-05 - val_rmse: 0.0040 - val_r_square: 0.9974\n",
      "Epoch 21/200\n",
      "863855/863855 [==============================] - 5s 6us/step - loss: 1.9462e-04 - rmse: 0.0079 - r_square: 0.9852 - val_loss: 5.6501e-05 - val_rmse: 0.0044 - val_r_square: 0.9958\n",
      "Epoch 22/200\n",
      "863855/863855 [==============================] - 5s 6us/step - loss: 1.9627e-04 - rmse: 0.0079 - r_square: 0.9852 - val_loss: 4.2460e-05 - val_rmse: 0.0039 - val_r_square: 0.9968\n",
      "Epoch 23/200\n",
      "863855/863855 [==============================] - 5s 6us/step - loss: 1.9621e-04 - rmse: 0.0080 - r_square: 0.9853 - val_loss: 3.5968e-05 - val_rmse: 0.0036 - val_r_square: 0.9973\n",
      "Epoch 24/200\n",
      "863855/863855 [==============================] - 5s 5us/step - loss: 1.9705e-04 - rmse: 0.0079 - r_square: 0.9851 - val_loss: 6.7737e-05 - val_rmse: 0.0049 - val_r_square: 0.9950\n",
      "Epoch 25/200\n",
      "863855/863855 [==============================] - 5s 5us/step - loss: 1.9636e-04 - rmse: 0.0079 - r_square: 0.9852 - val_loss: 2.1183e-05 - val_rmse: 0.0029 - val_r_square: 0.9984\n",
      "Epoch 26/200\n",
      "863855/863855 [==============================] - 5s 6us/step - loss: 1.9437e-04 - rmse: 0.0079 - r_square: 0.9854 - val_loss: 4.6397e-05 - val_rmse: 0.0040 - val_r_square: 0.9965\n",
      "Epoch 27/200\n",
      "863855/863855 [==============================] - 5s 6us/step - loss: 1.9825e-04 - rmse: 0.0080 - r_square: 0.9850 - val_loss: 3.1214e-05 - val_rmse: 0.0036 - val_r_square: 0.9976\n",
      "Epoch 28/200\n",
      "863855/863855 [==============================] - 5s 5us/step - loss: 1.9340e-04 - rmse: 0.0079 - r_square: 0.9854 - val_loss: 4.3302e-05 - val_rmse: 0.0041 - val_r_square: 0.9967\n",
      "Epoch 29/200\n",
      "863855/863855 [==============================] - 5s 6us/step - loss: 1.9698e-04 - rmse: 0.0079 - r_square: 0.9852 - val_loss: 2.5976e-05 - val_rmse: 0.0033 - val_r_square: 0.9981\n",
      "Epoch 30/200\n",
      "863855/863855 [==============================] - 5s 6us/step - loss: 1.9460e-04 - rmse: 0.0079 - r_square: 0.9853 - val_loss: 3.2012e-05 - val_rmse: 0.0034 - val_r_square: 0.9976\n",
      "Epoch 31/200\n",
      "863855/863855 [==============================] - 5s 6us/step - loss: 1.9085e-04 - rmse: 0.0078 - r_square: 0.9856 - val_loss: 3.4487e-05 - val_rmse: 0.0038 - val_r_square: 0.9974\n",
      "Epoch 32/200\n",
      "863855/863855 [==============================] - 5s 6us/step - loss: 1.9747e-04 - rmse: 0.0079 - r_square: 0.9850 - val_loss: 1.8645e-05 - val_rmse: 0.0026 - val_r_square: 0.9986\n",
      "Epoch 33/200\n",
      "863855/863855 [==============================] - 5s 6us/step - loss: 1.9459e-04 - rmse: 0.0079 - r_square: 0.9852 - val_loss: 3.1361e-05 - val_rmse: 0.0033 - val_r_square: 0.9976\n",
      "Epoch 34/200\n",
      "863855/863855 [==============================] - 5s 6us/step - loss: 1.8977e-04 - rmse: 0.0078 - r_square: 0.9856 - val_loss: 3.0168e-05 - val_rmse: 0.0032 - val_r_square: 0.9977\n",
      "Epoch 35/200\n",
      "863855/863855 [==============================] - 5s 6us/step - loss: 1.9448e-04 - rmse: 0.0079 - r_square: 0.9853 - val_loss: 3.4254e-05 - val_rmse: 0.0036 - val_r_square: 0.9974\n",
      "Epoch 36/200\n",
      "863855/863855 [==============================] - 5s 6us/step - loss: 1.8863e-04 - rmse: 0.0078 - r_square: 0.9858 - val_loss: 2.7704e-05 - val_rmse: 0.0033 - val_r_square: 0.9979\n",
      "Epoch 37/200\n",
      "863855/863855 [==============================] - 5s 6us/step - loss: 1.9352e-04 - rmse: 0.0079 - r_square: 0.9854 - val_loss: 2.1914e-05 - val_rmse: 0.0030 - val_r_square: 0.9984\n",
      "Epoch 38/200\n",
      "863855/863855 [==============================] - 5s 5us/step - loss: 1.8816e-04 - rmse: 0.0078 - r_square: 0.9859 - val_loss: 2.2590e-05 - val_rmse: 0.0032 - val_r_square: 0.9983\n",
      "Epoch 39/200\n",
      "863855/863855 [==============================] - 5s 6us/step - loss: 1.9582e-04 - rmse: 0.0079 - r_square: 0.9853 - val_loss: 7.1115e-05 - val_rmse: 0.0060 - val_r_square: 0.9947\n",
      "Epoch 40/200\n",
      "863855/863855 [==============================] - 5s 6us/step - loss: 1.9339e-04 - rmse: 0.0079 - r_square: 0.9853 - val_loss: 9.4138e-05 - val_rmse: 0.0056 - val_r_square: 0.9929\n",
      "Epoch 41/200\n",
      "863855/863855 [==============================] - 5s 6us/step - loss: 1.9138e-04 - rmse: 0.0078 - r_square: 0.9856 - val_loss: 2.0794e-05 - val_rmse: 0.0029 - val_r_square: 0.9984\n",
      "Epoch 42/200\n",
      "863855/863855 [==============================] - 5s 6us/step - loss: 1.9124e-04 - rmse: 0.0078 - r_square: 0.9856 - val_loss: 2.3702e-05 - val_rmse: 0.0032 - val_r_square: 0.9982\n",
      "Epoch 43/200\n"
     ]
    },
    {
     "name": "stdout",
     "output_type": "stream",
     "text": [
      "863855/863855 [==============================] - 5s 5us/step - loss: 1.8851e-04 - rmse: 0.0078 - r_square: 0.9858 - val_loss: 7.0527e-05 - val_rmse: 0.0047 - val_r_square: 0.9947\n",
      "Epoch 44/200\n",
      "863855/863855 [==============================] - 5s 5us/step - loss: 1.8842e-04 - rmse: 0.0078 - r_square: 0.9857 - val_loss: 1.8592e-05 - val_rmse: 0.0026 - val_r_square: 0.9986\n",
      "Epoch 45/200\n",
      "863855/863855 [==============================] - 5s 5us/step - loss: 1.8761e-04 - rmse: 0.0077 - r_square: 0.9859 - val_loss: 5.1962e-05 - val_rmse: 0.0041 - val_r_square: 0.9961\n",
      "Epoch 46/200\n",
      "863855/863855 [==============================] - 5s 5us/step - loss: 1.8646e-04 - rmse: 0.0077 - r_square: 0.9859 - val_loss: 1.9350e-05 - val_rmse: 0.0031 - val_r_square: 0.9985\n",
      "Epoch 47/200\n",
      "863855/863855 [==============================] - 5s 6us/step - loss: 1.8911e-04 - rmse: 0.0078 - r_square: 0.9858 - val_loss: 3.2271e-05 - val_rmse: 0.0041 - val_r_square: 0.9976\n",
      "Epoch 48/200\n",
      "863855/863855 [==============================] - 5s 5us/step - loss: 1.9125e-04 - rmse: 0.0078 - r_square: 0.9855 - val_loss: 3.0817e-05 - val_rmse: 0.0035 - val_r_square: 0.9977\n",
      "Epoch 49/200\n",
      "863855/863855 [==============================] - 5s 5us/step - loss: 1.8431e-04 - rmse: 0.0077 - r_square: 0.9861 - val_loss: 3.9181e-05 - val_rmse: 0.0041 - val_r_square: 0.9971\n",
      "Epoch 50/200\n",
      "863855/863855 [==============================] - 5s 5us/step - loss: 1.8976e-04 - rmse: 0.0078 - r_square: 0.9856 - val_loss: 4.8774e-05 - val_rmse: 0.0046 - val_r_square: 0.9963\n",
      "Epoch 51/200\n",
      "863855/863855 [==============================] - 5s 5us/step - loss: 1.8948e-04 - rmse: 0.0078 - r_square: 0.9857 - val_loss: 2.4951e-05 - val_rmse: 0.0030 - val_r_square: 0.9981\n",
      "Epoch 52/200\n",
      "863855/863855 [==============================] - 5s 5us/step - loss: 1.8913e-04 - rmse: 0.0078 - r_square: 0.9857 - val_loss: 3.0990e-05 - val_rmse: 0.0035 - val_r_square: 0.9977\n",
      "Epoch 53/200\n",
      "863855/863855 [==============================] - 5s 5us/step - loss: 1.9275e-04 - rmse: 0.0078 - r_square: 0.9854 - val_loss: 2.8508e-05 - val_rmse: 0.0037 - val_r_square: 0.9979\n",
      "Epoch 54/200\n",
      "863855/863855 [==============================] - 5s 5us/step - loss: 1.8426e-04 - rmse: 0.0077 - r_square: 0.9861 - val_loss: 3.8003e-05 - val_rmse: 0.0037 - val_r_square: 0.9972\n",
      "Epoch 55/200\n",
      "863855/863855 [==============================] - 5s 5us/step - loss: 1.8781e-04 - rmse: 0.0078 - r_square: 0.9858 - val_loss: 2.2996e-05 - val_rmse: 0.0030 - val_r_square: 0.9983\n",
      "Epoch 56/200\n",
      "863855/863855 [==============================] - 5s 5us/step - loss: 1.8434e-04 - rmse: 0.0076 - r_square: 0.9861 - val_loss: 2.5619e-05 - val_rmse: 0.0033 - val_r_square: 0.9981\n",
      "Epoch 57/200\n",
      "863855/863855 [==============================] - 5s 5us/step - loss: 1.8506e-04 - rmse: 0.0077 - r_square: 0.9860 - val_loss: 2.6286e-05 - val_rmse: 0.0036 - val_r_square: 0.9980\n",
      "Epoch 58/200\n",
      "863855/863855 [==============================] - 5s 5us/step - loss: 1.8856e-04 - rmse: 0.0078 - r_square: 0.9858 - val_loss: 3.3006e-05 - val_rmse: 0.0033 - val_r_square: 0.9975\n",
      "Epoch 59/200\n",
      "863855/863855 [==============================] - 5s 6us/step - loss: 1.8358e-04 - rmse: 0.0077 - r_square: 0.9862 - val_loss: 1.9604e-05 - val_rmse: 0.0030 - val_r_square: 0.9985\n",
      "Epoch 60/200\n",
      "863855/863855 [==============================] - 5s 5us/step - loss: 1.8890e-04 - rmse: 0.0078 - r_square: 0.9857 - val_loss: 3.1224e-05 - val_rmse: 0.0036 - val_r_square: 0.9977\n",
      "Epoch 61/200\n",
      "863855/863855 [==============================] - 5s 6us/step - loss: 1.8894e-04 - rmse: 0.0077 - r_square: 0.9856 - val_loss: 3.3742e-05 - val_rmse: 0.0043 - val_r_square: 0.9974\n",
      "Epoch 62/200\n",
      "863855/863855 [==============================] - 5s 5us/step - loss: 1.8754e-04 - rmse: 0.0077 - r_square: 0.9859 - val_loss: 5.3480e-05 - val_rmse: 0.0041 - val_r_square: 0.9960\n",
      "Epoch 63/200\n",
      "863855/863855 [==============================] - 5s 5us/step - loss: 1.8960e-04 - rmse: 0.0078 - r_square: 0.9858 - val_loss: 4.1701e-05 - val_rmse: 0.0038 - val_r_square: 0.9969\n",
      "Epoch 64/200\n",
      "863855/863855 [==============================] - 5s 5us/step - loss: 1.8232e-04 - rmse: 0.0077 - r_square: 0.9862 - val_loss: 3.1274e-05 - val_rmse: 0.0031 - val_r_square: 0.9977\n",
      "Epoch 65/200\n",
      "863855/863855 [==============================] - 5s 5us/step - loss: 1.9382e-04 - rmse: 0.0079 - r_square: 0.9853 - val_loss: 3.1836e-05 - val_rmse: 0.0036 - val_r_square: 0.9976\n",
      "Epoch 66/200\n",
      "863855/863855 [==============================] - 5s 5us/step - loss: 1.9120e-04 - rmse: 0.0078 - r_square: 0.9855 - val_loss: 6.1351e-05 - val_rmse: 0.0048 - val_r_square: 0.9954\n",
      "Epoch 67/200\n",
      "863855/863855 [==============================] - 5s 6us/step - loss: 1.9382e-04 - rmse: 0.0078 - r_square: 0.9854 - val_loss: 3.9196e-05 - val_rmse: 0.0041 - val_r_square: 0.9971\n",
      "Epoch 68/200\n",
      "863855/863855 [==============================] - 5s 6us/step - loss: 1.8487e-04 - rmse: 0.0076 - r_square: 0.9860 - val_loss: 3.6411e-05 - val_rmse: 0.0034 - val_r_square: 0.9973\n",
      "Epoch 69/200\n",
      "863855/863855 [==============================] - 5s 6us/step - loss: 1.9067e-04 - rmse: 0.0078 - r_square: 0.9856 - val_loss: 1.8191e-05 - val_rmse: 0.0028 - val_r_square: 0.9986\n",
      "Epoch 70/200\n",
      "863855/863855 [==============================] - 5s 5us/step - loss: 1.8404e-04 - rmse: 0.0077 - r_square: 0.9861 - val_loss: 3.3740e-05 - val_rmse: 0.0035 - val_r_square: 0.9975\n",
      "Epoch 71/200\n",
      "863855/863855 [==============================] - 5s 5us/step - loss: 1.8879e-04 - rmse: 0.0078 - r_square: 0.9858 - val_loss: 2.2600e-05 - val_rmse: 0.0031 - val_r_square: 0.9983\n",
      "Epoch 72/200\n",
      "863855/863855 [==============================] - 5s 6us/step - loss: 1.8323e-04 - rmse: 0.0077 - r_square: 0.9861 - val_loss: 3.1616e-05 - val_rmse: 0.0036 - val_r_square: 0.9976\n",
      "Epoch 73/200\n",
      "863855/863855 [==============================] - 5s 6us/step - loss: 1.9176e-04 - rmse: 0.0078 - r_square: 0.9855 - val_loss: 4.0754e-05 - val_rmse: 0.0049 - val_r_square: 0.9969\n",
      "Epoch 74/200\n",
      "863855/863855 [==============================] - 5s 5us/step - loss: 1.8515e-04 - rmse: 0.0077 - r_square: 0.9860 - val_loss: 3.0962e-05 - val_rmse: 0.0038 - val_r_square: 0.9977\n",
      "Epoch 75/200\n",
      "863855/863855 [==============================] - 5s 6us/step - loss: 1.8201e-04 - rmse: 0.0076 - r_square: 0.9863 - val_loss: 2.7600e-05 - val_rmse: 0.0037 - val_r_square: 0.9979\n",
      "Epoch 76/200\n",
      "863855/863855 [==============================] - 5s 6us/step - loss: 1.8704e-04 - rmse: 0.0077 - r_square: 0.9859 - val_loss: 3.3294e-05 - val_rmse: 0.0040 - val_r_square: 0.9975\n",
      "Epoch 77/200\n",
      "863855/863855 [==============================] - 5s 5us/step - loss: 1.8440e-04 - rmse: 0.0077 - r_square: 0.9860 - val_loss: 2.0265e-05 - val_rmse: 0.0030 - val_r_square: 0.9985\n",
      "Epoch 78/200\n",
      "863855/863855 [==============================] - 5s 5us/step - loss: 1.7748e-04 - rmse: 0.0075 - r_square: 0.9866 - val_loss: 2.4257e-05 - val_rmse: 0.0032 - val_r_square: 0.9982\n",
      "Epoch 79/200\n",
      "863855/863855 [==============================] - 5s 6us/step - loss: 1.8813e-04 - rmse: 0.0077 - r_square: 0.9859 - val_loss: 3.3966e-05 - val_rmse: 0.0036 - val_r_square: 0.9974\n",
      "Epoch 80/200\n",
      "863855/863855 [==============================] - 5s 5us/step - loss: 1.8860e-04 - rmse: 0.0077 - r_square: 0.9858 - val_loss: 2.5048e-05 - val_rmse: 0.0034 - val_r_square: 0.9981\n",
      "Epoch 81/200\n",
      "863855/863855 [==============================] - 5s 5us/step - loss: 1.8748e-04 - rmse: 0.0077 - r_square: 0.9859 - val_loss: 2.7191e-05 - val_rmse: 0.0031 - val_r_square: 0.9980\n",
      "Epoch 82/200\n",
      "863855/863855 [==============================] - 5s 6us/step - loss: 1.9037e-04 - rmse: 0.0078 - r_square: 0.9856 - val_loss: 2.6724e-05 - val_rmse: 0.0033 - val_r_square: 0.9980\n",
      "Epoch 83/200\n",
      "863855/863855 [==============================] - 5s 6us/step - loss: 1.8443e-04 - rmse: 0.0077 - r_square: 0.9861 - val_loss: 3.9185e-05 - val_rmse: 0.0041 - val_r_square: 0.9971\n",
      "Epoch 84/200\n",
      "863855/863855 [==============================] - 5s 5us/step - loss: 1.8746e-04 - rmse: 0.0078 - r_square: 0.9858 - val_loss: 2.3225e-05 - val_rmse: 0.0031 - val_r_square: 0.9983\n",
      "Epoch 85/200\n",
      "863855/863855 [==============================] - 5s 6us/step - loss: 1.8480e-04 - rmse: 0.0077 - r_square: 0.9862 - val_loss: 2.0660e-05 - val_rmse: 0.0028 - val_r_square: 0.9985\n"
     ]
    },
    {
     "name": "stdout",
     "output_type": "stream",
     "text": [
      "Epoch 86/200\n",
      "863855/863855 [==============================] - 5s 6us/step - loss: 1.8529e-04 - rmse: 0.0077 - r_square: 0.9861 - val_loss: 3.0196e-05 - val_rmse: 0.0040 - val_r_square: 0.9977\n",
      "Epoch 87/200\n",
      "863855/863855 [==============================] - 5s 5us/step - loss: 1.8795e-04 - rmse: 0.0078 - r_square: 0.9858 - val_loss: 3.5633e-05 - val_rmse: 0.0038 - val_r_square: 0.9973\n",
      "Epoch 88/200\n",
      "863855/863855 [==============================] - 5s 5us/step - loss: 1.8740e-04 - rmse: 0.0077 - r_square: 0.9859 - val_loss: 3.3265e-05 - val_rmse: 0.0033 - val_r_square: 0.9975\n",
      "Epoch 89/200\n",
      "863855/863855 [==============================] - 5s 6us/step - loss: 1.8283e-04 - rmse: 0.0077 - r_square: 0.9861 - val_loss: 4.9943e-05 - val_rmse: 0.0038 - val_r_square: 0.9963\n",
      "Epoch 90/200\n",
      "863855/863855 [==============================] - 5s 5us/step - loss: 1.8504e-04 - rmse: 0.0077 - r_square: 0.9861 - val_loss: 2.7448e-05 - val_rmse: 0.0033 - val_r_square: 0.9979\n",
      "Epoch 91/200\n",
      "863855/863855 [==============================] - 5s 5us/step - loss: 1.8487e-04 - rmse: 0.0077 - r_square: 0.9862 - val_loss: 2.8454e-05 - val_rmse: 0.0032 - val_r_square: 0.9979\n",
      "Epoch 92/200\n",
      "863855/863855 [==============================] - 5s 5us/step - loss: 1.8667e-04 - rmse: 0.0077 - r_square: 0.9860 - val_loss: 2.2501e-05 - val_rmse: 0.0034 - val_r_square: 0.9983\n",
      "Epoch 93/200\n",
      "863855/863855 [==============================] - 5s 5us/step - loss: 1.8302e-04 - rmse: 0.0077 - r_square: 0.9862 - val_loss: 4.3118e-05 - val_rmse: 0.0040 - val_r_square: 0.9968\n",
      "Epoch 94/200\n",
      "863855/863855 [==============================] - 5s 5us/step - loss: 1.8556e-04 - rmse: 0.0077 - r_square: 0.9860 - val_loss: 3.4910e-05 - val_rmse: 0.0034 - val_r_square: 0.9974\n",
      "Epoch 00094: early stopping\n"
     ]
    }
   ],
   "source": [
    "from keras.layers.normalization import BatchNormalization\n",
    "model3 = Sequential([\n",
    "    BatchNormalization(),\n",
    "    Dense(64, activation='relu', input_shape=(7,)),\n",
    "    Dense(128, activation='relu'),\n",
    "    Dense(64, activation='relu'),\n",
    "    Dense(1, activation='linear'),\n",
    "])\n",
    "model3.compile(\n",
    "  optimizer='adam',\n",
    "  loss='mse',\n",
    "  metrics=[rmse, r_square],\n",
    ")\n",
    "# fit the model\n",
    "result3 = model3.fit(XX_train, \n",
    "                   yy_train,\n",
    "                   epochs = 200,\n",
    "                   batch_size=256,\n",
    "                   validation_data=(XX_validation, yy_validation),\n",
    "                   callbacks = [es]\n",
    "                  )"
   ]
  },
  {
   "cell_type": "code",
   "execution_count": 28,
   "metadata": {},
   "outputs": [
    {
     "name": "stdout",
     "output_type": "stream",
     "text": [
      "[[ 3.6824301e-01]\n",
      " [ 7.1230826e+00]\n",
      " [ 4.2358734e+01]\n",
      " [ 1.2410133e+01]\n",
      " [ 1.6438693e+00]\n",
      " [-2.8274857e-02]\n",
      " [ 5.0302896e+00]\n",
      " [ 3.9520421e+00]\n",
      " [ 8.2271948e+00]\n",
      " [ 1.7088663e+01]]\n",
      "\n",
      "\n",
      "Mean absolute error (MAE):      0.470328\n",
      "Mean squared error (MSE):       0.670427\n",
      "Root mean squared error (RMSE): 0.818796\n",
      "R square (R^2):                 0.997462\n"
     ]
    }
   ],
   "source": [
    "predictions3 = model3.predict(X_test)\n",
    "pre_act3 = sc.inverse_transform(predictions3)\n",
    "print(pre_act3[:10])\n",
    "print(\"\\n\")\n",
    "print(\"Mean absolute error (MAE):      %f\" % skm.mean_absolute_error(y_act,pre_act3))\n",
    "print(\"Mean squared error (MSE):       %f\" % skm.mean_squared_error(y_act,pre_act3))\n",
    "print(\"Root mean squared error (RMSE): %f\" % math.sqrt(skm.mean_squared_error(y_act,pre_act3)))\n",
    "print(\"R square (R^2):                 %f\" % skm.r2_score(y_act,pre_act3))"
   ]
  },
  {
   "cell_type": "code",
   "execution_count": null,
   "metadata": {},
   "outputs": [],
   "source": []
  },
  {
   "cell_type": "markdown",
   "metadata": {},
   "source": [
    "## Reference: \n",
    "&emsp;&emsp;What does 'Accuracy' mean in Regression? https://github.com/keras-team/keras/issues/7947 <br>\n",
    "&emsp;&emsp;https://keras.io/metrics/<br>\n",
    "&emsp;&emsp;Scale, Standardize, or Normalize with Scikit-Learn https://towardsdatascience.com/scale-standardize-or-normalize-with-scikit-learn-6ccc7d176a02 <br>\n",
    "&emsp;&emsp;The Day my Computer Won the Nobel Prize (Neural Network Option Pricing)  https://medium.com/datadriveninvestor/the-day-my-computer-won-the-nobel-prize-neural-network-option-pricing-d29b4379f1d2 <br>"
   ]
  }
 ],
 "metadata": {
  "kernelspec": {
   "display_name": "Python 3",
   "language": "python",
   "name": "python3"
  },
  "language_info": {
   "codemirror_mode": {
    "name": "ipython",
    "version": 3
   },
   "file_extension": ".py",
   "mimetype": "text/x-python",
   "name": "python",
   "nbconvert_exporter": "python",
   "pygments_lexer": "ipython3",
   "version": "3.6.5"
  }
 },
 "nbformat": 4,
 "nbformat_minor": 2
}
