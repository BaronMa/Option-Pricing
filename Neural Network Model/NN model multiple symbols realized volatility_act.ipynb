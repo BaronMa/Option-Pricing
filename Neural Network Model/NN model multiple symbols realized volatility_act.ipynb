{
 "cells": [
  {
   "cell_type": "code",
   "execution_count": 1,
   "metadata": {
    "scrolled": true
   },
   "outputs": [
    {
     "name": "stdout",
     "output_type": "stream",
     "text": [
      "Collecting pip\n",
      "  Downloading https://files.pythonhosted.org/packages/5c/e0/be401c003291b56efc55aeba6a80ab790d3d4cece2778288d65323009420/pip-19.1.1-py2.py3-none-any.whl (1.4MB)\n",
      "Installing collected packages: pip\n",
      "Successfully installed pip-19.1.1\n"
     ]
    },
    {
     "name": "stderr",
     "output_type": "stream",
     "text": [
      "distributed 1.21.8 requires msgpack, which is not installed.\n",
      "You are using pip version 10.0.1, however version 19.1.1 is available.\n",
      "You should consider upgrading via the 'python -m pip install --upgrade pip' command.\n"
     ]
    },
    {
     "name": "stdout",
     "output_type": "stream",
     "text": [
      "Collecting keras\n",
      "  Downloading https://files.pythonhosted.org/packages/5e/10/aa32dad071ce52b5502266b5c659451cfd6ffcbf14e6c8c4f16c0ff5aaab/Keras-2.2.4-py2.py3-none-any.whl (312kB)\n",
      "Collecting keras-applications>=1.0.6 (from keras)\n",
      "  Downloading https://files.pythonhosted.org/packages/71/e3/19762fdfc62877ae9102edf6342d71b28fbfd9dea3d2f96a882ce099b03f/Keras_Applications-1.0.8-py3-none-any.whl (50kB)\n",
      "Requirement already satisfied: numpy>=1.9.1 in c:\\program files\\anaconda3\\lib\\site-packages (from keras) (1.14.3)\n",
      "Requirement already satisfied: scipy>=0.14 in c:\\program files\\anaconda3\\lib\\site-packages (from keras) (1.1.0)\n",
      "Collecting keras-preprocessing>=1.0.5 (from keras)\n",
      "  Downloading https://files.pythonhosted.org/packages/28/6a/8c1f62c37212d9fc441a7e26736df51ce6f0e38455816445471f10da4f0a/Keras_Preprocessing-1.1.0-py2.py3-none-any.whl (41kB)\n",
      "Requirement already satisfied: h5py in c:\\program files\\anaconda3\\lib\\site-packages (from keras) (2.7.1)\n",
      "Requirement already satisfied: pyyaml in c:\\program files\\anaconda3\\lib\\site-packages (from keras) (3.12)\n",
      "Requirement already satisfied: six>=1.9.0 in c:\\program files\\anaconda3\\lib\\site-packages (from keras) (1.11.0)\n",
      "Installing collected packages: keras-applications, keras-preprocessing, keras\n",
      "Successfully installed keras-2.2.4 keras-applications-1.0.8 keras-preprocessing-1.1.0\n",
      "Collecting tensorflow\n",
      "  Downloading https://files.pythonhosted.org/packages/bf/4a/5c86ed8b245aa48f9f819b13a0a9039e9126ba19fdd0c7e0b8026c12315a/tensorflow-1.14.0-cp36-cp36m-win_amd64.whl (68.3MB)\n",
      "Collecting protobuf>=3.6.1 (from tensorflow)\n",
      "  Downloading https://files.pythonhosted.org/packages/d4/59/ec6c6075dd628f2efd33dbe11b259e63e1de7cbc26e45b38de767df528d4/protobuf-3.8.0-cp36-cp36m-win_amd64.whl (1.1MB)\n",
      "Collecting gast>=0.2.0 (from tensorflow)\n",
      "  Downloading https://files.pythonhosted.org/packages/4e/35/11749bf99b2d4e3cceb4d55ca22590b0d7c2c62b9de38ac4a4a7f4687421/gast-0.2.2.tar.gz\n",
      "Requirement already satisfied: six>=1.10.0 in c:\\program files\\anaconda3\\lib\\site-packages (from tensorflow) (1.11.0)\n",
      "Collecting tensorboard<1.15.0,>=1.14.0 (from tensorflow)\n",
      "  Downloading https://files.pythonhosted.org/packages/91/2d/2ed263449a078cd9c8a9ba50ebd50123adf1f8cfbea1492f9084169b89d9/tensorboard-1.14.0-py3-none-any.whl (3.1MB)\n",
      "Collecting termcolor>=1.1.0 (from tensorflow)\n",
      "  Downloading https://files.pythonhosted.org/packages/8a/48/a76be51647d0eb9f10e2a4511bf3ffb8cc1e6b14e9e4fab46173aa79f981/termcolor-1.1.0.tar.gz\n",
      "Collecting wrapt>=1.11.1 (from tensorflow)\n",
      "  Downloading https://files.pythonhosted.org/packages/23/84/323c2415280bc4fc880ac5050dddfb3c8062c2552b34c2e512eb4aa68f79/wrapt-1.11.2.tar.gz\n",
      "Collecting tensorflow-estimator<1.15.0rc0,>=1.14.0rc0 (from tensorflow)\n",
      "  Downloading https://files.pythonhosted.org/packages/3c/d5/21860a5b11caf0678fbc8319341b0ae21a07156911132e0e71bffed0510d/tensorflow_estimator-1.14.0-py2.py3-none-any.whl (488kB)\n",
      "Collecting grpcio>=1.8.6 (from tensorflow)\n",
      "  Downloading https://files.pythonhosted.org/packages/78/93/297ff3656f1073fba84e2f9633ad3b27a007eb59ad22099ac30142f80365/grpcio-1.22.0-cp36-cp36m-win_amd64.whl (1.6MB)\n",
      "Requirement already satisfied: keras-preprocessing>=1.0.5 in c:\\users\\mayingzh\\appdata\\roaming\\python\\python36\\site-packages (from tensorflow) (1.1.0)\n",
      "Collecting astor>=0.6.0 (from tensorflow)\n",
      "  Downloading https://files.pythonhosted.org/packages/d1/4f/950dfae467b384fc96bc6469de25d832534f6b4441033c39f914efd13418/astor-0.8.0-py2.py3-none-any.whl\n",
      "Requirement already satisfied: keras-applications>=1.0.6 in c:\\users\\mayingzh\\appdata\\roaming\\python\\python36\\site-packages (from tensorflow) (1.0.8)\n",
      "Collecting absl-py>=0.7.0 (from tensorflow)\n",
      "  Downloading https://files.pythonhosted.org/packages/da/3f/9b0355080b81b15ba6a9ffcf1f5ea39e307a2778b2f2dc8694724e8abd5b/absl-py-0.7.1.tar.gz (99kB)\n",
      "Requirement already satisfied: wheel>=0.26 in c:\\program files\\anaconda3\\lib\\site-packages (from tensorflow) (0.31.1)\n",
      "Collecting numpy<2.0,>=1.14.5 (from tensorflow)\n",
      "  Downloading https://files.pythonhosted.org/packages/20/ed/e036d31a9b2c750f270cbb1cfc1c0f94ac78ae504eea7eec3267be4e294a/numpy-1.16.4-cp36-cp36m-win_amd64.whl (11.9MB)\n",
      "Collecting google-pasta>=0.1.6 (from tensorflow)\n",
      "  Downloading https://files.pythonhosted.org/packages/d0/33/376510eb8d6246f3c30545f416b2263eee461e40940c2a4413c711bdf62d/google_pasta-0.1.7-py3-none-any.whl (52kB)\n",
      "Requirement already satisfied: setuptools in c:\\program files\\anaconda3\\lib\\site-packages (from protobuf>=3.6.1->tensorflow) (39.1.0)\n",
      "Collecting markdown>=2.6.8 (from tensorboard<1.15.0,>=1.14.0->tensorflow)\n",
      "  Downloading https://files.pythonhosted.org/packages/c0/4e/fd492e91abdc2d2fcb70ef453064d980688762079397f779758e055f6575/Markdown-3.1.1-py2.py3-none-any.whl (87kB)\n",
      "Requirement already satisfied: werkzeug>=0.11.15 in c:\\program files\\anaconda3\\lib\\site-packages (from tensorboard<1.15.0,>=1.14.0->tensorflow) (0.14.1)\n",
      "Requirement already satisfied: h5py in c:\\program files\\anaconda3\\lib\\site-packages (from keras-applications>=1.0.6->tensorflow) (2.7.1)\n",
      "Building wheels for collected packages: gast, termcolor, wrapt, absl-py\n",
      "  Building wheel for gast (setup.py): started\n",
      "  Building wheel for gast (setup.py): finished with status 'done'\n",
      "  Stored in directory: C:\\Users\\mayingzh\\AppData\\Local\\pip\\Cache\\wheels\\5c\\2e\\7e\\a1d4d4fcebe6c381f378ce7743a3ced3699feb89bcfbdadadd\n",
      "  Building wheel for termcolor (setup.py): started\n",
      "  Building wheel for termcolor (setup.py): finished with status 'done'\n",
      "  Stored in directory: C:\\Users\\mayingzh\\AppData\\Local\\pip\\Cache\\wheels\\7c\\06\\54\\bc84598ba1daf8f970247f550b175aaaee85f68b4b0c5ab2c6\n",
      "  Building wheel for wrapt (setup.py): started\n",
      "  Building wheel for wrapt (setup.py): finished with status 'done'\n",
      "  Stored in directory: C:\\Users\\mayingzh\\AppData\\Local\\pip\\Cache\\wheels\\d7\\de\\2e\\efa132238792efb6459a96e85916ef8597fcb3d2ae51590dfd\n",
      "  Building wheel for absl-py (setup.py): started\n",
      "  Building wheel for absl-py (setup.py): finished with status 'done'\n",
      "  Stored in directory: C:\\Users\\mayingzh\\AppData\\Local\\pip\\Cache\\wheels\\ee\\98\\38\\46cbcc5a93cfea5492d19c38562691ddb23b940176c14f7b48\n",
      "Successfully built gast termcolor wrapt absl-py\n",
      "Installing collected packages: protobuf, gast, absl-py, markdown, grpcio, numpy, tensorboard, termcolor, wrapt, tensorflow-estimator, astor, google-pasta, tensorflow\n",
      "Successfully installed absl-py-0.7.1 astor-0.8.0 gast-0.2.2 google-pasta-0.1.7 grpcio-1.22.0 markdown-3.1.1 numpy-1.16.4 protobuf-3.8.0 tensorboard-1.14.0 tensorflow-1.14.0 tensorflow-estimator-1.14.0 termcolor-1.1.0 wrapt-1.11.2\n"
     ]
    },
    {
     "name": "stderr",
     "output_type": "stream",
     "text": [
      "ERROR: tensorboard 1.14.0 has requirement setuptools>=41.0.0, but you'll have setuptools 39.1.0 which is incompatible.\n",
      "  WARNING: The script markdown_py.exe is installed in 'C:\\Users\\mayingzh\\AppData\\Roaming\\Python\\Python36\\Scripts' which is not on PATH.\n",
      "  Consider adding this directory to PATH or, if you prefer to suppress this warning, use --no-warn-script-location.\n",
      "  WARNING: The script f2py.exe is installed in 'C:\\Users\\mayingzh\\AppData\\Roaming\\Python\\Python36\\Scripts' which is not on PATH.\n",
      "  Consider adding this directory to PATH or, if you prefer to suppress this warning, use --no-warn-script-location.\n",
      "  WARNING: The script tensorboard.exe is installed in 'C:\\Users\\mayingzh\\AppData\\Roaming\\Python\\Python36\\Scripts' which is not on PATH.\n",
      "  Consider adding this directory to PATH or, if you prefer to suppress this warning, use --no-warn-script-location.\n",
      "  WARNING: The scripts freeze_graph.exe, saved_model_cli.exe, tensorboard.exe, tf_upgrade_v2.exe, tflite_convert.exe, toco.exe and toco_from_protos.exe are installed in 'C:\\Users\\mayingzh\\AppData\\Roaming\\Python\\Python36\\Scripts' which is not on PATH.\n",
      "  Consider adding this directory to PATH or, if you prefer to suppress this warning, use --no-warn-script-location.\n"
     ]
    },
    {
     "name": "stdout",
     "output_type": "stream",
     "text": [
      "Requirement already up-to-date: numpy in c:\\users\\mayingzh\\appdata\\roaming\\python\\python36\\site-packages (1.16.4)\n"
     ]
    }
   ],
   "source": [
    "!python -m pip install --user --upgrade pip\n",
    "!pip install --user keras\n",
    "!pip install --user tensorflow\n",
    "!pip install --user -U numpy"
   ]
  },
  {
   "cell_type": "code",
   "execution_count": 3,
   "metadata": {},
   "outputs": [],
   "source": [
    "# Use CPU only\n",
    "# Only Macbook needs to run this cell\n",
    "import os\n",
    "os.environ[\"CUDA_DEVICE_ORDER\"] = \"PCI_BUS_ID\" \n",
    "os.environ[\"CUDA_VISIBLE_DEVICES\"] = \"\""
   ]
  },
  {
   "cell_type": "code",
   "execution_count": 22,
   "metadata": {},
   "outputs": [],
   "source": [
    "import pandas as pd\n",
    "from keras.models import Sequential\n",
    "from keras.layers import Dense, Dropout\n",
    "from sklearn.model_selection import train_test_split\n",
    "from keras.callbacks import EarlyStopping\n",
    "from sklearn import preprocessing\n",
    "import matplotlib.pyplot as plt\n",
    "from keras.layers.normalization import BatchNormalization"
   ]
  },
  {
   "cell_type": "markdown",
   "metadata": {},
   "source": [
    "## Load data and do data normalization"
   ]
  },
  {
   "cell_type": "code",
   "execution_count": 3,
   "metadata": {},
   "outputs": [
    {
     "data": {
      "text/html": [
       "<div>\n",
       "<style scoped>\n",
       "    .dataframe tbody tr th:only-of-type {\n",
       "        vertical-align: middle;\n",
       "    }\n",
       "\n",
       "    .dataframe tbody tr th {\n",
       "        vertical-align: top;\n",
       "    }\n",
       "\n",
       "    .dataframe thead th {\n",
       "        text-align: right;\n",
       "    }\n",
       "</style>\n",
       "<table border=\"1\" class=\"dataframe\">\n",
       "  <thead>\n",
       "    <tr style=\"text-align: right;\">\n",
       "      <th></th>\n",
       "      <th>ticker</th>\n",
       "      <th>date</th>\n",
       "      <th>exdate</th>\n",
       "      <th>maturity</th>\n",
       "      <th>strike_price</th>\n",
       "      <th>best_offer</th>\n",
       "      <th>volatility</th>\n",
       "      <th>underlying_price</th>\n",
       "      <th>interest_rate</th>\n",
       "      <th>cp_flag_C</th>\n",
       "      <th>cp_flag_P</th>\n",
       "    </tr>\n",
       "  </thead>\n",
       "  <tbody>\n",
       "    <tr>\n",
       "      <th>0</th>\n",
       "      <td>AXP</td>\n",
       "      <td>2013-01-02</td>\n",
       "      <td>2013-01-04</td>\n",
       "      <td>2</td>\n",
       "      <td>40.0</td>\n",
       "      <td>20.4</td>\n",
       "      <td>0.170513</td>\n",
       "      <td>58.75</td>\n",
       "      <td>0.0008</td>\n",
       "      <td>1</td>\n",
       "      <td>0</td>\n",
       "    </tr>\n",
       "    <tr>\n",
       "      <th>1</th>\n",
       "      <td>AXP</td>\n",
       "      <td>2013-01-02</td>\n",
       "      <td>2013-01-04</td>\n",
       "      <td>2</td>\n",
       "      <td>44.0</td>\n",
       "      <td>15.4</td>\n",
       "      <td>0.170513</td>\n",
       "      <td>58.75</td>\n",
       "      <td>0.0008</td>\n",
       "      <td>1</td>\n",
       "      <td>0</td>\n",
       "    </tr>\n",
       "    <tr>\n",
       "      <th>2</th>\n",
       "      <td>AXP</td>\n",
       "      <td>2013-01-02</td>\n",
       "      <td>2013-01-04</td>\n",
       "      <td>2</td>\n",
       "      <td>45.0</td>\n",
       "      <td>14.4</td>\n",
       "      <td>0.170513</td>\n",
       "      <td>58.75</td>\n",
       "      <td>0.0008</td>\n",
       "      <td>1</td>\n",
       "      <td>0</td>\n",
       "    </tr>\n",
       "    <tr>\n",
       "      <th>3</th>\n",
       "      <td>AXP</td>\n",
       "      <td>2013-01-02</td>\n",
       "      <td>2013-01-04</td>\n",
       "      <td>2</td>\n",
       "      <td>46.0</td>\n",
       "      <td>13.4</td>\n",
       "      <td>0.170513</td>\n",
       "      <td>58.75</td>\n",
       "      <td>0.0008</td>\n",
       "      <td>1</td>\n",
       "      <td>0</td>\n",
       "    </tr>\n",
       "    <tr>\n",
       "      <th>4</th>\n",
       "      <td>AXP</td>\n",
       "      <td>2013-01-02</td>\n",
       "      <td>2013-01-04</td>\n",
       "      <td>2</td>\n",
       "      <td>47.0</td>\n",
       "      <td>12.4</td>\n",
       "      <td>0.170513</td>\n",
       "      <td>58.75</td>\n",
       "      <td>0.0008</td>\n",
       "      <td>1</td>\n",
       "      <td>0</td>\n",
       "    </tr>\n",
       "  </tbody>\n",
       "</table>\n",
       "</div>"
      ],
      "text/plain": [
       "  ticker        date      exdate  maturity  strike_price  best_offer  \\\n",
       "0    AXP  2013-01-02  2013-01-04         2          40.0        20.4   \n",
       "1    AXP  2013-01-02  2013-01-04         2          44.0        15.4   \n",
       "2    AXP  2013-01-02  2013-01-04         2          45.0        14.4   \n",
       "3    AXP  2013-01-02  2013-01-04         2          46.0        13.4   \n",
       "4    AXP  2013-01-02  2013-01-04         2          47.0        12.4   \n",
       "\n",
       "   volatility  underlying_price  interest_rate  cp_flag_C  cp_flag_P  \n",
       "0    0.170513             58.75         0.0008          1          0  \n",
       "1    0.170513             58.75         0.0008          1          0  \n",
       "2    0.170513             58.75         0.0008          1          0  \n",
       "3    0.170513             58.75         0.0008          1          0  \n",
       "4    0.170513             58.75         0.0008          1          0  "
      ]
     },
     "execution_count": 3,
     "metadata": {},
     "output_type": "execute_result"
    }
   ],
   "source": [
    "df = pd.read_csv('Options_R.csv')\n",
    "df.head()"
   ]
  },
  {
   "cell_type": "code",
   "execution_count": 4,
   "metadata": {},
   "outputs": [],
   "source": [
    "df = df[df['volatility'].notnull()]\n",
    "y = df['best_offer'].values\n",
    "X = df[['maturity', 'strike_price', 'underlying_price', 'volatility', 'cp_flag_C', 'cp_flag_P', 'interest_rate']]"
   ]
  },
  {
   "cell_type": "code",
   "execution_count": 5,
   "metadata": {},
   "outputs": [],
   "source": [
    "# Normalize the data to build a regression neural network model\n",
    "sc= preprocessing.MinMaxScaler()\n",
    "X= sc.fit_transform(X)\n",
    "#y= y.reshape(-1,1)\n",
    "#y=sc.fit_transform(y)"
   ]
  },
  {
   "cell_type": "code",
   "execution_count": 6,
   "metadata": {},
   "outputs": [],
   "source": [
    "X_train, X_test, y_train, y_test = train_test_split(X, y, test_size=0.2, random_state=42)"
   ]
  },
  {
   "cell_type": "code",
   "execution_count": 7,
   "metadata": {},
   "outputs": [
    {
     "name": "stdout",
     "output_type": "stream",
     "text": [
      "(1079819, 7)\n",
      "(1079819,)\n"
     ]
    }
   ],
   "source": [
    "print(X_train.shape)\n",
    "print(y_train.shape)"
   ]
  },
  {
   "cell_type": "code",
   "execution_count": 8,
   "metadata": {},
   "outputs": [],
   "source": [
    "XX_train, XX_validation, yy_train, yy_validation = train_test_split(X_train, y_train, test_size=0.2, random_state=42)"
   ]
  },
  {
   "cell_type": "markdown",
   "metadata": {},
   "source": [
    "## Build a keras Sequential model"
   ]
  },
  {
   "cell_type": "code",
   "execution_count": 9,
   "metadata": {},
   "outputs": [
    {
     "name": "stderr",
     "output_type": "stream",
     "text": [
      "WARNING: Logging before flag parsing goes to stderr.\n",
      "W0706 18:52:14.825369  3468 deprecation_wrapper.py:119] From C:\\Users\\mayingzh\\AppData\\Roaming\\Python\\Python36\\site-packages\\keras\\backend\\tensorflow_backend.py:74: The name tf.get_default_graph is deprecated. Please use tf.compat.v1.get_default_graph instead.\n",
      "\n",
      "W0706 18:52:14.841377  3468 deprecation_wrapper.py:119] From C:\\Users\\mayingzh\\AppData\\Roaming\\Python\\Python36\\site-packages\\keras\\backend\\tensorflow_backend.py:517: The name tf.placeholder is deprecated. Please use tf.compat.v1.placeholder instead.\n",
      "\n",
      "W0706 18:52:14.845366  3468 deprecation_wrapper.py:119] From C:\\Users\\mayingzh\\AppData\\Roaming\\Python\\Python36\\site-packages\\keras\\backend\\tensorflow_backend.py:4138: The name tf.random_uniform is deprecated. Please use tf.random.uniform instead.\n",
      "\n"
     ]
    }
   ],
   "source": [
    "# Built Keras sequential model with 3 hidden layer, and after the first hidden layer.\n",
    "model = Sequential([\n",
    "    Dense(64, activation='relu', input_shape=(7,)),\n",
    "    Dense(128, activation='relu'),\n",
    "    Dense(64, activation='relu'),\n",
    "    Dense(1, activation='linear'),\n",
    "])"
   ]
  },
  {
   "cell_type": "code",
   "execution_count": 10,
   "metadata": {},
   "outputs": [],
   "source": [
    "# Enable early stopping based on the loss of validation data\n",
    "es = EarlyStopping(monitor='val_loss', mode='auto', verbose=1, patience=25)"
   ]
  },
  {
   "cell_type": "code",
   "execution_count": 11,
   "metadata": {},
   "outputs": [],
   "source": [
    "# Because it is a simple regression problem, we should custom metrics function\n",
    "from keras import backend as K\n",
    "def rmse(y_true, y_pred):\n",
    "    return K.sqrt(K.mean(K.square(y_pred - y_true), axis = -1))\n",
    "\n",
    "def r_square(y_true, y_pred):\n",
    "    SS_res =  K.sum(K.square(y_true - y_pred)) \n",
    "    SS_tot = K.sum(K.square(y_true - K.mean(y_true))) \n",
    "    return (1 - SS_res/(SS_tot + K.epsilon()))"
   ]
  },
  {
   "cell_type": "code",
   "execution_count": 12,
   "metadata": {},
   "outputs": [
    {
     "name": "stderr",
     "output_type": "stream",
     "text": [
      "W0706 18:52:24.525656  3468 deprecation_wrapper.py:119] From C:\\Users\\mayingzh\\AppData\\Roaming\\Python\\Python36\\site-packages\\keras\\optimizers.py:790: The name tf.train.Optimizer is deprecated. Please use tf.compat.v1.train.Optimizer instead.\n",
      "\n"
     ]
    }
   ],
   "source": [
    "# use mean_squared_error to compile regression model loss\n",
    "model.compile(\n",
    "  optimizer='adam',\n",
    "  loss='mse',\n",
    "  metrics=[rmse, r_square],\n",
    ")"
   ]
  },
  {
   "cell_type": "code",
   "execution_count": 13,
   "metadata": {},
   "outputs": [
    {
     "name": "stderr",
     "output_type": "stream",
     "text": [
      "W0706 18:52:32.725258  3468 deprecation_wrapper.py:119] From C:\\Users\\mayingzh\\AppData\\Roaming\\Python\\Python36\\site-packages\\keras\\backend\\tensorflow_backend.py:986: The name tf.assign_add is deprecated. Please use tf.compat.v1.assign_add instead.\n",
      "\n",
      "W0706 18:52:32.816236  3468 deprecation_wrapper.py:119] From C:\\Users\\mayingzh\\AppData\\Roaming\\Python\\Python36\\site-packages\\keras\\backend\\tensorflow_backend.py:973: The name tf.assign is deprecated. Please use tf.compat.v1.assign instead.\n",
      "\n"
     ]
    },
    {
     "name": "stdout",
     "output_type": "stream",
     "text": [
      "Train on 863855 samples, validate on 215964 samples\n",
      "Epoch 1/100\n",
      "863855/863855 [==============================] - 4s 5us/step - loss: 16.7139 - rmse: 1.2588 - r_square: 0.9368 - val_loss: 0.3919 - val_rmse: 0.4234 - val_r_square: 0.9985\n",
      "Epoch 2/100\n",
      "863855/863855 [==============================] - 4s 5us/step - loss: 0.3667 - rmse: 0.3963 - r_square: 0.9985 - val_loss: 0.3103 - val_rmse: 0.3537 - val_r_square: 0.9988\n",
      "Epoch 3/100\n",
      "863855/863855 [==============================] - 4s 5us/step - loss: 0.3330 - rmse: 0.3758 - r_square: 0.9987 - val_loss: 0.4859 - val_rmse: 0.4964 - val_r_square: 0.9981\n",
      "Epoch 4/100\n",
      "863855/863855 [==============================] - 4s 5us/step - loss: 0.3113 - rmse: 0.3626 - r_square: 0.9988 - val_loss: 0.3155 - val_rmse: 0.3853 - val_r_square: 0.9988\n",
      "Epoch 5/100\n",
      "863855/863855 [==============================] - 4s 5us/step - loss: 0.2997 - rmse: 0.3547 - r_square: 0.9988 - val_loss: 0.2917 - val_rmse: 0.3371 - val_r_square: 0.9988\n",
      "Epoch 6/100\n",
      "863855/863855 [==============================] - 4s 5us/step - loss: 0.2887 - rmse: 0.3484 - r_square: 0.9989 - val_loss: 0.2696 - val_rmse: 0.3288 - val_r_square: 0.9989\n",
      "Epoch 7/100\n",
      "863855/863855 [==============================] - 4s 5us/step - loss: 0.2827 - rmse: 0.3434 - r_square: 0.9989 - val_loss: 0.3232 - val_rmse: 0.3842 - val_r_square: 0.9987\n",
      "Epoch 8/100\n",
      "863855/863855 [==============================] - 4s 5us/step - loss: 0.2749 - rmse: 0.3381 - r_square: 0.9989 - val_loss: 0.3033 - val_rmse: 0.3463 - val_r_square: 0.9988\n",
      "Epoch 9/100\n",
      "863855/863855 [==============================] - 4s 5us/step - loss: 0.2743 - rmse: 0.3375 - r_square: 0.9989 - val_loss: 0.2466 - val_rmse: 0.3274 - val_r_square: 0.9990\n",
      "Epoch 10/100\n",
      "863855/863855 [==============================] - 4s 5us/step - loss: 0.2692 - rmse: 0.3340 - r_square: 0.9989 - val_loss: 0.2921 - val_rmse: 0.3352 - val_r_square: 0.9988\n",
      "Epoch 11/100\n",
      "863855/863855 [==============================] - 4s 5us/step - loss: 0.2652 - rmse: 0.3315 - r_square: 0.9989 - val_loss: 0.2404 - val_rmse: 0.3084 - val_r_square: 0.9991\n",
      "Epoch 12/100\n",
      "863855/863855 [==============================] - 4s 5us/step - loss: 0.2603 - rmse: 0.3280 - r_square: 0.9990 - val_loss: 0.2349 - val_rmse: 0.3149 - val_r_square: 0.9991\n",
      "Epoch 13/100\n",
      "863855/863855 [==============================] - 4s 5us/step - loss: 0.2567 - rmse: 0.3255 - r_square: 0.9990 - val_loss: 0.2640 - val_rmse: 0.3235 - val_r_square: 0.9990\n",
      "Epoch 14/100\n",
      "863855/863855 [==============================] - 4s 5us/step - loss: 0.2566 - rmse: 0.3251 - r_square: 0.9990 - val_loss: 0.2776 - val_rmse: 0.3545 - val_r_square: 0.9989\n",
      "Epoch 15/100\n",
      "863855/863855 [==============================] - 4s 5us/step - loss: 0.2536 - rmse: 0.3233 - r_square: 0.9990 - val_loss: 0.2423 - val_rmse: 0.3110 - val_r_square: 0.9990\n",
      "Epoch 16/100\n",
      "863855/863855 [==============================] - 4s 5us/step - loss: 0.2505 - rmse: 0.3211 - r_square: 0.9990 - val_loss: 0.3203 - val_rmse: 0.3728 - val_r_square: 0.9987\n",
      "Epoch 17/100\n",
      "863855/863855 [==============================] - 4s 5us/step - loss: 0.2469 - rmse: 0.3184 - r_square: 0.9990 - val_loss: 0.2289 - val_rmse: 0.3062 - val_r_square: 0.9991\n",
      "Epoch 18/100\n",
      "863855/863855 [==============================] - 4s 5us/step - loss: 0.2474 - rmse: 0.3186 - r_square: 0.9990 - val_loss: 0.2516 - val_rmse: 0.3150 - val_r_square: 0.9990\n",
      "Epoch 19/100\n",
      "863855/863855 [==============================] - 4s 5us/step - loss: 0.2449 - rmse: 0.3168 - r_square: 0.9990 - val_loss: 0.2268 - val_rmse: 0.3086 - val_r_square: 0.9991\n",
      "Epoch 20/100\n",
      "863855/863855 [==============================] - 4s 5us/step - loss: 0.2423 - rmse: 0.3150 - r_square: 0.9990 - val_loss: 0.2595 - val_rmse: 0.3118 - val_r_square: 0.9990\n",
      "Epoch 21/100\n",
      "863855/863855 [==============================] - 4s 5us/step - loss: 0.2405 - rmse: 0.3132 - r_square: 0.9990 - val_loss: 0.2386 - val_rmse: 0.3148 - val_r_square: 0.9991\n",
      "Epoch 22/100\n",
      "863855/863855 [==============================] - 4s 5us/step - loss: 0.2380 - rmse: 0.3117 - r_square: 0.9991 - val_loss: 0.2605 - val_rmse: 0.3343 - val_r_square: 0.9990\n",
      "Epoch 23/100\n",
      "863855/863855 [==============================] - 4s 5us/step - loss: 0.2383 - rmse: 0.3118 - r_square: 0.9991 - val_loss: 0.2685 - val_rmse: 0.3545 - val_r_square: 0.9989\n",
      "Epoch 24/100\n",
      "863855/863855 [==============================] - 4s 5us/step - loss: 0.2341 - rmse: 0.3093 - r_square: 0.9991 - val_loss: 0.3348 - val_rmse: 0.3581 - val_r_square: 0.9987\n",
      "Epoch 25/100\n",
      "863855/863855 [==============================] - 4s 5us/step - loss: 0.2357 - rmse: 0.3102 - r_square: 0.9991 - val_loss: 0.2963 - val_rmse: 0.3441 - val_r_square: 0.9988\n",
      "Epoch 26/100\n",
      "863855/863855 [==============================] - 4s 5us/step - loss: 0.2315 - rmse: 0.3075 - r_square: 0.9991 - val_loss: 0.2074 - val_rmse: 0.2934 - val_r_square: 0.9992\n",
      "Epoch 27/100\n",
      "863855/863855 [==============================] - 4s 5us/step - loss: 0.2311 - rmse: 0.3070 - r_square: 0.9991 - val_loss: 0.2104 - val_rmse: 0.2894 - val_r_square: 0.9992\n",
      "Epoch 28/100\n",
      "863855/863855 [==============================] - 4s 5us/step - loss: 0.2289 - rmse: 0.3053 - r_square: 0.9991 - val_loss: 0.2255 - val_rmse: 0.3054 - val_r_square: 0.9991\n",
      "Epoch 29/100\n",
      "863855/863855 [==============================] - 4s 5us/step - loss: 0.2295 - rmse: 0.3059 - r_square: 0.9991 - val_loss: 0.2130 - val_rmse: 0.3013 - val_r_square: 0.9992\n",
      "Epoch 30/100\n",
      "863855/863855 [==============================] - 4s 5us/step - loss: 0.2272 - rmse: 0.3044 - r_square: 0.9991 - val_loss: 0.2994 - val_rmse: 0.3328 - val_r_square: 0.9988\n",
      "Epoch 31/100\n",
      "863855/863855 [==============================] - 4s 5us/step - loss: 0.2243 - rmse: 0.3023 - r_square: 0.9991 - val_loss: 0.2124 - val_rmse: 0.2938 - val_r_square: 0.9992\n",
      "Epoch 32/100\n",
      "863855/863855 [==============================] - 4s 5us/step - loss: 0.2226 - rmse: 0.3013 - r_square: 0.9991 - val_loss: 0.2173 - val_rmse: 0.2950 - val_r_square: 0.9991\n",
      "Epoch 33/100\n",
      "863855/863855 [==============================] - 4s 5us/step - loss: 0.2231 - rmse: 0.3020 - r_square: 0.9991 - val_loss: 0.2776 - val_rmse: 0.3530 - val_r_square: 0.9989\n",
      "Epoch 34/100\n",
      "863855/863855 [==============================] - 4s 5us/step - loss: 0.2212 - rmse: 0.3003 - r_square: 0.9991 - val_loss: 0.2866 - val_rmse: 0.3579 - val_r_square: 0.9989\n",
      "Epoch 35/100\n",
      "863855/863855 [==============================] - 4s 5us/step - loss: 0.2197 - rmse: 0.2995 - r_square: 0.9991 - val_loss: 0.2080 - val_rmse: 0.2934 - val_r_square: 0.9992\n",
      "Epoch 36/100\n",
      "863855/863855 [==============================] - 4s 5us/step - loss: 0.2195 - rmse: 0.2995 - r_square: 0.9991 - val_loss: 0.2616 - val_rmse: 0.3424 - val_r_square: 0.9990\n",
      "Epoch 37/100\n",
      "863855/863855 [==============================] - 4s 5us/step - loss: 0.2176 - rmse: 0.2980 - r_square: 0.9991 - val_loss: 0.2440 - val_rmse: 0.3261 - val_r_square: 0.9990\n",
      "Epoch 38/100\n",
      "863855/863855 [==============================] - 4s 5us/step - loss: 0.2178 - rmse: 0.2981 - r_square: 0.9991 - val_loss: 0.2045 - val_rmse: 0.2819 - val_r_square: 0.9992\n",
      "Epoch 39/100\n",
      "863855/863855 [==============================] - 4s 5us/step - loss: 0.2166 - rmse: 0.2974 - r_square: 0.9991 - val_loss: 0.2088 - val_rmse: 0.2820 - val_r_square: 0.9992\n",
      "Epoch 40/100\n",
      "863855/863855 [==============================] - 4s 5us/step - loss: 0.2159 - rmse: 0.2968 - r_square: 0.9991 - val_loss: 0.2044 - val_rmse: 0.2779 - val_r_square: 0.9992\n",
      "Epoch 41/100\n",
      "863855/863855 [==============================] - 4s 5us/step - loss: 0.2156 - rmse: 0.2963 - r_square: 0.9991 - val_loss: 0.2381 - val_rmse: 0.3129 - val_r_square: 0.9991\n",
      "Epoch 42/100\n",
      "863855/863855 [==============================] - 4s 5us/step - loss: 0.2138 - rmse: 0.2950 - r_square: 0.9992 - val_loss: 0.2086 - val_rmse: 0.2865 - val_r_square: 0.9992\n",
      "Epoch 43/100\n",
      "863855/863855 [==============================] - 4s 5us/step - loss: 0.2126 - rmse: 0.2942 - r_square: 0.9992 - val_loss: 0.2989 - val_rmse: 0.3349 - val_r_square: 0.9988\n",
      "Epoch 44/100\n",
      "863855/863855 [==============================] - 4s 5us/step - loss: 0.2145 - rmse: 0.2955 - r_square: 0.9991 - val_loss: 0.1984 - val_rmse: 0.2844 - val_r_square: 0.9992\n",
      "Epoch 45/100\n"
     ]
    },
    {
     "name": "stdout",
     "output_type": "stream",
     "text": [
      "863855/863855 [==============================] - 4s 5us/step - loss: 0.2136 - rmse: 0.2951 - r_square: 0.9992 - val_loss: 0.2277 - val_rmse: 0.3286 - val_r_square: 0.9991\n",
      "Epoch 46/100\n",
      "863855/863855 [==============================] - 4s 5us/step - loss: 0.2127 - rmse: 0.2946 - r_square: 0.9992 - val_loss: 0.2141 - val_rmse: 0.2868 - val_r_square: 0.9992\n",
      "Epoch 47/100\n",
      "863855/863855 [==============================] - 4s 5us/step - loss: 0.2111 - rmse: 0.2930 - r_square: 0.9992 - val_loss: 0.2045 - val_rmse: 0.2867 - val_r_square: 0.9992\n",
      "Epoch 48/100\n",
      "863855/863855 [==============================] - 4s 5us/step - loss: 0.2115 - rmse: 0.2934 - r_square: 0.9992 - val_loss: 0.2152 - val_rmse: 0.3096 - val_r_square: 0.9992\n",
      "Epoch 49/100\n",
      "863855/863855 [==============================] - 4s 5us/step - loss: 0.2090 - rmse: 0.2914 - r_square: 0.9992 - val_loss: 0.2047 - val_rmse: 0.2955 - val_r_square: 0.9992\n",
      "Epoch 50/100\n",
      "863855/863855 [==============================] - 4s 5us/step - loss: 0.2096 - rmse: 0.2918 - r_square: 0.9992 - val_loss: 0.2171 - val_rmse: 0.2944 - val_r_square: 0.9991\n",
      "Epoch 51/100\n",
      "863855/863855 [==============================] - 4s 5us/step - loss: 0.2100 - rmse: 0.2922 - r_square: 0.9992 - val_loss: 0.2375 - val_rmse: 0.3220 - val_r_square: 0.9991\n",
      "Epoch 52/100\n",
      "863855/863855 [==============================] - 4s 5us/step - loss: 0.2076 - rmse: 0.2904 - r_square: 0.9992 - val_loss: 0.2368 - val_rmse: 0.3161 - val_r_square: 0.9991\n",
      "Epoch 53/100\n",
      "863855/863855 [==============================] - 4s 5us/step - loss: 0.2087 - rmse: 0.2910 - r_square: 0.9992 - val_loss: 0.1908 - val_rmse: 0.2761 - val_r_square: 0.9992\n",
      "Epoch 54/100\n",
      "863855/863855 [==============================] - 4s 5us/step - loss: 0.2055 - rmse: 0.2887 - r_square: 0.9992 - val_loss: 0.2238 - val_rmse: 0.3038 - val_r_square: 0.9991\n",
      "Epoch 55/100\n",
      "863855/863855 [==============================] - 4s 5us/step - loss: 0.2085 - rmse: 0.2905 - r_square: 0.9992 - val_loss: 0.2371 - val_rmse: 0.3090 - val_r_square: 0.9991\n",
      "Epoch 56/100\n",
      "863855/863855 [==============================] - 4s 5us/step - loss: 0.2063 - rmse: 0.2891 - r_square: 0.9992 - val_loss: 0.2031 - val_rmse: 0.2798 - val_r_square: 0.9992\n",
      "Epoch 57/100\n",
      "863855/863855 [==============================] - 4s 5us/step - loss: 0.2060 - rmse: 0.2890 - r_square: 0.9992 - val_loss: 0.2162 - val_rmse: 0.2902 - val_r_square: 0.9991\n",
      "Epoch 58/100\n",
      "863855/863855 [==============================] - 4s 5us/step - loss: 0.2061 - rmse: 0.2889 - r_square: 0.9992 - val_loss: 0.1925 - val_rmse: 0.2760 - val_r_square: 0.9992\n",
      "Epoch 59/100\n",
      "863855/863855 [==============================] - 4s 5us/step - loss: 0.2043 - rmse: 0.2876 - r_square: 0.9992 - val_loss: 0.2859 - val_rmse: 0.3219 - val_r_square: 0.9989\n",
      "Epoch 60/100\n",
      "863855/863855 [==============================] - 4s 5us/step - loss: 0.2043 - rmse: 0.2875 - r_square: 0.9992 - val_loss: 0.2280 - val_rmse: 0.3120 - val_r_square: 0.9991\n",
      "Epoch 61/100\n",
      "863855/863855 [==============================] - 4s 5us/step - loss: 0.2043 - rmse: 0.2875 - r_square: 0.9992 - val_loss: 0.1926 - val_rmse: 0.2784 - val_r_square: 0.9992\n",
      "Epoch 62/100\n",
      "863855/863855 [==============================] - 4s 5us/step - loss: 0.2034 - rmse: 0.2869 - r_square: 0.9992 - val_loss: 0.1846 - val_rmse: 0.2694 - val_r_square: 0.9993\n",
      "Epoch 63/100\n",
      "863855/863855 [==============================] - 4s 5us/step - loss: 0.2037 - rmse: 0.2870 - r_square: 0.9992 - val_loss: 0.2155 - val_rmse: 0.3035 - val_r_square: 0.9991\n",
      "Epoch 64/100\n",
      "863855/863855 [==============================] - 4s 5us/step - loss: 0.2030 - rmse: 0.2862 - r_square: 0.9992 - val_loss: 0.2182 - val_rmse: 0.3090 - val_r_square: 0.9991\n",
      "Epoch 65/100\n",
      "863855/863855 [==============================] - 4s 5us/step - loss: 0.2027 - rmse: 0.2865 - r_square: 0.9992 - val_loss: 0.1904 - val_rmse: 0.2715 - val_r_square: 0.9992\n",
      "Epoch 66/100\n",
      "863855/863855 [==============================] - 4s 5us/step - loss: 0.2020 - rmse: 0.2856 - r_square: 0.9992 - val_loss: 0.1895 - val_rmse: 0.2689 - val_r_square: 0.9993\n",
      "Epoch 67/100\n",
      "863855/863855 [==============================] - 4s 5us/step - loss: 0.2026 - rmse: 0.2861 - r_square: 0.9992 - val_loss: 0.2160 - val_rmse: 0.2996 - val_r_square: 0.9992\n",
      "Epoch 68/100\n",
      "863855/863855 [==============================] - 4s 5us/step - loss: 0.2011 - rmse: 0.2850 - r_square: 0.9992 - val_loss: 0.2110 - val_rmse: 0.2849 - val_r_square: 0.9992\n",
      "Epoch 69/100\n",
      "863855/863855 [==============================] - 4s 5us/step - loss: 0.2016 - rmse: 0.2852 - r_square: 0.9992 - val_loss: 0.1885 - val_rmse: 0.2824 - val_r_square: 0.9993\n",
      "Epoch 70/100\n",
      "863855/863855 [==============================] - 4s 5us/step - loss: 0.2020 - rmse: 0.2856 - r_square: 0.9992 - val_loss: 0.1967 - val_rmse: 0.2820 - val_r_square: 0.9992\n",
      "Epoch 71/100\n",
      "863855/863855 [==============================] - 4s 5us/step - loss: 0.2000 - rmse: 0.2841 - r_square: 0.9992 - val_loss: 0.2134 - val_rmse: 0.2919 - val_r_square: 0.9992\n",
      "Epoch 72/100\n",
      "863855/863855 [==============================] - 4s 5us/step - loss: 0.2012 - rmse: 0.2848 - r_square: 0.9992 - val_loss: 0.1906 - val_rmse: 0.2686 - val_r_square: 0.9992\n",
      "Epoch 73/100\n",
      "863855/863855 [==============================] - 4s 5us/step - loss: 0.1993 - rmse: 0.2832 - r_square: 0.9992 - val_loss: 0.1892 - val_rmse: 0.2765 - val_r_square: 0.9993\n",
      "Epoch 74/100\n",
      "863855/863855 [==============================] - 4s 5us/step - loss: 0.1992 - rmse: 0.2834 - r_square: 0.9992 - val_loss: 0.2017 - val_rmse: 0.3001 - val_r_square: 0.9992\n",
      "Epoch 75/100\n",
      "863855/863855 [==============================] - 4s 5us/step - loss: 0.1991 - rmse: 0.2834 - r_square: 0.9992 - val_loss: 0.1945 - val_rmse: 0.2753 - val_r_square: 0.9992\n",
      "Epoch 76/100\n",
      "863855/863855 [==============================] - 4s 5us/step - loss: 0.1995 - rmse: 0.2839 - r_square: 0.9992 - val_loss: 0.1992 - val_rmse: 0.2891 - val_r_square: 0.9992\n",
      "Epoch 77/100\n",
      "863855/863855 [==============================] - 4s 5us/step - loss: 0.1989 - rmse: 0.2830 - r_square: 0.9992 - val_loss: 0.1985 - val_rmse: 0.2819 - val_r_square: 0.9992\n",
      "Epoch 78/100\n",
      "863855/863855 [==============================] - 4s 5us/step - loss: 0.1985 - rmse: 0.2828 - r_square: 0.9992 - val_loss: 0.2049 - val_rmse: 0.2921 - val_r_square: 0.9992\n",
      "Epoch 79/100\n",
      "863855/863855 [==============================] - 4s 5us/step - loss: 0.1971 - rmse: 0.2817 - r_square: 0.9992 - val_loss: 0.2051 - val_rmse: 0.2988 - val_r_square: 0.9992\n",
      "Epoch 80/100\n",
      "863855/863855 [==============================] - 4s 5us/step - loss: 0.1983 - rmse: 0.2827 - r_square: 0.9992 - val_loss: 0.1874 - val_rmse: 0.2717 - val_r_square: 0.9993\n",
      "Epoch 81/100\n",
      "863855/863855 [==============================] - 4s 5us/step - loss: 0.1985 - rmse: 0.2829 - r_square: 0.9992 - val_loss: 0.2128 - val_rmse: 0.3071 - val_r_square: 0.9992\n",
      "Epoch 82/100\n",
      "863855/863855 [==============================] - 4s 5us/step - loss: 0.1968 - rmse: 0.2814 - r_square: 0.9992 - val_loss: 0.2016 - val_rmse: 0.2971 - val_r_square: 0.9992\n",
      "Epoch 83/100\n",
      "863855/863855 [==============================] - 4s 5us/step - loss: 0.1970 - rmse: 0.2818 - r_square: 0.9992 - val_loss: 0.2188 - val_rmse: 0.2868 - val_r_square: 0.9991\n",
      "Epoch 84/100\n",
      "863855/863855 [==============================] - 4s 5us/step - loss: 0.1973 - rmse: 0.2820 - r_square: 0.9992 - val_loss: 0.2103 - val_rmse: 0.2876 - val_r_square: 0.9992\n",
      "Epoch 85/100\n",
      "863855/863855 [==============================] - 4s 5us/step - loss: 0.1966 - rmse: 0.2814 - r_square: 0.9992 - val_loss: 0.2145 - val_rmse: 0.3081 - val_r_square: 0.9992\n",
      "Epoch 86/100\n",
      "863855/863855 [==============================] - 4s 5us/step - loss: 0.1962 - rmse: 0.2813 - r_square: 0.9992 - val_loss: 0.2147 - val_rmse: 0.2982 - val_r_square: 0.9992\n",
      "Epoch 87/100\n",
      "863855/863855 [==============================] - 4s 5us/step - loss: 0.1945 - rmse: 0.2797 - r_square: 0.9992 - val_loss: 0.2286 - val_rmse: 0.3215 - val_r_square: 0.9991\n",
      "Epoch 00087: early stopping\n"
     ]
    }
   ],
   "source": [
    "# fit the model\n",
    "result = model.fit(XX_train, \n",
    "                   yy_train,\n",
    "                   epochs = 100,\n",
    "                   batch_size=256,\n",
    "                   validation_data=(XX_validation, yy_validation),\n",
    "                   callbacks = [es]\n",
    "                  )"
   ]
  },
  {
   "cell_type": "code",
   "execution_count": 15,
   "metadata": {},
   "outputs": [],
   "source": [
    "model.save('model4.h5')"
   ]
  },
  {
   "cell_type": "code",
   "execution_count": 14,
   "metadata": {},
   "outputs": [
    {
     "name": "stdout",
     "output_type": "stream",
     "text": [
      "Prediction:\n",
      " [[ 0.7452288 ]\n",
      " [ 8.072299  ]\n",
      " [44.38583   ]\n",
      " [13.630843  ]\n",
      " [ 1.9488716 ]\n",
      " [ 0.08636543]\n",
      " [ 6.305229  ]\n",
      " [ 4.6770115 ]\n",
      " [ 9.619084  ]\n",
      " [18.397778  ]]\n",
      "Actual:\n",
      " [3.400e-01 7.600e+00 4.435e+01 1.425e+01 1.760e+00 3.000e-02 5.500e+00\n",
      " 4.500e+00 9.350e+00 1.795e+01]\n"
     ]
    }
   ],
   "source": [
    "predictions = model.predict(X_test)\n",
    "print('Prediction:\\n', predictions[:10])\n",
    "print('Actual:\\n', y_test[:10])"
   ]
  },
  {
   "cell_type": "markdown",
   "metadata": {},
   "source": [
    "## Plot learning curves including R^2 and RMSE"
   ]
  },
  {
   "cell_type": "code",
   "execution_count": 16,
   "metadata": {},
   "outputs": [
    {
     "data": {
      "image/png": "[encoded data removed]",
      "text/plain": [
       "<Figure size 432x288 with 1 Axes>"
      ]
     },
     "metadata": {},
     "output_type": "display_data"
    }
   ],
   "source": [
    "# plot training curve for rmse\n",
    "plt.plot(result.history['rmse'])\n",
    "plt.plot(result.history['val_rmse'])\n",
    "plt.title('rmse')\n",
    "plt.ylabel('rmse')\n",
    "plt.xlabel('epoch')\n",
    "plt.legend(['train', 'validation'], loc='upper right')\n",
    "plt.show()"
   ]
  },
  {
   "cell_type": "code",
   "execution_count": 17,
   "metadata": {},
   "outputs": [
    {
     "data": {
      "image/png": "[encoded data removed]",
      "text/plain": [
       "<Figure size 432x288 with 1 Axes>"
      ]
     },
     "metadata": {},
     "output_type": "display_data"
    }
   ],
   "source": [
    "# plot training curve for R^2\n",
    "plt.plot(result.history['r_square'])\n",
    "plt.plot(result.history['val_r_square'])\n",
    "plt.title('model R^2')\n",
    "plt.ylabel('R^2')\n",
    "plt.xlabel('epoch')\n",
    "plt.legend(['train', 'validation'], loc='lower right')\n",
    "plt.show()"
   ]
  },
  {
   "cell_type": "code",
   "execution_count": 18,
   "metadata": {},
   "outputs": [
    {
     "name": "stdout",
     "output_type": "stream",
     "text": [
      "\n",
      "\n",
      "Mean absolute error (MAE):      0.321028\n",
      "Mean squared error (MSE):       0.227366\n",
      "Root mean squared error (RMSE): 0.476829\n",
      "R square (R^2):                 0.999139\n"
     ]
    }
   ],
   "source": [
    "import sklearn.metrics as skm, math\n",
    "print(\"\\n\")\n",
    "print(\"Mean absolute error (MAE):      %f\" % skm.mean_absolute_error(y_test,predictions))\n",
    "print(\"Mean squared error (MSE):       %f\" % skm.mean_squared_error(y_test,predictions))\n",
    "print(\"Root mean squared error (RMSE): %f\" % math.sqrt(skm.mean_squared_error(y_test,predictions)))\n",
    "print(\"R square (R^2):                 %f\" % skm.r2_score(y_test,predictions))"
   ]
  },
  {
   "cell_type": "markdown",
   "metadata": {},
   "source": [
    "## Try dropout"
   ]
  },
  {
   "cell_type": "code",
   "execution_count": 19,
   "metadata": {},
   "outputs": [
    {
     "name": "stderr",
     "output_type": "stream",
     "text": [
      "W0706 19:00:26.179871  3468 deprecation.py:506] From C:\\Users\\mayingzh\\AppData\\Roaming\\Python\\Python36\\site-packages\\keras\\backend\\tensorflow_backend.py:3445: calling dropout (from tensorflow.python.ops.nn_ops) with keep_prob is deprecated and will be removed in a future version.\n",
      "Instructions for updating:\n",
      "Please use `rate` instead of `keep_prob`. Rate should be set to `rate = 1 - keep_prob`.\n"
     ]
    },
    {
     "name": "stdout",
     "output_type": "stream",
     "text": [
      "Train on 863855 samples, validate on 215964 samples\n",
      "Epoch 1/100\n",
      "863855/863855 [==============================] - 5s 6us/step - loss: 20.4560 - rmse: 1.8398 - r_square: 0.9218 - val_loss: 0.6476 - val_rmse: 0.4984 - val_r_square: 0.9975\n",
      "Epoch 2/100\n",
      "863855/863855 [==============================] - 5s 6us/step - loss: 1.5154 - rmse: 0.7344 - r_square: 0.9941 - val_loss: 1.0527 - val_rmse: 0.6566 - val_r_square: 0.9959\n",
      "Epoch 3/100\n",
      "863855/863855 [==============================] - 5s 6us/step - loss: 0.9880 - rmse: 0.6105 - r_square: 0.9961 - val_loss: 2.0193 - val_rmse: 0.7998 - val_r_square: 0.9923\n",
      "Epoch 4/100\n",
      "863855/863855 [==============================] - 5s 6us/step - loss: 0.7364 - rmse: 0.5351 - r_square: 0.9971 - val_loss: 1.8877 - val_rmse: 0.7485 - val_r_square: 0.9928\n",
      "Epoch 5/100\n",
      "863855/863855 [==============================] - 5s 6us/step - loss: 0.5961 - rmse: 0.4862 - r_square: 0.9976 - val_loss: 2.9258 - val_rmse: 0.9831 - val_r_square: 0.9888\n",
      "Epoch 6/100\n",
      "863855/863855 [==============================] - 5s 6us/step - loss: 0.5079 - rmse: 0.4534 - r_square: 0.9980 - val_loss: 2.7706 - val_rmse: 0.9060 - val_r_square: 0.9895\n",
      "Epoch 7/100\n",
      "863855/863855 [==============================] - 5s 6us/step - loss: 0.4594 - rmse: 0.4327 - r_square: 0.9982 - val_loss: 3.5005 - val_rmse: 0.9953 - val_r_square: 0.9867\n",
      "Epoch 8/100\n",
      "863855/863855 [==============================] - 5s 6us/step - loss: 0.4260 - rmse: 0.4170 - r_square: 0.9983 - val_loss: 3.2592 - val_rmse: 0.9487 - val_r_square: 0.9876\n",
      "Epoch 9/100\n",
      "863855/863855 [==============================] - 5s 6us/step - loss: 0.3951 - rmse: 0.4028 - r_square: 0.9984 - val_loss: 3.5815 - val_rmse: 0.9847 - val_r_square: 0.9864\n",
      "Epoch 10/100\n",
      "863855/863855 [==============================] - 5s 6us/step - loss: 0.3773 - rmse: 0.3950 - r_square: 0.9985 - val_loss: 2.5586 - val_rmse: 0.8552 - val_r_square: 0.9903\n",
      "Epoch 11/100\n",
      "863855/863855 [==============================] - 5s 6us/step - loss: 0.3621 - rmse: 0.3867 - r_square: 0.9986 - val_loss: 3.7761 - val_rmse: 1.0496 - val_r_square: 0.9856\n",
      "Epoch 12/100\n",
      "863855/863855 [==============================] - 5s 6us/step - loss: 0.3515 - rmse: 0.3813 - r_square: 0.9986 - val_loss: 3.3080 - val_rmse: 0.9744 - val_r_square: 0.9874\n",
      "Epoch 13/100\n",
      "863855/863855 [==============================] - 5s 6us/step - loss: 0.3428 - rmse: 0.3757 - r_square: 0.9986 - val_loss: 3.2424 - val_rmse: 0.9440 - val_r_square: 0.9877\n",
      "Epoch 14/100\n",
      "863855/863855 [==============================] - 5s 6us/step - loss: 0.3322 - rmse: 0.3708 - r_square: 0.9987 - val_loss: 3.3687 - val_rmse: 0.9874 - val_r_square: 0.9872\n",
      "Epoch 15/100\n",
      "863855/863855 [==============================] - 5s 6us/step - loss: 0.3287 - rmse: 0.3684 - r_square: 0.9987 - val_loss: 4.4914 - val_rmse: 1.1786 - val_r_square: 0.9828\n",
      "Epoch 16/100\n",
      "863855/863855 [==============================] - 5s 6us/step - loss: 0.3220 - rmse: 0.3655 - r_square: 0.9987 - val_loss: 3.2369 - val_rmse: 0.9609 - val_r_square: 0.9877\n",
      "Epoch 17/100\n",
      "863855/863855 [==============================] - 5s 6us/step - loss: 0.3156 - rmse: 0.3611 - r_square: 0.9987 - val_loss: 3.6673 - val_rmse: 1.0537 - val_r_square: 0.9860\n",
      "Epoch 18/100\n",
      "863855/863855 [==============================] - 5s 6us/step - loss: 0.3146 - rmse: 0.3601 - r_square: 0.9987 - val_loss: 4.2934 - val_rmse: 1.1667 - val_r_square: 0.9836\n",
      "Epoch 19/100\n",
      "863855/863855 [==============================] - 5s 6us/step - loss: 0.3081 - rmse: 0.3572 - r_square: 0.9988 - val_loss: 4.0172 - val_rmse: 1.0525 - val_r_square: 0.9847\n",
      "Epoch 20/100\n",
      "863855/863855 [==============================] - 5s 6us/step - loss: 0.3057 - rmse: 0.3553 - r_square: 0.9988 - val_loss: 4.0503 - val_rmse: 1.0814 - val_r_square: 0.9845\n",
      "Epoch 21/100\n",
      "863855/863855 [==============================] - 5s 6us/step - loss: 0.3014 - rmse: 0.3530 - r_square: 0.9988 - val_loss: 3.8210 - val_rmse: 1.0438 - val_r_square: 0.9854\n",
      "Epoch 22/100\n",
      "863855/863855 [==============================] - 5s 6us/step - loss: 0.2997 - rmse: 0.3516 - r_square: 0.9988 - val_loss: 3.1725 - val_rmse: 0.8896 - val_r_square: 0.9879\n",
      "Epoch 23/100\n",
      "863855/863855 [==============================] - 5s 6us/step - loss: 0.2983 - rmse: 0.3504 - r_square: 0.9988 - val_loss: 4.1341 - val_rmse: 1.0906 - val_r_square: 0.9842\n",
      "Epoch 24/100\n",
      "863855/863855 [==============================] - 5s 6us/step - loss: 0.2913 - rmse: 0.3472 - r_square: 0.9988 - val_loss: 4.0889 - val_rmse: 1.0618 - val_r_square: 0.9844\n",
      "Epoch 25/100\n",
      "863855/863855 [==============================] - 5s 6us/step - loss: 0.2894 - rmse: 0.3458 - r_square: 0.9988 - val_loss: 3.8881 - val_rmse: 1.0674 - val_r_square: 0.9852\n",
      "Epoch 26/100\n",
      "863855/863855 [==============================] - 5s 6us/step - loss: 0.2888 - rmse: 0.3454 - r_square: 0.9989 - val_loss: 3.9983 - val_rmse: 1.0919 - val_r_square: 0.9847\n",
      "Epoch 00026: early stopping\n"
     ]
    }
   ],
   "source": [
    "model2 = Sequential([\n",
    "    Dense(64, activation='relu', input_shape=(7,)),\n",
    "    Dropout(0.1),\n",
    "    Dense(128, activation='relu'),\n",
    "    Dense(64, activation='relu'),\n",
    "    Dense(1, activation='linear'),\n",
    "])\n",
    "model2.compile(\n",
    "  optimizer='adam',\n",
    "  loss='mse',\n",
    "  metrics=[rmse, r_square],\n",
    ")\n",
    "# fit the model\n",
    "result2 = model2.fit(XX_train, \n",
    "                   yy_train,\n",
    "                   epochs = 100,\n",
    "                   batch_size=256,\n",
    "                   validation_data=(XX_validation, yy_validation),\n",
    "                   callbacks = [es]\n",
    "                  )"
   ]
  },
  {
   "cell_type": "code",
   "execution_count": 21,
   "metadata": {},
   "outputs": [
    {
     "name": "stdout",
     "output_type": "stream",
     "text": [
      "[[ 0.96851486]\n",
      " [ 6.4468536 ]\n",
      " [40.347363  ]\n",
      " [11.446528  ]\n",
      " [ 1.8761499 ]\n",
      " [ 0.12979294]\n",
      " [ 4.9536304 ]\n",
      " [ 4.142134  ]\n",
      " [ 8.117151  ]\n",
      " [16.198263  ]]\n",
      "\n",
      "\n",
      "Mean absolute error (MAE):      1.091110\n",
      "Mean squared error (MSE):       3.988861\n",
      "Root mean squared error (RMSE): 1.997213\n",
      "R square (R^2):                 0.984898\n"
     ]
    }
   ],
   "source": [
    "predictions2 = model2.predict(X_test)\n",
    "print(predictions2[:10])\n",
    "print(\"\\n\")\n",
    "print(\"Mean absolute error (MAE):      %f\" % skm.mean_absolute_error(y_test,predictions2))\n",
    "print(\"Mean squared error (MSE):       %f\" % skm.mean_squared_error(y_test,predictions2))\n",
    "print(\"Root mean squared error (RMSE): %f\" % math.sqrt(skm.mean_squared_error(y_test,predictions2)))\n",
    "print(\"R square (R^2):                 %f\" % skm.r2_score(y_test,predictions2))"
   ]
  },
  {
   "cell_type": "code",
   "execution_count": null,
   "metadata": {},
   "outputs": [],
   "source": []
  },
  {
   "cell_type": "code",
   "execution_count": null,
   "metadata": {},
   "outputs": [],
   "source": []
  },
  {
   "cell_type": "code",
   "execution_count": null,
   "metadata": {},
   "outputs": [],
   "source": []
  },
  {
   "cell_type": "markdown",
   "metadata": {},
   "source": [
    "## Try batch normalization technique to regularize neurons"
   ]
  },
  {
   "cell_type": "code",
   "execution_count": 24,
   "metadata": {},
   "outputs": [
    {
     "name": "stdout",
     "output_type": "stream",
     "text": [
      "Train on 863855 samples, validate on 215964 samples\n",
      "Epoch 1/100\n",
      "863855/863855 [==============================] - 5s 6us/step - loss: 13.3392 - rmse: 1.6708 - r_square: 0.9485 - val_loss: 0.8619 - val_rmse: 0.6012 - val_r_square: 0.9966\n",
      "Epoch 2/100\n",
      "863855/863855 [==============================] - 5s 6us/step - loss: 4.2276 - rmse: 1.1703 - r_square: 0.9835 - val_loss: 0.4646 - val_rmse: 0.4274 - val_r_square: 0.9982\n",
      "Epoch 3/100\n",
      "863855/863855 [==============================] - 5s 6us/step - loss: 4.0410 - rmse: 1.1328 - r_square: 0.9842 - val_loss: 0.5685 - val_rmse: 0.4942 - val_r_square: 0.9978\n",
      "Epoch 4/100\n",
      "863855/863855 [==============================] - 5s 6us/step - loss: 4.0703 - rmse: 1.1338 - r_square: 0.9840 - val_loss: 0.6028 - val_rmse: 0.5206 - val_r_square: 0.9976\n",
      "Epoch 5/100\n",
      "863855/863855 [==============================] - 5s 6us/step - loss: 3.8175 - rmse: 1.0957 - r_square: 0.9851 - val_loss: 0.7584 - val_rmse: 0.5792 - val_r_square: 0.9970\n",
      "Epoch 6/100\n",
      "863855/863855 [==============================] - 5s 6us/step - loss: 3.8404 - rmse: 1.0964 - r_square: 0.9850 - val_loss: 0.4596 - val_rmse: 0.4073 - val_r_square: 0.9982\n",
      "Epoch 7/100\n",
      "863855/863855 [==============================] - 5s 6us/step - loss: 3.8380 - rmse: 1.0941 - r_square: 0.9849 - val_loss: 0.4074 - val_rmse: 0.4137 - val_r_square: 0.9984\n",
      "Epoch 8/100\n",
      "863855/863855 [==============================] - 5s 6us/step - loss: 3.8733 - rmse: 1.0965 - r_square: 0.9849 - val_loss: 0.5369 - val_rmse: 0.4634 - val_r_square: 0.9979\n",
      "Epoch 9/100\n",
      "863855/863855 [==============================] - 5s 6us/step - loss: 3.8366 - rmse: 1.0960 - r_square: 0.9849 - val_loss: 0.5750 - val_rmse: 0.4409 - val_r_square: 0.9978\n",
      "Epoch 10/100\n",
      "863855/863855 [==============================] - 5s 6us/step - loss: 3.8406 - rmse: 1.0912 - r_square: 0.9850 - val_loss: 0.6914 - val_rmse: 0.5598 - val_r_square: 0.9973\n",
      "Epoch 11/100\n",
      "863855/863855 [==============================] - 5s 6us/step - loss: 3.7662 - rmse: 1.0734 - r_square: 0.9852 - val_loss: 0.8234 - val_rmse: 0.6002 - val_r_square: 0.9968\n",
      "Epoch 12/100\n",
      "863855/863855 [==============================] - 5s 6us/step - loss: 3.6986 - rmse: 1.0700 - r_square: 0.9854 - val_loss: 0.3989 - val_rmse: 0.3993 - val_r_square: 0.9984\n",
      "Epoch 13/100\n",
      "863855/863855 [==============================] - 5s 6us/step - loss: 3.7382 - rmse: 1.0729 - r_square: 0.9854 - val_loss: 0.6480 - val_rmse: 0.4871 - val_r_square: 0.9975\n",
      "Epoch 14/100\n",
      "863855/863855 [==============================] - 5s 6us/step - loss: 3.6157 - rmse: 1.0591 - r_square: 0.9858 - val_loss: 1.4115 - val_rmse: 0.7636 - val_r_square: 0.9945\n",
      "Epoch 15/100\n",
      "863855/863855 [==============================] - 5s 6us/step - loss: 3.8051 - rmse: 1.0864 - r_square: 0.9852 - val_loss: 0.3908 - val_rmse: 0.3921 - val_r_square: 0.9985\n",
      "Epoch 16/100\n",
      "863855/863855 [==============================] - 5s 6us/step - loss: 3.7244 - rmse: 1.0683 - r_square: 0.9854 - val_loss: 0.4405 - val_rmse: 0.4481 - val_r_square: 0.9983\n",
      "Epoch 17/100\n",
      "863855/863855 [==============================] - 5s 6us/step - loss: 3.6211 - rmse: 1.0548 - r_square: 0.9858 - val_loss: 0.4277 - val_rmse: 0.4109 - val_r_square: 0.9983\n",
      "Epoch 18/100\n",
      "863855/863855 [==============================] - 5s 6us/step - loss: 3.7206 - rmse: 1.0693 - r_square: 0.9854 - val_loss: 1.0763 - val_rmse: 0.6250 - val_r_square: 0.9958\n",
      "Epoch 19/100\n",
      "863855/863855 [==============================] - 5s 6us/step - loss: 3.7480 - rmse: 1.0682 - r_square: 0.9853 - val_loss: 0.6777 - val_rmse: 0.5359 - val_r_square: 0.9974\n",
      "Epoch 20/100\n",
      "863855/863855 [==============================] - 5s 6us/step - loss: 3.5881 - rmse: 1.0531 - r_square: 0.9859 - val_loss: 0.3641 - val_rmse: 0.4058 - val_r_square: 0.9986\n",
      "Epoch 21/100\n",
      "863855/863855 [==============================] - 5s 6us/step - loss: 3.6754 - rmse: 1.0616 - r_square: 0.9856 - val_loss: 0.7014 - val_rmse: 0.4976 - val_r_square: 0.9973\n",
      "Epoch 22/100\n",
      "863855/863855 [==============================] - 5s 6us/step - loss: 3.6813 - rmse: 1.0615 - r_square: 0.9856 - val_loss: 1.2155 - val_rmse: 0.6371 - val_r_square: 0.9953\n",
      "Epoch 23/100\n",
      "863855/863855 [==============================] - 5s 6us/step - loss: 3.6186 - rmse: 1.0569 - r_square: 0.9858 - val_loss: 0.6922 - val_rmse: 0.4894 - val_r_square: 0.9973\n",
      "Epoch 24/100\n",
      "863855/863855 [==============================] - 5s 6us/step - loss: 3.6168 - rmse: 1.0582 - r_square: 0.9858 - val_loss: 0.3802 - val_rmse: 0.3909 - val_r_square: 0.9985\n",
      "Epoch 25/100\n",
      "863855/863855 [==============================] - 5s 6us/step - loss: 3.8821 - rmse: 1.0895 - r_square: 0.9848 - val_loss: 0.4273 - val_rmse: 0.4155 - val_r_square: 0.9983\n",
      "Epoch 26/100\n",
      "863855/863855 [==============================] - 5s 6us/step - loss: 3.7147 - rmse: 1.0637 - r_square: 0.9855 - val_loss: 0.4201 - val_rmse: 0.3964 - val_r_square: 0.9984\n",
      "Epoch 27/100\n",
      "863855/863855 [==============================] - 5s 6us/step - loss: 3.5474 - rmse: 1.0417 - r_square: 0.9862 - val_loss: 0.9463 - val_rmse: 0.5623 - val_r_square: 0.9963\n",
      "Epoch 28/100\n",
      "863855/863855 [==============================] - 5s 6us/step - loss: 3.5802 - rmse: 1.0463 - r_square: 0.9859 - val_loss: 0.6447 - val_rmse: 0.4622 - val_r_square: 0.9975\n",
      "Epoch 29/100\n",
      "863855/863855 [==============================] - 5s 6us/step - loss: 3.6792 - rmse: 1.0596 - r_square: 0.9856 - val_loss: 0.5202 - val_rmse: 0.4523 - val_r_square: 0.9980\n",
      "Epoch 30/100\n",
      "863855/863855 [==============================] - 5s 6us/step - loss: 3.6380 - rmse: 1.0562 - r_square: 0.9858 - val_loss: 0.5599 - val_rmse: 0.4940 - val_r_square: 0.9978\n",
      "Epoch 31/100\n",
      "863855/863855 [==============================] - 5s 6us/step - loss: 3.5666 - rmse: 1.0476 - r_square: 0.9861 - val_loss: 0.5587 - val_rmse: 0.4576 - val_r_square: 0.9978\n",
      "Epoch 32/100\n",
      "863855/863855 [==============================] - 5s 6us/step - loss: 3.6524 - rmse: 1.0619 - r_square: 0.9856 - val_loss: 0.3433 - val_rmse: 0.3695 - val_r_square: 0.9987\n",
      "Epoch 33/100\n",
      "863855/863855 [==============================] - 5s 6us/step - loss: 3.6470 - rmse: 1.0599 - r_square: 0.9857 - val_loss: 0.5743 - val_rmse: 0.4693 - val_r_square: 0.9978\n",
      "Epoch 34/100\n",
      "863855/863855 [==============================] - 5s 6us/step - loss: 3.6621 - rmse: 1.0602 - r_square: 0.9857 - val_loss: 0.4205 - val_rmse: 0.3984 - val_r_square: 0.9984\n",
      "Epoch 35/100\n",
      "863855/863855 [==============================] - 5s 6us/step - loss: 3.6465 - rmse: 1.0552 - r_square: 0.9857 - val_loss: 0.8434 - val_rmse: 0.5235 - val_r_square: 0.9967\n",
      "Epoch 36/100\n",
      "863855/863855 [==============================] - 5s 5us/step - loss: 3.6456 - rmse: 1.0621 - r_square: 0.9857 - val_loss: 0.4141 - val_rmse: 0.4085 - val_r_square: 0.9984\n",
      "Epoch 37/100\n",
      "863855/863855 [==============================] - 5s 6us/step - loss: 3.5434 - rmse: 1.0415 - r_square: 0.9862 - val_loss: 0.4496 - val_rmse: 0.4187 - val_r_square: 0.9982\n",
      "Epoch 38/100\n",
      "863855/863855 [==============================] - 5s 5us/step - loss: 3.6410 - rmse: 1.0516 - r_square: 0.9858 - val_loss: 0.6889 - val_rmse: 0.4623 - val_r_square: 0.9973\n",
      "Epoch 39/100\n",
      "863855/863855 [==============================] - 5s 6us/step - loss: 3.5991 - rmse: 1.0470 - r_square: 0.9860 - val_loss: 0.6172 - val_rmse: 0.4787 - val_r_square: 0.9976\n",
      "Epoch 40/100\n",
      "863855/863855 [==============================] - 5s 6us/step - loss: 3.5134 - rmse: 1.0400 - r_square: 0.9862 - val_loss: 0.4769 - val_rmse: 0.4379 - val_r_square: 0.9981\n",
      "Epoch 41/100\n",
      "863855/863855 [==============================] - 5s 5us/step - loss: 3.5291 - rmse: 1.0413 - r_square: 0.9861 - val_loss: 0.4498 - val_rmse: 0.4282 - val_r_square: 0.9982\n",
      "Epoch 42/100\n",
      "863855/863855 [==============================] - 5s 5us/step - loss: 3.5233 - rmse: 1.0419 - r_square: 0.9862 - val_loss: 0.5937 - val_rmse: 0.4320 - val_r_square: 0.9977\n",
      "Epoch 43/100\n",
      "863855/863855 [==============================] - 5s 6us/step - loss: 3.6267 - rmse: 1.0529 - r_square: 0.9858 - val_loss: 0.3609 - val_rmse: 0.3895 - val_r_square: 0.9986\n",
      "Epoch 44/100\n",
      "863855/863855 [==============================] - 5s 6us/step - loss: 3.6300 - rmse: 1.0554 - r_square: 0.9858 - val_loss: 0.4636 - val_rmse: 0.4091 - val_r_square: 0.9982\n",
      "Epoch 45/100\n"
     ]
    },
    {
     "name": "stdout",
     "output_type": "stream",
     "text": [
      "863855/863855 [==============================] - 5s 6us/step - loss: 3.6306 - rmse: 1.0592 - r_square: 0.9858 - val_loss: 0.3527 - val_rmse: 0.3842 - val_r_square: 0.9986\n",
      "Epoch 46/100\n",
      "863855/863855 [==============================] - 5s 6us/step - loss: 3.6800 - rmse: 1.0599 - r_square: 0.9856 - val_loss: 0.4159 - val_rmse: 0.4220 - val_r_square: 0.9984\n",
      "Epoch 47/100\n",
      "863855/863855 [==============================] - 5s 6us/step - loss: 3.5382 - rmse: 1.0404 - r_square: 0.9861 - val_loss: 1.0692 - val_rmse: 0.6028 - val_r_square: 0.9959\n",
      "Epoch 48/100\n",
      "863855/863855 [==============================] - 5s 5us/step - loss: 3.6088 - rmse: 1.0512 - r_square: 0.9859 - val_loss: 0.3410 - val_rmse: 0.3686 - val_r_square: 0.9987\n",
      "Epoch 49/100\n",
      "863855/863855 [==============================] - 5s 5us/step - loss: 3.5764 - rmse: 1.0479 - r_square: 0.9860 - val_loss: 0.7133 - val_rmse: 0.6001 - val_r_square: 0.9972\n",
      "Epoch 50/100\n",
      "863855/863855 [==============================] - 5s 6us/step - loss: 3.5432 - rmse: 1.0447 - r_square: 0.9862 - val_loss: 0.4090 - val_rmse: 0.3852 - val_r_square: 0.9984\n",
      "Epoch 51/100\n",
      "863855/863855 [==============================] - 5s 5us/step - loss: 3.5758 - rmse: 1.0457 - r_square: 0.9860 - val_loss: 0.4574 - val_rmse: 0.4306 - val_r_square: 0.9982\n",
      "Epoch 52/100\n",
      "863855/863855 [==============================] - 5s 5us/step - loss: 3.5867 - rmse: 1.0460 - r_square: 0.9860 - val_loss: 0.3660 - val_rmse: 0.3714 - val_r_square: 0.9986\n",
      "Epoch 53/100\n",
      "863855/863855 [==============================] - 5s 6us/step - loss: 3.5775 - rmse: 1.0453 - r_square: 0.9860 - val_loss: 0.5592 - val_rmse: 0.4500 - val_r_square: 0.9978\n",
      "Epoch 54/100\n",
      "863855/863855 [==============================] - 5s 6us/step - loss: 3.4398 - rmse: 1.0279 - r_square: 0.9865 - val_loss: 0.4702 - val_rmse: 0.3959 - val_r_square: 0.9982\n",
      "Epoch 55/100\n",
      "863855/863855 [==============================] - 5s 6us/step - loss: 3.4225 - rmse: 1.0235 - r_square: 0.9866 - val_loss: 0.5203 - val_rmse: 0.4448 - val_r_square: 0.9980\n",
      "Epoch 56/100\n",
      "863855/863855 [==============================] - 5s 6us/step - loss: 3.5256 - rmse: 1.0370 - r_square: 0.9862 - val_loss: 0.4965 - val_rmse: 0.4158 - val_r_square: 0.9981\n",
      "Epoch 57/100\n",
      "863855/863855 [==============================] - 5s 6us/step - loss: 3.6599 - rmse: 1.0530 - r_square: 0.9857 - val_loss: 0.4586 - val_rmse: 0.4196 - val_r_square: 0.9982\n",
      "Epoch 58/100\n",
      "863855/863855 [==============================] - 5s 6us/step - loss: 3.4673 - rmse: 1.0321 - r_square: 0.9865 - val_loss: 0.4147 - val_rmse: 0.3878 - val_r_square: 0.9984\n",
      "Epoch 59/100\n",
      "863855/863855 [==============================] - 5s 6us/step - loss: 3.5173 - rmse: 1.0341 - r_square: 0.9862 - val_loss: 0.4541 - val_rmse: 0.3995 - val_r_square: 0.9982\n",
      "Epoch 60/100\n",
      "863855/863855 [==============================] - 5s 6us/step - loss: 3.4532 - rmse: 1.0306 - r_square: 0.9864 - val_loss: 0.4602 - val_rmse: 0.4326 - val_r_square: 0.9982\n",
      "Epoch 61/100\n",
      "863855/863855 [==============================] - 5s 6us/step - loss: 3.4642 - rmse: 1.0312 - r_square: 0.9864 - val_loss: 0.7786 - val_rmse: 0.4951 - val_r_square: 0.9970\n",
      "Epoch 62/100\n",
      "863855/863855 [==============================] - 5s 6us/step - loss: 3.4766 - rmse: 1.0271 - r_square: 0.9864 - val_loss: 0.3916 - val_rmse: 0.3975 - val_r_square: 0.9985\n",
      "Epoch 63/100\n",
      "863855/863855 [==============================] - 5s 6us/step - loss: 3.4905 - rmse: 1.0342 - r_square: 0.9863 - val_loss: 0.4790 - val_rmse: 0.4222 - val_r_square: 0.9981\n",
      "Epoch 64/100\n",
      "863855/863855 [==============================] - 5s 6us/step - loss: 3.4432 - rmse: 1.0282 - r_square: 0.9865 - val_loss: 0.5842 - val_rmse: 0.4549 - val_r_square: 0.9977\n",
      "Epoch 65/100\n",
      "863855/863855 [==============================] - 5s 6us/step - loss: 3.4277 - rmse: 1.0284 - r_square: 0.9865 - val_loss: 0.5903 - val_rmse: 0.4379 - val_r_square: 0.9977\n",
      "Epoch 66/100\n",
      "863855/863855 [==============================] - 5s 6us/step - loss: 3.5399 - rmse: 1.0405 - r_square: 0.9862 - val_loss: 0.5626 - val_rmse: 0.4496 - val_r_square: 0.9978\n",
      "Epoch 67/100\n",
      "863855/863855 [==============================] - 5s 6us/step - loss: 3.4192 - rmse: 1.0271 - r_square: 0.9866 - val_loss: 0.4303 - val_rmse: 0.4111 - val_r_square: 0.9983\n",
      "Epoch 68/100\n",
      "863855/863855 [==============================] - 5s 6us/step - loss: 3.4804 - rmse: 1.0319 - r_square: 0.9864 - val_loss: 0.4161 - val_rmse: 0.4053 - val_r_square: 0.9984\n",
      "Epoch 69/100\n",
      "863855/863855 [==============================] - 5s 6us/step - loss: 3.4885 - rmse: 1.0332 - r_square: 0.9864 - val_loss: 0.4140 - val_rmse: 0.3894 - val_r_square: 0.9984\n",
      "Epoch 70/100\n",
      "863855/863855 [==============================] - 5s 6us/step - loss: 3.5527 - rmse: 1.0432 - r_square: 0.9861 - val_loss: 0.6207 - val_rmse: 0.4584 - val_r_square: 0.9976\n",
      "Epoch 71/100\n",
      "863855/863855 [==============================] - 5s 6us/step - loss: 3.4737 - rmse: 1.0318 - r_square: 0.9864 - val_loss: 0.5385 - val_rmse: 0.4219 - val_r_square: 0.9979\n",
      "Epoch 72/100\n",
      "863855/863855 [==============================] - 5s 6us/step - loss: 3.5108 - rmse: 1.0369 - r_square: 0.9863 - val_loss: 0.4410 - val_rmse: 0.4013 - val_r_square: 0.9983\n",
      "Epoch 73/100\n",
      "863855/863855 [==============================] - 5s 6us/step - loss: 3.5535 - rmse: 1.0400 - r_square: 0.9861 - val_loss: 0.4111 - val_rmse: 0.4086 - val_r_square: 0.9984\n",
      "Epoch 00073: early stopping\n"
     ]
    }
   ],
   "source": [
    "model3 = Sequential([\n",
    "    BatchNormalization(),\n",
    "    Dense(64, activation='relu', input_shape=(7,)),\n",
    "    Dense(128, activation='relu'),\n",
    "    Dense(64, activation='relu'),\n",
    "    Dense(1, activation='linear'),\n",
    "])\n",
    "model3.compile(\n",
    "  optimizer='adam',\n",
    "  loss='mse',\n",
    "  metrics=[rmse, r_square],\n",
    ")\n",
    "# fit the model\n",
    "result3 = model3.fit(XX_train, \n",
    "                   yy_train,\n",
    "                   epochs = 100,\n",
    "                   batch_size=256,\n",
    "                   validation_data=(XX_validation, yy_validation),\n",
    "                   callbacks = [es]\n",
    "                  )"
   ]
  },
  {
   "cell_type": "code",
   "execution_count": 25,
   "metadata": {},
   "outputs": [
    {
     "name": "stdout",
     "output_type": "stream",
     "text": [
      "[[ 0.8519847 ]\n",
      " [ 7.147746  ]\n",
      " [44.128983  ]\n",
      " [12.572897  ]\n",
      " [ 2.321763  ]\n",
      " [ 0.10606444]\n",
      " [ 6.0779285 ]\n",
      " [ 4.6703777 ]\n",
      " [ 8.171738  ]\n",
      " [17.301027  ]]\n",
      "\n",
      "\n",
      "Mean absolute error (MAE):      0.406705\n",
      "Mean squared error (MSE):       0.405651\n",
      "Root mean squared error (RMSE): 0.636908\n",
      "R square (R^2):                 0.998464\n"
     ]
    }
   ],
   "source": [
    "predictions3 = model3.predict(X_test)\n",
    "print(predictions3[:10])\n",
    "print(\"\\n\")\n",
    "print(\"Mean absolute error (MAE):      %f\" % skm.mean_absolute_error(y_test,predictions3))\n",
    "print(\"Mean squared error (MSE):       %f\" % skm.mean_squared_error(y_test,predictions3))\n",
    "print(\"Root mean squared error (RMSE): %f\" % math.sqrt(skm.mean_squared_error(y_test,predictions3)))\n",
    "print(\"R square (R^2):                 %f\" % skm.r2_score(y_test,predictions3))"
   ]
  },
  {
   "cell_type": "code",
   "execution_count": null,
   "metadata": {},
   "outputs": [],
   "source": []
  },
  {
   "cell_type": "markdown",
   "metadata": {},
   "source": [
    "## Reference: \n",
    "&emsp;&emsp;What does 'Accuracy' mean in Regression? https://github.com/keras-team/keras/issues/7947 <br>\n",
    "&emsp;&emsp;https://keras.io/metrics/<br>\n",
    "&emsp;&emsp;Scale, Standardize, or Normalize with Scikit-Learn https://towardsdatascience.com/scale-standardize-or-normalize-with-scikit-learn-6ccc7d176a02 <br>\n",
    "&emsp;&emsp;The Day my Computer Won the Nobel Prize (Neural Network Option Pricing)  https://medium.com/datadriveninvestor/the-day-my-computer-won-the-nobel-prize-neural-network-option-pricing-d29b4379f1d2 <br>"
   ]
  }
 ],
 "metadata": {
  "kernelspec": {
   "display_name": "Python 3",
   "language": "python",
   "name": "python3"
  },
  "language_info": {
   "codemirror_mode": {
    "name": "ipython",
    "version": 3
   },
   "file_extension": ".py",
   "mimetype": "text/x-python",
   "name": "python",
   "nbconvert_exporter": "python",
   "pygments_lexer": "ipython3",
   "version": "3.6.5"
  }
 },
 "nbformat": 4,
 "nbformat_minor": 2
}
