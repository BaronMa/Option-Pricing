{
 "cells": [
  {
   "cell_type": "code",
   "execution_count": 1,
   "metadata": {},
   "outputs": [
    {
     "name": "stdout",
     "output_type": "stream",
     "text": [
      "Collecting theano\n",
      "  Downloading https://files.pythonhosted.org/packages/7d/c4/6341148ad458b6cd8361b774d7ee6895c38eab88f05331f22304c484ed5d/Theano-1.0.4.tar.gz (2.8MB)\n",
      "Requirement already satisfied: numpy>=1.9.1 in c:\\programdata\\anaconda3\\lib\\site-packages (from theano) (1.16.2)\n",
      "Requirement already satisfied: scipy>=0.14 in c:\\programdata\\anaconda3\\lib\\site-packages (from theano) (1.2.1)\n",
      "Requirement already satisfied: six>=1.9.0 in c:\\programdata\\anaconda3\\lib\\site-packages (from theano) (1.12.0)\n",
      "Building wheels for collected packages: theano\n",
      "  Building wheel for theano (setup.py): started\n",
      "  Building wheel for theano (setup.py): finished with status 'done'\n",
      "  Created wheel for theano: filename=Theano-1.0.4-cp37-none-any.whl size=2667193 sha256=90b21d4b1a25879e97f1396d4915feee7b2ee9bef7061ff5b28b9f375339c516\n",
      "  Stored in directory: C:\\Users\\mayingzh\\AppData\\Local\\pip\\Cache\\wheels\\88\\fb\\be\\483910ff7e9f703f30a10605ad7605f3316493875c86637014\n",
      "Successfully built theano\n",
      "Installing collected packages: theano\n",
      "Successfully installed theano-1.0.4\n",
      "Collecting pymc3\n",
      "  Downloading https://files.pythonhosted.org/packages/42/c2/86e8be42b99d64932fa12611b502882a5f4d834b6d1d126bf3f956ad6428/pymc3-3.7-py3-none-any.whl (856kB)\n",
      "Requirement already satisfied: tqdm>=4.8.4 in c:\\programdata\\anaconda3\\lib\\site-packages (from pymc3) (4.31.1)\n",
      "Requirement already satisfied: pandas>=0.18.0 in c:\\programdata\\anaconda3\\lib\\site-packages (from pymc3) (0.24.2)\n",
      "Requirement already satisfied: h5py>=2.7.0 in c:\\programdata\\anaconda3\\lib\\site-packages (from pymc3) (2.9.0)\n",
      "Requirement already satisfied: numpy>=1.13.0 in c:\\programdata\\anaconda3\\lib\\site-packages (from pymc3) (1.16.2)\n",
      "Requirement already satisfied: theano>=1.0.4 in c:\\programdata\\anaconda3\\lib\\site-packages (from pymc3) (1.0.4)\n",
      "Requirement already satisfied: patsy>=0.4.0 in c:\\programdata\\anaconda3\\lib\\site-packages (from pymc3) (0.5.1)\n",
      "Requirement already satisfied: scipy>=0.18.1 in c:\\programdata\\anaconda3\\lib\\site-packages (from pymc3) (1.2.1)\n",
      "Requirement already satisfied: python-dateutil>=2.5.0 in c:\\programdata\\anaconda3\\lib\\site-packages (from pandas>=0.18.0->pymc3) (2.8.0)\n",
      "Requirement already satisfied: pytz>=2011k in c:\\programdata\\anaconda3\\lib\\site-packages (from pandas>=0.18.0->pymc3) (2018.9)\n",
      "Requirement already satisfied: six in c:\\programdata\\anaconda3\\lib\\site-packages (from h5py>=2.7.0->pymc3) (1.12.0)\n",
      "Installing collected packages: pymc3\n",
      "Successfully installed pymc3-3.7\n",
      "Collecting arviz\n",
      "  Downloading https://files.pythonhosted.org/packages/fa/de/7ee2d4da966097029ed40216674b7b84e55c8fbc3bbf8fb0080f930de46c/arviz-0.5.1-py3-none-any.whl (1.4MB)\n",
      "Collecting xarray>=0.11 (from arviz)\n",
      "  Downloading https://files.pythonhosted.org/packages/7e/84/e1127b7807a1a98da6d977939b11e89cb924b8b6d8917d9894eb8f39c230/xarray-0.14.0-py3-none-any.whl (598kB)\n",
      "Collecting netcdf4 (from arviz)\n",
      "  Downloading https://files.pythonhosted.org/packages/60/b8/0f894968c6f97e2e6d0b80a888238c492d7538799932dd1ec166e32459df/netCDF4-1.5.3-cp37-cp37m-win_amd64.whl (3.1MB)\n",
      "Requirement already satisfied: numpy>=1.12 in c:\\programdata\\anaconda3\\lib\\site-packages (from arviz) (1.16.2)\n",
      "Requirement already satisfied: scipy>=0.19 in c:\\programdata\\anaconda3\\lib\\site-packages (from arviz) (1.2.1)\n",
      "Requirement already satisfied: pandas>=0.23 in c:\\programdata\\anaconda3\\lib\\site-packages (from arviz) (0.24.2)\n",
      "Requirement already satisfied: matplotlib>=3.0 in c:\\programdata\\anaconda3\\lib\\site-packages (from arviz) (3.0.3)\n",
      "Collecting cftime (from netcdf4->arviz)\n",
      "  Downloading https://files.pythonhosted.org/packages/b3/6e/47546e3bf2a2b647a2715bb4cfe61e92fc1c1dc68ba04b224e4e2ed8dc60/cftime-1.0.4.2-cp37-none-win_amd64.whl (208kB)\n",
      "Requirement already satisfied: pytz>=2011k in c:\\programdata\\anaconda3\\lib\\site-packages (from pandas>=0.23->arviz) (2018.9)\n",
      "Requirement already satisfied: python-dateutil>=2.5.0 in c:\\programdata\\anaconda3\\lib\\site-packages (from pandas>=0.23->arviz) (2.8.0)\n",
      "Requirement already satisfied: cycler>=0.10 in c:\\programdata\\anaconda3\\lib\\site-packages (from matplotlib>=3.0->arviz) (0.10.0)\n",
      "Requirement already satisfied: kiwisolver>=1.0.1 in c:\\programdata\\anaconda3\\lib\\site-packages (from matplotlib>=3.0->arviz) (1.0.1)\n",
      "Requirement already satisfied: pyparsing!=2.0.4,!=2.1.2,!=2.1.6,>=2.0.1 in c:\\programdata\\anaconda3\\lib\\site-packages (from matplotlib>=3.0->arviz) (2.3.1)\n",
      "Requirement already satisfied: six>=1.5 in c:\\programdata\\anaconda3\\lib\\site-packages (from python-dateutil>=2.5.0->pandas>=0.23->arviz) (1.12.0)\n",
      "Requirement already satisfied: setuptools in c:\\programdata\\anaconda3\\lib\\site-packages (from kiwisolver>=1.0.1->matplotlib>=3.0->arviz) (41.4.0)\n",
      "Installing collected packages: xarray, cftime, netcdf4, arviz\n",
      "Successfully installed arviz-0.5.1 cftime-1.0.4.2 netcdf4-1.5.3 xarray-0.14.0\n"
     ]
    }
   ],
   "source": [
    "!pip install theano\n",
    "!pip install pymc3\n",
    "!pip install arviz"
   ]
  },
  {
   "cell_type": "code",
   "execution_count": 38,
   "metadata": {},
   "outputs": [],
   "source": [
    "import pandas as pd\n",
    "import numpy as np\n",
    "import theano\n",
    "from theano import tensor as tt, shared\n",
    "from sklearn.model_selection import train_test_split\n",
    "from sklearn import preprocessing\n",
    "import matplotlib.pyplot as plt\n",
    "#import tensorflow as tf\n",
    "import pymc3 as pm\n",
    "import arviz as az\n",
    "from sklearn.metrics import mean_squared_error\n",
    "floatX = theano.config.floatX\n",
    "from warnings import filterwarnings\n",
    "filterwarnings('ignore')"
   ]
  },
  {
   "cell_type": "code",
   "execution_count": 4,
   "metadata": {},
   "outputs": [
    {
     "name": "stdout",
     "output_type": "stream",
     "text": [
      "Running on PyMC3 v3.7\n"
     ]
    }
   ],
   "source": [
    "print('Running on PyMC3 v{}'.format(pm.__version__))"
   ]
  },
  {
   "cell_type": "markdown",
   "metadata": {},
   "source": [
    "## Load data and do data normalization"
   ]
  },
  {
   "cell_type": "code",
   "execution_count": 2,
   "metadata": {},
   "outputs": [
    {
     "data": {
      "text/html": [
       "<div>\n",
       "<style scoped>\n",
       "    .dataframe tbody tr th:only-of-type {\n",
       "        vertical-align: middle;\n",
       "    }\n",
       "\n",
       "    .dataframe tbody tr th {\n",
       "        vertical-align: top;\n",
       "    }\n",
       "\n",
       "    .dataframe thead th {\n",
       "        text-align: right;\n",
       "    }\n",
       "</style>\n",
       "<table border=\"1\" class=\"dataframe\">\n",
       "  <thead>\n",
       "    <tr style=\"text-align: right;\">\n",
       "      <th></th>\n",
       "      <th>Unnamed: 0</th>\n",
       "      <th>The Date of this Price</th>\n",
       "      <th>Expiration Date of the Option</th>\n",
       "      <th>Strike Price</th>\n",
       "      <th>Lowest  Closing Ask Across All Exchanges</th>\n",
       "      <th>Implied Volatility of the Option</th>\n",
       "      <th>Underlying Price</th>\n",
       "      <th>DGS10</th>\n",
       "      <th>maturity</th>\n",
       "      <th>C=Call, P=Put_C</th>\n",
       "      <th>C=Call, P=Put_P</th>\n",
       "    </tr>\n",
       "  </thead>\n",
       "  <tbody>\n",
       "    <tr>\n",
       "      <th>0</th>\n",
       "      <td>0</td>\n",
       "      <td>2012-09-04</td>\n",
       "      <td>2012-09-07</td>\n",
       "      <td>590.0</td>\n",
       "      <td>85.50</td>\n",
       "      <td>0.636391</td>\n",
       "      <td>674.97</td>\n",
       "      <td>1.59</td>\n",
       "      <td>3</td>\n",
       "      <td>1</td>\n",
       "      <td>0</td>\n",
       "    </tr>\n",
       "    <tr>\n",
       "      <th>1</th>\n",
       "      <td>4</td>\n",
       "      <td>2012-09-04</td>\n",
       "      <td>2012-09-07</td>\n",
       "      <td>610.0</td>\n",
       "      <td>65.45</td>\n",
       "      <td>0.495483</td>\n",
       "      <td>674.97</td>\n",
       "      <td>1.59</td>\n",
       "      <td>3</td>\n",
       "      <td>1</td>\n",
       "      <td>0</td>\n",
       "    </tr>\n",
       "    <tr>\n",
       "      <th>2</th>\n",
       "      <td>5</td>\n",
       "      <td>2012-09-04</td>\n",
       "      <td>2012-09-07</td>\n",
       "      <td>615.0</td>\n",
       "      <td>60.25</td>\n",
       "      <td>0.408294</td>\n",
       "      <td>674.97</td>\n",
       "      <td>1.59</td>\n",
       "      <td>3</td>\n",
       "      <td>1</td>\n",
       "      <td>0</td>\n",
       "    </tr>\n",
       "    <tr>\n",
       "      <th>3</th>\n",
       "      <td>6</td>\n",
       "      <td>2012-09-04</td>\n",
       "      <td>2012-09-07</td>\n",
       "      <td>620.0</td>\n",
       "      <td>55.25</td>\n",
       "      <td>0.376411</td>\n",
       "      <td>674.97</td>\n",
       "      <td>1.59</td>\n",
       "      <td>3</td>\n",
       "      <td>1</td>\n",
       "      <td>0</td>\n",
       "    </tr>\n",
       "    <tr>\n",
       "      <th>4</th>\n",
       "      <td>7</td>\n",
       "      <td>2012-09-04</td>\n",
       "      <td>2012-09-07</td>\n",
       "      <td>625.0</td>\n",
       "      <td>50.25</td>\n",
       "      <td>0.363375</td>\n",
       "      <td>674.97</td>\n",
       "      <td>1.59</td>\n",
       "      <td>3</td>\n",
       "      <td>1</td>\n",
       "      <td>0</td>\n",
       "    </tr>\n",
       "  </tbody>\n",
       "</table>\n",
       "</div>"
      ],
      "text/plain": [
       "   Unnamed: 0 The Date of this Price Expiration Date of the Option  \\\n",
       "0           0             2012-09-04                    2012-09-07   \n",
       "1           4             2012-09-04                    2012-09-07   \n",
       "2           5             2012-09-04                    2012-09-07   \n",
       "3           6             2012-09-04                    2012-09-07   \n",
       "4           7             2012-09-04                    2012-09-07   \n",
       "\n",
       "   Strike Price  Lowest  Closing Ask Across All Exchanges  \\\n",
       "0         590.0                                     85.50   \n",
       "1         610.0                                     65.45   \n",
       "2         615.0                                     60.25   \n",
       "3         620.0                                     55.25   \n",
       "4         625.0                                     50.25   \n",
       "\n",
       "   Implied Volatility of the Option  Underlying Price DGS10  maturity  \\\n",
       "0                          0.636391            674.97  1.59         3   \n",
       "1                          0.495483            674.97  1.59         3   \n",
       "2                          0.408294            674.97  1.59         3   \n",
       "3                          0.376411            674.97  1.59         3   \n",
       "4                          0.363375            674.97  1.59         3   \n",
       "\n",
       "   C=Call, P=Put_C  C=Call, P=Put_P  \n",
       "0                1                0  \n",
       "1                1                0  \n",
       "2                1                0  \n",
       "3                1                0  \n",
       "4                1                0  "
      ]
     },
     "execution_count": 2,
     "metadata": {},
     "output_type": "execute_result"
    }
   ],
   "source": [
    "df = pd.read_csv('AAPL.csv')\n",
    "df.head()"
   ]
  },
  {
   "cell_type": "code",
   "execution_count": 3,
   "metadata": {
    "scrolled": true
   },
   "outputs": [
    {
     "data": {
      "text/html": [
       "<div>\n",
       "<style scoped>\n",
       "    .dataframe tbody tr th:only-of-type {\n",
       "        vertical-align: middle;\n",
       "    }\n",
       "\n",
       "    .dataframe tbody tr th {\n",
       "        vertical-align: top;\n",
       "    }\n",
       "\n",
       "    .dataframe thead th {\n",
       "        text-align: right;\n",
       "    }\n",
       "</style>\n",
       "<table border=\"1\" class=\"dataframe\">\n",
       "  <thead>\n",
       "    <tr style=\"text-align: right;\">\n",
       "      <th></th>\n",
       "      <th>Strike Price</th>\n",
       "      <th>Price</th>\n",
       "      <th>IV</th>\n",
       "      <th>Underlying Price</th>\n",
       "      <th>Risk-free interest rate</th>\n",
       "      <th>Maturity</th>\n",
       "      <th>C=Call, P=Put_C</th>\n",
       "      <th>C=Call, P=Put_P</th>\n",
       "    </tr>\n",
       "  </thead>\n",
       "  <tbody>\n",
       "    <tr>\n",
       "      <th>0</th>\n",
       "      <td>590.0</td>\n",
       "      <td>85.50</td>\n",
       "      <td>0.636391</td>\n",
       "      <td>674.97</td>\n",
       "      <td>1.59</td>\n",
       "      <td>3</td>\n",
       "      <td>1</td>\n",
       "      <td>0</td>\n",
       "    </tr>\n",
       "    <tr>\n",
       "      <th>1</th>\n",
       "      <td>610.0</td>\n",
       "      <td>65.45</td>\n",
       "      <td>0.495483</td>\n",
       "      <td>674.97</td>\n",
       "      <td>1.59</td>\n",
       "      <td>3</td>\n",
       "      <td>1</td>\n",
       "      <td>0</td>\n",
       "    </tr>\n",
       "    <tr>\n",
       "      <th>2</th>\n",
       "      <td>615.0</td>\n",
       "      <td>60.25</td>\n",
       "      <td>0.408294</td>\n",
       "      <td>674.97</td>\n",
       "      <td>1.59</td>\n",
       "      <td>3</td>\n",
       "      <td>1</td>\n",
       "      <td>0</td>\n",
       "    </tr>\n",
       "    <tr>\n",
       "      <th>3</th>\n",
       "      <td>620.0</td>\n",
       "      <td>55.25</td>\n",
       "      <td>0.376411</td>\n",
       "      <td>674.97</td>\n",
       "      <td>1.59</td>\n",
       "      <td>3</td>\n",
       "      <td>1</td>\n",
       "      <td>0</td>\n",
       "    </tr>\n",
       "    <tr>\n",
       "      <th>4</th>\n",
       "      <td>625.0</td>\n",
       "      <td>50.25</td>\n",
       "      <td>0.363375</td>\n",
       "      <td>674.97</td>\n",
       "      <td>1.59</td>\n",
       "      <td>3</td>\n",
       "      <td>1</td>\n",
       "      <td>0</td>\n",
       "    </tr>\n",
       "  </tbody>\n",
       "</table>\n",
       "</div>"
      ],
      "text/plain": [
       "   Strike Price  Price        IV  Underlying Price  Risk-free interest rate  \\\n",
       "0         590.0  85.50  0.636391            674.97                     1.59   \n",
       "1         610.0  65.45  0.495483            674.97                     1.59   \n",
       "2         615.0  60.25  0.408294            674.97                     1.59   \n",
       "3         620.0  55.25  0.376411            674.97                     1.59   \n",
       "4         625.0  50.25  0.363375            674.97                     1.59   \n",
       "\n",
       "   Maturity  C=Call, P=Put_C  C=Call, P=Put_P  \n",
       "0         3                1                0  \n",
       "1         3                1                0  \n",
       "2         3                1                0  \n",
       "3         3                1                0  \n",
       "4         3                1                0  "
      ]
     },
     "execution_count": 3,
     "metadata": {},
     "output_type": "execute_result"
    }
   ],
   "source": [
    "df.drop(['Unnamed: 0', 'The Date of this Price', 'Expiration Date of the Option'], axis = 1, inplace = True)\n",
    "df.rename(columns = {'Implied Volatility of the Option': 'IV', 'DGS10':'Risk-free interest rate', 'maturity':'Maturity'}, inplace=True)\n",
    "df.columns.values[1] = \"Price\"\n",
    "df['Risk-free interest rate']=df['Risk-free interest rate'].convert_objects(convert_numeric=True)\n",
    "df.head()"
   ]
  },
  {
   "cell_type": "code",
   "execution_count": 7,
   "metadata": {},
   "outputs": [
    {
     "data": {
      "text/plain": [
       "Strike Price               float64\n",
       "Price                      float64\n",
       "IV                         float64\n",
       "Underlying Price           float64\n",
       "Risk-free interest rate    float64\n",
       "Maturity                     int64\n",
       "C=Call, P=Put_C              int64\n",
       "C=Call, P=Put_P              int64\n",
       "dtype: object"
      ]
     },
     "execution_count": 7,
     "metadata": {},
     "output_type": "execute_result"
    }
   ],
   "source": [
    "df.dtypes"
   ]
  },
  {
   "cell_type": "code",
   "execution_count": 8,
   "metadata": {},
   "outputs": [
    {
     "data": {
      "text/plain": [
       "Strike Price                  0\n",
       "Price                         0\n",
       "IV                            0\n",
       "Underlying Price              0\n",
       "Risk-free interest rate    9984\n",
       "Maturity                      0\n",
       "C=Call, P=Put_C               0\n",
       "C=Call, P=Put_P               0\n",
       "dtype: int64"
      ]
     },
     "execution_count": 8,
     "metadata": {},
     "output_type": "execute_result"
    }
   ],
   "source": [
    "df.isnull().sum()"
   ]
  },
  {
   "cell_type": "code",
   "execution_count": 6,
   "metadata": {},
   "outputs": [
    {
     "data": {
      "text/plain": [
       "(727050, 8)"
      ]
     },
     "execution_count": 6,
     "metadata": {},
     "output_type": "execute_result"
    }
   ],
   "source": [
    "df.shape"
   ]
  },
  {
   "cell_type": "code",
   "execution_count": 4,
   "metadata": {},
   "outputs": [],
   "source": [
    "df=df.dropna()"
   ]
  },
  {
   "cell_type": "code",
   "execution_count": 8,
   "metadata": {},
   "outputs": [],
   "source": [
    "df_sample = df.sample(n=10000)"
   ]
  },
  {
   "cell_type": "code",
   "execution_count": 9,
   "metadata": {},
   "outputs": [],
   "source": [
    "target = df_sample['Price'].values\n",
    "data = df_sample[['Strike Price', 'IV', 'Underlying Price', 'Risk-free interest rate', 'Maturity', 'C=Call, P=Put_C', 'C=Call, P=Put_P']]\n",
    "#df.drop(['Price'], axis = 1, inplace = True)"
   ]
  },
  {
   "cell_type": "code",
   "execution_count": 39,
   "metadata": {},
   "outputs": [
    {
     "data": {
      "text/plain": [
       "([<matplotlib.axis.YTick at 0x1244905f8>],\n",
       " <a list of 1 Text yticklabel objects>)"
      ]
     },
     "execution_count": 39,
     "metadata": {},
     "output_type": "execute_result"
    },
    {
     "data": {
      "image/png": "[encoded data removed]",
      "text/plain": [
       "<Figure size 432x288 with 1 Axes>"
      ]
     },
     "metadata": {
      "needs_background": "light"
     },
     "output_type": "display_data"
    }
   ],
   "source": [
    "az.plot_kde(target, rug=True)\n",
    "plt.yticks([0], alpha=0)"
   ]
  },
  {
   "cell_type": "code",
   "execution_count": 10,
   "metadata": {},
   "outputs": [],
   "source": [
    "X_train, X_test, y_train, y_test = train_test_split(data, target, test_size=0.33, random_state=42)"
   ]
  },
  {
   "cell_type": "code",
   "execution_count": 11,
   "metadata": {},
   "outputs": [
    {
     "name": "stdout",
     "output_type": "stream",
     "text": [
      "(6700, 7)\n",
      "(6700,)\n"
     ]
    }
   ],
   "source": [
    "print(X_train.shape)\n",
    "print(y_train.shape)"
   ]
  },
  {
   "cell_type": "code",
   "execution_count": 12,
   "metadata": {},
   "outputs": [],
   "source": [
    "scaler = preprocessing.Normalizer().fit(X_train)\n",
    "\n",
    "X_train_scaled = scaler.transform(X_train)\n",
    "X_test_scaled = scaler.transform(X_test)"
   ]
  },
  {
   "cell_type": "markdown",
   "metadata": {},
   "source": [
    "## Bayesian Neural Network Model"
   ]
  },
  {
   "cell_type": "markdown",
   "metadata": {},
   "source": [
    "We define a neural network with two hidden layers of dimensions $H_0$ and $H_1$. With $D$-dimensional input and the neural network uses rectified linear unit activations.<br>Let us denote the parameters of the neural network by $\\theta = \\{ \\mathbf{W}_0, \\mathbf{W}_1, \\mathbf{W}_2, \\mathbf{b}_0, \\mathbf{b}_1, \\mathbf{b}_2 \\}$, and define the prior $p(\\theta)$ by setting each component of each parameter to have a standard normal distribution. We then define the likelihood as a normal distribution with fixed variance $\\sigma_y^2$:"
   ]
  },
  {
   "cell_type": "markdown",
   "metadata": {},
   "source": [
    "#### MCMC"
   ]
  },
  {
   "cell_type": "code",
   "execution_count": 15,
   "metadata": {},
   "outputs": [],
   "source": [
    "D = X_train_scaled.shape[1]\n",
    "H0 = 10\n",
    "H1 = 20\n",
    "\n",
    "#def construct_nn(ann_input, ann_output):\n",
    "    \n",
    "init_1_w = np.random.randn(D, H0).astype(floatX)\n",
    "init_1_b = np.random.randn(H0).astype(floatX)\n",
    "init_2_w = np.random.randn(H0, H1).astype(floatX)\n",
    "init_2_b = np.random.randn(H1).astype(floatX)\n",
    "init_out_w = np.random.randn(H1).astype(floatX)\n",
    "init_out_b = np.random.randn(1).astype(floatX)\n",
    "\n",
    "minibatch_x = pm.Minibatch(X_train_scaled, batch_size=100)\n",
    "minibatch_y = pm.Minibatch(y_train, batch_size=100)\n",
    "    \n",
    "BoundNormal = pm.Bound(pm.Normal, lower=0.01, upper=1.)\n",
    "with pm.Model() as NN_MCMC:\n",
    "    # Weights and bias from input to hidden layer\n",
    "    w_0 = pm.Normal('w_0', mu=0, sd=1, shape=(D, H0), testval=init_1_w)\n",
    "    b_0 = pm.Normal('b_0', mu=0, sd=1, shape=(H0), testval=init_1_b)\n",
    "        \n",
    "    # Weights and bias from 1st to 2nd layer\n",
    "    w_1 = pm.Normal('w_1', mu=0, sd=1, shape=(H0, H1), testval=init_2_w)\n",
    "    b_1 = pm.Normal('b_1', mu=0, sd=1, shape=(H1), testval=init_2_b)\n",
    "        \n",
    "    # Weights from hidden layer to output\n",
    "    w_2 = pm.Normal('w_2', mu=0, sd=1, shape=(H1), testval=init_out_w)\n",
    "    b_2 = pm.Normal('b_2', mu=0, sd=1, shape=(1), testval=init_out_b)\n",
    "        \n",
    "    # Build neural-network using relu activation function\n",
    "    hidden1 = tt.nnet.relu(pm.math.dot(minibatch_x,w_0) + b_0)\n",
    "    hidden2 = tt.nnet.relu(pm.math.dot(hidden1,w_1) + b_1)\n",
    "    output = pm.math.dot(hidden2,w_2) + b_2\n",
    "        \n",
    "    sigma_y = pm.HalfNormal('sd', sigma=1)\n",
    "    # Likelihood\n",
    "    out = pm.Normal('out', mu=output, sigma = sigma_y, observed=minibatch_y, total_size=y_train.shape[0])\n",
    "    \n",
    "    #step = pm.Metropolis()\n",
    "    #trace = pm.sample(5000, init='advi', n_init=20000, tune=2000)\n",
    "    \n",
    "    #return neural_network"
   ]
  },
  {
   "cell_type": "code",
   "execution_count": 18,
   "metadata": {},
   "outputs": [
    {
     "name": "stderr",
     "output_type": "stream",
     "text": [
      "Auto-assigning NUTS sampler...\n",
      "Initializing NUTS using advi...\n",
      "Average Loss = 665.73:  83%|████████▎ | 24999/30000 [1:27:18<17:23,  4.79it/s]   \n",
      "Convergence achieved at 25000\n",
      "Interrupted at 24,999 [83%]: Average Loss = 1.8468e+05\n",
      "Multiprocess sampling (4 chains in 4 jobs)\n",
      "NUTS: [sd, b_2, w_2, b_1, w_1, b_0, w_0]\n",
      "Sampling 4 chains: 100%|██████████| 52000/52000 [2:54:01<00:00,  2.05draws/s]  \n",
      "The chain contains only diverging samples. The model is probably misspecified.\n",
      "The acceptance probability does not match the target. It is 0.12233418625429228, but should be close to 0.8. Try to increase the number of tuning steps.\n",
      "The chain contains only diverging samples. The model is probably misspecified.\n",
      "The acceptance probability does not match the target. It is 0.12014915783928917, but should be close to 0.8. Try to increase the number of tuning steps.\n",
      "The chain contains only diverging samples. The model is probably misspecified.\n",
      "The acceptance probability does not match the target. It is 0.11609624109895438, but should be close to 0.8. Try to increase the number of tuning steps.\n",
      "The chain contains only diverging samples. The model is probably misspecified.\n",
      "The acceptance probability does not match the target. It is 0.10833165154345983, but should be close to 0.8. Try to increase the number of tuning steps.\n",
      "The gelman-rubin statistic is larger than 1.4 for some parameters. The sampler did not converge.\n"
     ]
    }
   ],
   "source": [
    "with NN_MCMC:\n",
    "    trace = pm.sample(5000, init='advi', n_init=30000, tune=8000, cores = 4)\n",
    "    pm.summary(trace)"
   ]
  },
  {
   "cell_type": "markdown",
   "metadata": {},
   "source": [
    "We will use ADVI variational inference algorithm which was recently added to PyMC3, and updated to use the operator variational inference (OPVI) framework. This is much faster and will scale better. "
   ]
  },
  {
   "cell_type": "markdown",
   "metadata": {},
   "source": [
    "#### Variational Inference"
   ]
  },
  {
   "cell_type": "code",
   "execution_count": 13,
   "metadata": {},
   "outputs": [],
   "source": [
    "y_tensor = shared(y_train)\n",
    "x_tensor = shared(X_train_scaled)"
   ]
  },
  {
   "cell_type": "code",
   "execution_count": 19,
   "metadata": {},
   "outputs": [],
   "source": [
    "D = X_train_scaled.shape[1]\n",
    "H0 = 10\n",
    "H1 = 20\n",
    "\n",
    "#def construct_nn(ann_input, ann_output):\n",
    "    \n",
    "init_1_w = np.random.randn(D, H0).astype(floatX)\n",
    "init_1_b = np.random.randn(H0).astype(floatX)\n",
    "init_2_w = np.random.randn(H0, H1).astype(floatX)\n",
    "init_2_b = np.random.randn(H1).astype(floatX)\n",
    "init_out_w = np.random.randn(H1).astype(floatX)\n",
    "init_out_b = np.random.randn(1).astype(floatX)\n",
    "    \n",
    "BoundNormal = pm.Bound(pm.Normal, lower=0.01, upper=1.)\n",
    "with pm.Model() as neural_network:\n",
    "    # Weights and bias from input to hidden layer\n",
    "    w_0 = pm.Normal('w_0', mu=0, sd=1, shape=(D, H0), testval=init_1_w)\n",
    "    b_0 = pm.Normal('b_0', mu=0, sd=1, shape=(H0), testval=init_1_b)\n",
    "        \n",
    "    # Weights and bias from 1st to 2nd layer\n",
    "    w_1 = pm.Normal('w_1', mu=0, sd=1, shape=(H0, H1), testval=init_2_w)\n",
    "    b_1 = pm.Normal('b_1', mu=0, sd=1, shape=(H1), testval=init_2_b)\n",
    "        \n",
    "    # Weights from hidden layer to output\n",
    "    w_2 = pm.Normal('w_2', mu=0, sd=1, shape=(H1), testval=init_out_w)\n",
    "    b_2 = pm.Normal('b_2', mu=0, sd=1, shape=(1), testval=init_out_b)\n",
    "        \n",
    "    # Build neural-network using relu activation function\n",
    "    hidden1 = tt.nnet.relu(pm.math.dot(x_tensor,w_0) + b_0)\n",
    "    hidden2 = tt.nnet.relu(pm.math.dot(hidden1,w_1) + b_1)\n",
    "    output = pm.math.dot(hidden2,w_2) + b_2\n",
    "        \n",
    "    sigma_y = pm.HalfNormal('sd', sigma=1)\n",
    "    # Likelihood\n",
    "    out = pm.Normal('out', mu=output, sigma = sigma_y, observed=y_tensor, total_size=y_train.shape[0])\n"
   ]
  },
  {
   "cell_type": "code",
   "execution_count": 20,
   "metadata": {},
   "outputs": [],
   "source": [
    "map_tensor_batch = {y_tensor: pm.Minibatch(y_train, 100),\n",
    "                    x_tensor: pm.Minibatch(X_train_scaled, 100)}"
   ]
  },
  {
   "cell_type": "code",
   "execution_count": 21,
   "metadata": {},
   "outputs": [
    {
     "name": "stderr",
     "output_type": "stream",
     "text": [
      "Average Loss = 664.41: 100%|██████████| 30000/30000 [1:53:00<00:00,  4.87it/s]   \n",
      "Finished [100%]: Average Loss = 664.57\n"
     ]
    },
    {
     "data": {
      "image/png": "[encoded data removed]",
      "text/plain": [
       "<Figure size 432x288 with 1 Axes>"
      ]
     },
     "metadata": {
      "needs_background": "light"
     },
     "output_type": "display_data"
    }
   ],
   "source": [
    "with neural_network:\n",
    "    inference = pm.ADVI()\n",
    "    approx = pm.fit(method=inference, n=30000, more_replacements=map_tensor_batch)\n",
    "    \n",
    "    plt.plot(-inference.hist)\n",
    "    plt.ylabel('ELBO')\n",
    "    plt.xlabel('iteration')"
   ]
  },
  {
   "cell_type": "code",
   "execution_count": 22,
   "metadata": {},
   "outputs": [
    {
     "data": {
      "text/html": [
       "<div>\n",
       "<style scoped>\n",
       "    .dataframe tbody tr th:only-of-type {\n",
       "        vertical-align: middle;\n",
       "    }\n",
       "\n",
       "    .dataframe tbody tr th {\n",
       "        vertical-align: top;\n",
       "    }\n",
       "\n",
       "    .dataframe thead th {\n",
       "        text-align: right;\n",
       "    }\n",
       "</style>\n",
       "<table border=\"1\" class=\"dataframe\">\n",
       "  <thead>\n",
       "    <tr style=\"text-align: right;\">\n",
       "      <th></th>\n",
       "      <th>mean</th>\n",
       "      <th>sd</th>\n",
       "      <th>mc_error</th>\n",
       "      <th>hpd_2.5</th>\n",
       "      <th>hpd_97.5</th>\n",
       "    </tr>\n",
       "  </thead>\n",
       "  <tbody>\n",
       "    <tr>\n",
       "      <th>w_0__0_0</th>\n",
       "      <td>2.082346</td>\n",
       "      <td>0.295114</td>\n",
       "      <td>0.009967</td>\n",
       "      <td>1.472578</td>\n",
       "      <td>2.627743</td>\n",
       "    </tr>\n",
       "    <tr>\n",
       "      <th>w_0__0_1</th>\n",
       "      <td>1.224401</td>\n",
       "      <td>0.447257</td>\n",
       "      <td>0.014199</td>\n",
       "      <td>0.220679</td>\n",
       "      <td>1.999861</td>\n",
       "    </tr>\n",
       "    <tr>\n",
       "      <th>w_0__0_2</th>\n",
       "      <td>0.350492</td>\n",
       "      <td>0.634035</td>\n",
       "      <td>0.019379</td>\n",
       "      <td>-0.835236</td>\n",
       "      <td>1.629032</td>\n",
       "    </tr>\n",
       "    <tr>\n",
       "      <th>w_0__0_3</th>\n",
       "      <td>-1.858312</td>\n",
       "      <td>0.642736</td>\n",
       "      <td>0.020776</td>\n",
       "      <td>-3.062074</td>\n",
       "      <td>-0.573209</td>\n",
       "    </tr>\n",
       "    <tr>\n",
       "      <th>w_0__0_4</th>\n",
       "      <td>0.482584</td>\n",
       "      <td>0.980937</td>\n",
       "      <td>0.029926</td>\n",
       "      <td>-1.338510</td>\n",
       "      <td>2.492515</td>\n",
       "    </tr>\n",
       "    <tr>\n",
       "      <th>w_0__0_5</th>\n",
       "      <td>1.273252</td>\n",
       "      <td>0.432709</td>\n",
       "      <td>0.013087</td>\n",
       "      <td>0.474335</td>\n",
       "      <td>2.170221</td>\n",
       "    </tr>\n",
       "    <tr>\n",
       "      <th>w_0__0_6</th>\n",
       "      <td>0.372741</td>\n",
       "      <td>0.655853</td>\n",
       "      <td>0.019563</td>\n",
       "      <td>-0.925783</td>\n",
       "      <td>1.596467</td>\n",
       "    </tr>\n",
       "    <tr>\n",
       "      <th>w_0__0_7</th>\n",
       "      <td>0.121860</td>\n",
       "      <td>0.815695</td>\n",
       "      <td>0.025608</td>\n",
       "      <td>-1.409078</td>\n",
       "      <td>1.888358</td>\n",
       "    </tr>\n",
       "    <tr>\n",
       "      <th>w_0__0_8</th>\n",
       "      <td>-0.290051</td>\n",
       "      <td>0.614675</td>\n",
       "      <td>0.017905</td>\n",
       "      <td>-1.374701</td>\n",
       "      <td>0.983352</td>\n",
       "    </tr>\n",
       "    <tr>\n",
       "      <th>w_0__0_9</th>\n",
       "      <td>0.828647</td>\n",
       "      <td>0.310741</td>\n",
       "      <td>0.009533</td>\n",
       "      <td>0.221854</td>\n",
       "      <td>1.408745</td>\n",
       "    </tr>\n",
       "    <tr>\n",
       "      <th>w_0__1_0</th>\n",
       "      <td>0.460001</td>\n",
       "      <td>0.862835</td>\n",
       "      <td>0.025904</td>\n",
       "      <td>-1.275982</td>\n",
       "      <td>2.027576</td>\n",
       "    </tr>\n",
       "    <tr>\n",
       "      <th>w_0__1_1</th>\n",
       "      <td>-0.185573</td>\n",
       "      <td>0.889587</td>\n",
       "      <td>0.026223</td>\n",
       "      <td>-1.956425</td>\n",
       "      <td>1.496050</td>\n",
       "    </tr>\n",
       "    <tr>\n",
       "      <th>w_0__1_2</th>\n",
       "      <td>0.167371</td>\n",
       "      <td>0.821442</td>\n",
       "      <td>0.026870</td>\n",
       "      <td>-1.269758</td>\n",
       "      <td>1.916351</td>\n",
       "    </tr>\n",
       "    <tr>\n",
       "      <th>w_0__1_3</th>\n",
       "      <td>-0.132620</td>\n",
       "      <td>0.870901</td>\n",
       "      <td>0.027033</td>\n",
       "      <td>-1.867417</td>\n",
       "      <td>1.501400</td>\n",
       "    </tr>\n",
       "    <tr>\n",
       "      <th>w_0__1_4</th>\n",
       "      <td>0.104846</td>\n",
       "      <td>0.840260</td>\n",
       "      <td>0.027572</td>\n",
       "      <td>-1.446748</td>\n",
       "      <td>1.784874</td>\n",
       "    </tr>\n",
       "    <tr>\n",
       "      <th>w_0__1_5</th>\n",
       "      <td>0.035942</td>\n",
       "      <td>0.860132</td>\n",
       "      <td>0.024896</td>\n",
       "      <td>-1.424278</td>\n",
       "      <td>1.884984</td>\n",
       "    </tr>\n",
       "    <tr>\n",
       "      <th>w_0__1_6</th>\n",
       "      <td>-0.439412</td>\n",
       "      <td>0.848803</td>\n",
       "      <td>0.028074</td>\n",
       "      <td>-2.077462</td>\n",
       "      <td>1.156386</td>\n",
       "    </tr>\n",
       "    <tr>\n",
       "      <th>w_0__1_7</th>\n",
       "      <td>0.004641</td>\n",
       "      <td>0.847187</td>\n",
       "      <td>0.029710</td>\n",
       "      <td>-1.755699</td>\n",
       "      <td>1.533530</td>\n",
       "    </tr>\n",
       "    <tr>\n",
       "      <th>w_0__1_8</th>\n",
       "      <td>0.372167</td>\n",
       "      <td>0.894136</td>\n",
       "      <td>0.025171</td>\n",
       "      <td>-1.233845</td>\n",
       "      <td>2.250196</td>\n",
       "    </tr>\n",
       "    <tr>\n",
       "      <th>w_0__1_9</th>\n",
       "      <td>0.815912</td>\n",
       "      <td>0.859423</td>\n",
       "      <td>0.021988</td>\n",
       "      <td>-0.765824</td>\n",
       "      <td>2.610036</td>\n",
       "    </tr>\n",
       "    <tr>\n",
       "      <th>w_0__2_0</th>\n",
       "      <td>0.325485</td>\n",
       "      <td>0.264973</td>\n",
       "      <td>0.008880</td>\n",
       "      <td>-0.137200</td>\n",
       "      <td>0.855181</td>\n",
       "    </tr>\n",
       "    <tr>\n",
       "      <th>w_0__2_1</th>\n",
       "      <td>0.332542</td>\n",
       "      <td>0.451280</td>\n",
       "      <td>0.013690</td>\n",
       "      <td>-0.493854</td>\n",
       "      <td>1.250515</td>\n",
       "    </tr>\n",
       "    <tr>\n",
       "      <th>w_0__2_2</th>\n",
       "      <td>-0.582281</td>\n",
       "      <td>0.490885</td>\n",
       "      <td>0.016721</td>\n",
       "      <td>-1.546164</td>\n",
       "      <td>0.396467</td>\n",
       "    </tr>\n",
       "    <tr>\n",
       "      <th>w_0__2_3</th>\n",
       "      <td>-0.563464</td>\n",
       "      <td>0.816820</td>\n",
       "      <td>0.027247</td>\n",
       "      <td>-2.268587</td>\n",
       "      <td>0.921916</td>\n",
       "    </tr>\n",
       "    <tr>\n",
       "      <th>w_0__2_4</th>\n",
       "      <td>-1.860534</td>\n",
       "      <td>0.649265</td>\n",
       "      <td>0.022218</td>\n",
       "      <td>-3.082865</td>\n",
       "      <td>-0.536910</td>\n",
       "    </tr>\n",
       "    <tr>\n",
       "      <th>w_0__2_5</th>\n",
       "      <td>-0.890796</td>\n",
       "      <td>0.362248</td>\n",
       "      <td>0.011920</td>\n",
       "      <td>-1.606865</td>\n",
       "      <td>-0.195483</td>\n",
       "    </tr>\n",
       "    <tr>\n",
       "      <th>w_0__2_6</th>\n",
       "      <td>0.313707</td>\n",
       "      <td>0.645837</td>\n",
       "      <td>0.020845</td>\n",
       "      <td>-0.937690</td>\n",
       "      <td>1.566305</td>\n",
       "    </tr>\n",
       "    <tr>\n",
       "      <th>w_0__2_7</th>\n",
       "      <td>-0.634518</td>\n",
       "      <td>0.643537</td>\n",
       "      <td>0.018903</td>\n",
       "      <td>-1.807906</td>\n",
       "      <td>0.670950</td>\n",
       "    </tr>\n",
       "    <tr>\n",
       "      <th>w_0__2_8</th>\n",
       "      <td>0.177438</td>\n",
       "      <td>0.638659</td>\n",
       "      <td>0.021439</td>\n",
       "      <td>-1.083297</td>\n",
       "      <td>1.378470</td>\n",
       "    </tr>\n",
       "    <tr>\n",
       "      <th>w_0__2_9</th>\n",
       "      <td>-0.691277</td>\n",
       "      <td>0.261515</td>\n",
       "      <td>0.008426</td>\n",
       "      <td>-1.135603</td>\n",
       "      <td>-0.117235</td>\n",
       "    </tr>\n",
       "    <tr>\n",
       "      <th>...</th>\n",
       "      <td>...</td>\n",
       "      <td>...</td>\n",
       "      <td>...</td>\n",
       "      <td>...</td>\n",
       "      <td>...</td>\n",
       "    </tr>\n",
       "    <tr>\n",
       "      <th>b_1__12</th>\n",
       "      <td>-0.309520</td>\n",
       "      <td>0.699302</td>\n",
       "      <td>0.019403</td>\n",
       "      <td>-1.583891</td>\n",
       "      <td>1.056817</td>\n",
       "    </tr>\n",
       "    <tr>\n",
       "      <th>b_1__13</th>\n",
       "      <td>1.798978</td>\n",
       "      <td>0.616140</td>\n",
       "      <td>0.017254</td>\n",
       "      <td>0.703190</td>\n",
       "      <td>2.985240</td>\n",
       "    </tr>\n",
       "    <tr>\n",
       "      <th>b_1__14</th>\n",
       "      <td>-0.181127</td>\n",
       "      <td>0.742779</td>\n",
       "      <td>0.025123</td>\n",
       "      <td>-1.492534</td>\n",
       "      <td>1.359939</td>\n",
       "    </tr>\n",
       "    <tr>\n",
       "      <th>b_1__15</th>\n",
       "      <td>-0.955115</td>\n",
       "      <td>0.787610</td>\n",
       "      <td>0.025848</td>\n",
       "      <td>-2.459038</td>\n",
       "      <td>0.563187</td>\n",
       "    </tr>\n",
       "    <tr>\n",
       "      <th>b_1__16</th>\n",
       "      <td>-0.676716</td>\n",
       "      <td>0.785863</td>\n",
       "      <td>0.027520</td>\n",
       "      <td>-2.104852</td>\n",
       "      <td>0.948492</td>\n",
       "    </tr>\n",
       "    <tr>\n",
       "      <th>b_1__17</th>\n",
       "      <td>-1.094336</td>\n",
       "      <td>0.844112</td>\n",
       "      <td>0.024912</td>\n",
       "      <td>-2.753886</td>\n",
       "      <td>0.416735</td>\n",
       "    </tr>\n",
       "    <tr>\n",
       "      <th>b_1__18</th>\n",
       "      <td>-0.554940</td>\n",
       "      <td>0.778279</td>\n",
       "      <td>0.024010</td>\n",
       "      <td>-2.060124</td>\n",
       "      <td>0.934495</td>\n",
       "    </tr>\n",
       "    <tr>\n",
       "      <th>b_1__19</th>\n",
       "      <td>0.068029</td>\n",
       "      <td>0.879736</td>\n",
       "      <td>0.025787</td>\n",
       "      <td>-1.642164</td>\n",
       "      <td>1.721357</td>\n",
       "    </tr>\n",
       "    <tr>\n",
       "      <th>w_2__0</th>\n",
       "      <td>-0.387147</td>\n",
       "      <td>0.575579</td>\n",
       "      <td>0.017580</td>\n",
       "      <td>-1.558367</td>\n",
       "      <td>0.680877</td>\n",
       "    </tr>\n",
       "    <tr>\n",
       "      <th>w_2__1</th>\n",
       "      <td>-0.066700</td>\n",
       "      <td>0.645519</td>\n",
       "      <td>0.018161</td>\n",
       "      <td>-1.474845</td>\n",
       "      <td>1.063255</td>\n",
       "    </tr>\n",
       "    <tr>\n",
       "      <th>w_2__2</th>\n",
       "      <td>-0.090188</td>\n",
       "      <td>0.796102</td>\n",
       "      <td>0.025671</td>\n",
       "      <td>-1.739656</td>\n",
       "      <td>1.361017</td>\n",
       "    </tr>\n",
       "    <tr>\n",
       "      <th>w_2__3</th>\n",
       "      <td>-0.340373</td>\n",
       "      <td>0.779569</td>\n",
       "      <td>0.023218</td>\n",
       "      <td>-1.816666</td>\n",
       "      <td>1.108310</td>\n",
       "    </tr>\n",
       "    <tr>\n",
       "      <th>w_2__4</th>\n",
       "      <td>0.787988</td>\n",
       "      <td>0.584364</td>\n",
       "      <td>0.017304</td>\n",
       "      <td>-0.350784</td>\n",
       "      <td>1.974581</td>\n",
       "    </tr>\n",
       "    <tr>\n",
       "      <th>w_2__5</th>\n",
       "      <td>1.335847</td>\n",
       "      <td>0.457170</td>\n",
       "      <td>0.014610</td>\n",
       "      <td>0.453504</td>\n",
       "      <td>2.240423</td>\n",
       "    </tr>\n",
       "    <tr>\n",
       "      <th>w_2__6</th>\n",
       "      <td>1.842956</td>\n",
       "      <td>0.175065</td>\n",
       "      <td>0.005512</td>\n",
       "      <td>1.503572</td>\n",
       "      <td>2.169243</td>\n",
       "    </tr>\n",
       "    <tr>\n",
       "      <th>w_2__7</th>\n",
       "      <td>0.673508</td>\n",
       "      <td>0.411639</td>\n",
       "      <td>0.012417</td>\n",
       "      <td>-0.164904</td>\n",
       "      <td>1.445060</td>\n",
       "    </tr>\n",
       "    <tr>\n",
       "      <th>w_2__8</th>\n",
       "      <td>2.222251</td>\n",
       "      <td>0.247656</td>\n",
       "      <td>0.008022</td>\n",
       "      <td>1.748733</td>\n",
       "      <td>2.728621</td>\n",
       "    </tr>\n",
       "    <tr>\n",
       "      <th>w_2__9</th>\n",
       "      <td>0.309525</td>\n",
       "      <td>0.585051</td>\n",
       "      <td>0.016304</td>\n",
       "      <td>-0.869927</td>\n",
       "      <td>1.385008</td>\n",
       "    </tr>\n",
       "    <tr>\n",
       "      <th>w_2__10</th>\n",
       "      <td>-0.142385</td>\n",
       "      <td>0.700330</td>\n",
       "      <td>0.022526</td>\n",
       "      <td>-1.386686</td>\n",
       "      <td>1.381817</td>\n",
       "    </tr>\n",
       "    <tr>\n",
       "      <th>w_2__11</th>\n",
       "      <td>0.827877</td>\n",
       "      <td>0.431459</td>\n",
       "      <td>0.015166</td>\n",
       "      <td>0.034961</td>\n",
       "      <td>1.746523</td>\n",
       "    </tr>\n",
       "    <tr>\n",
       "      <th>w_2__12</th>\n",
       "      <td>1.151541</td>\n",
       "      <td>0.357270</td>\n",
       "      <td>0.010325</td>\n",
       "      <td>0.492903</td>\n",
       "      <td>1.889759</td>\n",
       "    </tr>\n",
       "    <tr>\n",
       "      <th>w_2__13</th>\n",
       "      <td>1.460474</td>\n",
       "      <td>0.267748</td>\n",
       "      <td>0.008716</td>\n",
       "      <td>0.965221</td>\n",
       "      <td>1.979684</td>\n",
       "    </tr>\n",
       "    <tr>\n",
       "      <th>w_2__14</th>\n",
       "      <td>0.465568</td>\n",
       "      <td>0.488124</td>\n",
       "      <td>0.015096</td>\n",
       "      <td>-0.430464</td>\n",
       "      <td>1.447041</td>\n",
       "    </tr>\n",
       "    <tr>\n",
       "      <th>w_2__15</th>\n",
       "      <td>0.265188</td>\n",
       "      <td>0.668980</td>\n",
       "      <td>0.020468</td>\n",
       "      <td>-1.082759</td>\n",
       "      <td>1.462561</td>\n",
       "    </tr>\n",
       "    <tr>\n",
       "      <th>w_2__16</th>\n",
       "      <td>0.439068</td>\n",
       "      <td>0.702677</td>\n",
       "      <td>0.021442</td>\n",
       "      <td>-0.786910</td>\n",
       "      <td>1.921746</td>\n",
       "    </tr>\n",
       "    <tr>\n",
       "      <th>w_2__17</th>\n",
       "      <td>0.389032</td>\n",
       "      <td>0.776169</td>\n",
       "      <td>0.026396</td>\n",
       "      <td>-1.200562</td>\n",
       "      <td>1.796087</td>\n",
       "    </tr>\n",
       "    <tr>\n",
       "      <th>w_2__18</th>\n",
       "      <td>0.092587</td>\n",
       "      <td>0.712741</td>\n",
       "      <td>0.021624</td>\n",
       "      <td>-1.305580</td>\n",
       "      <td>1.400932</td>\n",
       "    </tr>\n",
       "    <tr>\n",
       "      <th>w_2__19</th>\n",
       "      <td>-0.232842</td>\n",
       "      <td>0.828151</td>\n",
       "      <td>0.024135</td>\n",
       "      <td>-1.869424</td>\n",
       "      <td>1.244789</td>\n",
       "    </tr>\n",
       "    <tr>\n",
       "      <th>b_2__0</th>\n",
       "      <td>0.392027</td>\n",
       "      <td>0.692155</td>\n",
       "      <td>0.022860</td>\n",
       "      <td>-0.811798</td>\n",
       "      <td>1.816744</td>\n",
       "    </tr>\n",
       "    <tr>\n",
       "      <th>sd</th>\n",
       "      <td>76.795842</td>\n",
       "      <td>1.986029</td>\n",
       "      <td>0.066822</td>\n",
       "      <td>72.923223</td>\n",
       "      <td>80.593842</td>\n",
       "    </tr>\n",
       "  </tbody>\n",
       "</table>\n",
       "<p>322 rows × 5 columns</p>\n",
       "</div>"
      ],
      "text/plain": [
       "               mean        sd  mc_error    hpd_2.5   hpd_97.5\n",
       "w_0__0_0   2.082346  0.295114  0.009967   1.472578   2.627743\n",
       "w_0__0_1   1.224401  0.447257  0.014199   0.220679   1.999861\n",
       "w_0__0_2   0.350492  0.634035  0.019379  -0.835236   1.629032\n",
       "w_0__0_3  -1.858312  0.642736  0.020776  -3.062074  -0.573209\n",
       "w_0__0_4   0.482584  0.980937  0.029926  -1.338510   2.492515\n",
       "w_0__0_5   1.273252  0.432709  0.013087   0.474335   2.170221\n",
       "w_0__0_6   0.372741  0.655853  0.019563  -0.925783   1.596467\n",
       "w_0__0_7   0.121860  0.815695  0.025608  -1.409078   1.888358\n",
       "w_0__0_8  -0.290051  0.614675  0.017905  -1.374701   0.983352\n",
       "w_0__0_9   0.828647  0.310741  0.009533   0.221854   1.408745\n",
       "w_0__1_0   0.460001  0.862835  0.025904  -1.275982   2.027576\n",
       "w_0__1_1  -0.185573  0.889587  0.026223  -1.956425   1.496050\n",
       "w_0__1_2   0.167371  0.821442  0.026870  -1.269758   1.916351\n",
       "w_0__1_3  -0.132620  0.870901  0.027033  -1.867417   1.501400\n",
       "w_0__1_4   0.104846  0.840260  0.027572  -1.446748   1.784874\n",
       "w_0__1_5   0.035942  0.860132  0.024896  -1.424278   1.884984\n",
       "w_0__1_6  -0.439412  0.848803  0.028074  -2.077462   1.156386\n",
       "w_0__1_7   0.004641  0.847187  0.029710  -1.755699   1.533530\n",
       "w_0__1_8   0.372167  0.894136  0.025171  -1.233845   2.250196\n",
       "w_0__1_9   0.815912  0.859423  0.021988  -0.765824   2.610036\n",
       "w_0__2_0   0.325485  0.264973  0.008880  -0.137200   0.855181\n",
       "w_0__2_1   0.332542  0.451280  0.013690  -0.493854   1.250515\n",
       "w_0__2_2  -0.582281  0.490885  0.016721  -1.546164   0.396467\n",
       "w_0__2_3  -0.563464  0.816820  0.027247  -2.268587   0.921916\n",
       "w_0__2_4  -1.860534  0.649265  0.022218  -3.082865  -0.536910\n",
       "w_0__2_5  -0.890796  0.362248  0.011920  -1.606865  -0.195483\n",
       "w_0__2_6   0.313707  0.645837  0.020845  -0.937690   1.566305\n",
       "w_0__2_7  -0.634518  0.643537  0.018903  -1.807906   0.670950\n",
       "w_0__2_8   0.177438  0.638659  0.021439  -1.083297   1.378470\n",
       "w_0__2_9  -0.691277  0.261515  0.008426  -1.135603  -0.117235\n",
       "...             ...       ...       ...        ...        ...\n",
       "b_1__12   -0.309520  0.699302  0.019403  -1.583891   1.056817\n",
       "b_1__13    1.798978  0.616140  0.017254   0.703190   2.985240\n",
       "b_1__14   -0.181127  0.742779  0.025123  -1.492534   1.359939\n",
       "b_1__15   -0.955115  0.787610  0.025848  -2.459038   0.563187\n",
       "b_1__16   -0.676716  0.785863  0.027520  -2.104852   0.948492\n",
       "b_1__17   -1.094336  0.844112  0.024912  -2.753886   0.416735\n",
       "b_1__18   -0.554940  0.778279  0.024010  -2.060124   0.934495\n",
       "b_1__19    0.068029  0.879736  0.025787  -1.642164   1.721357\n",
       "w_2__0    -0.387147  0.575579  0.017580  -1.558367   0.680877\n",
       "w_2__1    -0.066700  0.645519  0.018161  -1.474845   1.063255\n",
       "w_2__2    -0.090188  0.796102  0.025671  -1.739656   1.361017\n",
       "w_2__3    -0.340373  0.779569  0.023218  -1.816666   1.108310\n",
       "w_2__4     0.787988  0.584364  0.017304  -0.350784   1.974581\n",
       "w_2__5     1.335847  0.457170  0.014610   0.453504   2.240423\n",
       "w_2__6     1.842956  0.175065  0.005512   1.503572   2.169243\n",
       "w_2__7     0.673508  0.411639  0.012417  -0.164904   1.445060\n",
       "w_2__8     2.222251  0.247656  0.008022   1.748733   2.728621\n",
       "w_2__9     0.309525  0.585051  0.016304  -0.869927   1.385008\n",
       "w_2__10   -0.142385  0.700330  0.022526  -1.386686   1.381817\n",
       "w_2__11    0.827877  0.431459  0.015166   0.034961   1.746523\n",
       "w_2__12    1.151541  0.357270  0.010325   0.492903   1.889759\n",
       "w_2__13    1.460474  0.267748  0.008716   0.965221   1.979684\n",
       "w_2__14    0.465568  0.488124  0.015096  -0.430464   1.447041\n",
       "w_2__15    0.265188  0.668980  0.020468  -1.082759   1.462561\n",
       "w_2__16    0.439068  0.702677  0.021442  -0.786910   1.921746\n",
       "w_2__17    0.389032  0.776169  0.026396  -1.200562   1.796087\n",
       "w_2__18    0.092587  0.712741  0.021624  -1.305580   1.400932\n",
       "w_2__19   -0.232842  0.828151  0.024135  -1.869424   1.244789\n",
       "b_2__0     0.392027  0.692155  0.022860  -0.811798   1.816744\n",
       "sd        76.795842  1.986029  0.066822  72.923223  80.593842\n",
       "\n",
       "[322 rows x 5 columns]"
      ]
     },
     "execution_count": 22,
     "metadata": {},
     "output_type": "execute_result"
    }
   ],
   "source": [
    "trace = approx.sample(1000)\n",
    "pm.summary(trace)"
   ]
  },
  {
   "cell_type": "code",
   "execution_count": 24,
   "metadata": {},
   "outputs": [
    {
     "name": "stderr",
     "output_type": "stream",
     "text": [
      "100%|██████████| 200/200 [06:50<00:00,  2.03s/it]\n"
     ]
    }
   ],
   "source": [
    "y_tensor.set_value(y_test)\n",
    "x_tensor.set_value(X_test_scaled)\n",
    "\n",
    "advi_ppc = pm.sample_ppc(trace, 200, neural_network)\n",
    "advi_pred = np.mean(advi_ppc['out'], axis=0)\n"
   ]
  },
  {
   "cell_type": "code",
   "execution_count": 51,
   "metadata": {},
   "outputs": [
    {
     "data": {
      "image/png": "[encoded data removed]",
      "text/plain": [
       "<Figure size 864x432 with 1 Axes>"
      ]
     },
     "metadata": {
      "needs_background": "light"
     },
     "output_type": "display_data"
    }
   ],
   "source": [
    "_, ax = plt.subplots(figsize=(12, 6))\n",
    "ax.hist([n.mean() for n in advi_ppc['out']], bins=19, alpha=0.5)\n",
    "ax.set(title='Posterior predictive of the mean', xlabel='mean(x)', ylabel='Frequency');"
   ]
  },
  {
   "cell_type": "code",
   "execution_count": 25,
   "metadata": {},
   "outputs": [
    {
     "name": "stdout",
     "output_type": "stream",
     "text": [
      "RMSE for ADVI predictions = 106.815\n"
     ]
    }
   ],
   "source": [
    "prediction_data = pd.DataFrame({'actual': y_test,\n",
    "                                'error_ADVI':advi_pred-y_test})\n",
    "\n",
    "RMSE = np.sqrt(np.mean(prediction_data.error_ADVI ** 2))\n",
    "\n",
    "print(f'RMSE for ADVI predictions = {RMSE:.3f}')"
   ]
  },
  {
   "cell_type": "code",
   "execution_count": 37,
   "metadata": {},
   "outputs": [
    {
     "data": {
      "text/plain": [
       "array([87.87016457, 53.18206239, 83.43132608, 67.18995291, 75.55911824])"
      ]
     },
     "execution_count": 37,
     "metadata": {},
     "output_type": "execute_result"
    }
   ],
   "source": [
    "advi_pred[0:5]"
   ]
  },
  {
   "cell_type": "code",
   "execution_count": 36,
   "metadata": {},
   "outputs": [
    {
     "data": {
      "text/plain": [
       "200"
      ]
     },
     "execution_count": 36,
     "metadata": {},
     "output_type": "execute_result"
    }
   ],
   "source": [
    "len(advi_ppc['out'][:,0])"
   ]
  },
  {
   "cell_type": "code",
   "execution_count": 54,
   "metadata": {},
   "outputs": [
    {
     "data": {
      "text/plain": [
       "500"
      ]
     },
     "execution_count": 54,
     "metadata": {},
     "output_type": "execute_result"
    }
   ],
   "source": [
    "len(advi_ppc['out'])"
   ]
  },
  {
   "cell_type": "code",
   "execution_count": null,
   "metadata": {},
   "outputs": [],
   "source": []
  },
  {
   "cell_type": "code",
   "execution_count": null,
   "metadata": {},
   "outputs": [],
   "source": []
  },
  {
   "cell_type": "code",
   "execution_count": 24,
   "metadata": {},
   "outputs": [
    {
     "name": "stderr",
     "output_type": "stream",
     "text": [
      "Average Loss = 7.2135e+05: 100%|██████████| 10000/10000 [37:03<00:00,  4.53it/s] \n",
      "Finished [100%]: Average Loss = 7.2159e+05\n"
     ]
    },
    {
     "name": "stdout",
     "output_type": "stream",
     "text": [
      "Wall time: 38min 47s\n"
     ]
    },
    {
     "data": {
      "image/png": "[encoded data removed]",
      "text/plain": [
       "<Figure size 432x288 with 1 Axes>"
      ]
     },
     "metadata": {
      "needs_background": "light"
     },
     "output_type": "display_data"
    }
   ],
   "source": [
    "%%time\n",
    "\n",
    "with neural_network:\n",
    "    inference = pm.ADVI()\n",
    "    approx = pm.fit(n=10000, method=inference)\n",
    "    \n",
    "    trace = approx.sample(draws=5000)\n",
    "    \n",
    "    plt.plot(-inference.hist)\n",
    "    plt.ylabel('ELBO')\n",
    "    plt.xlabel('iteration')"
   ]
  },
  {
   "cell_type": "code",
   "execution_count": 17,
   "metadata": {
    "scrolled": true
   },
   "outputs": [
    {
     "name": "stderr",
     "output_type": "stream",
     "text": [
      "Average Loss = 6.619e+05: 100%|██████████| 50000/50000 [3:01:38<00:00,  4.58it/s]   \n",
      "Finished [100%]: Average Loss = 6.6151e+05\n"
     ]
    },
    {
     "ename": "ImportError",
     "evalue": "ArviZ is not installed. In order to use `plot_trace`:\npip install arviz",
     "output_type": "error",
     "traceback": [
      "\u001b[1;31m---------------------------------------------------------------------------\u001b[0m",
      "\u001b[1;31mImportError\u001b[0m                               Traceback (most recent call last)",
      "\u001b[1;32m<timed exec>\u001b[0m in \u001b[0;36m<module>\u001b[1;34m\u001b[0m\n",
      "\u001b[1;32mC:\\ProgramData\\Anaconda3\\lib\\site-packages\\pymc3\\plots\\__init__.py\u001b[0m in \u001b[0;36mwrapped\u001b[1;34m(*args, **kwargs)\u001b[0m\n\u001b[0;32m     40\u001b[0m                 \u001b[0mwarnings\u001b[0m\u001b[1;33m.\u001b[0m\u001b[0mwarn\u001b[0m\u001b[1;33m(\u001b[0m\u001b[1;34m'Keyword argument `{old}` renamed to `{new}`, and will be removed in pymc3 3.8'\u001b[0m\u001b[1;33m.\u001b[0m\u001b[0mformat\u001b[0m\u001b[1;33m(\u001b[0m\u001b[0mold\u001b[0m\u001b[1;33m=\u001b[0m\u001b[0mold\u001b[0m\u001b[1;33m,\u001b[0m \u001b[0mnew\u001b[0m\u001b[1;33m=\u001b[0m\u001b[0mnew\u001b[0m\u001b[1;33m)\u001b[0m\u001b[1;33m)\u001b[0m\u001b[1;33m\u001b[0m\u001b[1;33m\u001b[0m\u001b[0m\n\u001b[0;32m     41\u001b[0m                 \u001b[0mkwargs\u001b[0m\u001b[1;33m[\u001b[0m\u001b[0mnew\u001b[0m\u001b[1;33m]\u001b[0m \u001b[1;33m=\u001b[0m \u001b[0mkwargs\u001b[0m\u001b[1;33m.\u001b[0m\u001b[0mpop\u001b[0m\u001b[1;33m(\u001b[0m\u001b[0mold\u001b[0m\u001b[1;33m)\u001b[0m\u001b[1;33m\u001b[0m\u001b[1;33m\u001b[0m\u001b[0m\n\u001b[1;32m---> 42\u001b[1;33m             \u001b[1;32mreturn\u001b[0m \u001b[0mfunc\u001b[0m\u001b[1;33m(\u001b[0m\u001b[1;33m*\u001b[0m\u001b[0margs\u001b[0m\u001b[1;33m,\u001b[0m \u001b[1;33m**\u001b[0m\u001b[0mkwargs\u001b[0m\u001b[1;33m)\u001b[0m\u001b[1;33m\u001b[0m\u001b[1;33m\u001b[0m\u001b[0m\n\u001b[0m\u001b[0;32m     43\u001b[0m     \u001b[1;32mreturn\u001b[0m \u001b[0mwrapped\u001b[0m\u001b[1;33m\u001b[0m\u001b[1;33m\u001b[0m\u001b[0m\n\u001b[0;32m     44\u001b[0m \u001b[1;33m\u001b[0m\u001b[0m\n",
      "\u001b[1;32mC:\\ProgramData\\Anaconda3\\lib\\site-packages\\pymc3\\plots\\__init__.py\u001b[0m in \u001b[0;36m__call__\u001b[1;34m(self, *args, **kwargs)\u001b[0m\n\u001b[0;32m     20\u001b[0m         \u001b[1;32mdef\u001b[0m \u001b[0m__call__\u001b[0m\u001b[1;33m(\u001b[0m\u001b[0mself\u001b[0m\u001b[1;33m,\u001b[0m \u001b[1;33m*\u001b[0m\u001b[0margs\u001b[0m\u001b[1;33m,\u001b[0m \u001b[1;33m**\u001b[0m\u001b[0mkwargs\u001b[0m\u001b[1;33m)\u001b[0m\u001b[1;33m:\u001b[0m\u001b[1;33m\u001b[0m\u001b[1;33m\u001b[0m\u001b[0m\n\u001b[0;32m     21\u001b[0m             raise ImportError(\n\u001b[1;32m---> 22\u001b[1;33m                 \u001b[1;34m\"ArviZ is not installed. In order to use `{0.attr}`:\\npip install arviz\"\u001b[0m\u001b[1;33m.\u001b[0m\u001b[0mformat\u001b[0m\u001b[1;33m(\u001b[0m\u001b[0mself\u001b[0m\u001b[1;33m)\u001b[0m\u001b[1;33m\u001b[0m\u001b[1;33m\u001b[0m\u001b[0m\n\u001b[0m\u001b[0;32m     23\u001b[0m             )\n\u001b[0;32m     24\u001b[0m \u001b[1;33m\u001b[0m\u001b[0m\n",
      "\u001b[1;31mImportError\u001b[0m: ArviZ is not installed. In order to use `plot_trace`:\npip install arviz"
     ]
    },
    {
     "data": {
      "image/png": "[encoded data removed]",
      "text/plain": [
       "<Figure size 432x288 with 1 Axes>"
      ]
     },
     "metadata": {
      "needs_background": "light"
     },
     "output_type": "display_data"
    }
   ],
   "source": [
    "%%time\n",
    "\n",
    "with neural_network_minibatch:\n",
    "    inference = pm.ADVI()\n",
    "    approx = pm.fit(n=50000, method=inference)\n",
    "    \n",
    "    trace = approx.sample(draws=5000)\n",
    "    \n",
    "    plt.plot(-inference.hist)\n",
    "    plt.ylabel('ELBO')\n",
    "    plt.xlabel('iteration')\n",
    "    \n",
    "    pm.traceplot(trace)"
   ]
  },
  {
   "cell_type": "code",
   "execution_count": null,
   "metadata": {},
   "outputs": [],
   "source": []
  },
  {
   "cell_type": "markdown",
   "metadata": {},
   "source": [
    "## Reference: \n",
    "&emsp;&emsp;Bayesian Deep Learning https://twiecki.io/blog/2016/06/01/bayesian-deep-learning/ <br>\n",
    "&emsp;&emsp;Bayesian Regression in PYMC3 using MCMC & Variational Inference https://alexioannides.com/2018/11/07/bayesian-regression-in-pymc3-using-mcmc-variational-inference/<br>\n",
    "&emsp;&emsp;Scale, Standardize, or Normalize with Scikit-Learn https://towardsdatascience.com/scale-standardize-or-normalize-with-scikit-learn-6ccc7d176a02 <br>\n",
    "&emsp;&emsp;The Day my Computer Won the Nobel Prize (Neural Network Option Pricing)  https://medium.com/datadriveninvestor/the-day-my-computer-won-the-nobel-prize-neural-network-option-pricing-d29b4379f1d2 <br>"
   ]
  },
  {
   "cell_type": "code",
   "execution_count": null,
   "metadata": {},
   "outputs": [],
   "source": []
  }
 ],
 "metadata": {
  "kernelspec": {
   "display_name": "Python 3",
   "language": "python",
   "name": "python3"
  },
  "language_info": {
   "codemirror_mode": {
    "name": "ipython",
    "version": 3
   },
   "file_extension": ".py",
   "mimetype": "text/x-python",
   "name": "python",
   "nbconvert_exporter": "python",
   "pygments_lexer": "ipython3",
   "version": "3.7.0"
  }
 },
 "nbformat": 4,
 "nbformat_minor": 2
}
