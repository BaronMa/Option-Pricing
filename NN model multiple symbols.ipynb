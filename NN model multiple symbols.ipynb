{
 "cells": [
  {
   "cell_type": "code",
   "execution_count": 1,
   "metadata": {
    "scrolled": true
   },
   "outputs": [
    {
     "name": "stdout",
     "output_type": "stream",
     "text": [
      "Collecting pip\n",
      "  Downloading https://files.pythonhosted.org/packages/5c/e0/be401c003291b56efc55aeba6a80ab790d3d4cece2778288d65323009420/pip-19.1.1-py2.py3-none-any.whl (1.4MB)\n",
      "Installing collected packages: pip\n",
      "Successfully installed pip-19.1.1\n"
     ]
    },
    {
     "name": "stderr",
     "output_type": "stream",
     "text": [
      "distributed 1.21.8 requires msgpack, which is not installed.\n",
      "You are using pip version 10.0.1, however version 19.1.1 is available.\n",
      "You should consider upgrading via the 'python -m pip install --upgrade pip' command.\n"
     ]
    },
    {
     "name": "stdout",
     "output_type": "stream",
     "text": [
      "Collecting keras\n",
      "  Downloading https://files.pythonhosted.org/packages/5e/10/aa32dad071ce52b5502266b5c659451cfd6ffcbf14e6c8c4f16c0ff5aaab/Keras-2.2.4-py2.py3-none-any.whl (312kB)\n",
      "Collecting keras-preprocessing>=1.0.5 (from keras)\n",
      "  Downloading https://files.pythonhosted.org/packages/28/6a/8c1f62c37212d9fc441a7e26736df51ce6f0e38455816445471f10da4f0a/Keras_Preprocessing-1.1.0-py2.py3-none-any.whl (41kB)\n",
      "Requirement already satisfied: h5py in c:\\program files\\anaconda3\\lib\\site-packages (from keras) (2.7.1)\n",
      "Requirement already satisfied: pyyaml in c:\\program files\\anaconda3\\lib\\site-packages (from keras) (3.12)\n",
      "Requirement already satisfied: scipy>=0.14 in c:\\program files\\anaconda3\\lib\\site-packages (from keras) (1.1.0)\n",
      "Requirement already satisfied: numpy>=1.9.1 in c:\\program files\\anaconda3\\lib\\site-packages (from keras) (1.14.3)\n",
      "Collecting keras-applications>=1.0.6 (from keras)\n",
      "  Downloading https://files.pythonhosted.org/packages/71/e3/19762fdfc62877ae9102edf6342d71b28fbfd9dea3d2f96a882ce099b03f/Keras_Applications-1.0.8-py3-none-any.whl (50kB)\n",
      "Requirement already satisfied: six>=1.9.0 in c:\\program files\\anaconda3\\lib\\site-packages (from keras) (1.11.0)\n",
      "Installing collected packages: keras-preprocessing, keras-applications, keras\n",
      "Successfully installed keras-2.2.4 keras-applications-1.0.8 keras-preprocessing-1.1.0\n",
      "Collecting tensorflow\n",
      "  Downloading https://files.pythonhosted.org/packages/bf/4a/5c86ed8b245aa48f9f819b13a0a9039e9126ba19fdd0c7e0b8026c12315a/tensorflow-1.14.0-cp36-cp36m-win_amd64.whl (68.3MB)\n",
      "Collecting gast>=0.2.0 (from tensorflow)\n",
      "  Downloading https://files.pythonhosted.org/packages/4e/35/11749bf99b2d4e3cceb4d55ca22590b0d7c2c62b9de38ac4a4a7f4687421/gast-0.2.2.tar.gz\n",
      "Collecting tensorboard<1.15.0,>=1.14.0 (from tensorflow)\n",
      "  Downloading https://files.pythonhosted.org/packages/91/2d/2ed263449a078cd9c8a9ba50ebd50123adf1f8cfbea1492f9084169b89d9/tensorboard-1.14.0-py3-none-any.whl (3.1MB)\n",
      "Collecting absl-py>=0.7.0 (from tensorflow)\n",
      "  Downloading https://files.pythonhosted.org/packages/da/3f/9b0355080b81b15ba6a9ffcf1f5ea39e307a2778b2f2dc8694724e8abd5b/absl-py-0.7.1.tar.gz (99kB)\n",
      "Collecting protobuf>=3.6.1 (from tensorflow)\n",
      "  Downloading https://files.pythonhosted.org/packages/d4/59/ec6c6075dd628f2efd33dbe11b259e63e1de7cbc26e45b38de767df528d4/protobuf-3.8.0-cp36-cp36m-win_amd64.whl (1.1MB)\n",
      "Requirement already satisfied: keras-preprocessing>=1.0.5 in c:\\users\\mayingzh\\appdata\\roaming\\python\\python36\\site-packages (from tensorflow) (1.1.0)\n",
      "Collecting wrapt>=1.11.1 (from tensorflow)\n",
      "  Downloading https://files.pythonhosted.org/packages/23/84/323c2415280bc4fc880ac5050dddfb3c8062c2552b34c2e512eb4aa68f79/wrapt-1.11.2.tar.gz\n",
      "Collecting google-pasta>=0.1.6 (from tensorflow)\n",
      "  Downloading https://files.pythonhosted.org/packages/d0/33/376510eb8d6246f3c30545f416b2263eee461e40940c2a4413c711bdf62d/google_pasta-0.1.7-py3-none-any.whl (52kB)\n",
      "Collecting termcolor>=1.1.0 (from tensorflow)\n",
      "  Downloading https://files.pythonhosted.org/packages/8a/48/a76be51647d0eb9f10e2a4511bf3ffb8cc1e6b14e9e4fab46173aa79f981/termcolor-1.1.0.tar.gz\n",
      "Collecting grpcio>=1.8.6 (from tensorflow)\n",
      "  Downloading https://files.pythonhosted.org/packages/4c/6a/e83233ed636bdf8668f0e79897fd70bce04869482dd88f3cfc4c42404fb2/grpcio-1.21.1-cp36-cp36m-win_amd64.whl (1.6MB)\n",
      "Collecting astor>=0.6.0 (from tensorflow)\n",
      "  Downloading https://files.pythonhosted.org/packages/d1/4f/950dfae467b384fc96bc6469de25d832534f6b4441033c39f914efd13418/astor-0.8.0-py2.py3-none-any.whl\n",
      "Requirement already satisfied: keras-applications>=1.0.6 in c:\\users\\mayingzh\\appdata\\roaming\\python\\python36\\site-packages (from tensorflow) (1.0.8)\n",
      "Requirement already satisfied: wheel>=0.26 in c:\\program files\\anaconda3\\lib\\site-packages (from tensorflow) (0.31.1)\n",
      "Collecting tensorflow-estimator<1.15.0rc0,>=1.14.0rc0 (from tensorflow)\n",
      "  Downloading https://files.pythonhosted.org/packages/3c/d5/21860a5b11caf0678fbc8319341b0ae21a07156911132e0e71bffed0510d/tensorflow_estimator-1.14.0-py2.py3-none-any.whl (488kB)\n",
      "Collecting numpy<2.0,>=1.14.5 (from tensorflow)\n",
      "  Downloading https://files.pythonhosted.org/packages/20/ed/e036d31a9b2c750f270cbb1cfc1c0f94ac78ae504eea7eec3267be4e294a/numpy-1.16.4-cp36-cp36m-win_amd64.whl (11.9MB)\n",
      "Requirement already satisfied: six>=1.10.0 in c:\\program files\\anaconda3\\lib\\site-packages (from tensorflow) (1.11.0)\n",
      "Collecting markdown>=2.6.8 (from tensorboard<1.15.0,>=1.14.0->tensorflow)\n",
      "  Downloading https://files.pythonhosted.org/packages/c0/4e/fd492e91abdc2d2fcb70ef453064d980688762079397f779758e055f6575/Markdown-3.1.1-py2.py3-none-any.whl (87kB)\n",
      "Requirement already satisfied: werkzeug>=0.11.15 in c:\\program files\\anaconda3\\lib\\site-packages (from tensorboard<1.15.0,>=1.14.0->tensorflow) (0.14.1)\n",
      "Collecting setuptools>=41.0.0 (from tensorboard<1.15.0,>=1.14.0->tensorflow)\n",
      "  Downloading https://files.pythonhosted.org/packages/ec/51/f45cea425fd5cb0b0380f5b0f048ebc1da5b417e48d304838c02d6288a1e/setuptools-41.0.1-py2.py3-none-any.whl (575kB)\n",
      "Requirement already satisfied: h5py in c:\\program files\\anaconda3\\lib\\site-packages (from keras-applications>=1.0.6->tensorflow) (2.7.1)\n",
      "Building wheels for collected packages: gast, absl-py, wrapt, termcolor\n",
      "  Building wheel for gast (setup.py): started\n",
      "  Building wheel for gast (setup.py): finished with status 'done'\n",
      "  Stored in directory: C:\\Users\\mayingzh\\AppData\\Local\\pip\\Cache\\wheels\\5c\\2e\\7e\\a1d4d4fcebe6c381f378ce7743a3ced3699feb89bcfbdadadd\n",
      "  Building wheel for absl-py (setup.py): started\n",
      "  Building wheel for absl-py (setup.py): finished with status 'done'\n",
      "  Stored in directory: C:\\Users\\mayingzh\\AppData\\Local\\pip\\Cache\\wheels\\ee\\98\\38\\46cbcc5a93cfea5492d19c38562691ddb23b940176c14f7b48\n",
      "  Building wheel for wrapt (setup.py): started\n",
      "  Building wheel for wrapt (setup.py): finished with status 'done'\n",
      "  Stored in directory: C:\\Users\\mayingzh\\AppData\\Local\\pip\\Cache\\wheels\\d7\\de\\2e\\efa132238792efb6459a96e85916ef8597fcb3d2ae51590dfd\n",
      "  Building wheel for termcolor (setup.py): started\n",
      "  Building wheel for termcolor (setup.py): finished with status 'done'\n",
      "  Stored in directory: C:\\Users\\mayingzh\\AppData\\Local\\pip\\Cache\\wheels\\7c\\06\\54\\bc84598ba1daf8f970247f550b175aaaee85f68b4b0c5ab2c6\n",
      "Successfully built gast absl-py wrapt termcolor\n",
      "Installing collected packages: gast, setuptools, markdown, absl-py, numpy, grpcio, protobuf, tensorboard, wrapt, google-pasta, termcolor, astor, tensorflow-estimator, tensorflow\n",
      "Successfully installed absl-py-0.7.1 astor-0.8.0 gast-0.2.2 google-pasta-0.1.7 grpcio-1.21.1 markdown-3.1.1 numpy-1.16.4 protobuf-3.8.0 setuptools-41.0.1 tensorboard-1.14.0 tensorflow-1.14.0 tensorflow-estimator-1.14.0 termcolor-1.1.0 wrapt-1.11.2\n"
     ]
    },
    {
     "name": "stderr",
     "output_type": "stream",
     "text": [
      "  WARNING: The script markdown_py.exe is installed in 'C:\\Users\\mayingzh\\AppData\\Roaming\\Python\\Python36\\Scripts' which is not on PATH.\n",
      "  Consider adding this directory to PATH or, if you prefer to suppress this warning, use --no-warn-script-location.\n",
      "  WARNING: The script f2py.exe is installed in 'C:\\Users\\mayingzh\\AppData\\Roaming\\Python\\Python36\\Scripts' which is not on PATH.\n",
      "  Consider adding this directory to PATH or, if you prefer to suppress this warning, use --no-warn-script-location.\n",
      "  WARNING: The script tensorboard.exe is installed in 'C:\\Users\\mayingzh\\AppData\\Roaming\\Python\\Python36\\Scripts' which is not on PATH.\n",
      "  Consider adding this directory to PATH or, if you prefer to suppress this warning, use --no-warn-script-location.\n",
      "  WARNING: The scripts freeze_graph.exe, saved_model_cli.exe, tensorboard.exe, tf_upgrade_v2.exe, tflite_convert.exe, toco.exe and toco_from_protos.exe are installed in 'C:\\Users\\mayingzh\\AppData\\Roaming\\Python\\Python36\\Scripts' which is not on PATH.\n",
      "  Consider adding this directory to PATH or, if you prefer to suppress this warning, use --no-warn-script-location.\n"
     ]
    },
    {
     "name": "stdout",
     "output_type": "stream",
     "text": [
      "Requirement already up-to-date: numpy in c:\\users\\mayingzh\\appdata\\roaming\\python\\python36\\site-packages (1.16.4)\n"
     ]
    }
   ],
   "source": [
    "!python -m pip install --user --upgrade pip\n",
    "!pip install --user keras\n",
    "!pip install --user tensorflow\n",
    "!pip install --user -U numpy"
   ]
  },
  {
   "cell_type": "code",
   "execution_count": 13,
   "metadata": {},
   "outputs": [],
   "source": [
    "# Use CPU only\n",
    "# Only Macbook needs to run this cell\n",
    "import os\n",
    "os.environ[\"CUDA_DEVICE_ORDER\"] = \"PCI_BUS_ID\" \n",
    "os.environ[\"CUDA_VISIBLE_DEVICES\"] = \"\""
   ]
  },
  {
   "cell_type": "code",
   "execution_count": 1,
   "metadata": {},
   "outputs": [
    {
     "name": "stderr",
     "output_type": "stream",
     "text": [
      "C:\\Program Files\\Anaconda3\\lib\\site-packages\\h5py\\__init__.py:36: FutureWarning: Conversion of the second argument of issubdtype from `float` to `np.floating` is deprecated. In future, it will be treated as `np.float64 == np.dtype(float).type`.\n",
      "  from ._conv import register_converters as _register_converters\n",
      "Using TensorFlow backend.\n"
     ]
    }
   ],
   "source": [
    "import pandas as pd\n",
    "from keras.models import Sequential\n",
    "from keras.layers import Dense, Dropout\n",
    "from sklearn.model_selection import train_test_split\n",
    "from keras.callbacks import EarlyStopping\n",
    "from sklearn import preprocessing\n",
    "import matplotlib.pyplot as plt"
   ]
  },
  {
   "cell_type": "markdown",
   "metadata": {},
   "source": [
    "## Load data and do data normalization"
   ]
  },
  {
   "cell_type": "code",
   "execution_count": 2,
   "metadata": {},
   "outputs": [
    {
     "data": {
      "text/html": [
       "<div>\n",
       "<style scoped>\n",
       "    .dataframe tbody tr th:only-of-type {\n",
       "        vertical-align: middle;\n",
       "    }\n",
       "\n",
       "    .dataframe tbody tr th {\n",
       "        vertical-align: top;\n",
       "    }\n",
       "\n",
       "    .dataframe thead th {\n",
       "        text-align: right;\n",
       "    }\n",
       "</style>\n",
       "<table border=\"1\" class=\"dataframe\">\n",
       "  <thead>\n",
       "    <tr style=\"text-align: right;\">\n",
       "      <th></th>\n",
       "      <th>ticker</th>\n",
       "      <th>date</th>\n",
       "      <th>exdate</th>\n",
       "      <th>maturity</th>\n",
       "      <th>strike_price</th>\n",
       "      <th>best_offer</th>\n",
       "      <th>impl_volatility</th>\n",
       "      <th>underlying_price</th>\n",
       "      <th>cp_flag_C</th>\n",
       "      <th>cp_flag_P</th>\n",
       "      <th>interest_rate</th>\n",
       "    </tr>\n",
       "  </thead>\n",
       "  <tbody>\n",
       "    <tr>\n",
       "      <th>0</th>\n",
       "      <td>AXP</td>\n",
       "      <td>2013-01-02</td>\n",
       "      <td>2013-01-04</td>\n",
       "      <td>2</td>\n",
       "      <td>60.0</td>\n",
       "      <td>0.03</td>\n",
       "      <td>0.181376</td>\n",
       "      <td>58.75</td>\n",
       "      <td>1</td>\n",
       "      <td>0</td>\n",
       "      <td>0.75</td>\n",
       "    </tr>\n",
       "    <tr>\n",
       "      <th>1</th>\n",
       "      <td>AXP</td>\n",
       "      <td>2013-01-02</td>\n",
       "      <td>2013-01-04</td>\n",
       "      <td>2</td>\n",
       "      <td>62.5</td>\n",
       "      <td>0.05</td>\n",
       "      <td>0.450289</td>\n",
       "      <td>58.75</td>\n",
       "      <td>1</td>\n",
       "      <td>0</td>\n",
       "      <td>0.75</td>\n",
       "    </tr>\n",
       "    <tr>\n",
       "      <th>2</th>\n",
       "      <td>AXP</td>\n",
       "      <td>2013-01-02</td>\n",
       "      <td>2013-01-04</td>\n",
       "      <td>2</td>\n",
       "      <td>65.0</td>\n",
       "      <td>0.05</td>\n",
       "      <td>0.676564</td>\n",
       "      <td>58.75</td>\n",
       "      <td>1</td>\n",
       "      <td>0</td>\n",
       "      <td>0.75</td>\n",
       "    </tr>\n",
       "    <tr>\n",
       "      <th>3</th>\n",
       "      <td>AXP</td>\n",
       "      <td>2013-01-02</td>\n",
       "      <td>2013-01-04</td>\n",
       "      <td>2</td>\n",
       "      <td>67.5</td>\n",
       "      <td>0.50</td>\n",
       "      <td>1.369425</td>\n",
       "      <td>58.75</td>\n",
       "      <td>1</td>\n",
       "      <td>0</td>\n",
       "      <td>0.75</td>\n",
       "    </tr>\n",
       "    <tr>\n",
       "      <th>4</th>\n",
       "      <td>AXP</td>\n",
       "      <td>2013-01-02</td>\n",
       "      <td>2013-01-04</td>\n",
       "      <td>2</td>\n",
       "      <td>70.0</td>\n",
       "      <td>0.01</td>\n",
       "      <td>0.888123</td>\n",
       "      <td>58.75</td>\n",
       "      <td>1</td>\n",
       "      <td>0</td>\n",
       "      <td>0.75</td>\n",
       "    </tr>\n",
       "  </tbody>\n",
       "</table>\n",
       "</div>"
      ],
      "text/plain": [
       "  ticker        date      exdate  maturity  strike_price  best_offer  \\\n",
       "0    AXP  2013-01-02  2013-01-04         2          60.0        0.03   \n",
       "1    AXP  2013-01-02  2013-01-04         2          62.5        0.05   \n",
       "2    AXP  2013-01-02  2013-01-04         2          65.0        0.05   \n",
       "3    AXP  2013-01-02  2013-01-04         2          67.5        0.50   \n",
       "4    AXP  2013-01-02  2013-01-04         2          70.0        0.01   \n",
       "\n",
       "   impl_volatility  underlying_price  cp_flag_C  cp_flag_P  interest_rate  \n",
       "0         0.181376             58.75          1          0           0.75  \n",
       "1         0.450289             58.75          1          0           0.75  \n",
       "2         0.676564             58.75          1          0           0.75  \n",
       "3         1.369425             58.75          1          0           0.75  \n",
       "4         0.888123             58.75          1          0           0.75  "
      ]
     },
     "execution_count": 2,
     "metadata": {},
     "output_type": "execute_result"
    }
   ],
   "source": [
    "df = pd.read_csv('Options.csv')\n",
    "df.head()"
   ]
  },
  {
   "cell_type": "code",
   "execution_count": 3,
   "metadata": {},
   "outputs": [],
   "source": [
    "y = df['best_offer'].values\n",
    "X = df[['maturity', 'strike_price', 'impl_volatility', 'underlying_price', 'cp_flag_C', 'cp_flag_P', 'interest_rate']]"
   ]
  },
  {
   "cell_type": "code",
   "execution_count": 4,
   "metadata": {},
   "outputs": [],
   "source": [
    "# Normalize the data to build a regression neural network model\n",
    "sc= preprocessing.MinMaxScaler()\n",
    "X= sc.fit_transform(X)\n",
    "y= y.reshape(-1,1)\n",
    "y=sc.fit_transform(y)"
   ]
  },
  {
   "cell_type": "code",
   "execution_count": 5,
   "metadata": {},
   "outputs": [],
   "source": [
    "X_train, X_test, y_train, y_test = train_test_split(X, y, test_size=0.2, random_state=42)"
   ]
  },
  {
   "cell_type": "code",
   "execution_count": 6,
   "metadata": {},
   "outputs": [
    {
     "name": "stdout",
     "output_type": "stream",
     "text": [
      "(1573351, 7)\n",
      "(1573351, 1)\n"
     ]
    }
   ],
   "source": [
    "print(X_train.shape)\n",
    "print(y_train.shape)"
   ]
  },
  {
   "cell_type": "code",
   "execution_count": 7,
   "metadata": {},
   "outputs": [],
   "source": [
    "XX_train, XX_validation, yy_train, yy_validation = train_test_split(X_train, y_train, test_size=0.2, random_state=42)"
   ]
  },
  {
   "cell_type": "markdown",
   "metadata": {},
   "source": [
    "## Build a keras Sequential model"
   ]
  },
  {
   "cell_type": "code",
   "execution_count": 8,
   "metadata": {},
   "outputs": [
    {
     "name": "stderr",
     "output_type": "stream",
     "text": [
      "WARNING: Logging before flag parsing goes to stderr.\n",
      "W0623 22:05:10.809075  8672 deprecation_wrapper.py:119] From C:\\Users\\mayingzh\\AppData\\Roaming\\Python\\Python36\\site-packages\\keras\\backend\\tensorflow_backend.py:74: The name tf.get_default_graph is deprecated. Please use tf.compat.v1.get_default_graph instead.\n",
      "\n",
      "W0623 22:05:10.824078  8672 deprecation_wrapper.py:119] From C:\\Users\\mayingzh\\AppData\\Roaming\\Python\\Python36\\site-packages\\keras\\backend\\tensorflow_backend.py:517: The name tf.placeholder is deprecated. Please use tf.compat.v1.placeholder instead.\n",
      "\n",
      "W0623 22:05:10.831076  8672 deprecation_wrapper.py:119] From C:\\Users\\mayingzh\\AppData\\Roaming\\Python\\Python36\\site-packages\\keras\\backend\\tensorflow_backend.py:4138: The name tf.random_uniform is deprecated. Please use tf.random.uniform instead.\n",
      "\n"
     ]
    }
   ],
   "source": [
    "# Built Keras sequential model with 3 hidden layer, and after the first hidden layer.\n",
    "model = Sequential([\n",
    "    Dense(64, activation='relu', input_shape=(7,)),\n",
    "    Dense(128, activation='relu'),\n",
    "    Dense(64, activation='relu'),\n",
    "    Dense(1, activation='linear'),\n",
    "])"
   ]
  },
  {
   "cell_type": "code",
   "execution_count": 9,
   "metadata": {},
   "outputs": [],
   "source": [
    "# Enable early stopping based on the loss of validation data\n",
    "es = EarlyStopping(monitor='val_loss', mode='auto', verbose=1, patience=25)"
   ]
  },
  {
   "cell_type": "code",
   "execution_count": 10,
   "metadata": {},
   "outputs": [],
   "source": [
    "# Because it is a simple regression problem, we should custom metrics function\n",
    "from keras import backend as K\n",
    "def rmse(y_true, y_pred):\n",
    "    return K.sqrt(K.mean(K.square(y_pred - y_true), axis = -1))\n",
    "\n",
    "def r_square(y_true, y_pred):\n",
    "    SS_res =  K.sum(K.square(y_true - y_pred)) \n",
    "    SS_tot = K.sum(K.square(y_true - K.mean(y_true))) \n",
    "    return (1 - SS_res/(SS_tot + K.epsilon()))"
   ]
  },
  {
   "cell_type": "code",
   "execution_count": 11,
   "metadata": {},
   "outputs": [
    {
     "name": "stderr",
     "output_type": "stream",
     "text": [
      "W0623 22:05:29.352179  8672 deprecation_wrapper.py:119] From C:\\Users\\mayingzh\\AppData\\Roaming\\Python\\Python36\\site-packages\\keras\\optimizers.py:790: The name tf.train.Optimizer is deprecated. Please use tf.compat.v1.train.Optimizer instead.\n",
      "\n"
     ]
    }
   ],
   "source": [
    "# use mean_squared_error to compile regression model loss\n",
    "model.compile(\n",
    "  optimizer='adam',\n",
    "  loss='mse',\n",
    "  metrics=[rmse, r_square],\n",
    ")"
   ]
  },
  {
   "cell_type": "code",
   "execution_count": 12,
   "metadata": {},
   "outputs": [
    {
     "name": "stderr",
     "output_type": "stream",
     "text": [
      "W0623 22:05:38.106596  8672 deprecation_wrapper.py:119] From C:\\Users\\mayingzh\\AppData\\Roaming\\Python\\Python36\\site-packages\\keras\\backend\\tensorflow_backend.py:986: The name tf.assign_add is deprecated. Please use tf.compat.v1.assign_add instead.\n",
      "\n",
      "W0623 22:05:38.246649  8672 deprecation_wrapper.py:119] From C:\\Users\\mayingzh\\AppData\\Roaming\\Python\\Python36\\site-packages\\keras\\backend\\tensorflow_backend.py:973: The name tf.assign is deprecated. Please use tf.compat.v1.assign instead.\n",
      "\n"
     ]
    },
    {
     "name": "stdout",
     "output_type": "stream",
     "text": [
      "Train on 1258680 samples, validate on 314671 samples\n",
      "Epoch 1/200\n",
      "1258680/1258680 [==============================] - 6s 5us/step - loss: 1.3830e-04 - rmse: 0.0043 - r_square: 0.9870 - val_loss: 1.5318e-05 - val_rmse: 0.0029 - val_r_square: 0.9985\n",
      "Epoch 2/200\n",
      "1258680/1258680 [==============================] - 6s 5us/step - loss: 1.4052e-05 - rmse: 0.0026 - r_square: 0.9986 - val_loss: 8.2428e-06 - val_rmse: 0.0020 - val_r_square: 0.9992\n",
      "Epoch 3/200\n",
      "1258680/1258680 [==============================] - 6s 5us/step - loss: 1.1143e-05 - rmse: 0.0023 - r_square: 0.9989 - val_loss: 1.2821e-05 - val_rmse: 0.0025 - val_r_square: 0.9987\n",
      "Epoch 4/200\n",
      "1258680/1258680 [==============================] - 6s 5us/step - loss: 9.3023e-06 - rmse: 0.0020 - r_square: 0.9991 - val_loss: 7.1806e-06 - val_rmse: 0.0018 - val_r_square: 0.9993\n",
      "Epoch 5/200\n",
      "1258680/1258680 [==============================] - 6s 5us/step - loss: 8.2399e-06 - rmse: 0.0018 - r_square: 0.9992 - val_loss: 6.4446e-06 - val_rmse: 0.0017 - val_r_square: 0.9994\n",
      "Epoch 6/200\n",
      "1258680/1258680 [==============================] - 6s 5us/step - loss: 7.5815e-06 - rmse: 0.0017 - r_square: 0.9993 - val_loss: 7.0741e-06 - val_rmse: 0.0016 - val_r_square: 0.9993\n",
      "Epoch 7/200\n",
      "1258680/1258680 [==============================] - 6s 5us/step - loss: 7.0245e-06 - rmse: 0.0017 - r_square: 0.9993 - val_loss: 5.8547e-06 - val_rmse: 0.0015 - val_r_square: 0.9994\n",
      "Epoch 8/200\n",
      "1258680/1258680 [==============================] - 6s 5us/step - loss: 6.7917e-06 - rmse: 0.0016 - r_square: 0.9993 - val_loss: 5.3086e-06 - val_rmse: 0.0014 - val_r_square: 0.9995\n",
      "Epoch 9/200\n",
      "1258680/1258680 [==============================] - 6s 5us/step - loss: 6.5593e-06 - rmse: 0.0016 - r_square: 0.9994 - val_loss: 5.8487e-06 - val_rmse: 0.0015 - val_r_square: 0.9994\n",
      "Epoch 10/200\n",
      "1258680/1258680 [==============================] - 6s 5us/step - loss: 6.4477e-06 - rmse: 0.0016 - r_square: 0.9994 - val_loss: 5.2027e-06 - val_rmse: 0.0013 - val_r_square: 0.9995\n",
      "Epoch 11/200\n",
      "1258680/1258680 [==============================] - 6s 5us/step - loss: 6.1605e-06 - rmse: 0.0015 - r_square: 0.9994 - val_loss: 7.3021e-06 - val_rmse: 0.0017 - val_r_square: 0.9993\n",
      "Epoch 12/200\n",
      "1258680/1258680 [==============================] - 6s 5us/step - loss: 6.0881e-06 - rmse: 0.0015 - r_square: 0.9994 - val_loss: 7.5672e-06 - val_rmse: 0.0022 - val_r_square: 0.9993\n",
      "Epoch 13/200\n",
      "1258680/1258680 [==============================] - 6s 5us/step - loss: 5.9101e-06 - rmse: 0.0015 - r_square: 0.9994 - val_loss: 7.6020e-06 - val_rmse: 0.0018 - val_r_square: 0.9993\n",
      "Epoch 14/200\n",
      "1258680/1258680 [==============================] - 6s 5us/step - loss: 5.8849e-06 - rmse: 0.0015 - r_square: 0.9994 - val_loss: 5.0843e-06 - val_rmse: 0.0013 - val_r_square: 0.9995\n",
      "Epoch 15/200\n",
      "1258680/1258680 [==============================] - 6s 5us/step - loss: 5.6989e-06 - rmse: 0.0014 - r_square: 0.9994 - val_loss: 4.9752e-06 - val_rmse: 0.0013 - val_r_square: 0.9995\n",
      "Epoch 16/200\n",
      "1258680/1258680 [==============================] - 6s 5us/step - loss: 5.6549e-06 - rmse: 0.0014 - r_square: 0.9994 - val_loss: 4.6705e-06 - val_rmse: 0.0012 - val_r_square: 0.9995\n",
      "Epoch 17/200\n",
      "1258680/1258680 [==============================] - 6s 5us/step - loss: 5.6098e-06 - rmse: 0.0014 - r_square: 0.9994 - val_loss: 4.8365e-06 - val_rmse: 0.0013 - val_r_square: 0.9995\n",
      "Epoch 18/200\n",
      "1258680/1258680 [==============================] - 6s 5us/step - loss: 5.4889e-06 - rmse: 0.0014 - r_square: 0.9995 - val_loss: 5.7837e-06 - val_rmse: 0.0016 - val_r_square: 0.9994\n",
      "Epoch 19/200\n",
      "1258680/1258680 [==============================] - 6s 5us/step - loss: 5.4277e-06 - rmse: 0.0014 - r_square: 0.9995 - val_loss: 4.7729e-06 - val_rmse: 0.0013 - val_r_square: 0.9995\n",
      "Epoch 20/200\n",
      "1258680/1258680 [==============================] - 6s 5us/step - loss: 5.3005e-06 - rmse: 0.0014 - r_square: 0.9995 - val_loss: 5.6423e-06 - val_rmse: 0.0014 - val_r_square: 0.9994\n",
      "Epoch 21/200\n",
      "1258680/1258680 [==============================] - 6s 5us/step - loss: 5.3339e-06 - rmse: 0.0014 - r_square: 0.9995 - val_loss: 6.3199e-06 - val_rmse: 0.0015 - val_r_square: 0.9994\n",
      "Epoch 22/200\n",
      "1258680/1258680 [==============================] - 6s 5us/step - loss: 5.3248e-06 - rmse: 0.0014 - r_square: 0.9995 - val_loss: 5.1657e-06 - val_rmse: 0.0013 - val_r_square: 0.9995\n",
      "Epoch 23/200\n",
      "1258680/1258680 [==============================] - 6s 5us/step - loss: 5.2445e-06 - rmse: 0.0013 - r_square: 0.9995 - val_loss: 4.2241e-06 - val_rmse: 0.0011 - val_r_square: 0.9996\n",
      "Epoch 24/200\n",
      "1258680/1258680 [==============================] - 6s 5us/step - loss: 5.2015e-06 - rmse: 0.0013 - r_square: 0.9995 - val_loss: 4.5272e-06 - val_rmse: 0.0012 - val_r_square: 0.9996\n",
      "Epoch 25/200\n",
      "1258680/1258680 [==============================] - 6s 5us/step - loss: 5.2739e-06 - rmse: 0.0013 - r_square: 0.9995 - val_loss: 4.6517e-06 - val_rmse: 0.0012 - val_r_square: 0.9995\n",
      "Epoch 26/200\n",
      "1258680/1258680 [==============================] - 6s 5us/step - loss: 5.1463e-06 - rmse: 0.0013 - r_square: 0.9995 - val_loss: 4.4074e-06 - val_rmse: 0.0012 - val_r_square: 0.9996\n",
      "Epoch 27/200\n",
      "1258680/1258680 [==============================] - 6s 5us/step - loss: 5.1302e-06 - rmse: 0.0013 - r_square: 0.9995 - val_loss: 4.6434e-06 - val_rmse: 0.0012 - val_r_square: 0.9995\n",
      "Epoch 28/200\n",
      "1258680/1258680 [==============================] - 6s 5us/step - loss: 5.1065e-06 - rmse: 0.0013 - r_square: 0.9995 - val_loss: 4.6659e-06 - val_rmse: 0.0012 - val_r_square: 0.9995\n",
      "Epoch 29/200\n",
      "1258680/1258680 [==============================] - 6s 5us/step - loss: 5.1017e-06 - rmse: 0.0013 - r_square: 0.9995 - val_loss: 4.2824e-06 - val_rmse: 0.0012 - val_r_square: 0.9996\n",
      "Epoch 30/200\n",
      "1258680/1258680 [==============================] - 6s 5us/step - loss: 5.0302e-06 - rmse: 0.0013 - r_square: 0.9995 - val_loss: 4.3973e-06 - val_rmse: 0.0012 - val_r_square: 0.9996\n",
      "Epoch 31/200\n",
      "1258680/1258680 [==============================] - 6s 5us/step - loss: 5.0237e-06 - rmse: 0.0013 - r_square: 0.9995 - val_loss: 4.2078e-06 - val_rmse: 0.0011 - val_r_square: 0.9996\n",
      "Epoch 32/200\n",
      "1258680/1258680 [==============================] - 6s 5us/step - loss: 4.9317e-06 - rmse: 0.0013 - r_square: 0.9995 - val_loss: 4.6709e-06 - val_rmse: 0.0012 - val_r_square: 0.9995\n",
      "Epoch 33/200\n",
      "1258680/1258680 [==============================] - 6s 5us/step - loss: 4.9471e-06 - rmse: 0.0013 - r_square: 0.9995 - val_loss: 4.6881e-06 - val_rmse: 0.0012 - val_r_square: 0.9995\n",
      "Epoch 34/200\n",
      "1258680/1258680 [==============================] - 6s 5us/step - loss: 4.9432e-06 - rmse: 0.0013 - r_square: 0.9995 - val_loss: 4.2731e-06 - val_rmse: 0.0011 - val_r_square: 0.9996\n",
      "Epoch 35/200\n",
      "1258680/1258680 [==============================] - 6s 5us/step - loss: 4.9192e-06 - rmse: 0.0013 - r_square: 0.9995 - val_loss: 4.2928e-06 - val_rmse: 0.0012 - val_r_square: 0.9996\n",
      "Epoch 36/200\n",
      "1258680/1258680 [==============================] - 6s 5us/step - loss: 4.9129e-06 - rmse: 0.0013 - r_square: 0.9995 - val_loss: 5.4086e-06 - val_rmse: 0.0014 - val_r_square: 0.9995\n",
      "Epoch 37/200\n",
      "1258680/1258680 [==============================] - 6s 5us/step - loss: 4.8564e-06 - rmse: 0.0013 - r_square: 0.9995 - val_loss: 4.2561e-06 - val_rmse: 0.0012 - val_r_square: 0.9996\n",
      "Epoch 38/200\n",
      "1258680/1258680 [==============================] - 6s 5us/step - loss: 4.8253e-06 - rmse: 0.0013 - r_square: 0.9995 - val_loss: 4.9248e-06 - val_rmse: 0.0012 - val_r_square: 0.9995\n",
      "Epoch 39/200\n",
      "1258680/1258680 [==============================] - 6s 5us/step - loss: 4.8164e-06 - rmse: 0.0013 - r_square: 0.9995 - val_loss: 4.4204e-06 - val_rmse: 0.0013 - val_r_square: 0.9996\n",
      "Epoch 40/200\n",
      "1258680/1258680 [==============================] - 6s 5us/step - loss: 4.8688e-06 - rmse: 0.0013 - r_square: 0.9995 - val_loss: 5.0159e-06 - val_rmse: 0.0012 - val_r_square: 0.9995\n",
      "Epoch 41/200\n",
      "1258680/1258680 [==============================] - 6s 5us/step - loss: 4.7406e-06 - rmse: 0.0012 - r_square: 0.9995 - val_loss: 4.5980e-06 - val_rmse: 0.0013 - val_r_square: 0.9996\n",
      "Epoch 42/200\n",
      "1258680/1258680 [==============================] - 6s 5us/step - loss: 4.7614e-06 - rmse: 0.0013 - r_square: 0.9995 - val_loss: 5.6115e-06 - val_rmse: 0.0013 - val_r_square: 0.9995\n",
      "Epoch 43/200\n"
     ]
    },
    {
     "name": "stdout",
     "output_type": "stream",
     "text": [
      "1258680/1258680 [==============================] - 6s 5us/step - loss: 4.7693e-06 - rmse: 0.0013 - r_square: 0.9995 - val_loss: 4.5705e-06 - val_rmse: 0.0013 - val_r_square: 0.9996\n",
      "Epoch 44/200\n",
      "1258680/1258680 [==============================] - 6s 5us/step - loss: 4.7890e-06 - rmse: 0.0013 - r_square: 0.9995 - val_loss: 7.8233e-06 - val_rmse: 0.0017 - val_r_square: 0.9992\n",
      "Epoch 45/200\n",
      "1258680/1258680 [==============================] - 6s 5us/step - loss: 4.7232e-06 - rmse: 0.0012 - r_square: 0.9995 - val_loss: 4.4057e-06 - val_rmse: 0.0012 - val_r_square: 0.9996\n",
      "Epoch 46/200\n",
      "1258680/1258680 [==============================] - 6s 5us/step - loss: 4.7465e-06 - rmse: 0.0012 - r_square: 0.9995 - val_loss: 4.0438e-06 - val_rmse: 0.0011 - val_r_square: 0.9996\n",
      "Epoch 47/200\n",
      "1258680/1258680 [==============================] - 6s 5us/step - loss: 4.6876e-06 - rmse: 0.0012 - r_square: 0.9995 - val_loss: 5.5125e-06 - val_rmse: 0.0015 - val_r_square: 0.9995\n",
      "Epoch 48/200\n",
      "1258680/1258680 [==============================] - 6s 5us/step - loss: 4.7332e-06 - rmse: 0.0012 - r_square: 0.9995 - val_loss: 4.4485e-06 - val_rmse: 0.0012 - val_r_square: 0.9996\n",
      "Epoch 49/200\n",
      "1258680/1258680 [==============================] - 6s 5us/step - loss: 4.6789e-06 - rmse: 0.0012 - r_square: 0.9995 - val_loss: 4.8045e-06 - val_rmse: 0.0013 - val_r_square: 0.9995\n",
      "Epoch 50/200\n",
      "1258680/1258680 [==============================] - 6s 5us/step - loss: 4.6561e-06 - rmse: 0.0012 - r_square: 0.9995 - val_loss: 5.8879e-06 - val_rmse: 0.0015 - val_r_square: 0.9994\n",
      "Epoch 51/200\n",
      "1258680/1258680 [==============================] - 6s 5us/step - loss: 4.6708e-06 - rmse: 0.0012 - r_square: 0.9995 - val_loss: 4.3479e-06 - val_rmse: 0.0012 - val_r_square: 0.9996\n",
      "Epoch 52/200\n",
      "1258680/1258680 [==============================] - 6s 5us/step - loss: 4.6292e-06 - rmse: 0.0012 - r_square: 0.9995 - val_loss: 5.0305e-06 - val_rmse: 0.0013 - val_r_square: 0.9995\n",
      "Epoch 53/200\n",
      "1258680/1258680 [==============================] - 6s 5us/step - loss: 4.6505e-06 - rmse: 0.0012 - r_square: 0.9995 - val_loss: 3.9805e-06 - val_rmse: 0.0011 - val_r_square: 0.9996\n",
      "Epoch 54/200\n",
      "1258680/1258680 [==============================] - 6s 5us/step - loss: 4.6119e-06 - rmse: 0.0012 - r_square: 0.9995 - val_loss: 5.4690e-06 - val_rmse: 0.0013 - val_r_square: 0.9995\n",
      "Epoch 55/200\n",
      "1258680/1258680 [==============================] - 6s 5us/step - loss: 4.6480e-06 - rmse: 0.0012 - r_square: 0.9995 - val_loss: 4.7839e-06 - val_rmse: 0.0013 - val_r_square: 0.9995\n",
      "Epoch 56/200\n",
      "1258680/1258680 [==============================] - 6s 5us/step - loss: 4.6020e-06 - rmse: 0.0012 - r_square: 0.9995 - val_loss: 3.8749e-06 - val_rmse: 0.0011 - val_r_square: 0.9996\n",
      "Epoch 57/200\n",
      "1258680/1258680 [==============================] - 6s 5us/step - loss: 4.6077e-06 - rmse: 0.0012 - r_square: 0.9995 - val_loss: 3.8715e-06 - val_rmse: 0.0011 - val_r_square: 0.9996\n",
      "Epoch 58/200\n",
      "1258680/1258680 [==============================] - 6s 5us/step - loss: 4.5913e-06 - rmse: 0.0012 - r_square: 0.9995 - val_loss: 4.4839e-06 - val_rmse: 0.0012 - val_r_square: 0.9996\n",
      "Epoch 59/200\n",
      "1258680/1258680 [==============================] - 6s 5us/step - loss: 4.5658e-06 - rmse: 0.0012 - r_square: 0.9996 - val_loss: 4.8176e-06 - val_rmse: 0.0012 - val_r_square: 0.9995\n",
      "Epoch 60/200\n",
      "1258680/1258680 [==============================] - 6s 5us/step - loss: 4.5716e-06 - rmse: 0.0012 - r_square: 0.9995 - val_loss: 5.0350e-06 - val_rmse: 0.0014 - val_r_square: 0.9995\n",
      "Epoch 61/200\n",
      "1258680/1258680 [==============================] - 6s 5us/step - loss: 4.5417e-06 - rmse: 0.0012 - r_square: 0.9996 - val_loss: 5.2228e-06 - val_rmse: 0.0013 - val_r_square: 0.9995\n",
      "Epoch 62/200\n",
      "1258680/1258680 [==============================] - 6s 5us/step - loss: 4.5472e-06 - rmse: 0.0012 - r_square: 0.9996 - val_loss: 4.3362e-06 - val_rmse: 0.0012 - val_r_square: 0.9996\n",
      "Epoch 63/200\n",
      "1258680/1258680 [==============================] - 6s 5us/step - loss: 4.5294e-06 - rmse: 0.0012 - r_square: 0.9996 - val_loss: 4.2097e-06 - val_rmse: 0.0011 - val_r_square: 0.9996\n",
      "Epoch 64/200\n",
      "1258680/1258680 [==============================] - 6s 5us/step - loss: 4.5394e-06 - rmse: 0.0012 - r_square: 0.9996 - val_loss: 7.5857e-06 - val_rmse: 0.0016 - val_r_square: 0.9993\n",
      "Epoch 65/200\n",
      "1258680/1258680 [==============================] - 6s 5us/step - loss: 4.5831e-06 - rmse: 0.0012 - r_square: 0.9995 - val_loss: 4.2468e-06 - val_rmse: 0.0012 - val_r_square: 0.9996\n",
      "Epoch 66/200\n",
      "1258680/1258680 [==============================] - 6s 5us/step - loss: 4.5130e-06 - rmse: 0.0012 - r_square: 0.9996 - val_loss: 6.7138e-06 - val_rmse: 0.0015 - val_r_square: 0.9993\n",
      "Epoch 67/200\n",
      "1258680/1258680 [==============================] - 6s 5us/step - loss: 4.5273e-06 - rmse: 0.0012 - r_square: 0.9996 - val_loss: 5.4828e-06 - val_rmse: 0.0013 - val_r_square: 0.9995\n",
      "Epoch 68/200\n",
      "1258680/1258680 [==============================] - 6s 5us/step - loss: 4.4996e-06 - rmse: 0.0012 - r_square: 0.9996 - val_loss: 3.8365e-06 - val_rmse: 0.0011 - val_r_square: 0.9996\n",
      "Epoch 69/200\n",
      "1258680/1258680 [==============================] - 6s 5us/step - loss: 4.5000e-06 - rmse: 0.0012 - r_square: 0.9996 - val_loss: 4.0412e-06 - val_rmse: 0.0011 - val_r_square: 0.9996\n",
      "Epoch 70/200\n",
      "1258680/1258680 [==============================] - 6s 5us/step - loss: 4.4990e-06 - rmse: 0.0012 - r_square: 0.9996 - val_loss: 4.7541e-06 - val_rmse: 0.0012 - val_r_square: 0.9995\n",
      "Epoch 71/200\n",
      "1258680/1258680 [==============================] - 6s 5us/step - loss: 4.4552e-06 - rmse: 0.0012 - r_square: 0.9996 - val_loss: 4.1436e-06 - val_rmse: 0.0011 - val_r_square: 0.9996\n",
      "Epoch 72/200\n",
      "1258680/1258680 [==============================] - 6s 5us/step - loss: 4.5349e-06 - rmse: 0.0012 - r_square: 0.9996 - val_loss: 3.9243e-06 - val_rmse: 0.0011 - val_r_square: 0.9996\n",
      "Epoch 73/200\n",
      "1258680/1258680 [==============================] - 6s 5us/step - loss: 4.4634e-06 - rmse: 0.0012 - r_square: 0.9996 - val_loss: 4.8535e-06 - val_rmse: 0.0013 - val_r_square: 0.9995\n",
      "Epoch 74/200\n",
      "1258680/1258680 [==============================] - 6s 5us/step - loss: 4.4632e-06 - rmse: 0.0012 - r_square: 0.9996 - val_loss: 4.0523e-06 - val_rmse: 0.0011 - val_r_square: 0.9996\n",
      "Epoch 75/200\n",
      "1258680/1258680 [==============================] - 6s 5us/step - loss: 4.4790e-06 - rmse: 0.0012 - r_square: 0.9996 - val_loss: 4.5094e-06 - val_rmse: 0.0012 - val_r_square: 0.9996\n",
      "Epoch 76/200\n",
      "1258680/1258680 [==============================] - 6s 5us/step - loss: 4.4539e-06 - rmse: 0.0012 - r_square: 0.9996 - val_loss: 4.1204e-06 - val_rmse: 0.0011 - val_r_square: 0.9996\n",
      "Epoch 77/200\n",
      "1258680/1258680 [==============================] - 6s 5us/step - loss: 4.4598e-06 - rmse: 0.0012 - r_square: 0.9996 - val_loss: 4.5151e-06 - val_rmse: 0.0012 - val_r_square: 0.9996\n",
      "Epoch 78/200\n",
      "1258680/1258680 [==============================] - 6s 5us/step - loss: 4.4120e-06 - rmse: 0.0012 - r_square: 0.9996 - val_loss: 3.9206e-06 - val_rmse: 0.0011 - val_r_square: 0.9996\n",
      "Epoch 79/200\n",
      "1258680/1258680 [==============================] - 6s 5us/step - loss: 4.4452e-06 - rmse: 0.0012 - r_square: 0.9996 - val_loss: 4.8260e-06 - val_rmse: 0.0012 - val_r_square: 0.9995\n",
      "Epoch 80/200\n",
      "1258680/1258680 [==============================] - 6s 5us/step - loss: 4.4519e-06 - rmse: 0.0012 - r_square: 0.9996 - val_loss: 4.9273e-06 - val_rmse: 0.0013 - val_r_square: 0.9995\n",
      "Epoch 81/200\n",
      "1258680/1258680 [==============================] - 6s 5us/step - loss: 4.4214e-06 - rmse: 0.0012 - r_square: 0.9996 - val_loss: 3.8972e-06 - val_rmse: 0.0012 - val_r_square: 0.9996\n",
      "Epoch 82/200\n",
      "1258680/1258680 [==============================] - 6s 5us/step - loss: 4.4172e-06 - rmse: 0.0012 - r_square: 0.9996 - val_loss: 4.1564e-06 - val_rmse: 0.0011 - val_r_square: 0.9996\n",
      "Epoch 83/200\n",
      "1258680/1258680 [==============================] - 6s 5us/step - loss: 4.3549e-06 - rmse: 0.0012 - r_square: 0.9996 - val_loss: 3.9449e-06 - val_rmse: 0.0011 - val_r_square: 0.9996\n",
      "Epoch 84/200\n",
      "1258680/1258680 [==============================] - 6s 5us/step - loss: 4.4025e-06 - rmse: 0.0012 - r_square: 0.9996 - val_loss: 4.1850e-06 - val_rmse: 0.0012 - val_r_square: 0.9996\n",
      "Epoch 85/200\n"
     ]
    },
    {
     "name": "stdout",
     "output_type": "stream",
     "text": [
      "1258680/1258680 [==============================] - 6s 5us/step - loss: 4.4064e-06 - rmse: 0.0012 - r_square: 0.9996 - val_loss: 6.3234e-06 - val_rmse: 0.0014 - val_r_square: 0.9994\n",
      "Epoch 86/200\n",
      "1258680/1258680 [==============================] - 6s 5us/step - loss: 4.3737e-06 - rmse: 0.0012 - r_square: 0.9996 - val_loss: 5.4009e-06 - val_rmse: 0.0013 - val_r_square: 0.9995\n",
      "Epoch 87/200\n",
      "1258680/1258680 [==============================] - 6s 5us/step - loss: 4.4058e-06 - rmse: 0.0012 - r_square: 0.9996 - val_loss: 4.6583e-06 - val_rmse: 0.0013 - val_r_square: 0.9995\n",
      "Epoch 88/200\n",
      "1258680/1258680 [==============================] - 6s 5us/step - loss: 4.3975e-06 - rmse: 0.0012 - r_square: 0.9996 - val_loss: 5.2906e-06 - val_rmse: 0.0013 - val_r_square: 0.9995\n",
      "Epoch 89/200\n",
      "1258680/1258680 [==============================] - 6s 5us/step - loss: 4.3923e-06 - rmse: 0.0012 - r_square: 0.9996 - val_loss: 4.0675e-06 - val_rmse: 0.0011 - val_r_square: 0.9996\n",
      "Epoch 90/200\n",
      "1258680/1258680 [==============================] - 6s 5us/step - loss: 4.3622e-06 - rmse: 0.0012 - r_square: 0.9996 - val_loss: 4.0420e-06 - val_rmse: 0.0012 - val_r_square: 0.9996\n",
      "Epoch 91/200\n",
      "1258680/1258680 [==============================] - 6s 5us/step - loss: 4.3588e-06 - rmse: 0.0012 - r_square: 0.9996 - val_loss: 4.2267e-06 - val_rmse: 0.0011 - val_r_square: 0.9996\n",
      "Epoch 92/200\n",
      "1258680/1258680 [==============================] - 6s 5us/step - loss: 4.3606e-06 - rmse: 0.0012 - r_square: 0.9996 - val_loss: 4.0422e-06 - val_rmse: 0.0011 - val_r_square: 0.9996\n",
      "Epoch 93/200\n",
      "1258680/1258680 [==============================] - 6s 5us/step - loss: 4.3688e-06 - rmse: 0.0012 - r_square: 0.9996 - val_loss: 4.5965e-06 - val_rmse: 0.0012 - val_r_square: 0.9996\n",
      "Epoch 00093: early stopping\n"
     ]
    }
   ],
   "source": [
    "# fit the model\n",
    "result = model.fit(XX_train, \n",
    "                   yy_train,\n",
    "                   epochs = 200,\n",
    "                   batch_size=256,\n",
    "                   validation_data=(XX_validation, yy_validation),\n",
    "                   callbacks = [es]\n",
    "                  )"
   ]
  },
  {
   "cell_type": "code",
   "execution_count": 24,
   "metadata": {},
   "outputs": [],
   "source": [
    "model.save_weights('model.h5')"
   ]
  },
  {
   "cell_type": "code",
   "execution_count": 13,
   "metadata": {},
   "outputs": [
    {
     "name": "stdout",
     "output_type": "stream",
     "text": [
      "[[0.05547181]\n",
      " [0.00232244]\n",
      " [0.00163608]\n",
      " [0.08015914]\n",
      " [0.02986703]\n",
      " [0.000429  ]\n",
      " [0.00038146]\n",
      " [0.11281534]\n",
      " [0.00167163]\n",
      " [0.00037305]]\n"
     ]
    }
   ],
   "source": [
    "predictions = model.predict(X_test)\n",
    "print(predictions[:10])"
   ]
  },
  {
   "cell_type": "code",
   "execution_count": 19,
   "metadata": {},
   "outputs": [
    {
     "data": {
      "text/plain": [
       "array([[0.05267722],\n",
       "       [0.00354072],\n",
       "       [0.00187875],\n",
       "       [0.07471638],\n",
       "       [0.03136065],\n",
       "       [0.0003613 ],\n",
       "       [0.00028904],\n",
       "       [0.11337524],\n",
       "       [0.00122841],\n",
       "       [0.00050582]])"
      ]
     },
     "execution_count": 19,
     "metadata": {},
     "output_type": "execute_result"
    }
   ],
   "source": [
    "y_test[:10]"
   ]
  },
  {
   "cell_type": "markdown",
   "metadata": {},
   "source": [
    "## Plot learning curves including R^2 and RMSE"
   ]
  },
  {
   "cell_type": "code",
   "execution_count": 14,
   "metadata": {},
   "outputs": [
    {
     "data": {
      "image/png": "[encoded data removed]",
      "text/plain": [
       "<Figure size 432x288 with 1 Axes>"
      ]
     },
     "metadata": {},
     "output_type": "display_data"
    }
   ],
   "source": [
    "# plot training curve for rmse\n",
    "plt.plot(result.history['rmse'])\n",
    "plt.plot(result.history['val_rmse'])\n",
    "plt.title('rmse')\n",
    "plt.ylabel('rmse')\n",
    "plt.xlabel('epoch')\n",
    "plt.legend(['train', 'validation'], loc='upper right')\n",
    "plt.show()"
   ]
  },
  {
   "cell_type": "code",
   "execution_count": 15,
   "metadata": {},
   "outputs": [
    {
     "data": {
      "image/png": "[encoded data removed]",
      "text/plain": [
       "<Figure size 432x288 with 1 Axes>"
      ]
     },
     "metadata": {},
     "output_type": "display_data"
    }
   ],
   "source": [
    "# plot training curve for R^2\n",
    "plt.plot(result.history['r_square'])\n",
    "plt.plot(result.history['val_r_square'])\n",
    "plt.title('model R^2')\n",
    "plt.ylabel('R^2')\n",
    "plt.xlabel('epoch')\n",
    "plt.legend(['train', 'validation'], loc='lower right')\n",
    "plt.show()"
   ]
  },
  {
   "cell_type": "code",
   "execution_count": 16,
   "metadata": {},
   "outputs": [
    {
     "name": "stdout",
     "output_type": "stream",
     "text": [
      "\n",
      "\n",
      "Mean absolute error (MAE):      0.001187\n",
      "Mean squared error (MSE):       0.000005\n",
      "Root mean squared error (RMSE): 0.002136\n",
      "R square (R^2):                 0.999570\n"
     ]
    }
   ],
   "source": [
    "import sklearn.metrics as skm, math\n",
    "print(\"\\n\")\n",
    "print(\"Mean absolute error (MAE):      %f\" % skm.mean_absolute_error(y_test,predictions))\n",
    "print(\"Mean squared error (MSE):       %f\" % skm.mean_squared_error(y_test,predictions))\n",
    "print(\"Root mean squared error (RMSE): %f\" % math.sqrt(skm.mean_squared_error(y_test,predictions)))\n",
    "print(\"R square (R^2):                 %f\" % skm.r2_score(y_test,predictions))"
   ]
  },
  {
   "cell_type": "markdown",
   "metadata": {},
   "source": [
    "## Try dropout"
   ]
  },
  {
   "cell_type": "code",
   "execution_count": 17,
   "metadata": {},
   "outputs": [
    {
     "name": "stderr",
     "output_type": "stream",
     "text": [
      "W0623 22:18:30.824930  8672 deprecation.py:506] From C:\\Users\\mayingzh\\AppData\\Roaming\\Python\\Python36\\site-packages\\keras\\backend\\tensorflow_backend.py:3445: calling dropout (from tensorflow.python.ops.nn_ops) with keep_prob is deprecated and will be removed in a future version.\n",
      "Instructions for updating:\n",
      "Please use `rate` instead of `keep_prob`. Rate should be set to `rate = 1 - keep_prob`.\n"
     ]
    },
    {
     "name": "stdout",
     "output_type": "stream",
     "text": [
      "Train on 1258680 samples, validate on 314671 samples\n",
      "Epoch 1/200\n",
      "1258680/1258680 [==============================] - 7s 6us/step - loss: 3.1370e-04 - rmse: 0.0083 - r_square: 0.9698 - val_loss: 1.7105e-04 - val_rmse: 0.0069 - val_r_square: 0.9840\n",
      "Epoch 2/200\n",
      "1258680/1258680 [==============================] - 7s 6us/step - loss: 3.1086e-05 - rmse: 0.0035 - r_square: 0.9970 - val_loss: 2.2764e-04 - val_rmse: 0.0075 - val_r_square: 0.9787\n",
      "Epoch 3/200\n",
      "1258680/1258680 [==============================] - 7s 6us/step - loss: 2.0675e-05 - rmse: 0.0028 - r_square: 0.9980 - val_loss: 1.7900e-04 - val_rmse: 0.0068 - val_r_square: 0.9833\n",
      "Epoch 4/200\n",
      "1258680/1258680 [==============================] - 7s 6us/step - loss: 1.6610e-05 - rmse: 0.0025 - r_square: 0.9984 - val_loss: 1.5037e-04 - val_rmse: 0.0072 - val_r_square: 0.9859\n",
      "Epoch 5/200\n",
      "1258680/1258680 [==============================] - 7s 6us/step - loss: 1.4679e-05 - rmse: 0.0023 - r_square: 0.9986 - val_loss: 1.6876e-04 - val_rmse: 0.0074 - val_r_square: 0.9841\n",
      "Epoch 6/200\n",
      "1258680/1258680 [==============================] - 7s 6us/step - loss: 1.3298e-05 - rmse: 0.0022 - r_square: 0.9987 - val_loss: 1.5917e-04 - val_rmse: 0.0071 - val_r_square: 0.9851\n",
      "Epoch 7/200\n",
      "1258680/1258680 [==============================] - 7s 6us/step - loss: 1.2137e-05 - rmse: 0.0021 - r_square: 0.9988 - val_loss: 1.5118e-04 - val_rmse: 0.0077 - val_r_square: 0.9858\n",
      "Epoch 8/200\n",
      "1258680/1258680 [==============================] - 7s 6us/step - loss: 1.1786e-05 - rmse: 0.0021 - r_square: 0.9988 - val_loss: 1.8885e-04 - val_rmse: 0.0084 - val_r_square: 0.9822\n",
      "Epoch 9/200\n",
      "1258680/1258680 [==============================] - 7s 6us/step - loss: 1.1052e-05 - rmse: 0.0020 - r_square: 0.9989 - val_loss: 1.7274e-04 - val_rmse: 0.0080 - val_r_square: 0.9838\n",
      "Epoch 10/200\n",
      "1258680/1258680 [==============================] - 7s 6us/step - loss: 1.0704e-05 - rmse: 0.0020 - r_square: 0.9989 - val_loss: 1.8405e-04 - val_rmse: 0.0082 - val_r_square: 0.9827\n",
      "Epoch 11/200\n",
      "1258680/1258680 [==============================] - 7s 6us/step - loss: 1.0338e-05 - rmse: 0.0019 - r_square: 0.9990 - val_loss: 1.7627e-04 - val_rmse: 0.0085 - val_r_square: 0.9834\n",
      "Epoch 12/200\n",
      "1258680/1258680 [==============================] - 7s 6us/step - loss: 1.0068e-05 - rmse: 0.0019 - r_square: 0.9990 - val_loss: 1.4963e-04 - val_rmse: 0.0076 - val_r_square: 0.9859\n",
      "Epoch 13/200\n",
      "1258680/1258680 [==============================] - 7s 6us/step - loss: 9.6855e-06 - rmse: 0.0019 - r_square: 0.9990 - val_loss: 1.4320e-04 - val_rmse: 0.0076 - val_r_square: 0.9865\n",
      "Epoch 14/200\n",
      "1258680/1258680 [==============================] - 7s 6us/step - loss: 9.3663e-06 - rmse: 0.0018 - r_square: 0.9991 - val_loss: 1.7815e-04 - val_rmse: 0.0077 - val_r_square: 0.9833\n",
      "Epoch 15/200\n",
      "1258680/1258680 [==============================] - 7s 6us/step - loss: 9.4099e-06 - rmse: 0.0018 - r_square: 0.9991 - val_loss: 1.6877e-04 - val_rmse: 0.0080 - val_r_square: 0.9842\n",
      "Epoch 16/200\n",
      "1258680/1258680 [==============================] - 7s 6us/step - loss: 9.1729e-06 - rmse: 0.0018 - r_square: 0.9991 - val_loss: 1.6786e-04 - val_rmse: 0.0083 - val_r_square: 0.9842\n",
      "Epoch 17/200\n",
      "1258680/1258680 [==============================] - 7s 6us/step - loss: 9.0570e-06 - rmse: 0.0018 - r_square: 0.9991 - val_loss: 1.5845e-04 - val_rmse: 0.0071 - val_r_square: 0.9852\n",
      "Epoch 18/200\n",
      "1258680/1258680 [==============================] - 7s 6us/step - loss: 8.8429e-06 - rmse: 0.0018 - r_square: 0.9991 - val_loss: 1.7300e-04 - val_rmse: 0.0078 - val_r_square: 0.9837\n",
      "Epoch 19/200\n",
      "1258680/1258680 [==============================] - 7s 6us/step - loss: 8.6511e-06 - rmse: 0.0018 - r_square: 0.9991 - val_loss: 1.6629e-04 - val_rmse: 0.0077 - val_r_square: 0.9844\n",
      "Epoch 20/200\n",
      "1258680/1258680 [==============================] - 7s 6us/step - loss: 8.5269e-06 - rmse: 0.0017 - r_square: 0.9992 - val_loss: 1.6536e-04 - val_rmse: 0.0077 - val_r_square: 0.9845\n",
      "Epoch 21/200\n",
      "1258680/1258680 [==============================] - 7s 6us/step - loss: 8.4399e-06 - rmse: 0.0017 - r_square: 0.9992 - val_loss: 1.7210e-04 - val_rmse: 0.0076 - val_r_square: 0.9839\n",
      "Epoch 22/200\n",
      "1258680/1258680 [==============================] - 7s 6us/step - loss: 8.3649e-06 - rmse: 0.0017 - r_square: 0.9992 - val_loss: 1.7426e-04 - val_rmse: 0.0079 - val_r_square: 0.9837\n",
      "Epoch 23/200\n",
      "1258680/1258680 [==============================] - 7s 6us/step - loss: 8.1749e-06 - rmse: 0.0017 - r_square: 0.9992 - val_loss: 1.5536e-04 - val_rmse: 0.0074 - val_r_square: 0.9854\n",
      "Epoch 24/200\n",
      "1258680/1258680 [==============================] - 7s 6us/step - loss: 8.0317e-06 - rmse: 0.0017 - r_square: 0.9992 - val_loss: 1.5397e-04 - val_rmse: 0.0072 - val_r_square: 0.9856\n",
      "Epoch 25/200\n",
      "1258680/1258680 [==============================] - 7s 6us/step - loss: 8.1812e-06 - rmse: 0.0017 - r_square: 0.9992 - val_loss: 1.6374e-04 - val_rmse: 0.0076 - val_r_square: 0.9847\n",
      "Epoch 26/200\n",
      "1258680/1258680 [==============================] - 7s 6us/step - loss: 7.9183e-06 - rmse: 0.0017 - r_square: 0.9992 - val_loss: 1.5851e-04 - val_rmse: 0.0075 - val_r_square: 0.9852\n",
      "Epoch 27/200\n",
      "1258680/1258680 [==============================] - 7s 6us/step - loss: 7.7656e-06 - rmse: 0.0017 - r_square: 0.9992 - val_loss: 1.4722e-04 - val_rmse: 0.0076 - val_r_square: 0.9862\n",
      "Epoch 28/200\n",
      "1258680/1258680 [==============================] - 7s 6us/step - loss: 7.8176e-06 - rmse: 0.0017 - r_square: 0.9992 - val_loss: 1.6618e-04 - val_rmse: 0.0074 - val_r_square: 0.9845\n",
      "Epoch 29/200\n",
      "1258680/1258680 [==============================] - 7s 6us/step - loss: 7.6225e-06 - rmse: 0.0016 - r_square: 0.9993 - val_loss: 1.6610e-04 - val_rmse: 0.0077 - val_r_square: 0.9844\n",
      "Epoch 30/200\n",
      "1258680/1258680 [==============================] - 7s 6us/step - loss: 7.8187e-06 - rmse: 0.0017 - r_square: 0.9992 - val_loss: 1.5477e-04 - val_rmse: 0.0075 - val_r_square: 0.9855\n",
      "Epoch 31/200\n",
      "1258680/1258680 [==============================] - 7s 6us/step - loss: 7.6164e-06 - rmse: 0.0016 - r_square: 0.9993 - val_loss: 1.8672e-04 - val_rmse: 0.0079 - val_r_square: 0.9825\n",
      "Epoch 32/200\n",
      "1258680/1258680 [==============================] - 7s 6us/step - loss: 7.5154e-06 - rmse: 0.0016 - r_square: 0.9993 - val_loss: 1.7772e-04 - val_rmse: 0.0079 - val_r_square: 0.9833\n",
      "Epoch 33/200\n",
      "1258680/1258680 [==============================] - 7s 6us/step - loss: 7.4642e-06 - rmse: 0.0016 - r_square: 0.9993 - val_loss: 1.6863e-04 - val_rmse: 0.0078 - val_r_square: 0.9842\n",
      "Epoch 34/200\n",
      "1258680/1258680 [==============================] - 7s 6us/step - loss: 7.4859e-06 - rmse: 0.0016 - r_square: 0.9993 - val_loss: 1.6790e-04 - val_rmse: 0.0079 - val_r_square: 0.9843\n",
      "Epoch 35/200\n",
      "1258680/1258680 [==============================] - 7s 6us/step - loss: 7.3232e-06 - rmse: 0.0016 - r_square: 0.9993 - val_loss: 1.6169e-04 - val_rmse: 0.0072 - val_r_square: 0.9849\n",
      "Epoch 36/200\n",
      "1258680/1258680 [==============================] - 7s 6us/step - loss: 7.3555e-06 - rmse: 0.0016 - r_square: 0.9993 - val_loss: 1.6314e-04 - val_rmse: 0.0076 - val_r_square: 0.9847\n",
      "Epoch 37/200\n",
      "1258680/1258680 [==============================] - 7s 6us/step - loss: 7.2178e-06 - rmse: 0.0016 - r_square: 0.9993 - val_loss: 1.5302e-04 - val_rmse: 0.0075 - val_r_square: 0.9856\n",
      "Epoch 38/200\n",
      "1258680/1258680 [==============================] - 7s 6us/step - loss: 7.1247e-06 - rmse: 0.0016 - r_square: 0.9993 - val_loss: 1.6302e-04 - val_rmse: 0.0074 - val_r_square: 0.9848\n",
      "Epoch 00038: early stopping\n"
     ]
    }
   ],
   "source": [
    "model2 = Sequential([\n",
    "    Dense(64, activation='relu', input_shape=(7,)),\n",
    "    Dropout(0.1),\n",
    "    Dense(128, activation='relu'),\n",
    "    Dense(64, activation='relu'),\n",
    "    Dense(1, activation='linear'),\n",
    "])\n",
    "model2.compile(\n",
    "  optimizer='adam',\n",
    "  loss='mse',\n",
    "  metrics=[rmse, r_square],\n",
    ")\n",
    "# fit the model\n",
    "result2 = model2.fit(XX_train, \n",
    "                   yy_train,\n",
    "                   epochs = 200,\n",
    "                   batch_size=256,\n",
    "                   validation_data=(XX_validation, yy_validation),\n",
    "                   callbacks = [es]\n",
    "                  )"
   ]
  },
  {
   "cell_type": "code",
   "execution_count": 18,
   "metadata": {},
   "outputs": [
    {
     "name": "stdout",
     "output_type": "stream",
     "text": [
      "[[0.04707419]\n",
      " [0.01022818]\n",
      " [0.00748053]\n",
      " [0.06863838]\n",
      " [0.034431  ]\n",
      " [0.00056269]\n",
      " [0.0017158 ]\n",
      " [0.1073888 ]\n",
      " [0.00314184]\n",
      " [0.0028066 ]]\n",
      "\n",
      "\n",
      "Mean absolute error (MAE):      0.007355\n",
      "Mean squared error (MSE):       0.000160\n",
      "Root mean squared error (RMSE): 0.012660\n",
      "R square (R^2):                 0.984910\n"
     ]
    }
   ],
   "source": [
    "predictions2 = model2.predict(X_test)\n",
    "print(predictions2[:10])\n",
    "print(\"\\n\")\n",
    "print(\"Mean absolute error (MAE):      %f\" % skm.mean_absolute_error(y_test,predictions2))\n",
    "print(\"Mean squared error (MSE):       %f\" % skm.mean_squared_error(y_test,predictions2))\n",
    "print(\"Root mean squared error (RMSE): %f\" % math.sqrt(skm.mean_squared_error(y_test,predictions2)))\n",
    "print(\"R square (R^2):                 %f\" % skm.r2_score(y_test,predictions2))"
   ]
  },
  {
   "cell_type": "code",
   "execution_count": null,
   "metadata": {},
   "outputs": [],
   "source": []
  },
  {
   "cell_type": "code",
   "execution_count": null,
   "metadata": {},
   "outputs": [],
   "source": []
  },
  {
   "cell_type": "code",
   "execution_count": null,
   "metadata": {},
   "outputs": [],
   "source": []
  },
  {
   "cell_type": "markdown",
   "metadata": {},
   "source": [
    "## Try batch normalization technique to regularize neurons"
   ]
  },
  {
   "cell_type": "code",
   "execution_count": 19,
   "metadata": {},
   "outputs": [
    {
     "name": "stdout",
     "output_type": "stream",
     "text": [
      "Train on 1258680 samples, validate on 314671 samples\n",
      "Epoch 1/200\n",
      "1258680/1258680 [==============================] - 7s 6us/step - loss: 3.0125e-04 - rmse: 0.0102 - r_square: 0.9709 - val_loss: 1.1729e-04 - val_rmse: 0.0057 - val_r_square: 0.9887\n",
      "Epoch 2/200\n",
      "1258680/1258680 [==============================] - 7s 5us/step - loss: 1.6909e-04 - rmse: 0.0074 - r_square: 0.9837 - val_loss: 3.1365e-05 - val_rmse: 0.0039 - val_r_square: 0.9969\n",
      "Epoch 3/200\n",
      "1258680/1258680 [==============================] - 7s 5us/step - loss: 1.6013e-04 - rmse: 0.0069 - r_square: 0.9845 - val_loss: 2.0933e-05 - val_rmse: 0.0028 - val_r_square: 0.9980\n",
      "Epoch 4/200\n",
      "1258680/1258680 [==============================] - 7s 5us/step - loss: 1.4954e-04 - rmse: 0.0066 - r_square: 0.9855 - val_loss: 2.8022e-05 - val_rmse: 0.0030 - val_r_square: 0.9973\n",
      "Epoch 5/200\n",
      "1258680/1258680 [==============================] - 7s 6us/step - loss: 1.4935e-04 - rmse: 0.0065 - r_square: 0.9855 - val_loss: 3.0421e-05 - val_rmse: 0.0032 - val_r_square: 0.9970\n",
      "Epoch 6/200\n",
      "1258680/1258680 [==============================] - 7s 5us/step - loss: 1.4709e-04 - rmse: 0.0065 - r_square: 0.9858 - val_loss: 4.1387e-05 - val_rmse: 0.0039 - val_r_square: 0.9960\n",
      "Epoch 7/200\n",
      "1258680/1258680 [==============================] - 7s 6us/step - loss: 1.4219e-04 - rmse: 0.0064 - r_square: 0.9863 - val_loss: 8.3608e-05 - val_rmse: 0.0051 - val_r_square: 0.9920\n",
      "Epoch 8/200\n",
      "1258680/1258680 [==============================] - 7s 5us/step - loss: 1.4514e-04 - rmse: 0.0064 - r_square: 0.9859 - val_loss: 2.3281e-05 - val_rmse: 0.0029 - val_r_square: 0.9977\n",
      "Epoch 9/200\n",
      "1258680/1258680 [==============================] - 7s 6us/step - loss: 1.3992e-04 - rmse: 0.0063 - r_square: 0.9865 - val_loss: 3.2823e-05 - val_rmse: 0.0032 - val_r_square: 0.9968\n",
      "Epoch 10/200\n",
      "1258680/1258680 [==============================] - 7s 6us/step - loss: 1.4228e-04 - rmse: 0.0064 - r_square: 0.9863 - val_loss: 1.8509e-05 - val_rmse: 0.0026 - val_r_square: 0.9982\n",
      "Epoch 11/200\n",
      "1258680/1258680 [==============================] - 7s 6us/step - loss: 1.4174e-04 - rmse: 0.0063 - r_square: 0.9863 - val_loss: 3.0937e-05 - val_rmse: 0.0033 - val_r_square: 0.9970\n",
      "Epoch 12/200\n",
      "1258680/1258680 [==============================] - 7s 6us/step - loss: 1.4086e-04 - rmse: 0.0063 - r_square: 0.9863 - val_loss: 2.2080e-05 - val_rmse: 0.0034 - val_r_square: 0.9978\n",
      "Epoch 13/200\n",
      "1258680/1258680 [==============================] - 7s 5us/step - loss: 1.4203e-04 - rmse: 0.0063 - r_square: 0.9863 - val_loss: 3.3267e-05 - val_rmse: 0.0034 - val_r_square: 0.9968\n",
      "Epoch 14/200\n",
      "1258680/1258680 [==============================] - 7s 6us/step - loss: 1.3935e-04 - rmse: 0.0063 - r_square: 0.9865 - val_loss: 1.8664e-05 - val_rmse: 0.0027 - val_r_square: 0.9982\n",
      "Epoch 15/200\n",
      "1258680/1258680 [==============================] - 7s 6us/step - loss: 1.3778e-04 - rmse: 0.0063 - r_square: 0.9867 - val_loss: 1.8917e-05 - val_rmse: 0.0032 - val_r_square: 0.9982\n",
      "Epoch 16/200\n",
      "1258680/1258680 [==============================] - 7s 6us/step - loss: 1.3812e-04 - rmse: 0.0063 - r_square: 0.9866 - val_loss: 2.4670e-05 - val_rmse: 0.0026 - val_r_square: 0.9976\n",
      "Epoch 17/200\n",
      "1258680/1258680 [==============================] - 7s 6us/step - loss: 1.3942e-04 - rmse: 0.0063 - r_square: 0.9865 - val_loss: 1.8929e-05 - val_rmse: 0.0027 - val_r_square: 0.9982\n",
      "Epoch 18/200\n",
      "1258680/1258680 [==============================] - 7s 6us/step - loss: 1.3710e-04 - rmse: 0.0062 - r_square: 0.9867 - val_loss: 2.4288e-05 - val_rmse: 0.0037 - val_r_square: 0.9976\n",
      "Epoch 19/200\n",
      "1258680/1258680 [==============================] - 7s 6us/step - loss: 1.3849e-04 - rmse: 0.0063 - r_square: 0.9866 - val_loss: 3.5699e-05 - val_rmse: 0.0035 - val_r_square: 0.9966\n",
      "Epoch 20/200\n",
      "1258680/1258680 [==============================] - 7s 6us/step - loss: 1.3989e-04 - rmse: 0.0063 - r_square: 0.9865 - val_loss: 2.1765e-05 - val_rmse: 0.0028 - val_r_square: 0.9979\n",
      "Epoch 21/200\n",
      "1258680/1258680 [==============================] - 7s 6us/step - loss: 1.3593e-04 - rmse: 0.0062 - r_square: 0.9869 - val_loss: 2.4273e-05 - val_rmse: 0.0033 - val_r_square: 0.9977\n",
      "Epoch 22/200\n",
      "1258680/1258680 [==============================] - 7s 5us/step - loss: 1.3852e-04 - rmse: 0.0063 - r_square: 0.9864 - val_loss: 2.4437e-05 - val_rmse: 0.0026 - val_r_square: 0.9977\n",
      "Epoch 23/200\n",
      "1258680/1258680 [==============================] - 7s 6us/step - loss: 1.3480e-04 - rmse: 0.0062 - r_square: 0.9870 - val_loss: 2.2184e-05 - val_rmse: 0.0032 - val_r_square: 0.9979\n",
      "Epoch 24/200\n",
      "1258680/1258680 [==============================] - 7s 6us/step - loss: 1.3472e-04 - rmse: 0.0062 - r_square: 0.9870 - val_loss: 2.6944e-05 - val_rmse: 0.0030 - val_r_square: 0.9974\n",
      "Epoch 25/200\n",
      "1258680/1258680 [==============================] - 7s 6us/step - loss: 1.3358e-04 - rmse: 0.0062 - r_square: 0.9870 - val_loss: 1.9323e-05 - val_rmse: 0.0029 - val_r_square: 0.9981\n",
      "Epoch 26/200\n",
      "1258680/1258680 [==============================] - 7s 6us/step - loss: 1.3180e-04 - rmse: 0.0062 - r_square: 0.9873 - val_loss: 2.3177e-05 - val_rmse: 0.0029 - val_r_square: 0.9978\n",
      "Epoch 27/200\n",
      "1258680/1258680 [==============================] - 7s 6us/step - loss: 1.3357e-04 - rmse: 0.0062 - r_square: 0.9871 - val_loss: 4.9947e-05 - val_rmse: 0.0047 - val_r_square: 0.9952\n",
      "Epoch 28/200\n",
      "1258680/1258680 [==============================] - 7s 6us/step - loss: 1.3953e-04 - rmse: 0.0063 - r_square: 0.9865 - val_loss: 2.9635e-05 - val_rmse: 0.0039 - val_r_square: 0.9971\n",
      "Epoch 29/200\n",
      "1258680/1258680 [==============================] - 7s 6us/step - loss: 1.3568e-04 - rmse: 0.0062 - r_square: 0.9869 - val_loss: 2.3745e-05 - val_rmse: 0.0029 - val_r_square: 0.9977\n",
      "Epoch 30/200\n",
      "1258680/1258680 [==============================] - 7s 6us/step - loss: 1.3456e-04 - rmse: 0.0062 - r_square: 0.9870 - val_loss: 1.9288e-05 - val_rmse: 0.0024 - val_r_square: 0.9981\n",
      "Epoch 31/200\n",
      "1258680/1258680 [==============================] - 7s 5us/step - loss: 1.3074e-04 - rmse: 0.0061 - r_square: 0.9873 - val_loss: 1.9264e-05 - val_rmse: 0.0023 - val_r_square: 0.9982\n",
      "Epoch 32/200\n",
      "1258680/1258680 [==============================] - 7s 6us/step - loss: 1.3537e-04 - rmse: 0.0062 - r_square: 0.9868 - val_loss: 2.4918e-05 - val_rmse: 0.0028 - val_r_square: 0.9976\n",
      "Epoch 33/200\n",
      "1258680/1258680 [==============================] - 7s 6us/step - loss: 1.3375e-04 - rmse: 0.0062 - r_square: 0.9871 - val_loss: 3.2888e-05 - val_rmse: 0.0036 - val_r_square: 0.9968\n",
      "Epoch 34/200\n",
      "1258680/1258680 [==============================] - 7s 6us/step - loss: 1.3797e-04 - rmse: 0.0063 - r_square: 0.9866 - val_loss: 5.8677e-05 - val_rmse: 0.0038 - val_r_square: 0.9944\n",
      "Epoch 35/200\n",
      "1258680/1258680 [==============================] - 7s 6us/step - loss: 1.3701e-04 - rmse: 0.0062 - r_square: 0.9867 - val_loss: 1.8290e-05 - val_rmse: 0.0024 - val_r_square: 0.9982\n",
      "Epoch 36/200\n",
      "1258680/1258680 [==============================] - 7s 6us/step - loss: 1.2771e-04 - rmse: 0.0060 - r_square: 0.9877 - val_loss: 2.2518e-05 - val_rmse: 0.0026 - val_r_square: 0.9978\n",
      "Epoch 37/200\n",
      "1258680/1258680 [==============================] - 7s 5us/step - loss: 1.3213e-04 - rmse: 0.0061 - r_square: 0.9872 - val_loss: 4.1022e-05 - val_rmse: 0.0040 - val_r_square: 0.9961\n",
      "Epoch 38/200\n",
      "1258680/1258680 [==============================] - 7s 5us/step - loss: 1.3569e-04 - rmse: 0.0062 - r_square: 0.9869 - val_loss: 2.6875e-05 - val_rmse: 0.0032 - val_r_square: 0.9974\n",
      "Epoch 39/200\n",
      "1258680/1258680 [==============================] - 7s 5us/step - loss: 1.3425e-04 - rmse: 0.0061 - r_square: 0.9870 - val_loss: 2.5631e-05 - val_rmse: 0.0032 - val_r_square: 0.9975\n",
      "Epoch 40/200\n",
      "1258680/1258680 [==============================] - 7s 5us/step - loss: 1.3108e-04 - rmse: 0.0061 - r_square: 0.9872 - val_loss: 2.1252e-05 - val_rmse: 0.0032 - val_r_square: 0.9979\n",
      "Epoch 41/200\n",
      "1258680/1258680 [==============================] - 7s 5us/step - loss: 1.3282e-04 - rmse: 0.0061 - r_square: 0.9872 - val_loss: 5.5856e-05 - val_rmse: 0.0039 - val_r_square: 0.9946\n",
      "Epoch 42/200\n",
      "1258680/1258680 [==============================] - 7s 5us/step - loss: 1.3139e-04 - rmse: 0.0061 - r_square: 0.9873 - val_loss: 2.4314e-05 - val_rmse: 0.0032 - val_r_square: 0.9976\n",
      "Epoch 43/200\n"
     ]
    },
    {
     "name": "stdout",
     "output_type": "stream",
     "text": [
      "1258680/1258680 [==============================] - 7s 6us/step - loss: 1.3083e-04 - rmse: 0.0061 - r_square: 0.9873 - val_loss: 2.0409e-05 - val_rmse: 0.0026 - val_r_square: 0.9981\n",
      "Epoch 44/200\n",
      "1258680/1258680 [==============================] - 7s 5us/step - loss: 1.3274e-04 - rmse: 0.0061 - r_square: 0.9871 - val_loss: 2.4348e-05 - val_rmse: 0.0028 - val_r_square: 0.9977\n",
      "Epoch 45/200\n",
      "1258680/1258680 [==============================] - 7s 6us/step - loss: 1.3456e-04 - rmse: 0.0062 - r_square: 0.9870 - val_loss: 2.2158e-05 - val_rmse: 0.0029 - val_r_square: 0.9979\n",
      "Epoch 46/200\n",
      "1258680/1258680 [==============================] - 7s 5us/step - loss: 1.3416e-04 - rmse: 0.0062 - r_square: 0.9871 - val_loss: 1.6966e-05 - val_rmse: 0.0023 - val_r_square: 0.9984\n",
      "Epoch 47/200\n",
      "1258680/1258680 [==============================] - 7s 5us/step - loss: 1.3150e-04 - rmse: 0.0061 - r_square: 0.9873 - val_loss: 2.1001e-05 - val_rmse: 0.0026 - val_r_square: 0.9980\n",
      "Epoch 48/200\n",
      "1258680/1258680 [==============================] - 7s 5us/step - loss: 1.3304e-04 - rmse: 0.0061 - r_square: 0.9872 - val_loss: 2.5915e-05 - val_rmse: 0.0039 - val_r_square: 0.9975\n",
      "Epoch 49/200\n",
      "1258680/1258680 [==============================] - 7s 5us/step - loss: 1.3151e-04 - rmse: 0.0061 - r_square: 0.9873 - val_loss: 3.1087e-05 - val_rmse: 0.0036 - val_r_square: 0.9970\n",
      "Epoch 50/200\n",
      "1258680/1258680 [==============================] - 7s 5us/step - loss: 1.3228e-04 - rmse: 0.0061 - r_square: 0.9872 - val_loss: 2.2862e-05 - val_rmse: 0.0026 - val_r_square: 0.9978\n",
      "Epoch 51/200\n",
      "1258680/1258680 [==============================] - 7s 5us/step - loss: 1.3256e-04 - rmse: 0.0061 - r_square: 0.9871 - val_loss: 2.7558e-05 - val_rmse: 0.0033 - val_r_square: 0.9973\n",
      "Epoch 52/200\n",
      "1258680/1258680 [==============================] - 7s 5us/step - loss: 1.3401e-04 - rmse: 0.0062 - r_square: 0.9871 - val_loss: 2.7921e-05 - val_rmse: 0.0032 - val_r_square: 0.9973\n",
      "Epoch 53/200\n",
      "1258680/1258680 [==============================] - 7s 6us/step - loss: 1.3080e-04 - rmse: 0.0061 - r_square: 0.9874 - val_loss: 2.3359e-05 - val_rmse: 0.0034 - val_r_square: 0.9977\n",
      "Epoch 54/200\n",
      "1258680/1258680 [==============================] - 7s 6us/step - loss: 1.3071e-04 - rmse: 0.0061 - r_square: 0.9874 - val_loss: 2.2213e-05 - val_rmse: 0.0027 - val_r_square: 0.9979\n",
      "Epoch 55/200\n",
      "1258680/1258680 [==============================] - 7s 6us/step - loss: 1.3097e-04 - rmse: 0.0061 - r_square: 0.9873 - val_loss: 3.5198e-05 - val_rmse: 0.0033 - val_r_square: 0.9967\n",
      "Epoch 56/200\n",
      "1258680/1258680 [==============================] - 7s 5us/step - loss: 1.3155e-04 - rmse: 0.0061 - r_square: 0.9873 - val_loss: 2.2309e-05 - val_rmse: 0.0034 - val_r_square: 0.9978\n",
      "Epoch 57/200\n",
      "1258680/1258680 [==============================] - 7s 5us/step - loss: 1.3153e-04 - rmse: 0.0061 - r_square: 0.9873 - val_loss: 2.0312e-05 - val_rmse: 0.0027 - val_r_square: 0.9980\n",
      "Epoch 58/200\n",
      "1258680/1258680 [==============================] - 7s 5us/step - loss: 1.2853e-04 - rmse: 0.0060 - r_square: 0.9876 - val_loss: 2.5855e-05 - val_rmse: 0.0030 - val_r_square: 0.9975\n",
      "Epoch 59/200\n",
      "1258680/1258680 [==============================] - 7s 5us/step - loss: 1.3123e-04 - rmse: 0.0061 - r_square: 0.9873 - val_loss: 2.8746e-05 - val_rmse: 0.0037 - val_r_square: 0.9972\n",
      "Epoch 60/200\n",
      "1258680/1258680 [==============================] - 7s 5us/step - loss: 1.2527e-04 - rmse: 0.0060 - r_square: 0.9878 - val_loss: 1.9681e-05 - val_rmse: 0.0026 - val_r_square: 0.9981\n",
      "Epoch 61/200\n",
      "1258680/1258680 [==============================] - 7s 5us/step - loss: 1.3145e-04 - rmse: 0.0061 - r_square: 0.9874 - val_loss: 2.6749e-05 - val_rmse: 0.0028 - val_r_square: 0.9974\n",
      "Epoch 62/200\n",
      "1258680/1258680 [==============================] - 7s 6us/step - loss: 1.3057e-04 - rmse: 0.0061 - r_square: 0.9874 - val_loss: 2.3822e-05 - val_rmse: 0.0035 - val_r_square: 0.9977\n",
      "Epoch 63/200\n",
      "1258680/1258680 [==============================] - 7s 6us/step - loss: 1.3177e-04 - rmse: 0.0061 - r_square: 0.9873 - val_loss: 1.5685e-05 - val_rmse: 0.0024 - val_r_square: 0.9985\n",
      "Epoch 64/200\n",
      "1258680/1258680 [==============================] - 7s 6us/step - loss: 1.3075e-04 - rmse: 0.0061 - r_square: 0.9874 - val_loss: 1.7657e-05 - val_rmse: 0.0025 - val_r_square: 0.9983\n",
      "Epoch 65/200\n",
      "1258680/1258680 [==============================] - 7s 6us/step - loss: 1.2861e-04 - rmse: 0.0061 - r_square: 0.9875 - val_loss: 1.9753e-05 - val_rmse: 0.0028 - val_r_square: 0.9981\n",
      "Epoch 66/200\n",
      "1258680/1258680 [==============================] - 7s 5us/step - loss: 1.3056e-04 - rmse: 0.0061 - r_square: 0.9874 - val_loss: 1.8348e-05 - val_rmse: 0.0030 - val_r_square: 0.9982\n",
      "Epoch 67/200\n",
      "1258680/1258680 [==============================] - 7s 5us/step - loss: 1.2878e-04 - rmse: 0.0061 - r_square: 0.9875 - val_loss: 2.3655e-05 - val_rmse: 0.0034 - val_r_square: 0.9977\n",
      "Epoch 68/200\n",
      "1258680/1258680 [==============================] - 7s 5us/step - loss: 1.3345e-04 - rmse: 0.0061 - r_square: 0.9871 - val_loss: 2.5966e-05 - val_rmse: 0.0029 - val_r_square: 0.9975\n",
      "Epoch 69/200\n",
      "1258680/1258680 [==============================] - 7s 6us/step - loss: 1.3032e-04 - rmse: 0.0061 - r_square: 0.9874 - val_loss: 1.9687e-05 - val_rmse: 0.0027 - val_r_square: 0.9981\n",
      "Epoch 70/200\n",
      "1258680/1258680 [==============================] - 7s 5us/step - loss: 1.2877e-04 - rmse: 0.0060 - r_square: 0.9875 - val_loss: 2.0918e-05 - val_rmse: 0.0031 - val_r_square: 0.9980\n",
      "Epoch 71/200\n",
      "1258680/1258680 [==============================] - 7s 5us/step - loss: 1.2808e-04 - rmse: 0.0060 - r_square: 0.9876 - val_loss: 1.7010e-05 - val_rmse: 0.0026 - val_r_square: 0.9983\n",
      "Epoch 72/200\n",
      "1258680/1258680 [==============================] - 7s 6us/step - loss: 1.2908e-04 - rmse: 0.0061 - r_square: 0.9876 - val_loss: 2.3047e-05 - val_rmse: 0.0027 - val_r_square: 0.9978\n",
      "Epoch 73/200\n",
      "1258680/1258680 [==============================] - 7s 5us/step - loss: 1.2630e-04 - rmse: 0.0060 - r_square: 0.9878 - val_loss: 2.8238e-05 - val_rmse: 0.0032 - val_r_square: 0.9973\n",
      "Epoch 74/200\n",
      "1258680/1258680 [==============================] - 7s 6us/step - loss: 1.2813e-04 - rmse: 0.0060 - r_square: 0.9876 - val_loss: 1.9445e-05 - val_rmse: 0.0024 - val_r_square: 0.9981\n",
      "Epoch 75/200\n",
      "1258680/1258680 [==============================] - 7s 6us/step - loss: 1.2923e-04 - rmse: 0.0060 - r_square: 0.9875 - val_loss: 1.7912e-05 - val_rmse: 0.0024 - val_r_square: 0.9983\n",
      "Epoch 76/200\n",
      "1258680/1258680 [==============================] - 7s 5us/step - loss: 1.2974e-04 - rmse: 0.0060 - r_square: 0.9875 - val_loss: 1.7923e-05 - val_rmse: 0.0023 - val_r_square: 0.9983\n",
      "Epoch 77/200\n",
      "1258680/1258680 [==============================] - 7s 5us/step - loss: 1.2703e-04 - rmse: 0.0060 - r_square: 0.9877 - val_loss: 1.7902e-05 - val_rmse: 0.0026 - val_r_square: 0.9983\n",
      "Epoch 78/200\n",
      "1258680/1258680 [==============================] - 7s 5us/step - loss: 1.3279e-04 - rmse: 0.0061 - r_square: 0.9872 - val_loss: 1.7857e-05 - val_rmse: 0.0026 - val_r_square: 0.9983\n",
      "Epoch 79/200\n",
      "1258680/1258680 [==============================] - 7s 5us/step - loss: 1.3160e-04 - rmse: 0.0061 - r_square: 0.9873 - val_loss: 6.8038e-05 - val_rmse: 0.0045 - val_r_square: 0.9935\n",
      "Epoch 80/200\n",
      "1258680/1258680 [==============================] - 7s 5us/step - loss: 1.2914e-04 - rmse: 0.0061 - r_square: 0.9874 - val_loss: 1.6078e-05 - val_rmse: 0.0027 - val_r_square: 0.9984\n",
      "Epoch 81/200\n",
      "1258680/1258680 [==============================] - 7s 6us/step - loss: 1.2871e-04 - rmse: 0.0060 - r_square: 0.9875 - val_loss: 2.6606e-05 - val_rmse: 0.0029 - val_r_square: 0.9974\n",
      "Epoch 82/200\n",
      "1258680/1258680 [==============================] - 7s 5us/step - loss: 1.2982e-04 - rmse: 0.0060 - r_square: 0.9874 - val_loss: 4.0310e-05 - val_rmse: 0.0038 - val_r_square: 0.9961\n",
      "Epoch 83/200\n",
      "1258680/1258680 [==============================] - 7s 6us/step - loss: 1.3014e-04 - rmse: 0.0061 - r_square: 0.9874 - val_loss: 1.8624e-05 - val_rmse: 0.0023 - val_r_square: 0.9982\n",
      "Epoch 84/200\n",
      "1258680/1258680 [==============================] - 7s 5us/step - loss: 1.2988e-04 - rmse: 0.0060 - r_square: 0.9875 - val_loss: 1.4667e-05 - val_rmse: 0.0022 - val_r_square: 0.9986\n",
      "Epoch 85/200\n"
     ]
    },
    {
     "name": "stdout",
     "output_type": "stream",
     "text": [
      "1258680/1258680 [==============================] - 7s 5us/step - loss: 1.3067e-04 - rmse: 0.0061 - r_square: 0.9874 - val_loss: 1.5665e-05 - val_rmse: 0.0022 - val_r_square: 0.9985\n",
      "Epoch 86/200\n",
      "1258680/1258680 [==============================] - 7s 5us/step - loss: 1.2999e-04 - rmse: 0.0061 - r_square: 0.9875 - val_loss: 2.0223e-05 - val_rmse: 0.0024 - val_r_square: 0.9981\n",
      "Epoch 87/200\n",
      "1258680/1258680 [==============================] - 7s 5us/step - loss: 1.2935e-04 - rmse: 0.0061 - r_square: 0.9875 - val_loss: 2.7797e-05 - val_rmse: 0.0030 - val_r_square: 0.9973\n",
      "Epoch 88/200\n",
      "1258680/1258680 [==============================] - 7s 5us/step - loss: 1.2934e-04 - rmse: 0.0060 - r_square: 0.9874 - val_loss: 1.9085e-05 - val_rmse: 0.0028 - val_r_square: 0.9981\n",
      "Epoch 89/200\n",
      "1258680/1258680 [==============================] - 7s 5us/step - loss: 1.2984e-04 - rmse: 0.0061 - r_square: 0.9874 - val_loss: 1.6339e-05 - val_rmse: 0.0024 - val_r_square: 0.9984\n",
      "Epoch 90/200\n",
      "1258680/1258680 [==============================] - 7s 5us/step - loss: 1.2932e-04 - rmse: 0.0061 - r_square: 0.9874 - val_loss: 1.9709e-05 - val_rmse: 0.0024 - val_r_square: 0.9981\n",
      "Epoch 91/200\n",
      "1258680/1258680 [==============================] - 7s 5us/step - loss: 1.2862e-04 - rmse: 0.0060 - r_square: 0.9875 - val_loss: 1.4335e-05 - val_rmse: 0.0024 - val_r_square: 0.9986\n",
      "Epoch 92/200\n",
      "1258680/1258680 [==============================] - 7s 5us/step - loss: 1.3177e-04 - rmse: 0.0061 - r_square: 0.9873 - val_loss: 1.8310e-05 - val_rmse: 0.0024 - val_r_square: 0.9982\n",
      "Epoch 93/200\n",
      "1258680/1258680 [==============================] - 7s 5us/step - loss: 1.3000e-04 - rmse: 0.0061 - r_square: 0.9876 - val_loss: 1.7407e-05 - val_rmse: 0.0028 - val_r_square: 0.9983\n",
      "Epoch 94/200\n",
      "1258680/1258680 [==============================] - 7s 5us/step - loss: 1.2954e-04 - rmse: 0.0061 - r_square: 0.9875 - val_loss: 2.1303e-05 - val_rmse: 0.0025 - val_r_square: 0.9979\n",
      "Epoch 95/200\n",
      "1258680/1258680 [==============================] - 7s 5us/step - loss: 1.2688e-04 - rmse: 0.0060 - r_square: 0.9877 - val_loss: 2.4820e-05 - val_rmse: 0.0036 - val_r_square: 0.9976\n",
      "Epoch 96/200\n",
      "1258680/1258680 [==============================] - 7s 5us/step - loss: 1.2735e-04 - rmse: 0.0060 - r_square: 0.9877 - val_loss: 2.2415e-05 - val_rmse: 0.0033 - val_r_square: 0.9978\n",
      "Epoch 97/200\n",
      "1258680/1258680 [==============================] - 7s 6us/step - loss: 1.3151e-04 - rmse: 0.0061 - r_square: 0.9872 - val_loss: 3.0744e-05 - val_rmse: 0.0034 - val_r_square: 0.9970\n",
      "Epoch 98/200\n",
      "1258680/1258680 [==============================] - 7s 5us/step - loss: 1.2922e-04 - rmse: 0.0060 - r_square: 0.9875 - val_loss: 3.8224e-05 - val_rmse: 0.0034 - val_r_square: 0.9963\n",
      "Epoch 99/200\n",
      "1258680/1258680 [==============================] - 7s 5us/step - loss: 1.3004e-04 - rmse: 0.0061 - r_square: 0.9874 - val_loss: 2.0093e-05 - val_rmse: 0.0025 - val_r_square: 0.9981\n",
      "Epoch 100/200\n",
      "1258680/1258680 [==============================] - 7s 5us/step - loss: 1.3093e-04 - rmse: 0.0061 - r_square: 0.9873 - val_loss: 2.3158e-05 - val_rmse: 0.0026 - val_r_square: 0.9978\n",
      "Epoch 101/200\n",
      "1258680/1258680 [==============================] - 7s 6us/step - loss: 1.2693e-04 - rmse: 0.0060 - r_square: 0.9877 - val_loss: 2.8292e-05 - val_rmse: 0.0029 - val_r_square: 0.9973\n",
      "Epoch 102/200\n",
      "1258680/1258680 [==============================] - 7s 6us/step - loss: 1.2741e-04 - rmse: 0.0060 - r_square: 0.9876 - val_loss: 1.9420e-05 - val_rmse: 0.0027 - val_r_square: 0.9981\n",
      "Epoch 103/200\n",
      "1258680/1258680 [==============================] - 7s 6us/step - loss: 1.2615e-04 - rmse: 0.0060 - r_square: 0.9878 - val_loss: 1.7226e-05 - val_rmse: 0.0022 - val_r_square: 0.9984\n",
      "Epoch 104/200\n",
      "1258680/1258680 [==============================] - 7s 5us/step - loss: 1.3067e-04 - rmse: 0.0061 - r_square: 0.9874 - val_loss: 1.7885e-05 - val_rmse: 0.0029 - val_r_square: 0.9983\n",
      "Epoch 105/200\n",
      "1258680/1258680 [==============================] - 7s 5us/step - loss: 1.3382e-04 - rmse: 0.0061 - r_square: 0.9871 - val_loss: 1.8866e-05 - val_rmse: 0.0026 - val_r_square: 0.9982\n",
      "Epoch 106/200\n",
      "1258680/1258680 [==============================] - 7s 5us/step - loss: 1.2959e-04 - rmse: 0.0060 - r_square: 0.9874 - val_loss: 2.1041e-05 - val_rmse: 0.0028 - val_r_square: 0.9980\n",
      "Epoch 107/200\n",
      "1258680/1258680 [==============================] - 7s 5us/step - loss: 1.2707e-04 - rmse: 0.0060 - r_square: 0.9877 - val_loss: 3.0792e-05 - val_rmse: 0.0030 - val_r_square: 0.9970\n",
      "Epoch 108/200\n",
      "1258680/1258680 [==============================] - 7s 5us/step - loss: 1.2938e-04 - rmse: 0.0061 - r_square: 0.9875 - val_loss: 5.2567e-05 - val_rmse: 0.0044 - val_r_square: 0.9949\n",
      "Epoch 109/200\n",
      "1258680/1258680 [==============================] - 7s 5us/step - loss: 1.3053e-04 - rmse: 0.0061 - r_square: 0.9874 - val_loss: 3.0612e-05 - val_rmse: 0.0031 - val_r_square: 0.9971\n",
      "Epoch 110/200\n",
      "1258680/1258680 [==============================] - 7s 6us/step - loss: 1.2891e-04 - rmse: 0.0060 - r_square: 0.9875 - val_loss: 1.6679e-05 - val_rmse: 0.0023 - val_r_square: 0.9984\n",
      "Epoch 111/200\n",
      "1258680/1258680 [==============================] - 7s 5us/step - loss: 1.3199e-04 - rmse: 0.0061 - r_square: 0.9873 - val_loss: 2.5525e-05 - val_rmse: 0.0026 - val_r_square: 0.9975\n",
      "Epoch 112/200\n",
      "1258680/1258680 [==============================] - 7s 6us/step - loss: 1.2773e-04 - rmse: 0.0060 - r_square: 0.9877 - val_loss: 2.2905e-05 - val_rmse: 0.0030 - val_r_square: 0.9978\n",
      "Epoch 113/200\n",
      "1258680/1258680 [==============================] - 7s 6us/step - loss: 1.2756e-04 - rmse: 0.0060 - r_square: 0.9877 - val_loss: 2.3498e-05 - val_rmse: 0.0030 - val_r_square: 0.9977\n",
      "Epoch 114/200\n",
      "1258680/1258680 [==============================] - 7s 5us/step - loss: 1.2921e-04 - rmse: 0.0060 - r_square: 0.9876 - val_loss: 3.8060e-05 - val_rmse: 0.0036 - val_r_square: 0.9964\n",
      "Epoch 115/200\n",
      "1258680/1258680 [==============================] - 7s 5us/step - loss: 1.3345e-04 - rmse: 0.0061 - r_square: 0.9871 - val_loss: 2.4927e-05 - val_rmse: 0.0028 - val_r_square: 0.9976\n",
      "Epoch 116/200\n",
      "1258680/1258680 [==============================] - 7s 5us/step - loss: 1.2756e-04 - rmse: 0.0060 - r_square: 0.9876 - val_loss: 1.9144e-05 - val_rmse: 0.0025 - val_r_square: 0.9982\n",
      "Epoch 00116: early stopping\n"
     ]
    }
   ],
   "source": [
    "from keras.layers.normalization import BatchNormalization\n",
    "model3 = Sequential([\n",
    "    BatchNormalization(),\n",
    "    Dense(64, activation='relu', input_shape=(7,)),\n",
    "    Dense(128, activation='relu'),\n",
    "    Dense(64, activation='relu'),\n",
    "    Dense(1, activation='linear'),\n",
    "])\n",
    "model3.compile(\n",
    "  optimizer='adam',\n",
    "  loss='mse',\n",
    "  metrics=[rmse, r_square],\n",
    ")\n",
    "# fit the model\n",
    "result3 = model3.fit(XX_train, \n",
    "                   yy_train,\n",
    "                   epochs = 200,\n",
    "                   batch_size=256,\n",
    "                   validation_data=(XX_validation, yy_validation),\n",
    "                   callbacks = [es]\n",
    "                  )"
   ]
  },
  {
   "cell_type": "code",
   "execution_count": 20,
   "metadata": {},
   "outputs": [
    {
     "name": "stdout",
     "output_type": "stream",
     "text": [
      "[[0.05443587]\n",
      " [0.00320067]\n",
      " [0.00082978]\n",
      " [0.0782204 ]\n",
      " [0.03396486]\n",
      " [0.00061673]\n",
      " [0.00061673]\n",
      " [0.1019396 ]\n",
      " [0.00114214]\n",
      " [0.00061673]]\n",
      "\n",
      "\n",
      "Mean absolute error (MAE):      0.002477\n",
      "Mean squared error (MSE):       0.000019\n",
      "Root mean squared error (RMSE): 0.004343\n",
      "R square (R^2):                 0.998224\n"
     ]
    }
   ],
   "source": [
    "predictions3 = model3.predict(X_test)\n",
    "print(predictions3[:10])\n",
    "print(\"\\n\")\n",
    "print(\"Mean absolute error (MAE):      %f\" % skm.mean_absolute_error(y_test,predictions3))\n",
    "print(\"Mean squared error (MSE):       %f\" % skm.mean_squared_error(y_test,predictions3))\n",
    "print(\"Root mean squared error (RMSE): %f\" % math.sqrt(skm.mean_squared_error(y_test,predictions3)))\n",
    "print(\"R square (R^2):                 %f\" % skm.r2_score(y_test,predictions3))"
   ]
  },
  {
   "cell_type": "code",
   "execution_count": null,
   "metadata": {},
   "outputs": [],
   "source": []
  },
  {
   "cell_type": "markdown",
   "metadata": {},
   "source": [
    "## Reference: \n",
    "&emsp;&emsp;What does 'Accuracy' mean in Regression? https://github.com/keras-team/keras/issues/7947 <br>\n",
    "&emsp;&emsp;https://keras.io/metrics/<br>\n",
    "&emsp;&emsp;Scale, Standardize, or Normalize with Scikit-Learn https://towardsdatascience.com/scale-standardize-or-normalize-with-scikit-learn-6ccc7d176a02 <br>\n",
    "&emsp;&emsp;The Day my Computer Won the Nobel Prize (Neural Network Option Pricing)  https://medium.com/datadriveninvestor/the-day-my-computer-won-the-nobel-prize-neural-network-option-pricing-d29b4379f1d2 <br>"
   ]
  }
 ],
 "metadata": {
  "kernelspec": {
   "display_name": "Python 3",
   "language": "python",
   "name": "python3"
  },
  "language_info": {
   "codemirror_mode": {
    "name": "ipython",
    "version": 3
   },
   "file_extension": ".py",
   "mimetype": "text/x-python",
   "name": "python",
   "nbconvert_exporter": "python",
   "pygments_lexer": "ipython3",
   "version": "3.6.5"
  }
 },
 "nbformat": 4,
 "nbformat_minor": 2
}
